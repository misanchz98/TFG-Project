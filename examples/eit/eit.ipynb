{
 "cells": [
  {
   "cell_type": "markdown",
   "source": [
    "# Illustration of how to use Experiment-impact-tracker\n"
   ],
   "metadata": {
    "collapsed": false
   }
  },
  {
   "cell_type": "markdown",
   "source": [
    "## 1. Load iris dataset"
   ],
   "metadata": {
    "collapsed": false
   }
  },
  {
   "cell_type": "code",
   "execution_count": 1,
   "outputs": [],
   "source": [
    "from sklearn import datasets\n",
    "\n",
    "iris = datasets.load_iris()\n",
    "X = iris[\"data\"][:,3:] # petal width\n",
    "y = (iris[\"target\"] == 2).astype('int64') # 1 if Virginica, else 0"
   ],
   "metadata": {
    "collapsed": false
   }
  },
  {
   "cell_type": "markdown",
   "source": [
    "## 2. Train and Track Logistic Regression model"
   ],
   "metadata": {
    "collapsed": false
   }
  },
  {
   "cell_type": "code",
   "execution_count": 2,
   "outputs": [
    {
     "name": "stdout",
     "output_type": "stream",
     "text": [
      "loading region bounding boxes for computing carbon emissions region, this may take a moment...\n",
      " 454/454... rate=534.25 Hz, eta=0:00:00, total=0:00:00  "
     ]
    },
    {
     "name": "stderr",
     "output_type": "stream",
     "text": [
      "INFO:Gathering system info for reproducibility...\n"
     ]
    },
    {
     "name": "stdout",
     "output_type": "stream",
     "text": [
      "\n",
      "Done!\n"
     ]
    },
    {
     "name": "stderr",
     "output_type": "stream",
     "text": [
      "INFO:Requested http://ipinfo.io/json\n",
      "INFO:Done initial setup and information gathering...\n",
      "INFO:Starting process to monitor power\n",
      "INFO:Datapoint timestamp took 5.1021575927734375e-05 seconds\n",
      "INFO:Datapoint cpu_count_adjusted_average_load took 9.250640869140625e-05 seconds\n",
      "INFO:Datapoint cpu_freq took 0.00012946128845214844 seconds\n",
      "INFO:Requesting thread shutdown.\n",
      "INFO:Datapoint disk_write_speed took 0.501983642578125 seconds\n",
      "INFO:Starting - Logging final info.\n",
      "INFO:Done - Logging final info.\n"
     ]
    },
    {
     "name": "stdout",
     "output_type": "stream",
     "text": [
      "Please find your experiment logs in: /tmp/tmp6djoak8y\n"
     ]
    }
   ],
   "source": [
    "from sklearn.linear_model import LogisticRegression\n",
    "from experiment_impact_tracker.compute_tracker import ImpactTracker\n",
    "import tempfile\n",
    "\n",
    "log_reg = LogisticRegression()\n",
    "\n",
    "# Create a temporary dir\n",
    "tmp_dir = tempfile.mkdtemp()\n",
    "\n",
    "with ImpactTracker(tmp_dir):\n",
    "    log_reg.fit(X,y)\n",
    "\n",
    "print(f\"Please find your experiment logs in: {tmp_dir}\")"
   ],
   "metadata": {
    "collapsed": false
   }
  },
  {
   "cell_type": "markdown",
   "source": [
    "## 3. Show results\n"
   ],
   "metadata": {
    "collapsed": false
   }
  },
  {
   "cell_type": "code",
   "execution_count": 3,
   "outputs": [
    {
     "name": "stderr",
     "output_type": "stream",
     "text": [
      "/home/misanchz/miniconda3/envs/TFG/lib/python3.10/site-packages/experiment_impact_tracker/data_interface.py:37: FutureWarning: Passing a negative integer is deprecated in version 1.0 and will not be supported in future version. Instead, use None to not limit the column width.\n",
      "  pd.set_option(\"display.max_colwidth\", -1)\n",
      "/home/misanchz/miniconda3/envs/TFG/lib/python3.10/site-packages/experiment_impact_tracker/data_utils.py:30: FutureWarning: pandas.io.json.json_normalize is deprecated, use pandas.json_normalize instead.\n",
      "  return json_normalize(json_array, max_level=max_level), json_array\n"
     ]
    },
    {
     "ename": "ValueError",
     "evalue": "Unable to get either GPU or CPU metric.",
     "output_type": "error",
     "traceback": [
      "\u001B[0;31m---------------------------------------------------------------------------\u001B[0m",
      "\u001B[0;31mValueError\u001B[0m                                Traceback (most recent call last)",
      "Cell \u001B[0;32mIn [3], line 3\u001B[0m\n\u001B[1;32m      1\u001B[0m \u001B[38;5;28;01mfrom\u001B[39;00m \u001B[38;5;21;01mexperiment_impact_tracker\u001B[39;00m\u001B[38;5;21;01m.\u001B[39;00m\u001B[38;5;21;01mdata_interface\u001B[39;00m \u001B[38;5;28;01mimport\u001B[39;00m DataInterface\n\u001B[0;32m----> 3\u001B[0m data_interface \u001B[38;5;241m=\u001B[39m \u001B[43mDataInterface\u001B[49m\u001B[43m(\u001B[49m\u001B[43m[\u001B[49m\u001B[43mtmp_dir\u001B[49m\u001B[43m]\u001B[49m\u001B[43m)\u001B[49m\n\u001B[1;32m      5\u001B[0m \u001B[38;5;28mprint\u001B[39m(\u001B[38;5;124m'\u001B[39m\u001B[38;5;124mkg: \u001B[39m\u001B[38;5;124m'\u001B[39m, data_interface\u001B[38;5;241m.\u001B[39mkg_carbon)\n\u001B[1;32m      6\u001B[0m \u001B[38;5;28mprint\u001B[39m(\u001B[38;5;124m'\u001B[39m\u001B[38;5;124mtotal_power: \u001B[39m\u001B[38;5;124m'\u001B[39m, data_interface\u001B[38;5;241m.\u001B[39mtotal_power)\n",
      "File \u001B[0;32m~/miniconda3/envs/TFG/lib/python3.10/site-packages/experiment_impact_tracker/data_interface.py:202\u001B[0m, in \u001B[0;36mDataInterface.__init__\u001B[0;34m(self, logdirs)\u001B[0m\n\u001B[1;32m    200\u001B[0m \u001B[38;5;28;01mfor\u001B[39;00m log_dir \u001B[38;5;129;01min\u001B[39;00m all_log_dirs:\n\u001B[1;32m    201\u001B[0m     info \u001B[38;5;241m=\u001B[39m load_initial_info(log_dir)\n\u001B[0;32m--> 202\u001B[0m     extracted_info \u001B[38;5;241m=\u001B[39m \u001B[43mgather_additional_info\u001B[49m\u001B[43m(\u001B[49m\u001B[43minfo\u001B[49m\u001B[43m,\u001B[49m\u001B[43m \u001B[49m\u001B[43mlog_dir\u001B[49m\u001B[43m)\u001B[49m\n\u001B[1;32m    203\u001B[0m     kg_carbon \u001B[38;5;241m+\u001B[39m\u001B[38;5;241m=\u001B[39m \u001B[38;5;28mfloat\u001B[39m(extracted_info[\u001B[38;5;124m\"\u001B[39m\u001B[38;5;124mestimated_carbon_impact_kg\u001B[39m\u001B[38;5;124m\"\u001B[39m])\n\u001B[1;32m    204\u001B[0m     total_power \u001B[38;5;241m+\u001B[39m\u001B[38;5;241m=\u001B[39m \u001B[38;5;28mfloat\u001B[39m(extracted_info[\u001B[38;5;124m\"\u001B[39m\u001B[38;5;124mtotal_power\u001B[39m\u001B[38;5;124m\"\u001B[39m])\n",
      "File \u001B[0;32m~/miniconda3/envs/TFG/lib/python3.10/site-packages/experiment_impact_tracker/utils.py:166\u001B[0m, in \u001B[0;36mgather_additional_info\u001B[0;34m(info, logdir)\u001B[0m\n\u001B[1;32m    164\u001B[0m     total_power_per_timestep \u001B[38;5;241m=\u001B[39m PUE \u001B[38;5;241m*\u001B[39m (kw_hr_nvidia)\n\u001B[1;32m    165\u001B[0m \u001B[38;5;28;01melse\u001B[39;00m:\n\u001B[0;32m--> 166\u001B[0m     \u001B[38;5;28;01mraise\u001B[39;00m \u001B[38;5;167;01mValueError\u001B[39;00m(\u001B[38;5;124m\"\u001B[39m\u001B[38;5;124mUnable to get either GPU or CPU metric.\u001B[39m\u001B[38;5;124m\"\u001B[39m)\n\u001B[1;32m    168\u001B[0m realtime_carbon \u001B[38;5;241m=\u001B[39m \u001B[38;5;28;01mNone\u001B[39;00m\n\u001B[1;32m    169\u001B[0m total_power \u001B[38;5;241m=\u001B[39m (\n\u001B[1;32m    170\u001B[0m     total_power_per_timestep\u001B[38;5;241m.\u001B[39msum() \u001B[38;5;28;01mif\u001B[39;00m total_power_per_timestep \u001B[38;5;129;01mis\u001B[39;00m \u001B[38;5;129;01mnot\u001B[39;00m \u001B[38;5;28;01mNone\u001B[39;00m \u001B[38;5;28;01melse\u001B[39;00m \u001B[38;5;28;01mNone\u001B[39;00m\n\u001B[1;32m    171\u001B[0m )\n",
      "\u001B[0;31mValueError\u001B[0m: Unable to get either GPU or CPU metric."
     ]
    }
   ],
   "source": [
    "from experiment_impact_tracker.data_interface import DataInterface\n",
    "\n",
    "data_interface = DataInterface([tmp_dir])\n",
    "\n",
    "print('kg: ', data_interface.kg_carbon)\n",
    "print('total_power: ', data_interface.total_power)\n",
    "print('exp_len_hours', data_interface.exp_len_hours)"
   ],
   "metadata": {
    "collapsed": false
   }
  }
 ],
 "metadata": {
  "kernelspec": {
   "display_name": "Python 3",
   "language": "python",
   "name": "python3"
  },
  "language_info": {
   "codemirror_mode": {
    "name": "ipython",
    "version": 2
   },
   "file_extension": ".py",
   "mimetype": "text/x-python",
   "name": "python",
   "nbconvert_exporter": "python",
   "pygments_lexer": "ipython2",
   "version": "2.7.6"
  }
 },
 "nbformat": 4,
 "nbformat_minor": 0
}
