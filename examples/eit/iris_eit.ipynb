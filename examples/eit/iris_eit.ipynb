{
 "cells": [
  {
   "cell_type": "markdown",
   "source": [
    "# Illustration of how to use Experiment-impact-tracker\n"
   ],
   "metadata": {
    "collapsed": false
   }
  },
  {
   "cell_type": "markdown",
   "source": [
    "## 1. Load iris dataset"
   ],
   "metadata": {
    "collapsed": false
   }
  },
  {
   "cell_type": "code",
   "execution_count": 1,
   "outputs": [],
   "source": [
    "from sklearn import datasets\n",
    "\n",
    "iris = datasets.load_iris()\n",
    "X = iris[\"data\"][:,3:] # petal width\n",
    "y = (iris[\"target\"] == 2).astype('int64') # 1 if Virginica, else 0"
   ],
   "metadata": {
    "collapsed": false
   }
  },
  {
   "cell_type": "markdown",
   "source": [
    "## 2. Train and Track Logistic Regression model"
   ],
   "metadata": {
    "collapsed": false
   }
  },
  {
   "cell_type": "code",
   "execution_count": 2,
   "outputs": [
    {
     "name": "stdout",
     "output_type": "stream",
     "text": [
      "loading region bounding boxes for computing carbon emissions region, this may take a moment...\n",
      " 454/454... rate=461.84 Hz, eta=0:00:00, total=0:00:00  "
     ]
    },
    {
     "name": "stderr",
     "output_type": "stream",
     "text": [
      "experiment_impact_tracker.compute_tracker.ImpactTracker - WARNING - Gathering system info for reproducibility...\n"
     ]
    },
    {
     "name": "stdout",
     "output_type": "stream",
     "text": [
      "\n",
      "Done!\n"
     ]
    },
    {
     "ename": "ParseError",
     "evalue": "syntax error: line 1, column 0 (<string>)",
     "output_type": "error",
     "traceback": [
      "Traceback \u001B[0;36m(most recent call last)\u001B[0m:\n",
      "\u001B[0m  File \u001B[1;32m~/miniconda3/envs/TFG/lib/python3.10/site-packages/IPython/core/interactiveshell.py:3433\u001B[0m in \u001B[1;35mrun_code\u001B[0m\n    exec(code_obj, self.user_global_ns, self.user_ns)\u001B[0m\n",
      "\u001B[0m  Cell \u001B[1;32mIn [2], line 10\u001B[0m\n    with ImpactTracker(tmp_dir):\u001B[0m\n",
      "\u001B[0m  File \u001B[1;32m~/miniconda3/envs/TFG/lib/python3.10/site-packages/experiment_impact_tracker/compute_tracker.py:173\u001B[0m in \u001B[1;35m__init__\u001B[0m\n    self.initial_info = gather_initial_info(logdir)\u001B[0m\n",
      "\u001B[0m  File \u001B[1;32m~/miniconda3/envs/TFG/lib/python3.10/site-packages/experiment_impact_tracker/compute_tracker.py:150\u001B[0m in \u001B[1;35mgather_initial_info\u001B[0m\n    data[key] = info_[\"routing\"][\"function\"]()\u001B[0m\n",
      "\u001B[0m  File \u001B[1;32m~/miniconda3/envs/TFG/lib/python3.10/site-packages/experiment_impact_tracker/gpu/nvidia.py:42\u001B[0m in \u001B[1;35mget_gpu_info\u001B[0m\n    xml = fromstring(outs)\u001B[0m\n",
      "\u001B[0;36m  File \u001B[0;32m~/miniconda3/envs/TFG/lib/python3.10/xml/etree/ElementTree.py:1342\u001B[0;36m in \u001B[0;35mXML\u001B[0;36m\n\u001B[0;31m    parser.feed(text)\u001B[0;36m\n",
      "\u001B[0;36m  File \u001B[0;32m<string>\u001B[0;36m\u001B[0m\n\u001B[0;31mParseError\u001B[0m\u001B[0;31m:\u001B[0m syntax error: line 1, column 0\n"
     ]
    }
   ],
   "source": [
    "from sklearn.linear_model import LogisticRegression\n",
    "from experiment_impact_tracker.compute_tracker import ImpactTracker\n",
    "import tempfile\n",
    "\n",
    "log_reg = LogisticRegression()\n",
    "\n",
    "# Create a temporary dir\n",
    "tmp_dir = tempfile.mkdtemp()\n",
    "\n",
    "with ImpactTracker(tmp_dir):\n",
    "    log_reg.fit(X,y)\n",
    "\n",
    "print(f\"Please find your experiment logs in: {tmp_dir}\")"
   ],
   "metadata": {
    "collapsed": false
   }
  },
  {
   "cell_type": "markdown",
   "source": [
    "## 3. Show results\n"
   ],
   "metadata": {
    "collapsed": false
   }
  },
  {
   "cell_type": "code",
   "execution_count": null,
   "outputs": [],
   "source": [
    "from experiment_impact_tracker.data_interface import DataInterface\n",
    "\n",
    "data_interface = DataInterface([tmp_dir])\n",
    "\n",
    "print('kg: ', data_interface.kg_carbon)\n",
    "print('total_power: ', data_interface.total_power)\n",
    "print('exp_len_hours', data_interface.exp_len_hours)"
   ],
   "metadata": {
    "collapsed": false
   }
  }
 ],
 "metadata": {
  "kernelspec": {
   "display_name": "Python 3",
   "language": "python",
   "name": "python3"
  },
  "language_info": {
   "codemirror_mode": {
    "name": "ipython",
    "version": 2
   },
   "file_extension": ".py",
   "mimetype": "text/x-python",
   "name": "python",
   "nbconvert_exporter": "python",
   "pygments_lexer": "ipython2",
   "version": "2.7.6"
  }
 },
 "nbformat": 4,
 "nbformat_minor": 0
}
