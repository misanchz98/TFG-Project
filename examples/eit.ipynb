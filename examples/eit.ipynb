{
 "cells": [
  {
   "cell_type": "markdown",
   "source": [
    "# Illustration of how to use Experiment-impact-tracker\n"
   ],
   "metadata": {
    "collapsed": false
   }
  },
  {
   "cell_type": "markdown",
   "source": [
    "## 1. Load iris dataset"
   ],
   "metadata": {
    "collapsed": false
   }
  },
  {
   "cell_type": "code",
   "execution_count": 7,
   "outputs": [],
   "source": [
    "from sklearn import datasets\n",
    "\n",
    "iris = datasets.load_iris()\n",
    "X = iris[\"data\"][:,3:] # petal width\n",
    "y = (iris[\"target\"] == 2).astype('int64') # 1 if Virginica, else 0"
   ],
   "metadata": {
    "collapsed": false
   }
  },
  {
   "cell_type": "markdown",
   "source": [
    "## 2. Train and Track Logistic Regression model"
   ],
   "metadata": {
    "collapsed": false
   }
  },
  {
   "cell_type": "code",
   "execution_count": 8,
   "outputs": [
    {
     "name": "stderr",
     "output_type": "stream",
     "text": [
      "experiment_impact_tracker.compute_tracker.ImpactTracker - WARNING - Gathering system info for reproducibility...\n",
      "experiment_impact_tracker.compute_tracker.ImpactTracker - WARNING - Gathering system info for reproducibility...\n",
      "experiment_impact_tracker.compute_tracker.ImpactTracker - WARNING - Gathering system info for reproducibility...\n",
      "experiment_impact_tracker.compute_tracker.ImpactTracker - WARNING - Gathering system info for reproducibility...\n",
      "experiment_impact_tracker.compute_tracker.ImpactTracker - WARNING - Done initial setup and information gathering...\n",
      "experiment_impact_tracker.compute_tracker.ImpactTracker - WARNING - Done initial setup and information gathering...\n",
      "experiment_impact_tracker.compute_tracker.ImpactTracker - WARNING - Done initial setup and information gathering...\n",
      "experiment_impact_tracker.compute_tracker.ImpactTracker - WARNING - Done initial setup and information gathering...\n",
      "experiment_impact_tracker.compute_tracker.ImpactTracker - WARNING - Starting process to monitor power\n",
      "experiment_impact_tracker.compute_tracker.ImpactTracker - WARNING - Starting process to monitor power\n"
     ]
    },
    {
     "name": "stdout",
     "output_type": "stream",
     "text": [
      "Please find your experiment logs in: /tmp/tmpd0eedrlt\n"
     ]
    },
    {
     "name": "stderr",
     "output_type": "stream",
     "text": [
      "experiment_impact_tracker.compute_tracker.ImpactTracker - WARNING - Starting process to monitor power\n",
      "experiment_impact_tracker.compute_tracker.ImpactTracker - WARNING - Starting process to monitor power\n",
      "experiment_impact_tracker.compute_tracker.ImpactTracker - WARNING - Datapoint timestamp took 6.437301635742188e-05 seconds\n",
      "experiment_impact_tracker.compute_tracker.ImpactTracker - WARNING - Datapoint timestamp took 6.437301635742188e-05 seconds\n",
      "experiment_impact_tracker.compute_tracker.ImpactTracker - WARNING - Datapoint timestamp took 6.437301635742188e-05 seconds\n",
      "experiment_impact_tracker.compute_tracker.ImpactTracker - WARNING - Datapoint timestamp took 6.437301635742188e-05 seconds\n",
      "experiment_impact_tracker.compute_tracker.ImpactTracker - WARNING - Datapoint cpu_count_adjusted_average_load took 0.0001583099365234375 seconds\n"
     ]
    }
   ],
   "source": [
    "from sklearn.linear_model import LogisticRegression\n",
    "from experiment_impact_tracker.compute_tracker import ImpactTracker\n",
    "import tempfile\n",
    "\n",
    "log_reg = LogisticRegression()\n",
    "\n",
    "# Create a temporary dir\n",
    "tmp_dir = tempfile.mkdtemp()\n",
    "\n",
    "# Init tracker with log path\n",
    "tracker = ImpactTracker(tmp_dir)\n",
    "\n",
    "# Start tracker in a separate process\n",
    "tracker.launch_impact_monitor()\n",
    "\n",
    "# Optional. Adding this will ensure that your experiment stops if impact tracker throws an exception and exit.\n",
    "tracker.get_latest_info_and_check_for_errors()\n",
    "\n",
    "# Train model\n",
    "log_reg.fit(X,y)\n",
    "\n",
    "print(f\"Please find your experiment logs in: {tmp_dir}\")"
   ],
   "metadata": {
    "collapsed": false
   }
  },
  {
   "cell_type": "markdown",
   "source": [
    "## 3. Show results\n"
   ],
   "metadata": {
    "collapsed": false
   }
  },
  {
   "cell_type": "code",
   "execution_count": 9,
   "outputs": [
    {
     "ename": "ModuleNotFoundError",
     "evalue": "No module named 'experiment_impact_tracker.data_interface'",
     "output_type": "error",
     "traceback": [
      "\u001B[0;31m---------------------------------------------------------------------------\u001B[0m",
      "\u001B[0;31mModuleNotFoundError\u001B[0m                       Traceback (most recent call last)",
      "Cell \u001B[0;32mIn [9], line 1\u001B[0m\n\u001B[0;32m----> 1\u001B[0m \u001B[38;5;28;01mfrom\u001B[39;00m \u001B[38;5;21;01mexperiment_impact_tracker\u001B[39;00m\u001B[38;5;21;01m.\u001B[39;00m\u001B[38;5;21;01mdata_interface\u001B[39;00m \u001B[38;5;28;01mimport\u001B[39;00m DataInterface\n\u001B[1;32m      3\u001B[0m data_interface \u001B[38;5;241m=\u001B[39m DataInterface([tmp_dir])\n\u001B[1;32m      5\u001B[0m \u001B[38;5;28mprint\u001B[39m(\u001B[38;5;124m'\u001B[39m\u001B[38;5;124mkg: \u001B[39m\u001B[38;5;124m'\u001B[39m, data_interface\u001B[38;5;241m.\u001B[39mkg_carbon)\n",
      "\u001B[0;31mModuleNotFoundError\u001B[0m: No module named 'experiment_impact_tracker.data_interface'"
     ]
    }
   ],
   "source": [
    "from experiment_impact_tracker.data_interface import DataInterface\n",
    "\n",
    "data_interface = DataInterface([tmp_dir])\n",
    "\n",
    "print('kg: ', data_interface.kg_carbon)\n",
    "print('total_power: ', data_interface.total_power)"
   ],
   "metadata": {
    "collapsed": false
   }
  }
 ],
 "metadata": {
  "kernelspec": {
   "display_name": "Python 3",
   "language": "python",
   "name": "python3"
  },
  "language_info": {
   "codemirror_mode": {
    "name": "ipython",
    "version": 2
   },
   "file_extension": ".py",
   "mimetype": "text/x-python",
   "name": "python",
   "nbconvert_exporter": "python",
   "pygments_lexer": "ipython2",
   "version": "2.7.6"
  }
 },
 "nbformat": 4,
 "nbformat_minor": 0
}
