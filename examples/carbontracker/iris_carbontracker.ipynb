{
 "cells": [
  {
   "cell_type": "markdown",
   "source": [
    "# Illustration of how to use Carbontracker\n",
    "\n",
    "Same example in Google Colab: [https://colab.research.google.com/drive/1hYZ6ePWgWZY5Bo_BorJgyBoHfc-5KnVC?hl=es#scrollTo=BvonxlbTqdiL](https://colab.research.google.com/drive/1hYZ6ePWgWZY5Bo_BorJgyBoHfc-5KnVC?hl=es#scrollTo=BvonxlbTqdiL)"
   ],
   "metadata": {
    "collapsed": false
   }
  },
  {
   "cell_type": "markdown",
   "source": [
    "## 1. Load iris dataset"
   ],
   "metadata": {
    "collapsed": false
   }
  },
  {
   "cell_type": "code",
   "execution_count": 1,
   "outputs": [],
   "source": [
    "from sklearn import datasets\n",
    "\n",
    "iris = datasets.load_iris()\n",
    "X = iris[\"data\"][:,3:] # petal width\n",
    "y = (iris[\"target\"] == 2).astype('int64') # 1 if Virginica, else 0"
   ],
   "metadata": {
    "collapsed": false
   }
  },
  {
   "cell_type": "markdown",
   "source": [
    "## 2. Train and Track Logistic Regression model"
   ],
   "metadata": {
    "collapsed": false
   }
  },
  {
   "cell_type": "code",
   "execution_count": 2,
   "outputs": [
    {
     "name": "stdout",
     "output_type": "stream",
     "text": [
      "CarbonTracker: The following components were found: CPU with device(s) .\n",
      "CarbonTracker: WARNING - Epoch duration is too short for a measurement to be collected.\n",
      "CarbonTracker: \n",
      "Actual consumption for 1 epoch(s):\n",
      "\tTime:\t0:00:00\n",
      "\tEnergy:\t0.000000 kWh\n",
      "\tCO2eq:\t0.000000 g\n",
      "\tThis is equivalent to:\n",
      "\t0.000000 km travelled by car\n",
      "CarbonTracker: \n",
      "Predicted consumption for 10 epoch(s):\n",
      "\tTime:\t0:00:01\n",
      "\tEnergy:\t0.000000 kWh\n",
      "\tCO2eq:\t0.000000 g\n",
      "\tThis is equivalent to:\n",
      "\t0.000000 km travelled by car\n",
      "CarbonTracker: Finished monitoring.\n"
     ]
    }
   ],
   "source": [
    "from sklearn.linear_model import LogisticRegression\n",
    "from carbontracker.tracker import CarbonTracker\n",
    "\n",
    "max_epochs = 10\n",
    "tracker = CarbonTracker(epochs=max_epochs)\n",
    "\n",
    "log_reg = LogisticRegression()\n",
    "\n",
    "for epoch in range(max_epochs):\n",
    "    tracker.epoch_start()\n",
    "\n",
    "    log_reg.fit(X,y)\n",
    "\n",
    "    tracker.epoch_end()\n",
    "\n",
    "tracker.stop()"
   ],
   "metadata": {
    "collapsed": false
   }
  }
 ],
 "metadata": {
  "kernelspec": {
   "display_name": "Python 3",
   "language": "python",
   "name": "python3"
  },
  "language_info": {
   "codemirror_mode": {
    "name": "ipython",
    "version": 2
   },
   "file_extension": ".py",
   "mimetype": "text/x-python",
   "name": "python",
   "nbconvert_exporter": "python",
   "pygments_lexer": "ipython2",
   "version": "2.7.6"
  }
 },
 "nbformat": 4,
 "nbformat_minor": 0
}
