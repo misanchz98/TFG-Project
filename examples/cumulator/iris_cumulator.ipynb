{
 "cells": [
  {
   "cell_type": "markdown",
   "source": [
    "# Illustration of how to use Cumulator"
   ],
   "metadata": {
    "collapsed": false
   }
  },
  {
   "cell_type": "markdown",
   "source": [
    "## 1. Load iris dataset"
   ],
   "metadata": {
    "collapsed": false
   }
  },
  {
   "cell_type": "code",
   "execution_count": 1,
   "outputs": [],
   "source": [
    "from sklearn import datasets\n",
    "\n",
    "iris = datasets.load_iris()\n",
    "X = iris[\"data\"][:,3:] # petal width\n",
    "y = (iris[\"target\"] == 2).astype('int64') # 1 if Virginica, else 0"
   ],
   "metadata": {
    "collapsed": false
   }
  },
  {
   "cell_type": "markdown",
   "source": [
    "## 2. Train and Track Logistic Regression model"
   ],
   "metadata": {
    "collapsed": false
   }
  },
  {
   "cell_type": "code",
   "execution_count": 2,
   "outputs": [
    {
     "name": "stdout",
     "output_type": "stream",
     "text": [
      "CPU recognized: TDP set to 65\n",
      "Computation costs:  2.1278656191296045e-05\n",
      "Total carbon footprint 2.1278656191296045e-05\n",
      "########\n",
      "Overall carbon footprint: 2.13e-05 gCO2eq\n",
      "########\n",
      "Carbon footprint due to computations: 2.13e-05 gCO2eq\n",
      "Carbon footprint due to communications: 0.00e+00 gCO2eq\n",
      "This carbon footprint is equivalent to 1.04e-12 garbage trucks of waste recycled instead of landfilled.\n"
     ]
    }
   ],
   "source": [
    "from sklearn.linear_model import LogisticRegression\n",
    "from src.cumulator import base\n",
    "\n",
    "cumulator = base.Cumulator()\n",
    "log_reg = LogisticRegression()\n",
    "\n",
    "cumulator.run(log_reg.fit, X=X, y=y)\n",
    "# Show results\n",
    "print('Computation costs: ', cumulator.computation_costs())\n",
    "print('Total carbon footprint', cumulator.total_carbon_footprint())\n",
    "cumulator.display_carbon_footprint()"
   ],
   "metadata": {
    "collapsed": false
   }
  }
 ],
 "metadata": {
  "kernelspec": {
   "display_name": "Python 3",
   "language": "python",
   "name": "python3"
  },
  "language_info": {
   "codemirror_mode": {
    "name": "ipython",
    "version": 2
   },
   "file_extension": ".py",
   "mimetype": "text/x-python",
   "name": "python",
   "nbconvert_exporter": "python",
   "pygments_lexer": "ipython2",
   "version": "2.7.6"
  }
 },
 "nbformat": 4,
 "nbformat_minor": 0
}
