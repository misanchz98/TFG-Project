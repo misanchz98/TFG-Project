{
 "cells": [
  {
   "cell_type": "markdown",
   "source": [
    "# Illustration of how to use CodeCarbon"
   ],
   "metadata": {
    "collapsed": false
   }
  },
  {
   "cell_type": "markdown",
   "source": [
    "## 1. Load iris dataset"
   ],
   "metadata": {
    "collapsed": false
   }
  },
  {
   "cell_type": "code",
   "execution_count": 1,
   "outputs": [],
   "source": [
    "from sklearn import datasets\n",
    "\n",
    "iris = datasets.load_iris()\n",
    "X = iris[\"data\"][:,3:] # petal width\n",
    "y = (iris[\"target\"] == 2).astype('int64') # 1 if Virginica, else 0"
   ],
   "metadata": {
    "collapsed": false
   }
  },
  {
   "cell_type": "markdown",
   "source": [
    "## 2. Train and Track Logistic Regression model"
   ],
   "metadata": {
    "collapsed": false
   }
  },
  {
   "cell_type": "code",
   "execution_count": 2,
   "outputs": [
    {
     "name": "stderr",
     "output_type": "stream",
     "text": [
      "[codecarbon INFO @ 11:17:13] [setup] RAM Tracking...\n",
      "[codecarbon INFO @ 11:17:13] [setup] GPU Tracking...\n",
      "[codecarbon INFO @ 11:17:13] No GPU found.\n",
      "[codecarbon INFO @ 11:17:13] [setup] CPU Tracking...\n",
      "[codecarbon WARNING @ 11:17:13] No CPU tracking mode found. Falling back on CPU constant mode.\n",
      "[codecarbon INFO @ 11:17:15] CPU Model on constant consumption mode: Intel(R) Core(TM) i5-9400F CPU @ 2.90GHz\n",
      "[codecarbon INFO @ 11:17:15] >>> Tracker's metadata:\n",
      "[codecarbon INFO @ 11:17:15]   Platform system: Linux-4.15.0-29-generic-x86_64-with-glibc2.23\n",
      "[codecarbon INFO @ 11:17:15]   Python version: 3.10.8\n",
      "[codecarbon INFO @ 11:17:15]   Available RAM : 4.938 GB\n",
      "[codecarbon INFO @ 11:17:15]   CPU count: 4\n",
      "[codecarbon INFO @ 11:17:15]   CPU model: Intel(R) Core(TM) i5-9400F CPU @ 2.90GHz\n",
      "[codecarbon INFO @ 11:17:15]   GPU count: None\n",
      "[codecarbon INFO @ 11:17:15]   GPU model: None\n",
      "[codecarbon INFO @ 11:17:18] Energy consumed for RAM : 0.000000 kWh. RAM Power : 1.8517456054687502 W\n",
      "[codecarbon INFO @ 11:17:18] Energy consumed for all CPUs : 0.000000 kWh. All CPUs Power : 32.5 W\n",
      "[codecarbon INFO @ 11:17:18] 0.000000 kWh of electricity used since the begining.\n"
     ]
    },
    {
     "name": "stdout",
     "output_type": "stream",
     "text": [
      "Emissions: 7.798688525160995e-08 kg\n"
     ]
    }
   ],
   "source": [
    "from codecarbon import EmissionsTracker\n",
    "from sklearn.linear_model import LogisticRegression\n",
    "\n",
    "tracker = EmissionsTracker()\n",
    "log_reg = LogisticRegression()\n",
    "\n",
    "tracker.start()\n",
    "log_reg.fit(X,y)\n",
    "emissions: float = tracker.stop()\n",
    "print(f\"Emissions: {emissions} kg\")"
   ],
   "metadata": {
    "collapsed": false
   }
  },
  {
   "cell_type": "markdown",
   "source": [
    "## 3. Show results"
   ],
   "metadata": {
    "collapsed": false
   }
  },
  {
   "cell_type": "code",
   "execution_count": 3,
   "outputs": [
    {
     "data": {
      "text/plain": "             timestamp project_name                                run_id  \\\n0  2022-11-13T18:48:10   codecarbon  d2713223-1933-4196-9490-b19c0dbb5b75   \n1  2022-11-15T16:51:58   codecarbon  f1351177-dc6e-4cb5-acb8-970e8db9bc40   \n2  2022-11-15T16:52:52   codecarbon  99b698ac-7e57-43be-810d-a66e5c33c7fd   \n3  2022-11-15T16:53:46   codecarbon  c8c2c41a-ed45-45f3-8b6a-78b16b4bfc79   \n4  2022-11-17T17:12:20   codecarbon  cfc8b227-fa22-4602-b285-ae417ba478f8   \n5  2022-11-27T11:17:18   codecarbon  cd35bf23-147f-4253-9b1c-0c7122e49aac   \n\n    duration     emissions  emissions_rate  cpu_power  gpu_power  ram_power  \\\n0   0.048039  8.477409e-08        0.001765       32.5        0.0   1.855067   \n1  51.663593  9.366154e-05        0.001813       32.5        0.0   1.855063   \n2  43.106440  7.815403e-05        0.001813       32.5        0.0   1.855063   \n3  42.435588  7.693753e-05        0.001813       32.5        0.0   1.855063   \n4  45.051915  8.168037e-05        0.001813       32.5        0.0   1.855069   \n5   0.045350  7.798689e-08        0.001720       32.5        0.0   1.851746   \n\n     cpu_energy  ...  python_version  cpu_count  \\\n0  4.227983e-07  ...          3.10.6          4   \n1  4.663412e-04  ...          3.10.6          4   \n2  3.891304e-04  ...          3.10.6          4   \n3  3.830717e-04  ...          3.10.6          4   \n4  4.066863e-04  ...          3.10.6          4   \n5  3.893695e-07  ...          3.10.8          4   \n\n                                  cpu_model gpu_count gpu_model longitude  \\\n0  Intel(R) Core(TM) i5-9400F CPU @ 2.90GHz       NaN       NaN   -3.6934   \n1  Intel(R) Core(TM) i5-9400F CPU @ 2.90GHz       NaN       NaN   -3.6934   \n2  Intel(R) Core(TM) i5-9400F CPU @ 2.90GHz       NaN       NaN   -3.6934   \n3  Intel(R) Core(TM) i5-9400F CPU @ 2.90GHz       NaN       NaN   -3.6934   \n4  Intel(R) Core(TM) i5-9400F CPU @ 2.90GHz       NaN       NaN   -3.6934   \n5  Intel(R) Core(TM) i5-9400F CPU @ 2.90GHz       NaN       NaN   -3.6934   \n\n   latitude  ram_total_size tracking_mode on_cloud  \n0   40.4163        4.946846       machine        N  \n1   40.4163        4.946835       machine        N  \n2   40.4163        4.946835       machine        N  \n3   40.4163        4.946835       machine        N  \n4   40.4163        4.946850       machine        N  \n5   40.4163        4.937988       machine        N  \n\n[6 rows x 29 columns]",
      "text/html": "<div>\n<style scoped>\n    .dataframe tbody tr th:only-of-type {\n        vertical-align: middle;\n    }\n\n    .dataframe tbody tr th {\n        vertical-align: top;\n    }\n\n    .dataframe thead th {\n        text-align: right;\n    }\n</style>\n<table border=\"1\" class=\"dataframe\">\n  <thead>\n    <tr style=\"text-align: right;\">\n      <th></th>\n      <th>timestamp</th>\n      <th>project_name</th>\n      <th>run_id</th>\n      <th>duration</th>\n      <th>emissions</th>\n      <th>emissions_rate</th>\n      <th>cpu_power</th>\n      <th>gpu_power</th>\n      <th>ram_power</th>\n      <th>cpu_energy</th>\n      <th>...</th>\n      <th>python_version</th>\n      <th>cpu_count</th>\n      <th>cpu_model</th>\n      <th>gpu_count</th>\n      <th>gpu_model</th>\n      <th>longitude</th>\n      <th>latitude</th>\n      <th>ram_total_size</th>\n      <th>tracking_mode</th>\n      <th>on_cloud</th>\n    </tr>\n  </thead>\n  <tbody>\n    <tr>\n      <th>0</th>\n      <td>2022-11-13T18:48:10</td>\n      <td>codecarbon</td>\n      <td>d2713223-1933-4196-9490-b19c0dbb5b75</td>\n      <td>0.048039</td>\n      <td>8.477409e-08</td>\n      <td>0.001765</td>\n      <td>32.5</td>\n      <td>0.0</td>\n      <td>1.855067</td>\n      <td>4.227983e-07</td>\n      <td>...</td>\n      <td>3.10.6</td>\n      <td>4</td>\n      <td>Intel(R) Core(TM) i5-9400F CPU @ 2.90GHz</td>\n      <td>NaN</td>\n      <td>NaN</td>\n      <td>-3.6934</td>\n      <td>40.4163</td>\n      <td>4.946846</td>\n      <td>machine</td>\n      <td>N</td>\n    </tr>\n    <tr>\n      <th>1</th>\n      <td>2022-11-15T16:51:58</td>\n      <td>codecarbon</td>\n      <td>f1351177-dc6e-4cb5-acb8-970e8db9bc40</td>\n      <td>51.663593</td>\n      <td>9.366154e-05</td>\n      <td>0.001813</td>\n      <td>32.5</td>\n      <td>0.0</td>\n      <td>1.855063</td>\n      <td>4.663412e-04</td>\n      <td>...</td>\n      <td>3.10.6</td>\n      <td>4</td>\n      <td>Intel(R) Core(TM) i5-9400F CPU @ 2.90GHz</td>\n      <td>NaN</td>\n      <td>NaN</td>\n      <td>-3.6934</td>\n      <td>40.4163</td>\n      <td>4.946835</td>\n      <td>machine</td>\n      <td>N</td>\n    </tr>\n    <tr>\n      <th>2</th>\n      <td>2022-11-15T16:52:52</td>\n      <td>codecarbon</td>\n      <td>99b698ac-7e57-43be-810d-a66e5c33c7fd</td>\n      <td>43.106440</td>\n      <td>7.815403e-05</td>\n      <td>0.001813</td>\n      <td>32.5</td>\n      <td>0.0</td>\n      <td>1.855063</td>\n      <td>3.891304e-04</td>\n      <td>...</td>\n      <td>3.10.6</td>\n      <td>4</td>\n      <td>Intel(R) Core(TM) i5-9400F CPU @ 2.90GHz</td>\n      <td>NaN</td>\n      <td>NaN</td>\n      <td>-3.6934</td>\n      <td>40.4163</td>\n      <td>4.946835</td>\n      <td>machine</td>\n      <td>N</td>\n    </tr>\n    <tr>\n      <th>3</th>\n      <td>2022-11-15T16:53:46</td>\n      <td>codecarbon</td>\n      <td>c8c2c41a-ed45-45f3-8b6a-78b16b4bfc79</td>\n      <td>42.435588</td>\n      <td>7.693753e-05</td>\n      <td>0.001813</td>\n      <td>32.5</td>\n      <td>0.0</td>\n      <td>1.855063</td>\n      <td>3.830717e-04</td>\n      <td>...</td>\n      <td>3.10.6</td>\n      <td>4</td>\n      <td>Intel(R) Core(TM) i5-9400F CPU @ 2.90GHz</td>\n      <td>NaN</td>\n      <td>NaN</td>\n      <td>-3.6934</td>\n      <td>40.4163</td>\n      <td>4.946835</td>\n      <td>machine</td>\n      <td>N</td>\n    </tr>\n    <tr>\n      <th>4</th>\n      <td>2022-11-17T17:12:20</td>\n      <td>codecarbon</td>\n      <td>cfc8b227-fa22-4602-b285-ae417ba478f8</td>\n      <td>45.051915</td>\n      <td>8.168037e-05</td>\n      <td>0.001813</td>\n      <td>32.5</td>\n      <td>0.0</td>\n      <td>1.855069</td>\n      <td>4.066863e-04</td>\n      <td>...</td>\n      <td>3.10.6</td>\n      <td>4</td>\n      <td>Intel(R) Core(TM) i5-9400F CPU @ 2.90GHz</td>\n      <td>NaN</td>\n      <td>NaN</td>\n      <td>-3.6934</td>\n      <td>40.4163</td>\n      <td>4.946850</td>\n      <td>machine</td>\n      <td>N</td>\n    </tr>\n    <tr>\n      <th>5</th>\n      <td>2022-11-27T11:17:18</td>\n      <td>codecarbon</td>\n      <td>cd35bf23-147f-4253-9b1c-0c7122e49aac</td>\n      <td>0.045350</td>\n      <td>7.798689e-08</td>\n      <td>0.001720</td>\n      <td>32.5</td>\n      <td>0.0</td>\n      <td>1.851746</td>\n      <td>3.893695e-07</td>\n      <td>...</td>\n      <td>3.10.8</td>\n      <td>4</td>\n      <td>Intel(R) Core(TM) i5-9400F CPU @ 2.90GHz</td>\n      <td>NaN</td>\n      <td>NaN</td>\n      <td>-3.6934</td>\n      <td>40.4163</td>\n      <td>4.937988</td>\n      <td>machine</td>\n      <td>N</td>\n    </tr>\n  </tbody>\n</table>\n<p>6 rows × 29 columns</p>\n</div>"
     },
     "execution_count": 3,
     "metadata": {},
     "output_type": "execute_result"
    }
   ],
   "source": [
    "import pandas as pd\n",
    "\n",
    "df = pd.read_csv('emissions.csv')\n",
    "df"
   ],
   "metadata": {
    "collapsed": false
   }
  }
 ],
 "metadata": {
  "kernelspec": {
   "display_name": "Python 3",
   "language": "python",
   "name": "python3"
  },
  "language_info": {
   "codemirror_mode": {
    "name": "ipython",
    "version": 2
   },
   "file_extension": ".py",
   "mimetype": "text/x-python",
   "name": "python",
   "nbconvert_exporter": "python",
   "pygments_lexer": "ipython2",
   "version": "2.7.6"
  }
 },
 "nbformat": 4,
 "nbformat_minor": 0
}
