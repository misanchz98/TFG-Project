{
 "cells": [
  {
   "cell_type": "markdown",
   "source": [
    "# Illustration of how to use CodeCarbon"
   ],
   "metadata": {
    "collapsed": false
   }
  },
  {
   "cell_type": "markdown",
   "source": [
    "## 1. Load iris dataset"
   ],
   "metadata": {
    "collapsed": false
   }
  },
  {
   "cell_type": "code",
   "execution_count": 1,
   "outputs": [],
   "source": [
    "from sklearn import datasets\n",
    "\n",
    "iris = datasets.load_iris()\n",
    "X = iris[\"data\"][:,3:] # petal width\n",
    "y = (iris[\"target\"] == 2).astype('int64') # 1 if Virginica, else 0"
   ],
   "metadata": {
    "collapsed": false
   }
  },
  {
   "cell_type": "markdown",
   "source": [
    "## 2. Train and Track Logistic Regression model"
   ],
   "metadata": {
    "collapsed": false
   }
  },
  {
   "cell_type": "code",
   "execution_count": 2,
   "outputs": [
    {
     "name": "stderr",
     "output_type": "stream",
     "text": [
      "[codecarbon INFO @ 11:55:12] [setup] RAM Tracking...\n",
      "[codecarbon INFO @ 11:55:12] [setup] GPU Tracking...\n",
      "[codecarbon INFO @ 11:55:12] No GPU found.\n",
      "[codecarbon INFO @ 11:55:12] [setup] CPU Tracking...\n",
      "[codecarbon WARNING @ 11:55:12] No CPU tracking mode found. Falling back on CPU constant mode.\n",
      "[codecarbon INFO @ 11:55:14] CPU Model on constant consumption mode: Intel(R) Core(TM) i5-9400F CPU @ 2.90GHz\n",
      "[codecarbon INFO @ 11:55:14] >>> Tracker's metadata:\n",
      "[codecarbon INFO @ 11:55:14]   Platform system: Linux-5.15.0-50-generic-x86_64-with-glibc2.35\n",
      "[codecarbon INFO @ 11:55:14]   Python version: 3.10.4\n",
      "[codecarbon INFO @ 11:55:14]   Available RAM : 1.930 GB\n",
      "[codecarbon INFO @ 11:55:14]   CPU count: 1\n",
      "[codecarbon INFO @ 11:55:14]   CPU model: Intel(R) Core(TM) i5-9400F CPU @ 2.90GHz\n",
      "[codecarbon INFO @ 11:55:14]   GPU count: None\n",
      "[codecarbon INFO @ 11:55:14]   GPU model: None\n",
      "[codecarbon INFO @ 11:55:18] Energy consumed for RAM : 0.000000 kWh. RAM Power : 0.7236442565917969 W\n",
      "[codecarbon INFO @ 11:55:18] Energy consumed for all CPUs : 0.000000 kWh. All CPUs Power : 32.5 W\n",
      "[codecarbon INFO @ 11:55:18] 0.000000 kWh of electricity used since the begining.\n"
     ]
    },
    {
     "name": "stdout",
     "output_type": "stream",
     "text": [
      "Emissions: 5.7805759179048744e-08 kg\n"
     ]
    }
   ],
   "source": [
    "from codecarbon import EmissionsTracker\n",
    "from sklearn.linear_model import LogisticRegression\n",
    "\n",
    "tracker = EmissionsTracker()\n",
    "log_reg = LogisticRegression()\n",
    "\n",
    "tracker.start()\n",
    "log_reg.fit(X,y)\n",
    "emissions: float = tracker.stop()\n",
    "print(f\"Emissions: {emissions} kg\")"
   ],
   "metadata": {
    "collapsed": false
   }
  }
 ],
 "metadata": {
  "kernelspec": {
   "display_name": "Python 3",
   "language": "python",
   "name": "python3"
  },
  "language_info": {
   "codemirror_mode": {
    "name": "ipython",
    "version": 2
   },
   "file_extension": ".py",
   "mimetype": "text/x-python",
   "name": "python",
   "nbconvert_exporter": "python",
   "pygments_lexer": "ipython2",
   "version": "2.7.6"
  }
 },
 "nbformat": 4,
 "nbformat_minor": 0
}
