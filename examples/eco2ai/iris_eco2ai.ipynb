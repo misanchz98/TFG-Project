{
 "cells": [
  {
   "cell_type": "markdown",
   "source": [
    "# Illustration of how to use Eco2AI"
   ],
   "metadata": {
    "collapsed": false
   }
  },
  {
   "cell_type": "markdown",
   "source": [
    "## 1. Load iris dataset"
   ],
   "metadata": {
    "collapsed": false
   }
  },
  {
   "cell_type": "code",
   "execution_count": 1,
   "outputs": [],
   "source": [
    "from sklearn import datasets\n",
    "\n",
    "iris = datasets.load_iris()\n",
    "X = iris[\"data\"][:,3:] # petal width\n",
    "y = (iris[\"target\"] == 2).astype('int64') # 1 if Virginica, else 0"
   ],
   "metadata": {
    "collapsed": false
   }
  },
  {
   "cell_type": "markdown",
   "source": [
    "## 2. Train and track Logistic Regression model"
   ],
   "metadata": {
    "collapsed": false
   }
  },
  {
   "cell_type": "code",
   "execution_count": 2,
   "outputs": [
    {
     "name": "stderr",
     "output_type": "stream",
     "text": [
      "/home/misanchz/miniconda3/envs/TFG/lib/python3.10/site-packages/eco2ai/emission_track.py:135: UserWarning: \n",
      "If you use a VPN, you may have problems with identifying your country by IP.\n",
      "It is recommended to disable VPN or\n",
      "manually install the ISO-Alpha-2 code of your country during initialization of the Tracker() class.\n",
      "You can find the ISO-Alpha-2 code of your country here: https://www.iban.com/country-codes\n",
      "\n",
      "  warnings.warn(\n",
      "/home/misanchz/miniconda3/envs/TFG/lib/python3.10/site-packages/eco2ai/tools/tools_gpu.py:39: NoGPUWarning: \n",
      "\n",
      "There is no any available GPU devices or your GPU is not supported by Nvidia library!\n",
      "The tracker will consider CPU usage only\n",
      "\n",
      "  warnings.warn(message=\"\\n\\nThere is no any available GPU devices or your GPU is not supported by Nvidia library!\\nThe tracker will consider CPU usage only\\n\",\n"
     ]
    }
   ],
   "source": [
    "import eco2ai\n",
    "from sklearn.linear_model import LogisticRegression\n",
    "\n",
    "log_reg = LogisticRegression()\n",
    "tracker = eco2ai.Tracker(project_name=\"Eco2AI_Test_ML\", experiment_description=\"training logistic regression model\")\n",
    "\n",
    "tracker.start()\n",
    "\n",
    "log_reg.fit(X,y)\n",
    "\n",
    "tracker.stop()"
   ],
   "metadata": {
    "collapsed": false
   }
  },
  {
   "cell_type": "markdown",
   "source": [
    "## 3. Show results"
   ],
   "metadata": {
    "collapsed": false
   }
  },
  {
   "cell_type": "code",
   "execution_count": 3,
   "outputs": [
    {
     "data": {
      "text/plain": "                                     id    project_name  \\\n0  f8db576d-ef96-4262-8099-5a1814ee9560  Eco2AI_Test_ML   \n1  831547f6-c998-463c-8bae-682663553bc6  Eco2AI_Test_ML   \n2  cd38bee9-d669-4fca-8c0c-6f40c64d8192  Eco2AI_Test_ML   \n\n               experiment_description  epoch           start_time  \\\n0  training logistic regression model    NaN  2022-12-13 16:45:09   \n1  training logistic regression model    NaN  2022-12-13 16:47:59   \n2  training logistic regression model    NaN  2022-12-13 16:48:18   \n\n   duration(s)  power_consumption(kWh)  CO2_emissions(kg)  \\\n0     0.479311            7.592713e-09       1.514860e-09   \n1     0.359323            4.636810e-09       9.251132e-10   \n2     0.349365            3.412232e-08       6.807914e-09   \n\n                                            CPU_name      GPU_name     OS  \\\n0  Intel(R) Core(TM) i5-9400F CPU @ 2.90GHz/1 dev...   0 device(s)  Linux   \n1  Intel(R) Core(TM) i5-9400F CPU @ 2.90GHz/1 dev...   0 device(s)  Linux   \n2  Intel(R) Core(TM) i5-9400F CPU @ 2.90GHz/1 dev...   0 device(s)  Linux   \n\n  region/country  cost  \n0      ES/Madrid   NaN  \n1      ES/Madrid   NaN  \n2      ES/Madrid   NaN  ",
      "text/html": "<div>\n<style scoped>\n    .dataframe tbody tr th:only-of-type {\n        vertical-align: middle;\n    }\n\n    .dataframe tbody tr th {\n        vertical-align: top;\n    }\n\n    .dataframe thead th {\n        text-align: right;\n    }\n</style>\n<table border=\"1\" class=\"dataframe\">\n  <thead>\n    <tr style=\"text-align: right;\">\n      <th></th>\n      <th>id</th>\n      <th>project_name</th>\n      <th>experiment_description</th>\n      <th>epoch</th>\n      <th>start_time</th>\n      <th>duration(s)</th>\n      <th>power_consumption(kWh)</th>\n      <th>CO2_emissions(kg)</th>\n      <th>CPU_name</th>\n      <th>GPU_name</th>\n      <th>OS</th>\n      <th>region/country</th>\n      <th>cost</th>\n    </tr>\n  </thead>\n  <tbody>\n    <tr>\n      <th>0</th>\n      <td>f8db576d-ef96-4262-8099-5a1814ee9560</td>\n      <td>Eco2AI_Test_ML</td>\n      <td>training logistic regression model</td>\n      <td>NaN</td>\n      <td>2022-12-13 16:45:09</td>\n      <td>0.479311</td>\n      <td>7.592713e-09</td>\n      <td>1.514860e-09</td>\n      <td>Intel(R) Core(TM) i5-9400F CPU @ 2.90GHz/1 dev...</td>\n      <td>0 device(s)</td>\n      <td>Linux</td>\n      <td>ES/Madrid</td>\n      <td>NaN</td>\n    </tr>\n    <tr>\n      <th>1</th>\n      <td>831547f6-c998-463c-8bae-682663553bc6</td>\n      <td>Eco2AI_Test_ML</td>\n      <td>training logistic regression model</td>\n      <td>NaN</td>\n      <td>2022-12-13 16:47:59</td>\n      <td>0.359323</td>\n      <td>4.636810e-09</td>\n      <td>9.251132e-10</td>\n      <td>Intel(R) Core(TM) i5-9400F CPU @ 2.90GHz/1 dev...</td>\n      <td>0 device(s)</td>\n      <td>Linux</td>\n      <td>ES/Madrid</td>\n      <td>NaN</td>\n    </tr>\n    <tr>\n      <th>2</th>\n      <td>cd38bee9-d669-4fca-8c0c-6f40c64d8192</td>\n      <td>Eco2AI_Test_ML</td>\n      <td>training logistic regression model</td>\n      <td>NaN</td>\n      <td>2022-12-13 16:48:18</td>\n      <td>0.349365</td>\n      <td>3.412232e-08</td>\n      <td>6.807914e-09</td>\n      <td>Intel(R) Core(TM) i5-9400F CPU @ 2.90GHz/1 dev...</td>\n      <td>0 device(s)</td>\n      <td>Linux</td>\n      <td>ES/Madrid</td>\n      <td>NaN</td>\n    </tr>\n  </tbody>\n</table>\n</div>"
     },
     "execution_count": 3,
     "metadata": {},
     "output_type": "execute_result"
    }
   ],
   "source": [
    "import pandas as pd\n",
    "\n",
    "df = pd.read_csv('emission.csv')\n",
    "df"
   ],
   "metadata": {
    "collapsed": false
   }
  }
 ],
 "metadata": {
  "kernelspec": {
   "display_name": "Python 3",
   "language": "python",
   "name": "python3"
  },
  "language_info": {
   "codemirror_mode": {
    "name": "ipython",
    "version": 2
   },
   "file_extension": ".py",
   "mimetype": "text/x-python",
   "name": "python",
   "nbconvert_exporter": "python",
   "pygments_lexer": "ipython2",
   "version": "2.7.6"
  }
 },
 "nbformat": 4,
 "nbformat_minor": 0
}
