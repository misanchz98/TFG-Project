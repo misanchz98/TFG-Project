{
 "cells": [
  {
   "cell_type": "markdown",
   "source": [
    "# Illustration of how to use Eco2AI (Deep Learning case)"
   ],
   "metadata": {
    "collapsed": false
   }
  },
  {
   "cell_type": "code",
   "execution_count": 1,
   "outputs": [
    {
     "name": "stderr",
     "output_type": "stream",
     "text": [
      "2022-12-17 18:27:21.182603: I tensorflow/core/platform/cpu_feature_guard.cc:193] This TensorFlow binary is optimized with oneAPI Deep Neural Network Library (oneDNN) to use the following CPU instructions in performance-critical operations:  SSE4.1 SSE4.2\n",
      "To enable them in other operations, rebuild TensorFlow with the appropriate compiler flags.\n"
     ]
    }
   ],
   "source": [
    "from sklearn import datasets\n",
    "import tensorflow as tf\n",
    "import eco2ai"
   ],
   "metadata": {
    "collapsed": false
   }
  },
  {
   "cell_type": "markdown",
   "source": [
    "## Step 1: Split the data into X and y"
   ],
   "metadata": {
    "collapsed": false
   }
  },
  {
   "cell_type": "code",
   "execution_count": 2,
   "outputs": [],
   "source": [
    "# Step 1: Split the data into X and y\n",
    "iris = datasets.load_iris()\n",
    "X = iris[\"data\"][:, 3:]  # petal width\n",
    "y = (iris[\"target\"] == 2).astype('int64')  # 1 if Virginica, else 0"
   ],
   "metadata": {
    "collapsed": false
   }
  },
  {
   "cell_type": "markdown",
   "source": [
    "## Step 2: Define a model"
   ],
   "metadata": {
    "collapsed": false
   }
  },
  {
   "cell_type": "code",
   "execution_count": 3,
   "outputs": [
    {
     "name": "stderr",
     "output_type": "stream",
     "text": [
      "2022-12-17 18:27:27.122649: I tensorflow/core/platform/cpu_feature_guard.cc:193] This TensorFlow binary is optimized with oneAPI Deep Neural Network Library (oneDNN) to use the following CPU instructions in performance-critical operations:  SSE4.1 SSE4.2\n",
      "To enable them in other operations, rebuild TensorFlow with the appropriate compiler flags.\n",
      "2022-12-17 18:27:27.148730: I tensorflow/core/common_runtime/process_util.cc:146] Creating new thread pool with default inter op setting: 2. Tune using inter_op_parallelism_threads for best performance.\n"
     ]
    }
   ],
   "source": [
    "# Step 2: Define a model\n",
    "model = tf.keras.Sequential([\n",
    "    tf.keras.layers.Dense(10, activation='relu'),\n",
    "    tf.keras.layers.Dense(10, activation='relu'),\n",
    "    tf.keras.layers.Dense(3, activation='softmax')\n",
    "  ])"
   ],
   "metadata": {
    "collapsed": false
   }
  },
  {
   "cell_type": "markdown",
   "source": [
    "## Step 3: Compile the model"
   ],
   "metadata": {
    "collapsed": false
   }
  },
  {
   "cell_type": "code",
   "execution_count": 4,
   "outputs": [],
   "source": [
    "# Step 3: Compile the model\n",
    "model.compile(optimizer='rmsprop',\n",
    "              loss='sparse_categorical_crossentropy',\n",
    "              metrics=['accuracy'])"
   ],
   "metadata": {
    "collapsed": false
   }
  },
  {
   "cell_type": "markdown",
   "source": [
    "## Step 4: Train the model and track with eco2ai"
   ],
   "metadata": {
    "collapsed": false
   }
  },
  {
   "cell_type": "code",
   "execution_count": 5,
   "outputs": [
    {
     "name": "stdout",
     "output_type": "stream",
     "text": [
      "Epoch 1/5\n",
      "3/3 [==============================] - 2s 5ms/step - loss: 1.0855 - accuracy: 0.5267\n",
      "Epoch 2/5\n",
      "3/3 [==============================] - 0s 34ms/step - loss: 1.0678 - accuracy: 0.6667\n",
      "Epoch 3/5\n",
      "3/3 [==============================] - 0s 20ms/step - loss: 1.0562 - accuracy: 0.8333\n",
      "Epoch 4/5\n",
      "3/3 [==============================] - 0s 16ms/step - loss: 1.0464 - accuracy: 0.8533\n",
      "Epoch 5/5\n",
      "3/3 [==============================] - 0s 21ms/step - loss: 1.0377 - accuracy: 0.7800\n"
     ]
    }
   ],
   "source": [
    "# Step 4: Train the model and track with eco2ai\n",
    "max_epochs = 5\n",
    "tracker = eco2ai.Tracker(project_name=\"Eco2AI_Test_DL\",\n",
    "                         experiment_description=\"training tensorflow model\",\n",
    "                         ignore_warnings=True)\n",
    "tracker.start()\n",
    "model.fit(X, y, epochs=max_epochs, batch_size=50)\n",
    "tracker.stop()"
   ],
   "metadata": {
    "collapsed": false
   }
  },
  {
   "cell_type": "markdown",
   "source": [
    "## Step 5: Show the results"
   ],
   "metadata": {
    "collapsed": false
   }
  },
  {
   "cell_type": "code",
   "execution_count": 6,
   "outputs": [
    {
     "data": {
      "text/plain": "                                     id    project_name  \\\n0  1678a947-9d7a-4d93-9a0d-aa46160d94e7  Eco2AI_Test_ML   \n1  613b9870-5123-4e24-84ef-c753de47978c  Eco2AI_Test_DL   \n\n               experiment_description  epoch           start_time  \\\n0  training logistic regression model    NaN  2022-12-15 17:13:05   \n1           training tensorflow model    NaN  2022-12-17 18:27:29   \n\n   duration(s)  power_consumption(kWh)  CO2_emissions(kg)  \\\n0     0.717891            9.116551e-09       1.818889e-09   \n1     2.848665            8.078722e-07       1.611826e-07   \n\n                                            CPU_name      GPU_name     OS  \\\n0  Intel(R) Core(TM) i5-9400F CPU @ 2.90GHz/1 dev...   0 device(s)  Linux   \n1  Intel(R) Core(TM) i5-9400F CPU @ 2.90GHz/1 dev...   0 device(s)  Linux   \n\n  region/country  cost  \n0      ES/Madrid   NaN  \n1      ES/Madrid   NaN  ",
      "text/html": "<div>\n<style scoped>\n    .dataframe tbody tr th:only-of-type {\n        vertical-align: middle;\n    }\n\n    .dataframe tbody tr th {\n        vertical-align: top;\n    }\n\n    .dataframe thead th {\n        text-align: right;\n    }\n</style>\n<table border=\"1\" class=\"dataframe\">\n  <thead>\n    <tr style=\"text-align: right;\">\n      <th></th>\n      <th>id</th>\n      <th>project_name</th>\n      <th>experiment_description</th>\n      <th>epoch</th>\n      <th>start_time</th>\n      <th>duration(s)</th>\n      <th>power_consumption(kWh)</th>\n      <th>CO2_emissions(kg)</th>\n      <th>CPU_name</th>\n      <th>GPU_name</th>\n      <th>OS</th>\n      <th>region/country</th>\n      <th>cost</th>\n    </tr>\n  </thead>\n  <tbody>\n    <tr>\n      <th>0</th>\n      <td>1678a947-9d7a-4d93-9a0d-aa46160d94e7</td>\n      <td>Eco2AI_Test_ML</td>\n      <td>training logistic regression model</td>\n      <td>NaN</td>\n      <td>2022-12-15 17:13:05</td>\n      <td>0.717891</td>\n      <td>9.116551e-09</td>\n      <td>1.818889e-09</td>\n      <td>Intel(R) Core(TM) i5-9400F CPU @ 2.90GHz/1 dev...</td>\n      <td>0 device(s)</td>\n      <td>Linux</td>\n      <td>ES/Madrid</td>\n      <td>NaN</td>\n    </tr>\n    <tr>\n      <th>1</th>\n      <td>613b9870-5123-4e24-84ef-c753de47978c</td>\n      <td>Eco2AI_Test_DL</td>\n      <td>training tensorflow model</td>\n      <td>NaN</td>\n      <td>2022-12-17 18:27:29</td>\n      <td>2.848665</td>\n      <td>8.078722e-07</td>\n      <td>1.611826e-07</td>\n      <td>Intel(R) Core(TM) i5-9400F CPU @ 2.90GHz/1 dev...</td>\n      <td>0 device(s)</td>\n      <td>Linux</td>\n      <td>ES/Madrid</td>\n      <td>NaN</td>\n    </tr>\n  </tbody>\n</table>\n</div>"
     },
     "execution_count": 6,
     "metadata": {},
     "output_type": "execute_result"
    }
   ],
   "source": [
    "# Step 5: Show the results\n",
    "import pandas as pd\n",
    "\n",
    "df = pd.read_csv('emission.csv')\n",
    "df"
   ],
   "metadata": {
    "collapsed": false
   }
  },
  {
   "cell_type": "markdown",
   "source": [
    "## Step 6: Summary statistics"
   ],
   "metadata": {
    "collapsed": false
   }
  },
  {
   "cell_type": "code",
   "execution_count": 7,
   "outputs": [
    {
     "data": {
      "text/plain": "       project_name  total duration(s)  total power_consumption(kWh)  \\\n0    Eco2AI_Test_DL           2.848665                  8.078722e-07   \n1    Eco2AI_Test_ML           0.717891                  9.116551e-09   \n2  All the projects           3.566555                  8.169887e-07   \n\n   total CO2_emissions(kg)  total electricity cost  \n0             1.611826e-07                     NaN  \n1             1.818889e-09                     NaN  \n2             1.630015e-07                     NaN  ",
      "text/html": "<div>\n<style scoped>\n    .dataframe tbody tr th:only-of-type {\n        vertical-align: middle;\n    }\n\n    .dataframe tbody tr th {\n        vertical-align: top;\n    }\n\n    .dataframe thead th {\n        text-align: right;\n    }\n</style>\n<table border=\"1\" class=\"dataframe\">\n  <thead>\n    <tr style=\"text-align: right;\">\n      <th></th>\n      <th>project_name</th>\n      <th>total duration(s)</th>\n      <th>total power_consumption(kWh)</th>\n      <th>total CO2_emissions(kg)</th>\n      <th>total electricity cost</th>\n    </tr>\n  </thead>\n  <tbody>\n    <tr>\n      <th>0</th>\n      <td>Eco2AI_Test_DL</td>\n      <td>2.848665</td>\n      <td>8.078722e-07</td>\n      <td>1.611826e-07</td>\n      <td>NaN</td>\n    </tr>\n    <tr>\n      <th>1</th>\n      <td>Eco2AI_Test_ML</td>\n      <td>0.717891</td>\n      <td>9.116551e-09</td>\n      <td>1.818889e-09</td>\n      <td>NaN</td>\n    </tr>\n    <tr>\n      <th>2</th>\n      <td>All the projects</td>\n      <td>3.566555</td>\n      <td>8.169887e-07</td>\n      <td>1.630015e-07</td>\n      <td>NaN</td>\n    </tr>\n  </tbody>\n</table>\n</div>"
     },
     "execution_count": 7,
     "metadata": {},
     "output_type": "execute_result"
    }
   ],
   "source": [
    "# Step 6: Summary statistics\n",
    "eco2ai.summary('emission.csv')"
   ],
   "metadata": {
    "collapsed": false
   }
  }
 ],
 "metadata": {
  "kernelspec": {
   "display_name": "Python 3",
   "language": "python",
   "name": "python3"
  },
  "language_info": {
   "codemirror_mode": {
    "name": "ipython",
    "version": 2
   },
   "file_extension": ".py",
   "mimetype": "text/x-python",
   "name": "python",
   "nbconvert_exporter": "python",
   "pygments_lexer": "ipython2",
   "version": "2.7.6"
  }
 },
 "nbformat": 4,
 "nbformat_minor": 0
}
