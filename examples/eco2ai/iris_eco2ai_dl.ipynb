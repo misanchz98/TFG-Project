{
 "cells": [
  {
   "cell_type": "markdown",
   "source": [
    "# Illustration of how to use Eco2AI (Deep Learning case)"
   ],
   "metadata": {
    "collapsed": false
   }
  },
  {
   "cell_type": "code",
   "execution_count": 7,
   "outputs": [],
   "source": [
    "from sklearn import datasets\n",
    "import tensorflow as tf\n",
    "import eco2ai"
   ],
   "metadata": {
    "collapsed": false
   }
  },
  {
   "cell_type": "markdown",
   "source": [
    "## Step 1: Split the data into X and y"
   ],
   "metadata": {
    "collapsed": false
   }
  },
  {
   "cell_type": "code",
   "execution_count": 8,
   "outputs": [],
   "source": [
    "# Step 1: Split the data into X and y\n",
    "iris = datasets.load_iris()\n",
    "X = iris[\"data\"][:, 3:]  # petal width\n",
    "y = (iris[\"target\"] == 2).astype('int64')  # 1 if Virginica, else 0"
   ],
   "metadata": {
    "collapsed": false
   }
  },
  {
   "cell_type": "markdown",
   "source": [
    "## Step 2: Define a model"
   ],
   "metadata": {
    "collapsed": false
   }
  },
  {
   "cell_type": "code",
   "execution_count": 9,
   "outputs": [],
   "source": [
    "# Step 2: Define a model\n",
    "model = tf.keras.Sequential([\n",
    "    tf.keras.layers.Dense(10, activation='relu'),\n",
    "    tf.keras.layers.Dense(10, activation='relu'),\n",
    "    tf.keras.layers.Dense(3, activation='softmax')\n",
    "  ])"
   ],
   "metadata": {
    "collapsed": false
   }
  },
  {
   "cell_type": "markdown",
   "source": [
    "## Step 3: Compile the model"
   ],
   "metadata": {
    "collapsed": false
   }
  },
  {
   "cell_type": "code",
   "execution_count": 10,
   "outputs": [],
   "source": [
    "# Step 3: Compile the model\n",
    "model.compile(optimizer='rmsprop',\n",
    "              loss='sparse_categorical_crossentropy',\n",
    "              metrics=['accuracy'])"
   ],
   "metadata": {
    "collapsed": false
   }
  },
  {
   "cell_type": "markdown",
   "source": [
    "## Step 4: Train the model and track with eco2ai"
   ],
   "metadata": {
    "collapsed": false
   }
  },
  {
   "cell_type": "code",
   "execution_count": 11,
   "outputs": [
    {
     "name": "stderr",
     "output_type": "stream",
     "text": [
      "/home/misanchz/miniconda3/envs/TFG/lib/python3.10/site-packages/eco2ai/emission_track.py:135: UserWarning: \n",
      "If you use a VPN, you may have problems with identifying your country by IP.\n",
      "It is recommended to disable VPN or\n",
      "manually install the ISO-Alpha-2 code of your country during initialization of the Tracker() class.\n",
      "You can find the ISO-Alpha-2 code of your country here: https://www.iban.com/country-codes\n",
      "\n",
      "  warnings.warn(\n"
     ]
    },
    {
     "name": "stdout",
     "output_type": "stream",
     "text": [
      "Epoch 1/5\n"
     ]
    },
    {
     "name": "stderr",
     "output_type": "stream",
     "text": [
      "/home/misanchz/miniconda3/envs/TFG/lib/python3.10/site-packages/eco2ai/tools/tools_gpu.py:39: NoGPUWarning: \n",
      "\n",
      "There is no any available GPU devices or your GPU is not supported by Nvidia library!\n",
      "The tracker will consider CPU usage only\n",
      "\n",
      "  warnings.warn(message=\"\\n\\nThere is no any available GPU devices or your GPU is not supported by Nvidia library!\\nThe tracker will consider CPU usage only\\n\",\n"
     ]
    },
    {
     "name": "stdout",
     "output_type": "stream",
     "text": [
      "3/3 [==============================] - 1s 37ms/step - loss: 1.2244 - accuracy: 0.4400\n",
      "Epoch 2/5\n",
      "3/3 [==============================] - 0s 17ms/step - loss: 1.1980 - accuracy: 0.6667\n",
      "Epoch 3/5\n",
      "3/3 [==============================] - 0s 11ms/step - loss: 1.1799 - accuracy: 0.6667\n",
      "Epoch 4/5\n",
      "3/3 [==============================] - 0s 20ms/step - loss: 1.1655 - accuracy: 0.6667\n",
      "Epoch 5/5\n",
      "3/3 [==============================] - 0s 7ms/step - loss: 1.1520 - accuracy: 0.6667\n"
     ]
    }
   ],
   "source": [
    "# Step 4: Train the model and track with eco2ai\n",
    "max_epochs = 5\n",
    "tracker = eco2ai.Tracker(project_name=\"Eco2AI_Test_DL\",\n",
    "                         experiment_description=\"training tensorflow model\",\n",
    "                         file_name=\"emission.csv\")\n",
    "tracker.start()\n",
    "model.fit(X, y, epochs=max_epochs, batch_size=50)\n",
    "tracker.stop()"
   ],
   "metadata": {
    "collapsed": false
   }
  },
  {
   "cell_type": "markdown",
   "source": [
    "## Step 5: Show the results"
   ],
   "metadata": {
    "collapsed": false
   }
  },
  {
   "cell_type": "code",
   "execution_count": 12,
   "outputs": [
    {
     "data": {
      "text/plain": "                                     id    project_name  \\\n0  8c0be686-66cb-4314-b52c-760eb111a321  Eco2AI_Test_ML   \n1  5e6311b3-e75c-4a44-bf49-1abb28e12119  Eco2AI_Test_DL   \n\n               experiment_description  epoch           start_time  \\\n0  training logistic regression model    NaN  2022-12-13 17:59:49   \n1           training tensorflow model    NaN  2022-12-13 17:59:59   \n\n   duration(s)  power_consumption(kWh)  CO2_emissions(kg)  \\\n0     0.365478            5.285580e-09       1.054553e-09   \n1     1.258479            7.978558e-06       1.591842e-06   \n\n                                            CPU_name      GPU_name     OS  \\\n0  Intel(R) Core(TM) i5-9400F CPU @ 2.90GHz/1 dev...   0 device(s)  Linux   \n1  Intel(R) Core(TM) i5-9400F CPU @ 2.90GHz/1 dev...   0 device(s)  Linux   \n\n  region/country  cost  \n0      ES/Madrid   NaN  \n1      ES/Madrid   NaN  ",
      "text/html": "<div>\n<style scoped>\n    .dataframe tbody tr th:only-of-type {\n        vertical-align: middle;\n    }\n\n    .dataframe tbody tr th {\n        vertical-align: top;\n    }\n\n    .dataframe thead th {\n        text-align: right;\n    }\n</style>\n<table border=\"1\" class=\"dataframe\">\n  <thead>\n    <tr style=\"text-align: right;\">\n      <th></th>\n      <th>id</th>\n      <th>project_name</th>\n      <th>experiment_description</th>\n      <th>epoch</th>\n      <th>start_time</th>\n      <th>duration(s)</th>\n      <th>power_consumption(kWh)</th>\n      <th>CO2_emissions(kg)</th>\n      <th>CPU_name</th>\n      <th>GPU_name</th>\n      <th>OS</th>\n      <th>region/country</th>\n      <th>cost</th>\n    </tr>\n  </thead>\n  <tbody>\n    <tr>\n      <th>0</th>\n      <td>8c0be686-66cb-4314-b52c-760eb111a321</td>\n      <td>Eco2AI_Test_ML</td>\n      <td>training logistic regression model</td>\n      <td>NaN</td>\n      <td>2022-12-13 17:59:49</td>\n      <td>0.365478</td>\n      <td>5.285580e-09</td>\n      <td>1.054553e-09</td>\n      <td>Intel(R) Core(TM) i5-9400F CPU @ 2.90GHz/1 dev...</td>\n      <td>0 device(s)</td>\n      <td>Linux</td>\n      <td>ES/Madrid</td>\n      <td>NaN</td>\n    </tr>\n    <tr>\n      <th>1</th>\n      <td>5e6311b3-e75c-4a44-bf49-1abb28e12119</td>\n      <td>Eco2AI_Test_DL</td>\n      <td>training tensorflow model</td>\n      <td>NaN</td>\n      <td>2022-12-13 17:59:59</td>\n      <td>1.258479</td>\n      <td>7.978558e-06</td>\n      <td>1.591842e-06</td>\n      <td>Intel(R) Core(TM) i5-9400F CPU @ 2.90GHz/1 dev...</td>\n      <td>0 device(s)</td>\n      <td>Linux</td>\n      <td>ES/Madrid</td>\n      <td>NaN</td>\n    </tr>\n  </tbody>\n</table>\n</div>"
     },
     "execution_count": 12,
     "metadata": {},
     "output_type": "execute_result"
    }
   ],
   "source": [
    "# Step 5: Show the results\n",
    "import pandas as pd\n",
    "\n",
    "df = pd.read_csv('emission.csv')\n",
    "df"
   ],
   "metadata": {
    "collapsed": false
   }
  },
  {
   "cell_type": "markdown",
   "source": [
    "## Step 6: Summary statistics"
   ],
   "metadata": {
    "collapsed": false
   }
  },
  {
   "cell_type": "code",
   "execution_count": 15,
   "outputs": [
    {
     "data": {
      "text/plain": "       project_name  total duration(s)  total power_consumption(kWh)  \\\n0    Eco2AI_Test_DL           1.258479                  7.978558e-06   \n1    Eco2AI_Test_ML           1.006593                  1.455346e-08   \n2  All the projects           2.265072                  7.993111e-06   \n\n   total CO2_emissions(kg)  total electricity cost  \n0             1.591842e-06                     NaN  \n1             2.903633e-09                     NaN  \n2             1.594746e-06                     NaN  ",
      "text/html": "<div>\n<style scoped>\n    .dataframe tbody tr th:only-of-type {\n        vertical-align: middle;\n    }\n\n    .dataframe tbody tr th {\n        vertical-align: top;\n    }\n\n    .dataframe thead th {\n        text-align: right;\n    }\n</style>\n<table border=\"1\" class=\"dataframe\">\n  <thead>\n    <tr style=\"text-align: right;\">\n      <th></th>\n      <th>project_name</th>\n      <th>total duration(s)</th>\n      <th>total power_consumption(kWh)</th>\n      <th>total CO2_emissions(kg)</th>\n      <th>total electricity cost</th>\n    </tr>\n  </thead>\n  <tbody>\n    <tr>\n      <th>0</th>\n      <td>Eco2AI_Test_DL</td>\n      <td>1.258479</td>\n      <td>7.978558e-06</td>\n      <td>1.591842e-06</td>\n      <td>NaN</td>\n    </tr>\n    <tr>\n      <th>1</th>\n      <td>Eco2AI_Test_ML</td>\n      <td>1.006593</td>\n      <td>1.455346e-08</td>\n      <td>2.903633e-09</td>\n      <td>NaN</td>\n    </tr>\n    <tr>\n      <th>2</th>\n      <td>All the projects</td>\n      <td>2.265072</td>\n      <td>7.993111e-06</td>\n      <td>1.594746e-06</td>\n      <td>NaN</td>\n    </tr>\n  </tbody>\n</table>\n</div>"
     },
     "execution_count": 15,
     "metadata": {},
     "output_type": "execute_result"
    }
   ],
   "source": [
    "# Step 6: Summary statistics\n",
    "eco2ai.summary('emission.csv')"
   ],
   "metadata": {
    "collapsed": false
   }
  }
 ],
 "metadata": {
  "kernelspec": {
   "display_name": "Python 3",
   "language": "python",
   "name": "python3"
  },
  "language_info": {
   "codemirror_mode": {
    "name": "ipython",
    "version": 2
   },
   "file_extension": ".py",
   "mimetype": "text/x-python",
   "name": "python",
   "nbconvert_exporter": "python",
   "pygments_lexer": "ipython2",
   "version": "2.7.6"
  }
 },
 "nbformat": 4,
 "nbformat_minor": 0
}
