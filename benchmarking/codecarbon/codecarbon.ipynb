{
 "cells": [
  {
   "cell_type": "markdown",
   "source": [
    "# 1. Importación de paquetes"
   ],
   "metadata": {
    "collapsed": false
   }
  },
  {
   "cell_type": "code",
   "execution_count": null,
   "outputs": [],
   "source": [
    "#Import packages\n",
    "import modules.preprocess\n",
    "import pandas as pd"
   ],
   "metadata": {
    "collapsed": false
   }
  },
  {
   "cell_type": "markdown",
   "source": [
    "# 2. Preprocesamiento del *dataset*: [Room Occupancy Estimation Data Set](https://www.kaggle.com/ananthr1/room-occupancy-estimation-data-set)"
   ],
   "metadata": {
    "collapsed": false
   }
  },
  {
   "cell_type": "markdown",
   "source": [
    "## Paso 1: Lectura del *dataset* y obtención de datos"
   ],
   "metadata": {
    "collapsed": false
   }
  },
  {
   "cell_type": "code",
   "execution_count": null,
   "outputs": [],
   "source": [
    "df = preprocess.load_csv_data('../dataset/New_Occupancy_Estimation.csv')\n",
    "df.shape"
   ],
   "metadata": {
    "collapsed": false
   }
  },
  {
   "cell_type": "markdown",
   "source": [
    "## Paso 4: División del *dataset* en *training* y *test*"
   ],
   "metadata": {
    "collapsed": false
   }
  },
  {
   "cell_type": "code",
   "execution_count": null,
   "outputs": [],
   "source": [
    "train_df, test_df = preprocess.split_dataset(df)"
   ],
   "metadata": {
    "collapsed": false
   }
  },
  {
   "cell_type": "markdown",
   "source": [
    "## Paso 5: División del *dataset* de entrenamiento en *features* y *output*"
   ],
   "metadata": {
    "collapsed": false
   }
  },
  {
   "cell_type": "code",
   "execution_count": null,
   "outputs": [],
   "source": [
    "# Step 2: split training into features and output\n",
    "X = preprocess.get_features(train_df)\n",
    "y = preprocess.get_output(train_df)"
   ],
   "metadata": {
    "collapsed": false
   }
  },
  {
   "cell_type": "markdown",
   "source": [
    "# 2. Entrenamiento y seguimiento de la huella de carbono"
   ],
   "metadata": {
    "collapsed": false
   }
  },
  {
   "cell_type": "markdown",
   "source": [
    "### Codecarbon:"
   ],
   "metadata": {
    "collapsed": false
   }
  },
  {
   "cell_type": "code",
   "execution_count": null,
   "outputs": [],
   "source": [
    "from sklearn.linear_model import LogisticRegression\n",
    "from sklearn.preprocessing import StandardScaler\n",
    "from sklearn.pipeline import Pipeline\n",
    "from codecarbon import EmissionsTracker"
   ],
   "metadata": {
    "collapsed": false
   }
  },
  {
   "cell_type": "code",
   "execution_count": null,
   "outputs": [],
   "source": [
    "lg_pipeline = Pipeline([(\"scaler\", StandardScaler()), (\"logistic_regression\", LogisticRegression())])\n",
    "tracker = EmissionsTracker()\n",
    "\n",
    "tracker.start()\n",
    "lg_pipeline.fit(X, y)\n",
    "emissions: float = tracker.stop()\n",
    "print(f\"Emissions: {emissions} kg\")"
   ],
   "metadata": {
    "collapsed": false
   }
  },
  {
   "cell_type": "code",
   "execution_count": 16,
   "outputs": [
    {
     "data": {
      "text/plain": "             timestamp project_name                                run_id  \\\n0  2022-10-05T17:57:42   codecarbon  81a6f627-4d3e-43b3-b3ae-c30c7e525607   \n\n   duration  emissions  emissions_rate  cpu_power  gpu_power  ram_power  \\\n0  0.885733   0.000002        0.001751       32.5        0.0   0.723647   \n\n   cpu_energy  ...  python_version  cpu_count  \\\n0    0.000008  ...          3.10.4          1   \n\n                                  cpu_model gpu_count gpu_model longitude  \\\n0  Intel(R) Core(TM) i5-9400F CPU @ 2.90GHz       NaN       NaN   -3.8661   \n\n   latitude  ram_total_size tracking_mode on_cloud  \n0   40.3192        1.929726       machine        N  \n\n[1 rows x 29 columns]",
      "text/html": "<div>\n<style scoped>\n    .dataframe tbody tr th:only-of-type {\n        vertical-align: middle;\n    }\n\n    .dataframe tbody tr th {\n        vertical-align: top;\n    }\n\n    .dataframe thead th {\n        text-align: right;\n    }\n</style>\n<table border=\"1\" class=\"dataframe\">\n  <thead>\n    <tr style=\"text-align: right;\">\n      <th></th>\n      <th>timestamp</th>\n      <th>project_name</th>\n      <th>run_id</th>\n      <th>duration</th>\n      <th>emissions</th>\n      <th>emissions_rate</th>\n      <th>cpu_power</th>\n      <th>gpu_power</th>\n      <th>ram_power</th>\n      <th>cpu_energy</th>\n      <th>...</th>\n      <th>python_version</th>\n      <th>cpu_count</th>\n      <th>cpu_model</th>\n      <th>gpu_count</th>\n      <th>gpu_model</th>\n      <th>longitude</th>\n      <th>latitude</th>\n      <th>ram_total_size</th>\n      <th>tracking_mode</th>\n      <th>on_cloud</th>\n    </tr>\n  </thead>\n  <tbody>\n    <tr>\n      <th>0</th>\n      <td>2022-10-05T17:57:42</td>\n      <td>codecarbon</td>\n      <td>81a6f627-4d3e-43b3-b3ae-c30c7e525607</td>\n      <td>0.885733</td>\n      <td>0.000002</td>\n      <td>0.001751</td>\n      <td>32.5</td>\n      <td>0.0</td>\n      <td>0.723647</td>\n      <td>0.000008</td>\n      <td>...</td>\n      <td>3.10.4</td>\n      <td>1</td>\n      <td>Intel(R) Core(TM) i5-9400F CPU @ 2.90GHz</td>\n      <td>NaN</td>\n      <td>NaN</td>\n      <td>-3.8661</td>\n      <td>40.3192</td>\n      <td>1.929726</td>\n      <td>machine</td>\n      <td>N</td>\n    </tr>\n  </tbody>\n</table>\n<p>1 rows × 29 columns</p>\n</div>"
     },
     "execution_count": 16,
     "metadata": {},
     "output_type": "execute_result"
    }
   ],
   "source": [
    "# Show results\n",
    "codecarbon_emissions = pd.read_csv(\"emissions.csv\",sep=\",\")\n",
    "codecarbon_emissions"
   ],
   "metadata": {
    "collapsed": false
   }
  }
 ],
 "metadata": {
  "kernelspec": {
   "display_name": "Python 3",
   "language": "python",
   "name": "python3"
  },
  "language_info": {
   "codemirror_mode": {
    "name": "ipython",
    "version": 2
   },
   "file_extension": ".py",
   "mimetype": "text/x-python",
   "name": "python",
   "nbconvert_exporter": "python",
   "pygments_lexer": "ipython2",
   "version": "2.7.6"
  }
 },
 "nbformat": 4,
 "nbformat_minor": 0
}
