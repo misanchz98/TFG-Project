{
 "cells": [
  {
   "cell_type": "markdown",
   "source": [
    "# 1. Instalación de dependencias e importación de paquetes"
   ],
   "metadata": {
    "collapsed": false,
    "pycharm": {
     "name": "#%% md\n"
    }
   }
  },
  {
   "cell_type": "code",
   "execution_count": 142,
   "outputs": [
    {
     "name": "stdout",
     "output_type": "stream",
     "text": [
      "Requirement already satisfied: pandas in c:\\users\\intel i5\\miniconda3\\envs\\tfg_project\\lib\\site-packages (1.4.3)\n",
      "Requirement already satisfied: pytz>=2020.1 in c:\\users\\intel i5\\miniconda3\\envs\\tfg_project\\lib\\site-packages (from pandas) (2022.1)\n",
      "Requirement already satisfied: numpy>=1.21.0 in c:\\users\\intel i5\\miniconda3\\envs\\tfg_project\\lib\\site-packages (from pandas) (1.23.1)\n",
      "Requirement already satisfied: python-dateutil>=2.8.1 in c:\\users\\intel i5\\miniconda3\\envs\\tfg_project\\lib\\site-packages (from pandas) (2.8.2)\n",
      "Requirement already satisfied: six>=1.5 in c:\\users\\intel i5\\miniconda3\\envs\\tfg_project\\lib\\site-packages (from python-dateutil>=2.8.1->pandas) (1.16.0)\n",
      "Requirement already satisfied: numpy in c:\\users\\intel i5\\miniconda3\\envs\\tfg_project\\lib\\site-packages (1.23.1)\n",
      "Requirement already satisfied: scikit-learn in c:\\users\\intel i5\\miniconda3\\envs\\tfg_project\\lib\\site-packages (1.1.1)\n",
      "Requirement already satisfied: joblib>=1.0.0 in c:\\users\\intel i5\\miniconda3\\envs\\tfg_project\\lib\\site-packages (from scikit-learn) (1.1.0)\n",
      "Requirement already satisfied: scipy>=1.3.2 in c:\\users\\intel i5\\miniconda3\\envs\\tfg_project\\lib\\site-packages (from scikit-learn) (1.8.1)\n",
      "Requirement already satisfied: threadpoolctl>=2.0.0 in c:\\users\\intel i5\\miniconda3\\envs\\tfg_project\\lib\\site-packages (from scikit-learn) (3.1.0)\n",
      "Requirement already satisfied: numpy>=1.17.3 in c:\\users\\intel i5\\miniconda3\\envs\\tfg_project\\lib\\site-packages (from scikit-learn) (1.23.1)\n",
      "Requirement already satisfied: codecarbon in c:\\users\\intel i5\\miniconda3\\envs\\tfg_project\\lib\\site-packages (2.1.3)\n",
      "Requirement already satisfied: psutil in c:\\users\\intel i5\\miniconda3\\envs\\tfg_project\\lib\\site-packages (from codecarbon) (5.9.1)\n",
      "Requirement already satisfied: click in c:\\users\\intel i5\\miniconda3\\envs\\tfg_project\\lib\\site-packages (from codecarbon) (8.1.3)\n",
      "Requirement already satisfied: fuzzywuzzy in c:\\users\\intel i5\\miniconda3\\envs\\tfg_project\\lib\\site-packages (from codecarbon) (0.18.0)\n",
      "Requirement already satisfied: requests in c:\\users\\intel i5\\miniconda3\\envs\\tfg_project\\lib\\site-packages (from codecarbon) (2.28.1)\n",
      "Requirement already satisfied: arrow in c:\\users\\intel i5\\miniconda3\\envs\\tfg_project\\lib\\site-packages (from codecarbon) (1.2.2)\n",
      "Requirement already satisfied: pandas in c:\\users\\intel i5\\miniconda3\\envs\\tfg_project\\lib\\site-packages (from codecarbon) (1.4.3)\n",
      "Requirement already satisfied: pynvml in c:\\users\\intel i5\\miniconda3\\envs\\tfg_project\\lib\\site-packages (from codecarbon) (11.4.1)\n",
      "Requirement already satisfied: py-cpuinfo in c:\\users\\intel i5\\miniconda3\\envs\\tfg_project\\lib\\site-packages (from codecarbon) (8.0.0)\n",
      "Requirement already satisfied: python-dateutil>=2.7.0 in c:\\users\\intel i5\\miniconda3\\envs\\tfg_project\\lib\\site-packages (from arrow->codecarbon) (2.8.2)\n",
      "Requirement already satisfied: colorama in c:\\users\\intel i5\\miniconda3\\envs\\tfg_project\\lib\\site-packages (from click->codecarbon) (0.4.5)\n",
      "Requirement already satisfied: pytz>=2020.1 in c:\\users\\intel i5\\miniconda3\\envs\\tfg_project\\lib\\site-packages (from pandas->codecarbon) (2022.1)\n",
      "Requirement already satisfied: numpy>=1.21.0 in c:\\users\\intel i5\\miniconda3\\envs\\tfg_project\\lib\\site-packages (from pandas->codecarbon) (1.23.1)\n",
      "Requirement already satisfied: charset-normalizer<3,>=2 in c:\\users\\intel i5\\miniconda3\\envs\\tfg_project\\lib\\site-packages (from requests->codecarbon) (2.1.0)\n",
      "Requirement already satisfied: idna<4,>=2.5 in c:\\users\\intel i5\\miniconda3\\envs\\tfg_project\\lib\\site-packages (from requests->codecarbon) (3.3)\n",
      "Requirement already satisfied: certifi>=2017.4.17 in c:\\users\\intel i5\\miniconda3\\envs\\tfg_project\\lib\\site-packages (from requests->codecarbon) (2022.6.15)\n",
      "Requirement already satisfied: urllib3<1.27,>=1.21.1 in c:\\users\\intel i5\\miniconda3\\envs\\tfg_project\\lib\\site-packages (from requests->codecarbon) (1.26.10)\n",
      "Requirement already satisfied: six>=1.5 in c:\\users\\intel i5\\miniconda3\\envs\\tfg_project\\lib\\site-packages (from python-dateutil>=2.7.0->arrow->codecarbon) (1.16.0)\n"
     ]
    }
   ],
   "source": [
    "# Install dependencies\n",
    "!pip install pandas\n",
    "!pip install numpy\n",
    "!pip install -U scikit-learn\n",
    "!pip install codecarbon"
   ],
   "metadata": {
    "collapsed": false,
    "pycharm": {
     "name": "#%%\n"
    }
   }
  },
  {
   "cell_type": "code",
   "execution_count": 143,
   "outputs": [],
   "source": [
    "# Import packages\n",
    "import pandas as pd\n",
    "import numpy as np\n",
    "from sklearn.model_selection import train_test_split\n",
    "from sklearn.linear_model import LogisticRegression\n",
    "from sklearn.preprocessing import StandardScaler\n",
    "from sklearn.ensemble import RandomForestClassifier\n",
    "from sklearn.pipeline import Pipeline\n",
    "from sklearn.svm import LinearSVC\n",
    "from codecarbon import EmissionsTracker"
   ],
   "metadata": {
    "collapsed": false,
    "pycharm": {
     "name": "#%%\n"
    }
   }
  },
  {
   "cell_type": "markdown",
   "source": [
    "# 2. Preprocesamiento del *dataset*: [Room Occupancy Estimation Data Set](https://www.kaggle.com/ananthr1/room-occupancy-estimation-data-set)"
   ],
   "metadata": {
    "collapsed": false,
    "pycharm": {
     "name": "#%% md\n"
    }
   }
  },
  {
   "cell_type": "code",
   "execution_count": 144,
   "outputs": [
    {
     "data": {
      "text/plain": "(10129, 19)"
     },
     "execution_count": 144,
     "metadata": {},
     "output_type": "execute_result"
    }
   ],
   "source": [
    "# Load data as dataframe\n",
    "df = pd.read_csv('Occupancy_Estimation.csv')\n",
    "df.shape"
   ],
   "metadata": {
    "collapsed": false,
    "pycharm": {
     "name": "#%%\n"
    }
   }
  },
  {
   "cell_type": "code",
   "execution_count": 145,
   "outputs": [
    {
     "data": {
      "text/plain": "         Date      Time  S1_Temp  S2_Temp  S3_Temp  S4_Temp  S1_Light  \\\n0  2017/12/22  10:49:41    24.94    24.75    24.56    25.38       121   \n1  2017/12/22  10:50:12    24.94    24.75    24.56    25.44       121   \n2  2017/12/22  10:50:42    25.00    24.75    24.50    25.44       121   \n3  2017/12/22  10:51:13    25.00    24.75    24.56    25.44       121   \n4  2017/12/22  10:51:44    25.00    24.75    24.56    25.44       121   \n\n   S2_Light  S3_Light  S4_Light  S1_Sound  S2_Sound  S3_Sound  S4_Sound  \\\n0        34        53        40      0.08      0.19      0.06      0.06   \n1        33        53        40      0.93      0.05      0.06      0.06   \n2        34        53        40      0.43      0.11      0.08      0.06   \n3        34        53        40      0.41      0.10      0.10      0.09   \n4        34        54        40      0.18      0.06      0.06      0.06   \n\n   S5_CO2  S5_CO2_Slope  S6_PIR  S7_PIR  Room_Occupancy_Count  \n0     390      0.769231       0       0                     1  \n1     390      0.646154       0       0                     1  \n2     390      0.519231       0       0                     1  \n3     390      0.388462       0       0                     1  \n4     390      0.253846       0       0                     1  ",
      "text/html": "<div>\n<style scoped>\n    .dataframe tbody tr th:only-of-type {\n        vertical-align: middle;\n    }\n\n    .dataframe tbody tr th {\n        vertical-align: top;\n    }\n\n    .dataframe thead th {\n        text-align: right;\n    }\n</style>\n<table border=\"1\" class=\"dataframe\">\n  <thead>\n    <tr style=\"text-align: right;\">\n      <th></th>\n      <th>Date</th>\n      <th>Time</th>\n      <th>S1_Temp</th>\n      <th>S2_Temp</th>\n      <th>S3_Temp</th>\n      <th>S4_Temp</th>\n      <th>S1_Light</th>\n      <th>S2_Light</th>\n      <th>S3_Light</th>\n      <th>S4_Light</th>\n      <th>S1_Sound</th>\n      <th>S2_Sound</th>\n      <th>S3_Sound</th>\n      <th>S4_Sound</th>\n      <th>S5_CO2</th>\n      <th>S5_CO2_Slope</th>\n      <th>S6_PIR</th>\n      <th>S7_PIR</th>\n      <th>Room_Occupancy_Count</th>\n    </tr>\n  </thead>\n  <tbody>\n    <tr>\n      <th>0</th>\n      <td>2017/12/22</td>\n      <td>10:49:41</td>\n      <td>24.94</td>\n      <td>24.75</td>\n      <td>24.56</td>\n      <td>25.38</td>\n      <td>121</td>\n      <td>34</td>\n      <td>53</td>\n      <td>40</td>\n      <td>0.08</td>\n      <td>0.19</td>\n      <td>0.06</td>\n      <td>0.06</td>\n      <td>390</td>\n      <td>0.769231</td>\n      <td>0</td>\n      <td>0</td>\n      <td>1</td>\n    </tr>\n    <tr>\n      <th>1</th>\n      <td>2017/12/22</td>\n      <td>10:50:12</td>\n      <td>24.94</td>\n      <td>24.75</td>\n      <td>24.56</td>\n      <td>25.44</td>\n      <td>121</td>\n      <td>33</td>\n      <td>53</td>\n      <td>40</td>\n      <td>0.93</td>\n      <td>0.05</td>\n      <td>0.06</td>\n      <td>0.06</td>\n      <td>390</td>\n      <td>0.646154</td>\n      <td>0</td>\n      <td>0</td>\n      <td>1</td>\n    </tr>\n    <tr>\n      <th>2</th>\n      <td>2017/12/22</td>\n      <td>10:50:42</td>\n      <td>25.00</td>\n      <td>24.75</td>\n      <td>24.50</td>\n      <td>25.44</td>\n      <td>121</td>\n      <td>34</td>\n      <td>53</td>\n      <td>40</td>\n      <td>0.43</td>\n      <td>0.11</td>\n      <td>0.08</td>\n      <td>0.06</td>\n      <td>390</td>\n      <td>0.519231</td>\n      <td>0</td>\n      <td>0</td>\n      <td>1</td>\n    </tr>\n    <tr>\n      <th>3</th>\n      <td>2017/12/22</td>\n      <td>10:51:13</td>\n      <td>25.00</td>\n      <td>24.75</td>\n      <td>24.56</td>\n      <td>25.44</td>\n      <td>121</td>\n      <td>34</td>\n      <td>53</td>\n      <td>40</td>\n      <td>0.41</td>\n      <td>0.10</td>\n      <td>0.10</td>\n      <td>0.09</td>\n      <td>390</td>\n      <td>0.388462</td>\n      <td>0</td>\n      <td>0</td>\n      <td>1</td>\n    </tr>\n    <tr>\n      <th>4</th>\n      <td>2017/12/22</td>\n      <td>10:51:44</td>\n      <td>25.00</td>\n      <td>24.75</td>\n      <td>24.56</td>\n      <td>25.44</td>\n      <td>121</td>\n      <td>34</td>\n      <td>54</td>\n      <td>40</td>\n      <td>0.18</td>\n      <td>0.06</td>\n      <td>0.06</td>\n      <td>0.06</td>\n      <td>390</td>\n      <td>0.253846</td>\n      <td>0</td>\n      <td>0</td>\n      <td>1</td>\n    </tr>\n  </tbody>\n</table>\n</div>"
     },
     "execution_count": 145,
     "metadata": {},
     "output_type": "execute_result"
    }
   ],
   "source": [
    "df.head()"
   ],
   "metadata": {
    "collapsed": false,
    "pycharm": {
     "name": "#%%\n"
    }
   }
  },
  {
   "cell_type": "markdown",
   "source": [
    "## Paso 1: Recodificación de la columna *RoomOccupancyCount*\n",
    "\n",
    "En este caso, la columna que contiene la variable de salida (*RoomOccupancyCount*) cuenta el número de personas en la sala. Para simplificar, nuestro objetivo va a ser detectar si la sala está vacía o, en cambio, hay alguien (no el número exacto de personas).\n",
    "\n",
    "Por lo tanto, se **recodificará cualquier valor mayor que 0 en esa columna como 1**, de tal forma que la variable de salida sea binaria:\n",
    "- 0 -> ausencia.\n",
    "- 1 -> presencia."
   ],
   "metadata": {
    "collapsed": false,
    "pycharm": {
     "name": "#%% md\n"
    }
   }
  },
  {
   "cell_type": "code",
   "execution_count": 146,
   "outputs": [
    {
     "data": {
      "text/plain": "0        1\n1        1\n2        1\n3        1\n4        1\n        ..\n10124    0\n10125    0\n10126    0\n10127    0\n10128    0\nName: Room_Occupancy_Count, Length: 10129, dtype: int64"
     },
     "execution_count": 146,
     "metadata": {},
     "output_type": "execute_result"
    }
   ],
   "source": [
    "# Show \"Room_Occupancy_Count\" before processing\n",
    "df[\"Room_Occupancy_Count\"]"
   ],
   "metadata": {
    "collapsed": false,
    "pycharm": {
     "name": "#%%\n"
    }
   }
  },
  {
   "cell_type": "code",
   "execution_count": 147,
   "outputs": [
    {
     "data": {
      "text/plain": "0        1\n1        1\n2        1\n3        1\n4        1\n        ..\n10124    0\n10125    0\n10126    0\n10127    0\n10128    0\nName: Room_Occupancy_Count, Length: 10129, dtype: int32"
     },
     "execution_count": 147,
     "metadata": {},
     "output_type": "execute_result"
    }
   ],
   "source": [
    "#Process \"Room_Occupancy_Count\"\n",
    "df[\"Room_Occupancy_Count\"] = np.where(df[\"Room_Occupancy_Count\"] > 0, 1, 0)\n",
    "\n",
    "# Show \"Room_Occupancy_Count\" after processing\n",
    "df[\"Room_Occupancy_Count\"]"
   ],
   "metadata": {
    "collapsed": false,
    "pycharm": {
     "name": "#%%\n"
    }
   }
  },
  {
   "cell_type": "markdown",
   "source": [
    "## Paso 2: Eliminación de las columnas temporales *Date* y *Time*\n",
    "\n",
    "Respecto a los datos ofrecidos por las columas *Date* y *Time*, vamos a filtrarlos y dejarlos fuera del proceso. Ya que, aunque los incluyeramos (por ejemplo, juntando ambas partes en una sola columna y convirtiéndolo a formato 'epoch', como long int), los valores de muestras sucesivas de esa columna estarían totalmente correlados entre sí y, como consecuencia, fastidiaríamos a la mayoría de algoritmos que vamos a emplear posteriormente.\n",
    "\n",
    "Se debe tener en cuenta que no nos estamos olvidando de la información temporal para considerar como si cada valor muestreado (fila de la tabla) fuese independiente de las demás filas. Sabemos que eso no es así, pero estamos considerando que esa información temporal no nos ofrece valor añadido para predecir si la habitación está ocupada o vacía. En caso contrario, se tendrían que usar modelos bastante más complicados para considerar esa relación temporal que indica que, en realidad, las muestras de dos filas adyacentes son consecutivas en el tiempo.\n"
   ],
   "metadata": {
    "collapsed": false,
    "pycharm": {
     "name": "#%% md\n"
    }
   }
  },
  {
   "cell_type": "code",
   "execution_count": 148,
   "outputs": [
    {
     "data": {
      "text/plain": "   S1_Temp  S2_Temp  S3_Temp  S4_Temp  S1_Light  S2_Light  S3_Light  S4_Light  \\\n0    24.94    24.75    24.56    25.38       121        34        53        40   \n1    24.94    24.75    24.56    25.44       121        33        53        40   \n2    25.00    24.75    24.50    25.44       121        34        53        40   \n3    25.00    24.75    24.56    25.44       121        34        53        40   \n4    25.00    24.75    24.56    25.44       121        34        54        40   \n\n   S1_Sound  S2_Sound  S3_Sound  S4_Sound  S5_CO2  S5_CO2_Slope  S6_PIR  \\\n0      0.08      0.19      0.06      0.06     390      0.769231       0   \n1      0.93      0.05      0.06      0.06     390      0.646154       0   \n2      0.43      0.11      0.08      0.06     390      0.519231       0   \n3      0.41      0.10      0.10      0.09     390      0.388462       0   \n4      0.18      0.06      0.06      0.06     390      0.253846       0   \n\n   S7_PIR  Room_Occupancy_Count  \n0       0                     1  \n1       0                     1  \n2       0                     1  \n3       0                     1  \n4       0                     1  ",
      "text/html": "<div>\n<style scoped>\n    .dataframe tbody tr th:only-of-type {\n        vertical-align: middle;\n    }\n\n    .dataframe tbody tr th {\n        vertical-align: top;\n    }\n\n    .dataframe thead th {\n        text-align: right;\n    }\n</style>\n<table border=\"1\" class=\"dataframe\">\n  <thead>\n    <tr style=\"text-align: right;\">\n      <th></th>\n      <th>S1_Temp</th>\n      <th>S2_Temp</th>\n      <th>S3_Temp</th>\n      <th>S4_Temp</th>\n      <th>S1_Light</th>\n      <th>S2_Light</th>\n      <th>S3_Light</th>\n      <th>S4_Light</th>\n      <th>S1_Sound</th>\n      <th>S2_Sound</th>\n      <th>S3_Sound</th>\n      <th>S4_Sound</th>\n      <th>S5_CO2</th>\n      <th>S5_CO2_Slope</th>\n      <th>S6_PIR</th>\n      <th>S7_PIR</th>\n      <th>Room_Occupancy_Count</th>\n    </tr>\n  </thead>\n  <tbody>\n    <tr>\n      <th>0</th>\n      <td>24.94</td>\n      <td>24.75</td>\n      <td>24.56</td>\n      <td>25.38</td>\n      <td>121</td>\n      <td>34</td>\n      <td>53</td>\n      <td>40</td>\n      <td>0.08</td>\n      <td>0.19</td>\n      <td>0.06</td>\n      <td>0.06</td>\n      <td>390</td>\n      <td>0.769231</td>\n      <td>0</td>\n      <td>0</td>\n      <td>1</td>\n    </tr>\n    <tr>\n      <th>1</th>\n      <td>24.94</td>\n      <td>24.75</td>\n      <td>24.56</td>\n      <td>25.44</td>\n      <td>121</td>\n      <td>33</td>\n      <td>53</td>\n      <td>40</td>\n      <td>0.93</td>\n      <td>0.05</td>\n      <td>0.06</td>\n      <td>0.06</td>\n      <td>390</td>\n      <td>0.646154</td>\n      <td>0</td>\n      <td>0</td>\n      <td>1</td>\n    </tr>\n    <tr>\n      <th>2</th>\n      <td>25.00</td>\n      <td>24.75</td>\n      <td>24.50</td>\n      <td>25.44</td>\n      <td>121</td>\n      <td>34</td>\n      <td>53</td>\n      <td>40</td>\n      <td>0.43</td>\n      <td>0.11</td>\n      <td>0.08</td>\n      <td>0.06</td>\n      <td>390</td>\n      <td>0.519231</td>\n      <td>0</td>\n      <td>0</td>\n      <td>1</td>\n    </tr>\n    <tr>\n      <th>3</th>\n      <td>25.00</td>\n      <td>24.75</td>\n      <td>24.56</td>\n      <td>25.44</td>\n      <td>121</td>\n      <td>34</td>\n      <td>53</td>\n      <td>40</td>\n      <td>0.41</td>\n      <td>0.10</td>\n      <td>0.10</td>\n      <td>0.09</td>\n      <td>390</td>\n      <td>0.388462</td>\n      <td>0</td>\n      <td>0</td>\n      <td>1</td>\n    </tr>\n    <tr>\n      <th>4</th>\n      <td>25.00</td>\n      <td>24.75</td>\n      <td>24.56</td>\n      <td>25.44</td>\n      <td>121</td>\n      <td>34</td>\n      <td>54</td>\n      <td>40</td>\n      <td>0.18</td>\n      <td>0.06</td>\n      <td>0.06</td>\n      <td>0.06</td>\n      <td>390</td>\n      <td>0.253846</td>\n      <td>0</td>\n      <td>0</td>\n      <td>1</td>\n    </tr>\n  </tbody>\n</table>\n</div>"
     },
     "execution_count": 148,
     "metadata": {},
     "output_type": "execute_result"
    }
   ],
   "source": [
    "# Filter Date and Time columns\n",
    "df.drop(['Time'], axis=1, inplace=True)\n",
    "df.drop(['Date'], axis=1, inplace=True)\n",
    "\n",
    "# Show the result\n",
    "df.head()"
   ],
   "metadata": {
    "collapsed": false,
    "pycharm": {
     "name": "#%%\n"
    }
   }
  },
  {
   "cell_type": "markdown",
   "source": [
    "## Paso 3: División del *dataset* en *train* y *test*"
   ],
   "metadata": {
    "collapsed": false,
    "pycharm": {
     "name": "#%% md\n"
    }
   }
  },
  {
   "cell_type": "code",
   "execution_count": 149,
   "outputs": [
    {
     "data": {
      "text/plain": "((7596, 17), (2533, 17))"
     },
     "execution_count": 149,
     "metadata": {},
     "output_type": "execute_result"
    }
   ],
   "source": [
    "# Split dataset into train and test\n",
    "train_df, test_df = train_test_split(df) #75% training, 25% test\n",
    "train_df.shape, test_df.shape"
   ],
   "metadata": {
    "collapsed": false,
    "pycharm": {
     "name": "#%%\n"
    }
   }
  },
  {
   "cell_type": "code",
   "execution_count": 150,
   "outputs": [
    {
     "data": {
      "text/plain": "      S1_Temp  S2_Temp  S3_Temp  S4_Temp  S1_Light  S2_Light  S3_Light  \\\n3585    26.25    26.25    25.88    26.38       149       234       185   \n6310    25.44    25.44    25.25    26.13         0         0         0   \n7260    25.31    25.38    24.88    25.81         0         0         0   \n1685    25.31    25.31    24.88    25.69         0         0         0   \n2933    25.69    25.38    25.19    25.94       123        38        70   \n\n      S4_Light  S1_Sound  S2_Sound  S3_Sound  S4_Sound  S5_CO2  S5_CO2_Slope  \\\n3585        10      0.18      0.61      0.16      0.14     970      2.069231   \n6310         0      0.08      0.06      0.07      0.10     350      0.000000   \n7260         0      0.08      0.06      0.06      0.10     355      0.000000   \n1685         0      0.07      0.04      0.06      0.06     365     -0.084615   \n2933        50      0.12      0.08      0.11      0.09     380      0.288462   \n\n      S6_PIR  S7_PIR  Room_Occupancy_Count  \n3585       0       1                     1  \n6310       0       0                     0  \n7260       0       0                     0  \n1685       0       0                     0  \n2933       0       0                     1  ",
      "text/html": "<div>\n<style scoped>\n    .dataframe tbody tr th:only-of-type {\n        vertical-align: middle;\n    }\n\n    .dataframe tbody tr th {\n        vertical-align: top;\n    }\n\n    .dataframe thead th {\n        text-align: right;\n    }\n</style>\n<table border=\"1\" class=\"dataframe\">\n  <thead>\n    <tr style=\"text-align: right;\">\n      <th></th>\n      <th>S1_Temp</th>\n      <th>S2_Temp</th>\n      <th>S3_Temp</th>\n      <th>S4_Temp</th>\n      <th>S1_Light</th>\n      <th>S2_Light</th>\n      <th>S3_Light</th>\n      <th>S4_Light</th>\n      <th>S1_Sound</th>\n      <th>S2_Sound</th>\n      <th>S3_Sound</th>\n      <th>S4_Sound</th>\n      <th>S5_CO2</th>\n      <th>S5_CO2_Slope</th>\n      <th>S6_PIR</th>\n      <th>S7_PIR</th>\n      <th>Room_Occupancy_Count</th>\n    </tr>\n  </thead>\n  <tbody>\n    <tr>\n      <th>3585</th>\n      <td>26.25</td>\n      <td>26.25</td>\n      <td>25.88</td>\n      <td>26.38</td>\n      <td>149</td>\n      <td>234</td>\n      <td>185</td>\n      <td>10</td>\n      <td>0.18</td>\n      <td>0.61</td>\n      <td>0.16</td>\n      <td>0.14</td>\n      <td>970</td>\n      <td>2.069231</td>\n      <td>0</td>\n      <td>1</td>\n      <td>1</td>\n    </tr>\n    <tr>\n      <th>6310</th>\n      <td>25.44</td>\n      <td>25.44</td>\n      <td>25.25</td>\n      <td>26.13</td>\n      <td>0</td>\n      <td>0</td>\n      <td>0</td>\n      <td>0</td>\n      <td>0.08</td>\n      <td>0.06</td>\n      <td>0.07</td>\n      <td>0.10</td>\n      <td>350</td>\n      <td>0.000000</td>\n      <td>0</td>\n      <td>0</td>\n      <td>0</td>\n    </tr>\n    <tr>\n      <th>7260</th>\n      <td>25.31</td>\n      <td>25.38</td>\n      <td>24.88</td>\n      <td>25.81</td>\n      <td>0</td>\n      <td>0</td>\n      <td>0</td>\n      <td>0</td>\n      <td>0.08</td>\n      <td>0.06</td>\n      <td>0.06</td>\n      <td>0.10</td>\n      <td>355</td>\n      <td>0.000000</td>\n      <td>0</td>\n      <td>0</td>\n      <td>0</td>\n    </tr>\n    <tr>\n      <th>1685</th>\n      <td>25.31</td>\n      <td>25.31</td>\n      <td>24.88</td>\n      <td>25.69</td>\n      <td>0</td>\n      <td>0</td>\n      <td>0</td>\n      <td>0</td>\n      <td>0.07</td>\n      <td>0.04</td>\n      <td>0.06</td>\n      <td>0.06</td>\n      <td>365</td>\n      <td>-0.084615</td>\n      <td>0</td>\n      <td>0</td>\n      <td>0</td>\n    </tr>\n    <tr>\n      <th>2933</th>\n      <td>25.69</td>\n      <td>25.38</td>\n      <td>25.19</td>\n      <td>25.94</td>\n      <td>123</td>\n      <td>38</td>\n      <td>70</td>\n      <td>50</td>\n      <td>0.12</td>\n      <td>0.08</td>\n      <td>0.11</td>\n      <td>0.09</td>\n      <td>380</td>\n      <td>0.288462</td>\n      <td>0</td>\n      <td>0</td>\n      <td>1</td>\n    </tr>\n  </tbody>\n</table>\n</div>"
     },
     "execution_count": 150,
     "metadata": {},
     "output_type": "execute_result"
    }
   ],
   "source": [
    "train_df.head()"
   ],
   "metadata": {
    "collapsed": false,
    "pycharm": {
     "name": "#%%\n"
    }
   }
  },
  {
   "cell_type": "code",
   "execution_count": 151,
   "outputs": [
    {
     "data": {
      "text/plain": "      S1_Temp  S2_Temp  S3_Temp  S4_Temp  S1_Light  S2_Light  S3_Light  \\\n7166    25.38    25.38    24.94    25.88         0         0         0   \n8252    25.88    26.06    25.75    25.94         3         3        19   \n4347    25.44    25.44    24.94    25.69         0         0         0   \n8082    25.06    25.06    24.63    25.25         6         7        34   \n4676    25.25    25.31    24.75    25.63         0         0         0   \n\n      S4_Light  S1_Sound  S2_Sound  S3_Sound  S4_Sound  S5_CO2  S5_CO2_Slope  \\\n7166         0      0.08      0.06      0.06      0.08     355      0.000000   \n8252        12      0.88      0.38      0.15      0.08     740      2.707692   \n4347         0      0.06      0.04      0.06      0.06     365     -0.165385   \n8082        22      0.08      0.05      0.06      0.09     350      0.000000   \n4676         0      0.07      0.06      0.06      0.06     360      0.000000   \n\n      S6_PIR  S7_PIR  Room_Occupancy_Count  \n7166       0       0                     0  \n8252       1       0                     1  \n4347       0       0                     0  \n8082       0       0                     0  \n4676       0       0                     0  ",
      "text/html": "<div>\n<style scoped>\n    .dataframe tbody tr th:only-of-type {\n        vertical-align: middle;\n    }\n\n    .dataframe tbody tr th {\n        vertical-align: top;\n    }\n\n    .dataframe thead th {\n        text-align: right;\n    }\n</style>\n<table border=\"1\" class=\"dataframe\">\n  <thead>\n    <tr style=\"text-align: right;\">\n      <th></th>\n      <th>S1_Temp</th>\n      <th>S2_Temp</th>\n      <th>S3_Temp</th>\n      <th>S4_Temp</th>\n      <th>S1_Light</th>\n      <th>S2_Light</th>\n      <th>S3_Light</th>\n      <th>S4_Light</th>\n      <th>S1_Sound</th>\n      <th>S2_Sound</th>\n      <th>S3_Sound</th>\n      <th>S4_Sound</th>\n      <th>S5_CO2</th>\n      <th>S5_CO2_Slope</th>\n      <th>S6_PIR</th>\n      <th>S7_PIR</th>\n      <th>Room_Occupancy_Count</th>\n    </tr>\n  </thead>\n  <tbody>\n    <tr>\n      <th>7166</th>\n      <td>25.38</td>\n      <td>25.38</td>\n      <td>24.94</td>\n      <td>25.88</td>\n      <td>0</td>\n      <td>0</td>\n      <td>0</td>\n      <td>0</td>\n      <td>0.08</td>\n      <td>0.06</td>\n      <td>0.06</td>\n      <td>0.08</td>\n      <td>355</td>\n      <td>0.000000</td>\n      <td>0</td>\n      <td>0</td>\n      <td>0</td>\n    </tr>\n    <tr>\n      <th>8252</th>\n      <td>25.88</td>\n      <td>26.06</td>\n      <td>25.75</td>\n      <td>25.94</td>\n      <td>3</td>\n      <td>3</td>\n      <td>19</td>\n      <td>12</td>\n      <td>0.88</td>\n      <td>0.38</td>\n      <td>0.15</td>\n      <td>0.08</td>\n      <td>740</td>\n      <td>2.707692</td>\n      <td>1</td>\n      <td>0</td>\n      <td>1</td>\n    </tr>\n    <tr>\n      <th>4347</th>\n      <td>25.44</td>\n      <td>25.44</td>\n      <td>24.94</td>\n      <td>25.69</td>\n      <td>0</td>\n      <td>0</td>\n      <td>0</td>\n      <td>0</td>\n      <td>0.06</td>\n      <td>0.04</td>\n      <td>0.06</td>\n      <td>0.06</td>\n      <td>365</td>\n      <td>-0.165385</td>\n      <td>0</td>\n      <td>0</td>\n      <td>0</td>\n    </tr>\n    <tr>\n      <th>8082</th>\n      <td>25.06</td>\n      <td>25.06</td>\n      <td>24.63</td>\n      <td>25.25</td>\n      <td>6</td>\n      <td>7</td>\n      <td>34</td>\n      <td>22</td>\n      <td>0.08</td>\n      <td>0.05</td>\n      <td>0.06</td>\n      <td>0.09</td>\n      <td>350</td>\n      <td>0.000000</td>\n      <td>0</td>\n      <td>0</td>\n      <td>0</td>\n    </tr>\n    <tr>\n      <th>4676</th>\n      <td>25.25</td>\n      <td>25.31</td>\n      <td>24.75</td>\n      <td>25.63</td>\n      <td>0</td>\n      <td>0</td>\n      <td>0</td>\n      <td>0</td>\n      <td>0.07</td>\n      <td>0.06</td>\n      <td>0.06</td>\n      <td>0.06</td>\n      <td>360</td>\n      <td>0.000000</td>\n      <td>0</td>\n      <td>0</td>\n      <td>0</td>\n    </tr>\n  </tbody>\n</table>\n</div>"
     },
     "execution_count": 151,
     "metadata": {},
     "output_type": "execute_result"
    }
   ],
   "source": [
    "test_df.head()"
   ],
   "metadata": {
    "collapsed": false,
    "pycharm": {
     "name": "#%%\n"
    }
   }
  },
  {
   "cell_type": "markdown",
   "source": [
    "## Paso 4: División del *dataset* de entrenamiento en *features* y *output*"
   ],
   "metadata": {
    "collapsed": false,
    "pycharm": {
     "name": "#%% md\n"
    }
   }
  },
  {
   "cell_type": "code",
   "execution_count": 152,
   "outputs": [],
   "source": [
    "# Get output column\n",
    "train_output = train_df['Room_Occupancy_Count']\n",
    "# Get features columns\n",
    "train_features = train_df.copy()\n",
    "train_features.drop(['Room_Occupancy_Count'], axis=1, inplace=True)"
   ],
   "metadata": {
    "collapsed": false,
    "pycharm": {
     "name": "#%%\n"
    }
   }
  },
  {
   "cell_type": "code",
   "execution_count": 153,
   "outputs": [
    {
     "data": {
      "text/plain": "      S1_Temp  S2_Temp  S3_Temp  S4_Temp  S1_Light  S2_Light  S3_Light  \\\n3585    26.25    26.25    25.88    26.38       149       234       185   \n6310    25.44    25.44    25.25    26.13         0         0         0   \n7260    25.31    25.38    24.88    25.81         0         0         0   \n1685    25.31    25.31    24.88    25.69         0         0         0   \n2933    25.69    25.38    25.19    25.94       123        38        70   \n\n      S4_Light  S1_Sound  S2_Sound  S3_Sound  S4_Sound  S5_CO2  S5_CO2_Slope  \\\n3585        10      0.18      0.61      0.16      0.14     970      2.069231   \n6310         0      0.08      0.06      0.07      0.10     350      0.000000   \n7260         0      0.08      0.06      0.06      0.10     355      0.000000   \n1685         0      0.07      0.04      0.06      0.06     365     -0.084615   \n2933        50      0.12      0.08      0.11      0.09     380      0.288462   \n\n      S6_PIR  S7_PIR  \n3585       0       1  \n6310       0       0  \n7260       0       0  \n1685       0       0  \n2933       0       0  ",
      "text/html": "<div>\n<style scoped>\n    .dataframe tbody tr th:only-of-type {\n        vertical-align: middle;\n    }\n\n    .dataframe tbody tr th {\n        vertical-align: top;\n    }\n\n    .dataframe thead th {\n        text-align: right;\n    }\n</style>\n<table border=\"1\" class=\"dataframe\">\n  <thead>\n    <tr style=\"text-align: right;\">\n      <th></th>\n      <th>S1_Temp</th>\n      <th>S2_Temp</th>\n      <th>S3_Temp</th>\n      <th>S4_Temp</th>\n      <th>S1_Light</th>\n      <th>S2_Light</th>\n      <th>S3_Light</th>\n      <th>S4_Light</th>\n      <th>S1_Sound</th>\n      <th>S2_Sound</th>\n      <th>S3_Sound</th>\n      <th>S4_Sound</th>\n      <th>S5_CO2</th>\n      <th>S5_CO2_Slope</th>\n      <th>S6_PIR</th>\n      <th>S7_PIR</th>\n    </tr>\n  </thead>\n  <tbody>\n    <tr>\n      <th>3585</th>\n      <td>26.25</td>\n      <td>26.25</td>\n      <td>25.88</td>\n      <td>26.38</td>\n      <td>149</td>\n      <td>234</td>\n      <td>185</td>\n      <td>10</td>\n      <td>0.18</td>\n      <td>0.61</td>\n      <td>0.16</td>\n      <td>0.14</td>\n      <td>970</td>\n      <td>2.069231</td>\n      <td>0</td>\n      <td>1</td>\n    </tr>\n    <tr>\n      <th>6310</th>\n      <td>25.44</td>\n      <td>25.44</td>\n      <td>25.25</td>\n      <td>26.13</td>\n      <td>0</td>\n      <td>0</td>\n      <td>0</td>\n      <td>0</td>\n      <td>0.08</td>\n      <td>0.06</td>\n      <td>0.07</td>\n      <td>0.10</td>\n      <td>350</td>\n      <td>0.000000</td>\n      <td>0</td>\n      <td>0</td>\n    </tr>\n    <tr>\n      <th>7260</th>\n      <td>25.31</td>\n      <td>25.38</td>\n      <td>24.88</td>\n      <td>25.81</td>\n      <td>0</td>\n      <td>0</td>\n      <td>0</td>\n      <td>0</td>\n      <td>0.08</td>\n      <td>0.06</td>\n      <td>0.06</td>\n      <td>0.10</td>\n      <td>355</td>\n      <td>0.000000</td>\n      <td>0</td>\n      <td>0</td>\n    </tr>\n    <tr>\n      <th>1685</th>\n      <td>25.31</td>\n      <td>25.31</td>\n      <td>24.88</td>\n      <td>25.69</td>\n      <td>0</td>\n      <td>0</td>\n      <td>0</td>\n      <td>0</td>\n      <td>0.07</td>\n      <td>0.04</td>\n      <td>0.06</td>\n      <td>0.06</td>\n      <td>365</td>\n      <td>-0.084615</td>\n      <td>0</td>\n      <td>0</td>\n    </tr>\n    <tr>\n      <th>2933</th>\n      <td>25.69</td>\n      <td>25.38</td>\n      <td>25.19</td>\n      <td>25.94</td>\n      <td>123</td>\n      <td>38</td>\n      <td>70</td>\n      <td>50</td>\n      <td>0.12</td>\n      <td>0.08</td>\n      <td>0.11</td>\n      <td>0.09</td>\n      <td>380</td>\n      <td>0.288462</td>\n      <td>0</td>\n      <td>0</td>\n    </tr>\n  </tbody>\n</table>\n</div>"
     },
     "execution_count": 153,
     "metadata": {},
     "output_type": "execute_result"
    }
   ],
   "source": [
    "train_features.head()"
   ],
   "metadata": {
    "collapsed": false,
    "pycharm": {
     "name": "#%%\n"
    }
   }
  },
  {
   "cell_type": "code",
   "execution_count": 154,
   "outputs": [
    {
     "data": {
      "text/plain": "3585    1\n6310    0\n7260    0\n1685    0\n2933    1\nName: Room_Occupancy_Count, dtype: int32"
     },
     "execution_count": 154,
     "metadata": {},
     "output_type": "execute_result"
    }
   ],
   "source": [
    "train_output.head()"
   ],
   "metadata": {
    "collapsed": false,
    "pycharm": {
     "name": "#%%\n"
    }
   }
  },
  {
   "cell_type": "markdown",
   "source": [
    "# 3. Seguimiento de la huella de carbono"
   ],
   "metadata": {
    "collapsed": false,
    "pycharm": {
     "name": "#%% md\n"
    }
   }
  },
  {
   "cell_type": "markdown",
   "source": [
    "## 1. *Logistic Regression*:\n"
   ],
   "metadata": {
    "collapsed": false,
    "pycharm": {
     "name": "#%% md\n"
    }
   }
  },
  {
   "cell_type": "code",
   "execution_count": 156,
   "outputs": [],
   "source": [
    "#Scaling features data\n",
    "#scaler = StandardScaler()\n",
    "#scaled_train_features = scaler.fit_transform(train_features)"
   ],
   "metadata": {
    "collapsed": false,
    "pycharm": {
     "name": "#%%\n"
    }
   }
  },
  {
   "cell_type": "markdown",
   "source": [
    "### CodeCarbon:"
   ],
   "metadata": {
    "collapsed": false,
    "pycharm": {
     "name": "#%% md\n"
    }
   }
  },
  {
   "cell_type": "code",
   "execution_count": 157,
   "outputs": [
    {
     "name": "stderr",
     "output_type": "stream",
     "text": [
      "[codecarbon INFO @ 17:20:39] [setup] RAM Tracking...\n",
      "[codecarbon INFO @ 17:20:39] [setup] GPU Tracking...\n",
      "[codecarbon INFO @ 17:20:39] Tracking Nvidia GPU via pynvml\n",
      "[codecarbon INFO @ 17:20:39] [setup] CPU Tracking...\n",
      "[codecarbon WARNING @ 17:20:39] No CPU tracking mode found. Falling back on CPU constant mode.\n",
      "[codecarbon INFO @ 17:20:41] CPU Model on constant consumption mode: Intel(R) Core(TM) i5-9400F CPU @ 2.90GHz\n",
      "[codecarbon INFO @ 17:20:41] >>> Tracker's metadata:\n",
      "[codecarbon INFO @ 17:20:41]   Platform system: Windows-10-10.0.19043-SP0\n",
      "[codecarbon INFO @ 17:20:41]   Python version: 3.10.4\n",
      "[codecarbon INFO @ 17:20:41]   Available RAM : 7.935 GB\n",
      "[codecarbon INFO @ 17:20:41]   CPU count: 6\n",
      "[codecarbon INFO @ 17:20:41]   CPU model: Intel(R) Core(TM) i5-9400F CPU @ 2.90GHz\n",
      "[codecarbon INFO @ 17:20:41]   GPU count: 1\n",
      "[codecarbon INFO @ 17:20:41]   GPU model: 1 x GeForce GT 710\n",
      "[codecarbon INFO @ 17:20:41] Energy consumed for RAM : 0.000000 kWh. RAM Power : 2.97562837600708 W\n",
      "[codecarbon INFO @ 17:20:41] Energy consumed for all GPUs : 0.000000 kWh. All GPUs Power : 0.0 W\n",
      "[codecarbon INFO @ 17:20:41] Energy consumed for all CPUs : 0.000001 kWh. All CPUs Power : 32.5 W\n",
      "[codecarbon INFO @ 17:20:41] 0.000001 kWh of electricity used since the begining.\n"
     ]
    },
    {
     "name": "stdout",
     "output_type": "stream",
     "text": [
      "Emissions: 1.1443766882514693e-07 kg\n"
     ]
    }
   ],
   "source": [
    "# Tracking training with codecarbon tool\n",
    "tracker = EmissionsTracker()\n",
    "lg_pipeline = Pipeline([(\"scaler\", StandardScaler()), (\"logistic_regression\", LogisticRegression()),])\n",
    "\n",
    "tracker.start()\n",
    "lg_pipeline.fit(train_features, train_output)\n",
    "emissions: float = tracker.stop()\n",
    "print(f\"Emissions: {emissions} kg\")"
   ],
   "metadata": {
    "collapsed": false,
    "pycharm": {
     "name": "#%%\n"
    }
   }
  },
  {
   "cell_type": "markdown",
   "source": [
    "## 2. *Random Forest*"
   ],
   "metadata": {
    "collapsed": false,
    "pycharm": {
     "name": "#%% md\n"
    }
   }
  },
  {
   "cell_type": "markdown",
   "source": [
    "### CodeCarbon:"
   ],
   "metadata": {
    "collapsed": false,
    "pycharm": {
     "name": "#%% md\n"
    }
   }
  },
  {
   "cell_type": "code",
   "execution_count": 161,
   "outputs": [
    {
     "name": "stderr",
     "output_type": "stream",
     "text": [
      "[codecarbon INFO @ 17:26:38] [setup] RAM Tracking...\n",
      "[codecarbon INFO @ 17:26:38] [setup] GPU Tracking...\n",
      "[codecarbon INFO @ 17:26:38] Tracking Nvidia GPU via pynvml\n",
      "[codecarbon INFO @ 17:26:38] [setup] CPU Tracking...\n",
      "[codecarbon WARNING @ 17:26:38] No CPU tracking mode found. Falling back on CPU constant mode.\n",
      "[codecarbon INFO @ 17:26:40] CPU Model on constant consumption mode: Intel(R) Core(TM) i5-9400F CPU @ 2.90GHz\n",
      "[codecarbon INFO @ 17:26:40] >>> Tracker's metadata:\n",
      "[codecarbon INFO @ 17:26:40]   Platform system: Windows-10-10.0.19043-SP0\n",
      "[codecarbon INFO @ 17:26:40]   Python version: 3.10.4\n",
      "[codecarbon INFO @ 17:26:40]   Available RAM : 7.935 GB\n",
      "[codecarbon INFO @ 17:26:40]   CPU count: 6\n",
      "[codecarbon INFO @ 17:26:40]   CPU model: Intel(R) Core(TM) i5-9400F CPU @ 2.90GHz\n",
      "[codecarbon INFO @ 17:26:40]   GPU count: 1\n",
      "[codecarbon INFO @ 17:26:40]   GPU model: 1 x GeForce GT 710\n",
      "[codecarbon INFO @ 17:26:41] Energy consumed for RAM : 0.000000 kWh. RAM Power : 2.97562837600708 W\n",
      "[codecarbon INFO @ 17:26:41] Energy consumed for all GPUs : 0.000000 kWh. All GPUs Power : 0.0 W\n",
      "[codecarbon INFO @ 17:26:41] Energy consumed for all CPUs : 0.000002 kWh. All CPUs Power : 32.5 W\n",
      "[codecarbon INFO @ 17:26:41] 0.000002 kWh of electricity used since the begining.\n"
     ]
    },
    {
     "name": "stdout",
     "output_type": "stream",
     "text": [
      "Emissions: 3.777838542553222e-07 kg\n"
     ]
    }
   ],
   "source": [
    "# Tracking training with codecarbon tool\n",
    "rnd_clf = RandomForestClassifier(n_estimators=100, max_leaf_nodes=16, n_jobs=-1)\n",
    "tracker = EmissionsTracker()\n",
    "\n",
    "tracker.start()\n",
    "rnd_clf.fit(train_features, train_output)\n",
    "emissions: float = tracker.stop()\n",
    "print(f\"Emissions: {emissions} kg\")"
   ],
   "metadata": {
    "collapsed": false,
    "pycharm": {
     "name": "#%%\n"
    }
   }
  },
  {
   "cell_type": "markdown",
   "source": [
    "## 3. *Support Vector Machine* (SVM)"
   ],
   "metadata": {
    "collapsed": false,
    "pycharm": {
     "name": "#%% md\n"
    }
   }
  },
  {
   "cell_type": "markdown",
   "source": [
    "### CodeCarbon"
   ],
   "metadata": {
    "collapsed": false,
    "pycharm": {
     "name": "#%% md\n"
    }
   }
  },
  {
   "cell_type": "code",
   "execution_count": 160,
   "outputs": [
    {
     "name": "stderr",
     "output_type": "stream",
     "text": [
      "[codecarbon INFO @ 17:26:23] [setup] RAM Tracking...\n",
      "[codecarbon INFO @ 17:26:23] [setup] GPU Tracking...\n",
      "[codecarbon INFO @ 17:26:23] Tracking Nvidia GPU via pynvml\n",
      "[codecarbon INFO @ 17:26:23] [setup] CPU Tracking...\n",
      "[codecarbon WARNING @ 17:26:23] No CPU tracking mode found. Falling back on CPU constant mode.\n",
      "[codecarbon INFO @ 17:26:25] CPU Model on constant consumption mode: Intel(R) Core(TM) i5-9400F CPU @ 2.90GHz\n",
      "[codecarbon INFO @ 17:26:25] >>> Tracker's metadata:\n",
      "[codecarbon INFO @ 17:26:25]   Platform system: Windows-10-10.0.19043-SP0\n",
      "[codecarbon INFO @ 17:26:25]   Python version: 3.10.4\n",
      "[codecarbon INFO @ 17:26:25]   Available RAM : 7.935 GB\n",
      "[codecarbon INFO @ 17:26:25]   CPU count: 6\n",
      "[codecarbon INFO @ 17:26:25]   CPU model: Intel(R) Core(TM) i5-9400F CPU @ 2.90GHz\n",
      "[codecarbon INFO @ 17:26:25]   GPU count: 1\n",
      "[codecarbon INFO @ 17:26:25]   GPU model: 1 x GeForce GT 710\n",
      "C:\\Users\\INTEL I5\\miniconda3\\envs\\TFG_Project\\lib\\site-packages\\sklearn\\svm\\_base.py:1225: ConvergenceWarning: Liblinear failed to converge, increase the number of iterations.\n",
      "  warnings.warn(\n",
      "[codecarbon INFO @ 17:26:25] Energy consumed for RAM : 0.000000 kWh. RAM Power : 2.97562837600708 W\n",
      "[codecarbon INFO @ 17:26:25] Energy consumed for all GPUs : 0.000000 kWh. All GPUs Power : 0.0 W\n",
      "[codecarbon INFO @ 17:26:25] Energy consumed for all CPUs : 0.000000 kWh. All CPUs Power : 32.5 W\n",
      "[codecarbon INFO @ 17:26:25] 0.000000 kWh of electricity used since the begining.\n"
     ]
    },
    {
     "name": "stdout",
     "output_type": "stream",
     "text": [
      "Emissions: 5.595417282859532e-08 kg\n"
     ]
    }
   ],
   "source": [
    "# Tracking training with codecarbon tool\n",
    "svm_pipeline = Pipeline([(\"scaler\", StandardScaler()),(\"linear_svc\", LinearSVC(C=1, loss=\"hinge\")),])\n",
    "tracker = EmissionsTracker()\n",
    "\n",
    "tracker.start()\n",
    "svm_pipeline.fit(train_features, train_output)\n",
    "emissions: float = tracker.stop()\n",
    "print(f\"Emissions: {emissions} kg\")"
   ],
   "metadata": {
    "collapsed": false,
    "pycharm": {
     "name": "#%%\n"
    }
   }
  },
  {
   "cell_type": "markdown",
   "source": [],
   "metadata": {
    "collapsed": false,
    "pycharm": {
     "name": "#%% md\n"
    }
   }
  }
 ],
 "metadata": {
  "kernelspec": {
   "display_name": "Python 3",
   "language": "python",
   "name": "python3"
  },
  "language_info": {
   "codemirror_mode": {
    "name": "ipython",
    "version": 2
   },
   "file_extension": ".py",
   "mimetype": "text/x-python",
   "name": "python",
   "nbconvert_exporter": "python",
   "pygments_lexer": "ipython2",
   "version": "2.7.6"
  }
 },
 "nbformat": 4,
 "nbformat_minor": 0
}