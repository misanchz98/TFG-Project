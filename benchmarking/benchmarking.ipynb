{
 "cells": [
  {
   "cell_type": "markdown",
   "source": [
    "# 1. Import packages"
   ],
   "metadata": {
    "collapsed": false
   }
  },
  {
   "cell_type": "code",
   "execution_count": 1,
   "outputs": [
    {
     "name": "stdout",
     "output_type": "stream",
     "text": [
      "Invoking __init__.py for modules\n"
     ]
    }
   ],
   "source": [
    "import sys\n",
    "sys.path.append('..')\n",
    "from modules import preprocess, benchmarking, graphics"
   ],
   "metadata": {
    "collapsed": false,
    "ExecuteTime": {
     "end_time": "2023-05-21T16:56:09.156905908Z",
     "start_time": "2023-05-21T16:56:07.509709449Z"
    }
   }
  },
  {
   "cell_type": "markdown",
   "source": [
    "# 2. Load dataset"
   ],
   "metadata": {
    "collapsed": false
   }
  },
  {
   "cell_type": "code",
   "execution_count": 2,
   "outputs": [],
   "source": [
    "df = preprocess.load_csv_data('../dataset/Occupancy_Estimation.csv')"
   ],
   "metadata": {
    "collapsed": false,
    "ExecuteTime": {
     "end_time": "2023-05-21T16:56:09.296697894Z",
     "start_time": "2023-05-21T16:56:09.167532787Z"
    }
   }
  },
  {
   "cell_type": "markdown",
   "source": [
    "# 3. Data preprocessing\n",
    "- Step 1: Transform features\n",
    "  - Binary results for Room_Occupancy_Count\n",
    "  - Drop Date and Time features\n",
    "- Step 2: Clean data\n",
    "  - Drop duplicated rows"
   ],
   "metadata": {
    "collapsed": false
   }
  },
  {
   "cell_type": "code",
   "execution_count": 3,
   "outputs": [
    {
     "data": {
      "text/plain": "   S1_Temp  S2_Temp  S3_Temp  S4_Temp  S1_Light  S2_Light  S3_Light  S4_Light  \\\n0    24.94    24.75    24.56    25.38       121        34        53        40   \n1    24.94    24.75    24.56    25.44       121        33        53        40   \n2    25.00    24.75    24.50    25.44       121        34        53        40   \n3    25.00    24.75    24.56    25.44       121        34        53        40   \n4    25.00    24.75    24.56    25.44       121        34        54        40   \n\n   S1_Sound  S2_Sound  S3_Sound  S4_Sound  S5_CO2  S5_CO2_Slope  S6_PIR  \\\n0      0.08      0.19      0.06      0.06     390      0.769231       0   \n1      0.93      0.05      0.06      0.06     390      0.646154       0   \n2      0.43      0.11      0.08      0.06     390      0.519231       0   \n3      0.41      0.10      0.10      0.09     390      0.388462       0   \n4      0.18      0.06      0.06      0.06     390      0.253846       0   \n\n   S7_PIR  Room_Occupancy_Count  \n0       0                     1  \n1       0                     1  \n2       0                     1  \n3       0                     1  \n4       0                     1  ",
      "text/html": "<div>\n<style scoped>\n    .dataframe tbody tr th:only-of-type {\n        vertical-align: middle;\n    }\n\n    .dataframe tbody tr th {\n        vertical-align: top;\n    }\n\n    .dataframe thead th {\n        text-align: right;\n    }\n</style>\n<table border=\"1\" class=\"dataframe\">\n  <thead>\n    <tr style=\"text-align: right;\">\n      <th></th>\n      <th>S1_Temp</th>\n      <th>S2_Temp</th>\n      <th>S3_Temp</th>\n      <th>S4_Temp</th>\n      <th>S1_Light</th>\n      <th>S2_Light</th>\n      <th>S3_Light</th>\n      <th>S4_Light</th>\n      <th>S1_Sound</th>\n      <th>S2_Sound</th>\n      <th>S3_Sound</th>\n      <th>S4_Sound</th>\n      <th>S5_CO2</th>\n      <th>S5_CO2_Slope</th>\n      <th>S6_PIR</th>\n      <th>S7_PIR</th>\n      <th>Room_Occupancy_Count</th>\n    </tr>\n  </thead>\n  <tbody>\n    <tr>\n      <th>0</th>\n      <td>24.94</td>\n      <td>24.75</td>\n      <td>24.56</td>\n      <td>25.38</td>\n      <td>121</td>\n      <td>34</td>\n      <td>53</td>\n      <td>40</td>\n      <td>0.08</td>\n      <td>0.19</td>\n      <td>0.06</td>\n      <td>0.06</td>\n      <td>390</td>\n      <td>0.769231</td>\n      <td>0</td>\n      <td>0</td>\n      <td>1</td>\n    </tr>\n    <tr>\n      <th>1</th>\n      <td>24.94</td>\n      <td>24.75</td>\n      <td>24.56</td>\n      <td>25.44</td>\n      <td>121</td>\n      <td>33</td>\n      <td>53</td>\n      <td>40</td>\n      <td>0.93</td>\n      <td>0.05</td>\n      <td>0.06</td>\n      <td>0.06</td>\n      <td>390</td>\n      <td>0.646154</td>\n      <td>0</td>\n      <td>0</td>\n      <td>1</td>\n    </tr>\n    <tr>\n      <th>2</th>\n      <td>25.00</td>\n      <td>24.75</td>\n      <td>24.50</td>\n      <td>25.44</td>\n      <td>121</td>\n      <td>34</td>\n      <td>53</td>\n      <td>40</td>\n      <td>0.43</td>\n      <td>0.11</td>\n      <td>0.08</td>\n      <td>0.06</td>\n      <td>390</td>\n      <td>0.519231</td>\n      <td>0</td>\n      <td>0</td>\n      <td>1</td>\n    </tr>\n    <tr>\n      <th>3</th>\n      <td>25.00</td>\n      <td>24.75</td>\n      <td>24.56</td>\n      <td>25.44</td>\n      <td>121</td>\n      <td>34</td>\n      <td>53</td>\n      <td>40</td>\n      <td>0.41</td>\n      <td>0.10</td>\n      <td>0.10</td>\n      <td>0.09</td>\n      <td>390</td>\n      <td>0.388462</td>\n      <td>0</td>\n      <td>0</td>\n      <td>1</td>\n    </tr>\n    <tr>\n      <th>4</th>\n      <td>25.00</td>\n      <td>24.75</td>\n      <td>24.56</td>\n      <td>25.44</td>\n      <td>121</td>\n      <td>34</td>\n      <td>54</td>\n      <td>40</td>\n      <td>0.18</td>\n      <td>0.06</td>\n      <td>0.06</td>\n      <td>0.06</td>\n      <td>390</td>\n      <td>0.253846</td>\n      <td>0</td>\n      <td>0</td>\n      <td>1</td>\n    </tr>\n  </tbody>\n</table>\n</div>"
     },
     "execution_count": 3,
     "metadata": {},
     "output_type": "execute_result"
    }
   ],
   "source": [
    "# Step 1: Recode Room_Occupancy_Count column\n",
    "preprocess.recode_dataset_output(df)\n",
    "\n",
    "# Step 2: Filter Date and Time columns\n",
    "preprocess.remove_time_columns(df)\n",
    "\n",
    "df.head()"
   ],
   "metadata": {
    "collapsed": false,
    "ExecuteTime": {
     "end_time": "2023-05-21T16:56:09.359333445Z",
     "start_time": "2023-05-21T16:56:09.248151377Z"
    }
   }
  },
  {
   "cell_type": "markdown",
   "source": [
    "# 4. Benchmarking"
   ],
   "metadata": {
    "collapsed": false
   }
  },
  {
   "cell_type": "code",
   "execution_count": 4,
   "outputs": [],
   "source": [
    "# Split dataset into features and output\n",
    "X = preprocess.get_features(df)\n",
    "y = preprocess.get_output(df)\n",
    "\n",
    "# Split dataset into training and test\n",
    "X_train, X_test, y_train, y_test = preprocess.split_dataset(X, y)"
   ],
   "metadata": {
    "collapsed": false,
    "ExecuteTime": {
     "end_time": "2023-05-21T16:56:09.409636581Z",
     "start_time": "2023-05-21T16:56:09.374890977Z"
    }
   }
  },
  {
   "cell_type": "markdown",
   "source": [
    "## Create benchmarking Dataframe:\n",
    "- Create benchmarking's df structure.\n",
    "- Track models training with CodeCarbon and Eco2AI.\n",
    "- Store in benchmarking's df tracking results.\n",
    "- Store in benchmarking's df evaluation metrics."
   ],
   "metadata": {
    "collapsed": false
   }
  },
  {
   "cell_type": "code",
   "execution_count": 5,
   "outputs": [
    {
     "name": "stderr",
     "output_type": "stream",
     "text": [
      "[codecarbon INFO @ 18:56:09] [setup] RAM Tracking...\n",
      "[codecarbon INFO @ 18:56:09] [setup] GPU Tracking...\n",
      "[codecarbon INFO @ 18:56:09] No GPU found.\n",
      "[codecarbon INFO @ 18:56:09] [setup] CPU Tracking...\n",
      "[codecarbon WARNING @ 18:56:09] No CPU tracking mode found. Falling back on CPU constant mode.\n",
      "[codecarbon INFO @ 18:56:11] CPU Model on constant consumption mode: Intel(R) Core(TM) i5-9400F CPU @ 2.90GHz\n",
      "[codecarbon INFO @ 18:56:11] >>> Tracker's metadata:\n",
      "[codecarbon INFO @ 18:56:11]   Platform system: Linux-5.19.0-41-generic-x86_64-with-glibc2.35\n",
      "[codecarbon INFO @ 18:56:11]   Python version: 3.10.8\n",
      "[codecarbon INFO @ 18:56:11]   Available RAM : 4.946 GB\n",
      "[codecarbon INFO @ 18:56:11]   CPU count: 4\n",
      "[codecarbon INFO @ 18:56:11]   CPU model: Intel(R) Core(TM) i5-9400F CPU @ 2.90GHz\n",
      "[codecarbon INFO @ 18:56:11]   GPU count: None\n",
      "[codecarbon INFO @ 18:56:11]   GPU model: None\n"
     ]
    },
    {
     "name": "stdout",
     "output_type": "stream",
     "text": [
      "Fitting 5 folds for each of 120 candidates, totalling 600 fits\n"
     ]
    },
    {
     "name": "stderr",
     "output_type": "stream",
     "text": [
      "[codecarbon INFO @ 18:56:29] Energy consumed for RAM : 0.000000 kWh. RAM Power : 0.08478927612304688 W\n",
      "[codecarbon INFO @ 18:56:30] Energy consumed for all CPUs : 0.000142 kWh. All CPUs Power : 32.5 W\n",
      "[codecarbon INFO @ 18:56:30] 0.000142 kWh of electricity used since the begining.\n",
      "[codecarbon INFO @ 18:56:44] Energy consumed for RAM : 0.000001 kWh. RAM Power : 0.08504104614257812 W\n",
      "[codecarbon INFO @ 18:56:45] Energy consumed for all CPUs : 0.000277 kWh. All CPUs Power : 32.5 W\n",
      "[codecarbon INFO @ 18:56:45] 0.000278 kWh of electricity used since the begining.\n",
      "[codecarbon INFO @ 18:56:46] Energy consumed for RAM : 0.000001 kWh. RAM Power : 0.08522844314575195 W\n",
      "[codecarbon INFO @ 18:56:46] Energy consumed for all CPUs : 0.000292 kWh. All CPUs Power : 32.5 W\n",
      "[codecarbon INFO @ 18:56:46] 0.000293 kWh of electricity used since the begining.\n",
      "[codecarbon INFO @ 18:56:47] [setup] RAM Tracking...\n",
      "[codecarbon INFO @ 18:56:47] [setup] GPU Tracking...\n",
      "[codecarbon INFO @ 18:56:47] No GPU found.\n",
      "[codecarbon INFO @ 18:56:47] [setup] CPU Tracking...\n",
      "[codecarbon WARNING @ 18:56:47] No CPU tracking mode found. Falling back on CPU constant mode.\n"
     ]
    },
    {
     "name": "stdout",
     "output_type": "stream",
     "text": [
      "Best estimator LR:  Pipeline(steps=[('scaler', RobustScaler()),\n",
      "                ('estimator',\n",
      "                 LogisticRegression(C=78.47599703514607, max_iter=500,\n",
      "                                    penalty='l1', solver='liblinear'))])\n",
      "Precision:  1.0\n",
      "Recall:  0.9982993197278912\n",
      "F1:  0.9991489361702128\n"
     ]
    },
    {
     "name": "stderr",
     "output_type": "stream",
     "text": [
      "[codecarbon INFO @ 18:56:48] CPU Model on constant consumption mode: Intel(R) Core(TM) i5-9400F CPU @ 2.90GHz\n",
      "[codecarbon INFO @ 18:56:48] >>> Tracker's metadata:\n",
      "[codecarbon INFO @ 18:56:48]   Platform system: Linux-5.19.0-41-generic-x86_64-with-glibc2.35\n",
      "[codecarbon INFO @ 18:56:48]   Python version: 3.10.8\n",
      "[codecarbon INFO @ 18:56:48]   Available RAM : 4.946 GB\n",
      "[codecarbon INFO @ 18:56:48]   CPU count: 4\n",
      "[codecarbon INFO @ 18:56:48]   CPU model: Intel(R) Core(TM) i5-9400F CPU @ 2.90GHz\n",
      "[codecarbon INFO @ 18:56:48]   GPU count: None\n",
      "[codecarbon INFO @ 18:56:48]   GPU model: None\n"
     ]
    },
    {
     "name": "stdout",
     "output_type": "stream",
     "text": [
      "Fitting 5 folds for each of 10 candidates, totalling 50 fits\n"
     ]
    },
    {
     "name": "stderr",
     "output_type": "stream",
     "text": [
      "[codecarbon INFO @ 18:57:07] Energy consumed for RAM : 0.000000 kWh. RAM Power : 0.085968017578125 W\n",
      "[codecarbon INFO @ 18:57:07] Energy consumed for all CPUs : 0.000136 kWh. All CPUs Power : 32.5 W\n",
      "[codecarbon INFO @ 18:57:07] 0.000137 kWh of electricity used since the begining.\n",
      "[codecarbon INFO @ 18:57:22] Energy consumed for RAM : 0.000001 kWh. RAM Power : 0.08639860153198242 W\n",
      "[codecarbon INFO @ 18:57:22] Energy consumed for all CPUs : 0.000272 kWh. All CPUs Power : 32.5 W\n",
      "[codecarbon INFO @ 18:57:22] 0.000273 kWh of electricity used since the begining.\n",
      "[codecarbon INFO @ 18:57:40] Energy consumed for RAM : 0.000001 kWh. RAM Power : 0.08645296096801758 W\n",
      "[codecarbon INFO @ 18:57:40] Energy consumed for all CPUs : 0.000435 kWh. All CPUs Power : 32.5 W\n",
      "[codecarbon INFO @ 18:57:40] 0.000436 kWh of electricity used since the begining.\n",
      "[codecarbon INFO @ 18:57:44] Energy consumed for RAM : 0.000001 kWh. RAM Power : 0.0864715576171875 W\n",
      "[codecarbon INFO @ 18:57:44] Energy consumed for all CPUs : 0.000471 kWh. All CPUs Power : 32.5 W\n",
      "[codecarbon INFO @ 18:57:44] 0.000472 kWh of electricity used since the begining.\n",
      "[codecarbon INFO @ 18:57:44] [setup] RAM Tracking...\n",
      "[codecarbon INFO @ 18:57:44] [setup] GPU Tracking...\n",
      "[codecarbon INFO @ 18:57:44] No GPU found.\n",
      "[codecarbon INFO @ 18:57:44] [setup] CPU Tracking...\n",
      "[codecarbon WARNING @ 18:57:44] No CPU tracking mode found. Falling back on CPU constant mode.\n"
     ]
    },
    {
     "name": "stdout",
     "output_type": "stream",
     "text": [
      "Best estimator RF:  RandomForestClassifier(bootstrap=False, max_depth=90, max_features=3,\n",
      "                       min_samples_leaf=4, min_samples_split=12)\n",
      "Precision:  1.0\n",
      "Recall:  0.9982993197278912\n",
      "F1:  0.9991489361702128\n"
     ]
    },
    {
     "name": "stderr",
     "output_type": "stream",
     "text": [
      "[codecarbon INFO @ 18:57:46] CPU Model on constant consumption mode: Intel(R) Core(TM) i5-9400F CPU @ 2.90GHz\n",
      "[codecarbon INFO @ 18:57:46] >>> Tracker's metadata:\n",
      "[codecarbon INFO @ 18:57:46]   Platform system: Linux-5.19.0-41-generic-x86_64-with-glibc2.35\n",
      "[codecarbon INFO @ 18:57:46]   Python version: 3.10.8\n",
      "[codecarbon INFO @ 18:57:46]   Available RAM : 4.946 GB\n",
      "[codecarbon INFO @ 18:57:46]   CPU count: 4\n",
      "[codecarbon INFO @ 18:57:46]   CPU model: Intel(R) Core(TM) i5-9400F CPU @ 2.90GHz\n",
      "[codecarbon INFO @ 18:57:46]   GPU count: None\n",
      "[codecarbon INFO @ 18:57:46]   GPU model: None\n"
     ]
    },
    {
     "name": "stdout",
     "output_type": "stream",
     "text": [
      "Fitting 5 folds for each of 25 candidates, totalling 125 fits\n"
     ]
    },
    {
     "name": "stderr",
     "output_type": "stream",
     "text": [
      "[codecarbon INFO @ 18:58:04] Energy consumed for RAM : 0.000000 kWh. RAM Power : 0.08671331405639648 W\n",
      "[codecarbon INFO @ 18:58:04] Energy consumed for all CPUs : 0.000136 kWh. All CPUs Power : 32.5 W\n",
      "[codecarbon INFO @ 18:58:04] 0.000136 kWh of electricity used since the begining.\n",
      "[codecarbon INFO @ 18:58:19] Energy consumed for RAM : 0.000001 kWh. RAM Power : 0.08662605285644531 W\n",
      "[codecarbon INFO @ 18:58:19] Energy consumed for all CPUs : 0.000271 kWh. All CPUs Power : 32.5 W\n",
      "[codecarbon INFO @ 18:58:19] 0.000271 kWh of electricity used since the begining.\n",
      "[codecarbon INFO @ 18:58:34] Energy consumed for RAM : 0.000001 kWh. RAM Power : 0.08663463592529297 W\n",
      "[codecarbon INFO @ 18:58:34] Energy consumed for all CPUs : 0.000406 kWh. All CPUs Power : 32.5 W\n",
      "[codecarbon INFO @ 18:58:34] 0.000407 kWh of electricity used since the begining.\n",
      "[codecarbon INFO @ 18:58:49] Energy consumed for RAM : 0.000001 kWh. RAM Power : 0.09428787231445312 W\n",
      "[codecarbon INFO @ 18:58:49] Energy consumed for all CPUs : 0.000542 kWh. All CPUs Power : 32.5 W\n",
      "[codecarbon INFO @ 18:58:49] 0.000543 kWh of electricity used since the begining.\n",
      "[codecarbon INFO @ 18:59:03] Energy consumed for RAM : 0.000002 kWh. RAM Power : 0.08736562728881836 W\n",
      "[codecarbon INFO @ 18:59:03] Energy consumed for all CPUs : 0.000664 kWh. All CPUs Power : 32.5 W\n",
      "[codecarbon INFO @ 18:59:03] 0.000666 kWh of electricity used since the begining.\n",
      "[codecarbon INFO @ 18:59:03] [setup] RAM Tracking...\n",
      "[codecarbon INFO @ 18:59:03] [setup] GPU Tracking...\n",
      "[codecarbon INFO @ 18:59:03] No GPU found.\n",
      "[codecarbon INFO @ 18:59:03] [setup] CPU Tracking...\n",
      "[codecarbon WARNING @ 18:59:03] No CPU tracking mode found. Falling back on CPU constant mode.\n"
     ]
    },
    {
     "name": "stdout",
     "output_type": "stream",
     "text": [
      "Best estimator SVM:  SVC(C=1, gamma=0.001)\n",
      "Precision:  1.0\n",
      "Recall:  0.9982993197278912\n",
      "F1:  0.9991489361702128\n"
     ]
    },
    {
     "name": "stderr",
     "output_type": "stream",
     "text": [
      "[codecarbon INFO @ 18:59:05] CPU Model on constant consumption mode: Intel(R) Core(TM) i5-9400F CPU @ 2.90GHz\n",
      "[codecarbon INFO @ 18:59:05] >>> Tracker's metadata:\n",
      "[codecarbon INFO @ 18:59:05]   Platform system: Linux-5.19.0-41-generic-x86_64-with-glibc2.35\n",
      "[codecarbon INFO @ 18:59:05]   Python version: 3.10.8\n",
      "[codecarbon INFO @ 18:59:05]   Available RAM : 4.946 GB\n",
      "[codecarbon INFO @ 18:59:05]   CPU count: 4\n",
      "[codecarbon INFO @ 18:59:05]   CPU model: Intel(R) Core(TM) i5-9400F CPU @ 2.90GHz\n",
      "[codecarbon INFO @ 18:59:05]   GPU count: None\n",
      "[codecarbon INFO @ 18:59:05]   GPU model: None\n"
     ]
    },
    {
     "name": "stdout",
     "output_type": "stream",
     "text": [
      "Fitting 5 folds for each of 10 candidates, totalling 50 fits\n"
     ]
    },
    {
     "name": "stderr",
     "output_type": "stream",
     "text": [
      "[codecarbon INFO @ 18:59:23] Energy consumed for RAM : 0.000000 kWh. RAM Power : 0.087432861328125 W\n",
      "[codecarbon INFO @ 18:59:23] Energy consumed for all CPUs : 0.000136 kWh. All CPUs Power : 32.5 W\n",
      "[codecarbon INFO @ 18:59:23] 0.000136 kWh of electricity used since the begining.\n",
      "[codecarbon INFO @ 18:59:38] Energy consumed for RAM : 0.000001 kWh. RAM Power : 0.08745431900024414 W\n",
      "[codecarbon INFO @ 18:59:38] Energy consumed for all CPUs : 0.000275 kWh. All CPUs Power : 32.5 W\n",
      "[codecarbon INFO @ 18:59:38] 0.000276 kWh of electricity used since the begining.\n",
      "[codecarbon INFO @ 18:59:53] Energy consumed for RAM : 0.000001 kWh. RAM Power : 0.08746004104614258 W\n",
      "[codecarbon INFO @ 18:59:53] Energy consumed for all CPUs : 0.000411 kWh. All CPUs Power : 32.5 W\n",
      "[codecarbon INFO @ 18:59:53] 0.000412 kWh of electricity used since the begining.\n",
      "[codecarbon INFO @ 19:00:08] Energy consumed for RAM : 0.000001 kWh. RAM Power : 0.08774757385253906 W\n",
      "[codecarbon INFO @ 19:00:08] Energy consumed for all CPUs : 0.000546 kWh. All CPUs Power : 32.5 W\n",
      "[codecarbon INFO @ 19:00:08] 0.000548 kWh of electricity used since the begining.\n",
      "[codecarbon INFO @ 19:00:23] Energy consumed for RAM : 0.000002 kWh. RAM Power : 0.0879364013671875 W\n",
      "[codecarbon INFO @ 19:00:23] Energy consumed for all CPUs : 0.000681 kWh. All CPUs Power : 32.5 W\n",
      "[codecarbon INFO @ 19:00:23] 0.000683 kWh of electricity used since the begining.\n",
      "[codecarbon INFO @ 19:00:38] Energy consumed for RAM : 0.000002 kWh. RAM Power : 0.0879364013671875 W\n",
      "[codecarbon INFO @ 19:00:38] Energy consumed for all CPUs : 0.000817 kWh. All CPUs Power : 32.5 W\n",
      "[codecarbon INFO @ 19:00:39] 0.000819 kWh of electricity used since the begining.\n",
      "[codecarbon INFO @ 19:00:53] Energy consumed for RAM : 0.000003 kWh. RAM Power : 0.0879364013671875 W\n",
      "[codecarbon INFO @ 19:00:54] Energy consumed for all CPUs : 0.000952 kWh. All CPUs Power : 32.5 W\n",
      "[codecarbon INFO @ 19:00:54] 0.000955 kWh of electricity used since the begining.\n",
      "[codecarbon INFO @ 19:01:09] Energy consumed for RAM : 0.000003 kWh. RAM Power : 0.0879364013671875 W\n",
      "[codecarbon INFO @ 19:01:09] Energy consumed for all CPUs : 0.001088 kWh. All CPUs Power : 32.5 W\n",
      "[codecarbon INFO @ 19:01:09] 0.001091 kWh of electricity used since the begining.\n",
      "[codecarbon INFO @ 19:01:24] Energy consumed for RAM : 0.000003 kWh. RAM Power : 0.08793926239013672 W\n",
      "[codecarbon INFO @ 19:01:24] Energy consumed for all CPUs : 0.001231 kWh. All CPUs Power : 32.5 W\n",
      "[codecarbon INFO @ 19:01:24] 0.001234 kWh of electricity used since the begining.\n",
      "[codecarbon INFO @ 19:01:39] Energy consumed for RAM : 0.000004 kWh. RAM Power : 0.09043693542480469 W\n",
      "[codecarbon INFO @ 19:01:39] Energy consumed for all CPUs : 0.001366 kWh. All CPUs Power : 32.5 W\n",
      "[codecarbon INFO @ 19:01:39] 0.001370 kWh of electricity used since the begining.\n",
      "[codecarbon INFO @ 19:01:54] Energy consumed for RAM : 0.000004 kWh. RAM Power : 0.09057283401489258 W\n",
      "[codecarbon INFO @ 19:01:54] Energy consumed for all CPUs : 0.001501 kWh. All CPUs Power : 32.5 W\n",
      "[codecarbon INFO @ 19:01:54] 0.001505 kWh of electricity used since the begining.\n",
      "[codecarbon INFO @ 19:02:09] Energy consumed for RAM : 0.000004 kWh. RAM Power : 0.09057283401489258 W\n",
      "[codecarbon INFO @ 19:02:09] Energy consumed for all CPUs : 0.001636 kWh. All CPUs Power : 32.5 W\n",
      "[codecarbon INFO @ 19:02:09] 0.001641 kWh of electricity used since the begining.\n",
      "[codecarbon INFO @ 19:02:25] Energy consumed for RAM : 0.000005 kWh. RAM Power : 0.09058570861816406 W\n",
      "[codecarbon INFO @ 19:02:25] Energy consumed for all CPUs : 0.001780 kWh. All CPUs Power : 32.5 W\n",
      "[codecarbon INFO @ 19:02:25] 0.001785 kWh of electricity used since the begining.\n",
      "[codecarbon INFO @ 19:02:40] Energy consumed for RAM : 0.000005 kWh. RAM Power : 0.08794212341308594 W\n",
      "[codecarbon INFO @ 19:02:40] Energy consumed for all CPUs : 0.001916 kWh. All CPUs Power : 32.5 W\n",
      "[codecarbon INFO @ 19:02:40] 0.001921 kWh of electricity used since the begining.\n",
      "[codecarbon INFO @ 19:02:55] Energy consumed for RAM : 0.000006 kWh. RAM Power : 0.08794212341308594 W\n",
      "[codecarbon INFO @ 19:02:55] Energy consumed for all CPUs : 0.002051 kWh. All CPUs Power : 32.5 W\n",
      "[codecarbon INFO @ 19:02:55] 0.002056 kWh of electricity used since the begining.\n",
      "[codecarbon INFO @ 19:03:11] Energy consumed for RAM : 0.000006 kWh. RAM Power : 0.08794212341308594 W\n",
      "[codecarbon INFO @ 19:03:11] Energy consumed for all CPUs : 0.002195 kWh. All CPUs Power : 32.5 W\n",
      "[codecarbon INFO @ 19:03:11] 0.002201 kWh of electricity used since the begining.\n",
      "[codecarbon INFO @ 19:03:26] Energy consumed for RAM : 0.000006 kWh. RAM Power : 0.08794212341308594 W\n",
      "[codecarbon INFO @ 19:03:26] Energy consumed for all CPUs : 0.002331 kWh. All CPUs Power : 32.5 W\n",
      "[codecarbon INFO @ 19:03:26] 0.002337 kWh of electricity used since the begining.\n",
      "[codecarbon INFO @ 19:03:41] Energy consumed for RAM : 0.000007 kWh. RAM Power : 0.08794212341308594 W\n",
      "[codecarbon INFO @ 19:03:41] Energy consumed for all CPUs : 0.002466 kWh. All CPUs Power : 32.5 W\n",
      "[codecarbon INFO @ 19:03:41] 0.002472 kWh of electricity used since the begining.\n",
      "[codecarbon INFO @ 19:03:56] Energy consumed for RAM : 0.000007 kWh. RAM Power : 0.08794212341308594 W\n",
      "[codecarbon INFO @ 19:03:56] Energy consumed for all CPUs : 0.002594 kWh. All CPUs Power : 32.5 W\n",
      "[codecarbon INFO @ 19:03:56] 0.002601 kWh of electricity used since the begining.\n"
     ]
    },
    {
     "name": "stdout",
     "output_type": "stream",
     "text": [
      "Best estimator MLP:  Pipeline(steps=[('scaler', StandardScaler()),\n",
      "                ('estimator',\n",
      "                 MLPClassifier(activation='identity', alpha=0.01,\n",
      "                               hidden_layer_sizes=(100, 100, 100),\n",
      "                               learning_rate='invscaling', max_iter=650))])\n",
      "Precision:  1.0\n",
      "Recall:  0.9982993197278912\n",
      "F1:  0.9991489361702128\n"
     ]
    }
   ],
   "source": [
    "df_benchmarking = benchmarking.create_benchmarking(X_train, y_train, X_test, y_test)"
   ],
   "metadata": {
    "collapsed": false,
    "ExecuteTime": {
     "end_time": "2023-05-21T17:03:56.546741277Z",
     "start_time": "2023-05-21T16:56:09.404646908Z"
    }
   }
  },
  {
   "cell_type": "code",
   "execution_count": 6,
   "outputs": [
    {
     "data": {
      "text/plain": "                Algoritmos  CodeCarbon (kWh)  Eco2AI (kWh)  Precision  \\\n0      Logistic Regression          0.000293      0.000333          1   \n1            Random Forest          0.000472      0.000193          1   \n2  Support Vector Machines          0.000666      0.000265          1   \n3    Multilayer Perceptron          0.002601      0.003600          1   \n\n     Recall   F Score  \n0  0.998299  0.999149  \n1  0.998299  0.999149  \n2  0.998299  0.999149  \n3  0.998299  0.999149  ",
      "text/html": "<div>\n<style scoped>\n    .dataframe tbody tr th:only-of-type {\n        vertical-align: middle;\n    }\n\n    .dataframe tbody tr th {\n        vertical-align: top;\n    }\n\n    .dataframe thead th {\n        text-align: right;\n    }\n</style>\n<table border=\"1\" class=\"dataframe\">\n  <thead>\n    <tr style=\"text-align: right;\">\n      <th></th>\n      <th>Algoritmos</th>\n      <th>CodeCarbon (kWh)</th>\n      <th>Eco2AI (kWh)</th>\n      <th>Precision</th>\n      <th>Recall</th>\n      <th>F Score</th>\n    </tr>\n  </thead>\n  <tbody>\n    <tr>\n      <th>0</th>\n      <td>Logistic Regression</td>\n      <td>0.000293</td>\n      <td>0.000333</td>\n      <td>1</td>\n      <td>0.998299</td>\n      <td>0.999149</td>\n    </tr>\n    <tr>\n      <th>1</th>\n      <td>Random Forest</td>\n      <td>0.000472</td>\n      <td>0.000193</td>\n      <td>1</td>\n      <td>0.998299</td>\n      <td>0.999149</td>\n    </tr>\n    <tr>\n      <th>2</th>\n      <td>Support Vector Machines</td>\n      <td>0.000666</td>\n      <td>0.000265</td>\n      <td>1</td>\n      <td>0.998299</td>\n      <td>0.999149</td>\n    </tr>\n    <tr>\n      <th>3</th>\n      <td>Multilayer Perceptron</td>\n      <td>0.002601</td>\n      <td>0.003600</td>\n      <td>1</td>\n      <td>0.998299</td>\n      <td>0.999149</td>\n    </tr>\n  </tbody>\n</table>\n</div>"
     },
     "execution_count": 6,
     "metadata": {},
     "output_type": "execute_result"
    }
   ],
   "source": [
    "df_benchmarking"
   ],
   "metadata": {
    "collapsed": false,
    "ExecuteTime": {
     "end_time": "2023-05-21T17:03:56.680106649Z",
     "start_time": "2023-05-21T17:03:56.548110560Z"
    }
   }
  },
  {
   "cell_type": "markdown",
   "source": [
    "## Save benchmarking's DataFrame in csv file"
   ],
   "metadata": {
    "collapsed": false
   }
  },
  {
   "cell_type": "code",
   "execution_count": 7,
   "outputs": [],
   "source": [
    "preprocess.save_in_csv_file(df_benchmarking, 'benchmarking.csv')"
   ],
   "metadata": {
    "collapsed": false,
    "ExecuteTime": {
     "end_time": "2023-05-21T17:03:56.681928250Z",
     "start_time": "2023-05-21T17:03:56.568043197Z"
    }
   }
  },
  {
   "cell_type": "markdown",
   "source": [
    "## Graphics"
   ],
   "metadata": {
    "collapsed": false
   }
  },
  {
   "cell_type": "code",
   "execution_count": 8,
   "outputs": [
    {
     "data": {
      "text/plain": "<Figure size 1000x700 with 2 Axes>",
      "image/png": "[encoded data removed]"
     },
     "metadata": {},
     "output_type": "display_data"
    }
   ],
   "source": [
    "graphics.plot_models_energy_consumed(df_benchmarking)"
   ],
   "metadata": {
    "collapsed": false,
    "ExecuteTime": {
     "end_time": "2023-05-21T17:03:57.104465466Z",
     "start_time": "2023-05-21T17:03:56.586910667Z"
    }
   }
  },
  {
   "cell_type": "code",
   "execution_count": 9,
   "outputs": [
    {
     "data": {
      "text/plain": "<Figure size 640x480 with 1 Axes>",
      "image/png": "[encoded data removed]"
     },
     "metadata": {},
     "output_type": "display_data"
    }
   ],
   "source": [
    "graphics.plot_models_evaluation_metrics(df_benchmarking)"
   ],
   "metadata": {
    "collapsed": false,
    "ExecuteTime": {
     "end_time": "2023-05-21T17:03:57.115528750Z",
     "start_time": "2023-05-21T17:03:56.956703438Z"
    }
   }
  }
 ],
 "metadata": {
  "kernelspec": {
   "display_name": "Python 3",
   "language": "python",
   "name": "python3"
  },
  "language_info": {
   "codemirror_mode": {
    "name": "ipython",
    "version": 2
   },
   "file_extension": ".py",
   "mimetype": "text/x-python",
   "name": "python",
   "nbconvert_exporter": "python",
   "pygments_lexer": "ipython2",
   "version": "2.7.6"
  }
 },
 "nbformat": 4,
 "nbformat_minor": 0
}
