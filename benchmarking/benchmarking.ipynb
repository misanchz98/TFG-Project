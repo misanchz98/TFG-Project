{
 "cells": [
  {
   "cell_type": "markdown",
   "source": [
    "# 1. Import packages"
   ],
   "metadata": {
    "collapsed": false
   }
  },
  {
   "cell_type": "code",
   "execution_count": 1,
   "outputs": [
    {
     "name": "stdout",
     "output_type": "stream",
     "text": [
      "Invoking __init__.py for modules\n"
     ]
    }
   ],
   "source": [
    "import sys\n",
    "sys.path.append('..')\n",
    "from modules import preprocess, benchmarking, graphics"
   ],
   "metadata": {
    "collapsed": false,
    "ExecuteTime": {
     "end_time": "2023-06-23T19:25:16.066068098Z",
     "start_time": "2023-06-23T19:25:13.662479739Z"
    }
   }
  },
  {
   "cell_type": "markdown",
   "source": [
    "# 2. Load dataset"
   ],
   "metadata": {
    "collapsed": false
   }
  },
  {
   "cell_type": "code",
   "execution_count": 2,
   "outputs": [],
   "source": [
    "df = preprocess.load_csv_data('../dataset/Occupancy_Estimation.csv')"
   ],
   "metadata": {
    "collapsed": false,
    "ExecuteTime": {
     "end_time": "2023-06-23T19:25:16.180157770Z",
     "start_time": "2023-06-23T19:25:16.105390509Z"
    }
   }
  },
  {
   "cell_type": "markdown",
   "source": [
    "# 3. Data preprocessing\n",
    "- Step 1: Transform features\n",
    "  - Binary results for Room_Occupancy_Count\n",
    "  - Drop Date and Time features\n",
    "- Step 2: Clean data\n",
    "  - Drop duplicated rows"
   ],
   "metadata": {
    "collapsed": false
   }
  },
  {
   "cell_type": "code",
   "execution_count": 3,
   "outputs": [
    {
     "data": {
      "text/plain": "   S1_Temp  S2_Temp  S3_Temp  S4_Temp  S1_Light  S2_Light  S3_Light  S4_Light  \\\n0    24.94    24.75    24.56    25.38       121        34        53        40   \n1    24.94    24.75    24.56    25.44       121        33        53        40   \n2    25.00    24.75    24.50    25.44       121        34        53        40   \n3    25.00    24.75    24.56    25.44       121        34        53        40   \n4    25.00    24.75    24.56    25.44       121        34        54        40   \n\n   S1_Sound  S2_Sound  S3_Sound  S4_Sound  S5_CO2  S5_CO2_Slope  S6_PIR  \\\n0      0.08      0.19      0.06      0.06     390      0.769231       0   \n1      0.93      0.05      0.06      0.06     390      0.646154       0   \n2      0.43      0.11      0.08      0.06     390      0.519231       0   \n3      0.41      0.10      0.10      0.09     390      0.388462       0   \n4      0.18      0.06      0.06      0.06     390      0.253846       0   \n\n   S7_PIR  Room_Occupancy_Count  \n0       0                     1  \n1       0                     1  \n2       0                     1  \n3       0                     1  \n4       0                     1  ",
      "text/html": "<div>\n<style scoped>\n    .dataframe tbody tr th:only-of-type {\n        vertical-align: middle;\n    }\n\n    .dataframe tbody tr th {\n        vertical-align: top;\n    }\n\n    .dataframe thead th {\n        text-align: right;\n    }\n</style>\n<table border=\"1\" class=\"dataframe\">\n  <thead>\n    <tr style=\"text-align: right;\">\n      <th></th>\n      <th>S1_Temp</th>\n      <th>S2_Temp</th>\n      <th>S3_Temp</th>\n      <th>S4_Temp</th>\n      <th>S1_Light</th>\n      <th>S2_Light</th>\n      <th>S3_Light</th>\n      <th>S4_Light</th>\n      <th>S1_Sound</th>\n      <th>S2_Sound</th>\n      <th>S3_Sound</th>\n      <th>S4_Sound</th>\n      <th>S5_CO2</th>\n      <th>S5_CO2_Slope</th>\n      <th>S6_PIR</th>\n      <th>S7_PIR</th>\n      <th>Room_Occupancy_Count</th>\n    </tr>\n  </thead>\n  <tbody>\n    <tr>\n      <th>0</th>\n      <td>24.94</td>\n      <td>24.75</td>\n      <td>24.56</td>\n      <td>25.38</td>\n      <td>121</td>\n      <td>34</td>\n      <td>53</td>\n      <td>40</td>\n      <td>0.08</td>\n      <td>0.19</td>\n      <td>0.06</td>\n      <td>0.06</td>\n      <td>390</td>\n      <td>0.769231</td>\n      <td>0</td>\n      <td>0</td>\n      <td>1</td>\n    </tr>\n    <tr>\n      <th>1</th>\n      <td>24.94</td>\n      <td>24.75</td>\n      <td>24.56</td>\n      <td>25.44</td>\n      <td>121</td>\n      <td>33</td>\n      <td>53</td>\n      <td>40</td>\n      <td>0.93</td>\n      <td>0.05</td>\n      <td>0.06</td>\n      <td>0.06</td>\n      <td>390</td>\n      <td>0.646154</td>\n      <td>0</td>\n      <td>0</td>\n      <td>1</td>\n    </tr>\n    <tr>\n      <th>2</th>\n      <td>25.00</td>\n      <td>24.75</td>\n      <td>24.50</td>\n      <td>25.44</td>\n      <td>121</td>\n      <td>34</td>\n      <td>53</td>\n      <td>40</td>\n      <td>0.43</td>\n      <td>0.11</td>\n      <td>0.08</td>\n      <td>0.06</td>\n      <td>390</td>\n      <td>0.519231</td>\n      <td>0</td>\n      <td>0</td>\n      <td>1</td>\n    </tr>\n    <tr>\n      <th>3</th>\n      <td>25.00</td>\n      <td>24.75</td>\n      <td>24.56</td>\n      <td>25.44</td>\n      <td>121</td>\n      <td>34</td>\n      <td>53</td>\n      <td>40</td>\n      <td>0.41</td>\n      <td>0.10</td>\n      <td>0.10</td>\n      <td>0.09</td>\n      <td>390</td>\n      <td>0.388462</td>\n      <td>0</td>\n      <td>0</td>\n      <td>1</td>\n    </tr>\n    <tr>\n      <th>4</th>\n      <td>25.00</td>\n      <td>24.75</td>\n      <td>24.56</td>\n      <td>25.44</td>\n      <td>121</td>\n      <td>34</td>\n      <td>54</td>\n      <td>40</td>\n      <td>0.18</td>\n      <td>0.06</td>\n      <td>0.06</td>\n      <td>0.06</td>\n      <td>390</td>\n      <td>0.253846</td>\n      <td>0</td>\n      <td>0</td>\n      <td>1</td>\n    </tr>\n  </tbody>\n</table>\n</div>"
     },
     "execution_count": 3,
     "metadata": {},
     "output_type": "execute_result"
    }
   ],
   "source": [
    "# Step 1: Recode Room_Occupancy_Count column\n",
    "preprocess.recode_dataset_output(df)\n",
    "\n",
    "# Step 2: Filter Date and Time columns\n",
    "preprocess.remove_time_columns(df)\n",
    "\n",
    "df.head()"
   ],
   "metadata": {
    "collapsed": false,
    "ExecuteTime": {
     "end_time": "2023-06-23T19:25:16.377979280Z",
     "start_time": "2023-06-23T19:25:16.266275042Z"
    }
   }
  },
  {
   "cell_type": "markdown",
   "source": [
    "# 4. Benchmarking"
   ],
   "metadata": {
    "collapsed": false
   }
  },
  {
   "cell_type": "code",
   "execution_count": 4,
   "outputs": [],
   "source": [
    "# Split dataset into features and output\n",
    "X = preprocess.get_features(df)\n",
    "y = preprocess.get_output(df)\n",
    "\n",
    "# Split dataset into training and test\n",
    "X_train, X_test, y_train, y_test = preprocess.split_dataset(X, y)"
   ],
   "metadata": {
    "collapsed": false,
    "ExecuteTime": {
     "end_time": "2023-06-23T19:25:16.466188117Z",
     "start_time": "2023-06-23T19:25:16.400229105Z"
    }
   }
  },
  {
   "cell_type": "markdown",
   "source": [
    "## Create benchmarking Dataframe:\n",
    "- Create benchmarking's df structure.\n",
    "- Track models training with CodeCarbon and Eco2AI.\n",
    "- Store in benchmarking's df tracking results.\n",
    "- Store in benchmarking's df evaluation metrics."
   ],
   "metadata": {
    "collapsed": false
   }
  },
  {
   "cell_type": "code",
   "execution_count": null,
   "outputs": [
    {
     "name": "stderr",
     "output_type": "stream",
     "text": [
      "[codecarbon INFO @ 21:25:16] [setup] RAM Tracking...\n",
      "[codecarbon INFO @ 21:25:16] [setup] GPU Tracking...\n",
      "[codecarbon INFO @ 21:25:16] No GPU found.\n",
      "[codecarbon INFO @ 21:25:16] [setup] CPU Tracking...\n",
      "[codecarbon WARNING @ 21:25:16] No CPU tracking mode found. Falling back on CPU constant mode.\n",
      "[codecarbon INFO @ 21:25:18] CPU Model on constant consumption mode: Intel(R) Core(TM) i5-9400F CPU @ 2.90GHz\n",
      "[codecarbon INFO @ 21:25:18] >>> Tracker's metadata:\n",
      "[codecarbon INFO @ 21:25:18]   Platform system: Linux-5.19.0-45-generic-x86_64-with-glibc2.35\n",
      "[codecarbon INFO @ 21:25:18]   Python version: 3.10.8\n",
      "[codecarbon INFO @ 21:25:18]   Available RAM : 4.935 GB\n",
      "[codecarbon INFO @ 21:25:18]   CPU count: 4\n",
      "[codecarbon INFO @ 21:25:18]   CPU model: Intel(R) Core(TM) i5-9400F CPU @ 2.90GHz\n",
      "[codecarbon INFO @ 21:25:18]   GPU count: None\n",
      "[codecarbon INFO @ 21:25:18]   GPU model: None\n"
     ]
    },
    {
     "name": "stdout",
     "output_type": "stream",
     "text": [
      "Fitting 5 folds for each of 120 candidates, totalling 600 fits\n"
     ]
    },
    {
     "name": "stderr",
     "output_type": "stream",
     "text": [
      "[codecarbon INFO @ 21:25:36] Energy consumed for RAM : 0.000000 kWh. RAM Power : 0.08306407928466797 W\n",
      "[codecarbon INFO @ 21:25:36] Energy consumed for all CPUs : 0.000136 kWh. All CPUs Power : 32.5 W\n",
      "[codecarbon INFO @ 21:25:36] 0.000136 kWh of electricity used since the begining.\n",
      "[codecarbon INFO @ 21:25:52] Energy consumed for RAM : 0.000001 kWh. RAM Power : 0.08323287963867188 W\n",
      "[codecarbon INFO @ 21:25:52] Energy consumed for all CPUs : 0.000278 kWh. All CPUs Power : 32.5 W\n",
      "[codecarbon INFO @ 21:25:52] 0.000279 kWh of electricity used since the begining.\n",
      "[codecarbon INFO @ 21:26:00] Energy consumed for RAM : 0.000001 kWh. RAM Power : 0.08331298828125 W\n",
      "[codecarbon INFO @ 21:26:00] Energy consumed for all CPUs : 0.000355 kWh. All CPUs Power : 32.5 W\n",
      "[codecarbon INFO @ 21:26:00] 0.000355 kWh of electricity used since the begining.\n",
      "[codecarbon INFO @ 21:26:01] [setup] RAM Tracking...\n",
      "[codecarbon INFO @ 21:26:01] [setup] GPU Tracking...\n",
      "[codecarbon INFO @ 21:26:01] No GPU found.\n",
      "[codecarbon INFO @ 21:26:01] [setup] CPU Tracking...\n",
      "[codecarbon WARNING @ 21:26:01] No CPU tracking mode found. Falling back on CPU constant mode.\n"
     ]
    },
    {
     "name": "stdout",
     "output_type": "stream",
     "text": [
      "Best estimator LR:  Pipeline(steps=[('scaler', RobustScaler()),\n",
      "                ('estimator',\n",
      "                 LogisticRegression(C=78.47599703514607, max_iter=500,\n",
      "                                    penalty='l1', solver='liblinear'))])\n",
      "Precision:  1.0\n",
      "Recall:  0.9982993197278912\n",
      "F1:  0.9991489361702128\n",
      "<class 'sklearn.model_selection._search.RandomizedSearchCV'>\n"
     ]
    },
    {
     "name": "stderr",
     "output_type": "stream",
     "text": [
      "[codecarbon INFO @ 21:26:03] CPU Model on constant consumption mode: Intel(R) Core(TM) i5-9400F CPU @ 2.90GHz\n",
      "[codecarbon INFO @ 21:26:03] >>> Tracker's metadata:\n",
      "[codecarbon INFO @ 21:26:03]   Platform system: Linux-5.19.0-45-generic-x86_64-with-glibc2.35\n",
      "[codecarbon INFO @ 21:26:03]   Python version: 3.10.8\n",
      "[codecarbon INFO @ 21:26:03]   Available RAM : 4.935 GB\n",
      "[codecarbon INFO @ 21:26:03]   CPU count: 4\n",
      "[codecarbon INFO @ 21:26:03]   CPU model: Intel(R) Core(TM) i5-9400F CPU @ 2.90GHz\n",
      "[codecarbon INFO @ 21:26:03]   GPU count: None\n",
      "[codecarbon INFO @ 21:26:03]   GPU model: None\n"
     ]
    },
    {
     "name": "stdout",
     "output_type": "stream",
     "text": [
      "Fitting 5 folds for each of 10 candidates, totalling 50 fits\n"
     ]
    },
    {
     "name": "stderr",
     "output_type": "stream",
     "text": [
      "[codecarbon INFO @ 21:26:22] Energy consumed for RAM : 0.000000 kWh. RAM Power : 0.08400964736938477 W\n",
      "[codecarbon INFO @ 21:26:22] Energy consumed for all CPUs : 0.000136 kWh. All CPUs Power : 32.5 W\n",
      "[codecarbon INFO @ 21:26:22] 0.000136 kWh of electricity used since the begining.\n",
      "[codecarbon INFO @ 21:26:37] Energy consumed for RAM : 0.000001 kWh. RAM Power : 0.0841670036315918 W\n",
      "[codecarbon INFO @ 21:26:37] Energy consumed for all CPUs : 0.000271 kWh. All CPUs Power : 32.5 W\n",
      "[codecarbon INFO @ 21:26:37] 0.000272 kWh of electricity used since the begining.\n",
      "[codecarbon INFO @ 21:26:52] Energy consumed for RAM : 0.000001 kWh. RAM Power : 0.08432149887084961 W\n",
      "[codecarbon INFO @ 21:26:52] Energy consumed for all CPUs : 0.000408 kWh. All CPUs Power : 32.5 W\n",
      "[codecarbon INFO @ 21:26:52] 0.000409 kWh of electricity used since the begining.\n",
      "[codecarbon INFO @ 21:27:07] Energy consumed for RAM : 0.000001 kWh. RAM Power : 0.0843343734741211 W\n",
      "[codecarbon INFO @ 21:27:07] Energy consumed for all CPUs : 0.000543 kWh. All CPUs Power : 32.5 W\n",
      "[codecarbon INFO @ 21:27:07] 0.000545 kWh of electricity used since the begining.\n",
      "[codecarbon INFO @ 21:27:14] Energy consumed for RAM : 0.000002 kWh. RAM Power : 0.08443164825439453 W\n",
      "[codecarbon INFO @ 21:27:14] Energy consumed for all CPUs : 0.000611 kWh. All CPUs Power : 32.5 W\n",
      "[codecarbon INFO @ 21:27:14] 0.000612 kWh of electricity used since the begining.\n",
      "[codecarbon INFO @ 21:27:15] [setup] RAM Tracking...\n",
      "[codecarbon INFO @ 21:27:15] [setup] GPU Tracking...\n",
      "[codecarbon INFO @ 21:27:15] No GPU found.\n",
      "[codecarbon INFO @ 21:27:15] [setup] CPU Tracking...\n",
      "[codecarbon WARNING @ 21:27:15] No CPU tracking mode found. Falling back on CPU constant mode.\n"
     ]
    },
    {
     "name": "stdout",
     "output_type": "stream",
     "text": [
      "Best estimator RF:  RandomForestClassifier(bootstrap=False, max_depth=90, max_features=3,\n",
      "                       min_samples_leaf=4, min_samples_split=8)\n",
      "Precision:  1.0\n",
      "Recall:  0.9982993197278912\n",
      "F1:  0.9991489361702128\n"
     ]
    },
    {
     "name": "stderr",
     "output_type": "stream",
     "text": [
      "[codecarbon INFO @ 21:27:16] CPU Model on constant consumption mode: Intel(R) Core(TM) i5-9400F CPU @ 2.90GHz\n",
      "[codecarbon INFO @ 21:27:16] >>> Tracker's metadata:\n",
      "[codecarbon INFO @ 21:27:16]   Platform system: Linux-5.19.0-45-generic-x86_64-with-glibc2.35\n",
      "[codecarbon INFO @ 21:27:16]   Python version: 3.10.8\n",
      "[codecarbon INFO @ 21:27:16]   Available RAM : 4.935 GB\n",
      "[codecarbon INFO @ 21:27:16]   CPU count: 4\n",
      "[codecarbon INFO @ 21:27:16]   CPU model: Intel(R) Core(TM) i5-9400F CPU @ 2.90GHz\n",
      "[codecarbon INFO @ 21:27:16]   GPU count: None\n",
      "[codecarbon INFO @ 21:27:16]   GPU model: None\n"
     ]
    },
    {
     "name": "stdout",
     "output_type": "stream",
     "text": [
      "Fitting 5 folds for each of 25 candidates, totalling 125 fits\n"
     ]
    },
    {
     "name": "stderr",
     "output_type": "stream",
     "text": [
      "[codecarbon INFO @ 21:27:34] Energy consumed for RAM : 0.000000 kWh. RAM Power : 0.0848093032836914 W\n",
      "[codecarbon INFO @ 21:27:34] Energy consumed for all CPUs : 0.000136 kWh. All CPUs Power : 32.5 W\n",
      "[codecarbon INFO @ 21:27:34] 0.000136 kWh of electricity used since the begining.\n"
     ]
    }
   ],
   "source": [
    "df_benchmarking = benchmarking.create_benchmarking(X_train, y_train, X_test, y_test)"
   ],
   "metadata": {
    "collapsed": false,
    "is_executing": true,
    "ExecuteTime": {
     "start_time": "2023-06-23T19:25:16.462417877Z"
    }
   }
  },
  {
   "cell_type": "code",
   "execution_count": null,
   "outputs": [],
   "source": [
    "df_benchmarking"
   ],
   "metadata": {
    "collapsed": false,
    "is_executing": true
   }
  },
  {
   "cell_type": "markdown",
   "source": [
    "## Save benchmarking's DataFrame in csv file"
   ],
   "metadata": {
    "collapsed": false
   }
  },
  {
   "cell_type": "code",
   "execution_count": null,
   "outputs": [],
   "source": [
    "preprocess.save_in_csv_file(df_benchmarking, 'benchmarking.csv')"
   ],
   "metadata": {
    "collapsed": false,
    "is_executing": true
   }
  },
  {
   "cell_type": "markdown",
   "source": [
    "## Graphics"
   ],
   "metadata": {
    "collapsed": false
   }
  },
  {
   "cell_type": "code",
   "execution_count": null,
   "outputs": [],
   "source": [
    "graphics.plot_models_energy_consumed(df_benchmarking)"
   ],
   "metadata": {
    "collapsed": false,
    "is_executing": true
   }
  },
  {
   "cell_type": "code",
   "execution_count": null,
   "outputs": [],
   "source": [
    "graphics.plot_models_evaluation_metrics(df_benchmarking)"
   ],
   "metadata": {
    "collapsed": false,
    "is_executing": true
   }
  }
 ],
 "metadata": {
  "kernelspec": {
   "display_name": "Python 3",
   "language": "python",
   "name": "python3"
  },
  "language_info": {
   "codemirror_mode": {
    "name": "ipython",
    "version": 2
   },
   "file_extension": ".py",
   "mimetype": "text/x-python",
   "name": "python",
   "nbconvert_exporter": "python",
   "pygments_lexer": "ipython2",
   "version": "2.7.6"
  }
 },
 "nbformat": 4,
 "nbformat_minor": 0
}
