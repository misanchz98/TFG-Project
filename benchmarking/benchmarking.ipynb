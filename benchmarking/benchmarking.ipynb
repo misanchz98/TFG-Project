{
 "cells": [
  {
   "cell_type": "markdown",
   "source": [
    "# 1. Import packages"
   ],
   "metadata": {
    "collapsed": false
   }
  },
  {
   "cell_type": "code",
   "execution_count": 1,
   "outputs": [
    {
     "name": "stdout",
     "output_type": "stream",
     "text": [
      "Invoking __init__.py for modules\n"
     ]
    }
   ],
   "source": [
    "import sys\n",
    "sys.path.append('..')\n",
    "from modules import tuning, preprocess, tracking, benchmarking"
   ],
   "metadata": {
    "collapsed": false
   }
  },
  {
   "cell_type": "markdown",
   "source": [
    "# 2. Create modified dataset"
   ],
   "metadata": {
    "collapsed": false
   }
  },
  {
   "cell_type": "code",
   "execution_count": 2,
   "outputs": [
    {
     "name": "stdout",
     "output_type": "stream",
     "text": [
      "Invoking __init__.py for modules\r\n"
     ]
    }
   ],
   "source": [
    "!python ../scripts/create-dataset.py"
   ],
   "metadata": {
    "collapsed": false
   }
  },
  {
   "cell_type": "markdown",
   "source": [
    "# 3. Load dataset"
   ],
   "metadata": {
    "collapsed": false
   }
  },
  {
   "cell_type": "code",
   "execution_count": 3,
   "outputs": [
    {
     "data": {
      "text/plain": "   S1_Temp  S2_Temp  S3_Temp  S4_Temp  S1_Light  S2_Light  S3_Light  S4_Light  \\\n0    24.94    24.75    24.56    25.38       121        34        53        40   \n1    24.94    24.75    24.56    25.44       121        33        53        40   \n2    25.00    24.75    24.50    25.44       121        34        53        40   \n3    25.00    24.75    24.56    25.44       121        34        53        40   \n4    25.00    24.75    24.56    25.44       121        34        54        40   \n\n   S1_Sound  S2_Sound  S3_Sound  S4_Sound  S5_CO2  S5_CO2_Slope  S6_PIR  \\\n0      0.08      0.19      0.06      0.06     390      0.769231       0   \n1      0.93      0.05      0.06      0.06     390      0.646154       0   \n2      0.43      0.11      0.08      0.06     390      0.519231       0   \n3      0.41      0.10      0.10      0.09     390      0.388462       0   \n4      0.18      0.06      0.06      0.06     390      0.253846       0   \n\n   S7_PIR  Room_Occupancy_Count  \n0       0                     1  \n1       0                     1  \n2       0                     1  \n3       0                     1  \n4       0                     1  ",
      "text/html": "<div>\n<style scoped>\n    .dataframe tbody tr th:only-of-type {\n        vertical-align: middle;\n    }\n\n    .dataframe tbody tr th {\n        vertical-align: top;\n    }\n\n    .dataframe thead th {\n        text-align: right;\n    }\n</style>\n<table border=\"1\" class=\"dataframe\">\n  <thead>\n    <tr style=\"text-align: right;\">\n      <th></th>\n      <th>S1_Temp</th>\n      <th>S2_Temp</th>\n      <th>S3_Temp</th>\n      <th>S4_Temp</th>\n      <th>S1_Light</th>\n      <th>S2_Light</th>\n      <th>S3_Light</th>\n      <th>S4_Light</th>\n      <th>S1_Sound</th>\n      <th>S2_Sound</th>\n      <th>S3_Sound</th>\n      <th>S4_Sound</th>\n      <th>S5_CO2</th>\n      <th>S5_CO2_Slope</th>\n      <th>S6_PIR</th>\n      <th>S7_PIR</th>\n      <th>Room_Occupancy_Count</th>\n    </tr>\n  </thead>\n  <tbody>\n    <tr>\n      <th>0</th>\n      <td>24.94</td>\n      <td>24.75</td>\n      <td>24.56</td>\n      <td>25.38</td>\n      <td>121</td>\n      <td>34</td>\n      <td>53</td>\n      <td>40</td>\n      <td>0.08</td>\n      <td>0.19</td>\n      <td>0.06</td>\n      <td>0.06</td>\n      <td>390</td>\n      <td>0.769231</td>\n      <td>0</td>\n      <td>0</td>\n      <td>1</td>\n    </tr>\n    <tr>\n      <th>1</th>\n      <td>24.94</td>\n      <td>24.75</td>\n      <td>24.56</td>\n      <td>25.44</td>\n      <td>121</td>\n      <td>33</td>\n      <td>53</td>\n      <td>40</td>\n      <td>0.93</td>\n      <td>0.05</td>\n      <td>0.06</td>\n      <td>0.06</td>\n      <td>390</td>\n      <td>0.646154</td>\n      <td>0</td>\n      <td>0</td>\n      <td>1</td>\n    </tr>\n    <tr>\n      <th>2</th>\n      <td>25.00</td>\n      <td>24.75</td>\n      <td>24.50</td>\n      <td>25.44</td>\n      <td>121</td>\n      <td>34</td>\n      <td>53</td>\n      <td>40</td>\n      <td>0.43</td>\n      <td>0.11</td>\n      <td>0.08</td>\n      <td>0.06</td>\n      <td>390</td>\n      <td>0.519231</td>\n      <td>0</td>\n      <td>0</td>\n      <td>1</td>\n    </tr>\n    <tr>\n      <th>3</th>\n      <td>25.00</td>\n      <td>24.75</td>\n      <td>24.56</td>\n      <td>25.44</td>\n      <td>121</td>\n      <td>34</td>\n      <td>53</td>\n      <td>40</td>\n      <td>0.41</td>\n      <td>0.10</td>\n      <td>0.10</td>\n      <td>0.09</td>\n      <td>390</td>\n      <td>0.388462</td>\n      <td>0</td>\n      <td>0</td>\n      <td>1</td>\n    </tr>\n    <tr>\n      <th>4</th>\n      <td>25.00</td>\n      <td>24.75</td>\n      <td>24.56</td>\n      <td>25.44</td>\n      <td>121</td>\n      <td>34</td>\n      <td>54</td>\n      <td>40</td>\n      <td>0.18</td>\n      <td>0.06</td>\n      <td>0.06</td>\n      <td>0.06</td>\n      <td>390</td>\n      <td>0.253846</td>\n      <td>0</td>\n      <td>0</td>\n      <td>1</td>\n    </tr>\n  </tbody>\n</table>\n</div>"
     },
     "execution_count": 3,
     "metadata": {},
     "output_type": "execute_result"
    }
   ],
   "source": [
    "df = preprocess.load_csv_data('../dataset/New_Occupancy_Estimation.csv')\n",
    "df.head()"
   ],
   "metadata": {
    "collapsed": false
   }
  },
  {
   "cell_type": "markdown",
   "source": [
    "# 4. Tuning Hyperparameters: Cross Validation"
   ],
   "metadata": {
    "collapsed": false
   }
  },
  {
   "cell_type": "code",
   "execution_count": 4,
   "outputs": [],
   "source": [
    "# Split dataset into features and output\n",
    "X = preprocess.get_features(df)\n",
    "y = preprocess.get_output(df)\n",
    "\n",
    "# Split dataset into training and test\n",
    "X_train, X_test, y_train, y_test = preprocess.split_dataset(X, y)"
   ],
   "metadata": {
    "collapsed": false
   }
  },
  {
   "cell_type": "markdown",
   "source": [
    "## 1. Logistic Regression (LR)"
   ],
   "metadata": {
    "collapsed": false
   }
  },
  {
   "cell_type": "code",
   "execution_count": 5,
   "outputs": [
    {
     "name": "stdout",
     "output_type": "stream",
     "text": [
      "Fitting 5 folds for each of 28 candidates, totalling 140 fits\n",
      "[CV] END estimator__C=0.001, estimator__penalty=l1, estimator__solver=lbfgs; total time=   0.0s\n",
      "[CV] END estimator__C=0.001, estimator__penalty=l1, estimator__solver=lbfgs; total time=   0.0s\n",
      "[CV] END estimator__C=0.001, estimator__penalty=l1, estimator__solver=lbfgs; total time=   0.0s\n",
      "[CV] END estimator__C=0.001, estimator__penalty=l1, estimator__solver=lbfgs; total time=   0.0s\n",
      "[CV] END estimator__C=0.001, estimator__penalty=l1, estimator__solver=lbfgs; total time=   0.0s\n",
      "[CV] END estimator__C=0.001, estimator__penalty=l1, estimator__solver=liblinear; total time=   0.0s\n",
      "[CV] END estimator__C=0.001, estimator__penalty=l1, estimator__solver=liblinear; total time=   0.0s\n",
      "[CV] END estimator__C=0.001, estimator__penalty=l1, estimator__solver=liblinear; total time=   0.0s\n",
      "[CV] END estimator__C=0.001, estimator__penalty=l1, estimator__solver=liblinear; total time=   0.0s\n",
      "[CV] END estimator__C=0.001, estimator__penalty=l1, estimator__solver=liblinear; total time=   0.0s\n",
      "[CV] END estimator__C=0.001, estimator__penalty=l2, estimator__solver=lbfgs; total time=   0.0s\n",
      "[CV] END estimator__C=0.001, estimator__penalty=l2, estimator__solver=lbfgs; total time=   0.1s\n",
      "[CV] END estimator__C=0.001, estimator__penalty=l2, estimator__solver=lbfgs; total time=   0.1s\n",
      "[CV] END estimator__C=0.001, estimator__penalty=l2, estimator__solver=lbfgs; total time=   0.0s\n",
      "[CV] END estimator__C=0.001, estimator__penalty=l2, estimator__solver=lbfgs; total time=   0.0s\n",
      "[CV] END estimator__C=0.001, estimator__penalty=l2, estimator__solver=liblinear; total time=   0.0s\n",
      "[CV] END estimator__C=0.001, estimator__penalty=l2, estimator__solver=liblinear; total time=   0.0s\n",
      "[CV] END estimator__C=0.001, estimator__penalty=l2, estimator__solver=liblinear; total time=   0.0s\n",
      "[CV] END estimator__C=0.001, estimator__penalty=l2, estimator__solver=liblinear; total time=   0.0s\n",
      "[CV] END estimator__C=0.001, estimator__penalty=l2, estimator__solver=liblinear; total time=   0.0s\n",
      "[CV] END estimator__C=0.01, estimator__penalty=l1, estimator__solver=lbfgs; total time=   0.0s\n",
      "[CV] END estimator__C=0.01, estimator__penalty=l1, estimator__solver=lbfgs; total time=   0.0s\n",
      "[CV] END estimator__C=0.01, estimator__penalty=l1, estimator__solver=lbfgs; total time=   0.0s\n",
      "[CV] END estimator__C=0.01, estimator__penalty=l1, estimator__solver=lbfgs; total time=   0.0s\n",
      "[CV] END estimator__C=0.01, estimator__penalty=l1, estimator__solver=lbfgs; total time=   0.0s\n",
      "[CV] END estimator__C=0.01, estimator__penalty=l1, estimator__solver=liblinear; total time=   0.0s\n",
      "[CV] END estimator__C=0.01, estimator__penalty=l1, estimator__solver=liblinear; total time=   0.0s\n",
      "[CV] END estimator__C=0.01, estimator__penalty=l1, estimator__solver=liblinear; total time=   0.0s\n",
      "[CV] END estimator__C=0.01, estimator__penalty=l1, estimator__solver=liblinear; total time=   0.0s\n",
      "[CV] END estimator__C=0.01, estimator__penalty=l1, estimator__solver=liblinear; total time=   0.0s\n",
      "[CV] END estimator__C=0.01, estimator__penalty=l2, estimator__solver=lbfgs; total time=   0.0s\n",
      "[CV] END estimator__C=0.01, estimator__penalty=l2, estimator__solver=lbfgs; total time=   0.0s\n",
      "[CV] END estimator__C=0.01, estimator__penalty=l2, estimator__solver=lbfgs; total time=   0.0s\n",
      "[CV] END estimator__C=0.01, estimator__penalty=l2, estimator__solver=lbfgs; total time=   0.0s\n",
      "[CV] END estimator__C=0.01, estimator__penalty=l2, estimator__solver=lbfgs; total time=   0.0s\n",
      "[CV] END estimator__C=0.01, estimator__penalty=l2, estimator__solver=liblinear; total time=   0.0s\n",
      "[CV] END estimator__C=0.01, estimator__penalty=l2, estimator__solver=liblinear; total time=   0.0s\n",
      "[CV] END estimator__C=0.01, estimator__penalty=l2, estimator__solver=liblinear; total time=   0.0s\n",
      "[CV] END estimator__C=0.01, estimator__penalty=l2, estimator__solver=liblinear; total time=   0.0s\n",
      "[CV] END estimator__C=0.01, estimator__penalty=l2, estimator__solver=liblinear; total time=   0.0s\n",
      "[CV] END estimator__C=0.1, estimator__penalty=l1, estimator__solver=lbfgs; total time=   0.0s\n",
      "[CV] END estimator__C=0.1, estimator__penalty=l1, estimator__solver=lbfgs; total time=   0.0s\n",
      "[CV] END estimator__C=0.1, estimator__penalty=l1, estimator__solver=lbfgs; total time=   0.0s\n",
      "[CV] END estimator__C=0.1, estimator__penalty=l1, estimator__solver=lbfgs; total time=   0.0s\n",
      "[CV] END estimator__C=0.1, estimator__penalty=l1, estimator__solver=lbfgs; total time=   0.0s\n",
      "[CV] END estimator__C=0.1, estimator__penalty=l1, estimator__solver=liblinear; total time=   0.0s\n",
      "[CV] END estimator__C=0.1, estimator__penalty=l1, estimator__solver=liblinear; total time=   0.0s\n",
      "[CV] END estimator__C=0.1, estimator__penalty=l1, estimator__solver=liblinear; total time=   0.0s\n",
      "[CV] END estimator__C=0.1, estimator__penalty=l1, estimator__solver=liblinear; total time=   0.0s\n",
      "[CV] END estimator__C=0.1, estimator__penalty=l1, estimator__solver=liblinear; total time=   0.0s\n",
      "[CV] END estimator__C=0.1, estimator__penalty=l2, estimator__solver=lbfgs; total time=   0.0s\n",
      "[CV] END estimator__C=0.1, estimator__penalty=l2, estimator__solver=lbfgs; total time=   0.0s\n",
      "[CV] END estimator__C=0.1, estimator__penalty=l2, estimator__solver=lbfgs; total time=   0.0s\n",
      "[CV] END estimator__C=0.1, estimator__penalty=l2, estimator__solver=lbfgs; total time=   0.0s\n",
      "[CV] END estimator__C=0.1, estimator__penalty=l2, estimator__solver=lbfgs; total time=   0.1s\n",
      "[CV] END estimator__C=0.1, estimator__penalty=l2, estimator__solver=liblinear; total time=   0.0s\n",
      "[CV] END estimator__C=0.1, estimator__penalty=l2, estimator__solver=liblinear; total time=   0.0s\n",
      "[CV] END estimator__C=0.1, estimator__penalty=l2, estimator__solver=liblinear; total time=   0.0s\n",
      "[CV] END estimator__C=0.1, estimator__penalty=l2, estimator__solver=liblinear; total time=   0.0s\n",
      "[CV] END estimator__C=0.1, estimator__penalty=l2, estimator__solver=liblinear; total time=   0.0s\n",
      "[CV] END estimator__C=1, estimator__penalty=l1, estimator__solver=lbfgs; total time=   0.0s\n",
      "[CV] END estimator__C=1, estimator__penalty=l1, estimator__solver=lbfgs; total time=   0.0s\n",
      "[CV] END estimator__C=1, estimator__penalty=l1, estimator__solver=lbfgs; total time=   0.0s\n",
      "[CV] END estimator__C=1, estimator__penalty=l1, estimator__solver=lbfgs; total time=   0.0s\n",
      "[CV] END estimator__C=1, estimator__penalty=l1, estimator__solver=lbfgs; total time=   0.0s\n",
      "[CV] END estimator__C=1, estimator__penalty=l1, estimator__solver=liblinear; total time=   0.0s\n",
      "[CV] END estimator__C=1, estimator__penalty=l1, estimator__solver=liblinear; total time=   0.0s\n",
      "[CV] END estimator__C=1, estimator__penalty=l1, estimator__solver=liblinear; total time=   0.1s\n",
      "[CV] END estimator__C=1, estimator__penalty=l1, estimator__solver=liblinear; total time=   0.1s\n",
      "[CV] END estimator__C=1, estimator__penalty=l1, estimator__solver=liblinear; total time=   0.0s\n",
      "[CV] END estimator__C=1, estimator__penalty=l2, estimator__solver=lbfgs; total time=   0.0s\n",
      "[CV] END estimator__C=1, estimator__penalty=l2, estimator__solver=lbfgs; total time=   0.1s\n",
      "[CV] END estimator__C=1, estimator__penalty=l2, estimator__solver=lbfgs; total time=   0.2s\n",
      "[CV] END estimator__C=1, estimator__penalty=l2, estimator__solver=lbfgs; total time=   0.1s\n",
      "[CV] END estimator__C=1, estimator__penalty=l2, estimator__solver=lbfgs; total time=   0.1s\n",
      "[CV] END estimator__C=1, estimator__penalty=l2, estimator__solver=liblinear; total time=   0.1s\n",
      "[CV] END estimator__C=1, estimator__penalty=l2, estimator__solver=liblinear; total time=   0.1s\n",
      "[CV] END estimator__C=1, estimator__penalty=l2, estimator__solver=liblinear; total time=   0.1s\n",
      "[CV] END estimator__C=1, estimator__penalty=l2, estimator__solver=liblinear; total time=   0.0s\n",
      "[CV] END estimator__C=1, estimator__penalty=l2, estimator__solver=liblinear; total time=   0.0s\n",
      "[CV] END estimator__C=10, estimator__penalty=l1, estimator__solver=lbfgs; total time=   0.0s\n",
      "[CV] END estimator__C=10, estimator__penalty=l1, estimator__solver=lbfgs; total time=   0.0s\n",
      "[CV] END estimator__C=10, estimator__penalty=l1, estimator__solver=lbfgs; total time=   0.0s\n",
      "[CV] END estimator__C=10, estimator__penalty=l1, estimator__solver=lbfgs; total time=   0.0s\n",
      "[CV] END estimator__C=10, estimator__penalty=l1, estimator__solver=lbfgs; total time=   0.0s\n",
      "[CV] END estimator__C=10, estimator__penalty=l1, estimator__solver=liblinear; total time=   0.0s\n",
      "[CV] END estimator__C=10, estimator__penalty=l1, estimator__solver=liblinear; total time=   0.0s\n",
      "[CV] END estimator__C=10, estimator__penalty=l1, estimator__solver=liblinear; total time=   0.0s\n",
      "[CV] END estimator__C=10, estimator__penalty=l1, estimator__solver=liblinear; total time=   0.1s\n",
      "[CV] END estimator__C=10, estimator__penalty=l1, estimator__solver=liblinear; total time=   0.0s\n",
      "[CV] END estimator__C=10, estimator__penalty=l2, estimator__solver=lbfgs; total time=   0.2s\n",
      "[CV] END estimator__C=10, estimator__penalty=l2, estimator__solver=lbfgs; total time=   0.1s\n",
      "[CV] END estimator__C=10, estimator__penalty=l2, estimator__solver=lbfgs; total time=   0.0s\n",
      "[CV] END estimator__C=10, estimator__penalty=l2, estimator__solver=lbfgs; total time=   0.0s\n",
      "[CV] END estimator__C=10, estimator__penalty=l2, estimator__solver=lbfgs; total time=   0.0s\n",
      "[CV] END estimator__C=10, estimator__penalty=l2, estimator__solver=liblinear; total time=   0.0s\n",
      "[CV] END estimator__C=10, estimator__penalty=l2, estimator__solver=liblinear; total time=   0.0s\n",
      "[CV] END estimator__C=10, estimator__penalty=l2, estimator__solver=liblinear; total time=   0.0s\n",
      "[CV] END estimator__C=10, estimator__penalty=l2, estimator__solver=liblinear; total time=   0.0s\n",
      "[CV] END estimator__C=10, estimator__penalty=l2, estimator__solver=liblinear; total time=   0.1s\n",
      "[CV] END estimator__C=100, estimator__penalty=l1, estimator__solver=lbfgs; total time=   0.0s\n",
      "[CV] END estimator__C=100, estimator__penalty=l1, estimator__solver=lbfgs; total time=   0.0s\n",
      "[CV] END estimator__C=100, estimator__penalty=l1, estimator__solver=lbfgs; total time=   0.0s\n",
      "[CV] END estimator__C=100, estimator__penalty=l1, estimator__solver=lbfgs; total time=   0.0s\n",
      "[CV] END estimator__C=100, estimator__penalty=l1, estimator__solver=lbfgs; total time=   0.0s\n",
      "[CV] END estimator__C=100, estimator__penalty=l1, estimator__solver=liblinear; total time=   0.1s\n",
      "[CV] END estimator__C=100, estimator__penalty=l1, estimator__solver=liblinear; total time=   0.0s\n",
      "[CV] END estimator__C=100, estimator__penalty=l1, estimator__solver=liblinear; total time=   0.2s\n",
      "[CV] END estimator__C=100, estimator__penalty=l1, estimator__solver=liblinear; total time=   0.1s\n",
      "[CV] END estimator__C=100, estimator__penalty=l1, estimator__solver=liblinear; total time=   0.1s\n",
      "[CV] END estimator__C=100, estimator__penalty=l2, estimator__solver=lbfgs; total time=   0.5s\n",
      "[CV] END estimator__C=100, estimator__penalty=l2, estimator__solver=lbfgs; total time=   0.2s\n",
      "[CV] END estimator__C=100, estimator__penalty=l2, estimator__solver=lbfgs; total time=   0.1s\n",
      "[CV] END estimator__C=100, estimator__penalty=l2, estimator__solver=lbfgs; total time=   0.2s\n",
      "[CV] END estimator__C=100, estimator__penalty=l2, estimator__solver=lbfgs; total time=   0.2s\n",
      "[CV] END estimator__C=100, estimator__penalty=l2, estimator__solver=liblinear; total time=   0.0s\n",
      "[CV] END estimator__C=100, estimator__penalty=l2, estimator__solver=liblinear; total time=   0.0s\n",
      "[CV] END estimator__C=100, estimator__penalty=l2, estimator__solver=liblinear; total time=   0.0s\n",
      "[CV] END estimator__C=100, estimator__penalty=l2, estimator__solver=liblinear; total time=   0.0s\n",
      "[CV] END estimator__C=100, estimator__penalty=l2, estimator__solver=liblinear; total time=   0.0s\n",
      "[CV] END estimator__C=1000, estimator__penalty=l1, estimator__solver=lbfgs; total time=   0.0s\n",
      "[CV] END estimator__C=1000, estimator__penalty=l1, estimator__solver=lbfgs; total time=   0.0s\n",
      "[CV] END estimator__C=1000, estimator__penalty=l1, estimator__solver=lbfgs; total time=   0.0s\n",
      "[CV] END estimator__C=1000, estimator__penalty=l1, estimator__solver=lbfgs; total time=   0.0s\n",
      "[CV] END estimator__C=1000, estimator__penalty=l1, estimator__solver=lbfgs; total time=   0.0s\n",
      "[CV] END estimator__C=1000, estimator__penalty=l1, estimator__solver=liblinear; total time=   0.0s\n",
      "[CV] END estimator__C=1000, estimator__penalty=l1, estimator__solver=liblinear; total time=   0.1s\n",
      "[CV] END estimator__C=1000, estimator__penalty=l1, estimator__solver=liblinear; total time=   0.1s\n",
      "[CV] END estimator__C=1000, estimator__penalty=l1, estimator__solver=liblinear; total time=   0.0s\n",
      "[CV] END estimator__C=1000, estimator__penalty=l1, estimator__solver=liblinear; total time=   0.0s\n",
      "[CV] END estimator__C=1000, estimator__penalty=l2, estimator__solver=lbfgs; total time=   0.1s\n",
      "[CV] END estimator__C=1000, estimator__penalty=l2, estimator__solver=lbfgs; total time=   0.1s\n",
      "[CV] END estimator__C=1000, estimator__penalty=l2, estimator__solver=lbfgs; total time=   0.1s\n",
      "[CV] END estimator__C=1000, estimator__penalty=l2, estimator__solver=lbfgs; total time=   0.1s\n",
      "[CV] END estimator__C=1000, estimator__penalty=l2, estimator__solver=lbfgs; total time=   0.0s\n",
      "[CV] END estimator__C=1000, estimator__penalty=l2, estimator__solver=liblinear; total time=   0.0s\n",
      "[CV] END estimator__C=1000, estimator__penalty=l2, estimator__solver=liblinear; total time=   0.0s\n",
      "[CV] END estimator__C=1000, estimator__penalty=l2, estimator__solver=liblinear; total time=   0.1s\n",
      "[CV] END estimator__C=1000, estimator__penalty=l2, estimator__solver=liblinear; total time=   0.0s\n",
      "[CV] END estimator__C=1000, estimator__penalty=l2, estimator__solver=liblinear; total time=   0.0s\n",
      "Best estimator:  Pipeline(steps=[('scaler', StandardScaler()),\n",
      "                ('estimator',\n",
      "                 LogisticRegression(C=100, max_iter=500, solver='liblinear'))])\n",
      "Test set score:  0.9996709443896018\n",
      "Mean cross-validated score of the best_estimator:  0.9994358251057829\n"
     ]
    },
    {
     "name": "stderr",
     "output_type": "stream",
     "text": [
      "/home/misanchz/miniconda3/envs/TFG/lib/python3.10/site-packages/sklearn/model_selection/_validation.py:378: FitFailedWarning: \n",
      "35 fits failed out of a total of 140.\n",
      "The score on these train-test partitions for these parameters will be set to nan.\n",
      "If these failures are not expected, you can try to debug them by setting error_score='raise'.\n",
      "\n",
      "Below are more details about the failures:\n",
      "--------------------------------------------------------------------------------\n",
      "35 fits failed with the following error:\n",
      "Traceback (most recent call last):\n",
      "  File \"/home/misanchz/miniconda3/envs/TFG/lib/python3.10/site-packages/sklearn/model_selection/_validation.py\", line 686, in _fit_and_score\n",
      "    estimator.fit(X_train, y_train, **fit_params)\n",
      "  File \"/home/misanchz/miniconda3/envs/TFG/lib/python3.10/site-packages/sklearn/pipeline.py\", line 382, in fit\n",
      "    self._final_estimator.fit(Xt, y, **fit_params_last_step)\n",
      "  File \"/home/misanchz/miniconda3/envs/TFG/lib/python3.10/site-packages/sklearn/linear_model/_logistic.py\", line 1091, in fit\n",
      "    solver = _check_solver(self.solver, self.penalty, self.dual)\n",
      "  File \"/home/misanchz/miniconda3/envs/TFG/lib/python3.10/site-packages/sklearn/linear_model/_logistic.py\", line 61, in _check_solver\n",
      "    raise ValueError(\n",
      "ValueError: Solver lbfgs supports only 'l2' or 'none' penalties, got l1 penalty.\n",
      "\n",
      "  warnings.warn(some_fits_failed_message, FitFailedWarning)\n",
      "/home/misanchz/miniconda3/envs/TFG/lib/python3.10/site-packages/sklearn/model_selection/_search.py:953: UserWarning: One or more of the test scores are non-finite: [       nan 0.98222849 0.9629055  0.98801128        nan 0.99139633\n",
      " 0.99026798 0.99351199        nan 0.99605078 0.99590973 0.99689704\n",
      "        nan 0.99901269 0.99844852 0.99830748        nan 0.99929478\n",
      " 0.99929478 0.99915374        nan 0.99929478 0.99929478 0.99943583\n",
      "        nan 0.99929478 0.99943583 0.99943583]\n",
      "  warnings.warn(\n"
     ]
    }
   ],
   "source": [
    "LR_best_estimator = tuning.tuning_with_grid('LR', X_train, y_train, X_test, y_test, 5)"
   ],
   "metadata": {
    "collapsed": false
   }
  },
  {
   "cell_type": "markdown",
   "source": [
    "## 2. Random Forest (RF)"
   ],
   "metadata": {
    "collapsed": false
   }
  },
  {
   "cell_type": "code",
   "execution_count": 6,
   "outputs": [
    {
     "name": "stdout",
     "output_type": "stream",
     "text": [
      "Fitting 5 folds for each of 10 candidates, totalling 50 fits\n",
      "[CV] END bootstrap=False, max_depth=3, max_features=log2, max_leaf_nodes=3, min_samples_leaf=4, min_samples_split=10, n_estimators=100; total time=   0.4s\n",
      "[CV] END bootstrap=False, max_depth=3, max_features=log2, max_leaf_nodes=3, min_samples_leaf=4, min_samples_split=10, n_estimators=100; total time=   0.3s\n",
      "[CV] END bootstrap=False, max_depth=3, max_features=log2, max_leaf_nodes=3, min_samples_leaf=4, min_samples_split=10, n_estimators=100; total time=   0.3s\n",
      "[CV] END bootstrap=False, max_depth=3, max_features=log2, max_leaf_nodes=3, min_samples_leaf=4, min_samples_split=10, n_estimators=100; total time=   0.6s\n",
      "[CV] END bootstrap=False, max_depth=3, max_features=log2, max_leaf_nodes=3, min_samples_leaf=4, min_samples_split=10, n_estimators=100; total time=   0.4s\n",
      "[CV] END bootstrap=False, max_depth=6, max_features=sqrt, max_leaf_nodes=6, min_samples_leaf=2, min_samples_split=5, n_estimators=25; total time=   0.1s\n",
      "[CV] END bootstrap=False, max_depth=6, max_features=sqrt, max_leaf_nodes=6, min_samples_leaf=2, min_samples_split=5, n_estimators=25; total time=   0.1s\n",
      "[CV] END bootstrap=False, max_depth=6, max_features=sqrt, max_leaf_nodes=6, min_samples_leaf=2, min_samples_split=5, n_estimators=25; total time=   0.1s\n",
      "[CV] END bootstrap=False, max_depth=6, max_features=sqrt, max_leaf_nodes=6, min_samples_leaf=2, min_samples_split=5, n_estimators=25; total time=   0.1s\n",
      "[CV] END bootstrap=False, max_depth=6, max_features=sqrt, max_leaf_nodes=6, min_samples_leaf=2, min_samples_split=5, n_estimators=25; total time=   0.1s\n",
      "[CV] END bootstrap=False, max_depth=9, max_features=log2, max_leaf_nodes=9, min_samples_leaf=4, min_samples_split=10, n_estimators=50; total time=   0.2s\n",
      "[CV] END bootstrap=False, max_depth=9, max_features=log2, max_leaf_nodes=9, min_samples_leaf=4, min_samples_split=10, n_estimators=50; total time=   0.2s\n",
      "[CV] END bootstrap=False, max_depth=9, max_features=log2, max_leaf_nodes=9, min_samples_leaf=4, min_samples_split=10, n_estimators=50; total time=   0.2s\n",
      "[CV] END bootstrap=False, max_depth=9, max_features=log2, max_leaf_nodes=9, min_samples_leaf=4, min_samples_split=10, n_estimators=50; total time=   0.2s\n",
      "[CV] END bootstrap=False, max_depth=9, max_features=log2, max_leaf_nodes=9, min_samples_leaf=4, min_samples_split=10, n_estimators=50; total time=   0.2s\n",
      "[CV] END bootstrap=False, max_depth=6, max_features=None, max_leaf_nodes=6, min_samples_leaf=1, min_samples_split=5, n_estimators=50; total time=   0.4s\n",
      "[CV] END bootstrap=False, max_depth=6, max_features=None, max_leaf_nodes=6, min_samples_leaf=1, min_samples_split=5, n_estimators=50; total time=   0.4s\n",
      "[CV] END bootstrap=False, max_depth=6, max_features=None, max_leaf_nodes=6, min_samples_leaf=1, min_samples_split=5, n_estimators=50; total time=   0.4s\n",
      "[CV] END bootstrap=False, max_depth=6, max_features=None, max_leaf_nodes=6, min_samples_leaf=1, min_samples_split=5, n_estimators=50; total time=   0.4s\n",
      "[CV] END bootstrap=False, max_depth=6, max_features=None, max_leaf_nodes=6, min_samples_leaf=1, min_samples_split=5, n_estimators=50; total time=   0.4s\n",
      "[CV] END bootstrap=True, max_depth=3, max_features=sqrt, max_leaf_nodes=6, min_samples_leaf=1, min_samples_split=10, n_estimators=100; total time=   0.3s\n",
      "[CV] END bootstrap=True, max_depth=3, max_features=sqrt, max_leaf_nodes=6, min_samples_leaf=1, min_samples_split=10, n_estimators=100; total time=   0.3s\n",
      "[CV] END bootstrap=True, max_depth=3, max_features=sqrt, max_leaf_nodes=6, min_samples_leaf=1, min_samples_split=10, n_estimators=100; total time=   0.4s\n",
      "[CV] END bootstrap=True, max_depth=3, max_features=sqrt, max_leaf_nodes=6, min_samples_leaf=1, min_samples_split=10, n_estimators=100; total time=   0.4s\n",
      "[CV] END bootstrap=True, max_depth=3, max_features=sqrt, max_leaf_nodes=6, min_samples_leaf=1, min_samples_split=10, n_estimators=100; total time=   0.3s\n",
      "[CV] END bootstrap=True, max_depth=3, max_features=None, max_leaf_nodes=6, min_samples_leaf=1, min_samples_split=5, n_estimators=100; total time=   0.6s\n",
      "[CV] END bootstrap=True, max_depth=3, max_features=None, max_leaf_nodes=6, min_samples_leaf=1, min_samples_split=5, n_estimators=100; total time=   0.5s\n",
      "[CV] END bootstrap=True, max_depth=3, max_features=None, max_leaf_nodes=6, min_samples_leaf=1, min_samples_split=5, n_estimators=100; total time=   0.5s\n",
      "[CV] END bootstrap=True, max_depth=3, max_features=None, max_leaf_nodes=6, min_samples_leaf=1, min_samples_split=5, n_estimators=100; total time=   0.6s\n",
      "[CV] END bootstrap=True, max_depth=3, max_features=None, max_leaf_nodes=6, min_samples_leaf=1, min_samples_split=5, n_estimators=100; total time=   0.5s\n",
      "[CV] END bootstrap=False, max_depth=6, max_features=log2, max_leaf_nodes=3, min_samples_leaf=4, min_samples_split=2, n_estimators=25; total time=   0.1s\n",
      "[CV] END bootstrap=False, max_depth=6, max_features=log2, max_leaf_nodes=3, min_samples_leaf=4, min_samples_split=2, n_estimators=25; total time=   0.1s\n",
      "[CV] END bootstrap=False, max_depth=6, max_features=log2, max_leaf_nodes=3, min_samples_leaf=4, min_samples_split=2, n_estimators=25; total time=   0.1s\n",
      "[CV] END bootstrap=False, max_depth=6, max_features=log2, max_leaf_nodes=3, min_samples_leaf=4, min_samples_split=2, n_estimators=25; total time=   0.1s\n",
      "[CV] END bootstrap=False, max_depth=6, max_features=log2, max_leaf_nodes=3, min_samples_leaf=4, min_samples_split=2, n_estimators=25; total time=   0.1s\n",
      "[CV] END bootstrap=False, max_depth=9, max_features=log2, max_leaf_nodes=6, min_samples_leaf=2, min_samples_split=2, n_estimators=150; total time=   0.6s\n",
      "[CV] END bootstrap=False, max_depth=9, max_features=log2, max_leaf_nodes=6, min_samples_leaf=2, min_samples_split=2, n_estimators=150; total time=   0.5s\n",
      "[CV] END bootstrap=False, max_depth=9, max_features=log2, max_leaf_nodes=6, min_samples_leaf=2, min_samples_split=2, n_estimators=150; total time=   0.5s\n",
      "[CV] END bootstrap=False, max_depth=9, max_features=log2, max_leaf_nodes=6, min_samples_leaf=2, min_samples_split=2, n_estimators=150; total time=   0.5s\n",
      "[CV] END bootstrap=False, max_depth=9, max_features=log2, max_leaf_nodes=6, min_samples_leaf=2, min_samples_split=2, n_estimators=150; total time=   0.6s\n",
      "[CV] END bootstrap=False, max_depth=9, max_features=sqrt, max_leaf_nodes=3, min_samples_leaf=1, min_samples_split=5, n_estimators=150; total time=   0.4s\n",
      "[CV] END bootstrap=False, max_depth=9, max_features=sqrt, max_leaf_nodes=3, min_samples_leaf=1, min_samples_split=5, n_estimators=150; total time=   0.4s\n",
      "[CV] END bootstrap=False, max_depth=9, max_features=sqrt, max_leaf_nodes=3, min_samples_leaf=1, min_samples_split=5, n_estimators=150; total time=   0.4s\n",
      "[CV] END bootstrap=False, max_depth=9, max_features=sqrt, max_leaf_nodes=3, min_samples_leaf=1, min_samples_split=5, n_estimators=150; total time=   0.4s\n",
      "[CV] END bootstrap=False, max_depth=9, max_features=sqrt, max_leaf_nodes=3, min_samples_leaf=1, min_samples_split=5, n_estimators=150; total time=   0.4s\n",
      "[CV] END bootstrap=True, max_depth=6, max_features=None, max_leaf_nodes=9, min_samples_leaf=4, min_samples_split=2, n_estimators=25; total time=   0.1s\n",
      "[CV] END bootstrap=True, max_depth=6, max_features=None, max_leaf_nodes=9, min_samples_leaf=4, min_samples_split=2, n_estimators=25; total time=   0.2s\n",
      "[CV] END bootstrap=True, max_depth=6, max_features=None, max_leaf_nodes=9, min_samples_leaf=4, min_samples_split=2, n_estimators=25; total time=   0.2s\n",
      "[CV] END bootstrap=True, max_depth=6, max_features=None, max_leaf_nodes=9, min_samples_leaf=4, min_samples_split=2, n_estimators=25; total time=   0.2s\n",
      "[CV] END bootstrap=True, max_depth=6, max_features=None, max_leaf_nodes=9, min_samples_leaf=4, min_samples_split=2, n_estimators=25; total time=   0.2s\n",
      "Best estimator:  RandomForestClassifier(bootstrap=False, max_depth=9, max_features='log2',\n",
      "                       max_leaf_nodes=9, min_samples_leaf=4,\n",
      "                       min_samples_split=10, n_estimators=50)\n",
      "Test set score:  0.9993418887792037\n",
      "Mean cross-validated score of the best_estimator:  0.9994358251057829\n"
     ]
    }
   ],
   "source": [
    "RF_best_estimator = tuning.tuning_with_randomized('RF', X_train, y_train, X_test, y_test, 5)"
   ],
   "metadata": {
    "collapsed": false
   }
  },
  {
   "cell_type": "markdown",
   "source": [],
   "metadata": {
    "collapsed": false
   }
  },
  {
   "cell_type": "markdown",
   "source": [
    "## 3. Support Vector Machine (SVM)"
   ],
   "metadata": {
    "collapsed": false
   }
  },
  {
   "cell_type": "code",
   "execution_count": 7,
   "outputs": [
    {
     "name": "stdout",
     "output_type": "stream",
     "text": [
      "Fitting 5 folds for each of 25 candidates, totalling 125 fits\n",
      "[CV] END estimator__C=0.1, estimator__gamma=1, estimator__kernel=rbf; total time=   0.7s\n",
      "[CV] END estimator__C=0.1, estimator__gamma=1, estimator__kernel=rbf; total time=   0.7s\n",
      "[CV] END estimator__C=0.1, estimator__gamma=1, estimator__kernel=rbf; total time=   0.7s\n",
      "[CV] END estimator__C=0.1, estimator__gamma=1, estimator__kernel=rbf; total time=   0.7s\n",
      "[CV] END estimator__C=0.1, estimator__gamma=1, estimator__kernel=rbf; total time=   0.7s\n",
      "[CV] END estimator__C=0.1, estimator__gamma=0.1, estimator__kernel=rbf; total time=   0.2s\n",
      "[CV] END estimator__C=0.1, estimator__gamma=0.1, estimator__kernel=rbf; total time=   0.3s\n",
      "[CV] END estimator__C=0.1, estimator__gamma=0.1, estimator__kernel=rbf; total time=   0.2s\n",
      "[CV] END estimator__C=0.1, estimator__gamma=0.1, estimator__kernel=rbf; total time=   0.3s\n",
      "[CV] END estimator__C=0.1, estimator__gamma=0.1, estimator__kernel=rbf; total time=   0.2s\n",
      "[CV] END estimator__C=0.1, estimator__gamma=0.01, estimator__kernel=rbf; total time=   0.3s\n",
      "[CV] END estimator__C=0.1, estimator__gamma=0.01, estimator__kernel=rbf; total time=   0.3s\n",
      "[CV] END estimator__C=0.1, estimator__gamma=0.01, estimator__kernel=rbf; total time=   0.3s\n",
      "[CV] END estimator__C=0.1, estimator__gamma=0.01, estimator__kernel=rbf; total time=   0.2s\n",
      "[CV] END estimator__C=0.1, estimator__gamma=0.01, estimator__kernel=rbf; total time=   0.2s\n",
      "[CV] END estimator__C=0.1, estimator__gamma=0.001, estimator__kernel=rbf; total time=   0.5s\n",
      "[CV] END estimator__C=0.1, estimator__gamma=0.001, estimator__kernel=rbf; total time=   0.5s\n",
      "[CV] END estimator__C=0.1, estimator__gamma=0.001, estimator__kernel=rbf; total time=   0.5s\n",
      "[CV] END estimator__C=0.1, estimator__gamma=0.001, estimator__kernel=rbf; total time=   0.5s\n",
      "[CV] END estimator__C=0.1, estimator__gamma=0.001, estimator__kernel=rbf; total time=   0.5s\n",
      "[CV] END estimator__C=0.1, estimator__gamma=0.0001, estimator__kernel=rbf; total time=   0.9s\n",
      "[CV] END estimator__C=0.1, estimator__gamma=0.0001, estimator__kernel=rbf; total time=   1.0s\n",
      "[CV] END estimator__C=0.1, estimator__gamma=0.0001, estimator__kernel=rbf; total time=   0.9s\n",
      "[CV] END estimator__C=0.1, estimator__gamma=0.0001, estimator__kernel=rbf; total time=   1.0s\n",
      "[CV] END estimator__C=0.1, estimator__gamma=0.0001, estimator__kernel=rbf; total time=   1.0s\n",
      "[CV] END estimator__C=1, estimator__gamma=1, estimator__kernel=rbf; total time=   0.5s\n",
      "[CV] END estimator__C=1, estimator__gamma=1, estimator__kernel=rbf; total time=   0.5s\n",
      "[CV] END estimator__C=1, estimator__gamma=1, estimator__kernel=rbf; total time=   0.5s\n",
      "[CV] END estimator__C=1, estimator__gamma=1, estimator__kernel=rbf; total time=   0.5s\n",
      "[CV] END estimator__C=1, estimator__gamma=1, estimator__kernel=rbf; total time=   0.5s\n",
      "[CV] END estimator__C=1, estimator__gamma=0.1, estimator__kernel=rbf; total time=   0.1s\n",
      "[CV] END estimator__C=1, estimator__gamma=0.1, estimator__kernel=rbf; total time=   0.2s\n",
      "[CV] END estimator__C=1, estimator__gamma=0.1, estimator__kernel=rbf; total time=   0.2s\n",
      "[CV] END estimator__C=1, estimator__gamma=0.1, estimator__kernel=rbf; total time=   0.2s\n",
      "[CV] END estimator__C=1, estimator__gamma=0.1, estimator__kernel=rbf; total time=   0.1s\n",
      "[CV] END estimator__C=1, estimator__gamma=0.01, estimator__kernel=rbf; total time=   0.1s\n",
      "[CV] END estimator__C=1, estimator__gamma=0.01, estimator__kernel=rbf; total time=   0.1s\n",
      "[CV] END estimator__C=1, estimator__gamma=0.01, estimator__kernel=rbf; total time=   0.1s\n",
      "[CV] END estimator__C=1, estimator__gamma=0.01, estimator__kernel=rbf; total time=   0.1s\n",
      "[CV] END estimator__C=1, estimator__gamma=0.01, estimator__kernel=rbf; total time=   0.1s\n",
      "[CV] END estimator__C=1, estimator__gamma=0.001, estimator__kernel=rbf; total time=   0.2s\n",
      "[CV] END estimator__C=1, estimator__gamma=0.001, estimator__kernel=rbf; total time=   0.2s\n",
      "[CV] END estimator__C=1, estimator__gamma=0.001, estimator__kernel=rbf; total time=   0.2s\n",
      "[CV] END estimator__C=1, estimator__gamma=0.001, estimator__kernel=rbf; total time=   0.2s\n",
      "[CV] END estimator__C=1, estimator__gamma=0.001, estimator__kernel=rbf; total time=   0.3s\n",
      "[CV] END estimator__C=1, estimator__gamma=0.0001, estimator__kernel=rbf; total time=   0.6s\n",
      "[CV] END estimator__C=1, estimator__gamma=0.0001, estimator__kernel=rbf; total time=   0.6s\n",
      "[CV] END estimator__C=1, estimator__gamma=0.0001, estimator__kernel=rbf; total time=   0.5s\n",
      "[CV] END estimator__C=1, estimator__gamma=0.0001, estimator__kernel=rbf; total time=   0.6s\n",
      "[CV] END estimator__C=1, estimator__gamma=0.0001, estimator__kernel=rbf; total time=   0.8s\n",
      "[CV] END estimator__C=10, estimator__gamma=1, estimator__kernel=rbf; total time=   0.4s\n",
      "[CV] END estimator__C=10, estimator__gamma=1, estimator__kernel=rbf; total time=   0.4s\n",
      "[CV] END estimator__C=10, estimator__gamma=1, estimator__kernel=rbf; total time=   0.4s\n",
      "[CV] END estimator__C=10, estimator__gamma=1, estimator__kernel=rbf; total time=   0.5s\n",
      "[CV] END estimator__C=10, estimator__gamma=1, estimator__kernel=rbf; total time=   0.4s\n",
      "[CV] END estimator__C=10, estimator__gamma=0.1, estimator__kernel=rbf; total time=   0.1s\n",
      "[CV] END estimator__C=10, estimator__gamma=0.1, estimator__kernel=rbf; total time=   0.1s\n",
      "[CV] END estimator__C=10, estimator__gamma=0.1, estimator__kernel=rbf; total time=   0.1s\n",
      "[CV] END estimator__C=10, estimator__gamma=0.1, estimator__kernel=rbf; total time=   0.1s\n",
      "[CV] END estimator__C=10, estimator__gamma=0.1, estimator__kernel=rbf; total time=   0.1s\n",
      "[CV] END estimator__C=10, estimator__gamma=0.01, estimator__kernel=rbf; total time=   0.0s\n",
      "[CV] END estimator__C=10, estimator__gamma=0.01, estimator__kernel=rbf; total time=   0.0s\n",
      "[CV] END estimator__C=10, estimator__gamma=0.01, estimator__kernel=rbf; total time=   0.0s\n",
      "[CV] END estimator__C=10, estimator__gamma=0.01, estimator__kernel=rbf; total time=   0.0s\n",
      "[CV] END estimator__C=10, estimator__gamma=0.01, estimator__kernel=rbf; total time=   0.0s\n",
      "[CV] END estimator__C=10, estimator__gamma=0.001, estimator__kernel=rbf; total time=   0.1s\n",
      "[CV] END estimator__C=10, estimator__gamma=0.001, estimator__kernel=rbf; total time=   0.1s\n",
      "[CV] END estimator__C=10, estimator__gamma=0.001, estimator__kernel=rbf; total time=   0.1s\n",
      "[CV] END estimator__C=10, estimator__gamma=0.001, estimator__kernel=rbf; total time=   0.1s\n",
      "[CV] END estimator__C=10, estimator__gamma=0.001, estimator__kernel=rbf; total time=   0.1s\n",
      "[CV] END estimator__C=10, estimator__gamma=0.0001, estimator__kernel=rbf; total time=   0.2s\n",
      "[CV] END estimator__C=10, estimator__gamma=0.0001, estimator__kernel=rbf; total time=   0.2s\n",
      "[CV] END estimator__C=10, estimator__gamma=0.0001, estimator__kernel=rbf; total time=   0.2s\n",
      "[CV] END estimator__C=10, estimator__gamma=0.0001, estimator__kernel=rbf; total time=   0.2s\n",
      "[CV] END estimator__C=10, estimator__gamma=0.0001, estimator__kernel=rbf; total time=   0.2s\n",
      "[CV] END estimator__C=100, estimator__gamma=1, estimator__kernel=rbf; total time=   0.4s\n",
      "[CV] END estimator__C=100, estimator__gamma=1, estimator__kernel=rbf; total time=   0.4s\n",
      "[CV] END estimator__C=100, estimator__gamma=1, estimator__kernel=rbf; total time=   0.4s\n",
      "[CV] END estimator__C=100, estimator__gamma=1, estimator__kernel=rbf; total time=   0.4s\n",
      "[CV] END estimator__C=100, estimator__gamma=1, estimator__kernel=rbf; total time=   0.5s\n",
      "[CV] END estimator__C=100, estimator__gamma=0.1, estimator__kernel=rbf; total time=   0.1s\n",
      "[CV] END estimator__C=100, estimator__gamma=0.1, estimator__kernel=rbf; total time=   0.2s\n",
      "[CV] END estimator__C=100, estimator__gamma=0.1, estimator__kernel=rbf; total time=   0.2s\n",
      "[CV] END estimator__C=100, estimator__gamma=0.1, estimator__kernel=rbf; total time=   0.1s\n",
      "[CV] END estimator__C=100, estimator__gamma=0.1, estimator__kernel=rbf; total time=   0.1s\n",
      "[CV] END estimator__C=100, estimator__gamma=0.01, estimator__kernel=rbf; total time=   0.0s\n",
      "[CV] END estimator__C=100, estimator__gamma=0.01, estimator__kernel=rbf; total time=   0.0s\n",
      "[CV] END estimator__C=100, estimator__gamma=0.01, estimator__kernel=rbf; total time=   0.0s\n",
      "[CV] END estimator__C=100, estimator__gamma=0.01, estimator__kernel=rbf; total time=   0.0s\n",
      "[CV] END estimator__C=100, estimator__gamma=0.01, estimator__kernel=rbf; total time=   0.0s\n",
      "[CV] END estimator__C=100, estimator__gamma=0.001, estimator__kernel=rbf; total time=   0.0s\n",
      "[CV] END estimator__C=100, estimator__gamma=0.001, estimator__kernel=rbf; total time=   0.0s\n",
      "[CV] END estimator__C=100, estimator__gamma=0.001, estimator__kernel=rbf; total time=   0.0s\n",
      "[CV] END estimator__C=100, estimator__gamma=0.001, estimator__kernel=rbf; total time=   0.0s\n",
      "[CV] END estimator__C=100, estimator__gamma=0.001, estimator__kernel=rbf; total time=   0.0s\n",
      "[CV] END estimator__C=100, estimator__gamma=0.0001, estimator__kernel=rbf; total time=   0.1s\n",
      "[CV] END estimator__C=100, estimator__gamma=0.0001, estimator__kernel=rbf; total time=   0.1s\n",
      "[CV] END estimator__C=100, estimator__gamma=0.0001, estimator__kernel=rbf; total time=   0.1s\n",
      "[CV] END estimator__C=100, estimator__gamma=0.0001, estimator__kernel=rbf; total time=   0.1s\n",
      "[CV] END estimator__C=100, estimator__gamma=0.0001, estimator__kernel=rbf; total time=   0.1s\n",
      "[CV] END estimator__C=1000, estimator__gamma=1, estimator__kernel=rbf; total time=   0.4s\n",
      "[CV] END estimator__C=1000, estimator__gamma=1, estimator__kernel=rbf; total time=   0.4s\n",
      "[CV] END estimator__C=1000, estimator__gamma=1, estimator__kernel=rbf; total time=   0.4s\n",
      "[CV] END estimator__C=1000, estimator__gamma=1, estimator__kernel=rbf; total time=   0.4s\n",
      "[CV] END estimator__C=1000, estimator__gamma=1, estimator__kernel=rbf; total time=   0.4s\n",
      "[CV] END estimator__C=1000, estimator__gamma=0.1, estimator__kernel=rbf; total time=   0.1s\n",
      "[CV] END estimator__C=1000, estimator__gamma=0.1, estimator__kernel=rbf; total time=   0.1s\n",
      "[CV] END estimator__C=1000, estimator__gamma=0.1, estimator__kernel=rbf; total time=   0.1s\n",
      "[CV] END estimator__C=1000, estimator__gamma=0.1, estimator__kernel=rbf; total time=   0.1s\n",
      "[CV] END estimator__C=1000, estimator__gamma=0.1, estimator__kernel=rbf; total time=   0.1s\n",
      "[CV] END estimator__C=1000, estimator__gamma=0.01, estimator__kernel=rbf; total time=   0.0s\n",
      "[CV] END estimator__C=1000, estimator__gamma=0.01, estimator__kernel=rbf; total time=   0.0s\n",
      "[CV] END estimator__C=1000, estimator__gamma=0.01, estimator__kernel=rbf; total time=   0.0s\n",
      "[CV] END estimator__C=1000, estimator__gamma=0.01, estimator__kernel=rbf; total time=   0.0s\n",
      "[CV] END estimator__C=1000, estimator__gamma=0.01, estimator__kernel=rbf; total time=   0.0s\n",
      "[CV] END estimator__C=1000, estimator__gamma=0.001, estimator__kernel=rbf; total time=   0.0s\n",
      "[CV] END estimator__C=1000, estimator__gamma=0.001, estimator__kernel=rbf; total time=   0.0s\n",
      "[CV] END estimator__C=1000, estimator__gamma=0.001, estimator__kernel=rbf; total time=   0.0s\n",
      "[CV] END estimator__C=1000, estimator__gamma=0.001, estimator__kernel=rbf; total time=   0.0s\n",
      "[CV] END estimator__C=1000, estimator__gamma=0.001, estimator__kernel=rbf; total time=   0.0s\n",
      "[CV] END estimator__C=1000, estimator__gamma=0.0001, estimator__kernel=rbf; total time=   0.0s\n",
      "[CV] END estimator__C=1000, estimator__gamma=0.0001, estimator__kernel=rbf; total time=   0.0s\n",
      "[CV] END estimator__C=1000, estimator__gamma=0.0001, estimator__kernel=rbf; total time=   0.0s\n",
      "[CV] END estimator__C=1000, estimator__gamma=0.0001, estimator__kernel=rbf; total time=   0.0s\n",
      "[CV] END estimator__C=1000, estimator__gamma=0.0001, estimator__kernel=rbf; total time=   0.1s\n",
      "Best estimator:  Pipeline(steps=[('scaler', StandardScaler()),\n",
      "                ('estimator', SVC(C=100, gamma=0.01))])\n",
      "Test set score:  0.9993418887792037\n",
      "Mean cross-validated score of the best_estimator:  0.9992947813822285\n"
     ]
    }
   ],
   "source": [
    "SVM_best_estimator = tuning.tuning_with_grid('SVM', X_train, y_train, X_test, y_test, 5)"
   ],
   "metadata": {
    "collapsed": false
   }
  },
  {
   "cell_type": "markdown",
   "source": [
    "## 4. Multilayer Perceptron (MLP)"
   ],
   "metadata": {
    "collapsed": false
   }
  },
  {
   "cell_type": "code",
   "execution_count": 8,
   "outputs": [
    {
     "name": "stdout",
     "output_type": "stream",
     "text": [
      "Fitting 5 folds for each of 10 candidates, totalling 50 fits\n",
      "[CV] END estimator__activation=tanh, estimator__alpha=0.05, estimator__hidden_layer_sizes=(50, 100, 50), estimator__learning_rate=invscaling, estimator__solver=lbfgs; total time=   2.1s\n",
      "[CV] END estimator__activation=tanh, estimator__alpha=0.05, estimator__hidden_layer_sizes=(50, 100, 50), estimator__learning_rate=invscaling, estimator__solver=lbfgs; total time=   1.2s\n",
      "[CV] END estimator__activation=tanh, estimator__alpha=0.05, estimator__hidden_layer_sizes=(50, 100, 50), estimator__learning_rate=invscaling, estimator__solver=lbfgs; total time=   1.3s\n",
      "[CV] END estimator__activation=tanh, estimator__alpha=0.05, estimator__hidden_layer_sizes=(50, 100, 50), estimator__learning_rate=invscaling, estimator__solver=lbfgs; total time=   1.7s\n",
      "[CV] END estimator__activation=tanh, estimator__alpha=0.05, estimator__hidden_layer_sizes=(50, 100, 50), estimator__learning_rate=invscaling, estimator__solver=lbfgs; total time=   1.7s\n",
      "[CV] END estimator__activation=logistic, estimator__alpha=0.05, estimator__hidden_layer_sizes=(50, 50, 50), estimator__learning_rate=adaptive, estimator__solver=sgd; total time=   2.7s\n",
      "[CV] END estimator__activation=logistic, estimator__alpha=0.05, estimator__hidden_layer_sizes=(50, 50, 50), estimator__learning_rate=adaptive, estimator__solver=sgd; total time=   2.8s\n",
      "[CV] END estimator__activation=logistic, estimator__alpha=0.05, estimator__hidden_layer_sizes=(50, 50, 50), estimator__learning_rate=adaptive, estimator__solver=sgd; total time=   5.0s\n",
      "[CV] END estimator__activation=logistic, estimator__alpha=0.05, estimator__hidden_layer_sizes=(50, 50, 50), estimator__learning_rate=adaptive, estimator__solver=sgd; total time=   3.8s\n",
      "[CV] END estimator__activation=logistic, estimator__alpha=0.05, estimator__hidden_layer_sizes=(50, 50, 50), estimator__learning_rate=adaptive, estimator__solver=sgd; total time=   3.5s\n",
      "[CV] END estimator__activation=relu, estimator__alpha=0.05, estimator__hidden_layer_sizes=(50, 100, 50), estimator__learning_rate=constant, estimator__solver=adam; total time=   4.6s\n",
      "[CV] END estimator__activation=relu, estimator__alpha=0.05, estimator__hidden_layer_sizes=(50, 100, 50), estimator__learning_rate=constant, estimator__solver=adam; total time=   3.4s\n",
      "[CV] END estimator__activation=relu, estimator__alpha=0.05, estimator__hidden_layer_sizes=(50, 100, 50), estimator__learning_rate=constant, estimator__solver=adam; total time=   4.0s\n",
      "[CV] END estimator__activation=relu, estimator__alpha=0.05, estimator__hidden_layer_sizes=(50, 100, 50), estimator__learning_rate=constant, estimator__solver=adam; total time=   3.6s\n",
      "[CV] END estimator__activation=relu, estimator__alpha=0.05, estimator__hidden_layer_sizes=(50, 100, 50), estimator__learning_rate=constant, estimator__solver=adam; total time=   4.0s\n",
      "[CV] END estimator__activation=logistic, estimator__alpha=0.0001, estimator__hidden_layer_sizes=(50, 50, 50), estimator__learning_rate=adaptive, estimator__solver=sgd; total time=   4.6s\n",
      "[CV] END estimator__activation=logistic, estimator__alpha=0.0001, estimator__hidden_layer_sizes=(50, 50, 50), estimator__learning_rate=adaptive, estimator__solver=sgd; total time=   2.8s\n",
      "[CV] END estimator__activation=logistic, estimator__alpha=0.0001, estimator__hidden_layer_sizes=(50, 50, 50), estimator__learning_rate=adaptive, estimator__solver=sgd; total time=   4.0s\n",
      "[CV] END estimator__activation=logistic, estimator__alpha=0.0001, estimator__hidden_layer_sizes=(50, 50, 50), estimator__learning_rate=adaptive, estimator__solver=sgd; total time=   4.3s\n",
      "[CV] END estimator__activation=logistic, estimator__alpha=0.0001, estimator__hidden_layer_sizes=(50, 50, 50), estimator__learning_rate=adaptive, estimator__solver=sgd; total time=   6.0s\n",
      "[CV] END estimator__activation=relu, estimator__alpha=0.05, estimator__hidden_layer_sizes=(50, 50, 50), estimator__learning_rate=constant, estimator__solver=lbfgs; total time=   1.1s\n",
      "[CV] END estimator__activation=relu, estimator__alpha=0.05, estimator__hidden_layer_sizes=(50, 50, 50), estimator__learning_rate=constant, estimator__solver=lbfgs; total time=   0.7s\n",
      "[CV] END estimator__activation=relu, estimator__alpha=0.05, estimator__hidden_layer_sizes=(50, 50, 50), estimator__learning_rate=constant, estimator__solver=lbfgs; total time=   0.9s\n",
      "[CV] END estimator__activation=relu, estimator__alpha=0.05, estimator__hidden_layer_sizes=(50, 50, 50), estimator__learning_rate=constant, estimator__solver=lbfgs; total time=   0.7s\n",
      "[CV] END estimator__activation=relu, estimator__alpha=0.05, estimator__hidden_layer_sizes=(50, 50, 50), estimator__learning_rate=constant, estimator__solver=lbfgs; total time=   0.7s\n",
      "[CV] END estimator__activation=relu, estimator__alpha=0.0001, estimator__hidden_layer_sizes=(100,), estimator__learning_rate=constant, estimator__solver=adam; total time=   2.1s\n",
      "[CV] END estimator__activation=relu, estimator__alpha=0.0001, estimator__hidden_layer_sizes=(100,), estimator__learning_rate=constant, estimator__solver=adam; total time=   2.3s\n",
      "[CV] END estimator__activation=relu, estimator__alpha=0.0001, estimator__hidden_layer_sizes=(100,), estimator__learning_rate=constant, estimator__solver=adam; total time=   0.9s\n",
      "[CV] END estimator__activation=relu, estimator__alpha=0.0001, estimator__hidden_layer_sizes=(100,), estimator__learning_rate=constant, estimator__solver=adam; total time=   2.2s\n",
      "[CV] END estimator__activation=relu, estimator__alpha=0.0001, estimator__hidden_layer_sizes=(100,), estimator__learning_rate=constant, estimator__solver=adam; total time=   0.9s\n",
      "[CV] END estimator__activation=relu, estimator__alpha=0.0001, estimator__hidden_layer_sizes=(50, 100, 50), estimator__learning_rate=adaptive, estimator__solver=sgd; total time=   6.6s\n",
      "[CV] END estimator__activation=relu, estimator__alpha=0.0001, estimator__hidden_layer_sizes=(50, 100, 50), estimator__learning_rate=adaptive, estimator__solver=sgd; total time=   9.9s\n",
      "[CV] END estimator__activation=relu, estimator__alpha=0.0001, estimator__hidden_layer_sizes=(50, 100, 50), estimator__learning_rate=adaptive, estimator__solver=sgd; total time=   9.5s\n",
      "[CV] END estimator__activation=relu, estimator__alpha=0.0001, estimator__hidden_layer_sizes=(50, 100, 50), estimator__learning_rate=adaptive, estimator__solver=sgd; total time=   7.8s\n",
      "[CV] END estimator__activation=relu, estimator__alpha=0.0001, estimator__hidden_layer_sizes=(50, 100, 50), estimator__learning_rate=adaptive, estimator__solver=sgd; total time=   7.9s\n",
      "[CV] END estimator__activation=logistic, estimator__alpha=0.05, estimator__hidden_layer_sizes=(50, 50, 50), estimator__learning_rate=constant, estimator__solver=adam; total time=   7.6s\n",
      "[CV] END estimator__activation=logistic, estimator__alpha=0.05, estimator__hidden_layer_sizes=(50, 50, 50), estimator__learning_rate=constant, estimator__solver=adam; total time=   8.7s\n",
      "[CV] END estimator__activation=logistic, estimator__alpha=0.05, estimator__hidden_layer_sizes=(50, 50, 50), estimator__learning_rate=constant, estimator__solver=adam; total time=   6.6s\n",
      "[CV] END estimator__activation=logistic, estimator__alpha=0.05, estimator__hidden_layer_sizes=(50, 50, 50), estimator__learning_rate=constant, estimator__solver=adam; total time=   6.0s\n",
      "[CV] END estimator__activation=logistic, estimator__alpha=0.05, estimator__hidden_layer_sizes=(50, 50, 50), estimator__learning_rate=constant, estimator__solver=adam; total time=   4.3s\n",
      "[CV] END estimator__activation=logistic, estimator__alpha=0.0001, estimator__hidden_layer_sizes=(50, 100, 50), estimator__learning_rate=adaptive, estimator__solver=sgd; total time=   2.3s\n",
      "[CV] END estimator__activation=logistic, estimator__alpha=0.0001, estimator__hidden_layer_sizes=(50, 100, 50), estimator__learning_rate=adaptive, estimator__solver=sgd; total time=   2.3s\n",
      "[CV] END estimator__activation=logistic, estimator__alpha=0.0001, estimator__hidden_layer_sizes=(50, 100, 50), estimator__learning_rate=adaptive, estimator__solver=sgd; total time=   2.6s\n",
      "[CV] END estimator__activation=logistic, estimator__alpha=0.0001, estimator__hidden_layer_sizes=(50, 100, 50), estimator__learning_rate=adaptive, estimator__solver=sgd; total time=   2.6s\n",
      "[CV] END estimator__activation=logistic, estimator__alpha=0.0001, estimator__hidden_layer_sizes=(50, 100, 50), estimator__learning_rate=adaptive, estimator__solver=sgd; total time=   2.9s\n",
      "[CV] END estimator__activation=logistic, estimator__alpha=0.0001, estimator__hidden_layer_sizes=(50, 50, 50), estimator__learning_rate=constant, estimator__solver=lbfgs; total time=   1.3s\n",
      "[CV] END estimator__activation=logistic, estimator__alpha=0.0001, estimator__hidden_layer_sizes=(50, 50, 50), estimator__learning_rate=constant, estimator__solver=lbfgs; total time=   0.9s\n",
      "[CV] END estimator__activation=logistic, estimator__alpha=0.0001, estimator__hidden_layer_sizes=(50, 50, 50), estimator__learning_rate=constant, estimator__solver=lbfgs; total time=   1.8s\n",
      "[CV] END estimator__activation=logistic, estimator__alpha=0.0001, estimator__hidden_layer_sizes=(50, 50, 50), estimator__learning_rate=constant, estimator__solver=lbfgs; total time=   1.3s\n",
      "[CV] END estimator__activation=logistic, estimator__alpha=0.0001, estimator__hidden_layer_sizes=(50, 50, 50), estimator__learning_rate=constant, estimator__solver=lbfgs; total time=   1.0s\n",
      "Best estimator:  Pipeline(steps=[('scaler', StandardScaler()),\n",
      "                ('estimator',\n",
      "                 MLPClassifier(alpha=0.05, hidden_layer_sizes=(50, 50, 50),\n",
      "                               max_iter=500, solver='lbfgs'))])\n",
      "Test set score:  0.9990128331688055\n",
      "Mean cross-validated score of the best_estimator:  0.9994358251057829\n"
     ]
    }
   ],
   "source": [
    "MLP_best_estimator = tuning.tuning_with_randomized('MLP', X_train, y_train, X_test, y_test, 5)"
   ],
   "metadata": {
    "collapsed": false
   }
  },
  {
   "cell_type": "markdown",
   "source": [
    "## Store tuned estimators"
   ],
   "metadata": {
    "collapsed": false
   }
  },
  {
   "cell_type": "code",
   "execution_count": 9,
   "outputs": [],
   "source": [
    "# Create list where we are to store the tuned models\n",
    "estimators_list = []\n",
    "\n",
    "# Add tuned models inside list\n",
    "estimators_list.append(LR_best_estimator)\n",
    "estimators_list.append(RF_best_estimator)\n",
    "estimators_list.append(SVM_best_estimator)\n",
    "estimators_list.append(MLP_best_estimator)"
   ],
   "metadata": {
    "collapsed": false
   }
  },
  {
   "cell_type": "markdown",
   "source": [
    "# 5. Track training process"
   ],
   "metadata": {
    "collapsed": false
   }
  },
  {
   "cell_type": "markdown",
   "source": [
    "## 1. Codecarbon"
   ],
   "metadata": {
    "collapsed": false
   }
  },
  {
   "cell_type": "code",
   "execution_count": 10,
   "outputs": [
    {
     "name": "stderr",
     "output_type": "stream",
     "text": [
      "[codecarbon INFO @ 19:33:59] [setup] RAM Tracking...\n",
      "[codecarbon INFO @ 19:33:59] [setup] GPU Tracking...\n",
      "[codecarbon INFO @ 19:33:59] No GPU found.\n",
      "[codecarbon INFO @ 19:33:59] [setup] CPU Tracking...\n",
      "[codecarbon WARNING @ 19:33:59] No CPU tracking mode found. Falling back on CPU constant mode.\n",
      "[codecarbon INFO @ 19:34:25] CPU Model on constant consumption mode: Intel(R) Core(TM) i5-9400F CPU @ 2.90GHz\n",
      "[codecarbon INFO @ 19:34:25] >>> Tracker's metadata:\n",
      "[codecarbon INFO @ 19:34:25]   Platform system: Linux-5.19.0-38-generic-x86_64-with-glibc2.35\n",
      "[codecarbon INFO @ 19:34:25]   Python version: 3.10.8\n",
      "[codecarbon INFO @ 19:34:25]   Available RAM : 4.946 GB\n",
      "[codecarbon INFO @ 19:34:25]   CPU count: 4\n",
      "[codecarbon INFO @ 19:34:25]   CPU model: Intel(R) Core(TM) i5-9400F CPU @ 2.90GHz\n",
      "[codecarbon INFO @ 19:34:25]   GPU count: None\n",
      "[codecarbon INFO @ 19:34:25]   GPU model: None\n",
      "[codecarbon INFO @ 19:34:29] Energy consumed for RAM : 0.000000 kWh. RAM Power : 1.8548641204833987 W\n",
      "[codecarbon INFO @ 19:34:29] Energy consumed for all CPUs : 0.000001 kWh. All CPUs Power : 32.5 W\n",
      "[codecarbon INFO @ 19:34:29] 0.000001 kWh of electricity used since the begining.\n",
      "[codecarbon INFO @ 19:34:29] [setup] RAM Tracking...\n",
      "[codecarbon INFO @ 19:34:29] [setup] GPU Tracking...\n",
      "[codecarbon INFO @ 19:34:29] No GPU found.\n",
      "[codecarbon INFO @ 19:34:29] [setup] CPU Tracking...\n",
      "[codecarbon WARNING @ 19:34:29] No CPU tracking mode found. Falling back on CPU constant mode.\n"
     ]
    },
    {
     "name": "stdout",
     "output_type": "stream",
     "text": [
      "Emissions: 1.1620543876297233e-07 kg\n"
     ]
    },
    {
     "name": "stderr",
     "output_type": "stream",
     "text": [
      "[codecarbon INFO @ 19:34:30] CPU Model on constant consumption mode: Intel(R) Core(TM) i5-9400F CPU @ 2.90GHz\n",
      "[codecarbon INFO @ 19:34:30] >>> Tracker's metadata:\n",
      "[codecarbon INFO @ 19:34:30]   Platform system: Linux-5.19.0-38-generic-x86_64-with-glibc2.35\n",
      "[codecarbon INFO @ 19:34:30]   Python version: 3.10.8\n",
      "[codecarbon INFO @ 19:34:30]   Available RAM : 4.946 GB\n",
      "[codecarbon INFO @ 19:34:30]   CPU count: 4\n",
      "[codecarbon INFO @ 19:34:30]   CPU model: Intel(R) Core(TM) i5-9400F CPU @ 2.90GHz\n",
      "[codecarbon INFO @ 19:34:30]   GPU count: None\n",
      "[codecarbon INFO @ 19:34:30]   GPU model: None\n",
      "[codecarbon INFO @ 19:34:34] Energy consumed for RAM : 0.000000 kWh. RAM Power : 1.8548641204833987 W\n",
      "[codecarbon INFO @ 19:34:34] Energy consumed for all CPUs : 0.000002 kWh. All CPUs Power : 32.5 W\n",
      "[codecarbon INFO @ 19:34:34] 0.000002 kWh of electricity used since the begining.\n",
      "[codecarbon INFO @ 19:34:34] [setup] RAM Tracking...\n",
      "[codecarbon INFO @ 19:34:34] [setup] GPU Tracking...\n",
      "[codecarbon INFO @ 19:34:34] No GPU found.\n",
      "[codecarbon INFO @ 19:34:34] [setup] CPU Tracking...\n",
      "[codecarbon WARNING @ 19:34:34] No CPU tracking mode found. Falling back on CPU constant mode.\n"
     ]
    },
    {
     "name": "stdout",
     "output_type": "stream",
     "text": [
      "Emissions: 4.47549687315667e-07 kg\n"
     ]
    },
    {
     "name": "stderr",
     "output_type": "stream",
     "text": [
      "[codecarbon INFO @ 19:34:36] CPU Model on constant consumption mode: Intel(R) Core(TM) i5-9400F CPU @ 2.90GHz\n",
      "[codecarbon INFO @ 19:34:36] >>> Tracker's metadata:\n",
      "[codecarbon INFO @ 19:34:36]   Platform system: Linux-5.19.0-38-generic-x86_64-with-glibc2.35\n",
      "[codecarbon INFO @ 19:34:36]   Python version: 3.10.8\n",
      "[codecarbon INFO @ 19:34:36]   Available RAM : 4.946 GB\n",
      "[codecarbon INFO @ 19:34:36]   CPU count: 4\n",
      "[codecarbon INFO @ 19:34:36]   CPU model: Intel(R) Core(TM) i5-9400F CPU @ 2.90GHz\n",
      "[codecarbon INFO @ 19:34:36]   GPU count: None\n",
      "[codecarbon INFO @ 19:34:36]   GPU model: None\n",
      "[codecarbon INFO @ 19:34:39] Energy consumed for RAM : 0.000000 kWh. RAM Power : 1.8548641204833987 W\n",
      "[codecarbon INFO @ 19:34:39] Energy consumed for all CPUs : 0.000000 kWh. All CPUs Power : 32.5 W\n",
      "[codecarbon INFO @ 19:34:39] 0.000000 kWh of electricity used since the begining.\n",
      "[codecarbon INFO @ 19:34:39] [setup] RAM Tracking...\n",
      "[codecarbon INFO @ 19:34:39] [setup] GPU Tracking...\n",
      "[codecarbon INFO @ 19:34:39] No GPU found.\n",
      "[codecarbon INFO @ 19:34:39] [setup] CPU Tracking...\n",
      "[codecarbon WARNING @ 19:34:39] No CPU tracking mode found. Falling back on CPU constant mode.\n"
     ]
    },
    {
     "name": "stdout",
     "output_type": "stream",
     "text": [
      "Emissions: 8.055262196095076e-08 kg\n"
     ]
    },
    {
     "name": "stderr",
     "output_type": "stream",
     "text": [
      "[codecarbon INFO @ 19:34:41] CPU Model on constant consumption mode: Intel(R) Core(TM) i5-9400F CPU @ 2.90GHz\n",
      "[codecarbon INFO @ 19:34:41] >>> Tracker's metadata:\n",
      "[codecarbon INFO @ 19:34:41]   Platform system: Linux-5.19.0-38-generic-x86_64-with-glibc2.35\n",
      "[codecarbon INFO @ 19:34:41]   Python version: 3.10.8\n",
      "[codecarbon INFO @ 19:34:41]   Available RAM : 4.946 GB\n",
      "[codecarbon INFO @ 19:34:41]   CPU count: 4\n",
      "[codecarbon INFO @ 19:34:41]   CPU model: Intel(R) Core(TM) i5-9400F CPU @ 2.90GHz\n",
      "[codecarbon INFO @ 19:34:41]   GPU count: None\n",
      "[codecarbon INFO @ 19:34:41]   GPU model: None\n",
      "[codecarbon INFO @ 19:34:44] Energy consumed for RAM : 0.000000 kWh. RAM Power : 1.8548641204833987 W\n",
      "[codecarbon INFO @ 19:34:44] Energy consumed for all CPUs : 0.000002 kWh. All CPUs Power : 32.5 W\n",
      "[codecarbon INFO @ 19:34:44] 0.000002 kWh of electricity used since the begining.\n"
     ]
    },
    {
     "name": "stdout",
     "output_type": "stream",
     "text": [
      "Emissions: 4.53650552862852e-07 kg\n"
     ]
    }
   ],
   "source": [
    "# Track estimators_list training with codecarbon\n",
    "tracking.track_benchmarking_codecabon(estimators_list, X_train, y_train)"
   ],
   "metadata": {
    "collapsed": false
   }
  },
  {
   "cell_type": "markdown",
   "source": [
    "## 2. Eco2AI"
   ],
   "metadata": {
    "collapsed": false
   }
  },
  {
   "cell_type": "code",
   "execution_count": 11,
   "outputs": [
    {
     "name": "stderr",
     "output_type": "stream",
     "text": [
      "/home/misanchz/miniconda3/envs/TFG/lib/python3.10/site-packages/eco2ai/emission_track.py:135: UserWarning: \n",
      "If you use a VPN, you may have problems with identifying your country by IP.\n",
      "It is recommended to disable VPN or\n",
      "manually install the ISO-Alpha-2 code of your country during initialization of the Tracker() class.\n",
      "You can find the ISO-Alpha-2 code of your country here: https://www.iban.com/country-codes\n",
      "\n",
      "  warnings.warn(\n",
      "/home/misanchz/miniconda3/envs/TFG/lib/python3.10/site-packages/eco2ai/tools/tools_gpu.py:39: NoGPUWarning: \n",
      "\n",
      "There is no any available GPU devices or your GPU is not supported by Nvidia library!\n",
      "The tracker will consider CPU usage only\n",
      "\n",
      "  warnings.warn(message=\"\\n\\nThere is no any available GPU devices or your GPU is not supported by Nvidia library!\\nThe tracker will consider CPU usage only\\n\",\n",
      "/home/misanchz/miniconda3/envs/TFG/lib/python3.10/site-packages/eco2ai/emission_track.py:135: UserWarning: \n",
      "If you use a VPN, you may have problems with identifying your country by IP.\n",
      "It is recommended to disable VPN or\n",
      "manually install the ISO-Alpha-2 code of your country during initialization of the Tracker() class.\n",
      "You can find the ISO-Alpha-2 code of your country here: https://www.iban.com/country-codes\n",
      "\n",
      "  warnings.warn(\n",
      "/home/misanchz/miniconda3/envs/TFG/lib/python3.10/site-packages/eco2ai/tools/tools_gpu.py:39: NoGPUWarning: \n",
      "\n",
      "There is no any available GPU devices or your GPU is not supported by Nvidia library!\n",
      "The tracker will consider CPU usage only\n",
      "\n",
      "  warnings.warn(message=\"\\n\\nThere is no any available GPU devices or your GPU is not supported by Nvidia library!\\nThe tracker will consider CPU usage only\\n\",\n",
      "/home/misanchz/miniconda3/envs/TFG/lib/python3.10/site-packages/eco2ai/emission_track.py:135: UserWarning: \n",
      "If you use a VPN, you may have problems with identifying your country by IP.\n",
      "It is recommended to disable VPN or\n",
      "manually install the ISO-Alpha-2 code of your country during initialization of the Tracker() class.\n",
      "You can find the ISO-Alpha-2 code of your country here: https://www.iban.com/country-codes\n",
      "\n",
      "  warnings.warn(\n",
      "/home/misanchz/miniconda3/envs/TFG/lib/python3.10/site-packages/eco2ai/tools/tools_gpu.py:39: NoGPUWarning: \n",
      "\n",
      "There is no any available GPU devices or your GPU is not supported by Nvidia library!\n",
      "The tracker will consider CPU usage only\n",
      "\n",
      "  warnings.warn(message=\"\\n\\nThere is no any available GPU devices or your GPU is not supported by Nvidia library!\\nThe tracker will consider CPU usage only\\n\",\n",
      "/home/misanchz/miniconda3/envs/TFG/lib/python3.10/site-packages/eco2ai/emission_track.py:135: UserWarning: \n",
      "If you use a VPN, you may have problems with identifying your country by IP.\n",
      "It is recommended to disable VPN or\n",
      "manually install the ISO-Alpha-2 code of your country during initialization of the Tracker() class.\n",
      "You can find the ISO-Alpha-2 code of your country here: https://www.iban.com/country-codes\n",
      "\n",
      "  warnings.warn(\n",
      "/home/misanchz/miniconda3/envs/TFG/lib/python3.10/site-packages/eco2ai/tools/tools_gpu.py:39: NoGPUWarning: \n",
      "\n",
      "There is no any available GPU devices or your GPU is not supported by Nvidia library!\n",
      "The tracker will consider CPU usage only\n",
      "\n",
      "  warnings.warn(message=\"\\n\\nThere is no any available GPU devices or your GPU is not supported by Nvidia library!\\nThe tracker will consider CPU usage only\\n\",\n"
     ]
    }
   ],
   "source": [
    "# Track estimators_list training with eco2ai\n",
    "tracking.track_benchmarking_eco2ai(estimators_list, X_train, y_train)"
   ],
   "metadata": {
    "collapsed": false
   }
  },
  {
   "cell_type": "markdown",
   "source": [
    "# 6. Create benchmarking"
   ],
   "metadata": {
    "collapsed": false
   }
  },
  {
   "cell_type": "code",
   "execution_count": 12,
   "outputs": [],
   "source": [
    "benchmarking.create_benchmarking_csv()"
   ],
   "metadata": {
    "collapsed": false
   }
  },
  {
   "cell_type": "code",
   "execution_count": 13,
   "outputs": [
    {
     "data": {
      "text/plain": "  Herramientas  Logistic Regression(kWh)  Random Forest(kWh)  \\\n0   codecarbon              6.116076e-07        2.355525e-06   \n1       eco2ai              5.782587e-09        7.004785e-09   \n\n   Support Vector Machines(kWh)  Multilayer Perceptron(kWh)  \\\n0                  4.239612e-07                    0.000002   \n1                  4.361105e-09                    0.000005   \n\n   Eficiencia energetica  \n0                      0  \n1                      0  ",
      "text/html": "<div>\n<style scoped>\n    .dataframe tbody tr th:only-of-type {\n        vertical-align: middle;\n    }\n\n    .dataframe tbody tr th {\n        vertical-align: top;\n    }\n\n    .dataframe thead th {\n        text-align: right;\n    }\n</style>\n<table border=\"1\" class=\"dataframe\">\n  <thead>\n    <tr style=\"text-align: right;\">\n      <th></th>\n      <th>Herramientas</th>\n      <th>Logistic Regression(kWh)</th>\n      <th>Random Forest(kWh)</th>\n      <th>Support Vector Machines(kWh)</th>\n      <th>Multilayer Perceptron(kWh)</th>\n      <th>Eficiencia energetica</th>\n    </tr>\n  </thead>\n  <tbody>\n    <tr>\n      <th>0</th>\n      <td>codecarbon</td>\n      <td>6.116076e-07</td>\n      <td>2.355525e-06</td>\n      <td>4.239612e-07</td>\n      <td>0.000002</td>\n      <td>0</td>\n    </tr>\n    <tr>\n      <th>1</th>\n      <td>eco2ai</td>\n      <td>5.782587e-09</td>\n      <td>7.004785e-09</td>\n      <td>4.361105e-09</td>\n      <td>0.000005</td>\n      <td>0</td>\n    </tr>\n  </tbody>\n</table>\n</div>"
     },
     "execution_count": 13,
     "metadata": {},
     "output_type": "execute_result"
    }
   ],
   "source": [
    "df_benchmarking = preprocess.load_csv_data('benchmarking.csv')\n",
    "df_benchmarking"
   ],
   "metadata": {
    "collapsed": false
   }
  }
 ],
 "metadata": {
  "kernelspec": {
   "display_name": "Python 3",
   "language": "python",
   "name": "python3"
  },
  "language_info": {
   "codemirror_mode": {
    "name": "ipython",
    "version": 2
   },
   "file_extension": ".py",
   "mimetype": "text/x-python",
   "name": "python",
   "nbconvert_exporter": "python",
   "pygments_lexer": "ipython2",
   "version": "2.7.6"
  }
 },
 "nbformat": 4,
 "nbformat_minor": 0
}
