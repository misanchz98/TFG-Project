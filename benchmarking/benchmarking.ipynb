{
 "cells": [
  {
   "cell_type": "markdown",
   "source": [
    "# 1. Importación de paquetes"
   ],
   "metadata": {
    "collapsed": false,
    "pycharm": {
     "name": "#%% md\n"
    }
   }
  },
  {
   "cell_type": "code",
   "execution_count": 31,
   "outputs": [],
   "source": [
    "#Import packages\n",
    "from modules import preprocess\n",
    "from modules import training\n",
    "import pandas as pd"
   ],
   "metadata": {
    "collapsed": false,
    "pycharm": {
     "name": "#%%\n"
    }
   }
  },
  {
   "cell_type": "markdown",
   "source": [
    "# 2. Preprocesamiento del *dataset*: [Room Occupancy Estimation Data Set](https://www.kaggle.com/ananthr1/room-occupancy-estimation-data-set)"
   ],
   "metadata": {
    "collapsed": false,
    "pycharm": {
     "name": "#%% md\n"
    }
   }
  },
  {
   "cell_type": "markdown",
   "source": [
    "## Paso 1: Lectura del *dataset* y obtención de datos"
   ],
   "metadata": {
    "collapsed": false,
    "pycharm": {
     "name": "#%% md\n"
    }
   }
  },
  {
   "cell_type": "code",
   "execution_count": 32,
   "outputs": [
    {
     "data": {
      "text/plain": "(10129, 19)"
     },
     "execution_count": 32,
     "metadata": {},
     "output_type": "execute_result"
    }
   ],
   "source": [
    "df = preprocess.load_csv_data('Occupancy_Estimation.csv')\n",
    "df.shape"
   ],
   "metadata": {
    "collapsed": false,
    "pycharm": {
     "name": "#%%\n"
    }
   }
  },
  {
   "cell_type": "code",
   "execution_count": 33,
   "outputs": [
    {
     "data": {
      "text/plain": "         Date      Time  S1_Temp  S2_Temp  S3_Temp  S4_Temp  S1_Light  \\\n0  2017/12/22  10:49:41    24.94    24.75    24.56    25.38       121   \n1  2017/12/22  10:50:12    24.94    24.75    24.56    25.44       121   \n2  2017/12/22  10:50:42    25.00    24.75    24.50    25.44       121   \n3  2017/12/22  10:51:13    25.00    24.75    24.56    25.44       121   \n4  2017/12/22  10:51:44    25.00    24.75    24.56    25.44       121   \n\n   S2_Light  S3_Light  S4_Light  S1_Sound  S2_Sound  S3_Sound  S4_Sound  \\\n0        34        53        40      0.08      0.19      0.06      0.06   \n1        33        53        40      0.93      0.05      0.06      0.06   \n2        34        53        40      0.43      0.11      0.08      0.06   \n3        34        53        40      0.41      0.10      0.10      0.09   \n4        34        54        40      0.18      0.06      0.06      0.06   \n\n   S5_CO2  S5_CO2_Slope  S6_PIR  S7_PIR  Room_Occupancy_Count  \n0     390      0.769231       0       0                     1  \n1     390      0.646154       0       0                     1  \n2     390      0.519231       0       0                     1  \n3     390      0.388462       0       0                     1  \n4     390      0.253846       0       0                     1  ",
      "text/html": "<div>\n<style scoped>\n    .dataframe tbody tr th:only-of-type {\n        vertical-align: middle;\n    }\n\n    .dataframe tbody tr th {\n        vertical-align: top;\n    }\n\n    .dataframe thead th {\n        text-align: right;\n    }\n</style>\n<table border=\"1\" class=\"dataframe\">\n  <thead>\n    <tr style=\"text-align: right;\">\n      <th></th>\n      <th>Date</th>\n      <th>Time</th>\n      <th>S1_Temp</th>\n      <th>S2_Temp</th>\n      <th>S3_Temp</th>\n      <th>S4_Temp</th>\n      <th>S1_Light</th>\n      <th>S2_Light</th>\n      <th>S3_Light</th>\n      <th>S4_Light</th>\n      <th>S1_Sound</th>\n      <th>S2_Sound</th>\n      <th>S3_Sound</th>\n      <th>S4_Sound</th>\n      <th>S5_CO2</th>\n      <th>S5_CO2_Slope</th>\n      <th>S6_PIR</th>\n      <th>S7_PIR</th>\n      <th>Room_Occupancy_Count</th>\n    </tr>\n  </thead>\n  <tbody>\n    <tr>\n      <th>0</th>\n      <td>2017/12/22</td>\n      <td>10:49:41</td>\n      <td>24.94</td>\n      <td>24.75</td>\n      <td>24.56</td>\n      <td>25.38</td>\n      <td>121</td>\n      <td>34</td>\n      <td>53</td>\n      <td>40</td>\n      <td>0.08</td>\n      <td>0.19</td>\n      <td>0.06</td>\n      <td>0.06</td>\n      <td>390</td>\n      <td>0.769231</td>\n      <td>0</td>\n      <td>0</td>\n      <td>1</td>\n    </tr>\n    <tr>\n      <th>1</th>\n      <td>2017/12/22</td>\n      <td>10:50:12</td>\n      <td>24.94</td>\n      <td>24.75</td>\n      <td>24.56</td>\n      <td>25.44</td>\n      <td>121</td>\n      <td>33</td>\n      <td>53</td>\n      <td>40</td>\n      <td>0.93</td>\n      <td>0.05</td>\n      <td>0.06</td>\n      <td>0.06</td>\n      <td>390</td>\n      <td>0.646154</td>\n      <td>0</td>\n      <td>0</td>\n      <td>1</td>\n    </tr>\n    <tr>\n      <th>2</th>\n      <td>2017/12/22</td>\n      <td>10:50:42</td>\n      <td>25.00</td>\n      <td>24.75</td>\n      <td>24.50</td>\n      <td>25.44</td>\n      <td>121</td>\n      <td>34</td>\n      <td>53</td>\n      <td>40</td>\n      <td>0.43</td>\n      <td>0.11</td>\n      <td>0.08</td>\n      <td>0.06</td>\n      <td>390</td>\n      <td>0.519231</td>\n      <td>0</td>\n      <td>0</td>\n      <td>1</td>\n    </tr>\n    <tr>\n      <th>3</th>\n      <td>2017/12/22</td>\n      <td>10:51:13</td>\n      <td>25.00</td>\n      <td>24.75</td>\n      <td>24.56</td>\n      <td>25.44</td>\n      <td>121</td>\n      <td>34</td>\n      <td>53</td>\n      <td>40</td>\n      <td>0.41</td>\n      <td>0.10</td>\n      <td>0.10</td>\n      <td>0.09</td>\n      <td>390</td>\n      <td>0.388462</td>\n      <td>0</td>\n      <td>0</td>\n      <td>1</td>\n    </tr>\n    <tr>\n      <th>4</th>\n      <td>2017/12/22</td>\n      <td>10:51:44</td>\n      <td>25.00</td>\n      <td>24.75</td>\n      <td>24.56</td>\n      <td>25.44</td>\n      <td>121</td>\n      <td>34</td>\n      <td>54</td>\n      <td>40</td>\n      <td>0.18</td>\n      <td>0.06</td>\n      <td>0.06</td>\n      <td>0.06</td>\n      <td>390</td>\n      <td>0.253846</td>\n      <td>0</td>\n      <td>0</td>\n      <td>1</td>\n    </tr>\n  </tbody>\n</table>\n</div>"
     },
     "execution_count": 33,
     "metadata": {},
     "output_type": "execute_result"
    }
   ],
   "source": [
    "df.head()"
   ],
   "metadata": {
    "collapsed": false,
    "pycharm": {
     "name": "#%%\n"
    }
   }
  },
  {
   "cell_type": "markdown",
   "source": [
    "## Paso 2: Recodificación de la columna *RoomOccupancyCount*\n",
    "\n",
    "En este caso, la columna que contiene la variable de salida (*RoomOccupancyCount*) cuenta el número de personas en la sala. Para simplificar, nuestro objetivo va a ser detectar si la sala está vacía o, en cambio, hay alguien (no el número exacto de personas).\n",
    "\n",
    "Por lo tanto, se **recodificará cualquier valor mayor que 0 en esa columna como 1**, de tal forma que la variable de salida sea binaria:\n",
    "- 0 -> ausencia.\n",
    "- 1 -> presencia."
   ],
   "metadata": {
    "collapsed": false,
    "pycharm": {
     "name": "#%% md\n"
    }
   }
  },
  {
   "cell_type": "code",
   "execution_count": 34,
   "outputs": [
    {
     "data": {
      "text/plain": "0        1\n1        1\n2        1\n3        1\n4        1\n        ..\n10124    0\n10125    0\n10126    0\n10127    0\n10128    0\nName: Room_Occupancy_Count, Length: 10129, dtype: int64"
     },
     "execution_count": 34,
     "metadata": {},
     "output_type": "execute_result"
    }
   ],
   "source": [
    "# Show \"Room_Occupancy_Count\" before processing\n",
    "df[\"Room_Occupancy_Count\"]"
   ],
   "metadata": {
    "collapsed": false,
    "pycharm": {
     "name": "#%%\n"
    }
   }
  },
  {
   "cell_type": "code",
   "execution_count": 35,
   "outputs": [
    {
     "data": {
      "text/plain": "0        1\n1        1\n2        1\n3        1\n4        1\n        ..\n10124    0\n10125    0\n10126    0\n10127    0\n10128    0\nName: Room_Occupancy_Count, Length: 10129, dtype: int64"
     },
     "execution_count": 35,
     "metadata": {},
     "output_type": "execute_result"
    }
   ],
   "source": [
    "#Process \"Room_Occupancy_Count\"\n",
    "preprocess.recode_dataset_output(df)\n",
    "\n",
    "# Show \"Room_Occupancy_Count\" after processing\n",
    "df[\"Room_Occupancy_Count\"]"
   ],
   "metadata": {
    "collapsed": false,
    "pycharm": {
     "name": "#%%\n"
    }
   }
  },
  {
   "cell_type": "markdown",
   "source": [
    "## Paso 3: Eliminación de las columnas temporales *Date* y *Time*\n",
    "\n",
    "Respecto a los datos ofrecidos por las columas *Date* y *Time*, vamos a filtrarlos y dejarlos fuera del proceso. Ya que, aunque los incluyeramos (por ejemplo, juntando ambas partes en una sola columna y convirtiéndolo a formato 'epoch', como long int), los valores de muestras sucesivas de esa columna estarían totalmente correlados entre sí y, como consecuencia, fastidiaríamos a la mayoría de algoritmos que vamos a emplear posteriormente.\n",
    "\n",
    "Se debe tener en cuenta que no nos estamos olvidando de la información temporal para considerar como si cada valor muestreado (fila de la tabla) fuese independiente de las demás filas. Sabemos que eso no es así, pero estamos considerando que esa información temporal no nos ofrece valor añadido para predecir si la habitación está ocupada o vacía. En caso contrario, se tendrían que usar modelos bastante más complicados para considerar esa relación temporal que indica que, en realidad, las muestras de dos filas adyacentes son consecutivas en el tiempo."
   ],
   "metadata": {
    "collapsed": false,
    "pycharm": {
     "name": "#%% md\n"
    }
   }
  },
  {
   "cell_type": "code",
   "execution_count": 36,
   "outputs": [
    {
     "data": {
      "text/plain": "   S1_Temp  S2_Temp  S3_Temp  S4_Temp  S1_Light  S2_Light  S3_Light  S4_Light  \\\n0    24.94    24.75    24.56    25.38       121        34        53        40   \n1    24.94    24.75    24.56    25.44       121        33        53        40   \n2    25.00    24.75    24.50    25.44       121        34        53        40   \n3    25.00    24.75    24.56    25.44       121        34        53        40   \n4    25.00    24.75    24.56    25.44       121        34        54        40   \n\n   S1_Sound  S2_Sound  S3_Sound  S4_Sound  S5_CO2  S5_CO2_Slope  S6_PIR  \\\n0      0.08      0.19      0.06      0.06     390      0.769231       0   \n1      0.93      0.05      0.06      0.06     390      0.646154       0   \n2      0.43      0.11      0.08      0.06     390      0.519231       0   \n3      0.41      0.10      0.10      0.09     390      0.388462       0   \n4      0.18      0.06      0.06      0.06     390      0.253846       0   \n\n   S7_PIR  Room_Occupancy_Count  \n0       0                     1  \n1       0                     1  \n2       0                     1  \n3       0                     1  \n4       0                     1  ",
      "text/html": "<div>\n<style scoped>\n    .dataframe tbody tr th:only-of-type {\n        vertical-align: middle;\n    }\n\n    .dataframe tbody tr th {\n        vertical-align: top;\n    }\n\n    .dataframe thead th {\n        text-align: right;\n    }\n</style>\n<table border=\"1\" class=\"dataframe\">\n  <thead>\n    <tr style=\"text-align: right;\">\n      <th></th>\n      <th>S1_Temp</th>\n      <th>S2_Temp</th>\n      <th>S3_Temp</th>\n      <th>S4_Temp</th>\n      <th>S1_Light</th>\n      <th>S2_Light</th>\n      <th>S3_Light</th>\n      <th>S4_Light</th>\n      <th>S1_Sound</th>\n      <th>S2_Sound</th>\n      <th>S3_Sound</th>\n      <th>S4_Sound</th>\n      <th>S5_CO2</th>\n      <th>S5_CO2_Slope</th>\n      <th>S6_PIR</th>\n      <th>S7_PIR</th>\n      <th>Room_Occupancy_Count</th>\n    </tr>\n  </thead>\n  <tbody>\n    <tr>\n      <th>0</th>\n      <td>24.94</td>\n      <td>24.75</td>\n      <td>24.56</td>\n      <td>25.38</td>\n      <td>121</td>\n      <td>34</td>\n      <td>53</td>\n      <td>40</td>\n      <td>0.08</td>\n      <td>0.19</td>\n      <td>0.06</td>\n      <td>0.06</td>\n      <td>390</td>\n      <td>0.769231</td>\n      <td>0</td>\n      <td>0</td>\n      <td>1</td>\n    </tr>\n    <tr>\n      <th>1</th>\n      <td>24.94</td>\n      <td>24.75</td>\n      <td>24.56</td>\n      <td>25.44</td>\n      <td>121</td>\n      <td>33</td>\n      <td>53</td>\n      <td>40</td>\n      <td>0.93</td>\n      <td>0.05</td>\n      <td>0.06</td>\n      <td>0.06</td>\n      <td>390</td>\n      <td>0.646154</td>\n      <td>0</td>\n      <td>0</td>\n      <td>1</td>\n    </tr>\n    <tr>\n      <th>2</th>\n      <td>25.00</td>\n      <td>24.75</td>\n      <td>24.50</td>\n      <td>25.44</td>\n      <td>121</td>\n      <td>34</td>\n      <td>53</td>\n      <td>40</td>\n      <td>0.43</td>\n      <td>0.11</td>\n      <td>0.08</td>\n      <td>0.06</td>\n      <td>390</td>\n      <td>0.519231</td>\n      <td>0</td>\n      <td>0</td>\n      <td>1</td>\n    </tr>\n    <tr>\n      <th>3</th>\n      <td>25.00</td>\n      <td>24.75</td>\n      <td>24.56</td>\n      <td>25.44</td>\n      <td>121</td>\n      <td>34</td>\n      <td>53</td>\n      <td>40</td>\n      <td>0.41</td>\n      <td>0.10</td>\n      <td>0.10</td>\n      <td>0.09</td>\n      <td>390</td>\n      <td>0.388462</td>\n      <td>0</td>\n      <td>0</td>\n      <td>1</td>\n    </tr>\n    <tr>\n      <th>4</th>\n      <td>25.00</td>\n      <td>24.75</td>\n      <td>24.56</td>\n      <td>25.44</td>\n      <td>121</td>\n      <td>34</td>\n      <td>54</td>\n      <td>40</td>\n      <td>0.18</td>\n      <td>0.06</td>\n      <td>0.06</td>\n      <td>0.06</td>\n      <td>390</td>\n      <td>0.253846</td>\n      <td>0</td>\n      <td>0</td>\n      <td>1</td>\n    </tr>\n  </tbody>\n</table>\n</div>"
     },
     "execution_count": 36,
     "metadata": {},
     "output_type": "execute_result"
    }
   ],
   "source": [
    "# Filter Date and Time columns\n",
    "preprocess.remove_time_columns(df)\n",
    "\n",
    "# Show the result\n",
    "df.head()"
   ],
   "metadata": {
    "collapsed": false,
    "pycharm": {
     "name": "#%%\n"
    }
   }
  },
  {
   "cell_type": "markdown",
   "source": [
    "# 2. Entrenamiento y seguimiento de la huella de carbono"
   ],
   "metadata": {
    "collapsed": false,
    "pycharm": {
     "name": "#%% md\n"
    }
   }
  },
  {
   "cell_type": "markdown",
   "source": [
    "### Codecarbon:"
   ],
   "metadata": {
    "collapsed": false,
    "pycharm": {
     "name": "#%% md\n"
    }
   }
  },
  {
   "cell_type": "code",
   "execution_count": 37,
   "outputs": [
    {
     "name": "stderr",
     "output_type": "stream",
     "text": [
      "[codecarbon INFO @ 12:04:49] [setup] RAM Tracking...\n",
      "[codecarbon INFO @ 12:04:49] [setup] GPU Tracking...\n",
      "[codecarbon INFO @ 12:04:49] No GPU found.\n",
      "[codecarbon INFO @ 12:04:49] [setup] CPU Tracking...\n",
      "[codecarbon WARNING @ 12:04:49] No CPU tracking mode found. Falling back on CPU constant mode.\n",
      "[codecarbon INFO @ 12:04:51] CPU Model on constant consumption mode: Intel(R) Core(TM) i5-9400F CPU @ 2.90GHz\n",
      "[codecarbon INFO @ 12:04:51] >>> Tracker's metadata:\n",
      "[codecarbon INFO @ 12:04:51]   Platform system: Linux-5.15.0-46-generic-x86_64-with-glibc2.35\n",
      "[codecarbon INFO @ 12:04:51]   Python version: 3.10.4\n",
      "[codecarbon INFO @ 12:04:51]   Available RAM : 1.930 GB\n",
      "[codecarbon INFO @ 12:04:51]   CPU count: 1\n",
      "[codecarbon INFO @ 12:04:51]   CPU model: Intel(R) Core(TM) i5-9400F CPU @ 2.90GHz\n",
      "[codecarbon INFO @ 12:04:51]   GPU count: None\n",
      "[codecarbon INFO @ 12:04:51]   GPU model: None\n",
      "[codecarbon INFO @ 12:04:54] Energy consumed for RAM : 0.000000 kWh. RAM Power : 0.7236471176147461 W\n",
      "[codecarbon INFO @ 12:04:54] Energy consumed for all CPUs : 0.000000 kWh. All CPUs Power : 32.5 W\n",
      "[codecarbon INFO @ 12:04:54] 0.000000 kWh of electricity used since the begining.\n"
     ]
    },
    {
     "name": "stdout",
     "output_type": "stream",
     "text": [
      "Emissions: 4.586739139095989e-08 kg\n"
     ]
    }
   ],
   "source": [
    "# Logistic Regression\n",
    "training.train_LR_codecarbon(df,0.25)"
   ],
   "metadata": {
    "collapsed": false,
    "pycharm": {
     "name": "#%%\n"
    }
   }
  },
  {
   "cell_type": "code",
   "execution_count": 38,
   "outputs": [
    {
     "name": "stderr",
     "output_type": "stream",
     "text": [
      "[codecarbon INFO @ 12:04:54] [setup] RAM Tracking...\n",
      "[codecarbon INFO @ 12:04:54] [setup] GPU Tracking...\n",
      "[codecarbon INFO @ 12:04:54] No GPU found.\n",
      "[codecarbon INFO @ 12:04:54] [setup] CPU Tracking...\n",
      "[codecarbon WARNING @ 12:04:54] No CPU tracking mode found. Falling back on CPU constant mode.\n",
      "[codecarbon INFO @ 12:04:57] CPU Model on constant consumption mode: Intel(R) Core(TM) i5-9400F CPU @ 2.90GHz\n",
      "[codecarbon INFO @ 12:04:57] >>> Tracker's metadata:\n",
      "[codecarbon INFO @ 12:04:57]   Platform system: Linux-5.15.0-46-generic-x86_64-with-glibc2.35\n",
      "[codecarbon INFO @ 12:04:57]   Python version: 3.10.4\n",
      "[codecarbon INFO @ 12:04:57]   Available RAM : 1.930 GB\n",
      "[codecarbon INFO @ 12:04:57]   CPU count: 1\n",
      "[codecarbon INFO @ 12:04:57]   CPU model: Intel(R) Core(TM) i5-9400F CPU @ 2.90GHz\n",
      "[codecarbon INFO @ 12:04:57]   GPU count: None\n",
      "[codecarbon INFO @ 12:04:57]   GPU model: None\n",
      "[codecarbon INFO @ 12:05:00] Energy consumed for RAM : 0.000000 kWh. RAM Power : 0.7236471176147461 W\n",
      "[codecarbon INFO @ 12:05:00] Energy consumed for all CPUs : 0.000003 kWh. All CPUs Power : 32.5 W\n",
      "[codecarbon INFO @ 12:05:00] 0.000003 kWh of electricity used since the begining.\n"
     ]
    },
    {
     "name": "stdout",
     "output_type": "stream",
     "text": [
      "Emissions: 5.246881948701027e-07 kg\n"
     ]
    }
   ],
   "source": [
    "# Random Forest\n",
    "training.train_RF_codecarbon(df,0.25)"
   ],
   "metadata": {
    "collapsed": false,
    "pycharm": {
     "name": "#%%\n"
    }
   }
  },
  {
   "cell_type": "code",
   "execution_count": 39,
   "outputs": [
    {
     "name": "stderr",
     "output_type": "stream",
     "text": [
      "[codecarbon INFO @ 12:05:00] [setup] RAM Tracking...\n",
      "[codecarbon INFO @ 12:05:00] [setup] GPU Tracking...\n",
      "[codecarbon INFO @ 12:05:00] No GPU found.\n",
      "[codecarbon INFO @ 12:05:00] [setup] CPU Tracking...\n",
      "[codecarbon WARNING @ 12:05:00] No CPU tracking mode found. Falling back on CPU constant mode.\n",
      "[codecarbon INFO @ 12:05:02] CPU Model on constant consumption mode: Intel(R) Core(TM) i5-9400F CPU @ 2.90GHz\n",
      "[codecarbon INFO @ 12:05:02] >>> Tracker's metadata:\n",
      "[codecarbon INFO @ 12:05:02]   Platform system: Linux-5.15.0-46-generic-x86_64-with-glibc2.35\n",
      "[codecarbon INFO @ 12:05:02]   Python version: 3.10.4\n",
      "[codecarbon INFO @ 12:05:02]   Available RAM : 1.930 GB\n",
      "[codecarbon INFO @ 12:05:02]   CPU count: 1\n",
      "[codecarbon INFO @ 12:05:02]   CPU model: Intel(R) Core(TM) i5-9400F CPU @ 2.90GHz\n",
      "[codecarbon INFO @ 12:05:02]   GPU count: None\n",
      "[codecarbon INFO @ 12:05:02]   GPU model: None\n",
      "[codecarbon INFO @ 12:05:05] Energy consumed for RAM : 0.000000 kWh. RAM Power : 0.7236471176147461 W\n",
      "[codecarbon INFO @ 12:05:05] Energy consumed for all CPUs : 0.000000 kWh. All CPUs Power : 32.5 W\n",
      "[codecarbon INFO @ 12:05:05] 0.000000 kWh of electricity used since the begining.\n"
     ]
    },
    {
     "name": "stdout",
     "output_type": "stream",
     "text": [
      "Emissions: 5.14784624678378e-08 kg\n"
     ]
    }
   ],
   "source": [
    "# Linear SVC (Support Vector Machines)\n",
    "training.train_SVC_codecarbon(df,0.25)"
   ],
   "metadata": {
    "collapsed": false,
    "pycharm": {
     "name": "#%%\n"
    }
   }
  },
  {
   "cell_type": "code",
   "execution_count": 40,
   "outputs": [
    {
     "data": {
      "text/plain": "              timestamp project_name                                run_id  \\\n0   2022-08-28T11:22:25   codecarbon  6c51acf7-babd-40dd-9c55-f5783ba513d5   \n1   2022-08-28T11:22:30   codecarbon  454248c0-e227-44c6-b057-06ca16acc51b   \n2   2022-08-28T11:22:35   codecarbon  a055224c-422b-40b8-aef6-ec355f8a68f5   \n3   2022-08-28T11:24:52   codecarbon  ba7db359-927f-4460-9921-356fbf8e0b95   \n4   2022-08-28T11:24:57   codecarbon  45a3c187-388b-457d-8c5e-5bd455eb2323   \n5   2022-08-28T11:25:02   codecarbon  35b951c8-c210-4a62-8f84-1bb53d3415f1   \n6   2022-08-28T11:29:01   codecarbon  cebf61fe-9831-4862-bd45-471a4979cb63   \n7   2022-08-28T11:29:06   codecarbon  68c4a4d1-b954-4b48-b944-99f3d3ccddad   \n8   2022-08-28T11:29:11   codecarbon  c3dffb6f-68bf-4d05-89b9-1a931afa1ef8   \n9   2022-08-28T11:41:37   codecarbon  61af641e-09ac-4abc-9426-a96fc9f6f687   \n10  2022-08-28T11:41:42   codecarbon  846d72e9-d8c9-4d4b-905d-c7c6e72e9e2a   \n11  2022-08-28T11:41:47   codecarbon  b62feec2-9e59-4727-9382-b01c688574c6   \n12  2022-08-28T11:42:35   codecarbon  c7e7a1f1-c784-4f5f-b41c-45ff7ae25ecf   \n13  2022-08-28T11:42:41   codecarbon  1125ee8e-875d-4ece-9e97-2fa47e818bd3   \n14  2022-08-28T11:42:46   codecarbon  3d364111-95f0-4068-a07f-d828c0d39a60   \n15  2022-08-28T11:44:29   codecarbon  3cb4a326-b869-427a-baff-3a63d18173fb   \n16  2022-08-28T11:44:36   codecarbon  bf767567-e4d0-491b-87f3-c75a9f99cc8e   \n17  2022-08-28T11:44:41   codecarbon  aab37371-14d9-4ac0-867e-88fc957d1a44   \n18  2022-08-28T11:45:33   codecarbon  c2010062-5449-4132-a935-11f29cbaade1   \n19  2022-08-28T11:45:38   codecarbon  0a7f9c32-89ee-4382-b9f2-8c89f6d56672   \n20  2022-08-28T11:45:43   codecarbon  ab501c45-d95d-4e36-8d4c-8934d9f8c232   \n21  2022-08-28T11:49:03   codecarbon  8842edfc-1b77-4fd0-a4e4-cb3259ce49eb   \n22  2022-08-28T11:49:09   codecarbon  387c1e8a-960f-4e40-8087-b5e740b80a5f   \n23  2022-08-28T11:49:14   codecarbon  42817325-265c-4344-be4c-ae090404c255   \n24  2022-08-28T11:53:42   codecarbon  d0cfa341-9a6f-4fa6-9592-d3fa4f44fe66   \n25  2022-08-28T11:53:48   codecarbon  eb8471c3-faec-4553-8264-0b207c4bc604   \n26  2022-08-28T11:53:53   codecarbon  aafc71fb-f3d5-4c03-90be-dc1bad564968   \n27  2022-08-28T12:00:00   codecarbon  f9ff008e-2ea0-41a2-9ae7-30d3a0205a43   \n28  2022-08-28T12:00:06   codecarbon  bff98f9a-4988-4953-9144-e8f28d1715a1   \n29  2022-08-28T12:00:11   codecarbon  e6fb4330-7d01-45d4-9683-95c9795027b4   \n30  2022-08-28T12:01:45   codecarbon  96534c6b-19ae-4126-88cc-439afed583bd   \n31  2022-08-28T12:01:51   codecarbon  f2740a32-3c5a-480e-a3e7-97da36d17659   \n32  2022-08-28T12:01:56   codecarbon  b0c50cdf-19e6-4ec6-acc3-af58ebaaab65   \n33  2022-08-28T12:04:54   codecarbon  d7e3d36b-0a56-4355-af3d-669e6b2fe247   \n34  2022-08-28T12:05:00   codecarbon  34b9a68c-d45d-4276-a4f9-da8297ffe2d4   \n35  2022-08-28T12:05:05   codecarbon  dde8dce5-cb0f-4928-a266-08fb84e4f43d   \n\n    duration     emissions  emissions_rate  cpu_power  gpu_power  ram_power  \\\n0   0.050660  8.637366e-08        0.001705       32.5        0.0   0.723647   \n1   0.290324  4.998027e-07        0.001722       32.5        0.0   0.723647   \n2   0.017249  2.831957e-08        0.001642       32.5        0.0   0.723647   \n3   0.037277  6.284057e-08        0.001686       32.5        0.0   0.723647   \n4   0.229514  3.947145e-07        0.001720       32.5        0.0   0.723647   \n5   0.023467  3.367600e-08        0.001435       32.5        0.0   0.723647   \n6   0.024377  4.013155e-08        0.001646       32.5        0.0   0.723647   \n7   0.266339  4.646352e-07        0.001745       32.5        0.0   0.723647   \n8   0.033513  5.688293e-08        0.001697       32.5        0.0   0.723647   \n9   0.083925  1.451450e-07        0.001729       32.5        0.0   0.723647   \n10  0.290669  5.070041e-07        0.001744       32.5        0.0   0.723647   \n11  0.047227  8.082123e-08        0.001711       32.5        0.0   0.723647   \n12  0.036947  4.167131e-08        0.001128       32.5        0.0   0.723647   \n13  0.366410  6.364463e-07        0.001737       32.5        0.0   0.723647   \n14  0.014534  1.874029e-08        0.001289       32.5        0.0   0.723647   \n15  0.522615  9.141958e-07        0.001749       32.5        0.0   0.723647   \n16  0.414382  7.227377e-07        0.001744       32.5        0.0   0.723647   \n17  0.065504  1.129398e-07        0.001724       32.5        0.0   0.723647   \n18  0.028575  4.767655e-08        0.001668       32.5        0.0   0.723647   \n19  0.232431  4.051042e-07        0.001743       32.5        0.0   0.723647   \n20  0.016590  1.880097e-08        0.001133       32.5        0.0   0.723647   \n21  0.073970  1.076943e-07        0.001456       32.5        0.0   0.723647   \n22  0.200466  3.438336e-07        0.001715       32.5        0.0   0.723647   \n23  0.021411  2.901601e-08        0.001355       32.5        0.0   0.723647   \n24  0.056459  9.703262e-08        0.001719       32.5        0.0   0.723647   \n25  0.365185  6.383909e-07        0.001748       32.5        0.0   0.723647   \n26  0.031991  5.416836e-08        0.001693       32.5        0.0   0.723647   \n27  0.054062  8.599679e-08        0.001591       32.5        0.0   0.723647   \n28  0.209669  3.653837e-07        0.001743       32.5        0.0   0.723647   \n29  0.017699  2.867521e-08        0.001620       32.5        0.0   0.723647   \n30  0.019958  3.207200e-08        0.001607       32.5        0.0   0.723647   \n31  0.315959  5.513986e-07        0.001745       32.5        0.0   0.723647   \n32  0.018921  3.088207e-08        0.001632       32.5        0.0   0.723647   \n33  0.027712  4.586739e-08        0.001655       32.5        0.0   0.723647   \n34  0.300569  5.246882e-07        0.001746       32.5        0.0   0.723647   \n35  0.030635  5.147846e-08        0.001680       32.5        0.0   0.723647   \n\n      cpu_energy  ...  python_version  cpu_count  \\\n0   4.459752e-07  ...          3.10.4          1   \n1   2.574127e-06  ...          3.10.4          1   \n2   1.460138e-07  ...          3.10.4          1   \n3   3.245998e-07  ...          3.10.4          1   \n4   2.032870e-06  ...          3.10.4          1   \n5   1.741068e-07  ...          3.10.4          1   \n6   2.084568e-07  ...          3.10.4          1   \n7   2.393552e-06  ...          3.10.4          1   \n8   2.930350e-07  ...          3.10.4          1   \n9   7.474949e-07  ...          3.10.4          1   \n10  2.613673e-06  ...          3.10.4          1   \n11  4.162916e-07  ...          3.10.4          1   \n12  2.153208e-07  ...          3.10.4          1   \n13  3.277395e-06  ...          3.10.4          1   \n14  9.732677e-08  ...          3.10.4          1   \n15  4.707421e-06  ...          3.10.4          1   \n16  3.723467e-06  ...          3.10.4          1   \n17  5.816489e-07  ...          3.10.4          1   \n18  2.469351e-07  ...          3.10.4          1   \n19  2.087231e-06  ...          3.10.4          1   \n20  9.743869e-08  ...          3.10.4          1   \n21  5.547677e-07  ...          3.10.4          1   \n22  1.771342e-06  ...          3.10.4          1   \n23  1.506393e-07  ...          3.10.4          1   \n24  4.997979e-07  ...          3.10.4          1   \n25  3.286984e-06  ...          3.10.4          1   \n26  2.790595e-07  ...          3.10.4          1   \n27  4.430006e-07  ...          3.10.4          1   \n28  1.882175e-06  ...          3.10.4          1   \n29  1.486936e-07  ...          3.10.4          1   \n30  1.663733e-07  ...          3.10.4          1   \n31  2.840343e-06  ...          3.10.4          1   \n32  1.600689e-07  ...          3.10.4          1   \n33  2.389045e-07  ...          3.10.4          1   \n34  2.702425e-06  ...          3.10.4          1   \n35  2.658783e-07  ...          3.10.4          1   \n\n                                   cpu_model gpu_count gpu_model longitude  \\\n0   Intel(R) Core(TM) i5-9400F CPU @ 2.90GHz       NaN       NaN   -3.8661   \n1   Intel(R) Core(TM) i5-9400F CPU @ 2.90GHz       NaN       NaN   -3.8661   \n2   Intel(R) Core(TM) i5-9400F CPU @ 2.90GHz       NaN       NaN   -3.8661   \n3   Intel(R) Core(TM) i5-9400F CPU @ 2.90GHz       NaN       NaN   -3.8661   \n4   Intel(R) Core(TM) i5-9400F CPU @ 2.90GHz       NaN       NaN   -3.8661   \n5   Intel(R) Core(TM) i5-9400F CPU @ 2.90GHz       NaN       NaN   -3.8661   \n6   Intel(R) Core(TM) i5-9400F CPU @ 2.90GHz       NaN       NaN   -3.8661   \n7   Intel(R) Core(TM) i5-9400F CPU @ 2.90GHz       NaN       NaN   -3.8661   \n8   Intel(R) Core(TM) i5-9400F CPU @ 2.90GHz       NaN       NaN   -3.8661   \n9   Intel(R) Core(TM) i5-9400F CPU @ 2.90GHz       NaN       NaN   -3.8661   \n10  Intel(R) Core(TM) i5-9400F CPU @ 2.90GHz       NaN       NaN   -3.8661   \n11  Intel(R) Core(TM) i5-9400F CPU @ 2.90GHz       NaN       NaN   -3.8661   \n12  Intel(R) Core(TM) i5-9400F CPU @ 2.90GHz       NaN       NaN   -3.8661   \n13  Intel(R) Core(TM) i5-9400F CPU @ 2.90GHz       NaN       NaN   -3.8661   \n14  Intel(R) Core(TM) i5-9400F CPU @ 2.90GHz       NaN       NaN   -3.8661   \n15  Intel(R) Core(TM) i5-9400F CPU @ 2.90GHz       NaN       NaN   -3.8661   \n16  Intel(R) Core(TM) i5-9400F CPU @ 2.90GHz       NaN       NaN   -3.8661   \n17  Intel(R) Core(TM) i5-9400F CPU @ 2.90GHz       NaN       NaN   -3.8661   \n18  Intel(R) Core(TM) i5-9400F CPU @ 2.90GHz       NaN       NaN   -3.8661   \n19  Intel(R) Core(TM) i5-9400F CPU @ 2.90GHz       NaN       NaN   -3.8661   \n20  Intel(R) Core(TM) i5-9400F CPU @ 2.90GHz       NaN       NaN   -3.8661   \n21  Intel(R) Core(TM) i5-9400F CPU @ 2.90GHz       NaN       NaN   -3.8661   \n22  Intel(R) Core(TM) i5-9400F CPU @ 2.90GHz       NaN       NaN   -3.8661   \n23  Intel(R) Core(TM) i5-9400F CPU @ 2.90GHz       NaN       NaN   -3.8661   \n24  Intel(R) Core(TM) i5-9400F CPU @ 2.90GHz       NaN       NaN   -3.8661   \n25  Intel(R) Core(TM) i5-9400F CPU @ 2.90GHz       NaN       NaN   -3.8661   \n26  Intel(R) Core(TM) i5-9400F CPU @ 2.90GHz       NaN       NaN   -3.8661   \n27  Intel(R) Core(TM) i5-9400F CPU @ 2.90GHz       NaN       NaN   -3.8661   \n28  Intel(R) Core(TM) i5-9400F CPU @ 2.90GHz       NaN       NaN   -3.8661   \n29  Intel(R) Core(TM) i5-9400F CPU @ 2.90GHz       NaN       NaN   -3.8661   \n30  Intel(R) Core(TM) i5-9400F CPU @ 2.90GHz       NaN       NaN   -3.8661   \n31  Intel(R) Core(TM) i5-9400F CPU @ 2.90GHz       NaN       NaN   -3.8661   \n32  Intel(R) Core(TM) i5-9400F CPU @ 2.90GHz       NaN       NaN   -3.8661   \n33  Intel(R) Core(TM) i5-9400F CPU @ 2.90GHz       NaN       NaN   -3.8661   \n34  Intel(R) Core(TM) i5-9400F CPU @ 2.90GHz       NaN       NaN   -3.8661   \n35  Intel(R) Core(TM) i5-9400F CPU @ 2.90GHz       NaN       NaN   -3.8661   \n\n    latitude  ram_total_size tracking_mode on_cloud  \n0    40.3192        1.929726       machine        N  \n1    40.3192        1.929726       machine        N  \n2    40.3192        1.929726       machine        N  \n3    40.3192        1.929726       machine        N  \n4    40.3192        1.929726       machine        N  \n5    40.3192        1.929726       machine        N  \n6    40.3192        1.929726       machine        N  \n7    40.3192        1.929726       machine        N  \n8    40.3192        1.929726       machine        N  \n9    40.3192        1.929726       machine        N  \n10   40.3192        1.929726       machine        N  \n11   40.3192        1.929726       machine        N  \n12   40.3192        1.929726       machine        N  \n13   40.3192        1.929726       machine        N  \n14   40.3192        1.929726       machine        N  \n15   40.3192        1.929726       machine        N  \n16   40.3192        1.929726       machine        N  \n17   40.3192        1.929726       machine        N  \n18   40.3192        1.929726       machine        N  \n19   40.3192        1.929726       machine        N  \n20   40.3192        1.929726       machine        N  \n21   40.3192        1.929726       machine        N  \n22   40.3192        1.929726       machine        N  \n23   40.3192        1.929726       machine        N  \n24   40.3192        1.929726       machine        N  \n25   40.3192        1.929726       machine        N  \n26   40.3192        1.929726       machine        N  \n27   40.3192        1.929726       machine        N  \n28   40.3192        1.929726       machine        N  \n29   40.3192        1.929726       machine        N  \n30   40.3192        1.929726       machine        N  \n31   40.3192        1.929726       machine        N  \n32   40.3192        1.929726       machine        N  \n33   40.3192        1.929726       machine        N  \n34   40.3192        1.929726       machine        N  \n35   40.3192        1.929726       machine        N  \n\n[36 rows x 29 columns]",
      "text/html": "<div>\n<style scoped>\n    .dataframe tbody tr th:only-of-type {\n        vertical-align: middle;\n    }\n\n    .dataframe tbody tr th {\n        vertical-align: top;\n    }\n\n    .dataframe thead th {\n        text-align: right;\n    }\n</style>\n<table border=\"1\" class=\"dataframe\">\n  <thead>\n    <tr style=\"text-align: right;\">\n      <th></th>\n      <th>timestamp</th>\n      <th>project_name</th>\n      <th>run_id</th>\n      <th>duration</th>\n      <th>emissions</th>\n      <th>emissions_rate</th>\n      <th>cpu_power</th>\n      <th>gpu_power</th>\n      <th>ram_power</th>\n      <th>cpu_energy</th>\n      <th>...</th>\n      <th>python_version</th>\n      <th>cpu_count</th>\n      <th>cpu_model</th>\n      <th>gpu_count</th>\n      <th>gpu_model</th>\n      <th>longitude</th>\n      <th>latitude</th>\n      <th>ram_total_size</th>\n      <th>tracking_mode</th>\n      <th>on_cloud</th>\n    </tr>\n  </thead>\n  <tbody>\n    <tr>\n      <th>0</th>\n      <td>2022-08-28T11:22:25</td>\n      <td>codecarbon</td>\n      <td>6c51acf7-babd-40dd-9c55-f5783ba513d5</td>\n      <td>0.050660</td>\n      <td>8.637366e-08</td>\n      <td>0.001705</td>\n      <td>32.5</td>\n      <td>0.0</td>\n      <td>0.723647</td>\n      <td>4.459752e-07</td>\n      <td>...</td>\n      <td>3.10.4</td>\n      <td>1</td>\n      <td>Intel(R) Core(TM) i5-9400F CPU @ 2.90GHz</td>\n      <td>NaN</td>\n      <td>NaN</td>\n      <td>-3.8661</td>\n      <td>40.3192</td>\n      <td>1.929726</td>\n      <td>machine</td>\n      <td>N</td>\n    </tr>\n    <tr>\n      <th>1</th>\n      <td>2022-08-28T11:22:30</td>\n      <td>codecarbon</td>\n      <td>454248c0-e227-44c6-b057-06ca16acc51b</td>\n      <td>0.290324</td>\n      <td>4.998027e-07</td>\n      <td>0.001722</td>\n      <td>32.5</td>\n      <td>0.0</td>\n      <td>0.723647</td>\n      <td>2.574127e-06</td>\n      <td>...</td>\n      <td>3.10.4</td>\n      <td>1</td>\n      <td>Intel(R) Core(TM) i5-9400F CPU @ 2.90GHz</td>\n      <td>NaN</td>\n      <td>NaN</td>\n      <td>-3.8661</td>\n      <td>40.3192</td>\n      <td>1.929726</td>\n      <td>machine</td>\n      <td>N</td>\n    </tr>\n    <tr>\n      <th>2</th>\n      <td>2022-08-28T11:22:35</td>\n      <td>codecarbon</td>\n      <td>a055224c-422b-40b8-aef6-ec355f8a68f5</td>\n      <td>0.017249</td>\n      <td>2.831957e-08</td>\n      <td>0.001642</td>\n      <td>32.5</td>\n      <td>0.0</td>\n      <td>0.723647</td>\n      <td>1.460138e-07</td>\n      <td>...</td>\n      <td>3.10.4</td>\n      <td>1</td>\n      <td>Intel(R) Core(TM) i5-9400F CPU @ 2.90GHz</td>\n      <td>NaN</td>\n      <td>NaN</td>\n      <td>-3.8661</td>\n      <td>40.3192</td>\n      <td>1.929726</td>\n      <td>machine</td>\n      <td>N</td>\n    </tr>\n    <tr>\n      <th>3</th>\n      <td>2022-08-28T11:24:52</td>\n      <td>codecarbon</td>\n      <td>ba7db359-927f-4460-9921-356fbf8e0b95</td>\n      <td>0.037277</td>\n      <td>6.284057e-08</td>\n      <td>0.001686</td>\n      <td>32.5</td>\n      <td>0.0</td>\n      <td>0.723647</td>\n      <td>3.245998e-07</td>\n      <td>...</td>\n      <td>3.10.4</td>\n      <td>1</td>\n      <td>Intel(R) Core(TM) i5-9400F CPU @ 2.90GHz</td>\n      <td>NaN</td>\n      <td>NaN</td>\n      <td>-3.8661</td>\n      <td>40.3192</td>\n      <td>1.929726</td>\n      <td>machine</td>\n      <td>N</td>\n    </tr>\n    <tr>\n      <th>4</th>\n      <td>2022-08-28T11:24:57</td>\n      <td>codecarbon</td>\n      <td>45a3c187-388b-457d-8c5e-5bd455eb2323</td>\n      <td>0.229514</td>\n      <td>3.947145e-07</td>\n      <td>0.001720</td>\n      <td>32.5</td>\n      <td>0.0</td>\n      <td>0.723647</td>\n      <td>2.032870e-06</td>\n      <td>...</td>\n      <td>3.10.4</td>\n      <td>1</td>\n      <td>Intel(R) Core(TM) i5-9400F CPU @ 2.90GHz</td>\n      <td>NaN</td>\n      <td>NaN</td>\n      <td>-3.8661</td>\n      <td>40.3192</td>\n      <td>1.929726</td>\n      <td>machine</td>\n      <td>N</td>\n    </tr>\n    <tr>\n      <th>5</th>\n      <td>2022-08-28T11:25:02</td>\n      <td>codecarbon</td>\n      <td>35b951c8-c210-4a62-8f84-1bb53d3415f1</td>\n      <td>0.023467</td>\n      <td>3.367600e-08</td>\n      <td>0.001435</td>\n      <td>32.5</td>\n      <td>0.0</td>\n      <td>0.723647</td>\n      <td>1.741068e-07</td>\n      <td>...</td>\n      <td>3.10.4</td>\n      <td>1</td>\n      <td>Intel(R) Core(TM) i5-9400F CPU @ 2.90GHz</td>\n      <td>NaN</td>\n      <td>NaN</td>\n      <td>-3.8661</td>\n      <td>40.3192</td>\n      <td>1.929726</td>\n      <td>machine</td>\n      <td>N</td>\n    </tr>\n    <tr>\n      <th>6</th>\n      <td>2022-08-28T11:29:01</td>\n      <td>codecarbon</td>\n      <td>cebf61fe-9831-4862-bd45-471a4979cb63</td>\n      <td>0.024377</td>\n      <td>4.013155e-08</td>\n      <td>0.001646</td>\n      <td>32.5</td>\n      <td>0.0</td>\n      <td>0.723647</td>\n      <td>2.084568e-07</td>\n      <td>...</td>\n      <td>3.10.4</td>\n      <td>1</td>\n      <td>Intel(R) Core(TM) i5-9400F CPU @ 2.90GHz</td>\n      <td>NaN</td>\n      <td>NaN</td>\n      <td>-3.8661</td>\n      <td>40.3192</td>\n      <td>1.929726</td>\n      <td>machine</td>\n      <td>N</td>\n    </tr>\n    <tr>\n      <th>7</th>\n      <td>2022-08-28T11:29:06</td>\n      <td>codecarbon</td>\n      <td>68c4a4d1-b954-4b48-b944-99f3d3ccddad</td>\n      <td>0.266339</td>\n      <td>4.646352e-07</td>\n      <td>0.001745</td>\n      <td>32.5</td>\n      <td>0.0</td>\n      <td>0.723647</td>\n      <td>2.393552e-06</td>\n      <td>...</td>\n      <td>3.10.4</td>\n      <td>1</td>\n      <td>Intel(R) Core(TM) i5-9400F CPU @ 2.90GHz</td>\n      <td>NaN</td>\n      <td>NaN</td>\n      <td>-3.8661</td>\n      <td>40.3192</td>\n      <td>1.929726</td>\n      <td>machine</td>\n      <td>N</td>\n    </tr>\n    <tr>\n      <th>8</th>\n      <td>2022-08-28T11:29:11</td>\n      <td>codecarbon</td>\n      <td>c3dffb6f-68bf-4d05-89b9-1a931afa1ef8</td>\n      <td>0.033513</td>\n      <td>5.688293e-08</td>\n      <td>0.001697</td>\n      <td>32.5</td>\n      <td>0.0</td>\n      <td>0.723647</td>\n      <td>2.930350e-07</td>\n      <td>...</td>\n      <td>3.10.4</td>\n      <td>1</td>\n      <td>Intel(R) Core(TM) i5-9400F CPU @ 2.90GHz</td>\n      <td>NaN</td>\n      <td>NaN</td>\n      <td>-3.8661</td>\n      <td>40.3192</td>\n      <td>1.929726</td>\n      <td>machine</td>\n      <td>N</td>\n    </tr>\n    <tr>\n      <th>9</th>\n      <td>2022-08-28T11:41:37</td>\n      <td>codecarbon</td>\n      <td>61af641e-09ac-4abc-9426-a96fc9f6f687</td>\n      <td>0.083925</td>\n      <td>1.451450e-07</td>\n      <td>0.001729</td>\n      <td>32.5</td>\n      <td>0.0</td>\n      <td>0.723647</td>\n      <td>7.474949e-07</td>\n      <td>...</td>\n      <td>3.10.4</td>\n      <td>1</td>\n      <td>Intel(R) Core(TM) i5-9400F CPU @ 2.90GHz</td>\n      <td>NaN</td>\n      <td>NaN</td>\n      <td>-3.8661</td>\n      <td>40.3192</td>\n      <td>1.929726</td>\n      <td>machine</td>\n      <td>N</td>\n    </tr>\n    <tr>\n      <th>10</th>\n      <td>2022-08-28T11:41:42</td>\n      <td>codecarbon</td>\n      <td>846d72e9-d8c9-4d4b-905d-c7c6e72e9e2a</td>\n      <td>0.290669</td>\n      <td>5.070041e-07</td>\n      <td>0.001744</td>\n      <td>32.5</td>\n      <td>0.0</td>\n      <td>0.723647</td>\n      <td>2.613673e-06</td>\n      <td>...</td>\n      <td>3.10.4</td>\n      <td>1</td>\n      <td>Intel(R) Core(TM) i5-9400F CPU @ 2.90GHz</td>\n      <td>NaN</td>\n      <td>NaN</td>\n      <td>-3.8661</td>\n      <td>40.3192</td>\n      <td>1.929726</td>\n      <td>machine</td>\n      <td>N</td>\n    </tr>\n    <tr>\n      <th>11</th>\n      <td>2022-08-28T11:41:47</td>\n      <td>codecarbon</td>\n      <td>b62feec2-9e59-4727-9382-b01c688574c6</td>\n      <td>0.047227</td>\n      <td>8.082123e-08</td>\n      <td>0.001711</td>\n      <td>32.5</td>\n      <td>0.0</td>\n      <td>0.723647</td>\n      <td>4.162916e-07</td>\n      <td>...</td>\n      <td>3.10.4</td>\n      <td>1</td>\n      <td>Intel(R) Core(TM) i5-9400F CPU @ 2.90GHz</td>\n      <td>NaN</td>\n      <td>NaN</td>\n      <td>-3.8661</td>\n      <td>40.3192</td>\n      <td>1.929726</td>\n      <td>machine</td>\n      <td>N</td>\n    </tr>\n    <tr>\n      <th>12</th>\n      <td>2022-08-28T11:42:35</td>\n      <td>codecarbon</td>\n      <td>c7e7a1f1-c784-4f5f-b41c-45ff7ae25ecf</td>\n      <td>0.036947</td>\n      <td>4.167131e-08</td>\n      <td>0.001128</td>\n      <td>32.5</td>\n      <td>0.0</td>\n      <td>0.723647</td>\n      <td>2.153208e-07</td>\n      <td>...</td>\n      <td>3.10.4</td>\n      <td>1</td>\n      <td>Intel(R) Core(TM) i5-9400F CPU @ 2.90GHz</td>\n      <td>NaN</td>\n      <td>NaN</td>\n      <td>-3.8661</td>\n      <td>40.3192</td>\n      <td>1.929726</td>\n      <td>machine</td>\n      <td>N</td>\n    </tr>\n    <tr>\n      <th>13</th>\n      <td>2022-08-28T11:42:41</td>\n      <td>codecarbon</td>\n      <td>1125ee8e-875d-4ece-9e97-2fa47e818bd3</td>\n      <td>0.366410</td>\n      <td>6.364463e-07</td>\n      <td>0.001737</td>\n      <td>32.5</td>\n      <td>0.0</td>\n      <td>0.723647</td>\n      <td>3.277395e-06</td>\n      <td>...</td>\n      <td>3.10.4</td>\n      <td>1</td>\n      <td>Intel(R) Core(TM) i5-9400F CPU @ 2.90GHz</td>\n      <td>NaN</td>\n      <td>NaN</td>\n      <td>-3.8661</td>\n      <td>40.3192</td>\n      <td>1.929726</td>\n      <td>machine</td>\n      <td>N</td>\n    </tr>\n    <tr>\n      <th>14</th>\n      <td>2022-08-28T11:42:46</td>\n      <td>codecarbon</td>\n      <td>3d364111-95f0-4068-a07f-d828c0d39a60</td>\n      <td>0.014534</td>\n      <td>1.874029e-08</td>\n      <td>0.001289</td>\n      <td>32.5</td>\n      <td>0.0</td>\n      <td>0.723647</td>\n      <td>9.732677e-08</td>\n      <td>...</td>\n      <td>3.10.4</td>\n      <td>1</td>\n      <td>Intel(R) Core(TM) i5-9400F CPU @ 2.90GHz</td>\n      <td>NaN</td>\n      <td>NaN</td>\n      <td>-3.8661</td>\n      <td>40.3192</td>\n      <td>1.929726</td>\n      <td>machine</td>\n      <td>N</td>\n    </tr>\n    <tr>\n      <th>15</th>\n      <td>2022-08-28T11:44:29</td>\n      <td>codecarbon</td>\n      <td>3cb4a326-b869-427a-baff-3a63d18173fb</td>\n      <td>0.522615</td>\n      <td>9.141958e-07</td>\n      <td>0.001749</td>\n      <td>32.5</td>\n      <td>0.0</td>\n      <td>0.723647</td>\n      <td>4.707421e-06</td>\n      <td>...</td>\n      <td>3.10.4</td>\n      <td>1</td>\n      <td>Intel(R) Core(TM) i5-9400F CPU @ 2.90GHz</td>\n      <td>NaN</td>\n      <td>NaN</td>\n      <td>-3.8661</td>\n      <td>40.3192</td>\n      <td>1.929726</td>\n      <td>machine</td>\n      <td>N</td>\n    </tr>\n    <tr>\n      <th>16</th>\n      <td>2022-08-28T11:44:36</td>\n      <td>codecarbon</td>\n      <td>bf767567-e4d0-491b-87f3-c75a9f99cc8e</td>\n      <td>0.414382</td>\n      <td>7.227377e-07</td>\n      <td>0.001744</td>\n      <td>32.5</td>\n      <td>0.0</td>\n      <td>0.723647</td>\n      <td>3.723467e-06</td>\n      <td>...</td>\n      <td>3.10.4</td>\n      <td>1</td>\n      <td>Intel(R) Core(TM) i5-9400F CPU @ 2.90GHz</td>\n      <td>NaN</td>\n      <td>NaN</td>\n      <td>-3.8661</td>\n      <td>40.3192</td>\n      <td>1.929726</td>\n      <td>machine</td>\n      <td>N</td>\n    </tr>\n    <tr>\n      <th>17</th>\n      <td>2022-08-28T11:44:41</td>\n      <td>codecarbon</td>\n      <td>aab37371-14d9-4ac0-867e-88fc957d1a44</td>\n      <td>0.065504</td>\n      <td>1.129398e-07</td>\n      <td>0.001724</td>\n      <td>32.5</td>\n      <td>0.0</td>\n      <td>0.723647</td>\n      <td>5.816489e-07</td>\n      <td>...</td>\n      <td>3.10.4</td>\n      <td>1</td>\n      <td>Intel(R) Core(TM) i5-9400F CPU @ 2.90GHz</td>\n      <td>NaN</td>\n      <td>NaN</td>\n      <td>-3.8661</td>\n      <td>40.3192</td>\n      <td>1.929726</td>\n      <td>machine</td>\n      <td>N</td>\n    </tr>\n    <tr>\n      <th>18</th>\n      <td>2022-08-28T11:45:33</td>\n      <td>codecarbon</td>\n      <td>c2010062-5449-4132-a935-11f29cbaade1</td>\n      <td>0.028575</td>\n      <td>4.767655e-08</td>\n      <td>0.001668</td>\n      <td>32.5</td>\n      <td>0.0</td>\n      <td>0.723647</td>\n      <td>2.469351e-07</td>\n      <td>...</td>\n      <td>3.10.4</td>\n      <td>1</td>\n      <td>Intel(R) Core(TM) i5-9400F CPU @ 2.90GHz</td>\n      <td>NaN</td>\n      <td>NaN</td>\n      <td>-3.8661</td>\n      <td>40.3192</td>\n      <td>1.929726</td>\n      <td>machine</td>\n      <td>N</td>\n    </tr>\n    <tr>\n      <th>19</th>\n      <td>2022-08-28T11:45:38</td>\n      <td>codecarbon</td>\n      <td>0a7f9c32-89ee-4382-b9f2-8c89f6d56672</td>\n      <td>0.232431</td>\n      <td>4.051042e-07</td>\n      <td>0.001743</td>\n      <td>32.5</td>\n      <td>0.0</td>\n      <td>0.723647</td>\n      <td>2.087231e-06</td>\n      <td>...</td>\n      <td>3.10.4</td>\n      <td>1</td>\n      <td>Intel(R) Core(TM) i5-9400F CPU @ 2.90GHz</td>\n      <td>NaN</td>\n      <td>NaN</td>\n      <td>-3.8661</td>\n      <td>40.3192</td>\n      <td>1.929726</td>\n      <td>machine</td>\n      <td>N</td>\n    </tr>\n    <tr>\n      <th>20</th>\n      <td>2022-08-28T11:45:43</td>\n      <td>codecarbon</td>\n      <td>ab501c45-d95d-4e36-8d4c-8934d9f8c232</td>\n      <td>0.016590</td>\n      <td>1.880097e-08</td>\n      <td>0.001133</td>\n      <td>32.5</td>\n      <td>0.0</td>\n      <td>0.723647</td>\n      <td>9.743869e-08</td>\n      <td>...</td>\n      <td>3.10.4</td>\n      <td>1</td>\n      <td>Intel(R) Core(TM) i5-9400F CPU @ 2.90GHz</td>\n      <td>NaN</td>\n      <td>NaN</td>\n      <td>-3.8661</td>\n      <td>40.3192</td>\n      <td>1.929726</td>\n      <td>machine</td>\n      <td>N</td>\n    </tr>\n    <tr>\n      <th>21</th>\n      <td>2022-08-28T11:49:03</td>\n      <td>codecarbon</td>\n      <td>8842edfc-1b77-4fd0-a4e4-cb3259ce49eb</td>\n      <td>0.073970</td>\n      <td>1.076943e-07</td>\n      <td>0.001456</td>\n      <td>32.5</td>\n      <td>0.0</td>\n      <td>0.723647</td>\n      <td>5.547677e-07</td>\n      <td>...</td>\n      <td>3.10.4</td>\n      <td>1</td>\n      <td>Intel(R) Core(TM) i5-9400F CPU @ 2.90GHz</td>\n      <td>NaN</td>\n      <td>NaN</td>\n      <td>-3.8661</td>\n      <td>40.3192</td>\n      <td>1.929726</td>\n      <td>machine</td>\n      <td>N</td>\n    </tr>\n    <tr>\n      <th>22</th>\n      <td>2022-08-28T11:49:09</td>\n      <td>codecarbon</td>\n      <td>387c1e8a-960f-4e40-8087-b5e740b80a5f</td>\n      <td>0.200466</td>\n      <td>3.438336e-07</td>\n      <td>0.001715</td>\n      <td>32.5</td>\n      <td>0.0</td>\n      <td>0.723647</td>\n      <td>1.771342e-06</td>\n      <td>...</td>\n      <td>3.10.4</td>\n      <td>1</td>\n      <td>Intel(R) Core(TM) i5-9400F CPU @ 2.90GHz</td>\n      <td>NaN</td>\n      <td>NaN</td>\n      <td>-3.8661</td>\n      <td>40.3192</td>\n      <td>1.929726</td>\n      <td>machine</td>\n      <td>N</td>\n    </tr>\n    <tr>\n      <th>23</th>\n      <td>2022-08-28T11:49:14</td>\n      <td>codecarbon</td>\n      <td>42817325-265c-4344-be4c-ae090404c255</td>\n      <td>0.021411</td>\n      <td>2.901601e-08</td>\n      <td>0.001355</td>\n      <td>32.5</td>\n      <td>0.0</td>\n      <td>0.723647</td>\n      <td>1.506393e-07</td>\n      <td>...</td>\n      <td>3.10.4</td>\n      <td>1</td>\n      <td>Intel(R) Core(TM) i5-9400F CPU @ 2.90GHz</td>\n      <td>NaN</td>\n      <td>NaN</td>\n      <td>-3.8661</td>\n      <td>40.3192</td>\n      <td>1.929726</td>\n      <td>machine</td>\n      <td>N</td>\n    </tr>\n    <tr>\n      <th>24</th>\n      <td>2022-08-28T11:53:42</td>\n      <td>codecarbon</td>\n      <td>d0cfa341-9a6f-4fa6-9592-d3fa4f44fe66</td>\n      <td>0.056459</td>\n      <td>9.703262e-08</td>\n      <td>0.001719</td>\n      <td>32.5</td>\n      <td>0.0</td>\n      <td>0.723647</td>\n      <td>4.997979e-07</td>\n      <td>...</td>\n      <td>3.10.4</td>\n      <td>1</td>\n      <td>Intel(R) Core(TM) i5-9400F CPU @ 2.90GHz</td>\n      <td>NaN</td>\n      <td>NaN</td>\n      <td>-3.8661</td>\n      <td>40.3192</td>\n      <td>1.929726</td>\n      <td>machine</td>\n      <td>N</td>\n    </tr>\n    <tr>\n      <th>25</th>\n      <td>2022-08-28T11:53:48</td>\n      <td>codecarbon</td>\n      <td>eb8471c3-faec-4553-8264-0b207c4bc604</td>\n      <td>0.365185</td>\n      <td>6.383909e-07</td>\n      <td>0.001748</td>\n      <td>32.5</td>\n      <td>0.0</td>\n      <td>0.723647</td>\n      <td>3.286984e-06</td>\n      <td>...</td>\n      <td>3.10.4</td>\n      <td>1</td>\n      <td>Intel(R) Core(TM) i5-9400F CPU @ 2.90GHz</td>\n      <td>NaN</td>\n      <td>NaN</td>\n      <td>-3.8661</td>\n      <td>40.3192</td>\n      <td>1.929726</td>\n      <td>machine</td>\n      <td>N</td>\n    </tr>\n    <tr>\n      <th>26</th>\n      <td>2022-08-28T11:53:53</td>\n      <td>codecarbon</td>\n      <td>aafc71fb-f3d5-4c03-90be-dc1bad564968</td>\n      <td>0.031991</td>\n      <td>5.416836e-08</td>\n      <td>0.001693</td>\n      <td>32.5</td>\n      <td>0.0</td>\n      <td>0.723647</td>\n      <td>2.790595e-07</td>\n      <td>...</td>\n      <td>3.10.4</td>\n      <td>1</td>\n      <td>Intel(R) Core(TM) i5-9400F CPU @ 2.90GHz</td>\n      <td>NaN</td>\n      <td>NaN</td>\n      <td>-3.8661</td>\n      <td>40.3192</td>\n      <td>1.929726</td>\n      <td>machine</td>\n      <td>N</td>\n    </tr>\n    <tr>\n      <th>27</th>\n      <td>2022-08-28T12:00:00</td>\n      <td>codecarbon</td>\n      <td>f9ff008e-2ea0-41a2-9ae7-30d3a0205a43</td>\n      <td>0.054062</td>\n      <td>8.599679e-08</td>\n      <td>0.001591</td>\n      <td>32.5</td>\n      <td>0.0</td>\n      <td>0.723647</td>\n      <td>4.430006e-07</td>\n      <td>...</td>\n      <td>3.10.4</td>\n      <td>1</td>\n      <td>Intel(R) Core(TM) i5-9400F CPU @ 2.90GHz</td>\n      <td>NaN</td>\n      <td>NaN</td>\n      <td>-3.8661</td>\n      <td>40.3192</td>\n      <td>1.929726</td>\n      <td>machine</td>\n      <td>N</td>\n    </tr>\n    <tr>\n      <th>28</th>\n      <td>2022-08-28T12:00:06</td>\n      <td>codecarbon</td>\n      <td>bff98f9a-4988-4953-9144-e8f28d1715a1</td>\n      <td>0.209669</td>\n      <td>3.653837e-07</td>\n      <td>0.001743</td>\n      <td>32.5</td>\n      <td>0.0</td>\n      <td>0.723647</td>\n      <td>1.882175e-06</td>\n      <td>...</td>\n      <td>3.10.4</td>\n      <td>1</td>\n      <td>Intel(R) Core(TM) i5-9400F CPU @ 2.90GHz</td>\n      <td>NaN</td>\n      <td>NaN</td>\n      <td>-3.8661</td>\n      <td>40.3192</td>\n      <td>1.929726</td>\n      <td>machine</td>\n      <td>N</td>\n    </tr>\n    <tr>\n      <th>29</th>\n      <td>2022-08-28T12:00:11</td>\n      <td>codecarbon</td>\n      <td>e6fb4330-7d01-45d4-9683-95c9795027b4</td>\n      <td>0.017699</td>\n      <td>2.867521e-08</td>\n      <td>0.001620</td>\n      <td>32.5</td>\n      <td>0.0</td>\n      <td>0.723647</td>\n      <td>1.486936e-07</td>\n      <td>...</td>\n      <td>3.10.4</td>\n      <td>1</td>\n      <td>Intel(R) Core(TM) i5-9400F CPU @ 2.90GHz</td>\n      <td>NaN</td>\n      <td>NaN</td>\n      <td>-3.8661</td>\n      <td>40.3192</td>\n      <td>1.929726</td>\n      <td>machine</td>\n      <td>N</td>\n    </tr>\n    <tr>\n      <th>30</th>\n      <td>2022-08-28T12:01:45</td>\n      <td>codecarbon</td>\n      <td>96534c6b-19ae-4126-88cc-439afed583bd</td>\n      <td>0.019958</td>\n      <td>3.207200e-08</td>\n      <td>0.001607</td>\n      <td>32.5</td>\n      <td>0.0</td>\n      <td>0.723647</td>\n      <td>1.663733e-07</td>\n      <td>...</td>\n      <td>3.10.4</td>\n      <td>1</td>\n      <td>Intel(R) Core(TM) i5-9400F CPU @ 2.90GHz</td>\n      <td>NaN</td>\n      <td>NaN</td>\n      <td>-3.8661</td>\n      <td>40.3192</td>\n      <td>1.929726</td>\n      <td>machine</td>\n      <td>N</td>\n    </tr>\n    <tr>\n      <th>31</th>\n      <td>2022-08-28T12:01:51</td>\n      <td>codecarbon</td>\n      <td>f2740a32-3c5a-480e-a3e7-97da36d17659</td>\n      <td>0.315959</td>\n      <td>5.513986e-07</td>\n      <td>0.001745</td>\n      <td>32.5</td>\n      <td>0.0</td>\n      <td>0.723647</td>\n      <td>2.840343e-06</td>\n      <td>...</td>\n      <td>3.10.4</td>\n      <td>1</td>\n      <td>Intel(R) Core(TM) i5-9400F CPU @ 2.90GHz</td>\n      <td>NaN</td>\n      <td>NaN</td>\n      <td>-3.8661</td>\n      <td>40.3192</td>\n      <td>1.929726</td>\n      <td>machine</td>\n      <td>N</td>\n    </tr>\n    <tr>\n      <th>32</th>\n      <td>2022-08-28T12:01:56</td>\n      <td>codecarbon</td>\n      <td>b0c50cdf-19e6-4ec6-acc3-af58ebaaab65</td>\n      <td>0.018921</td>\n      <td>3.088207e-08</td>\n      <td>0.001632</td>\n      <td>32.5</td>\n      <td>0.0</td>\n      <td>0.723647</td>\n      <td>1.600689e-07</td>\n      <td>...</td>\n      <td>3.10.4</td>\n      <td>1</td>\n      <td>Intel(R) Core(TM) i5-9400F CPU @ 2.90GHz</td>\n      <td>NaN</td>\n      <td>NaN</td>\n      <td>-3.8661</td>\n      <td>40.3192</td>\n      <td>1.929726</td>\n      <td>machine</td>\n      <td>N</td>\n    </tr>\n    <tr>\n      <th>33</th>\n      <td>2022-08-28T12:04:54</td>\n      <td>codecarbon</td>\n      <td>d7e3d36b-0a56-4355-af3d-669e6b2fe247</td>\n      <td>0.027712</td>\n      <td>4.586739e-08</td>\n      <td>0.001655</td>\n      <td>32.5</td>\n      <td>0.0</td>\n      <td>0.723647</td>\n      <td>2.389045e-07</td>\n      <td>...</td>\n      <td>3.10.4</td>\n      <td>1</td>\n      <td>Intel(R) Core(TM) i5-9400F CPU @ 2.90GHz</td>\n      <td>NaN</td>\n      <td>NaN</td>\n      <td>-3.8661</td>\n      <td>40.3192</td>\n      <td>1.929726</td>\n      <td>machine</td>\n      <td>N</td>\n    </tr>\n    <tr>\n      <th>34</th>\n      <td>2022-08-28T12:05:00</td>\n      <td>codecarbon</td>\n      <td>34b9a68c-d45d-4276-a4f9-da8297ffe2d4</td>\n      <td>0.300569</td>\n      <td>5.246882e-07</td>\n      <td>0.001746</td>\n      <td>32.5</td>\n      <td>0.0</td>\n      <td>0.723647</td>\n      <td>2.702425e-06</td>\n      <td>...</td>\n      <td>3.10.4</td>\n      <td>1</td>\n      <td>Intel(R) Core(TM) i5-9400F CPU @ 2.90GHz</td>\n      <td>NaN</td>\n      <td>NaN</td>\n      <td>-3.8661</td>\n      <td>40.3192</td>\n      <td>1.929726</td>\n      <td>machine</td>\n      <td>N</td>\n    </tr>\n    <tr>\n      <th>35</th>\n      <td>2022-08-28T12:05:05</td>\n      <td>codecarbon</td>\n      <td>dde8dce5-cb0f-4928-a266-08fb84e4f43d</td>\n      <td>0.030635</td>\n      <td>5.147846e-08</td>\n      <td>0.001680</td>\n      <td>32.5</td>\n      <td>0.0</td>\n      <td>0.723647</td>\n      <td>2.658783e-07</td>\n      <td>...</td>\n      <td>3.10.4</td>\n      <td>1</td>\n      <td>Intel(R) Core(TM) i5-9400F CPU @ 2.90GHz</td>\n      <td>NaN</td>\n      <td>NaN</td>\n      <td>-3.8661</td>\n      <td>40.3192</td>\n      <td>1.929726</td>\n      <td>machine</td>\n      <td>N</td>\n    </tr>\n  </tbody>\n</table>\n<p>36 rows × 29 columns</p>\n</div>"
     },
     "execution_count": 40,
     "metadata": {},
     "output_type": "execute_result"
    }
   ],
   "source": [
    "# Show results\n",
    "codecarbon_emissions = pd.read_csv(\"emissions.csv\",sep=\",\")\n",
    "codecarbon_emissions"
   ],
   "metadata": {
    "collapsed": false,
    "pycharm": {
     "name": "#%%\n"
    }
   }
  },
  {
   "cell_type": "markdown",
   "source": [
    "### Eco2ai:"
   ],
   "metadata": {
    "collapsed": false,
    "pycharm": {
     "name": "#%% md\n"
    }
   }
  },
  {
   "cell_type": "code",
   "execution_count": 41,
   "outputs": [
    {
     "name": "stderr",
     "output_type": "stream",
     "text": [
      "/home/misanchz/miniconda3/envs/TFG-Project/lib/python3.10/site-packages/eco2ai/emission_track.py:211: UserWarning: \n",
      "    If you use a VPN, you may have problems with identifying your country by IP.\n",
      "    It is recommended to disable VPN or\n",
      "    manually install the ISO-Alpha-2 code of your country during initialization of the Tracker() class.\n",
      "    You can find the ISO-Alpha-2 code of your country here: https://www.iban.com/country-codes\n",
      "    \n",
      "  warnings.warn(\n",
      "/home/misanchz/miniconda3/envs/TFG-Project/lib/python3.10/site-packages/eco2ai/tools/tools_gpu.py:35: NoGPUWarning: \n",
      "\n",
      "There is no any available GPU devices or your gpu is not supported by Nvidia library!\n",
      "The thacker will consider CPU usage only\n",
      "\n",
      "  warnings.warn(message=\"\\n\\nThere is no any available GPU devices or your gpu is not supported by Nvidia library!\\nThe thacker will consider CPU usage only\\n\",\n"
     ]
    }
   ],
   "source": [
    "# Logistic Regression\n",
    "training.train_LR_eco2ai(df,0.25)"
   ],
   "metadata": {
    "collapsed": false,
    "pycharm": {
     "name": "#%%\n"
    }
   }
  },
  {
   "cell_type": "code",
   "execution_count": 42,
   "outputs": [
    {
     "name": "stderr",
     "output_type": "stream",
     "text": [
      "/home/misanchz/miniconda3/envs/TFG-Project/lib/python3.10/site-packages/eco2ai/emission_track.py:211: UserWarning: \n",
      "    If you use a VPN, you may have problems with identifying your country by IP.\n",
      "    It is recommended to disable VPN or\n",
      "    manually install the ISO-Alpha-2 code of your country during initialization of the Tracker() class.\n",
      "    You can find the ISO-Alpha-2 code of your country here: https://www.iban.com/country-codes\n",
      "    \n",
      "  warnings.warn(\n",
      "/home/misanchz/miniconda3/envs/TFG-Project/lib/python3.10/site-packages/eco2ai/tools/tools_gpu.py:35: NoGPUWarning: \n",
      "\n",
      "There is no any available GPU devices or your gpu is not supported by Nvidia library!\n",
      "The thacker will consider CPU usage only\n",
      "\n",
      "  warnings.warn(message=\"\\n\\nThere is no any available GPU devices or your gpu is not supported by Nvidia library!\\nThe thacker will consider CPU usage only\\n\",\n"
     ]
    }
   ],
   "source": [
    "# Random Forest\n",
    "training.train_RF_eco2ai(df,0.25)"
   ],
   "metadata": {
    "collapsed": false,
    "pycharm": {
     "name": "#%%\n"
    }
   }
  },
  {
   "cell_type": "code",
   "execution_count": 43,
   "outputs": [
    {
     "name": "stderr",
     "output_type": "stream",
     "text": [
      "/home/misanchz/miniconda3/envs/TFG-Project/lib/python3.10/site-packages/eco2ai/emission_track.py:211: UserWarning: \n",
      "    If you use a VPN, you may have problems with identifying your country by IP.\n",
      "    It is recommended to disable VPN or\n",
      "    manually install the ISO-Alpha-2 code of your country during initialization of the Tracker() class.\n",
      "    You can find the ISO-Alpha-2 code of your country here: https://www.iban.com/country-codes\n",
      "    \n",
      "  warnings.warn(\n",
      "/home/misanchz/miniconda3/envs/TFG-Project/lib/python3.10/site-packages/eco2ai/tools/tools_gpu.py:35: NoGPUWarning: \n",
      "\n",
      "There is no any available GPU devices or your gpu is not supported by Nvidia library!\n",
      "The thacker will consider CPU usage only\n",
      "\n",
      "  warnings.warn(message=\"\\n\\nThere is no any available GPU devices or your gpu is not supported by Nvidia library!\\nThe thacker will consider CPU usage only\\n\",\n",
      "/home/misanchz/miniconda3/envs/TFG-Project/lib/python3.10/site-packages/sklearn/svm/_base.py:1225: ConvergenceWarning: Liblinear failed to converge, increase the number of iterations.\n",
      "  warnings.warn(\n"
     ]
    }
   ],
   "source": [
    "# Linear SVC (Support Vector Machines)\n",
    "training.train_SVC_eco2ai(df,0.25)"
   ],
   "metadata": {
    "collapsed": false,
    "pycharm": {
     "name": "#%%\n"
    }
   }
  },
  {
   "cell_type": "code",
   "execution_count": 44,
   "outputs": [
    {
     "data": {
      "text/plain": "   project_name experiment_description(model type etc.)           start_time  \\\n0   TFG_Project       training LogisticRegression model  2022-08-28 11:29:13   \n1   TFG_Project             training RandomForest model  2022-08-28 11:29:15   \n2   TFG_Project       training LogisticRegression model  2022-08-28 11:29:17   \n3   TFG_Project       training LogisticRegression model  2022-08-28 11:41:49   \n4   TFG_Project             training RandomForest model  2022-08-28 11:41:51   \n5   TFG_Project       training LogisticRegression model  2022-08-28 11:41:53   \n6   TFG_Project       training LogisticRegression model  2022-08-28 11:42:48   \n7   TFG_Project             training RandomForest model  2022-08-28 11:42:50   \n8   TFG_Project       training LogisticRegression model  2022-08-28 11:42:52   \n9   TFG_Project       training LogisticRegression model  2022-08-28 11:44:43   \n10  TFG_Project             training RandomForest model  2022-08-28 11:44:44   \n11  TFG_Project       training LogisticRegression model  2022-08-28 11:44:47   \n12  TFG_Project       training LogisticRegression model  2022-08-28 11:45:45   \n13  TFG_Project             training RandomForest model  2022-08-28 11:45:47   \n14  TFG_Project       training LogisticRegression model  2022-08-28 11:45:49   \n15  TFG_Project       training LogisticRegression model  2022-08-28 11:49:16   \n16  TFG_Project             training RandomForest model  2022-08-28 11:49:18   \n17  TFG_Project       training LogisticRegression model  2022-08-28 11:49:20   \n18  TFG_Project       training LogisticRegression model  2022-08-28 11:53:55   \n19  TFG_Project             training RandomForest model  2022-08-28 11:53:57   \n20  TFG_Project       training LogisticRegression model  2022-08-28 11:53:59   \n21  TFG_Project       training LogisticRegression model  2022-08-28 12:00:13   \n22  TFG_Project             training RandomForest model  2022-08-28 12:00:15   \n23  TFG_Project       training LogisticRegression model  2022-08-28 12:00:17   \n24  TFG_Project       training LogisticRegression model  2022-08-28 12:01:58   \n25  TFG_Project             training RandomForest model  2022-08-28 12:01:59   \n26  TFG_Project       training LogisticRegression model  2022-08-28 12:02:01   \n27  TFG_Project       training LogisticRegression model  2022-08-28 12:05:07   \n28  TFG_Project             training RandomForest model  2022-08-28 12:05:09   \n29  TFG_Project       training LogisticRegression model  2022-08-28 12:05:11   \n\n    duration(s)  power_consumption(kWTh)  CO2_emissions(kg)  \\\n0      0.392860             4.948666e-09       9.873331e-10   \n1      0.457908             5.902811e-09       1.177699e-09   \n2      0.198576             2.420500e-09       4.829261e-10   \n3      0.416710             5.583236e-09       1.113939e-09   \n4      0.575514             8.072550e-09       1.610595e-09   \n5      0.221485             2.930131e-09       5.846051e-10   \n6      0.236932             3.138547e-09       6.261873e-10   \n7      0.578525             8.438694e-09       1.683646e-09   \n8      0.232657             3.025994e-09       6.037313e-10   \n9      0.325646             2.455719e-09       4.899528e-10   \n10     0.516881             4.142830e-09       8.265567e-10   \n11     0.213440             1.572863e-09       3.138098e-10   \n12     0.261925             1.597515e-09       3.187282e-10   \n13     0.463652             3.140579e-09       6.265926e-10   \n14     0.216921             1.408197e-09       2.809565e-10   \n15     0.436681             6.895040e-09       1.375664e-09   \n16     0.429590             6.670511e-09       1.330867e-09   \n17     0.201916             3.072277e-09       6.129653e-10   \n18     0.369825             5.708488e-09       1.138929e-09   \n19     0.592907             9.784486e-09       1.952152e-09   \n20     0.243251             3.515047e-09       7.013045e-10   \n21     0.368954             5.399516e-09       1.077284e-09   \n22     0.511383             8.399469e-09       1.675820e-09   \n23     0.200114             3.112810e-09       6.210523e-10   \n24     0.219234             2.901537e-09       5.789002e-10   \n25     0.582192             7.996671e-09       1.595456e-09   \n26     0.247970             3.037971e-09       6.061207e-10   \n27     0.235394             2.850007e-09       5.686190e-10   \n28     0.849141             1.221737e-08       2.437549e-09   \n29     0.239912             2.941956e-09       5.869643e-10   \n\n                                             CPU_name      GPU_name     OS  \\\n0   Intel(R) Core(TM) i5-9400F CPU @ 2.90GHz/1 dev...   0 device(s)  Linux   \n1   Intel(R) Core(TM) i5-9400F CPU @ 2.90GHz/1 dev...   0 device(s)  Linux   \n2   Intel(R) Core(TM) i5-9400F CPU @ 2.90GHz/1 dev...   0 device(s)  Linux   \n3   Intel(R) Core(TM) i5-9400F CPU @ 2.90GHz/1 dev...   0 device(s)  Linux   \n4   Intel(R) Core(TM) i5-9400F CPU @ 2.90GHz/1 dev...   0 device(s)  Linux   \n5   Intel(R) Core(TM) i5-9400F CPU @ 2.90GHz/1 dev...   0 device(s)  Linux   \n6   Intel(R) Core(TM) i5-9400F CPU @ 2.90GHz/1 dev...   0 device(s)  Linux   \n7   Intel(R) Core(TM) i5-9400F CPU @ 2.90GHz/1 dev...   0 device(s)  Linux   \n8   Intel(R) Core(TM) i5-9400F CPU @ 2.90GHz/1 dev...   0 device(s)  Linux   \n9   Intel(R) Core(TM) i5-9400F CPU @ 2.90GHz/1 dev...   0 device(s)  Linux   \n10  Intel(R) Core(TM) i5-9400F CPU @ 2.90GHz/1 dev...   0 device(s)  Linux   \n11  Intel(R) Core(TM) i5-9400F CPU @ 2.90GHz/1 dev...   0 device(s)  Linux   \n12  Intel(R) Core(TM) i5-9400F CPU @ 2.90GHz/1 dev...   0 device(s)  Linux   \n13  Intel(R) Core(TM) i5-9400F CPU @ 2.90GHz/1 dev...   0 device(s)  Linux   \n14  Intel(R) Core(TM) i5-9400F CPU @ 2.90GHz/1 dev...   0 device(s)  Linux   \n15  Intel(R) Core(TM) i5-9400F CPU @ 2.90GHz/1 dev...   0 device(s)  Linux   \n16  Intel(R) Core(TM) i5-9400F CPU @ 2.90GHz/1 dev...   0 device(s)  Linux   \n17  Intel(R) Core(TM) i5-9400F CPU @ 2.90GHz/1 dev...   0 device(s)  Linux   \n18  Intel(R) Core(TM) i5-9400F CPU @ 2.90GHz/1 dev...   0 device(s)  Linux   \n19  Intel(R) Core(TM) i5-9400F CPU @ 2.90GHz/1 dev...   0 device(s)  Linux   \n20  Intel(R) Core(TM) i5-9400F CPU @ 2.90GHz/1 dev...   0 device(s)  Linux   \n21  Intel(R) Core(TM) i5-9400F CPU @ 2.90GHz/1 dev...   0 device(s)  Linux   \n22  Intel(R) Core(TM) i5-9400F CPU @ 2.90GHz/1 dev...   0 device(s)  Linux   \n23  Intel(R) Core(TM) i5-9400F CPU @ 2.90GHz/1 dev...   0 device(s)  Linux   \n24  Intel(R) Core(TM) i5-9400F CPU @ 2.90GHz/1 dev...   0 device(s)  Linux   \n25  Intel(R) Core(TM) i5-9400F CPU @ 2.90GHz/1 dev...   0 device(s)  Linux   \n26  Intel(R) Core(TM) i5-9400F CPU @ 2.90GHz/1 dev...   0 device(s)  Linux   \n27  Intel(R) Core(TM) i5-9400F CPU @ 2.90GHz/1 dev...   0 device(s)  Linux   \n28  Intel(R) Core(TM) i5-9400F CPU @ 2.90GHz/1 dev...   0 device(s)  Linux   \n29  Intel(R) Core(TM) i5-9400F CPU @ 2.90GHz/1 dev...   0 device(s)  Linux   \n\n   region/country  \n0       ES/Aragon  \n1       ES/Aragon  \n2       ES/Aragon  \n3       ES/Aragon  \n4       ES/Aragon  \n5       ES/Aragon  \n6       ES/Aragon  \n7       ES/Aragon  \n8       ES/Aragon  \n9       ES/Aragon  \n10      ES/Aragon  \n11      ES/Aragon  \n12      ES/Aragon  \n13      ES/Aragon  \n14      ES/Aragon  \n15      ES/Aragon  \n16      ES/Aragon  \n17      ES/Aragon  \n18      ES/Aragon  \n19      ES/Aragon  \n20      ES/Aragon  \n21      ES/Aragon  \n22      ES/Aragon  \n23      ES/Aragon  \n24      ES/Aragon  \n25      ES/Aragon  \n26      ES/Aragon  \n27      ES/Aragon  \n28      ES/Aragon  \n29      ES/Aragon  ",
      "text/html": "<div>\n<style scoped>\n    .dataframe tbody tr th:only-of-type {\n        vertical-align: middle;\n    }\n\n    .dataframe tbody tr th {\n        vertical-align: top;\n    }\n\n    .dataframe thead th {\n        text-align: right;\n    }\n</style>\n<table border=\"1\" class=\"dataframe\">\n  <thead>\n    <tr style=\"text-align: right;\">\n      <th></th>\n      <th>project_name</th>\n      <th>experiment_description(model type etc.)</th>\n      <th>start_time</th>\n      <th>duration(s)</th>\n      <th>power_consumption(kWTh)</th>\n      <th>CO2_emissions(kg)</th>\n      <th>CPU_name</th>\n      <th>GPU_name</th>\n      <th>OS</th>\n      <th>region/country</th>\n    </tr>\n  </thead>\n  <tbody>\n    <tr>\n      <th>0</th>\n      <td>TFG_Project</td>\n      <td>training LogisticRegression model</td>\n      <td>2022-08-28 11:29:13</td>\n      <td>0.392860</td>\n      <td>4.948666e-09</td>\n      <td>9.873331e-10</td>\n      <td>Intel(R) Core(TM) i5-9400F CPU @ 2.90GHz/1 dev...</td>\n      <td>0 device(s)</td>\n      <td>Linux</td>\n      <td>ES/Aragon</td>\n    </tr>\n    <tr>\n      <th>1</th>\n      <td>TFG_Project</td>\n      <td>training RandomForest model</td>\n      <td>2022-08-28 11:29:15</td>\n      <td>0.457908</td>\n      <td>5.902811e-09</td>\n      <td>1.177699e-09</td>\n      <td>Intel(R) Core(TM) i5-9400F CPU @ 2.90GHz/1 dev...</td>\n      <td>0 device(s)</td>\n      <td>Linux</td>\n      <td>ES/Aragon</td>\n    </tr>\n    <tr>\n      <th>2</th>\n      <td>TFG_Project</td>\n      <td>training LogisticRegression model</td>\n      <td>2022-08-28 11:29:17</td>\n      <td>0.198576</td>\n      <td>2.420500e-09</td>\n      <td>4.829261e-10</td>\n      <td>Intel(R) Core(TM) i5-9400F CPU @ 2.90GHz/1 dev...</td>\n      <td>0 device(s)</td>\n      <td>Linux</td>\n      <td>ES/Aragon</td>\n    </tr>\n    <tr>\n      <th>3</th>\n      <td>TFG_Project</td>\n      <td>training LogisticRegression model</td>\n      <td>2022-08-28 11:41:49</td>\n      <td>0.416710</td>\n      <td>5.583236e-09</td>\n      <td>1.113939e-09</td>\n      <td>Intel(R) Core(TM) i5-9400F CPU @ 2.90GHz/1 dev...</td>\n      <td>0 device(s)</td>\n      <td>Linux</td>\n      <td>ES/Aragon</td>\n    </tr>\n    <tr>\n      <th>4</th>\n      <td>TFG_Project</td>\n      <td>training RandomForest model</td>\n      <td>2022-08-28 11:41:51</td>\n      <td>0.575514</td>\n      <td>8.072550e-09</td>\n      <td>1.610595e-09</td>\n      <td>Intel(R) Core(TM) i5-9400F CPU @ 2.90GHz/1 dev...</td>\n      <td>0 device(s)</td>\n      <td>Linux</td>\n      <td>ES/Aragon</td>\n    </tr>\n    <tr>\n      <th>5</th>\n      <td>TFG_Project</td>\n      <td>training LogisticRegression model</td>\n      <td>2022-08-28 11:41:53</td>\n      <td>0.221485</td>\n      <td>2.930131e-09</td>\n      <td>5.846051e-10</td>\n      <td>Intel(R) Core(TM) i5-9400F CPU @ 2.90GHz/1 dev...</td>\n      <td>0 device(s)</td>\n      <td>Linux</td>\n      <td>ES/Aragon</td>\n    </tr>\n    <tr>\n      <th>6</th>\n      <td>TFG_Project</td>\n      <td>training LogisticRegression model</td>\n      <td>2022-08-28 11:42:48</td>\n      <td>0.236932</td>\n      <td>3.138547e-09</td>\n      <td>6.261873e-10</td>\n      <td>Intel(R) Core(TM) i5-9400F CPU @ 2.90GHz/1 dev...</td>\n      <td>0 device(s)</td>\n      <td>Linux</td>\n      <td>ES/Aragon</td>\n    </tr>\n    <tr>\n      <th>7</th>\n      <td>TFG_Project</td>\n      <td>training RandomForest model</td>\n      <td>2022-08-28 11:42:50</td>\n      <td>0.578525</td>\n      <td>8.438694e-09</td>\n      <td>1.683646e-09</td>\n      <td>Intel(R) Core(TM) i5-9400F CPU @ 2.90GHz/1 dev...</td>\n      <td>0 device(s)</td>\n      <td>Linux</td>\n      <td>ES/Aragon</td>\n    </tr>\n    <tr>\n      <th>8</th>\n      <td>TFG_Project</td>\n      <td>training LogisticRegression model</td>\n      <td>2022-08-28 11:42:52</td>\n      <td>0.232657</td>\n      <td>3.025994e-09</td>\n      <td>6.037313e-10</td>\n      <td>Intel(R) Core(TM) i5-9400F CPU @ 2.90GHz/1 dev...</td>\n      <td>0 device(s)</td>\n      <td>Linux</td>\n      <td>ES/Aragon</td>\n    </tr>\n    <tr>\n      <th>9</th>\n      <td>TFG_Project</td>\n      <td>training LogisticRegression model</td>\n      <td>2022-08-28 11:44:43</td>\n      <td>0.325646</td>\n      <td>2.455719e-09</td>\n      <td>4.899528e-10</td>\n      <td>Intel(R) Core(TM) i5-9400F CPU @ 2.90GHz/1 dev...</td>\n      <td>0 device(s)</td>\n      <td>Linux</td>\n      <td>ES/Aragon</td>\n    </tr>\n    <tr>\n      <th>10</th>\n      <td>TFG_Project</td>\n      <td>training RandomForest model</td>\n      <td>2022-08-28 11:44:44</td>\n      <td>0.516881</td>\n      <td>4.142830e-09</td>\n      <td>8.265567e-10</td>\n      <td>Intel(R) Core(TM) i5-9400F CPU @ 2.90GHz/1 dev...</td>\n      <td>0 device(s)</td>\n      <td>Linux</td>\n      <td>ES/Aragon</td>\n    </tr>\n    <tr>\n      <th>11</th>\n      <td>TFG_Project</td>\n      <td>training LogisticRegression model</td>\n      <td>2022-08-28 11:44:47</td>\n      <td>0.213440</td>\n      <td>1.572863e-09</td>\n      <td>3.138098e-10</td>\n      <td>Intel(R) Core(TM) i5-9400F CPU @ 2.90GHz/1 dev...</td>\n      <td>0 device(s)</td>\n      <td>Linux</td>\n      <td>ES/Aragon</td>\n    </tr>\n    <tr>\n      <th>12</th>\n      <td>TFG_Project</td>\n      <td>training LogisticRegression model</td>\n      <td>2022-08-28 11:45:45</td>\n      <td>0.261925</td>\n      <td>1.597515e-09</td>\n      <td>3.187282e-10</td>\n      <td>Intel(R) Core(TM) i5-9400F CPU @ 2.90GHz/1 dev...</td>\n      <td>0 device(s)</td>\n      <td>Linux</td>\n      <td>ES/Aragon</td>\n    </tr>\n    <tr>\n      <th>13</th>\n      <td>TFG_Project</td>\n      <td>training RandomForest model</td>\n      <td>2022-08-28 11:45:47</td>\n      <td>0.463652</td>\n      <td>3.140579e-09</td>\n      <td>6.265926e-10</td>\n      <td>Intel(R) Core(TM) i5-9400F CPU @ 2.90GHz/1 dev...</td>\n      <td>0 device(s)</td>\n      <td>Linux</td>\n      <td>ES/Aragon</td>\n    </tr>\n    <tr>\n      <th>14</th>\n      <td>TFG_Project</td>\n      <td>training LogisticRegression model</td>\n      <td>2022-08-28 11:45:49</td>\n      <td>0.216921</td>\n      <td>1.408197e-09</td>\n      <td>2.809565e-10</td>\n      <td>Intel(R) Core(TM) i5-9400F CPU @ 2.90GHz/1 dev...</td>\n      <td>0 device(s)</td>\n      <td>Linux</td>\n      <td>ES/Aragon</td>\n    </tr>\n    <tr>\n      <th>15</th>\n      <td>TFG_Project</td>\n      <td>training LogisticRegression model</td>\n      <td>2022-08-28 11:49:16</td>\n      <td>0.436681</td>\n      <td>6.895040e-09</td>\n      <td>1.375664e-09</td>\n      <td>Intel(R) Core(TM) i5-9400F CPU @ 2.90GHz/1 dev...</td>\n      <td>0 device(s)</td>\n      <td>Linux</td>\n      <td>ES/Aragon</td>\n    </tr>\n    <tr>\n      <th>16</th>\n      <td>TFG_Project</td>\n      <td>training RandomForest model</td>\n      <td>2022-08-28 11:49:18</td>\n      <td>0.429590</td>\n      <td>6.670511e-09</td>\n      <td>1.330867e-09</td>\n      <td>Intel(R) Core(TM) i5-9400F CPU @ 2.90GHz/1 dev...</td>\n      <td>0 device(s)</td>\n      <td>Linux</td>\n      <td>ES/Aragon</td>\n    </tr>\n    <tr>\n      <th>17</th>\n      <td>TFG_Project</td>\n      <td>training LogisticRegression model</td>\n      <td>2022-08-28 11:49:20</td>\n      <td>0.201916</td>\n      <td>3.072277e-09</td>\n      <td>6.129653e-10</td>\n      <td>Intel(R) Core(TM) i5-9400F CPU @ 2.90GHz/1 dev...</td>\n      <td>0 device(s)</td>\n      <td>Linux</td>\n      <td>ES/Aragon</td>\n    </tr>\n    <tr>\n      <th>18</th>\n      <td>TFG_Project</td>\n      <td>training LogisticRegression model</td>\n      <td>2022-08-28 11:53:55</td>\n      <td>0.369825</td>\n      <td>5.708488e-09</td>\n      <td>1.138929e-09</td>\n      <td>Intel(R) Core(TM) i5-9400F CPU @ 2.90GHz/1 dev...</td>\n      <td>0 device(s)</td>\n      <td>Linux</td>\n      <td>ES/Aragon</td>\n    </tr>\n    <tr>\n      <th>19</th>\n      <td>TFG_Project</td>\n      <td>training RandomForest model</td>\n      <td>2022-08-28 11:53:57</td>\n      <td>0.592907</td>\n      <td>9.784486e-09</td>\n      <td>1.952152e-09</td>\n      <td>Intel(R) Core(TM) i5-9400F CPU @ 2.90GHz/1 dev...</td>\n      <td>0 device(s)</td>\n      <td>Linux</td>\n      <td>ES/Aragon</td>\n    </tr>\n    <tr>\n      <th>20</th>\n      <td>TFG_Project</td>\n      <td>training LogisticRegression model</td>\n      <td>2022-08-28 11:53:59</td>\n      <td>0.243251</td>\n      <td>3.515047e-09</td>\n      <td>7.013045e-10</td>\n      <td>Intel(R) Core(TM) i5-9400F CPU @ 2.90GHz/1 dev...</td>\n      <td>0 device(s)</td>\n      <td>Linux</td>\n      <td>ES/Aragon</td>\n    </tr>\n    <tr>\n      <th>21</th>\n      <td>TFG_Project</td>\n      <td>training LogisticRegression model</td>\n      <td>2022-08-28 12:00:13</td>\n      <td>0.368954</td>\n      <td>5.399516e-09</td>\n      <td>1.077284e-09</td>\n      <td>Intel(R) Core(TM) i5-9400F CPU @ 2.90GHz/1 dev...</td>\n      <td>0 device(s)</td>\n      <td>Linux</td>\n      <td>ES/Aragon</td>\n    </tr>\n    <tr>\n      <th>22</th>\n      <td>TFG_Project</td>\n      <td>training RandomForest model</td>\n      <td>2022-08-28 12:00:15</td>\n      <td>0.511383</td>\n      <td>8.399469e-09</td>\n      <td>1.675820e-09</td>\n      <td>Intel(R) Core(TM) i5-9400F CPU @ 2.90GHz/1 dev...</td>\n      <td>0 device(s)</td>\n      <td>Linux</td>\n      <td>ES/Aragon</td>\n    </tr>\n    <tr>\n      <th>23</th>\n      <td>TFG_Project</td>\n      <td>training LogisticRegression model</td>\n      <td>2022-08-28 12:00:17</td>\n      <td>0.200114</td>\n      <td>3.112810e-09</td>\n      <td>6.210523e-10</td>\n      <td>Intel(R) Core(TM) i5-9400F CPU @ 2.90GHz/1 dev...</td>\n      <td>0 device(s)</td>\n      <td>Linux</td>\n      <td>ES/Aragon</td>\n    </tr>\n    <tr>\n      <th>24</th>\n      <td>TFG_Project</td>\n      <td>training LogisticRegression model</td>\n      <td>2022-08-28 12:01:58</td>\n      <td>0.219234</td>\n      <td>2.901537e-09</td>\n      <td>5.789002e-10</td>\n      <td>Intel(R) Core(TM) i5-9400F CPU @ 2.90GHz/1 dev...</td>\n      <td>0 device(s)</td>\n      <td>Linux</td>\n      <td>ES/Aragon</td>\n    </tr>\n    <tr>\n      <th>25</th>\n      <td>TFG_Project</td>\n      <td>training RandomForest model</td>\n      <td>2022-08-28 12:01:59</td>\n      <td>0.582192</td>\n      <td>7.996671e-09</td>\n      <td>1.595456e-09</td>\n      <td>Intel(R) Core(TM) i5-9400F CPU @ 2.90GHz/1 dev...</td>\n      <td>0 device(s)</td>\n      <td>Linux</td>\n      <td>ES/Aragon</td>\n    </tr>\n    <tr>\n      <th>26</th>\n      <td>TFG_Project</td>\n      <td>training LogisticRegression model</td>\n      <td>2022-08-28 12:02:01</td>\n      <td>0.247970</td>\n      <td>3.037971e-09</td>\n      <td>6.061207e-10</td>\n      <td>Intel(R) Core(TM) i5-9400F CPU @ 2.90GHz/1 dev...</td>\n      <td>0 device(s)</td>\n      <td>Linux</td>\n      <td>ES/Aragon</td>\n    </tr>\n    <tr>\n      <th>27</th>\n      <td>TFG_Project</td>\n      <td>training LogisticRegression model</td>\n      <td>2022-08-28 12:05:07</td>\n      <td>0.235394</td>\n      <td>2.850007e-09</td>\n      <td>5.686190e-10</td>\n      <td>Intel(R) Core(TM) i5-9400F CPU @ 2.90GHz/1 dev...</td>\n      <td>0 device(s)</td>\n      <td>Linux</td>\n      <td>ES/Aragon</td>\n    </tr>\n    <tr>\n      <th>28</th>\n      <td>TFG_Project</td>\n      <td>training RandomForest model</td>\n      <td>2022-08-28 12:05:09</td>\n      <td>0.849141</td>\n      <td>1.221737e-08</td>\n      <td>2.437549e-09</td>\n      <td>Intel(R) Core(TM) i5-9400F CPU @ 2.90GHz/1 dev...</td>\n      <td>0 device(s)</td>\n      <td>Linux</td>\n      <td>ES/Aragon</td>\n    </tr>\n    <tr>\n      <th>29</th>\n      <td>TFG_Project</td>\n      <td>training LogisticRegression model</td>\n      <td>2022-08-28 12:05:11</td>\n      <td>0.239912</td>\n      <td>2.941956e-09</td>\n      <td>5.869643e-10</td>\n      <td>Intel(R) Core(TM) i5-9400F CPU @ 2.90GHz/1 dev...</td>\n      <td>0 device(s)</td>\n      <td>Linux</td>\n      <td>ES/Aragon</td>\n    </tr>\n  </tbody>\n</table>\n</div>"
     },
     "execution_count": 44,
     "metadata": {},
     "output_type": "execute_result"
    }
   ],
   "source": [
    "# Show results\n",
    "eco2ai_emissions = pd.read_csv(\"eco2ai_emissions.csv\",sep=\",\")\n",
    "eco2ai_emissions"
   ],
   "metadata": {
    "collapsed": false,
    "pycharm": {
     "name": "#%%\n"
    }
   }
  }
 ],
 "metadata": {
  "kernelspec": {
   "display_name": "Python 3",
   "language": "python",
   "name": "python3"
  },
  "language_info": {
   "codemirror_mode": {
    "name": "ipython",
    "version": 2
   },
   "file_extension": ".py",
   "mimetype": "text/x-python",
   "name": "python",
   "nbconvert_exporter": "python",
   "pygments_lexer": "ipython2",
   "version": "2.7.6"
  }
 },
 "nbformat": 4,
 "nbformat_minor": 0
}