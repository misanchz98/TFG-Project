{
 "cells": [
  {
   "cell_type": "markdown",
   "source": [
    "# 1. Import packages"
   ],
   "metadata": {
    "collapsed": false
   }
  },
  {
   "cell_type": "code",
   "execution_count": 1,
   "outputs": [
    {
     "name": "stdout",
     "output_type": "stream",
     "text": [
      "Invoking __init__.py for modules\n"
     ]
    }
   ],
   "source": [
    "import sys\n",
    "sys.path.append('..')\n",
    "from modules import preprocess, benchmarking, graphics\n",
    "import pandas as pd"
   ],
   "metadata": {
    "collapsed": false,
    "ExecuteTime": {
     "end_time": "2023-05-18T17:45:13.229246377Z",
     "start_time": "2023-05-18T17:45:11.693430289Z"
    }
   }
  },
  {
   "cell_type": "markdown",
   "source": [
    "# 2. Load dataset"
   ],
   "metadata": {
    "collapsed": false
   }
  },
  {
   "cell_type": "code",
   "execution_count": 2,
   "outputs": [],
   "source": [
    "df = preprocess.load_csv_data('../dataset/Occupancy_Estimation.csv')"
   ],
   "metadata": {
    "collapsed": false,
    "ExecuteTime": {
     "end_time": "2023-05-18T17:45:13.307175700Z",
     "start_time": "2023-05-18T17:45:13.234943611Z"
    }
   }
  },
  {
   "cell_type": "markdown",
   "source": [
    "# 3. Data preprocessing\n",
    "- Step 1: Transform features\n",
    "  - Binary results for Room_Occupancy_Count\n",
    "  - Drop Date and Time features\n",
    "- Step 2: Clean data\n",
    "  - Drop duplicated rows"
   ],
   "metadata": {
    "collapsed": false
   }
  },
  {
   "cell_type": "code",
   "execution_count": 3,
   "outputs": [
    {
     "data": {
      "text/plain": "   S1_Temp  S2_Temp  S3_Temp  S4_Temp  S1_Light  S2_Light  S3_Light  S4_Light  \\\n0    24.94    24.75    24.56    25.38       121        34        53        40   \n1    24.94    24.75    24.56    25.44       121        33        53        40   \n2    25.00    24.75    24.50    25.44       121        34        53        40   \n3    25.00    24.75    24.56    25.44       121        34        53        40   \n4    25.00    24.75    24.56    25.44       121        34        54        40   \n\n   S1_Sound  S2_Sound  S3_Sound  S4_Sound  S5_CO2  S5_CO2_Slope  S6_PIR  \\\n0      0.08      0.19      0.06      0.06     390      0.769231       0   \n1      0.93      0.05      0.06      0.06     390      0.646154       0   \n2      0.43      0.11      0.08      0.06     390      0.519231       0   \n3      0.41      0.10      0.10      0.09     390      0.388462       0   \n4      0.18      0.06      0.06      0.06     390      0.253846       0   \n\n   S7_PIR  Room_Occupancy_Count  \n0       0                     1  \n1       0                     1  \n2       0                     1  \n3       0                     1  \n4       0                     1  ",
      "text/html": "<div>\n<style scoped>\n    .dataframe tbody tr th:only-of-type {\n        vertical-align: middle;\n    }\n\n    .dataframe tbody tr th {\n        vertical-align: top;\n    }\n\n    .dataframe thead th {\n        text-align: right;\n    }\n</style>\n<table border=\"1\" class=\"dataframe\">\n  <thead>\n    <tr style=\"text-align: right;\">\n      <th></th>\n      <th>S1_Temp</th>\n      <th>S2_Temp</th>\n      <th>S3_Temp</th>\n      <th>S4_Temp</th>\n      <th>S1_Light</th>\n      <th>S2_Light</th>\n      <th>S3_Light</th>\n      <th>S4_Light</th>\n      <th>S1_Sound</th>\n      <th>S2_Sound</th>\n      <th>S3_Sound</th>\n      <th>S4_Sound</th>\n      <th>S5_CO2</th>\n      <th>S5_CO2_Slope</th>\n      <th>S6_PIR</th>\n      <th>S7_PIR</th>\n      <th>Room_Occupancy_Count</th>\n    </tr>\n  </thead>\n  <tbody>\n    <tr>\n      <th>0</th>\n      <td>24.94</td>\n      <td>24.75</td>\n      <td>24.56</td>\n      <td>25.38</td>\n      <td>121</td>\n      <td>34</td>\n      <td>53</td>\n      <td>40</td>\n      <td>0.08</td>\n      <td>0.19</td>\n      <td>0.06</td>\n      <td>0.06</td>\n      <td>390</td>\n      <td>0.769231</td>\n      <td>0</td>\n      <td>0</td>\n      <td>1</td>\n    </tr>\n    <tr>\n      <th>1</th>\n      <td>24.94</td>\n      <td>24.75</td>\n      <td>24.56</td>\n      <td>25.44</td>\n      <td>121</td>\n      <td>33</td>\n      <td>53</td>\n      <td>40</td>\n      <td>0.93</td>\n      <td>0.05</td>\n      <td>0.06</td>\n      <td>0.06</td>\n      <td>390</td>\n      <td>0.646154</td>\n      <td>0</td>\n      <td>0</td>\n      <td>1</td>\n    </tr>\n    <tr>\n      <th>2</th>\n      <td>25.00</td>\n      <td>24.75</td>\n      <td>24.50</td>\n      <td>25.44</td>\n      <td>121</td>\n      <td>34</td>\n      <td>53</td>\n      <td>40</td>\n      <td>0.43</td>\n      <td>0.11</td>\n      <td>0.08</td>\n      <td>0.06</td>\n      <td>390</td>\n      <td>0.519231</td>\n      <td>0</td>\n      <td>0</td>\n      <td>1</td>\n    </tr>\n    <tr>\n      <th>3</th>\n      <td>25.00</td>\n      <td>24.75</td>\n      <td>24.56</td>\n      <td>25.44</td>\n      <td>121</td>\n      <td>34</td>\n      <td>53</td>\n      <td>40</td>\n      <td>0.41</td>\n      <td>0.10</td>\n      <td>0.10</td>\n      <td>0.09</td>\n      <td>390</td>\n      <td>0.388462</td>\n      <td>0</td>\n      <td>0</td>\n      <td>1</td>\n    </tr>\n    <tr>\n      <th>4</th>\n      <td>25.00</td>\n      <td>24.75</td>\n      <td>24.56</td>\n      <td>25.44</td>\n      <td>121</td>\n      <td>34</td>\n      <td>54</td>\n      <td>40</td>\n      <td>0.18</td>\n      <td>0.06</td>\n      <td>0.06</td>\n      <td>0.06</td>\n      <td>390</td>\n      <td>0.253846</td>\n      <td>0</td>\n      <td>0</td>\n      <td>1</td>\n    </tr>\n  </tbody>\n</table>\n</div>"
     },
     "execution_count": 3,
     "metadata": {},
     "output_type": "execute_result"
    }
   ],
   "source": [
    "# Step 1: Recode Room_Occupancy_Count column\n",
    "preprocess.recode_dataset_output(df)\n",
    "\n",
    "# Step 2: Filter Date and Time columns\n",
    "preprocess.remove_time_columns(df)\n",
    "\n",
    "df.head()"
   ],
   "metadata": {
    "collapsed": false,
    "ExecuteTime": {
     "end_time": "2023-05-18T17:45:13.378044767Z",
     "start_time": "2023-05-18T17:45:13.310989373Z"
    }
   }
  },
  {
   "cell_type": "markdown",
   "source": [
    "# 4. Benchmarking"
   ],
   "metadata": {
    "collapsed": false
   }
  },
  {
   "cell_type": "code",
   "execution_count": 4,
   "outputs": [],
   "source": [
    "# Split dataset into features and output\n",
    "X = preprocess.get_features(df)\n",
    "y = preprocess.get_output(df)\n",
    "\n",
    "# Split dataset into training and test\n",
    "X_train, X_test, y_train, y_test = preprocess.split_dataset(X, y)"
   ],
   "metadata": {
    "collapsed": false,
    "ExecuteTime": {
     "end_time": "2023-05-18T17:45:13.386646452Z",
     "start_time": "2023-05-18T17:45:13.384898795Z"
    }
   }
  },
  {
   "cell_type": "markdown",
   "source": [
    "## Create benchmarking Dataframe:\n",
    "- Create benchmarking's df structure.\n",
    "- Track models training with CodeCarbon and Eco2AI.\n",
    "- Store in benchmarking's df tracking results.\n",
    "- Store in benchmarking's df evaluation metrics."
   ],
   "metadata": {
    "collapsed": false
   }
  },
  {
   "cell_type": "code",
   "execution_count": 5,
   "outputs": [
    {
     "name": "stderr",
     "output_type": "stream",
     "text": [
      "[codecarbon INFO @ 19:45:13] [setup] RAM Tracking...\n",
      "[codecarbon INFO @ 19:45:13] [setup] GPU Tracking...\n",
      "[codecarbon INFO @ 19:45:13] No GPU found.\n",
      "[codecarbon INFO @ 19:45:13] [setup] CPU Tracking...\n",
      "[codecarbon WARNING @ 19:45:13] No CPU tracking mode found. Falling back on CPU constant mode.\n",
      "[codecarbon INFO @ 19:45:15] CPU Model on constant consumption mode: Intel(R) Core(TM) i5-9400F CPU @ 2.90GHz\n",
      "[codecarbon INFO @ 19:45:15] >>> Tracker's metadata:\n",
      "[codecarbon INFO @ 19:45:15]   Platform system: Linux-5.19.0-41-generic-x86_64-with-glibc2.35\n",
      "[codecarbon INFO @ 19:45:15]   Python version: 3.10.8\n",
      "[codecarbon INFO @ 19:45:15]   Available RAM : 4.946 GB\n",
      "[codecarbon INFO @ 19:45:15]   CPU count: 4\n",
      "[codecarbon INFO @ 19:45:16]   CPU model: Intel(R) Core(TM) i5-9400F CPU @ 2.90GHz\n",
      "[codecarbon INFO @ 19:45:16]   GPU count: None\n",
      "[codecarbon INFO @ 19:45:16]   GPU model: None\n"
     ]
    },
    {
     "name": "stdout",
     "output_type": "stream",
     "text": [
      "Fitting 5 folds for each of 40 candidates, totalling 200 fits\n"
     ]
    },
    {
     "name": "stderr",
     "output_type": "stream",
     "text": [
      "[codecarbon INFO @ 19:45:32] Energy consumed for RAM : 0.000007 kWh. RAM Power : 1.8548641204833987 W\n",
      "[codecarbon INFO @ 19:45:32] Energy consumed for all CPUs : 0.000118 kWh. All CPUs Power : 32.5 W\n",
      "[codecarbon INFO @ 19:45:32] 0.000125 kWh of electricity used since the begining.\n",
      "[codecarbon INFO @ 19:45:32] [setup] RAM Tracking...\n",
      "[codecarbon INFO @ 19:45:32] [setup] GPU Tracking...\n",
      "[codecarbon INFO @ 19:45:32] No GPU found.\n",
      "[codecarbon INFO @ 19:45:32] [setup] CPU Tracking...\n",
      "[codecarbon WARNING @ 19:45:32] No CPU tracking mode found. Falling back on CPU constant mode.\n"
     ]
    },
    {
     "name": "stdout",
     "output_type": "stream",
     "text": [
      "Best estimator LR:  Pipeline(steps=[('scaler', RobustScaler()),\n",
      "                ('estimator',\n",
      "                 LogisticRegression(C=78.47599703514607, max_iter=500,\n",
      "                                    penalty='l1', solver='liblinear'))])\n",
      "Precision:  1.0\n",
      "Recall:  0.9982993197278912\n",
      "F1:  0.9991489361702128\n"
     ]
    },
    {
     "name": "stderr",
     "output_type": "stream",
     "text": [
      "[codecarbon INFO @ 19:45:34] CPU Model on constant consumption mode: Intel(R) Core(TM) i5-9400F CPU @ 2.90GHz\n",
      "[codecarbon INFO @ 19:45:34] >>> Tracker's metadata:\n",
      "[codecarbon INFO @ 19:45:34]   Platform system: Linux-5.19.0-41-generic-x86_64-with-glibc2.35\n",
      "[codecarbon INFO @ 19:45:34]   Python version: 3.10.8\n",
      "[codecarbon INFO @ 19:45:34]   Available RAM : 4.946 GB\n",
      "[codecarbon INFO @ 19:45:34]   CPU count: 4\n",
      "[codecarbon INFO @ 19:45:34]   CPU model: Intel(R) Core(TM) i5-9400F CPU @ 2.90GHz\n",
      "[codecarbon INFO @ 19:45:34]   GPU count: None\n",
      "[codecarbon INFO @ 19:45:34]   GPU model: None\n"
     ]
    },
    {
     "name": "stdout",
     "output_type": "stream",
     "text": [
      "Fitting 5 folds for each of 10 candidates, totalling 50 fits\n"
     ]
    },
    {
     "name": "stderr",
     "output_type": "stream",
     "text": [
      "[codecarbon INFO @ 19:45:53] Energy consumed for RAM : 0.000008 kWh. RAM Power : 1.8548641204833987 W\n",
      "[codecarbon INFO @ 19:45:53] Energy consumed for all CPUs : 0.000147 kWh. All CPUs Power : 32.5 W\n",
      "[codecarbon INFO @ 19:45:53] 0.000155 kWh of electricity used since the begining.\n",
      "[codecarbon INFO @ 19:46:08] Energy consumed for RAM : 0.000016 kWh. RAM Power : 1.8548641204833987 W\n",
      "[codecarbon INFO @ 19:46:08] Energy consumed for all CPUs : 0.000282 kWh. All CPUs Power : 32.5 W\n",
      "[codecarbon INFO @ 19:46:08] 0.000298 kWh of electricity used since the begining.\n",
      "[codecarbon INFO @ 19:46:23] Energy consumed for RAM : 0.000024 kWh. RAM Power : 1.8548641204833987 W\n",
      "[codecarbon INFO @ 19:46:23] Energy consumed for all CPUs : 0.000420 kWh. All CPUs Power : 32.5 W\n",
      "[codecarbon INFO @ 19:46:23] 0.000444 kWh of electricity used since the begining.\n",
      "[codecarbon INFO @ 19:46:38] Energy consumed for RAM : 0.000032 kWh. RAM Power : 1.8548641204833987 W\n",
      "[codecarbon INFO @ 19:46:38] Energy consumed for all CPUs : 0.000556 kWh. All CPUs Power : 32.5 W\n",
      "[codecarbon INFO @ 19:46:39] 0.000588 kWh of electricity used since the begining.\n",
      "[codecarbon INFO @ 19:46:47] Energy consumed for RAM : 0.000036 kWh. RAM Power : 1.8548641204833987 W\n",
      "[codecarbon INFO @ 19:46:47] Energy consumed for all CPUs : 0.000630 kWh. All CPUs Power : 32.5 W\n",
      "[codecarbon INFO @ 19:46:47] 0.000666 kWh of electricity used since the begining.\n",
      "[codecarbon INFO @ 19:46:47] [setup] RAM Tracking...\n"
     ]
    },
    {
     "name": "stdout",
     "output_type": "stream",
     "text": [
      "Best estimator RF:  RandomForestClassifier(bootstrap=False, max_depth=100, max_features=3,\n",
      "                       min_samples_leaf=3, min_samples_split=10,\n",
      "                       n_estimators=1000)\n",
      "Precision:  1.0\n",
      "Recall:  0.9982993197278912\n",
      "F1:  0.9991489361702128\n"
     ]
    },
    {
     "name": "stderr",
     "output_type": "stream",
     "text": [
      "[codecarbon INFO @ 19:46:47] [setup] GPU Tracking...\n",
      "[codecarbon INFO @ 19:46:47] No GPU found.\n",
      "[codecarbon INFO @ 19:46:47] [setup] CPU Tracking...\n",
      "[codecarbon WARNING @ 19:46:47] No CPU tracking mode found. Falling back on CPU constant mode.\n",
      "[codecarbon INFO @ 19:46:49] CPU Model on constant consumption mode: Intel(R) Core(TM) i5-9400F CPU @ 2.90GHz\n",
      "[codecarbon INFO @ 19:46:49] >>> Tracker's metadata:\n",
      "[codecarbon INFO @ 19:46:49]   Platform system: Linux-5.19.0-41-generic-x86_64-with-glibc2.35\n",
      "[codecarbon INFO @ 19:46:49]   Python version: 3.10.8\n",
      "[codecarbon INFO @ 19:46:49]   Available RAM : 4.946 GB\n",
      "[codecarbon INFO @ 19:46:49]   CPU count: 4\n",
      "[codecarbon INFO @ 19:46:49]   CPU model: Intel(R) Core(TM) i5-9400F CPU @ 2.90GHz\n",
      "[codecarbon INFO @ 19:46:49]   GPU count: None\n",
      "[codecarbon INFO @ 19:46:49]   GPU model: None\n"
     ]
    },
    {
     "name": "stdout",
     "output_type": "stream",
     "text": [
      "Fitting 5 folds for each of 25 candidates, totalling 125 fits\n"
     ]
    },
    {
     "name": "stderr",
     "output_type": "stream",
     "text": [
      "[codecarbon INFO @ 19:47:07] Energy consumed for RAM : 0.000008 kWh. RAM Power : 1.8548641204833987 W\n",
      "[codecarbon INFO @ 19:47:07] Energy consumed for all CPUs : 0.000136 kWh. All CPUs Power : 32.5 W\n",
      "[codecarbon INFO @ 19:47:07] 0.000143 kWh of electricity used since the begining.\n",
      "[codecarbon INFO @ 19:47:22] Energy consumed for RAM : 0.000015 kWh. RAM Power : 1.8548641204833987 W\n",
      "[codecarbon INFO @ 19:47:22] Energy consumed for all CPUs : 0.000271 kWh. All CPUs Power : 32.5 W\n",
      "[codecarbon INFO @ 19:47:22] 0.000286 kWh of electricity used since the begining.\n",
      "[codecarbon INFO @ 19:47:37] Energy consumed for RAM : 0.000023 kWh. RAM Power : 1.8548641204833987 W\n",
      "[codecarbon INFO @ 19:47:37] Energy consumed for all CPUs : 0.000407 kWh. All CPUs Power : 32.5 W\n",
      "[codecarbon INFO @ 19:47:37] 0.000430 kWh of electricity used since the begining.\n",
      "[codecarbon INFO @ 19:47:52] Energy consumed for RAM : 0.000031 kWh. RAM Power : 1.8548641204833987 W\n",
      "[codecarbon INFO @ 19:47:52] Energy consumed for all CPUs : 0.000542 kWh. All CPUs Power : 32.5 W\n",
      "[codecarbon INFO @ 19:47:52] 0.000573 kWh of electricity used since the begining.\n",
      "[codecarbon INFO @ 19:47:57] Energy consumed for RAM : 0.000033 kWh. RAM Power : 1.8548641204833987 W\n",
      "[codecarbon INFO @ 19:47:57] Energy consumed for all CPUs : 0.000584 kWh. All CPUs Power : 32.5 W\n",
      "[codecarbon INFO @ 19:47:57] 0.000617 kWh of electricity used since the begining.\n",
      "[codecarbon INFO @ 19:47:57] [setup] RAM Tracking...\n",
      "[codecarbon INFO @ 19:47:57] [setup] GPU Tracking...\n",
      "[codecarbon INFO @ 19:47:57] No GPU found.\n",
      "[codecarbon INFO @ 19:47:57] [setup] CPU Tracking...\n",
      "[codecarbon WARNING @ 19:47:57] No CPU tracking mode found. Falling back on CPU constant mode.\n"
     ]
    },
    {
     "name": "stdout",
     "output_type": "stream",
     "text": [
      "Best estimator SVM:  SVC(C=1, gamma=0.001)\n",
      "Precision:  1.0\n",
      "Recall:  0.9982993197278912\n",
      "F1:  0.9991489361702128\n"
     ]
    },
    {
     "name": "stderr",
     "output_type": "stream",
     "text": [
      "[codecarbon INFO @ 19:47:59] CPU Model on constant consumption mode: Intel(R) Core(TM) i5-9400F CPU @ 2.90GHz\n",
      "[codecarbon INFO @ 19:47:59] >>> Tracker's metadata:\n",
      "[codecarbon INFO @ 19:47:59]   Platform system: Linux-5.19.0-41-generic-x86_64-with-glibc2.35\n",
      "[codecarbon INFO @ 19:47:59]   Python version: 3.10.8\n",
      "[codecarbon INFO @ 19:47:59]   Available RAM : 4.946 GB\n",
      "[codecarbon INFO @ 19:47:59]   CPU count: 4\n",
      "[codecarbon INFO @ 19:47:59]   CPU model: Intel(R) Core(TM) i5-9400F CPU @ 2.90GHz\n",
      "[codecarbon INFO @ 19:47:59]   GPU count: None\n",
      "[codecarbon INFO @ 19:47:59]   GPU model: None\n"
     ]
    },
    {
     "name": "stdout",
     "output_type": "stream",
     "text": [
      "Fitting 5 folds for each of 10 candidates, totalling 50 fits\n"
     ]
    },
    {
     "name": "stderr",
     "output_type": "stream",
     "text": [
      "[codecarbon INFO @ 19:48:17] Energy consumed for RAM : 0.000008 kWh. RAM Power : 1.8548641204833987 W\n",
      "[codecarbon INFO @ 19:48:17] Energy consumed for all CPUs : 0.000136 kWh. All CPUs Power : 32.5 W\n",
      "[codecarbon INFO @ 19:48:17] 0.000143 kWh of electricity used since the begining.\n",
      "[codecarbon INFO @ 19:48:32] Energy consumed for RAM : 0.000015 kWh. RAM Power : 1.8548641204833987 W\n",
      "[codecarbon INFO @ 19:48:32] Energy consumed for all CPUs : 0.000271 kWh. All CPUs Power : 32.5 W\n",
      "[codecarbon INFO @ 19:48:32] 0.000286 kWh of electricity used since the begining.\n",
      "[codecarbon INFO @ 19:48:47] Energy consumed for RAM : 0.000023 kWh. RAM Power : 1.8548641204833987 W\n",
      "[codecarbon INFO @ 19:48:47] Energy consumed for all CPUs : 0.000406 kWh. All CPUs Power : 32.5 W\n",
      "[codecarbon INFO @ 19:48:47] 0.000430 kWh of electricity used since the begining.\n",
      "[codecarbon INFO @ 19:49:02] Energy consumed for RAM : 0.000031 kWh. RAM Power : 1.8548641204833987 W\n",
      "[codecarbon INFO @ 19:49:02] Energy consumed for all CPUs : 0.000544 kWh. All CPUs Power : 32.5 W\n",
      "[codecarbon INFO @ 19:49:02] 0.000575 kWh of electricity used since the begining.\n",
      "[codecarbon INFO @ 19:49:17] Energy consumed for RAM : 0.000039 kWh. RAM Power : 1.8548641204833987 W\n",
      "[codecarbon INFO @ 19:49:17] Energy consumed for all CPUs : 0.000680 kWh. All CPUs Power : 32.5 W\n",
      "[codecarbon INFO @ 19:49:17] 0.000719 kWh of electricity used since the begining.\n",
      "[codecarbon INFO @ 19:49:33] Energy consumed for RAM : 0.000047 kWh. RAM Power : 1.8548641204833987 W\n",
      "[codecarbon INFO @ 19:49:33] Energy consumed for all CPUs : 0.000824 kWh. All CPUs Power : 32.5 W\n",
      "[codecarbon INFO @ 19:49:33] 0.000871 kWh of electricity used since the begining.\n",
      "[codecarbon INFO @ 19:49:48] Energy consumed for RAM : 0.000055 kWh. RAM Power : 1.8548641204833987 W\n",
      "[codecarbon INFO @ 19:49:48] Energy consumed for all CPUs : 0.000960 kWh. All CPUs Power : 32.5 W\n",
      "[codecarbon INFO @ 19:49:48] 0.001014 kWh of electricity used since the begining.\n",
      "[codecarbon INFO @ 19:50:03] Energy consumed for RAM : 0.000062 kWh. RAM Power : 1.8548641204833987 W\n",
      "[codecarbon INFO @ 19:50:03] Energy consumed for all CPUs : 0.001094 kWh. All CPUs Power : 32.5 W\n",
      "[codecarbon INFO @ 19:50:03] 0.001157 kWh of electricity used since the begining.\n",
      "[codecarbon INFO @ 19:50:19] Energy consumed for RAM : 0.000071 kWh. RAM Power : 1.8548641204833987 W\n",
      "[codecarbon INFO @ 19:50:19] Energy consumed for all CPUs : 0.001239 kWh. All CPUs Power : 32.5 W\n",
      "[codecarbon INFO @ 19:50:19] 0.001309 kWh of electricity used since the begining.\n",
      "[codecarbon INFO @ 19:50:34] Energy consumed for RAM : 0.000078 kWh. RAM Power : 1.8548641204833987 W\n",
      "[codecarbon INFO @ 19:50:34] Energy consumed for all CPUs : 0.001374 kWh. All CPUs Power : 32.5 W\n",
      "[codecarbon INFO @ 19:50:34] 0.001452 kWh of electricity used since the begining.\n",
      "[codecarbon INFO @ 19:50:49] Energy consumed for RAM : 0.000086 kWh. RAM Power : 1.8548641204833987 W\n",
      "[codecarbon INFO @ 19:50:49] Energy consumed for all CPUs : 0.001510 kWh. All CPUs Power : 32.5 W\n",
      "[codecarbon INFO @ 19:50:49] 0.001596 kWh of electricity used since the begining.\n",
      "[codecarbon INFO @ 19:51:04] Energy consumed for RAM : 0.000094 kWh. RAM Power : 1.8548641204833987 W\n",
      "[codecarbon INFO @ 19:51:04] Energy consumed for all CPUs : 0.001645 kWh. All CPUs Power : 32.5 W\n",
      "[codecarbon INFO @ 19:51:04] 0.001739 kWh of electricity used since the begining.\n",
      "[codecarbon INFO @ 19:51:19] Energy consumed for RAM : 0.000102 kWh. RAM Power : 1.8548641204833987 W\n",
      "[codecarbon INFO @ 19:51:19] Energy consumed for all CPUs : 0.001780 kWh. All CPUs Power : 32.5 W\n",
      "[codecarbon INFO @ 19:51:19] 0.001882 kWh of electricity used since the begining.\n",
      "[codecarbon INFO @ 19:51:35] Energy consumed for RAM : 0.000110 kWh. RAM Power : 1.8548641204833987 W\n",
      "[codecarbon INFO @ 19:51:35] Energy consumed for all CPUs : 0.001925 kWh. All CPUs Power : 32.5 W\n",
      "[codecarbon INFO @ 19:51:35] 0.002034 kWh of electricity used since the begining.\n",
      "[codecarbon INFO @ 19:51:51] Energy consumed for RAM : 0.000118 kWh. RAM Power : 1.8548641204833987 W\n",
      "[codecarbon INFO @ 19:51:51] Energy consumed for all CPUs : 0.002069 kWh. All CPUs Power : 32.5 W\n",
      "[codecarbon INFO @ 19:51:51] 0.002187 kWh of electricity used since the begining.\n",
      "[codecarbon INFO @ 19:52:06] Energy consumed for RAM : 0.000126 kWh. RAM Power : 1.8548641204833987 W\n",
      "[codecarbon INFO @ 19:52:06] Energy consumed for all CPUs : 0.002205 kWh. All CPUs Power : 32.5 W\n",
      "[codecarbon INFO @ 19:52:06] 0.002330 kWh of electricity used since the begining.\n",
      "[codecarbon INFO @ 19:52:21] Energy consumed for RAM : 0.000133 kWh. RAM Power : 1.8548641204833987 W\n",
      "[codecarbon INFO @ 19:52:21] Energy consumed for all CPUs : 0.002340 kWh. All CPUs Power : 32.5 W\n",
      "[codecarbon INFO @ 19:52:21] 0.002474 kWh of electricity used since the begining.\n",
      "[codecarbon INFO @ 19:52:36] Energy consumed for RAM : 0.000141 kWh. RAM Power : 1.8548641204833987 W\n",
      "[codecarbon INFO @ 19:52:36] Energy consumed for all CPUs : 0.002476 kWh. All CPUs Power : 32.5 W\n",
      "[codecarbon INFO @ 19:52:36] 0.002617 kWh of electricity used since the begining.\n",
      "Run time of job \"Tracker._func_for_sched (trigger: interval[0:00:10], next run at: 2023-05-18 19:52:53 CEST)\" was missed by 0:00:01.979403\n",
      "[codecarbon INFO @ 19:52:53] Energy consumed for RAM : 0.000150 kWh. RAM Power : 1.8548641204833987 W\n",
      "[codecarbon INFO @ 19:52:53] Energy consumed for all CPUs : 0.002629 kWh. All CPUs Power : 32.5 W\n",
      "[codecarbon INFO @ 19:52:53] 0.002779 kWh of electricity used since the begining.\n",
      "[codecarbon INFO @ 19:53:09] Energy consumed for RAM : 0.000158 kWh. RAM Power : 1.8548641204833987 W\n",
      "[codecarbon INFO @ 19:53:09] Energy consumed for all CPUs : 0.002773 kWh. All CPUs Power : 32.5 W\n",
      "[codecarbon INFO @ 19:53:09] 0.002932 kWh of electricity used since the begining.\n",
      "[codecarbon INFO @ 19:53:24] Energy consumed for RAM : 0.000166 kWh. RAM Power : 1.8548641204833987 W\n",
      "[codecarbon INFO @ 19:53:24] Energy consumed for all CPUs : 0.002909 kWh. All CPUs Power : 32.5 W\n",
      "[codecarbon INFO @ 19:53:24] 0.003075 kWh of electricity used since the begining.\n",
      "[codecarbon INFO @ 19:53:40] Energy consumed for RAM : 0.000174 kWh. RAM Power : 1.8548641204833987 W\n",
      "[codecarbon INFO @ 19:53:40] Energy consumed for all CPUs : 0.003053 kWh. All CPUs Power : 32.5 W\n",
      "[codecarbon INFO @ 19:53:40] 0.003227 kWh of electricity used since the begining.\n",
      "[codecarbon INFO @ 19:53:48] Energy consumed for RAM : 0.000178 kWh. RAM Power : 1.8548641204833987 W\n",
      "[codecarbon INFO @ 19:53:48] Energy consumed for all CPUs : 0.003124 kWh. All CPUs Power : 32.5 W\n",
      "[codecarbon INFO @ 19:53:48] 0.003302 kWh of electricity used since the begining.\n"
     ]
    },
    {
     "name": "stdout",
     "output_type": "stream",
     "text": [
      "Best estimator MLP:  Pipeline(steps=[('scaler', StandardScaler()),\n",
      "                ('estimator',\n",
      "                 MLPClassifier(activation='tanh', alpha=0.05,\n",
      "                               hidden_layer_sizes=(100, 100, 100),\n",
      "                               learning_rate='adaptive', max_iter=500,\n",
      "                               solver='lbfgs'))])\n",
      "Precision:  0.9966044142614601\n",
      "Recall:  0.9982993197278912\n",
      "F1:  0.9974511469838572\n"
     ]
    }
   ],
   "source": [
    "df_benchmarking = benchmarking.create_benchmarking(X_train, y_train, X_test, y_test)"
   ],
   "metadata": {
    "collapsed": false,
    "ExecuteTime": {
     "end_time": "2023-05-18T17:53:48.822835633Z",
     "start_time": "2023-05-18T17:45:13.387236996Z"
    }
   }
  },
  {
   "cell_type": "code",
   "execution_count": 6,
   "outputs": [
    {
     "data": {
      "text/plain": "                Algoritmos  CodeCarbon (kWh)  Eco2AI (kWh)  Precision  \\\n0      Logistic Regression          0.000125      0.000192   1.000000   \n1            Random Forest          0.000666      0.000276   1.000000   \n2  Support Vector Machines          0.000617      0.000270   1.000000   \n3    Multilayer Perceptron          0.003302      0.005234   0.996604   \n\n     Recall   F Score  \n0  0.998299  0.999149  \n1  0.998299  0.999149  \n2  0.998299  0.999149  \n3  0.998299  0.997451  ",
      "text/html": "<div>\n<style scoped>\n    .dataframe tbody tr th:only-of-type {\n        vertical-align: middle;\n    }\n\n    .dataframe tbody tr th {\n        vertical-align: top;\n    }\n\n    .dataframe thead th {\n        text-align: right;\n    }\n</style>\n<table border=\"1\" class=\"dataframe\">\n  <thead>\n    <tr style=\"text-align: right;\">\n      <th></th>\n      <th>Algoritmos</th>\n      <th>CodeCarbon (kWh)</th>\n      <th>Eco2AI (kWh)</th>\n      <th>Precision</th>\n      <th>Recall</th>\n      <th>F Score</th>\n    </tr>\n  </thead>\n  <tbody>\n    <tr>\n      <th>0</th>\n      <td>Logistic Regression</td>\n      <td>0.000125</td>\n      <td>0.000192</td>\n      <td>1.000000</td>\n      <td>0.998299</td>\n      <td>0.999149</td>\n    </tr>\n    <tr>\n      <th>1</th>\n      <td>Random Forest</td>\n      <td>0.000666</td>\n      <td>0.000276</td>\n      <td>1.000000</td>\n      <td>0.998299</td>\n      <td>0.999149</td>\n    </tr>\n    <tr>\n      <th>2</th>\n      <td>Support Vector Machines</td>\n      <td>0.000617</td>\n      <td>0.000270</td>\n      <td>1.000000</td>\n      <td>0.998299</td>\n      <td>0.999149</td>\n    </tr>\n    <tr>\n      <th>3</th>\n      <td>Multilayer Perceptron</td>\n      <td>0.003302</td>\n      <td>0.005234</td>\n      <td>0.996604</td>\n      <td>0.998299</td>\n      <td>0.997451</td>\n    </tr>\n  </tbody>\n</table>\n</div>"
     },
     "execution_count": 6,
     "metadata": {},
     "output_type": "execute_result"
    }
   ],
   "source": [
    "df_benchmarking"
   ],
   "metadata": {
    "collapsed": false,
    "ExecuteTime": {
     "end_time": "2023-05-18T17:53:48.884814955Z",
     "start_time": "2023-05-18T17:53:48.828010213Z"
    }
   }
  },
  {
   "cell_type": "markdown",
   "source": [
    "## Save benchmarking's DataFrame in csv file"
   ],
   "metadata": {
    "collapsed": false
   }
  },
  {
   "cell_type": "code",
   "execution_count": 7,
   "outputs": [],
   "source": [
    "preprocess.save_in_csv_file(df_benchmarking, 'benchmarking.csv')"
   ],
   "metadata": {
    "collapsed": false,
    "ExecuteTime": {
     "end_time": "2023-05-18T17:53:48.993957446Z",
     "start_time": "2023-05-18T17:53:48.863650438Z"
    }
   }
  },
  {
   "cell_type": "markdown",
   "source": [
    "## Graphics"
   ],
   "metadata": {
    "collapsed": false
   }
  },
  {
   "cell_type": "code",
   "execution_count": 8,
   "outputs": [
    {
     "data": {
      "text/plain": "<Figure size 1000x700 with 2 Axes>",
      "image/png": "[encoded data removed]"
     },
     "metadata": {},
     "output_type": "display_data"
    }
   ],
   "source": [
    "graphics.plot_models_energy_consumed(df_benchmarking)"
   ],
   "metadata": {
    "collapsed": false,
    "ExecuteTime": {
     "end_time": "2023-05-18T17:53:49.579298069Z",
     "start_time": "2023-05-18T17:53:48.979075422Z"
    }
   }
  },
  {
   "cell_type": "code",
   "execution_count": 9,
   "outputs": [
    {
     "ename": "ValueError",
     "evalue": "x and y must have same first dimension, but have shapes (4,) and (0,)",
     "output_type": "error",
     "traceback": [
      "\u001B[0;31m---------------------------------------------------------------------------\u001B[0m",
      "\u001B[0;31mValueError\u001B[0m                                Traceback (most recent call last)",
      "Cell \u001B[0;32mIn[9], line 1\u001B[0m\n\u001B[0;32m----> 1\u001B[0m \u001B[43mgraphics\u001B[49m\u001B[38;5;241;43m.\u001B[39;49m\u001B[43mplot_energy_consumed_and_fscore\u001B[49m\u001B[43m(\u001B[49m\u001B[43mdf_benchmarking\u001B[49m\u001B[43m)\u001B[49m\n",
      "File \u001B[0;32m~/TFG-Project/modules/graphics.py:49\u001B[0m, in \u001B[0;36mplot_energy_consumed_and_fscore\u001B[0;34m(df_benchmarking)\u001B[0m\n\u001B[1;32m     46\u001B[0m fig, ax \u001B[38;5;241m=\u001B[39m plt\u001B[38;5;241m.\u001B[39msubplots(\u001B[38;5;241m2\u001B[39m, \u001B[38;5;241m1\u001B[39m, figsize\u001B[38;5;241m=\u001B[39m(\u001B[38;5;241m10\u001B[39m, \u001B[38;5;241m7\u001B[39m))\n\u001B[1;32m     47\u001B[0m fig\u001B[38;5;241m.\u001B[39msubplots_adjust(hspace\u001B[38;5;241m=\u001B[39m\u001B[38;5;241m0.5\u001B[39m)\n\u001B[0;32m---> 49\u001B[0m \u001B[43max\u001B[49m\u001B[43m[\u001B[49m\u001B[38;5;241;43m0\u001B[39;49m\u001B[43m]\u001B[49m\u001B[38;5;241;43m.\u001B[39;49m\u001B[43mplot\u001B[49m\u001B[43m(\u001B[49m\u001B[43mcodecarbon_energy\u001B[49m\u001B[43m,\u001B[49m\u001B[43m \u001B[49m\u001B[43m[\u001B[49m\u001B[43m]\u001B[49m\u001B[43m,\u001B[49m\u001B[43m \u001B[49m\u001B[43mcolor\u001B[49m\u001B[38;5;241;43m=\u001B[39;49m\u001B[38;5;124;43m'\u001B[39;49m\u001B[38;5;124;43mgreen\u001B[39;49m\u001B[38;5;124;43m'\u001B[39;49m\u001B[43m,\u001B[49m\u001B[43m \u001B[49m\u001B[43mmarker\u001B[49m\u001B[38;5;241;43m=\u001B[39;49m\u001B[38;5;124;43m'\u001B[39;49m\u001B[38;5;124;43mo\u001B[39;49m\u001B[38;5;124;43m'\u001B[39;49m\u001B[43m)\u001B[49m\n\u001B[1;32m     50\u001B[0m ax[\u001B[38;5;241m0\u001B[39m]\u001B[38;5;241m.\u001B[39mset_xlabel(\u001B[38;5;124m'\u001B[39m\u001B[38;5;124mEnergía consumida (kWh)\u001B[39m\u001B[38;5;124m'\u001B[39m)\n\u001B[1;32m     51\u001B[0m ax[\u001B[38;5;241m0\u001B[39m]\u001B[38;5;241m.\u001B[39mset_ylabel(\u001B[38;5;124m'\u001B[39m\u001B[38;5;124mF Score\u001B[39m\u001B[38;5;124m'\u001B[39m)\n",
      "File \u001B[0;32m~/miniconda3/envs/TFG/lib/python3.10/site-packages/matplotlib/axes/_axes.py:1662\u001B[0m, in \u001B[0;36mAxes.plot\u001B[0;34m(self, scalex, scaley, data, *args, **kwargs)\u001B[0m\n\u001B[1;32m   1419\u001B[0m \u001B[38;5;124;03m\"\"\"\u001B[39;00m\n\u001B[1;32m   1420\u001B[0m \u001B[38;5;124;03mPlot y versus x as lines and/or markers.\u001B[39;00m\n\u001B[1;32m   1421\u001B[0m \n\u001B[0;32m   (...)\u001B[0m\n\u001B[1;32m   1659\u001B[0m \u001B[38;5;124;03m(``'green'``) or hex strings (``'#008000'``).\u001B[39;00m\n\u001B[1;32m   1660\u001B[0m \u001B[38;5;124;03m\"\"\"\u001B[39;00m\n\u001B[1;32m   1661\u001B[0m kwargs \u001B[38;5;241m=\u001B[39m cbook\u001B[38;5;241m.\u001B[39mnormalize_kwargs(kwargs, mlines\u001B[38;5;241m.\u001B[39mLine2D)\n\u001B[0;32m-> 1662\u001B[0m lines \u001B[38;5;241m=\u001B[39m [\u001B[38;5;241m*\u001B[39m\u001B[38;5;28mself\u001B[39m\u001B[38;5;241m.\u001B[39m_get_lines(\u001B[38;5;241m*\u001B[39margs, data\u001B[38;5;241m=\u001B[39mdata, \u001B[38;5;241m*\u001B[39m\u001B[38;5;241m*\u001B[39mkwargs)]\n\u001B[1;32m   1663\u001B[0m \u001B[38;5;28;01mfor\u001B[39;00m line \u001B[38;5;129;01min\u001B[39;00m lines:\n\u001B[1;32m   1664\u001B[0m     \u001B[38;5;28mself\u001B[39m\u001B[38;5;241m.\u001B[39madd_line(line)\n",
      "File \u001B[0;32m~/miniconda3/envs/TFG/lib/python3.10/site-packages/matplotlib/axes/_base.py:311\u001B[0m, in \u001B[0;36m_process_plot_var_args.__call__\u001B[0;34m(self, data, *args, **kwargs)\u001B[0m\n\u001B[1;32m    309\u001B[0m     this \u001B[38;5;241m+\u001B[39m\u001B[38;5;241m=\u001B[39m args[\u001B[38;5;241m0\u001B[39m],\n\u001B[1;32m    310\u001B[0m     args \u001B[38;5;241m=\u001B[39m args[\u001B[38;5;241m1\u001B[39m:]\n\u001B[0;32m--> 311\u001B[0m \u001B[38;5;28;01myield from\u001B[39;00m \u001B[38;5;28;43mself\u001B[39;49m\u001B[38;5;241;43m.\u001B[39;49m\u001B[43m_plot_args\u001B[49m\u001B[43m(\u001B[49m\n\u001B[1;32m    312\u001B[0m \u001B[43m    \u001B[49m\u001B[43mthis\u001B[49m\u001B[43m,\u001B[49m\u001B[43m \u001B[49m\u001B[43mkwargs\u001B[49m\u001B[43m,\u001B[49m\u001B[43m \u001B[49m\u001B[43mambiguous_fmt_datakey\u001B[49m\u001B[38;5;241;43m=\u001B[39;49m\u001B[43mambiguous_fmt_datakey\u001B[49m\u001B[43m)\u001B[49m\n",
      "File \u001B[0;32m~/miniconda3/envs/TFG/lib/python3.10/site-packages/matplotlib/axes/_base.py:504\u001B[0m, in \u001B[0;36m_process_plot_var_args._plot_args\u001B[0;34m(self, tup, kwargs, return_kwargs, ambiguous_fmt_datakey)\u001B[0m\n\u001B[1;32m    501\u001B[0m     \u001B[38;5;28mself\u001B[39m\u001B[38;5;241m.\u001B[39maxes\u001B[38;5;241m.\u001B[39myaxis\u001B[38;5;241m.\u001B[39mupdate_units(y)\n\u001B[1;32m    503\u001B[0m \u001B[38;5;28;01mif\u001B[39;00m x\u001B[38;5;241m.\u001B[39mshape[\u001B[38;5;241m0\u001B[39m] \u001B[38;5;241m!=\u001B[39m y\u001B[38;5;241m.\u001B[39mshape[\u001B[38;5;241m0\u001B[39m]:\n\u001B[0;32m--> 504\u001B[0m     \u001B[38;5;28;01mraise\u001B[39;00m \u001B[38;5;167;01mValueError\u001B[39;00m(\u001B[38;5;124mf\u001B[39m\u001B[38;5;124m\"\u001B[39m\u001B[38;5;124mx and y must have same first dimension, but \u001B[39m\u001B[38;5;124m\"\u001B[39m\n\u001B[1;32m    505\u001B[0m                      \u001B[38;5;124mf\u001B[39m\u001B[38;5;124m\"\u001B[39m\u001B[38;5;124mhave shapes \u001B[39m\u001B[38;5;132;01m{\u001B[39;00mx\u001B[38;5;241m.\u001B[39mshape\u001B[38;5;132;01m}\u001B[39;00m\u001B[38;5;124m and \u001B[39m\u001B[38;5;132;01m{\u001B[39;00my\u001B[38;5;241m.\u001B[39mshape\u001B[38;5;132;01m}\u001B[39;00m\u001B[38;5;124m\"\u001B[39m)\n\u001B[1;32m    506\u001B[0m \u001B[38;5;28;01mif\u001B[39;00m x\u001B[38;5;241m.\u001B[39mndim \u001B[38;5;241m>\u001B[39m \u001B[38;5;241m2\u001B[39m \u001B[38;5;129;01mor\u001B[39;00m y\u001B[38;5;241m.\u001B[39mndim \u001B[38;5;241m>\u001B[39m \u001B[38;5;241m2\u001B[39m:\n\u001B[1;32m    507\u001B[0m     \u001B[38;5;28;01mraise\u001B[39;00m \u001B[38;5;167;01mValueError\u001B[39;00m(\u001B[38;5;124mf\u001B[39m\u001B[38;5;124m\"\u001B[39m\u001B[38;5;124mx and y can be no greater than 2D, but have \u001B[39m\u001B[38;5;124m\"\u001B[39m\n\u001B[1;32m    508\u001B[0m                      \u001B[38;5;124mf\u001B[39m\u001B[38;5;124m\"\u001B[39m\u001B[38;5;124mshapes \u001B[39m\u001B[38;5;132;01m{\u001B[39;00mx\u001B[38;5;241m.\u001B[39mshape\u001B[38;5;132;01m}\u001B[39;00m\u001B[38;5;124m and \u001B[39m\u001B[38;5;132;01m{\u001B[39;00my\u001B[38;5;241m.\u001B[39mshape\u001B[38;5;132;01m}\u001B[39;00m\u001B[38;5;124m\"\u001B[39m)\n",
      "\u001B[0;31mValueError\u001B[0m: x and y must have same first dimension, but have shapes (4,) and (0,)"
     ]
    },
    {
     "data": {
      "text/plain": "<Figure size 1000x700 with 2 Axes>",
      "image/png": "[encoded data removed]"
     },
     "metadata": {},
     "output_type": "display_data"
    }
   ],
   "source": [
    "graphics.plot_energy_consumed_and_fscore(df_benchmarking)"
   ],
   "metadata": {
    "collapsed": false,
    "ExecuteTime": {
     "end_time": "2023-05-18T17:53:51.003128464Z",
     "start_time": "2023-05-18T17:53:49.587246659Z"
    }
   }
  }
 ],
 "metadata": {
  "kernelspec": {
   "display_name": "Python 3",
   "language": "python",
   "name": "python3"
  },
  "language_info": {
   "codemirror_mode": {
    "name": "ipython",
    "version": 2
   },
   "file_extension": ".py",
   "mimetype": "text/x-python",
   "name": "python",
   "nbconvert_exporter": "python",
   "pygments_lexer": "ipython2",
   "version": "2.7.6"
  }
 },
 "nbformat": 4,
 "nbformat_minor": 0
}
