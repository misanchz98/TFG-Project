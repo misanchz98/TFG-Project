{
 "cells": [
  {
   "cell_type": "markdown",
   "source": [
    "# 1. Import packages"
   ],
   "metadata": {
    "collapsed": false
   }
  },
  {
   "cell_type": "code",
   "execution_count": 1,
   "outputs": [
    {
     "name": "stdout",
     "output_type": "stream",
     "text": [
      "Invoking __init__.py for modules\n"
     ]
    }
   ],
   "source": [
    "import sys\n",
    "sys.path.append('..')\n",
    "from modules import preprocess, benchmarking, graphics"
   ],
   "metadata": {
    "collapsed": false,
    "ExecuteTime": {
     "end_time": "2023-06-21T16:14:44.516543239Z",
     "start_time": "2023-06-21T16:14:41.760015643Z"
    }
   }
  },
  {
   "cell_type": "markdown",
   "source": [
    "# 2. Load dataset"
   ],
   "metadata": {
    "collapsed": false
   }
  },
  {
   "cell_type": "code",
   "execution_count": 2,
   "outputs": [],
   "source": [
    "df = preprocess.load_csv_data('../dataset/Occupancy_Estimation.csv')"
   ],
   "metadata": {
    "collapsed": false,
    "ExecuteTime": {
     "end_time": "2023-06-21T16:14:44.601089660Z",
     "start_time": "2023-06-21T16:14:44.521983337Z"
    }
   }
  },
  {
   "cell_type": "markdown",
   "source": [
    "# 3. Data preprocessing\n",
    "- Step 1: Transform features\n",
    "  - Binary results for Room_Occupancy_Count\n",
    "  - Drop Date and Time features\n",
    "- Step 2: Clean data\n",
    "  - Drop duplicated rows"
   ],
   "metadata": {
    "collapsed": false
   }
  },
  {
   "cell_type": "code",
   "execution_count": 3,
   "outputs": [
    {
     "data": {
      "text/plain": "   S1_Temp  S2_Temp  S3_Temp  S4_Temp  S1_Light  S2_Light  S3_Light  S4_Light  \\\n0    24.94    24.75    24.56    25.38       121        34        53        40   \n1    24.94    24.75    24.56    25.44       121        33        53        40   \n2    25.00    24.75    24.50    25.44       121        34        53        40   \n3    25.00    24.75    24.56    25.44       121        34        53        40   \n4    25.00    24.75    24.56    25.44       121        34        54        40   \n\n   S1_Sound  S2_Sound  S3_Sound  S4_Sound  S5_CO2  S5_CO2_Slope  S6_PIR  \\\n0      0.08      0.19      0.06      0.06     390      0.769231       0   \n1      0.93      0.05      0.06      0.06     390      0.646154       0   \n2      0.43      0.11      0.08      0.06     390      0.519231       0   \n3      0.41      0.10      0.10      0.09     390      0.388462       0   \n4      0.18      0.06      0.06      0.06     390      0.253846       0   \n\n   S7_PIR  Room_Occupancy_Count  \n0       0                     1  \n1       0                     1  \n2       0                     1  \n3       0                     1  \n4       0                     1  ",
      "text/html": "<div>\n<style scoped>\n    .dataframe tbody tr th:only-of-type {\n        vertical-align: middle;\n    }\n\n    .dataframe tbody tr th {\n        vertical-align: top;\n    }\n\n    .dataframe thead th {\n        text-align: right;\n    }\n</style>\n<table border=\"1\" class=\"dataframe\">\n  <thead>\n    <tr style=\"text-align: right;\">\n      <th></th>\n      <th>S1_Temp</th>\n      <th>S2_Temp</th>\n      <th>S3_Temp</th>\n      <th>S4_Temp</th>\n      <th>S1_Light</th>\n      <th>S2_Light</th>\n      <th>S3_Light</th>\n      <th>S4_Light</th>\n      <th>S1_Sound</th>\n      <th>S2_Sound</th>\n      <th>S3_Sound</th>\n      <th>S4_Sound</th>\n      <th>S5_CO2</th>\n      <th>S5_CO2_Slope</th>\n      <th>S6_PIR</th>\n      <th>S7_PIR</th>\n      <th>Room_Occupancy_Count</th>\n    </tr>\n  </thead>\n  <tbody>\n    <tr>\n      <th>0</th>\n      <td>24.94</td>\n      <td>24.75</td>\n      <td>24.56</td>\n      <td>25.38</td>\n      <td>121</td>\n      <td>34</td>\n      <td>53</td>\n      <td>40</td>\n      <td>0.08</td>\n      <td>0.19</td>\n      <td>0.06</td>\n      <td>0.06</td>\n      <td>390</td>\n      <td>0.769231</td>\n      <td>0</td>\n      <td>0</td>\n      <td>1</td>\n    </tr>\n    <tr>\n      <th>1</th>\n      <td>24.94</td>\n      <td>24.75</td>\n      <td>24.56</td>\n      <td>25.44</td>\n      <td>121</td>\n      <td>33</td>\n      <td>53</td>\n      <td>40</td>\n      <td>0.93</td>\n      <td>0.05</td>\n      <td>0.06</td>\n      <td>0.06</td>\n      <td>390</td>\n      <td>0.646154</td>\n      <td>0</td>\n      <td>0</td>\n      <td>1</td>\n    </tr>\n    <tr>\n      <th>2</th>\n      <td>25.00</td>\n      <td>24.75</td>\n      <td>24.50</td>\n      <td>25.44</td>\n      <td>121</td>\n      <td>34</td>\n      <td>53</td>\n      <td>40</td>\n      <td>0.43</td>\n      <td>0.11</td>\n      <td>0.08</td>\n      <td>0.06</td>\n      <td>390</td>\n      <td>0.519231</td>\n      <td>0</td>\n      <td>0</td>\n      <td>1</td>\n    </tr>\n    <tr>\n      <th>3</th>\n      <td>25.00</td>\n      <td>24.75</td>\n      <td>24.56</td>\n      <td>25.44</td>\n      <td>121</td>\n      <td>34</td>\n      <td>53</td>\n      <td>40</td>\n      <td>0.41</td>\n      <td>0.10</td>\n      <td>0.10</td>\n      <td>0.09</td>\n      <td>390</td>\n      <td>0.388462</td>\n      <td>0</td>\n      <td>0</td>\n      <td>1</td>\n    </tr>\n    <tr>\n      <th>4</th>\n      <td>25.00</td>\n      <td>24.75</td>\n      <td>24.56</td>\n      <td>25.44</td>\n      <td>121</td>\n      <td>34</td>\n      <td>54</td>\n      <td>40</td>\n      <td>0.18</td>\n      <td>0.06</td>\n      <td>0.06</td>\n      <td>0.06</td>\n      <td>390</td>\n      <td>0.253846</td>\n      <td>0</td>\n      <td>0</td>\n      <td>1</td>\n    </tr>\n  </tbody>\n</table>\n</div>"
     },
     "execution_count": 3,
     "metadata": {},
     "output_type": "execute_result"
    }
   ],
   "source": [
    "# Step 1: Recode Room_Occupancy_Count column\n",
    "preprocess.recode_dataset_output(df)\n",
    "\n",
    "# Step 2: Filter Date and Time columns\n",
    "preprocess.remove_time_columns(df)\n",
    "\n",
    "df.head()"
   ],
   "metadata": {
    "collapsed": false,
    "ExecuteTime": {
     "end_time": "2023-06-21T16:14:44.683803600Z",
     "start_time": "2023-06-21T16:14:44.638235282Z"
    }
   }
  },
  {
   "cell_type": "markdown",
   "source": [
    "# 4. Benchmarking"
   ],
   "metadata": {
    "collapsed": false
   }
  },
  {
   "cell_type": "code",
   "execution_count": 4,
   "outputs": [],
   "source": [
    "# Split dataset into features and output\n",
    "X = preprocess.get_features(df)\n",
    "y = preprocess.get_output(df)\n",
    "\n",
    "# Split dataset into training and test\n",
    "X_train, X_test, y_train, y_test = preprocess.split_dataset(X, y)"
   ],
   "metadata": {
    "collapsed": false,
    "ExecuteTime": {
     "end_time": "2023-06-21T16:14:44.694175298Z",
     "start_time": "2023-06-21T16:14:44.673908389Z"
    }
   }
  },
  {
   "cell_type": "markdown",
   "source": [
    "## Create benchmarking Dataframe:\n",
    "- Create benchmarking's df structure.\n",
    "- Track models training with CodeCarbon and Eco2AI.\n",
    "- Store in benchmarking's df tracking results.\n",
    "- Store in benchmarking's df evaluation metrics."
   ],
   "metadata": {
    "collapsed": false
   }
  },
  {
   "cell_type": "code",
   "execution_count": 5,
   "outputs": [
    {
     "name": "stderr",
     "output_type": "stream",
     "text": [
      "[codecarbon INFO @ 18:14:44] [setup] RAM Tracking...\n",
      "[codecarbon INFO @ 18:14:44] [setup] GPU Tracking...\n",
      "[codecarbon INFO @ 18:14:44] No GPU found.\n",
      "[codecarbon INFO @ 18:14:44] [setup] CPU Tracking...\n",
      "[codecarbon WARNING @ 18:14:44] No CPU tracking mode found. Falling back on CPU constant mode.\n",
      "[codecarbon INFO @ 18:14:46] CPU Model on constant consumption mode: Intel(R) Core(TM) i5-9400F CPU @ 2.90GHz\n",
      "[codecarbon INFO @ 18:14:46] >>> Tracker's metadata:\n",
      "[codecarbon INFO @ 18:14:46]   Platform system: Linux-5.19.0-43-generic-x86_64-with-glibc2.35\n",
      "[codecarbon INFO @ 18:14:46]   Python version: 3.10.8\n",
      "[codecarbon INFO @ 18:14:46]   Available RAM : 4.946 GB\n",
      "[codecarbon INFO @ 18:14:46]   CPU count: 4\n",
      "[codecarbon INFO @ 18:14:46]   CPU model: Intel(R) Core(TM) i5-9400F CPU @ 2.90GHz\n",
      "[codecarbon INFO @ 18:14:46]   GPU count: None\n",
      "[codecarbon INFO @ 18:14:46]   GPU model: None\n"
     ]
    },
    {
     "name": "stdout",
     "output_type": "stream",
     "text": [
      "Fitting 5 folds for each of 120 candidates, totalling 600 fits\n"
     ]
    },
    {
     "name": "stderr",
     "output_type": "stream",
     "text": [
      "[codecarbon INFO @ 18:15:05] Energy consumed for RAM : 0.000000 kWh. RAM Power : 0.08471488952636719 W\n",
      "[codecarbon INFO @ 18:15:05] Energy consumed for all CPUs : 0.000138 kWh. All CPUs Power : 32.5 W\n",
      "[codecarbon INFO @ 18:15:05] 0.000139 kWh of electricity used since the begining.\n",
      "[codecarbon INFO @ 18:15:19] Energy consumed for RAM : 0.000001 kWh. RAM Power : 0.08490514755249023 W\n",
      "[codecarbon INFO @ 18:15:19] Energy consumed for all CPUs : 0.000270 kWh. All CPUs Power : 32.5 W\n",
      "[codecarbon INFO @ 18:15:19] 0.000271 kWh of electricity used since the begining.\n",
      "[codecarbon INFO @ 18:15:19] [setup] RAM Tracking...\n",
      "[codecarbon INFO @ 18:15:19] [setup] GPU Tracking...\n",
      "[codecarbon INFO @ 18:15:19] No GPU found.\n",
      "[codecarbon INFO @ 18:15:19] [setup] CPU Tracking...\n",
      "[codecarbon WARNING @ 18:15:19] No CPU tracking mode found. Falling back on CPU constant mode.\n"
     ]
    },
    {
     "name": "stdout",
     "output_type": "stream",
     "text": [
      "Best estimator LR:  Pipeline(steps=[('scaler', RobustScaler()),\n",
      "                ('estimator',\n",
      "                 LogisticRegression(C=78.47599703514607, max_iter=400,\n",
      "                                    penalty='l1', solver='liblinear'))])\n",
      "<class 'numpy.float64'>\n",
      "<class 'numpy.float64'>\n",
      "<class 'numpy.float64'>\n",
      "Precision:  1.0\n",
      "Recall:  0.9982993197278912\n",
      "F1:  0.9991489361702128\n"
     ]
    },
    {
     "name": "stderr",
     "output_type": "stream",
     "text": [
      "[codecarbon INFO @ 18:15:21] CPU Model on constant consumption mode: Intel(R) Core(TM) i5-9400F CPU @ 2.90GHz\n",
      "[codecarbon INFO @ 18:15:21] >>> Tracker's metadata:\n",
      "[codecarbon INFO @ 18:15:21]   Platform system: Linux-5.19.0-43-generic-x86_64-with-glibc2.35\n",
      "[codecarbon INFO @ 18:15:21]   Python version: 3.10.8\n",
      "[codecarbon INFO @ 18:15:21]   Available RAM : 4.946 GB\n",
      "[codecarbon INFO @ 18:15:21]   CPU count: 4\n",
      "[codecarbon INFO @ 18:15:21]   CPU model: Intel(R) Core(TM) i5-9400F CPU @ 2.90GHz\n",
      "[codecarbon INFO @ 18:15:21]   GPU count: None\n",
      "[codecarbon INFO @ 18:15:21]   GPU model: None\n"
     ]
    },
    {
     "name": "stdout",
     "output_type": "stream",
     "text": [
      "Fitting 5 folds for each of 10 candidates, totalling 50 fits\n"
     ]
    },
    {
     "name": "stderr",
     "output_type": "stream",
     "text": [
      "[codecarbon INFO @ 18:15:39] Energy consumed for RAM : 0.000000 kWh. RAM Power : 0.08538436889648438 W\n",
      "[codecarbon INFO @ 18:15:39] Energy consumed for all CPUs : 0.000136 kWh. All CPUs Power : 32.5 W\n",
      "[codecarbon INFO @ 18:15:39] 0.000136 kWh of electricity used since the begining.\n",
      "[codecarbon INFO @ 18:15:54] Energy consumed for RAM : 0.000001 kWh. RAM Power : 0.08544301986694336 W\n",
      "[codecarbon INFO @ 18:15:54] Energy consumed for all CPUs : 0.000272 kWh. All CPUs Power : 32.5 W\n",
      "[codecarbon INFO @ 18:15:54] 0.000272 kWh of electricity used since the begining.\n",
      "[codecarbon INFO @ 18:16:09] Energy consumed for RAM : 0.000001 kWh. RAM Power : 0.08559465408325195 W\n",
      "[codecarbon INFO @ 18:16:10] Energy consumed for all CPUs : 0.000409 kWh. All CPUs Power : 32.5 W\n",
      "[codecarbon INFO @ 18:16:10] 0.000410 kWh of electricity used since the begining.\n",
      "[codecarbon INFO @ 18:16:17] Energy consumed for RAM : 0.000001 kWh. RAM Power : 0.08566045761108398 W\n",
      "[codecarbon INFO @ 18:16:17] Energy consumed for all CPUs : 0.000477 kWh. All CPUs Power : 32.5 W\n",
      "[codecarbon INFO @ 18:16:17] 0.000478 kWh of electricity used since the begining.\n",
      "[codecarbon INFO @ 18:16:18] [setup] RAM Tracking...\n",
      "[codecarbon INFO @ 18:16:18] [setup] GPU Tracking...\n",
      "[codecarbon INFO @ 18:16:18] No GPU found.\n",
      "[codecarbon INFO @ 18:16:18] [setup] CPU Tracking...\n",
      "[codecarbon WARNING @ 18:16:18] No CPU tracking mode found. Falling back on CPU constant mode.\n"
     ]
    },
    {
     "name": "stdout",
     "output_type": "stream",
     "text": [
      "Best estimator RF:  RandomForestClassifier(bootstrap=False, max_depth=80, max_features=3,\n",
      "                       min_samples_leaf=4, min_samples_split=10,\n",
      "                       n_estimators=200)\n",
      "<class 'numpy.float64'>\n",
      "<class 'numpy.float64'>\n",
      "<class 'numpy.float64'>\n",
      "Precision:  1.0\n",
      "Recall:  0.9982993197278912\n",
      "F1:  0.9991489361702128\n"
     ]
    },
    {
     "name": "stderr",
     "output_type": "stream",
     "text": [
      "[codecarbon INFO @ 18:16:19] CPU Model on constant consumption mode: Intel(R) Core(TM) i5-9400F CPU @ 2.90GHz\n",
      "[codecarbon INFO @ 18:16:19] >>> Tracker's metadata:\n",
      "[codecarbon INFO @ 18:16:19]   Platform system: Linux-5.19.0-43-generic-x86_64-with-glibc2.35\n",
      "[codecarbon INFO @ 18:16:19]   Python version: 3.10.8\n",
      "[codecarbon INFO @ 18:16:19]   Available RAM : 4.946 GB\n",
      "[codecarbon INFO @ 18:16:19]   CPU count: 4\n",
      "[codecarbon INFO @ 18:16:19]   CPU model: Intel(R) Core(TM) i5-9400F CPU @ 2.90GHz\n",
      "[codecarbon INFO @ 18:16:19]   GPU count: None\n",
      "[codecarbon INFO @ 18:16:19]   GPU model: None\n"
     ]
    },
    {
     "name": "stdout",
     "output_type": "stream",
     "text": [
      "Fitting 5 folds for each of 25 candidates, totalling 125 fits\n"
     ]
    },
    {
     "name": "stderr",
     "output_type": "stream",
     "text": [
      "[codecarbon INFO @ 18:16:37] Energy consumed for RAM : 0.000000 kWh. RAM Power : 0.08881759643554688 W\n",
      "[codecarbon INFO @ 18:16:37] Energy consumed for all CPUs : 0.000136 kWh. All CPUs Power : 32.5 W\n",
      "[codecarbon INFO @ 18:16:37] 0.000136 kWh of electricity used since the begining.\n",
      "[codecarbon INFO @ 18:16:52] Energy consumed for RAM : 0.000001 kWh. RAM Power : 0.10197257995605469 W\n",
      "[codecarbon INFO @ 18:16:52] Energy consumed for all CPUs : 0.000271 kWh. All CPUs Power : 32.5 W\n",
      "[codecarbon INFO @ 18:16:52] 0.000272 kWh of electricity used since the begining.\n",
      "[codecarbon INFO @ 18:17:07] Energy consumed for RAM : 0.000001 kWh. RAM Power : 0.09093761444091797 W\n",
      "[codecarbon INFO @ 18:17:07] Energy consumed for all CPUs : 0.000406 kWh. All CPUs Power : 32.5 W\n",
      "[codecarbon INFO @ 18:17:07] 0.000408 kWh of electricity used since the begining.\n",
      "[codecarbon INFO @ 18:17:22] Energy consumed for RAM : 0.000002 kWh. RAM Power : 0.09878396987915039 W\n",
      "[codecarbon INFO @ 18:17:22] Energy consumed for all CPUs : 0.000542 kWh. All CPUs Power : 32.5 W\n",
      "[codecarbon INFO @ 18:17:22] 0.000543 kWh of electricity used since the begining.\n",
      "[codecarbon INFO @ 18:17:30] Energy consumed for RAM : 0.000002 kWh. RAM Power : 0.08710670471191408 W\n",
      "[codecarbon INFO @ 18:17:30] Energy consumed for all CPUs : 0.000607 kWh. All CPUs Power : 32.5 W\n",
      "[codecarbon INFO @ 18:17:30] 0.000609 kWh of electricity used since the begining.\n",
      "[codecarbon INFO @ 18:17:30] [setup] RAM Tracking...\n",
      "[codecarbon INFO @ 18:17:30] [setup] GPU Tracking...\n",
      "[codecarbon INFO @ 18:17:30] No GPU found.\n",
      "[codecarbon INFO @ 18:17:30] [setup] CPU Tracking...\n",
      "[codecarbon WARNING @ 18:17:30] No CPU tracking mode found. Falling back on CPU constant mode.\n"
     ]
    },
    {
     "name": "stdout",
     "output_type": "stream",
     "text": [
      "Best estimator SVM:  SVC(C=1, gamma=0.001)\n",
      "<class 'numpy.float64'>\n",
      "<class 'numpy.float64'>\n",
      "<class 'numpy.float64'>\n",
      "Precision:  1.0\n",
      "Recall:  0.9982993197278912\n",
      "F1:  0.9991489361702128\n"
     ]
    },
    {
     "name": "stderr",
     "output_type": "stream",
     "text": [
      "[codecarbon INFO @ 18:17:31] CPU Model on constant consumption mode: Intel(R) Core(TM) i5-9400F CPU @ 2.90GHz\n",
      "[codecarbon INFO @ 18:17:31] >>> Tracker's metadata:\n",
      "[codecarbon INFO @ 18:17:31]   Platform system: Linux-5.19.0-43-generic-x86_64-with-glibc2.35\n",
      "[codecarbon INFO @ 18:17:31]   Python version: 3.10.8\n",
      "[codecarbon INFO @ 18:17:31]   Available RAM : 4.946 GB\n",
      "[codecarbon INFO @ 18:17:31]   CPU count: 4\n",
      "[codecarbon INFO @ 18:17:31]   CPU model: Intel(R) Core(TM) i5-9400F CPU @ 2.90GHz\n",
      "[codecarbon INFO @ 18:17:31]   GPU count: None\n",
      "[codecarbon INFO @ 18:17:31]   GPU model: None\n"
     ]
    },
    {
     "name": "stdout",
     "output_type": "stream",
     "text": [
      "Fitting 5 folds for each of 10 candidates, totalling 50 fits\n"
     ]
    },
    {
     "name": "stderr",
     "output_type": "stream",
     "text": [
      "[codecarbon INFO @ 18:17:50] Energy consumed for RAM : 0.000000 kWh. RAM Power : 0.08711957931518555 W\n",
      "[codecarbon INFO @ 18:17:50] Energy consumed for all CPUs : 0.000137 kWh. All CPUs Power : 32.5 W\n",
      "[codecarbon INFO @ 18:17:50] 0.000137 kWh of electricity used since the begining.\n",
      "[codecarbon INFO @ 18:18:05] Energy consumed for RAM : 0.000001 kWh. RAM Power : 0.08747291564941408 W\n",
      "[codecarbon INFO @ 18:18:05] Energy consumed for all CPUs : 0.000273 kWh. All CPUs Power : 32.5 W\n",
      "[codecarbon INFO @ 18:18:05] 0.000273 kWh of electricity used since the begining.\n",
      "[codecarbon INFO @ 18:18:20] Energy consumed for RAM : 0.000001 kWh. RAM Power : 0.08748006820678711 W\n",
      "[codecarbon INFO @ 18:18:20] Energy consumed for all CPUs : 0.000408 kWh. All CPUs Power : 32.5 W\n",
      "[codecarbon INFO @ 18:18:20] 0.000409 kWh of electricity used since the begining.\n",
      "[codecarbon INFO @ 18:18:35] Energy consumed for RAM : 0.000001 kWh. RAM Power : 0.08748006820678711 W\n",
      "[codecarbon INFO @ 18:18:35] Energy consumed for all CPUs : 0.000549 kWh. All CPUs Power : 32.5 W\n",
      "[codecarbon INFO @ 18:18:35] 0.000550 kWh of electricity used since the begining.\n",
      "[codecarbon INFO @ 18:18:51] Energy consumed for RAM : 0.000002 kWh. RAM Power : 0.09015941619873047 W\n",
      "[codecarbon INFO @ 18:18:51] Energy consumed for all CPUs : 0.000689 kWh. All CPUs Power : 32.5 W\n",
      "[codecarbon INFO @ 18:18:51] 0.000691 kWh of electricity used since the begining.\n",
      "[codecarbon INFO @ 18:19:06] Energy consumed for RAM : 0.000002 kWh. RAM Power : 0.08913230895996094 W\n",
      "[codecarbon INFO @ 18:19:06] Energy consumed for all CPUs : 0.000828 kWh. All CPUs Power : 32.5 W\n",
      "[codecarbon INFO @ 18:19:06] 0.000830 kWh of electricity used since the begining.\n",
      "[codecarbon INFO @ 18:19:21] Energy consumed for RAM : 0.000003 kWh. RAM Power : 0.090146541595459 W\n",
      "[codecarbon INFO @ 18:19:21] Energy consumed for all CPUs : 0.000964 kWh. All CPUs Power : 32.5 W\n",
      "[codecarbon INFO @ 18:19:21] 0.000966 kWh of electricity used since the begining.\n",
      "Run time of job \"Tracker._func_for_sched (trigger: interval[0:00:15], next run at: 2023-06-21 18:19:51 CEST)\" was missed by 0:00:01.604449\n",
      "[codecarbon INFO @ 18:19:37] Energy consumed for RAM : 0.000003 kWh. RAM Power : 0.08749151229858398 W\n",
      "[codecarbon INFO @ 18:19:37] Energy consumed for all CPUs : 0.001108 kWh. All CPUs Power : 32.5 W\n",
      "[codecarbon INFO @ 18:19:37] 0.001111 kWh of electricity used since the begining.\n",
      "[codecarbon INFO @ 18:19:52] Energy consumed for RAM : 0.000003 kWh. RAM Power : 0.0874929428100586 W\n",
      "[codecarbon INFO @ 18:19:52] Energy consumed for all CPUs : 0.001243 kWh. All CPUs Power : 32.5 W\n",
      "[codecarbon INFO @ 18:19:52] 0.001246 kWh of electricity used since the begining.\n",
      "[codecarbon INFO @ 18:20:08] Energy consumed for RAM : 0.000004 kWh. RAM Power : 0.0874943733215332 W\n",
      "[codecarbon INFO @ 18:20:08] Energy consumed for all CPUs : 0.001387 kWh. All CPUs Power : 32.5 W\n",
      "[codecarbon INFO @ 18:20:08] 0.001391 kWh of electricity used since the begining.\n",
      "[codecarbon INFO @ 18:20:23] Energy consumed for RAM : 0.000004 kWh. RAM Power : 0.0874943733215332 W\n",
      "[codecarbon INFO @ 18:20:23] Energy consumed for all CPUs : 0.001522 kWh. All CPUs Power : 32.5 W\n",
      "[codecarbon INFO @ 18:20:23] 0.001526 kWh of electricity used since the begining.\n",
      "[codecarbon INFO @ 18:20:38] Energy consumed for RAM : 0.000004 kWh. RAM Power : 0.08749723434448242 W\n",
      "[codecarbon INFO @ 18:20:38] Energy consumed for all CPUs : 0.001658 kWh. All CPUs Power : 32.5 W\n",
      "[codecarbon INFO @ 18:20:38] 0.001662 kWh of electricity used since the begining.\n",
      "[codecarbon INFO @ 18:20:53] Energy consumed for RAM : 0.000005 kWh. RAM Power : 0.08749723434448242 W\n",
      "[codecarbon INFO @ 18:20:53] Energy consumed for all CPUs : 0.001793 kWh. All CPUs Power : 32.5 W\n",
      "[codecarbon INFO @ 18:20:53] 0.001798 kWh of electricity used since the begining.\n",
      "[codecarbon INFO @ 18:21:08] Energy consumed for RAM : 0.000005 kWh. RAM Power : 0.08749723434448242 W\n",
      "[codecarbon INFO @ 18:21:08] Energy consumed for all CPUs : 0.001928 kWh. All CPUs Power : 32.5 W\n",
      "[codecarbon INFO @ 18:21:08] 0.001933 kWh of electricity used since the begining.\n",
      "[codecarbon INFO @ 18:21:23] Energy consumed for RAM : 0.000006 kWh. RAM Power : 0.08749723434448242 W\n",
      "[codecarbon INFO @ 18:21:23] Energy consumed for all CPUs : 0.002063 kWh. All CPUs Power : 32.5 W\n",
      "[codecarbon INFO @ 18:21:23] 0.002069 kWh of electricity used since the begining.\n",
      "[codecarbon INFO @ 18:21:39] Energy consumed for RAM : 0.000006 kWh. RAM Power : 0.08749723434448242 W\n",
      "[codecarbon INFO @ 18:21:39] Energy consumed for all CPUs : 0.002207 kWh. All CPUs Power : 32.5 W\n",
      "[codecarbon INFO @ 18:21:39] 0.002213 kWh of electricity used since the begining.\n",
      "[codecarbon INFO @ 18:21:54] Energy consumed for RAM : 0.000006 kWh. RAM Power : 0.08749723434448242 W\n",
      "[codecarbon INFO @ 18:21:54] Energy consumed for all CPUs : 0.002342 kWh. All CPUs Power : 32.5 W\n",
      "[codecarbon INFO @ 18:21:54] 0.002348 kWh of electricity used since the begining.\n",
      "[codecarbon INFO @ 18:22:09] Energy consumed for RAM : 0.000007 kWh. RAM Power : 0.08750009536743164 W\n",
      "[codecarbon INFO @ 18:22:09] Energy consumed for all CPUs : 0.002478 kWh. All CPUs Power : 32.5 W\n",
      "[codecarbon INFO @ 18:22:09] 0.002484 kWh of electricity used since the begining.\n",
      "[codecarbon INFO @ 18:22:24] Energy consumed for RAM : 0.000007 kWh. RAM Power : 0.08750009536743164 W\n",
      "[codecarbon INFO @ 18:22:24] Energy consumed for all CPUs : 0.002613 kWh. All CPUs Power : 32.5 W\n",
      "[codecarbon INFO @ 18:22:24] 0.002620 kWh of electricity used since the begining.\n",
      "[codecarbon INFO @ 18:22:39] Energy consumed for RAM : 0.000007 kWh. RAM Power : 0.08750009536743164 W\n",
      "[codecarbon INFO @ 18:22:39] Energy consumed for all CPUs : 0.002749 kWh. All CPUs Power : 32.5 W\n",
      "[codecarbon INFO @ 18:22:39] 0.002756 kWh of electricity used since the begining.\n",
      "[codecarbon INFO @ 18:22:54] Energy consumed for RAM : 0.000008 kWh. RAM Power : 0.08750009536743164 W\n",
      "[codecarbon INFO @ 18:22:54] Energy consumed for all CPUs : 0.002884 kWh. All CPUs Power : 32.5 W\n",
      "[codecarbon INFO @ 18:22:54] 0.002892 kWh of electricity used since the begining.\n",
      "[codecarbon INFO @ 18:23:10] Energy consumed for RAM : 0.000008 kWh. RAM Power : 0.08750152587890625 W\n",
      "[codecarbon INFO @ 18:23:10] Energy consumed for all CPUs : 0.003028 kWh. All CPUs Power : 32.5 W\n",
      "[codecarbon INFO @ 18:23:10] 0.003036 kWh of electricity used since the begining.\n",
      "[codecarbon INFO @ 18:23:25] Energy consumed for RAM : 0.000009 kWh. RAM Power : 0.08750152587890625 W\n",
      "[codecarbon INFO @ 18:23:25] Energy consumed for all CPUs : 0.003163 kWh. All CPUs Power : 32.5 W\n",
      "[codecarbon INFO @ 18:23:25] 0.003171 kWh of electricity used since the begining.\n",
      "[codecarbon INFO @ 18:23:40] Energy consumed for RAM : 0.000009 kWh. RAM Power : 0.08750152587890625 W\n",
      "[codecarbon INFO @ 18:23:40] Energy consumed for all CPUs : 0.003298 kWh. All CPUs Power : 32.5 W\n",
      "[codecarbon INFO @ 18:23:40] 0.003307 kWh of electricity used since the begining.\n",
      "Run time of job \"Tracker._func_for_sched (trigger: interval[0:00:15], next run at: 2023-06-21 18:24:06 CEST)\" was missed by 0:00:01.466606\n",
      "[codecarbon INFO @ 18:23:56] Energy consumed for RAM : 0.000009 kWh. RAM Power : 0.08750152587890625 W\n",
      "[codecarbon INFO @ 18:23:56] Energy consumed for all CPUs : 0.003442 kWh. All CPUs Power : 32.5 W\n",
      "[codecarbon INFO @ 18:23:56] 0.003452 kWh of electricity used since the begining.\n",
      "[codecarbon INFO @ 18:24:11] Energy consumed for RAM : 0.000010 kWh. RAM Power : 0.08750152587890625 W\n",
      "[codecarbon INFO @ 18:24:11] Energy consumed for all CPUs : 0.003579 kWh. All CPUs Power : 32.5 W\n",
      "[codecarbon INFO @ 18:24:11] 0.003588 kWh of electricity used since the begining.\n",
      "[codecarbon INFO @ 18:24:18] Energy consumed for RAM : 0.000010 kWh. RAM Power : 0.08750152587890625 W\n",
      "[codecarbon INFO @ 18:24:18] Energy consumed for all CPUs : 0.003637 kWh. All CPUs Power : 32.5 W\n",
      "[codecarbon INFO @ 18:24:18] 0.003647 kWh of electricity used since the begining.\n"
     ]
    },
    {
     "name": "stdout",
     "output_type": "stream",
     "text": [
      "Best estimator MLP:  Pipeline(steps=[('scaler', StandardScaler()),\n",
      "                ('estimator',\n",
      "                 MLPClassifier(activation='identity', alpha=0.031,\n",
      "                               hidden_layer_sizes=(100, 100, 100),\n",
      "                               learning_rate='invscaling', max_iter=625))])\n",
      "<class 'numpy.float64'>\n",
      "<class 'numpy.float64'>\n",
      "<class 'numpy.float64'>\n",
      "Precision:  1.0\n",
      "Recall:  0.9965986394557823\n",
      "F1:  0.9982964224872232\n"
     ]
    }
   ],
   "source": [
    "df_benchmarking = benchmarking.create_benchmarking(X_train, y_train, X_test, y_test)"
   ],
   "metadata": {
    "collapsed": false,
    "ExecuteTime": {
     "end_time": "2023-06-21T16:24:18.712670382Z",
     "start_time": "2023-06-21T16:14:44.714683156Z"
    }
   }
  },
  {
   "cell_type": "code",
   "execution_count": 6,
   "outputs": [
    {
     "data": {
      "text/plain": "                Algoritmos  CodeCarbon (kWh)  Eco2AI (kWh)  Precision  \\\n0      Logistic Regression          0.000271      0.000184          1   \n1            Random Forest          0.000478      0.000198          1   \n2  Support Vector Machines          0.000609      0.000273          1   \n3    Multilayer Perceptron          0.003647      0.005247          1   \n\n     Recall   F Score  \n0  0.998299  0.999149  \n1  0.998299  0.999149  \n2  0.998299  0.999149  \n3  0.996599  0.998296  ",
      "text/html": "<div>\n<style scoped>\n    .dataframe tbody tr th:only-of-type {\n        vertical-align: middle;\n    }\n\n    .dataframe tbody tr th {\n        vertical-align: top;\n    }\n\n    .dataframe thead th {\n        text-align: right;\n    }\n</style>\n<table border=\"1\" class=\"dataframe\">\n  <thead>\n    <tr style=\"text-align: right;\">\n      <th></th>\n      <th>Algoritmos</th>\n      <th>CodeCarbon (kWh)</th>\n      <th>Eco2AI (kWh)</th>\n      <th>Precision</th>\n      <th>Recall</th>\n      <th>F Score</th>\n    </tr>\n  </thead>\n  <tbody>\n    <tr>\n      <th>0</th>\n      <td>Logistic Regression</td>\n      <td>0.000271</td>\n      <td>0.000184</td>\n      <td>1</td>\n      <td>0.998299</td>\n      <td>0.999149</td>\n    </tr>\n    <tr>\n      <th>1</th>\n      <td>Random Forest</td>\n      <td>0.000478</td>\n      <td>0.000198</td>\n      <td>1</td>\n      <td>0.998299</td>\n      <td>0.999149</td>\n    </tr>\n    <tr>\n      <th>2</th>\n      <td>Support Vector Machines</td>\n      <td>0.000609</td>\n      <td>0.000273</td>\n      <td>1</td>\n      <td>0.998299</td>\n      <td>0.999149</td>\n    </tr>\n    <tr>\n      <th>3</th>\n      <td>Multilayer Perceptron</td>\n      <td>0.003647</td>\n      <td>0.005247</td>\n      <td>1</td>\n      <td>0.996599</td>\n      <td>0.998296</td>\n    </tr>\n  </tbody>\n</table>\n</div>"
     },
     "execution_count": 6,
     "metadata": {},
     "output_type": "execute_result"
    }
   ],
   "source": [
    "df_benchmarking"
   ],
   "metadata": {
    "collapsed": false,
    "ExecuteTime": {
     "end_time": "2023-06-21T16:24:18.753236147Z",
     "start_time": "2023-06-21T16:24:18.721589211Z"
    }
   }
  },
  {
   "cell_type": "markdown",
   "source": [
    "## Save benchmarking's DataFrame in csv file"
   ],
   "metadata": {
    "collapsed": false
   }
  },
  {
   "cell_type": "code",
   "execution_count": 7,
   "outputs": [],
   "source": [
    "preprocess.save_in_csv_file(df_benchmarking, 'benchmarking.csv')"
   ],
   "metadata": {
    "collapsed": false,
    "ExecuteTime": {
     "end_time": "2023-06-21T16:24:18.823525822Z",
     "start_time": "2023-06-21T16:24:18.742784118Z"
    }
   }
  },
  {
   "cell_type": "markdown",
   "source": [
    "## Graphics"
   ],
   "metadata": {
    "collapsed": false
   }
  },
  {
   "cell_type": "code",
   "execution_count": 8,
   "outputs": [
    {
     "data": {
      "text/plain": "<Figure size 1000x700 with 2 Axes>",
      "image/png": "[encoded data removed]"
     },
     "metadata": {},
     "output_type": "display_data"
    }
   ],
   "source": [
    "graphics.plot_models_energy_consumed(df_benchmarking)"
   ],
   "metadata": {
    "collapsed": false,
    "ExecuteTime": {
     "end_time": "2023-06-21T16:24:19.120583850Z",
     "start_time": "2023-06-21T16:24:18.768863453Z"
    }
   }
  },
  {
   "cell_type": "code",
   "execution_count": 9,
   "outputs": [
    {
     "data": {
      "text/plain": "<Figure size 640x480 with 1 Axes>",
      "image/png": "[encoded data removed]"
     },
     "metadata": {},
     "output_type": "display_data"
    }
   ],
   "source": [
    "graphics.plot_models_evaluation_metrics(df_benchmarking)"
   ],
   "metadata": {
    "collapsed": false,
    "ExecuteTime": {
     "end_time": "2023-06-21T16:24:19.262874454Z",
     "start_time": "2023-06-21T16:24:19.119977769Z"
    }
   }
  }
 ],
 "metadata": {
  "kernelspec": {
   "display_name": "Python 3",
   "language": "python",
   "name": "python3"
  },
  "language_info": {
   "codemirror_mode": {
    "name": "ipython",
    "version": 2
   },
   "file_extension": ".py",
   "mimetype": "text/x-python",
   "name": "python",
   "nbconvert_exporter": "python",
   "pygments_lexer": "ipython2",
   "version": "2.7.6"
  }
 },
 "nbformat": 4,
 "nbformat_minor": 0
}
