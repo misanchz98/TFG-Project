{
 "cells": [
  {
   "cell_type": "markdown",
   "source": [
    "# 1. Import packages"
   ],
   "metadata": {
    "collapsed": false
   }
  },
  {
   "cell_type": "code",
   "execution_count": 1,
   "outputs": [
    {
     "name": "stdout",
     "output_type": "stream",
     "text": [
      "Invoking __init__.py for modules\n"
     ]
    }
   ],
   "source": [
    "import sys\n",
    "sys.path.append('..')\n",
    "from modules import preprocess, benchmarking, graphics"
   ],
   "metadata": {
    "collapsed": false,
    "ExecuteTime": {
     "end_time": "2023-06-21T17:05:12.341304936Z",
     "start_time": "2023-06-21T17:05:10.652090224Z"
    }
   }
  },
  {
   "cell_type": "markdown",
   "source": [
    "# 2. Load dataset"
   ],
   "metadata": {
    "collapsed": false
   }
  },
  {
   "cell_type": "code",
   "execution_count": 2,
   "outputs": [],
   "source": [
    "df = preprocess.load_csv_data('../dataset/Occupancy_Estimation.csv')"
   ],
   "metadata": {
    "collapsed": false,
    "ExecuteTime": {
     "end_time": "2023-06-21T17:05:12.446864009Z",
     "start_time": "2023-06-21T17:05:12.351476061Z"
    }
   }
  },
  {
   "cell_type": "markdown",
   "source": [
    "# 3. Data preprocessing\n",
    "- Step 1: Transform features\n",
    "  - Binary results for Room_Occupancy_Count\n",
    "  - Drop Date and Time features\n",
    "- Step 2: Clean data\n",
    "  - Drop duplicated rows"
   ],
   "metadata": {
    "collapsed": false
   }
  },
  {
   "cell_type": "code",
   "execution_count": 3,
   "outputs": [
    {
     "data": {
      "text/plain": "   S1_Temp  S2_Temp  S3_Temp  S4_Temp  S1_Light  S2_Light  S3_Light  S4_Light  \\\n0    24.94    24.75    24.56    25.38       121        34        53        40   \n1    24.94    24.75    24.56    25.44       121        33        53        40   \n2    25.00    24.75    24.50    25.44       121        34        53        40   \n3    25.00    24.75    24.56    25.44       121        34        53        40   \n4    25.00    24.75    24.56    25.44       121        34        54        40   \n\n   S1_Sound  S2_Sound  S3_Sound  S4_Sound  S5_CO2  S5_CO2_Slope  S6_PIR  \\\n0      0.08      0.19      0.06      0.06     390      0.769231       0   \n1      0.93      0.05      0.06      0.06     390      0.646154       0   \n2      0.43      0.11      0.08      0.06     390      0.519231       0   \n3      0.41      0.10      0.10      0.09     390      0.388462       0   \n4      0.18      0.06      0.06      0.06     390      0.253846       0   \n\n   S7_PIR  Room_Occupancy_Count  \n0       0                     1  \n1       0                     1  \n2       0                     1  \n3       0                     1  \n4       0                     1  ",
      "text/html": "<div>\n<style scoped>\n    .dataframe tbody tr th:only-of-type {\n        vertical-align: middle;\n    }\n\n    .dataframe tbody tr th {\n        vertical-align: top;\n    }\n\n    .dataframe thead th {\n        text-align: right;\n    }\n</style>\n<table border=\"1\" class=\"dataframe\">\n  <thead>\n    <tr style=\"text-align: right;\">\n      <th></th>\n      <th>S1_Temp</th>\n      <th>S2_Temp</th>\n      <th>S3_Temp</th>\n      <th>S4_Temp</th>\n      <th>S1_Light</th>\n      <th>S2_Light</th>\n      <th>S3_Light</th>\n      <th>S4_Light</th>\n      <th>S1_Sound</th>\n      <th>S2_Sound</th>\n      <th>S3_Sound</th>\n      <th>S4_Sound</th>\n      <th>S5_CO2</th>\n      <th>S5_CO2_Slope</th>\n      <th>S6_PIR</th>\n      <th>S7_PIR</th>\n      <th>Room_Occupancy_Count</th>\n    </tr>\n  </thead>\n  <tbody>\n    <tr>\n      <th>0</th>\n      <td>24.94</td>\n      <td>24.75</td>\n      <td>24.56</td>\n      <td>25.38</td>\n      <td>121</td>\n      <td>34</td>\n      <td>53</td>\n      <td>40</td>\n      <td>0.08</td>\n      <td>0.19</td>\n      <td>0.06</td>\n      <td>0.06</td>\n      <td>390</td>\n      <td>0.769231</td>\n      <td>0</td>\n      <td>0</td>\n      <td>1</td>\n    </tr>\n    <tr>\n      <th>1</th>\n      <td>24.94</td>\n      <td>24.75</td>\n      <td>24.56</td>\n      <td>25.44</td>\n      <td>121</td>\n      <td>33</td>\n      <td>53</td>\n      <td>40</td>\n      <td>0.93</td>\n      <td>0.05</td>\n      <td>0.06</td>\n      <td>0.06</td>\n      <td>390</td>\n      <td>0.646154</td>\n      <td>0</td>\n      <td>0</td>\n      <td>1</td>\n    </tr>\n    <tr>\n      <th>2</th>\n      <td>25.00</td>\n      <td>24.75</td>\n      <td>24.50</td>\n      <td>25.44</td>\n      <td>121</td>\n      <td>34</td>\n      <td>53</td>\n      <td>40</td>\n      <td>0.43</td>\n      <td>0.11</td>\n      <td>0.08</td>\n      <td>0.06</td>\n      <td>390</td>\n      <td>0.519231</td>\n      <td>0</td>\n      <td>0</td>\n      <td>1</td>\n    </tr>\n    <tr>\n      <th>3</th>\n      <td>25.00</td>\n      <td>24.75</td>\n      <td>24.56</td>\n      <td>25.44</td>\n      <td>121</td>\n      <td>34</td>\n      <td>53</td>\n      <td>40</td>\n      <td>0.41</td>\n      <td>0.10</td>\n      <td>0.10</td>\n      <td>0.09</td>\n      <td>390</td>\n      <td>0.388462</td>\n      <td>0</td>\n      <td>0</td>\n      <td>1</td>\n    </tr>\n    <tr>\n      <th>4</th>\n      <td>25.00</td>\n      <td>24.75</td>\n      <td>24.56</td>\n      <td>25.44</td>\n      <td>121</td>\n      <td>34</td>\n      <td>54</td>\n      <td>40</td>\n      <td>0.18</td>\n      <td>0.06</td>\n      <td>0.06</td>\n      <td>0.06</td>\n      <td>390</td>\n      <td>0.253846</td>\n      <td>0</td>\n      <td>0</td>\n      <td>1</td>\n    </tr>\n  </tbody>\n</table>\n</div>"
     },
     "execution_count": 3,
     "metadata": {},
     "output_type": "execute_result"
    }
   ],
   "source": [
    "# Step 1: Recode Room_Occupancy_Count column\n",
    "preprocess.recode_dataset_output(df)\n",
    "\n",
    "# Step 2: Filter Date and Time columns\n",
    "preprocess.remove_time_columns(df)\n",
    "\n",
    "df.head()"
   ],
   "metadata": {
    "collapsed": false,
    "ExecuteTime": {
     "end_time": "2023-06-21T17:05:12.708423507Z",
     "start_time": "2023-06-21T17:05:12.422743632Z"
    }
   }
  },
  {
   "cell_type": "markdown",
   "source": [
    "# 4. Benchmarking"
   ],
   "metadata": {
    "collapsed": false
   }
  },
  {
   "cell_type": "code",
   "execution_count": 4,
   "outputs": [
    {
     "name": "stdout",
     "output_type": "stream",
     "text": [
      "<class 'pandas.core.frame.DataFrame'>\n",
      "<class 'pandas.core.series.Series'>\n",
      "<class 'pandas.core.frame.DataFrame'>\n",
      "<class 'pandas.core.frame.DataFrame'>\n",
      "<class 'pandas.core.series.Series'>\n",
      "<class 'pandas.core.series.Series'>\n"
     ]
    }
   ],
   "source": [
    "# Split dataset into features and output\n",
    "X = preprocess.get_features(df)\n",
    "y = preprocess.get_output(df)\n",
    "\n",
    "# Split dataset into training and test\n",
    "X_train, X_test, y_train, y_test = preprocess.split_dataset(X, y)"
   ],
   "metadata": {
    "collapsed": false,
    "ExecuteTime": {
     "end_time": "2023-06-21T17:05:12.773060770Z",
     "start_time": "2023-06-21T17:05:12.486906488Z"
    }
   }
  },
  {
   "cell_type": "markdown",
   "source": [
    "## Create benchmarking Dataframe:\n",
    "- Create benchmarking's df structure.\n",
    "- Track models training with CodeCarbon and Eco2AI.\n",
    "- Store in benchmarking's df tracking results.\n",
    "- Store in benchmarking's df evaluation metrics."
   ],
   "metadata": {
    "collapsed": false
   }
  },
  {
   "cell_type": "code",
   "execution_count": null,
   "outputs": [
    {
     "name": "stderr",
     "output_type": "stream",
     "text": [
      "[codecarbon INFO @ 19:05:12] [setup] RAM Tracking...\n",
      "[codecarbon INFO @ 19:05:12] [setup] GPU Tracking...\n",
      "[codecarbon INFO @ 19:05:12] No GPU found.\n",
      "[codecarbon INFO @ 19:05:12] [setup] CPU Tracking...\n",
      "[codecarbon WARNING @ 19:05:12] No CPU tracking mode found. Falling back on CPU constant mode.\n",
      "[codecarbon INFO @ 19:05:14] CPU Model on constant consumption mode: Intel(R) Core(TM) i5-9400F CPU @ 2.90GHz\n",
      "[codecarbon INFO @ 19:05:14] >>> Tracker's metadata:\n",
      "[codecarbon INFO @ 19:05:14]   Platform system: Linux-5.19.0-43-generic-x86_64-with-glibc2.35\n",
      "[codecarbon INFO @ 19:05:14]   Python version: 3.10.8\n",
      "[codecarbon INFO @ 19:05:14]   Available RAM : 4.946 GB\n",
      "[codecarbon INFO @ 19:05:14]   CPU count: 4\n",
      "[codecarbon INFO @ 19:05:14]   CPU model: Intel(R) Core(TM) i5-9400F CPU @ 2.90GHz\n",
      "[codecarbon INFO @ 19:05:14]   GPU count: None\n",
      "[codecarbon INFO @ 19:05:14]   GPU model: None\n"
     ]
    },
    {
     "name": "stdout",
     "output_type": "stream",
     "text": [
      "Fitting 5 folds for each of 120 candidates, totalling 600 fits\n"
     ]
    },
    {
     "name": "stderr",
     "output_type": "stream",
     "text": [
      "[codecarbon INFO @ 19:05:32] Energy consumed for RAM : 0.000000 kWh. RAM Power : 0.0828866958618164 W\n",
      "[codecarbon INFO @ 19:05:32] Energy consumed for all CPUs : 0.000136 kWh. All CPUs Power : 32.5 W\n",
      "[codecarbon INFO @ 19:05:32] 0.000136 kWh of electricity used since the begining.\n",
      "[codecarbon INFO @ 19:05:47] Energy consumed for RAM : 0.000001 kWh. RAM Power : 0.08304834365844727 W\n",
      "[codecarbon INFO @ 19:05:47] Energy consumed for all CPUs : 0.000271 kWh. All CPUs Power : 32.5 W\n",
      "[codecarbon INFO @ 19:05:47] 0.000272 kWh of electricity used since the begining.\n",
      "[codecarbon INFO @ 19:05:51] Energy consumed for RAM : 0.000001 kWh. RAM Power : 0.08312129974365234 W\n",
      "[codecarbon INFO @ 19:05:51] Energy consumed for all CPUs : 0.000306 kWh. All CPUs Power : 32.5 W\n",
      "[codecarbon INFO @ 19:05:51] 0.000307 kWh of electricity used since the begining.\n",
      "[codecarbon INFO @ 19:05:51] [setup] RAM Tracking...\n",
      "[codecarbon INFO @ 19:05:51] [setup] GPU Tracking...\n",
      "[codecarbon INFO @ 19:05:51] No GPU found.\n",
      "[codecarbon INFO @ 19:05:51] [setup] CPU Tracking...\n",
      "[codecarbon WARNING @ 19:05:51] No CPU tracking mode found. Falling back on CPU constant mode.\n"
     ]
    },
    {
     "name": "stdout",
     "output_type": "stream",
     "text": [
      "Best estimator LR:  Pipeline(steps=[('scaler', RobustScaler()),\n",
      "                ('estimator',\n",
      "                 LogisticRegression(C=78.47599703514607, max_iter=400,\n",
      "                                    penalty='l1', solver='liblinear'))])\n",
      "Precision:  1.0\n",
      "Recall:  0.9982993197278912\n",
      "F1:  0.9991489361702128\n"
     ]
    },
    {
     "name": "stderr",
     "output_type": "stream",
     "text": [
      "[codecarbon INFO @ 19:05:53] CPU Model on constant consumption mode: Intel(R) Core(TM) i5-9400F CPU @ 2.90GHz\n",
      "[codecarbon INFO @ 19:05:53] >>> Tracker's metadata:\n",
      "[codecarbon INFO @ 19:05:53]   Platform system: Linux-5.19.0-43-generic-x86_64-with-glibc2.35\n",
      "[codecarbon INFO @ 19:05:53]   Python version: 3.10.8\n",
      "[codecarbon INFO @ 19:05:53]   Available RAM : 4.946 GB\n",
      "[codecarbon INFO @ 19:05:53]   CPU count: 4\n",
      "[codecarbon INFO @ 19:05:53]   CPU model: Intel(R) Core(TM) i5-9400F CPU @ 2.90GHz\n",
      "[codecarbon INFO @ 19:05:53]   GPU count: None\n",
      "[codecarbon INFO @ 19:05:53]   GPU model: None\n"
     ]
    },
    {
     "name": "stdout",
     "output_type": "stream",
     "text": [
      "Fitting 5 folds for each of 10 candidates, totalling 50 fits\n"
     ]
    },
    {
     "name": "stderr",
     "output_type": "stream",
     "text": [
      "[codecarbon INFO @ 19:06:11] Energy consumed for RAM : 0.000000 kWh. RAM Power : 0.08348464965820312 W\n",
      "[codecarbon INFO @ 19:06:11] Energy consumed for all CPUs : 0.000136 kWh. All CPUs Power : 32.5 W\n",
      "[codecarbon INFO @ 19:06:11] 0.000136 kWh of electricity used since the begining.\n",
      "[codecarbon INFO @ 19:06:26] Energy consumed for RAM : 0.000001 kWh. RAM Power : 0.08372783660888672 W\n",
      "[codecarbon INFO @ 19:06:26] Energy consumed for all CPUs : 0.000271 kWh. All CPUs Power : 32.5 W\n",
      "[codecarbon INFO @ 19:06:26] 0.000272 kWh of electricity used since the begining.\n",
      "[codecarbon INFO @ 19:06:38] Energy consumed for RAM : 0.000001 kWh. RAM Power : 0.08397388458251953 W\n",
      "[codecarbon INFO @ 19:06:38] Energy consumed for all CPUs : 0.000375 kWh. All CPUs Power : 32.5 W\n",
      "[codecarbon INFO @ 19:06:38] 0.000376 kWh of electricity used since the begining.\n",
      "[codecarbon INFO @ 19:06:38] [setup] RAM Tracking...\n",
      "[codecarbon INFO @ 19:06:38] [setup] GPU Tracking...\n",
      "[codecarbon INFO @ 19:06:38] No GPU found.\n",
      "[codecarbon INFO @ 19:06:38] [setup] CPU Tracking...\n",
      "[codecarbon WARNING @ 19:06:38] No CPU tracking mode found. Falling back on CPU constant mode.\n"
     ]
    },
    {
     "name": "stdout",
     "output_type": "stream",
     "text": [
      "Best estimator RF:  RandomForestClassifier(bootstrap=False, max_depth=80, max_features=3,\n",
      "                       min_samples_leaf=3, min_samples_split=8)\n",
      "Precision:  1.0\n",
      "Recall:  0.9982993197278912\n",
      "F1:  0.9991489361702128\n"
     ]
    },
    {
     "name": "stderr",
     "output_type": "stream",
     "text": [
      "[codecarbon INFO @ 19:06:40] CPU Model on constant consumption mode: Intel(R) Core(TM) i5-9400F CPU @ 2.90GHz\n",
      "[codecarbon INFO @ 19:06:40] >>> Tracker's metadata:\n",
      "[codecarbon INFO @ 19:06:40]   Platform system: Linux-5.19.0-43-generic-x86_64-with-glibc2.35\n",
      "[codecarbon INFO @ 19:06:40]   Python version: 3.10.8\n",
      "[codecarbon INFO @ 19:06:40]   Available RAM : 4.946 GB\n",
      "[codecarbon INFO @ 19:06:40]   CPU count: 4\n",
      "[codecarbon INFO @ 19:06:40]   CPU model: Intel(R) Core(TM) i5-9400F CPU @ 2.90GHz\n",
      "[codecarbon INFO @ 19:06:40]   GPU count: None\n",
      "[codecarbon INFO @ 19:06:40]   GPU model: None\n"
     ]
    },
    {
     "name": "stdout",
     "output_type": "stream",
     "text": [
      "Fitting 5 folds for each of 25 candidates, totalling 125 fits\n"
     ]
    },
    {
     "name": "stderr",
     "output_type": "stream",
     "text": [
      "[codecarbon INFO @ 19:06:58] Energy consumed for RAM : 0.000000 kWh. RAM Power : 0.08996772766113283 W\n",
      "[codecarbon INFO @ 19:06:58] Energy consumed for all CPUs : 0.000136 kWh. All CPUs Power : 32.5 W\n",
      "[codecarbon INFO @ 19:06:58] 0.000136 kWh of electricity used since the begining.\n",
      "[codecarbon INFO @ 19:07:13] Energy consumed for RAM : 0.000001 kWh. RAM Power : 0.08989906311035156 W\n",
      "[codecarbon INFO @ 19:07:13] Energy consumed for all CPUs : 0.000271 kWh. All CPUs Power : 32.5 W\n",
      "[codecarbon INFO @ 19:07:13] 0.000272 kWh of electricity used since the begining.\n",
      "[codecarbon INFO @ 19:07:28] Energy consumed for RAM : 0.000001 kWh. RAM Power : 0.08406114578247072 W\n",
      "[codecarbon INFO @ 19:07:28] Energy consumed for all CPUs : 0.000406 kWh. All CPUs Power : 32.5 W\n",
      "[codecarbon INFO @ 19:07:28] 0.000408 kWh of electricity used since the begining.\n",
      "[codecarbon INFO @ 19:07:43] Energy consumed for RAM : 0.000001 kWh. RAM Power : 0.08445167541503906 W\n",
      "[codecarbon INFO @ 19:07:43] Energy consumed for all CPUs : 0.000542 kWh. All CPUs Power : 32.5 W\n",
      "[codecarbon INFO @ 19:07:43] 0.000543 kWh of electricity used since the begining.\n",
      "[codecarbon INFO @ 19:07:57] Energy consumed for RAM : 0.000002 kWh. RAM Power : 0.0852055549621582 W\n",
      "[codecarbon INFO @ 19:07:57] Energy consumed for all CPUs : 0.000665 kWh. All CPUs Power : 32.5 W\n",
      "[codecarbon INFO @ 19:07:57] 0.000666 kWh of electricity used since the begining.\n",
      "[codecarbon INFO @ 19:07:57] [setup] RAM Tracking...\n",
      "[codecarbon INFO @ 19:07:57] [setup] GPU Tracking...\n",
      "[codecarbon INFO @ 19:07:57] No GPU found.\n",
      "[codecarbon INFO @ 19:07:57] [setup] CPU Tracking...\n",
      "[codecarbon WARNING @ 19:07:57] No CPU tracking mode found. Falling back on CPU constant mode.\n"
     ]
    },
    {
     "name": "stdout",
     "output_type": "stream",
     "text": [
      "Best estimator SVM:  SVC(C=1, gamma=0.001)\n",
      "Precision:  1.0\n",
      "Recall:  0.9982993197278912\n",
      "F1:  0.9991489361702128\n"
     ]
    },
    {
     "name": "stderr",
     "output_type": "stream",
     "text": [
      "[codecarbon INFO @ 19:07:59] CPU Model on constant consumption mode: Intel(R) Core(TM) i5-9400F CPU @ 2.90GHz\n",
      "[codecarbon INFO @ 19:07:59] >>> Tracker's metadata:\n",
      "[codecarbon INFO @ 19:07:59]   Platform system: Linux-5.19.0-43-generic-x86_64-with-glibc2.35\n",
      "[codecarbon INFO @ 19:07:59]   Python version: 3.10.8\n",
      "[codecarbon INFO @ 19:07:59]   Available RAM : 4.946 GB\n",
      "[codecarbon INFO @ 19:07:59]   CPU count: 4\n",
      "[codecarbon INFO @ 19:07:59]   CPU model: Intel(R) Core(TM) i5-9400F CPU @ 2.90GHz\n",
      "[codecarbon INFO @ 19:07:59]   GPU count: None\n",
      "[codecarbon INFO @ 19:07:59]   GPU model: None\n"
     ]
    },
    {
     "name": "stdout",
     "output_type": "stream",
     "text": [
      "Fitting 5 folds for each of 10 candidates, totalling 50 fits\n"
     ]
    },
    {
     "name": "stderr",
     "output_type": "stream",
     "text": [
      "[codecarbon INFO @ 19:08:17] Energy consumed for RAM : 0.000000 kWh. RAM Power : 0.08443880081176759 W\n",
      "[codecarbon INFO @ 19:08:17] Energy consumed for all CPUs : 0.000139 kWh. All CPUs Power : 32.5 W\n",
      "[codecarbon INFO @ 19:08:17] 0.000139 kWh of electricity used since the begining.\n",
      "[codecarbon INFO @ 19:08:32] Energy consumed for RAM : 0.000001 kWh. RAM Power : 0.08509969711303711 W\n",
      "[codecarbon INFO @ 19:08:32] Energy consumed for all CPUs : 0.000273 kWh. All CPUs Power : 32.5 W\n",
      "[codecarbon INFO @ 19:08:32] 0.000274 kWh of electricity used since the begining.\n",
      "[codecarbon INFO @ 19:08:47] Energy consumed for RAM : 0.000001 kWh. RAM Power : 0.08557462692260742 W\n",
      "[codecarbon INFO @ 19:08:47] Energy consumed for all CPUs : 0.000409 kWh. All CPUs Power : 32.5 W\n",
      "[codecarbon INFO @ 19:08:47] 0.000410 kWh of electricity used since the begining.\n",
      "[codecarbon INFO @ 19:09:02] Energy consumed for RAM : 0.000001 kWh. RAM Power : 0.0855860710144043 W\n",
      "[codecarbon INFO @ 19:09:02] Energy consumed for all CPUs : 0.000545 kWh. All CPUs Power : 32.5 W\n",
      "[codecarbon INFO @ 19:09:02] 0.000546 kWh of electricity used since the begining.\n",
      "[codecarbon INFO @ 19:09:17] Energy consumed for RAM : 0.000002 kWh. RAM Power : 0.08559322357177734 W\n",
      "[codecarbon INFO @ 19:09:17] Energy consumed for all CPUs : 0.000680 kWh. All CPUs Power : 32.5 W\n",
      "[codecarbon INFO @ 19:09:17] 0.000682 kWh of electricity used since the begining.\n",
      "[codecarbon INFO @ 19:09:32] Energy consumed for RAM : 0.000002 kWh. RAM Power : 0.08559322357177734 W\n",
      "[codecarbon INFO @ 19:09:32] Energy consumed for all CPUs : 0.000815 kWh. All CPUs Power : 32.5 W\n",
      "[codecarbon INFO @ 19:09:32] 0.000818 kWh of electricity used since the begining.\n",
      "[codecarbon INFO @ 19:09:47] Energy consumed for RAM : 0.000002 kWh. RAM Power : 0.08559608459472656 W\n",
      "[codecarbon INFO @ 19:09:47] Energy consumed for all CPUs : 0.000950 kWh. All CPUs Power : 32.5 W\n",
      "[codecarbon INFO @ 19:09:47] 0.000953 kWh of electricity used since the begining.\n",
      "[codecarbon INFO @ 19:10:02] Energy consumed for RAM : 0.000003 kWh. RAM Power : 0.08559608459472656 W\n",
      "[codecarbon INFO @ 19:10:02] Energy consumed for all CPUs : 0.001087 kWh. All CPUs Power : 32.5 W\n",
      "[codecarbon INFO @ 19:10:02] 0.001089 kWh of electricity used since the begining.\n",
      "[codecarbon INFO @ 19:10:17] Energy consumed for RAM : 0.000003 kWh. RAM Power : 0.08559608459472656 W\n",
      "[codecarbon INFO @ 19:10:17] Energy consumed for all CPUs : 0.001222 kWh. All CPUs Power : 32.5 W\n",
      "[codecarbon INFO @ 19:10:17] 0.001226 kWh of electricity used since the begining.\n",
      "[codecarbon INFO @ 19:10:32] Energy consumed for RAM : 0.000004 kWh. RAM Power : 0.08559608459472656 W\n",
      "[codecarbon INFO @ 19:10:32] Energy consumed for all CPUs : 0.001357 kWh. All CPUs Power : 32.5 W\n",
      "[codecarbon INFO @ 19:10:32] 0.001361 kWh of electricity used since the begining.\n",
      "[codecarbon INFO @ 19:10:47] Energy consumed for RAM : 0.000004 kWh. RAM Power : 0.08559608459472656 W\n",
      "[codecarbon INFO @ 19:10:47] Energy consumed for all CPUs : 0.001493 kWh. All CPUs Power : 32.5 W\n",
      "[codecarbon INFO @ 19:10:47] 0.001497 kWh of electricity used since the begining.\n",
      "[codecarbon INFO @ 19:11:02] Energy consumed for RAM : 0.000004 kWh. RAM Power : 0.08559608459472656 W\n",
      "[codecarbon INFO @ 19:11:02] Energy consumed for all CPUs : 0.001629 kWh. All CPUs Power : 32.5 W\n",
      "[codecarbon INFO @ 19:11:02] 0.001633 kWh of electricity used since the begining.\n",
      "[codecarbon INFO @ 19:11:17] Energy consumed for RAM : 0.000005 kWh. RAM Power : 0.08559608459472656 W\n",
      "[codecarbon INFO @ 19:11:17] Energy consumed for all CPUs : 0.001765 kWh. All CPUs Power : 32.5 W\n",
      "[codecarbon INFO @ 19:11:17] 0.001770 kWh of electricity used since the begining.\n",
      "[codecarbon INFO @ 19:11:33] Energy consumed for RAM : 0.000005 kWh. RAM Power : 0.0859379768371582 W\n",
      "[codecarbon INFO @ 19:11:33] Energy consumed for all CPUs : 0.001906 kWh. All CPUs Power : 32.5 W\n",
      "[codecarbon INFO @ 19:11:33] 0.001911 kWh of electricity used since the begining.\n",
      "[codecarbon INFO @ 19:11:48] Energy consumed for RAM : 0.000005 kWh. RAM Power : 0.0882725715637207 W\n",
      "[codecarbon INFO @ 19:11:48] Energy consumed for all CPUs : 0.002041 kWh. All CPUs Power : 32.5 W\n",
      "[codecarbon INFO @ 19:11:48] 0.002047 kWh of electricity used since the begining.\n",
      "[codecarbon INFO @ 19:12:03] Energy consumed for RAM : 0.000006 kWh. RAM Power : 0.08836555480957031 W\n",
      "[codecarbon INFO @ 19:12:03] Energy consumed for all CPUs : 0.002177 kWh. All CPUs Power : 32.5 W\n",
      "[codecarbon INFO @ 19:12:03] 0.002183 kWh of electricity used since the begining.\n",
      "[codecarbon INFO @ 19:12:18] Energy consumed for RAM : 0.000006 kWh. RAM Power : 0.08836555480957031 W\n",
      "[codecarbon INFO @ 19:12:18] Energy consumed for all CPUs : 0.002312 kWh. All CPUs Power : 32.5 W\n",
      "[codecarbon INFO @ 19:12:18] 0.002318 kWh of electricity used since the begining.\n",
      "[codecarbon INFO @ 19:12:33] Energy consumed for RAM : 0.000006 kWh. RAM Power : 0.0883626937866211 W\n",
      "[codecarbon INFO @ 19:12:33] Energy consumed for all CPUs : 0.002447 kWh. All CPUs Power : 32.5 W\n",
      "[codecarbon INFO @ 19:12:33] 0.002454 kWh of electricity used since the begining.\n",
      "[codecarbon INFO @ 19:12:48] Energy consumed for RAM : 0.000007 kWh. RAM Power : 0.08835268020629884 W\n",
      "[codecarbon INFO @ 19:12:48] Energy consumed for all CPUs : 0.002583 kWh. All CPUs Power : 32.5 W\n",
      "[codecarbon INFO @ 19:12:48] 0.002590 kWh of electricity used since the begining.\n",
      "[codecarbon INFO @ 19:13:03] Energy consumed for RAM : 0.000007 kWh. RAM Power : 0.08836412429809572 W\n",
      "[codecarbon INFO @ 19:13:03] Energy consumed for all CPUs : 0.002718 kWh. All CPUs Power : 32.5 W\n",
      "[codecarbon INFO @ 19:13:03] 0.002725 kWh of electricity used since the begining.\n",
      "[codecarbon INFO @ 19:13:18] Energy consumed for RAM : 0.000008 kWh. RAM Power : 0.0883612632751465 W\n",
      "[codecarbon INFO @ 19:13:18] Energy consumed for all CPUs : 0.002853 kWh. All CPUs Power : 32.5 W\n",
      "[codecarbon INFO @ 19:13:18] 0.002861 kWh of electricity used since the begining.\n"
     ]
    }
   ],
   "source": [
    "df_benchmarking = benchmarking.create_benchmarking(X_train, y_train, X_test, y_test)"
   ],
   "metadata": {
    "collapsed": false,
    "ExecuteTime": {
     "start_time": "2023-06-21T17:05:12.602975797Z"
    }
   }
  },
  {
   "cell_type": "code",
   "execution_count": null,
   "outputs": [],
   "source": [
    "df_benchmarking"
   ],
   "metadata": {
    "collapsed": false
   }
  },
  {
   "cell_type": "markdown",
   "source": [
    "## Save benchmarking's DataFrame in csv file"
   ],
   "metadata": {
    "collapsed": false
   }
  },
  {
   "cell_type": "code",
   "execution_count": null,
   "outputs": [],
   "source": [
    "preprocess.save_in_csv_file(df_benchmarking, 'benchmarking.csv')"
   ],
   "metadata": {
    "collapsed": false
   }
  },
  {
   "cell_type": "markdown",
   "source": [
    "## Graphics"
   ],
   "metadata": {
    "collapsed": false
   }
  },
  {
   "cell_type": "code",
   "execution_count": null,
   "outputs": [],
   "source": [
    "graphics.plot_models_energy_consumed(df_benchmarking)"
   ],
   "metadata": {
    "collapsed": false
   }
  },
  {
   "cell_type": "code",
   "execution_count": null,
   "outputs": [],
   "source": [
    "graphics.plot_models_evaluation_metrics(df_benchmarking)"
   ],
   "metadata": {
    "collapsed": false
   }
  }
 ],
 "metadata": {
  "kernelspec": {
   "display_name": "Python 3",
   "language": "python",
   "name": "python3"
  },
  "language_info": {
   "codemirror_mode": {
    "name": "ipython",
    "version": 2
   },
   "file_extension": ".py",
   "mimetype": "text/x-python",
   "name": "python",
   "nbconvert_exporter": "python",
   "pygments_lexer": "ipython2",
   "version": "2.7.6"
  }
 },
 "nbformat": 4,
 "nbformat_minor": 0
}
