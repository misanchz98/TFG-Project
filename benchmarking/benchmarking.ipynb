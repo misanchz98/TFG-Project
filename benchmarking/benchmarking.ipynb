{
 "cells": [
  {
   "cell_type": "markdown",
   "source": [
    "# 1. Import packages"
   ],
   "metadata": {
    "collapsed": false
   }
  },
  {
   "cell_type": "code",
   "execution_count": 1,
   "outputs": [
    {
     "name": "stdout",
     "output_type": "stream",
     "text": [
      "Invoking __init__.py for modules\n"
     ]
    }
   ],
   "source": [
    "import sys\n",
    "sys.path.append('..')\n",
    "from modules import tuning, preprocess, tracking, benchmarking, graphics"
   ],
   "metadata": {
    "collapsed": false,
    "ExecuteTime": {
     "start_time": "2023-04-15T08:58:24.574958Z",
     "end_time": "2023-04-15T08:58:25.164612Z"
    }
   }
  },
  {
   "cell_type": "markdown",
   "source": [
    "# 2. Load dataset"
   ],
   "metadata": {
    "collapsed": false
   }
  },
  {
   "cell_type": "code",
   "execution_count": 17,
   "outputs": [
    {
     "data": {
      "text/plain": "         Date      Time  S1_Temp  S2_Temp  S3_Temp  S4_Temp  S1_Light  \\\n0  2017/12/22  10:49:41    24.94    24.75    24.56    25.38       121   \n1  2017/12/22  10:50:12    24.94    24.75    24.56    25.44       121   \n2  2017/12/22  10:50:42    25.00    24.75    24.50    25.44       121   \n3  2017/12/22  10:51:13    25.00    24.75    24.56    25.44       121   \n4  2017/12/22  10:51:44    25.00    24.75    24.56    25.44       121   \n\n   S2_Light  S3_Light  S4_Light  S1_Sound  S2_Sound  S3_Sound  S4_Sound  \\\n0        34        53        40      0.08      0.19      0.06      0.06   \n1        33        53        40      0.93      0.05      0.06      0.06   \n2        34        53        40      0.43      0.11      0.08      0.06   \n3        34        53        40      0.41      0.10      0.10      0.09   \n4        34        54        40      0.18      0.06      0.06      0.06   \n\n   S5_CO2  S5_CO2_Slope  S6_PIR  S7_PIR  Room_Occupancy_Count  \n0     390      0.769231       0       0                     1  \n1     390      0.646154       0       0                     1  \n2     390      0.519231       0       0                     1  \n3     390      0.388462       0       0                     1  \n4     390      0.253846       0       0                     1  ",
      "text/html": "<div>\n<style scoped>\n    .dataframe tbody tr th:only-of-type {\n        vertical-align: middle;\n    }\n\n    .dataframe tbody tr th {\n        vertical-align: top;\n    }\n\n    .dataframe thead th {\n        text-align: right;\n    }\n</style>\n<table border=\"1\" class=\"dataframe\">\n  <thead>\n    <tr style=\"text-align: right;\">\n      <th></th>\n      <th>Date</th>\n      <th>Time</th>\n      <th>S1_Temp</th>\n      <th>S2_Temp</th>\n      <th>S3_Temp</th>\n      <th>S4_Temp</th>\n      <th>S1_Light</th>\n      <th>S2_Light</th>\n      <th>S3_Light</th>\n      <th>S4_Light</th>\n      <th>S1_Sound</th>\n      <th>S2_Sound</th>\n      <th>S3_Sound</th>\n      <th>S4_Sound</th>\n      <th>S5_CO2</th>\n      <th>S5_CO2_Slope</th>\n      <th>S6_PIR</th>\n      <th>S7_PIR</th>\n      <th>Room_Occupancy_Count</th>\n    </tr>\n  </thead>\n  <tbody>\n    <tr>\n      <th>0</th>\n      <td>2017/12/22</td>\n      <td>10:49:41</td>\n      <td>24.94</td>\n      <td>24.75</td>\n      <td>24.56</td>\n      <td>25.38</td>\n      <td>121</td>\n      <td>34</td>\n      <td>53</td>\n      <td>40</td>\n      <td>0.08</td>\n      <td>0.19</td>\n      <td>0.06</td>\n      <td>0.06</td>\n      <td>390</td>\n      <td>0.769231</td>\n      <td>0</td>\n      <td>0</td>\n      <td>1</td>\n    </tr>\n    <tr>\n      <th>1</th>\n      <td>2017/12/22</td>\n      <td>10:50:12</td>\n      <td>24.94</td>\n      <td>24.75</td>\n      <td>24.56</td>\n      <td>25.44</td>\n      <td>121</td>\n      <td>33</td>\n      <td>53</td>\n      <td>40</td>\n      <td>0.93</td>\n      <td>0.05</td>\n      <td>0.06</td>\n      <td>0.06</td>\n      <td>390</td>\n      <td>0.646154</td>\n      <td>0</td>\n      <td>0</td>\n      <td>1</td>\n    </tr>\n    <tr>\n      <th>2</th>\n      <td>2017/12/22</td>\n      <td>10:50:42</td>\n      <td>25.00</td>\n      <td>24.75</td>\n      <td>24.50</td>\n      <td>25.44</td>\n      <td>121</td>\n      <td>34</td>\n      <td>53</td>\n      <td>40</td>\n      <td>0.43</td>\n      <td>0.11</td>\n      <td>0.08</td>\n      <td>0.06</td>\n      <td>390</td>\n      <td>0.519231</td>\n      <td>0</td>\n      <td>0</td>\n      <td>1</td>\n    </tr>\n    <tr>\n      <th>3</th>\n      <td>2017/12/22</td>\n      <td>10:51:13</td>\n      <td>25.00</td>\n      <td>24.75</td>\n      <td>24.56</td>\n      <td>25.44</td>\n      <td>121</td>\n      <td>34</td>\n      <td>53</td>\n      <td>40</td>\n      <td>0.41</td>\n      <td>0.10</td>\n      <td>0.10</td>\n      <td>0.09</td>\n      <td>390</td>\n      <td>0.388462</td>\n      <td>0</td>\n      <td>0</td>\n      <td>1</td>\n    </tr>\n    <tr>\n      <th>4</th>\n      <td>2017/12/22</td>\n      <td>10:51:44</td>\n      <td>25.00</td>\n      <td>24.75</td>\n      <td>24.56</td>\n      <td>25.44</td>\n      <td>121</td>\n      <td>34</td>\n      <td>54</td>\n      <td>40</td>\n      <td>0.18</td>\n      <td>0.06</td>\n      <td>0.06</td>\n      <td>0.06</td>\n      <td>390</td>\n      <td>0.253846</td>\n      <td>0</td>\n      <td>0</td>\n      <td>1</td>\n    </tr>\n  </tbody>\n</table>\n</div>"
     },
     "execution_count": 17,
     "metadata": {},
     "output_type": "execute_result"
    }
   ],
   "source": [
    "df = preprocess.load_csv_data('../dataset/Occupancy_Estimation.csv')"
   ],
   "metadata": {
    "collapsed": false,
    "ExecuteTime": {
     "start_time": "2023-04-15T09:13:05.786105Z",
     "end_time": "2023-04-15T09:13:05.925305Z"
    }
   }
  },
  {
   "cell_type": "code",
   "execution_count": null,
   "outputs": [],
   "source": [
    "df.head()"
   ],
   "metadata": {
    "collapsed": false
   }
  },
  {
   "cell_type": "code",
   "execution_count": 3,
   "outputs": [
    {
     "name": "stdout",
     "output_type": "stream",
     "text": [
      "<class 'pandas.core.frame.DataFrame'>\n",
      "RangeIndex: 10129 entries, 0 to 10128\n",
      "Data columns (total 19 columns):\n",
      " #   Column                Non-Null Count  Dtype  \n",
      "---  ------                --------------  -----  \n",
      " 0   Date                  10129 non-null  object \n",
      " 1   Time                  10129 non-null  object \n",
      " 2   S1_Temp               10129 non-null  float64\n",
      " 3   S2_Temp               10129 non-null  float64\n",
      " 4   S3_Temp               10129 non-null  float64\n",
      " 5   S4_Temp               10129 non-null  float64\n",
      " 6   S1_Light              10129 non-null  int64  \n",
      " 7   S2_Light              10129 non-null  int64  \n",
      " 8   S3_Light              10129 non-null  int64  \n",
      " 9   S4_Light              10129 non-null  int64  \n",
      " 10  S1_Sound              10129 non-null  float64\n",
      " 11  S2_Sound              10129 non-null  float64\n",
      " 12  S3_Sound              10129 non-null  float64\n",
      " 13  S4_Sound              10129 non-null  float64\n",
      " 14  S5_CO2                10129 non-null  int64  \n",
      " 15  S5_CO2_Slope          10129 non-null  float64\n",
      " 16  S6_PIR                10129 non-null  int64  \n",
      " 17  S7_PIR                10129 non-null  int64  \n",
      " 18  Room_Occupancy_Count  10129 non-null  int64  \n",
      "dtypes: float64(9), int64(8), object(2)\n",
      "memory usage: 1.5+ MB\n"
     ]
    }
   ],
   "source": [
    "df.info()"
   ],
   "metadata": {
    "collapsed": false,
    "ExecuteTime": {
     "start_time": "2023-04-15T08:58:25.255268Z",
     "end_time": "2023-04-15T08:58:25.423316Z"
    }
   }
  },
  {
   "cell_type": "markdown",
   "source": [
    "# 3. Data preprocessing\n",
    "- Step 1: Transform features\n",
    "  - Binary results for Room_Occupancy_Count\n",
    "  - Drop Date and Time features\n",
    "- Step 2: Clean data\n",
    "  - Drop duplicated rows\n",
    "  - Detect and apply treatment to outliers"
   ],
   "metadata": {
    "collapsed": false
   }
  },
  {
   "cell_type": "code",
   "execution_count": 4,
   "outputs": [
    {
     "name": "stdout",
     "output_type": "stream",
     "text": [
      "The shape of the data set before dropping duplicated:(10129, 17)\n",
      "The shape of the data set after dropping duplicated:(8828, 17)\n",
      "Features with outliers:  ['S2_Temp', 'S1_Light', 'S2_Light', 'S3_Light', 'S4_Light', 'S1_Sound', 'S2_Sound', 'S3_Sound', 'S4_Sound', 'S5_CO2', 'S5_CO2_Slope', 'S6_PIR', 'S7_PIR']\n"
     ]
    },
    {
     "data": {
      "text/plain": "   S1_Temp  S2_Temp  S3_Temp  S4_Temp  S1_Light  S2_Light  S3_Light  S4_Light  \\\n0    24.94    24.75    24.56    25.38      35.0      34.0      53.0      40.0   \n1    24.94    24.75    24.56    25.44      35.0      33.0      53.0      40.0   \n2    25.00    24.75    24.50    25.44      35.0      34.0      53.0      40.0   \n3    25.00    24.75    24.56    25.44      35.0      34.0      53.0      40.0   \n4    25.00    24.75    24.56    25.44      35.0      34.0      54.0      40.0   \n\n   S1_Sound  S2_Sound  S3_Sound  S4_Sound  S5_CO2  S5_CO2_Slope  S6_PIR  \\\n0     0.080     0.075     0.060      0.06   390.0      0.213462     0.0   \n1     0.095     0.050     0.060      0.06   390.0      0.213462     0.0   \n2     0.095     0.075     0.080      0.06   390.0      0.213462     0.0   \n3     0.095     0.075     0.085      0.09   390.0      0.213462     0.0   \n4     0.095     0.060     0.060      0.06   390.0      0.213462     0.0   \n\n   S7_PIR  Room_Occupancy_Count  \n0     0.0                     1  \n1     0.0                     1  \n2     0.0                     1  \n3     0.0                     1  \n4     0.0                     1  ",
      "text/html": "<div>\n<style scoped>\n    .dataframe tbody tr th:only-of-type {\n        vertical-align: middle;\n    }\n\n    .dataframe tbody tr th {\n        vertical-align: top;\n    }\n\n    .dataframe thead th {\n        text-align: right;\n    }\n</style>\n<table border=\"1\" class=\"dataframe\">\n  <thead>\n    <tr style=\"text-align: right;\">\n      <th></th>\n      <th>S1_Temp</th>\n      <th>S2_Temp</th>\n      <th>S3_Temp</th>\n      <th>S4_Temp</th>\n      <th>S1_Light</th>\n      <th>S2_Light</th>\n      <th>S3_Light</th>\n      <th>S4_Light</th>\n      <th>S1_Sound</th>\n      <th>S2_Sound</th>\n      <th>S3_Sound</th>\n      <th>S4_Sound</th>\n      <th>S5_CO2</th>\n      <th>S5_CO2_Slope</th>\n      <th>S6_PIR</th>\n      <th>S7_PIR</th>\n      <th>Room_Occupancy_Count</th>\n    </tr>\n  </thead>\n  <tbody>\n    <tr>\n      <th>0</th>\n      <td>24.94</td>\n      <td>24.75</td>\n      <td>24.56</td>\n      <td>25.38</td>\n      <td>35.0</td>\n      <td>34.0</td>\n      <td>53.0</td>\n      <td>40.0</td>\n      <td>0.080</td>\n      <td>0.075</td>\n      <td>0.060</td>\n      <td>0.06</td>\n      <td>390.0</td>\n      <td>0.213462</td>\n      <td>0.0</td>\n      <td>0.0</td>\n      <td>1</td>\n    </tr>\n    <tr>\n      <th>1</th>\n      <td>24.94</td>\n      <td>24.75</td>\n      <td>24.56</td>\n      <td>25.44</td>\n      <td>35.0</td>\n      <td>33.0</td>\n      <td>53.0</td>\n      <td>40.0</td>\n      <td>0.095</td>\n      <td>0.050</td>\n      <td>0.060</td>\n      <td>0.06</td>\n      <td>390.0</td>\n      <td>0.213462</td>\n      <td>0.0</td>\n      <td>0.0</td>\n      <td>1</td>\n    </tr>\n    <tr>\n      <th>2</th>\n      <td>25.00</td>\n      <td>24.75</td>\n      <td>24.50</td>\n      <td>25.44</td>\n      <td>35.0</td>\n      <td>34.0</td>\n      <td>53.0</td>\n      <td>40.0</td>\n      <td>0.095</td>\n      <td>0.075</td>\n      <td>0.080</td>\n      <td>0.06</td>\n      <td>390.0</td>\n      <td>0.213462</td>\n      <td>0.0</td>\n      <td>0.0</td>\n      <td>1</td>\n    </tr>\n    <tr>\n      <th>3</th>\n      <td>25.00</td>\n      <td>24.75</td>\n      <td>24.56</td>\n      <td>25.44</td>\n      <td>35.0</td>\n      <td>34.0</td>\n      <td>53.0</td>\n      <td>40.0</td>\n      <td>0.095</td>\n      <td>0.075</td>\n      <td>0.085</td>\n      <td>0.09</td>\n      <td>390.0</td>\n      <td>0.213462</td>\n      <td>0.0</td>\n      <td>0.0</td>\n      <td>1</td>\n    </tr>\n    <tr>\n      <th>4</th>\n      <td>25.00</td>\n      <td>24.75</td>\n      <td>24.56</td>\n      <td>25.44</td>\n      <td>35.0</td>\n      <td>34.0</td>\n      <td>54.0</td>\n      <td>40.0</td>\n      <td>0.095</td>\n      <td>0.060</td>\n      <td>0.060</td>\n      <td>0.06</td>\n      <td>390.0</td>\n      <td>0.213462</td>\n      <td>0.0</td>\n      <td>0.0</td>\n      <td>1</td>\n    </tr>\n  </tbody>\n</table>\n</div>"
     },
     "execution_count": 4,
     "metadata": {},
     "output_type": "execute_result"
    }
   ],
   "source": [
    "df = preprocess.preprocess_room_occupancy_dataset(df)"
   ],
   "metadata": {
    "collapsed": false,
    "ExecuteTime": {
     "start_time": "2023-04-15T08:58:25.305540Z",
     "end_time": "2023-04-15T08:58:25.430752Z"
    }
   }
  },
  {
   "cell_type": "code",
   "execution_count": null,
   "outputs": [],
   "source": [
    "df.head()"
   ],
   "metadata": {
    "collapsed": false
   }
  },
  {
   "cell_type": "code",
   "execution_count": 5,
   "outputs": [
    {
     "name": "stdout",
     "output_type": "stream",
     "text": [
      "<class 'pandas.core.frame.DataFrame'>\n",
      "Int64Index: 8828 entries, 0 to 10128\n",
      "Data columns (total 17 columns):\n",
      " #   Column                Non-Null Count  Dtype  \n",
      "---  ------                --------------  -----  \n",
      " 0   S1_Temp               8828 non-null   float64\n",
      " 1   S2_Temp               8828 non-null   float64\n",
      " 2   S3_Temp               8828 non-null   float64\n",
      " 3   S4_Temp               8828 non-null   float64\n",
      " 4   S1_Light              8828 non-null   float64\n",
      " 5   S2_Light              8828 non-null   float64\n",
      " 6   S3_Light              8828 non-null   float64\n",
      " 7   S4_Light              8828 non-null   float64\n",
      " 8   S1_Sound              8828 non-null   float64\n",
      " 9   S2_Sound              8828 non-null   float64\n",
      " 10  S3_Sound              8828 non-null   float64\n",
      " 11  S4_Sound              8828 non-null   float64\n",
      " 12  S5_CO2                8828 non-null   float64\n",
      " 13  S5_CO2_Slope          8828 non-null   float64\n",
      " 14  S6_PIR                8828 non-null   float64\n",
      " 15  S7_PIR                8828 non-null   float64\n",
      " 16  Room_Occupancy_Count  8828 non-null   int64  \n",
      "dtypes: float64(16), int64(1)\n",
      "memory usage: 1.2 MB\n"
     ]
    }
   ],
   "source": [
    "df.info()"
   ],
   "metadata": {
    "collapsed": false,
    "ExecuteTime": {
     "start_time": "2023-04-15T08:58:25.452812Z",
     "end_time": "2023-04-15T08:58:25.827524Z"
    }
   }
  },
  {
   "cell_type": "code",
   "execution_count": 6,
   "outputs": [
    {
     "data": {
      "text/plain": "<AxesSubplot: >"
     },
     "execution_count": 6,
     "metadata": {},
     "output_type": "execute_result"
    },
    {
     "data": {
      "text/plain": "<Figure size 1500x1000 with 1 Axes>",
      "image/png": "[encoded data removed]"
     },
     "metadata": {},
     "output_type": "display_data"
    }
   ],
   "source": [
    "graphics.boxplot_df(df)"
   ],
   "metadata": {
    "collapsed": false,
    "ExecuteTime": {
     "start_time": "2023-04-15T08:58:25.489286Z",
     "end_time": "2023-04-15T08:58:26.601119Z"
    }
   }
  },
  {
   "cell_type": "markdown",
   "source": [
    "# 4. Tuning Hyperparameters: Cross Validation"
   ],
   "metadata": {
    "collapsed": false
   }
  },
  {
   "cell_type": "code",
   "execution_count": 7,
   "outputs": [],
   "source": [
    "# Split dataset into features and output\n",
    "X = preprocess.get_features(df)\n",
    "y = preprocess.get_output(df)\n",
    "\n",
    "# Split dataset into training and test\n",
    "X_train, X_test, y_train, y_test = preprocess.split_dataset(X, y)"
   ],
   "metadata": {
    "collapsed": false,
    "ExecuteTime": {
     "start_time": "2023-04-15T08:58:26.400556Z",
     "end_time": "2023-04-15T08:58:26.636390Z"
    }
   }
  },
  {
   "cell_type": "markdown",
   "source": [
    "## 1. Logistic Regression (LR)"
   ],
   "metadata": {
    "collapsed": false
   }
  },
  {
   "cell_type": "code",
   "execution_count": 8,
   "outputs": [
    {
     "name": "stdout",
     "output_type": "stream",
     "text": [
      "Fitting 5 folds for each of 28 candidates, totalling 140 fits\n",
      "[CV] END estimator__C=0.001, estimator__penalty=l1, estimator__solver=lbfgs; total time=   0.0s\n",
      "[CV] END estimator__C=0.001, estimator__penalty=l1, estimator__solver=lbfgs; total time=   0.0s\n",
      "[CV] END estimator__C=0.001, estimator__penalty=l1, estimator__solver=lbfgs; total time=   0.0s\n",
      "[CV] END estimator__C=0.001, estimator__penalty=l1, estimator__solver=lbfgs; total time=   0.0s\n",
      "[CV] END estimator__C=0.001, estimator__penalty=l1, estimator__solver=lbfgs; total time=   0.0s\n",
      "[CV] END estimator__C=0.001, estimator__penalty=l1, estimator__solver=liblinear; total time=   0.1s\n",
      "[CV] END estimator__C=0.001, estimator__penalty=l1, estimator__solver=liblinear; total time=   0.0s\n",
      "[CV] END estimator__C=0.001, estimator__penalty=l1, estimator__solver=liblinear; total time=   0.0s\n",
      "[CV] END estimator__C=0.001, estimator__penalty=l1, estimator__solver=liblinear; total time=   0.0s\n",
      "[CV] END estimator__C=0.001, estimator__penalty=l1, estimator__solver=liblinear; total time=   0.0s\n",
      "[CV] END estimator__C=0.001, estimator__penalty=l2, estimator__solver=lbfgs; total time=   0.0s\n",
      "[CV] END estimator__C=0.001, estimator__penalty=l2, estimator__solver=lbfgs; total time=   0.0s\n",
      "[CV] END estimator__C=0.001, estimator__penalty=l2, estimator__solver=lbfgs; total time=   0.0s\n",
      "[CV] END estimator__C=0.001, estimator__penalty=l2, estimator__solver=lbfgs; total time=   0.0s\n",
      "[CV] END estimator__C=0.001, estimator__penalty=l2, estimator__solver=lbfgs; total time=   0.0s\n",
      "[CV] END estimator__C=0.001, estimator__penalty=l2, estimator__solver=liblinear; total time=   0.1s\n",
      "[CV] END estimator__C=0.001, estimator__penalty=l2, estimator__solver=liblinear; total time=   0.0s\n",
      "[CV] END estimator__C=0.001, estimator__penalty=l2, estimator__solver=liblinear; total time=   0.0s\n",
      "[CV] END estimator__C=0.001, estimator__penalty=l2, estimator__solver=liblinear; total time=   0.0s\n",
      "[CV] END estimator__C=0.001, estimator__penalty=l2, estimator__solver=liblinear; total time=   0.0s\n",
      "[CV] END estimator__C=0.01, estimator__penalty=l1, estimator__solver=lbfgs; total time=   0.0s\n",
      "[CV] END estimator__C=0.01, estimator__penalty=l1, estimator__solver=lbfgs; total time=   0.0s\n",
      "[CV] END estimator__C=0.01, estimator__penalty=l1, estimator__solver=lbfgs; total time=   0.0s\n",
      "[CV] END estimator__C=0.01, estimator__penalty=l1, estimator__solver=lbfgs; total time=   0.0s\n",
      "[CV] END estimator__C=0.01, estimator__penalty=l1, estimator__solver=lbfgs; total time=   0.0s\n",
      "[CV] END estimator__C=0.01, estimator__penalty=l1, estimator__solver=liblinear; total time=   0.1s\n",
      "[CV] END estimator__C=0.01, estimator__penalty=l1, estimator__solver=liblinear; total time=   0.1s\n",
      "[CV] END estimator__C=0.01, estimator__penalty=l1, estimator__solver=liblinear; total time=   0.0s\n",
      "[CV] END estimator__C=0.01, estimator__penalty=l1, estimator__solver=liblinear; total time=   0.0s\n",
      "[CV] END estimator__C=0.01, estimator__penalty=l1, estimator__solver=liblinear; total time=   0.0s\n",
      "[CV] END estimator__C=0.01, estimator__penalty=l2, estimator__solver=lbfgs; total time=   0.0s\n",
      "[CV] END estimator__C=0.01, estimator__penalty=l2, estimator__solver=lbfgs; total time=   0.0s\n",
      "[CV] END estimator__C=0.01, estimator__penalty=l2, estimator__solver=lbfgs; total time=   0.0s\n",
      "[CV] END estimator__C=0.01, estimator__penalty=l2, estimator__solver=lbfgs; total time=   0.0s\n",
      "[CV] END estimator__C=0.01, estimator__penalty=l2, estimator__solver=lbfgs; total time=   0.0s\n",
      "[CV] END estimator__C=0.01, estimator__penalty=l2, estimator__solver=liblinear; total time=   0.0s\n",
      "[CV] END estimator__C=0.01, estimator__penalty=l2, estimator__solver=liblinear; total time=   0.0s\n",
      "[CV] END estimator__C=0.01, estimator__penalty=l2, estimator__solver=liblinear; total time=   0.0s\n",
      "[CV] END estimator__C=0.01, estimator__penalty=l2, estimator__solver=liblinear; total time=   0.0s\n",
      "[CV] END estimator__C=0.01, estimator__penalty=l2, estimator__solver=liblinear; total time=   0.0s\n",
      "[CV] END estimator__C=0.1, estimator__penalty=l1, estimator__solver=lbfgs; total time=   0.0s\n",
      "[CV] END estimator__C=0.1, estimator__penalty=l1, estimator__solver=lbfgs; total time=   0.0s\n",
      "[CV] END estimator__C=0.1, estimator__penalty=l1, estimator__solver=lbfgs; total time=   0.0s\n",
      "[CV] END estimator__C=0.1, estimator__penalty=l1, estimator__solver=lbfgs; total time=   0.0s\n",
      "[CV] END estimator__C=0.1, estimator__penalty=l1, estimator__solver=lbfgs; total time=   0.0s\n",
      "[CV] END estimator__C=0.1, estimator__penalty=l1, estimator__solver=liblinear; total time=   0.0s\n",
      "[CV] END estimator__C=0.1, estimator__penalty=l1, estimator__solver=liblinear; total time=   0.0s\n",
      "[CV] END estimator__C=0.1, estimator__penalty=l1, estimator__solver=liblinear; total time=   0.0s\n",
      "[CV] END estimator__C=0.1, estimator__penalty=l1, estimator__solver=liblinear; total time=   0.0s\n",
      "[CV] END estimator__C=0.1, estimator__penalty=l1, estimator__solver=liblinear; total time=   0.0s\n",
      "[CV] END estimator__C=0.1, estimator__penalty=l2, estimator__solver=lbfgs; total time=   0.0s\n",
      "[CV] END estimator__C=0.1, estimator__penalty=l2, estimator__solver=lbfgs; total time=   0.0s\n",
      "[CV] END estimator__C=0.1, estimator__penalty=l2, estimator__solver=lbfgs; total time=   0.0s\n",
      "[CV] END estimator__C=0.1, estimator__penalty=l2, estimator__solver=lbfgs; total time=   0.0s\n",
      "[CV] END estimator__C=0.1, estimator__penalty=l2, estimator__solver=lbfgs; total time=   0.0s\n",
      "[CV] END estimator__C=0.1, estimator__penalty=l2, estimator__solver=liblinear; total time=   0.0s\n",
      "[CV] END estimator__C=0.1, estimator__penalty=l2, estimator__solver=liblinear; total time=   0.0s\n",
      "[CV] END estimator__C=0.1, estimator__penalty=l2, estimator__solver=liblinear; total time=   0.0s\n",
      "[CV] END estimator__C=0.1, estimator__penalty=l2, estimator__solver=liblinear; total time=   0.0s\n",
      "[CV] END estimator__C=0.1, estimator__penalty=l2, estimator__solver=liblinear; total time=   0.0s\n",
      "[CV] END estimator__C=1, estimator__penalty=l1, estimator__solver=lbfgs; total time=   0.0s\n",
      "[CV] END estimator__C=1, estimator__penalty=l1, estimator__solver=lbfgs; total time=   0.0s\n",
      "[CV] END estimator__C=1, estimator__penalty=l1, estimator__solver=lbfgs; total time=   0.0s\n",
      "[CV] END estimator__C=1, estimator__penalty=l1, estimator__solver=lbfgs; total time=   0.0s\n",
      "[CV] END estimator__C=1, estimator__penalty=l1, estimator__solver=lbfgs; total time=   0.0s\n",
      "[CV] END estimator__C=1, estimator__penalty=l1, estimator__solver=liblinear; total time=   0.0s\n",
      "[CV] END estimator__C=1, estimator__penalty=l1, estimator__solver=liblinear; total time=   0.0s\n",
      "[CV] END estimator__C=1, estimator__penalty=l1, estimator__solver=liblinear; total time=   0.0s\n",
      "[CV] END estimator__C=1, estimator__penalty=l1, estimator__solver=liblinear; total time=   0.0s\n",
      "[CV] END estimator__C=1, estimator__penalty=l1, estimator__solver=liblinear; total time=   0.0s\n",
      "[CV] END estimator__C=1, estimator__penalty=l2, estimator__solver=lbfgs; total time=   0.1s\n",
      "[CV] END estimator__C=1, estimator__penalty=l2, estimator__solver=lbfgs; total time=   0.1s\n",
      "[CV] END estimator__C=1, estimator__penalty=l2, estimator__solver=lbfgs; total time=   0.2s\n",
      "[CV] END estimator__C=1, estimator__penalty=l2, estimator__solver=lbfgs; total time=   0.2s\n",
      "[CV] END estimator__C=1, estimator__penalty=l2, estimator__solver=lbfgs; total time=   0.0s\n",
      "[CV] END estimator__C=1, estimator__penalty=l2, estimator__solver=liblinear; total time=   0.0s\n",
      "[CV] END estimator__C=1, estimator__penalty=l2, estimator__solver=liblinear; total time=   0.0s\n",
      "[CV] END estimator__C=1, estimator__penalty=l2, estimator__solver=liblinear; total time=   0.2s\n",
      "[CV] END estimator__C=1, estimator__penalty=l2, estimator__solver=liblinear; total time=   0.1s\n",
      "[CV] END estimator__C=1, estimator__penalty=l2, estimator__solver=liblinear; total time=   0.0s\n",
      "[CV] END estimator__C=10, estimator__penalty=l1, estimator__solver=lbfgs; total time=   0.0s\n",
      "[CV] END estimator__C=10, estimator__penalty=l1, estimator__solver=lbfgs; total time=   0.0s\n",
      "[CV] END estimator__C=10, estimator__penalty=l1, estimator__solver=lbfgs; total time=   0.0s\n",
      "[CV] END estimator__C=10, estimator__penalty=l1, estimator__solver=lbfgs; total time=   0.0s\n",
      "[CV] END estimator__C=10, estimator__penalty=l1, estimator__solver=lbfgs; total time=   0.0s\n",
      "[CV] END estimator__C=10, estimator__penalty=l1, estimator__solver=liblinear; total time=   0.0s\n",
      "[CV] END estimator__C=10, estimator__penalty=l1, estimator__solver=liblinear; total time=   0.1s\n",
      "[CV] END estimator__C=10, estimator__penalty=l1, estimator__solver=liblinear; total time=   0.1s\n",
      "[CV] END estimator__C=10, estimator__penalty=l1, estimator__solver=liblinear; total time=   0.1s\n",
      "[CV] END estimator__C=10, estimator__penalty=l1, estimator__solver=liblinear; total time=   0.1s\n",
      "[CV] END estimator__C=10, estimator__penalty=l2, estimator__solver=lbfgs; total time=   0.1s\n",
      "[CV] END estimator__C=10, estimator__penalty=l2, estimator__solver=lbfgs; total time=   0.1s\n",
      "[CV] END estimator__C=10, estimator__penalty=l2, estimator__solver=lbfgs; total time=   0.3s\n",
      "[CV] END estimator__C=10, estimator__penalty=l2, estimator__solver=lbfgs; total time=   0.3s\n",
      "[CV] END estimator__C=10, estimator__penalty=l2, estimator__solver=lbfgs; total time=   0.1s\n",
      "[CV] END estimator__C=10, estimator__penalty=l2, estimator__solver=liblinear; total time=   0.0s\n",
      "[CV] END estimator__C=10, estimator__penalty=l2, estimator__solver=liblinear; total time=   0.0s\n",
      "[CV] END estimator__C=10, estimator__penalty=l2, estimator__solver=liblinear; total time=   0.0s\n",
      "[CV] END estimator__C=10, estimator__penalty=l2, estimator__solver=liblinear; total time=   0.0s\n",
      "[CV] END estimator__C=10, estimator__penalty=l2, estimator__solver=liblinear; total time=   0.0s\n",
      "[CV] END estimator__C=100, estimator__penalty=l1, estimator__solver=lbfgs; total time=   0.0s\n",
      "[CV] END estimator__C=100, estimator__penalty=l1, estimator__solver=lbfgs; total time=   0.0s\n",
      "[CV] END estimator__C=100, estimator__penalty=l1, estimator__solver=lbfgs; total time=   0.0s\n",
      "[CV] END estimator__C=100, estimator__penalty=l1, estimator__solver=lbfgs; total time=   0.0s\n",
      "[CV] END estimator__C=100, estimator__penalty=l1, estimator__solver=lbfgs; total time=   0.0s\n",
      "[CV] END estimator__C=100, estimator__penalty=l1, estimator__solver=liblinear; total time=   0.1s\n",
      "[CV] END estimator__C=100, estimator__penalty=l1, estimator__solver=liblinear; total time=   0.0s\n",
      "[CV] END estimator__C=100, estimator__penalty=l1, estimator__solver=liblinear; total time=   0.1s\n",
      "[CV] END estimator__C=100, estimator__penalty=l1, estimator__solver=liblinear; total time=   0.1s\n",
      "[CV] END estimator__C=100, estimator__penalty=l1, estimator__solver=liblinear; total time=   0.1s\n",
      "[CV] END estimator__C=100, estimator__penalty=l2, estimator__solver=lbfgs; total time=   0.0s\n",
      "[CV] END estimator__C=100, estimator__penalty=l2, estimator__solver=lbfgs; total time=   0.0s\n",
      "[CV] END estimator__C=100, estimator__penalty=l2, estimator__solver=lbfgs; total time=   0.0s\n",
      "[CV] END estimator__C=100, estimator__penalty=l2, estimator__solver=lbfgs; total time=   0.0s\n",
      "[CV] END estimator__C=100, estimator__penalty=l2, estimator__solver=lbfgs; total time=   0.0s\n",
      "[CV] END estimator__C=100, estimator__penalty=l2, estimator__solver=liblinear; total time=   0.0s\n",
      "[CV] END estimator__C=100, estimator__penalty=l2, estimator__solver=liblinear; total time=   0.0s\n",
      "[CV] END estimator__C=100, estimator__penalty=l2, estimator__solver=liblinear; total time=   0.0s\n",
      "[CV] END estimator__C=100, estimator__penalty=l2, estimator__solver=liblinear; total time=   0.0s\n",
      "[CV] END estimator__C=100, estimator__penalty=l2, estimator__solver=liblinear; total time=   0.0s\n",
      "[CV] END estimator__C=1000, estimator__penalty=l1, estimator__solver=lbfgs; total time=   0.0s\n",
      "[CV] END estimator__C=1000, estimator__penalty=l1, estimator__solver=lbfgs; total time=   0.0s\n",
      "[CV] END estimator__C=1000, estimator__penalty=l1, estimator__solver=lbfgs; total time=   0.0s\n",
      "[CV] END estimator__C=1000, estimator__penalty=l1, estimator__solver=lbfgs; total time=   0.0s\n",
      "[CV] END estimator__C=1000, estimator__penalty=l1, estimator__solver=lbfgs; total time=   0.0s\n",
      "[CV] END estimator__C=1000, estimator__penalty=l1, estimator__solver=liblinear; total time=   0.1s\n",
      "[CV] END estimator__C=1000, estimator__penalty=l1, estimator__solver=liblinear; total time=   0.0s\n",
      "[CV] END estimator__C=1000, estimator__penalty=l1, estimator__solver=liblinear; total time=   0.1s\n",
      "[CV] END estimator__C=1000, estimator__penalty=l1, estimator__solver=liblinear; total time=   0.1s\n",
      "[CV] END estimator__C=1000, estimator__penalty=l1, estimator__solver=liblinear; total time=   0.2s\n",
      "[CV] END estimator__C=1000, estimator__penalty=l2, estimator__solver=lbfgs; total time=   0.4s\n",
      "[CV] END estimator__C=1000, estimator__penalty=l2, estimator__solver=lbfgs; total time=   0.2s\n",
      "[CV] END estimator__C=1000, estimator__penalty=l2, estimator__solver=lbfgs; total time=   0.1s\n",
      "[CV] END estimator__C=1000, estimator__penalty=l2, estimator__solver=lbfgs; total time=   0.1s\n",
      "[CV] END estimator__C=1000, estimator__penalty=l2, estimator__solver=lbfgs; total time=   0.2s\n",
      "[CV] END estimator__C=1000, estimator__penalty=l2, estimator__solver=liblinear; total time=   0.1s\n",
      "[CV] END estimator__C=1000, estimator__penalty=l2, estimator__solver=liblinear; total time=   0.0s\n",
      "[CV] END estimator__C=1000, estimator__penalty=l2, estimator__solver=liblinear; total time=   0.0s\n",
      "[CV] END estimator__C=1000, estimator__penalty=l2, estimator__solver=liblinear; total time=   0.0s\n",
      "[CV] END estimator__C=1000, estimator__penalty=l2, estimator__solver=liblinear; total time=   0.0s\n",
      "Best estimator:  Pipeline(steps=[('scaler', StandardScaler()),\n",
      "                ('estimator',\n",
      "                 LogisticRegression(C=100, max_iter=500, penalty='l1',\n",
      "                                    solver='liblinear'))])\n",
      "Test set score:  0.9996224990562477\n",
      "Mean cross-validated score of the best_estimator:  0.9998381877022654\n"
     ]
    },
    {
     "name": "stderr",
     "output_type": "stream",
     "text": [
      "/home/misanchz/miniconda3/envs/TFG/lib/python3.10/site-packages/sklearn/model_selection/_validation.py:378: FitFailedWarning: \n",
      "35 fits failed out of a total of 140.\n",
      "The score on these train-test partitions for these parameters will be set to nan.\n",
      "If these failures are not expected, you can try to debug them by setting error_score='raise'.\n",
      "\n",
      "Below are more details about the failures:\n",
      "--------------------------------------------------------------------------------\n",
      "35 fits failed with the following error:\n",
      "Traceback (most recent call last):\n",
      "  File \"/home/misanchz/miniconda3/envs/TFG/lib/python3.10/site-packages/sklearn/model_selection/_validation.py\", line 686, in _fit_and_score\n",
      "    estimator.fit(X_train, y_train, **fit_params)\n",
      "  File \"/home/misanchz/miniconda3/envs/TFG/lib/python3.10/site-packages/sklearn/pipeline.py\", line 382, in fit\n",
      "    self._final_estimator.fit(Xt, y, **fit_params_last_step)\n",
      "  File \"/home/misanchz/miniconda3/envs/TFG/lib/python3.10/site-packages/sklearn/linear_model/_logistic.py\", line 1091, in fit\n",
      "    solver = _check_solver(self.solver, self.penalty, self.dual)\n",
      "  File \"/home/misanchz/miniconda3/envs/TFG/lib/python3.10/site-packages/sklearn/linear_model/_logistic.py\", line 61, in _check_solver\n",
      "    raise ValueError(\n",
      "ValueError: Solver lbfgs supports only 'l2' or 'none' penalties, got l1 penalty.\n",
      "\n",
      "  warnings.warn(some_fits_failed_message, FitFailedWarning)\n",
      "/home/misanchz/miniconda3/envs/TFG/lib/python3.10/site-packages/sklearn/model_selection/_search.py:953: UserWarning: One or more of the test scores are non-finite: [       nan 0.94335652 0.97232617 0.97167761        nan 0.98786211\n",
      " 0.98770017 0.99045098        nan 0.99708699 0.99482096 0.9962774\n",
      "        nan 0.99919081 0.99886705 0.99870511        nan 0.99951443\n",
      " 0.99919081 0.999029          nan 0.99983819 0.99983819 0.99983819\n",
      "        nan 0.99967638 0.99951456 0.99951456]\n",
      "  warnings.warn(\n"
     ]
    }
   ],
   "source": [
    "LR_best_estimator = tuning.tuning_with_grid('LR', X_train, y_train, X_test, y_test, 5)"
   ],
   "metadata": {
    "collapsed": false,
    "ExecuteTime": {
     "start_time": "2023-04-15T08:58:26.445020Z",
     "end_time": "2023-04-15T08:58:32.682396Z"
    }
   }
  },
  {
   "cell_type": "markdown",
   "source": [
    "## 2. Random Forest (RF)"
   ],
   "metadata": {
    "collapsed": false
   }
  },
  {
   "cell_type": "code",
   "execution_count": 9,
   "outputs": [
    {
     "name": "stdout",
     "output_type": "stream",
     "text": [
      "Fitting 5 folds for each of 10 candidates, totalling 50 fits\n",
      "[CV] END bootstrap=False, max_depth=3, max_features=log2, max_leaf_nodes=6, min_samples_leaf=4, min_samples_split=10, n_estimators=100; total time=   0.3s\n",
      "[CV] END bootstrap=False, max_depth=3, max_features=log2, max_leaf_nodes=6, min_samples_leaf=4, min_samples_split=10, n_estimators=100; total time=   0.3s\n",
      "[CV] END bootstrap=False, max_depth=3, max_features=log2, max_leaf_nodes=6, min_samples_leaf=4, min_samples_split=10, n_estimators=100; total time=   0.2s\n",
      "[CV] END bootstrap=False, max_depth=3, max_features=log2, max_leaf_nodes=6, min_samples_leaf=4, min_samples_split=10, n_estimators=100; total time=   0.2s\n",
      "[CV] END bootstrap=False, max_depth=3, max_features=log2, max_leaf_nodes=6, min_samples_leaf=4, min_samples_split=10, n_estimators=100; total time=   0.2s\n",
      "[CV] END bootstrap=False, max_depth=6, max_features=None, max_leaf_nodes=9, min_samples_leaf=4, min_samples_split=10, n_estimators=50; total time=   0.2s\n",
      "[CV] END bootstrap=False, max_depth=6, max_features=None, max_leaf_nodes=9, min_samples_leaf=4, min_samples_split=10, n_estimators=50; total time=   0.2s\n",
      "[CV] END bootstrap=False, max_depth=6, max_features=None, max_leaf_nodes=9, min_samples_leaf=4, min_samples_split=10, n_estimators=50; total time=   0.3s\n",
      "[CV] END bootstrap=False, max_depth=6, max_features=None, max_leaf_nodes=9, min_samples_leaf=4, min_samples_split=10, n_estimators=50; total time=   0.2s\n",
      "[CV] END bootstrap=False, max_depth=6, max_features=None, max_leaf_nodes=9, min_samples_leaf=4, min_samples_split=10, n_estimators=50; total time=   0.3s\n",
      "[CV] END bootstrap=False, max_depth=6, max_features=sqrt, max_leaf_nodes=3, min_samples_leaf=1, min_samples_split=10, n_estimators=100; total time=   0.3s\n",
      "[CV] END bootstrap=False, max_depth=6, max_features=sqrt, max_leaf_nodes=3, min_samples_leaf=1, min_samples_split=10, n_estimators=100; total time=   0.3s\n",
      "[CV] END bootstrap=False, max_depth=6, max_features=sqrt, max_leaf_nodes=3, min_samples_leaf=1, min_samples_split=10, n_estimators=100; total time=   0.3s\n",
      "[CV] END bootstrap=False, max_depth=6, max_features=sqrt, max_leaf_nodes=3, min_samples_leaf=1, min_samples_split=10, n_estimators=100; total time=   0.2s\n",
      "[CV] END bootstrap=False, max_depth=6, max_features=sqrt, max_leaf_nodes=3, min_samples_leaf=1, min_samples_split=10, n_estimators=100; total time=   0.2s\n",
      "[CV] END bootstrap=False, max_depth=6, max_features=None, max_leaf_nodes=3, min_samples_leaf=1, min_samples_split=2, n_estimators=50; total time=   0.3s\n",
      "[CV] END bootstrap=False, max_depth=6, max_features=None, max_leaf_nodes=3, min_samples_leaf=1, min_samples_split=2, n_estimators=50; total time=   0.3s\n",
      "[CV] END bootstrap=False, max_depth=6, max_features=None, max_leaf_nodes=3, min_samples_leaf=1, min_samples_split=2, n_estimators=50; total time=   0.3s\n",
      "[CV] END bootstrap=False, max_depth=6, max_features=None, max_leaf_nodes=3, min_samples_leaf=1, min_samples_split=2, n_estimators=50; total time=   0.3s\n",
      "[CV] END bootstrap=False, max_depth=6, max_features=None, max_leaf_nodes=3, min_samples_leaf=1, min_samples_split=2, n_estimators=50; total time=   0.3s\n",
      "[CV] END bootstrap=False, max_depth=3, max_features=log2, max_leaf_nodes=6, min_samples_leaf=4, min_samples_split=5, n_estimators=100; total time=   0.2s\n",
      "[CV] END bootstrap=False, max_depth=3, max_features=log2, max_leaf_nodes=6, min_samples_leaf=4, min_samples_split=5, n_estimators=100; total time=   0.2s\n",
      "[CV] END bootstrap=False, max_depth=3, max_features=log2, max_leaf_nodes=6, min_samples_leaf=4, min_samples_split=5, n_estimators=100; total time=   0.2s\n",
      "[CV] END bootstrap=False, max_depth=3, max_features=log2, max_leaf_nodes=6, min_samples_leaf=4, min_samples_split=5, n_estimators=100; total time=   0.2s\n",
      "[CV] END bootstrap=False, max_depth=3, max_features=log2, max_leaf_nodes=6, min_samples_leaf=4, min_samples_split=5, n_estimators=100; total time=   0.3s\n",
      "[CV] END bootstrap=False, max_depth=9, max_features=sqrt, max_leaf_nodes=6, min_samples_leaf=1, min_samples_split=5, n_estimators=50; total time=   0.1s\n",
      "[CV] END bootstrap=False, max_depth=9, max_features=sqrt, max_leaf_nodes=6, min_samples_leaf=1, min_samples_split=5, n_estimators=50; total time=   0.1s\n",
      "[CV] END bootstrap=False, max_depth=9, max_features=sqrt, max_leaf_nodes=6, min_samples_leaf=1, min_samples_split=5, n_estimators=50; total time=   0.1s\n",
      "[CV] END bootstrap=False, max_depth=9, max_features=sqrt, max_leaf_nodes=6, min_samples_leaf=1, min_samples_split=5, n_estimators=50; total time=   0.2s\n",
      "[CV] END bootstrap=False, max_depth=9, max_features=sqrt, max_leaf_nodes=6, min_samples_leaf=1, min_samples_split=5, n_estimators=50; total time=   0.1s\n",
      "[CV] END bootstrap=True, max_depth=9, max_features=sqrt, max_leaf_nodes=9, min_samples_leaf=2, min_samples_split=2, n_estimators=100; total time=   0.3s\n",
      "[CV] END bootstrap=True, max_depth=9, max_features=sqrt, max_leaf_nodes=9, min_samples_leaf=2, min_samples_split=2, n_estimators=100; total time=   0.2s\n",
      "[CV] END bootstrap=True, max_depth=9, max_features=sqrt, max_leaf_nodes=9, min_samples_leaf=2, min_samples_split=2, n_estimators=100; total time=   0.2s\n",
      "[CV] END bootstrap=True, max_depth=9, max_features=sqrt, max_leaf_nodes=9, min_samples_leaf=2, min_samples_split=2, n_estimators=100; total time=   0.5s\n",
      "[CV] END bootstrap=True, max_depth=9, max_features=sqrt, max_leaf_nodes=9, min_samples_leaf=2, min_samples_split=2, n_estimators=100; total time=   0.3s\n",
      "[CV] END bootstrap=False, max_depth=6, max_features=sqrt, max_leaf_nodes=9, min_samples_leaf=4, min_samples_split=10, n_estimators=50; total time=   0.2s\n",
      "[CV] END bootstrap=False, max_depth=6, max_features=sqrt, max_leaf_nodes=9, min_samples_leaf=4, min_samples_split=10, n_estimators=50; total time=   0.2s\n",
      "[CV] END bootstrap=False, max_depth=6, max_features=sqrt, max_leaf_nodes=9, min_samples_leaf=4, min_samples_split=10, n_estimators=50; total time=   0.2s\n",
      "[CV] END bootstrap=False, max_depth=6, max_features=sqrt, max_leaf_nodes=9, min_samples_leaf=4, min_samples_split=10, n_estimators=50; total time=   0.1s\n",
      "[CV] END bootstrap=False, max_depth=6, max_features=sqrt, max_leaf_nodes=9, min_samples_leaf=4, min_samples_split=10, n_estimators=50; total time=   0.1s\n",
      "[CV] END bootstrap=False, max_depth=3, max_features=log2, max_leaf_nodes=3, min_samples_leaf=2, min_samples_split=2, n_estimators=100; total time=   0.2s\n",
      "[CV] END bootstrap=False, max_depth=3, max_features=log2, max_leaf_nodes=3, min_samples_leaf=2, min_samples_split=2, n_estimators=100; total time=   0.2s\n",
      "[CV] END bootstrap=False, max_depth=3, max_features=log2, max_leaf_nodes=3, min_samples_leaf=2, min_samples_split=2, n_estimators=100; total time=   0.2s\n",
      "[CV] END bootstrap=False, max_depth=3, max_features=log2, max_leaf_nodes=3, min_samples_leaf=2, min_samples_split=2, n_estimators=100; total time=   0.3s\n",
      "[CV] END bootstrap=False, max_depth=3, max_features=log2, max_leaf_nodes=3, min_samples_leaf=2, min_samples_split=2, n_estimators=100; total time=   0.3s\n",
      "[CV] END bootstrap=True, max_depth=6, max_features=log2, max_leaf_nodes=9, min_samples_leaf=2, min_samples_split=5, n_estimators=150; total time=   0.4s\n",
      "[CV] END bootstrap=True, max_depth=6, max_features=log2, max_leaf_nodes=9, min_samples_leaf=2, min_samples_split=5, n_estimators=150; total time=   0.4s\n",
      "[CV] END bootstrap=True, max_depth=6, max_features=log2, max_leaf_nodes=9, min_samples_leaf=2, min_samples_split=5, n_estimators=150; total time=   0.4s\n",
      "[CV] END bootstrap=True, max_depth=6, max_features=log2, max_leaf_nodes=9, min_samples_leaf=2, min_samples_split=5, n_estimators=150; total time=   0.4s\n",
      "[CV] END bootstrap=True, max_depth=6, max_features=log2, max_leaf_nodes=9, min_samples_leaf=2, min_samples_split=5, n_estimators=150; total time=   0.4s\n",
      "Best estimator:  RandomForestClassifier(max_depth=9, max_leaf_nodes=9, min_samples_leaf=2)\n",
      "Test set score:  0.9992449981124952\n",
      "Mean cross-validated score of the best_estimator:  0.9991908074892235\n"
     ]
    }
   ],
   "source": [
    "RF_best_estimator = tuning.tuning_with_randomized('RF', X_train, y_train, X_test, y_test, 5)"
   ],
   "metadata": {
    "collapsed": false,
    "ExecuteTime": {
     "start_time": "2023-04-15T08:58:32.682038Z",
     "end_time": "2023-04-15T08:58:45.759680Z"
    }
   }
  },
  {
   "cell_type": "markdown",
   "source": [],
   "metadata": {
    "collapsed": false
   }
  },
  {
   "cell_type": "markdown",
   "source": [
    "## 3. Support Vector Machine (SVM)"
   ],
   "metadata": {
    "collapsed": false
   }
  },
  {
   "cell_type": "code",
   "execution_count": 10,
   "outputs": [
    {
     "name": "stdout",
     "output_type": "stream",
     "text": [
      "Fitting 5 folds for each of 25 candidates, totalling 125 fits\n",
      "[CV] END estimator__C=0.1, estimator__gamma=1, estimator__kernel=rbf; total time=   0.6s\n",
      "[CV] END estimator__C=0.1, estimator__gamma=1, estimator__kernel=rbf; total time=   0.6s\n",
      "[CV] END estimator__C=0.1, estimator__gamma=1, estimator__kernel=rbf; total time=   0.6s\n",
      "[CV] END estimator__C=0.1, estimator__gamma=1, estimator__kernel=rbf; total time=   0.5s\n",
      "[CV] END estimator__C=0.1, estimator__gamma=1, estimator__kernel=rbf; total time=   0.6s\n",
      "[CV] END estimator__C=0.1, estimator__gamma=0.1, estimator__kernel=rbf; total time=   0.2s\n",
      "[CV] END estimator__C=0.1, estimator__gamma=0.1, estimator__kernel=rbf; total time=   0.1s\n",
      "[CV] END estimator__C=0.1, estimator__gamma=0.1, estimator__kernel=rbf; total time=   0.1s\n",
      "[CV] END estimator__C=0.1, estimator__gamma=0.1, estimator__kernel=rbf; total time=   0.1s\n",
      "[CV] END estimator__C=0.1, estimator__gamma=0.1, estimator__kernel=rbf; total time=   0.1s\n",
      "[CV] END estimator__C=0.1, estimator__gamma=0.01, estimator__kernel=rbf; total time=   0.2s\n",
      "[CV] END estimator__C=0.1, estimator__gamma=0.01, estimator__kernel=rbf; total time=   0.2s\n",
      "[CV] END estimator__C=0.1, estimator__gamma=0.01, estimator__kernel=rbf; total time=   0.1s\n",
      "[CV] END estimator__C=0.1, estimator__gamma=0.01, estimator__kernel=rbf; total time=   0.2s\n",
      "[CV] END estimator__C=0.1, estimator__gamma=0.01, estimator__kernel=rbf; total time=   0.2s\n",
      "[CV] END estimator__C=0.1, estimator__gamma=0.001, estimator__kernel=rbf; total time=   0.3s\n",
      "[CV] END estimator__C=0.1, estimator__gamma=0.001, estimator__kernel=rbf; total time=   0.3s\n",
      "[CV] END estimator__C=0.1, estimator__gamma=0.001, estimator__kernel=rbf; total time=   0.4s\n",
      "[CV] END estimator__C=0.1, estimator__gamma=0.001, estimator__kernel=rbf; total time=   0.3s\n",
      "[CV] END estimator__C=0.1, estimator__gamma=0.001, estimator__kernel=rbf; total time=   0.4s\n",
      "[CV] END estimator__C=0.1, estimator__gamma=0.0001, estimator__kernel=rbf; total time=   0.6s\n",
      "[CV] END estimator__C=0.1, estimator__gamma=0.0001, estimator__kernel=rbf; total time=   0.7s\n",
      "[CV] END estimator__C=0.1, estimator__gamma=0.0001, estimator__kernel=rbf; total time=   0.6s\n",
      "[CV] END estimator__C=0.1, estimator__gamma=0.0001, estimator__kernel=rbf; total time=   0.7s\n",
      "[CV] END estimator__C=0.1, estimator__gamma=0.0001, estimator__kernel=rbf; total time=   0.9s\n",
      "[CV] END estimator__C=1, estimator__gamma=1, estimator__kernel=rbf; total time=   0.4s\n",
      "[CV] END estimator__C=1, estimator__gamma=1, estimator__kernel=rbf; total time=   0.4s\n",
      "[CV] END estimator__C=1, estimator__gamma=1, estimator__kernel=rbf; total time=   0.4s\n",
      "[CV] END estimator__C=1, estimator__gamma=1, estimator__kernel=rbf; total time=   0.4s\n",
      "[CV] END estimator__C=1, estimator__gamma=1, estimator__kernel=rbf; total time=   0.5s\n",
      "[CV] END estimator__C=1, estimator__gamma=0.1, estimator__kernel=rbf; total time=   0.1s\n",
      "[CV] END estimator__C=1, estimator__gamma=0.1, estimator__kernel=rbf; total time=   0.1s\n",
      "[CV] END estimator__C=1, estimator__gamma=0.1, estimator__kernel=rbf; total time=   0.1s\n",
      "[CV] END estimator__C=1, estimator__gamma=0.1, estimator__kernel=rbf; total time=   0.1s\n",
      "[CV] END estimator__C=1, estimator__gamma=0.1, estimator__kernel=rbf; total time=   0.1s\n",
      "[CV] END estimator__C=1, estimator__gamma=0.01, estimator__kernel=rbf; total time=   0.1s\n",
      "[CV] END estimator__C=1, estimator__gamma=0.01, estimator__kernel=rbf; total time=   0.1s\n",
      "[CV] END estimator__C=1, estimator__gamma=0.01, estimator__kernel=rbf; total time=   0.1s\n",
      "[CV] END estimator__C=1, estimator__gamma=0.01, estimator__kernel=rbf; total time=   0.1s\n",
      "[CV] END estimator__C=1, estimator__gamma=0.01, estimator__kernel=rbf; total time=   0.1s\n",
      "[CV] END estimator__C=1, estimator__gamma=0.001, estimator__kernel=rbf; total time=   0.1s\n",
      "[CV] END estimator__C=1, estimator__gamma=0.001, estimator__kernel=rbf; total time=   0.2s\n",
      "[CV] END estimator__C=1, estimator__gamma=0.001, estimator__kernel=rbf; total time=   0.2s\n",
      "[CV] END estimator__C=1, estimator__gamma=0.001, estimator__kernel=rbf; total time=   0.2s\n",
      "[CV] END estimator__C=1, estimator__gamma=0.001, estimator__kernel=rbf; total time=   0.2s\n",
      "[CV] END estimator__C=1, estimator__gamma=0.0001, estimator__kernel=rbf; total time=   0.4s\n",
      "[CV] END estimator__C=1, estimator__gamma=0.0001, estimator__kernel=rbf; total time=   0.3s\n",
      "[CV] END estimator__C=1, estimator__gamma=0.0001, estimator__kernel=rbf; total time=   0.4s\n",
      "[CV] END estimator__C=1, estimator__gamma=0.0001, estimator__kernel=rbf; total time=   0.3s\n",
      "[CV] END estimator__C=1, estimator__gamma=0.0001, estimator__kernel=rbf; total time=   0.3s\n",
      "[CV] END estimator__C=10, estimator__gamma=1, estimator__kernel=rbf; total time=   0.5s\n",
      "[CV] END estimator__C=10, estimator__gamma=1, estimator__kernel=rbf; total time=   0.4s\n",
      "[CV] END estimator__C=10, estimator__gamma=1, estimator__kernel=rbf; total time=   0.4s\n",
      "[CV] END estimator__C=10, estimator__gamma=1, estimator__kernel=rbf; total time=   0.5s\n",
      "[CV] END estimator__C=10, estimator__gamma=1, estimator__kernel=rbf; total time=   0.5s\n",
      "[CV] END estimator__C=10, estimator__gamma=0.1, estimator__kernel=rbf; total time=   0.1s\n",
      "[CV] END estimator__C=10, estimator__gamma=0.1, estimator__kernel=rbf; total time=   0.1s\n",
      "[CV] END estimator__C=10, estimator__gamma=0.1, estimator__kernel=rbf; total time=   0.1s\n",
      "[CV] END estimator__C=10, estimator__gamma=0.1, estimator__kernel=rbf; total time=   0.1s\n",
      "[CV] END estimator__C=10, estimator__gamma=0.1, estimator__kernel=rbf; total time=   0.1s\n",
      "[CV] END estimator__C=10, estimator__gamma=0.01, estimator__kernel=rbf; total time=   0.0s\n",
      "[CV] END estimator__C=10, estimator__gamma=0.01, estimator__kernel=rbf; total time=   0.0s\n",
      "[CV] END estimator__C=10, estimator__gamma=0.01, estimator__kernel=rbf; total time=   0.1s\n",
      "[CV] END estimator__C=10, estimator__gamma=0.01, estimator__kernel=rbf; total time=   0.1s\n",
      "[CV] END estimator__C=10, estimator__gamma=0.01, estimator__kernel=rbf; total time=   0.0s\n",
      "[CV] END estimator__C=10, estimator__gamma=0.001, estimator__kernel=rbf; total time=   0.1s\n",
      "[CV] END estimator__C=10, estimator__gamma=0.001, estimator__kernel=rbf; total time=   0.1s\n",
      "[CV] END estimator__C=10, estimator__gamma=0.001, estimator__kernel=rbf; total time=   0.1s\n",
      "[CV] END estimator__C=10, estimator__gamma=0.001, estimator__kernel=rbf; total time=   0.1s\n",
      "[CV] END estimator__C=10, estimator__gamma=0.001, estimator__kernel=rbf; total time=   0.1s\n",
      "[CV] END estimator__C=10, estimator__gamma=0.0001, estimator__kernel=rbf; total time=   0.1s\n",
      "[CV] END estimator__C=10, estimator__gamma=0.0001, estimator__kernel=rbf; total time=   0.2s\n",
      "[CV] END estimator__C=10, estimator__gamma=0.0001, estimator__kernel=rbf; total time=   0.1s\n",
      "[CV] END estimator__C=10, estimator__gamma=0.0001, estimator__kernel=rbf; total time=   0.1s\n",
      "[CV] END estimator__C=10, estimator__gamma=0.0001, estimator__kernel=rbf; total time=   0.1s\n",
      "[CV] END estimator__C=100, estimator__gamma=1, estimator__kernel=rbf; total time=   0.5s\n",
      "[CV] END estimator__C=100, estimator__gamma=1, estimator__kernel=rbf; total time=   0.4s\n",
      "[CV] END estimator__C=100, estimator__gamma=1, estimator__kernel=rbf; total time=   0.4s\n",
      "[CV] END estimator__C=100, estimator__gamma=1, estimator__kernel=rbf; total time=   0.4s\n",
      "[CV] END estimator__C=100, estimator__gamma=1, estimator__kernel=rbf; total time=   0.4s\n",
      "[CV] END estimator__C=100, estimator__gamma=0.1, estimator__kernel=rbf; total time=   0.1s\n",
      "[CV] END estimator__C=100, estimator__gamma=0.1, estimator__kernel=rbf; total time=   0.0s\n",
      "[CV] END estimator__C=100, estimator__gamma=0.1, estimator__kernel=rbf; total time=   0.0s\n",
      "[CV] END estimator__C=100, estimator__gamma=0.1, estimator__kernel=rbf; total time=   0.1s\n",
      "[CV] END estimator__C=100, estimator__gamma=0.1, estimator__kernel=rbf; total time=   0.0s\n",
      "[CV] END estimator__C=100, estimator__gamma=0.01, estimator__kernel=rbf; total time=   0.0s\n",
      "[CV] END estimator__C=100, estimator__gamma=0.01, estimator__kernel=rbf; total time=   0.0s\n",
      "[CV] END estimator__C=100, estimator__gamma=0.01, estimator__kernel=rbf; total time=   0.0s\n",
      "[CV] END estimator__C=100, estimator__gamma=0.01, estimator__kernel=rbf; total time=   0.0s\n",
      "[CV] END estimator__C=100, estimator__gamma=0.01, estimator__kernel=rbf; total time=   0.0s\n",
      "[CV] END estimator__C=100, estimator__gamma=0.001, estimator__kernel=rbf; total time=   0.0s\n",
      "[CV] END estimator__C=100, estimator__gamma=0.001, estimator__kernel=rbf; total time=   0.0s\n",
      "[CV] END estimator__C=100, estimator__gamma=0.001, estimator__kernel=rbf; total time=   0.0s\n",
      "[CV] END estimator__C=100, estimator__gamma=0.001, estimator__kernel=rbf; total time=   0.0s\n",
      "[CV] END estimator__C=100, estimator__gamma=0.001, estimator__kernel=rbf; total time=   0.0s\n",
      "[CV] END estimator__C=100, estimator__gamma=0.0001, estimator__kernel=rbf; total time=   0.1s\n",
      "[CV] END estimator__C=100, estimator__gamma=0.0001, estimator__kernel=rbf; total time=   0.1s\n",
      "[CV] END estimator__C=100, estimator__gamma=0.0001, estimator__kernel=rbf; total time=   0.1s\n",
      "[CV] END estimator__C=100, estimator__gamma=0.0001, estimator__kernel=rbf; total time=   0.1s\n",
      "[CV] END estimator__C=100, estimator__gamma=0.0001, estimator__kernel=rbf; total time=   0.1s\n",
      "[CV] END estimator__C=1000, estimator__gamma=1, estimator__kernel=rbf; total time=   0.4s\n",
      "[CV] END estimator__C=1000, estimator__gamma=1, estimator__kernel=rbf; total time=   0.6s\n",
      "[CV] END estimator__C=1000, estimator__gamma=1, estimator__kernel=rbf; total time=   0.5s\n",
      "[CV] END estimator__C=1000, estimator__gamma=1, estimator__kernel=rbf; total time=   0.4s\n",
      "[CV] END estimator__C=1000, estimator__gamma=1, estimator__kernel=rbf; total time=   0.5s\n",
      "[CV] END estimator__C=1000, estimator__gamma=0.1, estimator__kernel=rbf; total time=   0.1s\n",
      "[CV] END estimator__C=1000, estimator__gamma=0.1, estimator__kernel=rbf; total time=   0.1s\n",
      "[CV] END estimator__C=1000, estimator__gamma=0.1, estimator__kernel=rbf; total time=   0.1s\n",
      "[CV] END estimator__C=1000, estimator__gamma=0.1, estimator__kernel=rbf; total time=   0.1s\n",
      "[CV] END estimator__C=1000, estimator__gamma=0.1, estimator__kernel=rbf; total time=   0.1s\n",
      "[CV] END estimator__C=1000, estimator__gamma=0.01, estimator__kernel=rbf; total time=   0.0s\n",
      "[CV] END estimator__C=1000, estimator__gamma=0.01, estimator__kernel=rbf; total time=   0.0s\n",
      "[CV] END estimator__C=1000, estimator__gamma=0.01, estimator__kernel=rbf; total time=   0.0s\n",
      "[CV] END estimator__C=1000, estimator__gamma=0.01, estimator__kernel=rbf; total time=   0.0s\n",
      "[CV] END estimator__C=1000, estimator__gamma=0.01, estimator__kernel=rbf; total time=   0.0s\n",
      "[CV] END estimator__C=1000, estimator__gamma=0.001, estimator__kernel=rbf; total time=   0.0s\n",
      "[CV] END estimator__C=1000, estimator__gamma=0.001, estimator__kernel=rbf; total time=   0.0s\n",
      "[CV] END estimator__C=1000, estimator__gamma=0.001, estimator__kernel=rbf; total time=   0.0s\n",
      "[CV] END estimator__C=1000, estimator__gamma=0.001, estimator__kernel=rbf; total time=   0.0s\n",
      "[CV] END estimator__C=1000, estimator__gamma=0.001, estimator__kernel=rbf; total time=   0.0s\n",
      "[CV] END estimator__C=1000, estimator__gamma=0.0001, estimator__kernel=rbf; total time=   0.0s\n",
      "[CV] END estimator__C=1000, estimator__gamma=0.0001, estimator__kernel=rbf; total time=   0.0s\n",
      "[CV] END estimator__C=1000, estimator__gamma=0.0001, estimator__kernel=rbf; total time=   0.0s\n",
      "[CV] END estimator__C=1000, estimator__gamma=0.0001, estimator__kernel=rbf; total time=   0.0s\n",
      "[CV] END estimator__C=1000, estimator__gamma=0.0001, estimator__kernel=rbf; total time=   0.0s\n",
      "Best estimator:  Pipeline(steps=[('scaler', StandardScaler()),\n",
      "                ('estimator', SVC(C=1, gamma=0.1))])\n",
      "Test set score:  0.9996224990562477\n",
      "Mean cross-validated score of the best_estimator:  0.9998381877022654\n"
     ]
    }
   ],
   "source": [
    "SVM_best_estimator = tuning.tuning_with_grid('SVM', X_train, y_train, X_test, y_test, 5)"
   ],
   "metadata": {
    "collapsed": false,
    "ExecuteTime": {
     "start_time": "2023-04-15T08:58:45.776601Z",
     "end_time": "2023-04-15T08:59:10.923024Z"
    }
   }
  },
  {
   "cell_type": "markdown",
   "source": [
    "## 4. Multilayer Perceptron (MLP)"
   ],
   "metadata": {
    "collapsed": false
   }
  },
  {
   "cell_type": "code",
   "execution_count": 11,
   "outputs": [
    {
     "name": "stdout",
     "output_type": "stream",
     "text": [
      "Fitting 5 folds for each of 10 candidates, totalling 50 fits\n",
      "[CV] END estimator__activation=identity, estimator__alpha=0.05, estimator__hidden_layer_sizes=(100,), estimator__learning_rate=adaptive, estimator__solver=lbfgs; total time=   0.4s\n",
      "[CV] END estimator__activation=identity, estimator__alpha=0.05, estimator__hidden_layer_sizes=(100,), estimator__learning_rate=adaptive, estimator__solver=lbfgs; total time=   0.3s\n",
      "[CV] END estimator__activation=identity, estimator__alpha=0.05, estimator__hidden_layer_sizes=(100,), estimator__learning_rate=adaptive, estimator__solver=lbfgs; total time=   0.4s\n",
      "[CV] END estimator__activation=identity, estimator__alpha=0.05, estimator__hidden_layer_sizes=(100,), estimator__learning_rate=adaptive, estimator__solver=lbfgs; total time=   0.4s\n",
      "[CV] END estimator__activation=identity, estimator__alpha=0.05, estimator__hidden_layer_sizes=(100,), estimator__learning_rate=adaptive, estimator__solver=lbfgs; total time=   0.5s\n",
      "[CV] END estimator__activation=logistic, estimator__alpha=0.0001, estimator__hidden_layer_sizes=(50, 50, 50), estimator__learning_rate=invscaling, estimator__solver=sgd; total time=   0.7s\n",
      "[CV] END estimator__activation=logistic, estimator__alpha=0.0001, estimator__hidden_layer_sizes=(50, 50, 50), estimator__learning_rate=invscaling, estimator__solver=sgd; total time=   1.5s\n",
      "[CV] END estimator__activation=logistic, estimator__alpha=0.0001, estimator__hidden_layer_sizes=(50, 50, 50), estimator__learning_rate=invscaling, estimator__solver=sgd; total time=   1.0s\n",
      "[CV] END estimator__activation=logistic, estimator__alpha=0.0001, estimator__hidden_layer_sizes=(50, 50, 50), estimator__learning_rate=invscaling, estimator__solver=sgd; total time=   1.7s\n",
      "[CV] END estimator__activation=logistic, estimator__alpha=0.0001, estimator__hidden_layer_sizes=(50, 50, 50), estimator__learning_rate=invscaling, estimator__solver=sgd; total time=   0.5s\n",
      "[CV] END estimator__activation=logistic, estimator__alpha=0.05, estimator__hidden_layer_sizes=(100,), estimator__learning_rate=constant, estimator__solver=lbfgs; total time=   0.3s\n",
      "[CV] END estimator__activation=logistic, estimator__alpha=0.05, estimator__hidden_layer_sizes=(100,), estimator__learning_rate=constant, estimator__solver=lbfgs; total time=   0.8s\n",
      "[CV] END estimator__activation=logistic, estimator__alpha=0.05, estimator__hidden_layer_sizes=(100,), estimator__learning_rate=constant, estimator__solver=lbfgs; total time=   0.7s\n",
      "[CV] END estimator__activation=logistic, estimator__alpha=0.05, estimator__hidden_layer_sizes=(100,), estimator__learning_rate=constant, estimator__solver=lbfgs; total time=   0.4s\n",
      "[CV] END estimator__activation=logistic, estimator__alpha=0.05, estimator__hidden_layer_sizes=(100,), estimator__learning_rate=constant, estimator__solver=lbfgs; total time=   0.3s\n",
      "[CV] END estimator__activation=tanh, estimator__alpha=0.0001, estimator__hidden_layer_sizes=(100,), estimator__learning_rate=constant, estimator__solver=lbfgs; total time=   0.9s\n",
      "[CV] END estimator__activation=tanh, estimator__alpha=0.0001, estimator__hidden_layer_sizes=(100,), estimator__learning_rate=constant, estimator__solver=lbfgs; total time=   0.7s\n",
      "[CV] END estimator__activation=tanh, estimator__alpha=0.0001, estimator__hidden_layer_sizes=(100,), estimator__learning_rate=constant, estimator__solver=lbfgs; total time=   1.3s\n",
      "[CV] END estimator__activation=tanh, estimator__alpha=0.0001, estimator__hidden_layer_sizes=(100,), estimator__learning_rate=constant, estimator__solver=lbfgs; total time=   0.9s\n",
      "[CV] END estimator__activation=tanh, estimator__alpha=0.0001, estimator__hidden_layer_sizes=(100,), estimator__learning_rate=constant, estimator__solver=lbfgs; total time=   1.3s\n",
      "[CV] END estimator__activation=identity, estimator__alpha=0.05, estimator__hidden_layer_sizes=(50, 50, 50), estimator__learning_rate=adaptive, estimator__solver=sgd; total time=   3.1s\n",
      "[CV] END estimator__activation=identity, estimator__alpha=0.05, estimator__hidden_layer_sizes=(50, 50, 50), estimator__learning_rate=adaptive, estimator__solver=sgd; total time=   6.5s\n",
      "[CV] END estimator__activation=identity, estimator__alpha=0.05, estimator__hidden_layer_sizes=(50, 50, 50), estimator__learning_rate=adaptive, estimator__solver=sgd; total time=   5.0s\n",
      "[CV] END estimator__activation=identity, estimator__alpha=0.05, estimator__hidden_layer_sizes=(50, 50, 50), estimator__learning_rate=adaptive, estimator__solver=sgd; total time=   3.1s\n",
      "[CV] END estimator__activation=identity, estimator__alpha=0.05, estimator__hidden_layer_sizes=(50, 50, 50), estimator__learning_rate=adaptive, estimator__solver=sgd; total time=   6.9s\n",
      "[CV] END estimator__activation=logistic, estimator__alpha=0.0001, estimator__hidden_layer_sizes=(50, 100, 50), estimator__learning_rate=constant, estimator__solver=adam; total time=   3.8s\n",
      "[CV] END estimator__activation=logistic, estimator__alpha=0.0001, estimator__hidden_layer_sizes=(50, 100, 50), estimator__learning_rate=constant, estimator__solver=adam; total time=   5.5s\n",
      "[CV] END estimator__activation=logistic, estimator__alpha=0.0001, estimator__hidden_layer_sizes=(50, 100, 50), estimator__learning_rate=constant, estimator__solver=adam; total time=   6.0s\n",
      "[CV] END estimator__activation=logistic, estimator__alpha=0.0001, estimator__hidden_layer_sizes=(50, 100, 50), estimator__learning_rate=constant, estimator__solver=adam; total time=   7.4s\n",
      "[CV] END estimator__activation=logistic, estimator__alpha=0.0001, estimator__hidden_layer_sizes=(50, 100, 50), estimator__learning_rate=constant, estimator__solver=adam; total time=   4.6s\n",
      "[CV] END estimator__activation=identity, estimator__alpha=0.05, estimator__hidden_layer_sizes=(50, 100, 50), estimator__learning_rate=adaptive, estimator__solver=adam; total time=   4.9s\n",
      "[CV] END estimator__activation=identity, estimator__alpha=0.05, estimator__hidden_layer_sizes=(50, 100, 50), estimator__learning_rate=adaptive, estimator__solver=adam; total time=   3.4s\n",
      "[CV] END estimator__activation=identity, estimator__alpha=0.05, estimator__hidden_layer_sizes=(50, 100, 50), estimator__learning_rate=adaptive, estimator__solver=adam; total time=   8.1s\n",
      "[CV] END estimator__activation=identity, estimator__alpha=0.05, estimator__hidden_layer_sizes=(50, 100, 50), estimator__learning_rate=adaptive, estimator__solver=adam; total time=   7.8s\n",
      "[CV] END estimator__activation=identity, estimator__alpha=0.05, estimator__hidden_layer_sizes=(50, 100, 50), estimator__learning_rate=adaptive, estimator__solver=adam; total time=   8.3s\n",
      "[CV] END estimator__activation=logistic, estimator__alpha=0.0001, estimator__hidden_layer_sizes=(100,), estimator__learning_rate=constant, estimator__solver=sgd; total time=  10.5s\n",
      "[CV] END estimator__activation=logistic, estimator__alpha=0.0001, estimator__hidden_layer_sizes=(100,), estimator__learning_rate=constant, estimator__solver=sgd; total time=   4.7s\n",
      "[CV] END estimator__activation=logistic, estimator__alpha=0.0001, estimator__hidden_layer_sizes=(100,), estimator__learning_rate=constant, estimator__solver=sgd; total time=   6.4s\n",
      "[CV] END estimator__activation=logistic, estimator__alpha=0.0001, estimator__hidden_layer_sizes=(100,), estimator__learning_rate=constant, estimator__solver=sgd; total time=   6.8s\n",
      "[CV] END estimator__activation=logistic, estimator__alpha=0.0001, estimator__hidden_layer_sizes=(100,), estimator__learning_rate=constant, estimator__solver=sgd; total time=   8.5s\n",
      "[CV] END estimator__activation=identity, estimator__alpha=0.05, estimator__hidden_layer_sizes=(100,), estimator__learning_rate=invscaling, estimator__solver=adam; total time=   2.3s\n",
      "[CV] END estimator__activation=identity, estimator__alpha=0.05, estimator__hidden_layer_sizes=(100,), estimator__learning_rate=invscaling, estimator__solver=adam; total time=   2.1s\n",
      "[CV] END estimator__activation=identity, estimator__alpha=0.05, estimator__hidden_layer_sizes=(100,), estimator__learning_rate=invscaling, estimator__solver=adam; total time=   2.8s\n",
      "[CV] END estimator__activation=identity, estimator__alpha=0.05, estimator__hidden_layer_sizes=(100,), estimator__learning_rate=invscaling, estimator__solver=adam; total time=   4.9s\n",
      "[CV] END estimator__activation=identity, estimator__alpha=0.05, estimator__hidden_layer_sizes=(100,), estimator__learning_rate=invscaling, estimator__solver=adam; total time=   1.4s\n",
      "[CV] END estimator__activation=identity, estimator__alpha=0.05, estimator__hidden_layer_sizes=(50, 100, 50), estimator__learning_rate=constant, estimator__solver=adam; total time=   9.7s\n",
      "[CV] END estimator__activation=identity, estimator__alpha=0.05, estimator__hidden_layer_sizes=(50, 100, 50), estimator__learning_rate=constant, estimator__solver=adam; total time=   6.2s\n",
      "[CV] END estimator__activation=identity, estimator__alpha=0.05, estimator__hidden_layer_sizes=(50, 100, 50), estimator__learning_rate=constant, estimator__solver=adam; total time=   7.0s\n",
      "[CV] END estimator__activation=identity, estimator__alpha=0.05, estimator__hidden_layer_sizes=(50, 100, 50), estimator__learning_rate=constant, estimator__solver=adam; total time=   8.7s\n",
      "[CV] END estimator__activation=identity, estimator__alpha=0.05, estimator__hidden_layer_sizes=(50, 100, 50), estimator__learning_rate=constant, estimator__solver=adam; total time=  11.3s\n",
      "Best estimator:  Pipeline(steps=[('scaler', StandardScaler()),\n",
      "                ('estimator',\n",
      "                 MLPClassifier(activation='tanh', max_iter=500,\n",
      "                               solver='lbfgs'))])\n",
      "Test set score:  0.9988674971687429\n",
      "Mean cross-validated score of the best_estimator:  0.9998381877022654\n"
     ]
    }
   ],
   "source": [
    "MLP_best_estimator = tuning.tuning_with_randomized('MLP', X_train, y_train, X_test, y_test, 5)"
   ],
   "metadata": {
    "collapsed": false,
    "ExecuteTime": {
     "start_time": "2023-04-15T08:59:10.927714Z",
     "end_time": "2023-04-15T09:02:25.088646Z"
    }
   }
  },
  {
   "cell_type": "markdown",
   "source": [
    "## Store tuned estimators"
   ],
   "metadata": {
    "collapsed": false
   }
  },
  {
   "cell_type": "code",
   "execution_count": 12,
   "outputs": [],
   "source": [
    "# Create list where we are to store the tuned models\n",
    "estimators_list = []\n",
    "\n",
    "# Add tuned models inside list\n",
    "estimators_list.append(LR_best_estimator)\n",
    "estimators_list.append(RF_best_estimator)\n",
    "estimators_list.append(SVM_best_estimator)\n",
    "estimators_list.append(MLP_best_estimator)"
   ],
   "metadata": {
    "collapsed": false,
    "ExecuteTime": {
     "start_time": "2023-04-15T09:02:25.090216Z",
     "end_time": "2023-04-15T09:02:25.272540Z"
    }
   }
  },
  {
   "cell_type": "markdown",
   "source": [
    "# 5. Track training process"
   ],
   "metadata": {
    "collapsed": false
   }
  },
  {
   "cell_type": "markdown",
   "source": [
    "## 1. Codecarbon"
   ],
   "metadata": {
    "collapsed": false
   }
  },
  {
   "cell_type": "code",
   "execution_count": 13,
   "outputs": [
    {
     "name": "stderr",
     "output_type": "stream",
     "text": [
      "[codecarbon INFO @ 09:02:25] [setup] RAM Tracking...\n",
      "[codecarbon INFO @ 09:02:25] [setup] GPU Tracking...\n",
      "[codecarbon INFO @ 09:02:26] No GPU found.\n",
      "[codecarbon INFO @ 09:02:26] [setup] CPU Tracking...\n",
      "[codecarbon WARNING @ 09:02:26] No CPU tracking mode found. Falling back on CPU constant mode.\n",
      "[codecarbon INFO @ 09:02:28] CPU Model on constant consumption mode: Intel(R) Core(TM) i5-9400F CPU @ 2.90GHz\n",
      "[codecarbon INFO @ 09:02:28] >>> Tracker's metadata:\n",
      "[codecarbon INFO @ 09:02:28]   Platform system: Linux-5.19.0-38-generic-x86_64-with-glibc2.35\n",
      "[codecarbon INFO @ 09:02:28]   Python version: 3.10.8\n",
      "[codecarbon INFO @ 09:02:28]   Available RAM : 4.946 GB\n",
      "[codecarbon INFO @ 09:02:28]   CPU count: 4\n",
      "[codecarbon INFO @ 09:02:28]   CPU model: Intel(R) Core(TM) i5-9400F CPU @ 2.90GHz\n",
      "[codecarbon INFO @ 09:02:28]   GPU count: None\n",
      "[codecarbon INFO @ 09:02:28]   GPU model: None\n",
      "[codecarbon INFO @ 09:02:31] Energy consumed for RAM : 0.000000 kWh. RAM Power : 1.8548641204833987 W\n",
      "[codecarbon INFO @ 09:02:31] Energy consumed for all CPUs : 0.000001 kWh. All CPUs Power : 32.5 W\n",
      "[codecarbon INFO @ 09:02:31] 0.000001 kWh of electricity used since the begining.\n",
      "[codecarbon INFO @ 09:02:31] [setup] RAM Tracking...\n",
      "[codecarbon INFO @ 09:02:31] [setup] GPU Tracking...\n",
      "[codecarbon INFO @ 09:02:31] No GPU found.\n",
      "[codecarbon INFO @ 09:02:31] [setup] CPU Tracking...\n",
      "[codecarbon WARNING @ 09:02:31] No CPU tracking mode found. Falling back on CPU constant mode.\n"
     ]
    },
    {
     "name": "stdout",
     "output_type": "stream",
     "text": [
      "Emissions: 2.436778936178308e-07 kg\n"
     ]
    },
    {
     "name": "stderr",
     "output_type": "stream",
     "text": [
      "[codecarbon INFO @ 09:02:33] CPU Model on constant consumption mode: Intel(R) Core(TM) i5-9400F CPU @ 2.90GHz\n",
      "[codecarbon INFO @ 09:02:33] >>> Tracker's metadata:\n",
      "[codecarbon INFO @ 09:02:33]   Platform system: Linux-5.19.0-38-generic-x86_64-with-glibc2.35\n",
      "[codecarbon INFO @ 09:02:33]   Python version: 3.10.8\n",
      "[codecarbon INFO @ 09:02:33]   Available RAM : 4.946 GB\n",
      "[codecarbon INFO @ 09:02:33]   CPU count: 4\n",
      "[codecarbon INFO @ 09:02:33]   CPU model: Intel(R) Core(TM) i5-9400F CPU @ 2.90GHz\n",
      "[codecarbon INFO @ 09:02:33]   GPU count: None\n",
      "[codecarbon INFO @ 09:02:33]   GPU model: None\n",
      "[codecarbon INFO @ 09:02:36] Energy consumed for RAM : 0.000000 kWh. RAM Power : 1.8548641204833987 W\n",
      "[codecarbon INFO @ 09:02:36] Energy consumed for all CPUs : 0.000002 kWh. All CPUs Power : 32.5 W\n",
      "[codecarbon INFO @ 09:02:36] 0.000002 kWh of electricity used since the begining.\n",
      "[codecarbon INFO @ 09:02:36] [setup] RAM Tracking...\n",
      "[codecarbon INFO @ 09:02:36] [setup] GPU Tracking...\n",
      "[codecarbon INFO @ 09:02:36] No GPU found.\n",
      "[codecarbon INFO @ 09:02:37] [setup] CPU Tracking...\n",
      "[codecarbon WARNING @ 09:02:37] No CPU tracking mode found. Falling back on CPU constant mode.\n"
     ]
    },
    {
     "name": "stdout",
     "output_type": "stream",
     "text": [
      "Emissions: 3.976192101413214e-07 kg\n"
     ]
    },
    {
     "name": "stderr",
     "output_type": "stream",
     "text": [
      "[codecarbon INFO @ 09:02:38] CPU Model on constant consumption mode: Intel(R) Core(TM) i5-9400F CPU @ 2.90GHz\n",
      "[codecarbon INFO @ 09:02:38] >>> Tracker's metadata:\n",
      "[codecarbon INFO @ 09:02:38]   Platform system: Linux-5.19.0-38-generic-x86_64-with-glibc2.35\n",
      "[codecarbon INFO @ 09:02:38]   Python version: 3.10.8\n",
      "[codecarbon INFO @ 09:02:38]   Available RAM : 4.946 GB\n",
      "[codecarbon INFO @ 09:02:38]   CPU count: 4\n",
      "[codecarbon INFO @ 09:02:38]   CPU model: Intel(R) Core(TM) i5-9400F CPU @ 2.90GHz\n",
      "[codecarbon INFO @ 09:02:38]   GPU count: None\n",
      "[codecarbon INFO @ 09:02:38]   GPU model: None\n",
      "[codecarbon INFO @ 09:02:41] Energy consumed for RAM : 0.000000 kWh. RAM Power : 1.8548641204833987 W\n",
      "[codecarbon INFO @ 09:02:41] Energy consumed for all CPUs : 0.000001 kWh. All CPUs Power : 32.5 W\n",
      "[codecarbon INFO @ 09:02:41] 0.000001 kWh of electricity used since the begining.\n",
      "[codecarbon INFO @ 09:02:41] [setup] RAM Tracking...\n",
      "[codecarbon INFO @ 09:02:41] [setup] GPU Tracking...\n",
      "[codecarbon INFO @ 09:02:41] No GPU found.\n",
      "[codecarbon INFO @ 09:02:41] [setup] CPU Tracking...\n",
      "[codecarbon WARNING @ 09:02:41] No CPU tracking mode found. Falling back on CPU constant mode.\n"
     ]
    },
    {
     "name": "stdout",
     "output_type": "stream",
     "text": [
      "Emissions: 1.695454053844906e-07 kg\n"
     ]
    },
    {
     "name": "stderr",
     "output_type": "stream",
     "text": [
      "[codecarbon INFO @ 09:02:43] CPU Model on constant consumption mode: Intel(R) Core(TM) i5-9400F CPU @ 2.90GHz\n",
      "[codecarbon INFO @ 09:02:43] >>> Tracker's metadata:\n",
      "[codecarbon INFO @ 09:02:43]   Platform system: Linux-5.19.0-38-generic-x86_64-with-glibc2.35\n",
      "[codecarbon INFO @ 09:02:43]   Python version: 3.10.8\n",
      "[codecarbon INFO @ 09:02:43]   Available RAM : 4.946 GB\n",
      "[codecarbon INFO @ 09:02:43]   CPU count: 4\n",
      "[codecarbon INFO @ 09:02:43]   CPU model: Intel(R) Core(TM) i5-9400F CPU @ 2.90GHz\n",
      "[codecarbon INFO @ 09:02:43]   GPU count: None\n",
      "[codecarbon INFO @ 09:02:43]   GPU model: None\n",
      "[codecarbon INFO @ 09:02:47] Energy consumed for RAM : 0.000000 kWh. RAM Power : 1.8548641204833987 W\n",
      "[codecarbon INFO @ 09:02:47] Energy consumed for all CPUs : 0.000004 kWh. All CPUs Power : 32.5 W\n",
      "[codecarbon INFO @ 09:02:47] 0.000004 kWh of electricity used since the begining.\n"
     ]
    },
    {
     "name": "stdout",
     "output_type": "stream",
     "text": [
      "Emissions: 7.933821499837437e-07 kg\n"
     ]
    }
   ],
   "source": [
    "# Track estimators_list training with codecarbon\n",
    "tracking.track_benchmarking_codecabon(estimators_list, X_train, y_train)"
   ],
   "metadata": {
    "collapsed": false,
    "ExecuteTime": {
     "start_time": "2023-04-15T09:02:25.286987Z",
     "end_time": "2023-04-15T09:02:47.167128Z"
    }
   }
  },
  {
   "cell_type": "markdown",
   "source": [
    "## 2. Eco2AI"
   ],
   "metadata": {
    "collapsed": false
   }
  },
  {
   "cell_type": "code",
   "execution_count": 14,
   "outputs": [
    {
     "name": "stderr",
     "output_type": "stream",
     "text": [
      "/home/misanchz/miniconda3/envs/TFG/lib/python3.10/site-packages/eco2ai/emission_track.py:135: UserWarning: \n",
      "If you use a VPN, you may have problems with identifying your country by IP.\n",
      "It is recommended to disable VPN or\n",
      "manually install the ISO-Alpha-2 code of your country during initialization of the Tracker() class.\n",
      "You can find the ISO-Alpha-2 code of your country here: https://www.iban.com/country-codes\n",
      "\n",
      "  warnings.warn(\n",
      "/home/misanchz/miniconda3/envs/TFG/lib/python3.10/site-packages/eco2ai/tools/tools_gpu.py:39: NoGPUWarning: \n",
      "\n",
      "There is no any available GPU devices or your GPU is not supported by Nvidia library!\n",
      "The tracker will consider CPU usage only\n",
      "\n",
      "  warnings.warn(message=\"\\n\\nThere is no any available GPU devices or your GPU is not supported by Nvidia library!\\nThe tracker will consider CPU usage only\\n\",\n",
      "/home/misanchz/miniconda3/envs/TFG/lib/python3.10/site-packages/eco2ai/emission_track.py:135: UserWarning: \n",
      "If you use a VPN, you may have problems with identifying your country by IP.\n",
      "It is recommended to disable VPN or\n",
      "manually install the ISO-Alpha-2 code of your country during initialization of the Tracker() class.\n",
      "You can find the ISO-Alpha-2 code of your country here: https://www.iban.com/country-codes\n",
      "\n",
      "  warnings.warn(\n",
      "/home/misanchz/miniconda3/envs/TFG/lib/python3.10/site-packages/eco2ai/tools/tools_gpu.py:39: NoGPUWarning: \n",
      "\n",
      "There is no any available GPU devices or your GPU is not supported by Nvidia library!\n",
      "The tracker will consider CPU usage only\n",
      "\n",
      "  warnings.warn(message=\"\\n\\nThere is no any available GPU devices or your GPU is not supported by Nvidia library!\\nThe tracker will consider CPU usage only\\n\",\n",
      "/home/misanchz/miniconda3/envs/TFG/lib/python3.10/site-packages/eco2ai/emission_track.py:135: UserWarning: \n",
      "If you use a VPN, you may have problems with identifying your country by IP.\n",
      "It is recommended to disable VPN or\n",
      "manually install the ISO-Alpha-2 code of your country during initialization of the Tracker() class.\n",
      "You can find the ISO-Alpha-2 code of your country here: https://www.iban.com/country-codes\n",
      "\n",
      "  warnings.warn(\n",
      "/home/misanchz/miniconda3/envs/TFG/lib/python3.10/site-packages/eco2ai/tools/tools_gpu.py:39: NoGPUWarning: \n",
      "\n",
      "There is no any available GPU devices or your GPU is not supported by Nvidia library!\n",
      "The tracker will consider CPU usage only\n",
      "\n",
      "  warnings.warn(message=\"\\n\\nThere is no any available GPU devices or your GPU is not supported by Nvidia library!\\nThe tracker will consider CPU usage only\\n\",\n",
      "/home/misanchz/miniconda3/envs/TFG/lib/python3.10/site-packages/eco2ai/emission_track.py:135: UserWarning: \n",
      "If you use a VPN, you may have problems with identifying your country by IP.\n",
      "It is recommended to disable VPN or\n",
      "manually install the ISO-Alpha-2 code of your country during initialization of the Tracker() class.\n",
      "You can find the ISO-Alpha-2 code of your country here: https://www.iban.com/country-codes\n",
      "\n",
      "  warnings.warn(\n",
      "/home/misanchz/miniconda3/envs/TFG/lib/python3.10/site-packages/eco2ai/tools/tools_gpu.py:39: NoGPUWarning: \n",
      "\n",
      "There is no any available GPU devices or your GPU is not supported by Nvidia library!\n",
      "The tracker will consider CPU usage only\n",
      "\n",
      "  warnings.warn(message=\"\\n\\nThere is no any available GPU devices or your GPU is not supported by Nvidia library!\\nThe tracker will consider CPU usage only\\n\",\n"
     ]
    }
   ],
   "source": [
    "# Track estimators_list training with eco2ai\n",
    "tracking.track_benchmarking_eco2ai(estimators_list, X_train, y_train)"
   ],
   "metadata": {
    "collapsed": false,
    "ExecuteTime": {
     "start_time": "2023-04-15T09:02:47.047955Z",
     "end_time": "2023-04-15T09:02:55.924366Z"
    }
   }
  },
  {
   "cell_type": "markdown",
   "source": [
    "# 6. Create benchmarking"
   ],
   "metadata": {
    "collapsed": false
   }
  },
  {
   "cell_type": "code",
   "execution_count": 15,
   "outputs": [],
   "source": [
    "benchmarking.create_benchmarking_csv()"
   ],
   "metadata": {
    "collapsed": false,
    "ExecuteTime": {
     "start_time": "2023-04-15T09:02:55.930113Z",
     "end_time": "2023-04-15T09:02:55.957794Z"
    }
   }
  },
  {
   "cell_type": "code",
   "execution_count": 16,
   "outputs": [
    {
     "data": {
      "text/plain": "  Herramientas  Logistic Regression(kWh)  Random Forest(kWh)  \\\n0   codecarbon              1.282515e-06        2.092733e-06   \n1       eco2ai              1.041577e-08        1.011879e-08   \n\n   Support Vector Machines(kWh)  Multilayer Perceptron(kWh)  \\\n0                  8.923442e-07                    0.000004   \n1                  1.005836e-08                    0.000018   \n\n   Eficiencia energetica  \n0                      0  \n1                      0  ",
      "text/html": "<div>\n<style scoped>\n    .dataframe tbody tr th:only-of-type {\n        vertical-align: middle;\n    }\n\n    .dataframe tbody tr th {\n        vertical-align: top;\n    }\n\n    .dataframe thead th {\n        text-align: right;\n    }\n</style>\n<table border=\"1\" class=\"dataframe\">\n  <thead>\n    <tr style=\"text-align: right;\">\n      <th></th>\n      <th>Herramientas</th>\n      <th>Logistic Regression(kWh)</th>\n      <th>Random Forest(kWh)</th>\n      <th>Support Vector Machines(kWh)</th>\n      <th>Multilayer Perceptron(kWh)</th>\n      <th>Eficiencia energetica</th>\n    </tr>\n  </thead>\n  <tbody>\n    <tr>\n      <th>0</th>\n      <td>codecarbon</td>\n      <td>1.282515e-06</td>\n      <td>2.092733e-06</td>\n      <td>8.923442e-07</td>\n      <td>0.000004</td>\n      <td>0</td>\n    </tr>\n    <tr>\n      <th>1</th>\n      <td>eco2ai</td>\n      <td>1.041577e-08</td>\n      <td>1.011879e-08</td>\n      <td>1.005836e-08</td>\n      <td>0.000018</td>\n      <td>0</td>\n    </tr>\n  </tbody>\n</table>\n</div>"
     },
     "execution_count": 16,
     "metadata": {},
     "output_type": "execute_result"
    }
   ],
   "source": [
    "df_benchmarking = preprocess.load_csv_data('benchmarking.csv')\n",
    "df_benchmarking"
   ],
   "metadata": {
    "collapsed": false,
    "ExecuteTime": {
     "start_time": "2023-04-15T09:02:55.942370Z",
     "end_time": "2023-04-15T09:02:56.018273Z"
    }
   }
  }
 ],
 "metadata": {
  "kernelspec": {
   "display_name": "Python 3",
   "language": "python",
   "name": "python3"
  },
  "language_info": {
   "codemirror_mode": {
    "name": "ipython",
    "version": 2
   },
   "file_extension": ".py",
   "mimetype": "text/x-python",
   "name": "python",
   "nbconvert_exporter": "python",
   "pygments_lexer": "ipython2",
   "version": "2.7.6"
  }
 },
 "nbformat": 4,
 "nbformat_minor": 0
}
