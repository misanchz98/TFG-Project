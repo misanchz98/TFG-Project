{
 "cells": [
  {
   "cell_type": "markdown",
   "source": [
    "# 1. Importación de paquetes"
   ],
   "metadata": {
    "collapsed": false,
    "pycharm": {
     "name": "#%% md\n"
    }
   }
  },
  {
   "cell_type": "code",
   "execution_count": 20,
   "outputs": [],
   "source": [
    "#Import packages\n",
    "from modules import preprocess\n",
    "from modules import training\n",
    "import pandas as pd"
   ],
   "metadata": {
    "collapsed": false,
    "pycharm": {
     "name": "#%%\n"
    }
   }
  },
  {
   "cell_type": "markdown",
   "source": [
    "# 2. Preprocesamiento del *dataset*: [Room Occupancy Estimation Data Set](https://www.kaggle.com/ananthr1/room-occupancy-estimation-data-set)"
   ],
   "metadata": {
    "collapsed": false,
    "pycharm": {
     "name": "#%% md\n"
    }
   }
  },
  {
   "cell_type": "markdown",
   "source": [
    "## Paso 1: Lectura del *dataset* y obtención de datos"
   ],
   "metadata": {
    "collapsed": false,
    "pycharm": {
     "name": "#%% md\n"
    }
   }
  },
  {
   "cell_type": "code",
   "execution_count": 21,
   "outputs": [
    {
     "data": {
      "text/plain": "(10129, 19)"
     },
     "execution_count": 21,
     "metadata": {},
     "output_type": "execute_result"
    }
   ],
   "source": [
    "df = preprocess.load_csv_data('Occupancy_Estimation.csv')\n",
    "df.shape"
   ],
   "metadata": {
    "collapsed": false,
    "pycharm": {
     "name": "#%%\n"
    }
   }
  },
  {
   "cell_type": "code",
   "execution_count": 22,
   "outputs": [
    {
     "data": {
      "text/plain": "         Date      Time  S1_Temp  S2_Temp  S3_Temp  S4_Temp  S1_Light  \\\n0  2017/12/22  10:49:41    24.94    24.75    24.56    25.38       121   \n1  2017/12/22  10:50:12    24.94    24.75    24.56    25.44       121   \n2  2017/12/22  10:50:42    25.00    24.75    24.50    25.44       121   \n3  2017/12/22  10:51:13    25.00    24.75    24.56    25.44       121   \n4  2017/12/22  10:51:44    25.00    24.75    24.56    25.44       121   \n\n   S2_Light  S3_Light  S4_Light  S1_Sound  S2_Sound  S3_Sound  S4_Sound  \\\n0        34        53        40      0.08      0.19      0.06      0.06   \n1        33        53        40      0.93      0.05      0.06      0.06   \n2        34        53        40      0.43      0.11      0.08      0.06   \n3        34        53        40      0.41      0.10      0.10      0.09   \n4        34        54        40      0.18      0.06      0.06      0.06   \n\n   S5_CO2  S5_CO2_Slope  S6_PIR  S7_PIR  Room_Occupancy_Count  \n0     390      0.769231       0       0                     1  \n1     390      0.646154       0       0                     1  \n2     390      0.519231       0       0                     1  \n3     390      0.388462       0       0                     1  \n4     390      0.253846       0       0                     1  ",
      "text/html": "<div>\n<style scoped>\n    .dataframe tbody tr th:only-of-type {\n        vertical-align: middle;\n    }\n\n    .dataframe tbody tr th {\n        vertical-align: top;\n    }\n\n    .dataframe thead th {\n        text-align: right;\n    }\n</style>\n<table border=\"1\" class=\"dataframe\">\n  <thead>\n    <tr style=\"text-align: right;\">\n      <th></th>\n      <th>Date</th>\n      <th>Time</th>\n      <th>S1_Temp</th>\n      <th>S2_Temp</th>\n      <th>S3_Temp</th>\n      <th>S4_Temp</th>\n      <th>S1_Light</th>\n      <th>S2_Light</th>\n      <th>S3_Light</th>\n      <th>S4_Light</th>\n      <th>S1_Sound</th>\n      <th>S2_Sound</th>\n      <th>S3_Sound</th>\n      <th>S4_Sound</th>\n      <th>S5_CO2</th>\n      <th>S5_CO2_Slope</th>\n      <th>S6_PIR</th>\n      <th>S7_PIR</th>\n      <th>Room_Occupancy_Count</th>\n    </tr>\n  </thead>\n  <tbody>\n    <tr>\n      <th>0</th>\n      <td>2017/12/22</td>\n      <td>10:49:41</td>\n      <td>24.94</td>\n      <td>24.75</td>\n      <td>24.56</td>\n      <td>25.38</td>\n      <td>121</td>\n      <td>34</td>\n      <td>53</td>\n      <td>40</td>\n      <td>0.08</td>\n      <td>0.19</td>\n      <td>0.06</td>\n      <td>0.06</td>\n      <td>390</td>\n      <td>0.769231</td>\n      <td>0</td>\n      <td>0</td>\n      <td>1</td>\n    </tr>\n    <tr>\n      <th>1</th>\n      <td>2017/12/22</td>\n      <td>10:50:12</td>\n      <td>24.94</td>\n      <td>24.75</td>\n      <td>24.56</td>\n      <td>25.44</td>\n      <td>121</td>\n      <td>33</td>\n      <td>53</td>\n      <td>40</td>\n      <td>0.93</td>\n      <td>0.05</td>\n      <td>0.06</td>\n      <td>0.06</td>\n      <td>390</td>\n      <td>0.646154</td>\n      <td>0</td>\n      <td>0</td>\n      <td>1</td>\n    </tr>\n    <tr>\n      <th>2</th>\n      <td>2017/12/22</td>\n      <td>10:50:42</td>\n      <td>25.00</td>\n      <td>24.75</td>\n      <td>24.50</td>\n      <td>25.44</td>\n      <td>121</td>\n      <td>34</td>\n      <td>53</td>\n      <td>40</td>\n      <td>0.43</td>\n      <td>0.11</td>\n      <td>0.08</td>\n      <td>0.06</td>\n      <td>390</td>\n      <td>0.519231</td>\n      <td>0</td>\n      <td>0</td>\n      <td>1</td>\n    </tr>\n    <tr>\n      <th>3</th>\n      <td>2017/12/22</td>\n      <td>10:51:13</td>\n      <td>25.00</td>\n      <td>24.75</td>\n      <td>24.56</td>\n      <td>25.44</td>\n      <td>121</td>\n      <td>34</td>\n      <td>53</td>\n      <td>40</td>\n      <td>0.41</td>\n      <td>0.10</td>\n      <td>0.10</td>\n      <td>0.09</td>\n      <td>390</td>\n      <td>0.388462</td>\n      <td>0</td>\n      <td>0</td>\n      <td>1</td>\n    </tr>\n    <tr>\n      <th>4</th>\n      <td>2017/12/22</td>\n      <td>10:51:44</td>\n      <td>25.00</td>\n      <td>24.75</td>\n      <td>24.56</td>\n      <td>25.44</td>\n      <td>121</td>\n      <td>34</td>\n      <td>54</td>\n      <td>40</td>\n      <td>0.18</td>\n      <td>0.06</td>\n      <td>0.06</td>\n      <td>0.06</td>\n      <td>390</td>\n      <td>0.253846</td>\n      <td>0</td>\n      <td>0</td>\n      <td>1</td>\n    </tr>\n  </tbody>\n</table>\n</div>"
     },
     "execution_count": 22,
     "metadata": {},
     "output_type": "execute_result"
    }
   ],
   "source": [
    "df.head()"
   ],
   "metadata": {
    "collapsed": false,
    "pycharm": {
     "name": "#%%\n"
    }
   }
  },
  {
   "cell_type": "markdown",
   "source": [
    "## Paso 2: Recodificación de la columna *RoomOccupancyCount*\n",
    "\n",
    "En este caso, la columna que contiene la variable de salida (*RoomOccupancyCount*) cuenta el número de personas en la sala. Para simplificar, nuestro objetivo va a ser detectar si la sala está vacía o, en cambio, hay alguien (no el número exacto de personas).\n",
    "\n",
    "Por lo tanto, se **recodificará cualquier valor mayor que 0 en esa columna como 1**, de tal forma que la variable de salida sea binaria:\n",
    "- 0 -> ausencia.\n",
    "- 1 -> presencia."
   ],
   "metadata": {
    "collapsed": false,
    "pycharm": {
     "name": "#%% md\n"
    }
   }
  },
  {
   "cell_type": "code",
   "execution_count": 23,
   "outputs": [
    {
     "data": {
      "text/plain": "0        1\n1        1\n2        1\n3        1\n4        1\n        ..\n10124    0\n10125    0\n10126    0\n10127    0\n10128    0\nName: Room_Occupancy_Count, Length: 10129, dtype: int64"
     },
     "execution_count": 23,
     "metadata": {},
     "output_type": "execute_result"
    }
   ],
   "source": [
    "# Show \"Room_Occupancy_Count\" before processing\n",
    "df[\"Room_Occupancy_Count\"]"
   ],
   "metadata": {
    "collapsed": false,
    "pycharm": {
     "name": "#%%\n"
    }
   }
  },
  {
   "cell_type": "code",
   "execution_count": 24,
   "outputs": [
    {
     "data": {
      "text/plain": "0        1\n1        1\n2        1\n3        1\n4        1\n        ..\n10124    0\n10125    0\n10126    0\n10127    0\n10128    0\nName: Room_Occupancy_Count, Length: 10129, dtype: int64"
     },
     "execution_count": 24,
     "metadata": {},
     "output_type": "execute_result"
    }
   ],
   "source": [
    "#Process \"Room_Occupancy_Count\"\n",
    "preprocess.recode_dataset_output(df)\n",
    "\n",
    "# Show \"Room_Occupancy_Count\" after processing\n",
    "df[\"Room_Occupancy_Count\"]"
   ],
   "metadata": {
    "collapsed": false,
    "pycharm": {
     "name": "#%%\n"
    }
   }
  },
  {
   "cell_type": "markdown",
   "source": [
    "## Paso 3: Eliminación de las columnas temporales *Date* y *Time*\n",
    "\n",
    "Respecto a los datos ofrecidos por las columas *Date* y *Time*, vamos a filtrarlos y dejarlos fuera del proceso. Ya que, aunque los incluyeramos (por ejemplo, juntando ambas partes en una sola columna y convirtiéndolo a formato 'epoch', como long int), los valores de muestras sucesivas de esa columna estarían totalmente correlados entre sí y, como consecuencia, fastidiaríamos a la mayoría de algoritmos que vamos a emplear posteriormente.\n",
    "\n",
    "Se debe tener en cuenta que no nos estamos olvidando de la información temporal para considerar como si cada valor muestreado (fila de la tabla) fuese independiente de las demás filas. Sabemos que eso no es así, pero estamos considerando que esa información temporal no nos ofrece valor añadido para predecir si la habitación está ocupada o vacía. En caso contrario, se tendrían que usar modelos bastante más complicados para considerar esa relación temporal que indica que, en realidad, las muestras de dos filas adyacentes son consecutivas en el tiempo."
   ],
   "metadata": {
    "collapsed": false,
    "pycharm": {
     "name": "#%% md\n"
    }
   }
  },
  {
   "cell_type": "code",
   "execution_count": 25,
   "outputs": [
    {
     "data": {
      "text/plain": "   S1_Temp  S2_Temp  S3_Temp  S4_Temp  S1_Light  S2_Light  S3_Light  S4_Light  \\\n0    24.94    24.75    24.56    25.38       121        34        53        40   \n1    24.94    24.75    24.56    25.44       121        33        53        40   \n2    25.00    24.75    24.50    25.44       121        34        53        40   \n3    25.00    24.75    24.56    25.44       121        34        53        40   \n4    25.00    24.75    24.56    25.44       121        34        54        40   \n\n   S1_Sound  S2_Sound  S3_Sound  S4_Sound  S5_CO2  S5_CO2_Slope  S6_PIR  \\\n0      0.08      0.19      0.06      0.06     390      0.769231       0   \n1      0.93      0.05      0.06      0.06     390      0.646154       0   \n2      0.43      0.11      0.08      0.06     390      0.519231       0   \n3      0.41      0.10      0.10      0.09     390      0.388462       0   \n4      0.18      0.06      0.06      0.06     390      0.253846       0   \n\n   S7_PIR  Room_Occupancy_Count  \n0       0                     1  \n1       0                     1  \n2       0                     1  \n3       0                     1  \n4       0                     1  ",
      "text/html": "<div>\n<style scoped>\n    .dataframe tbody tr th:only-of-type {\n        vertical-align: middle;\n    }\n\n    .dataframe tbody tr th {\n        vertical-align: top;\n    }\n\n    .dataframe thead th {\n        text-align: right;\n    }\n</style>\n<table border=\"1\" class=\"dataframe\">\n  <thead>\n    <tr style=\"text-align: right;\">\n      <th></th>\n      <th>S1_Temp</th>\n      <th>S2_Temp</th>\n      <th>S3_Temp</th>\n      <th>S4_Temp</th>\n      <th>S1_Light</th>\n      <th>S2_Light</th>\n      <th>S3_Light</th>\n      <th>S4_Light</th>\n      <th>S1_Sound</th>\n      <th>S2_Sound</th>\n      <th>S3_Sound</th>\n      <th>S4_Sound</th>\n      <th>S5_CO2</th>\n      <th>S5_CO2_Slope</th>\n      <th>S6_PIR</th>\n      <th>S7_PIR</th>\n      <th>Room_Occupancy_Count</th>\n    </tr>\n  </thead>\n  <tbody>\n    <tr>\n      <th>0</th>\n      <td>24.94</td>\n      <td>24.75</td>\n      <td>24.56</td>\n      <td>25.38</td>\n      <td>121</td>\n      <td>34</td>\n      <td>53</td>\n      <td>40</td>\n      <td>0.08</td>\n      <td>0.19</td>\n      <td>0.06</td>\n      <td>0.06</td>\n      <td>390</td>\n      <td>0.769231</td>\n      <td>0</td>\n      <td>0</td>\n      <td>1</td>\n    </tr>\n    <tr>\n      <th>1</th>\n      <td>24.94</td>\n      <td>24.75</td>\n      <td>24.56</td>\n      <td>25.44</td>\n      <td>121</td>\n      <td>33</td>\n      <td>53</td>\n      <td>40</td>\n      <td>0.93</td>\n      <td>0.05</td>\n      <td>0.06</td>\n      <td>0.06</td>\n      <td>390</td>\n      <td>0.646154</td>\n      <td>0</td>\n      <td>0</td>\n      <td>1</td>\n    </tr>\n    <tr>\n      <th>2</th>\n      <td>25.00</td>\n      <td>24.75</td>\n      <td>24.50</td>\n      <td>25.44</td>\n      <td>121</td>\n      <td>34</td>\n      <td>53</td>\n      <td>40</td>\n      <td>0.43</td>\n      <td>0.11</td>\n      <td>0.08</td>\n      <td>0.06</td>\n      <td>390</td>\n      <td>0.519231</td>\n      <td>0</td>\n      <td>0</td>\n      <td>1</td>\n    </tr>\n    <tr>\n      <th>3</th>\n      <td>25.00</td>\n      <td>24.75</td>\n      <td>24.56</td>\n      <td>25.44</td>\n      <td>121</td>\n      <td>34</td>\n      <td>53</td>\n      <td>40</td>\n      <td>0.41</td>\n      <td>0.10</td>\n      <td>0.10</td>\n      <td>0.09</td>\n      <td>390</td>\n      <td>0.388462</td>\n      <td>0</td>\n      <td>0</td>\n      <td>1</td>\n    </tr>\n    <tr>\n      <th>4</th>\n      <td>25.00</td>\n      <td>24.75</td>\n      <td>24.56</td>\n      <td>25.44</td>\n      <td>121</td>\n      <td>34</td>\n      <td>54</td>\n      <td>40</td>\n      <td>0.18</td>\n      <td>0.06</td>\n      <td>0.06</td>\n      <td>0.06</td>\n      <td>390</td>\n      <td>0.253846</td>\n      <td>0</td>\n      <td>0</td>\n      <td>1</td>\n    </tr>\n  </tbody>\n</table>\n</div>"
     },
     "execution_count": 25,
     "metadata": {},
     "output_type": "execute_result"
    }
   ],
   "source": [
    "# Filter Date and Time columns\n",
    "preprocess.remove_time_columns(df)\n",
    "\n",
    "# Show the result\n",
    "df.head()"
   ],
   "metadata": {
    "collapsed": false,
    "pycharm": {
     "name": "#%%\n"
    }
   }
  },
  {
   "cell_type": "markdown",
   "source": [
    "# 2. Entrenamiento y seguimiento de la huella de carbono"
   ],
   "metadata": {
    "collapsed": false,
    "pycharm": {
     "name": "#%% md\n"
    }
   }
  },
  {
   "cell_type": "markdown",
   "source": [
    "### Codecarbon:"
   ],
   "metadata": {
    "collapsed": false,
    "pycharm": {
     "name": "#%% md\n"
    }
   }
  },
  {
   "cell_type": "code",
   "execution_count": 26,
   "outputs": [
    {
     "name": "stderr",
     "output_type": "stream",
     "text": [
      "[codecarbon INFO @ 11:28:55] [setup] RAM Tracking...\n",
      "[codecarbon INFO @ 11:28:55] [setup] GPU Tracking...\n",
      "[codecarbon INFO @ 11:28:55] No GPU found.\n",
      "[codecarbon INFO @ 11:28:55] [setup] CPU Tracking...\n",
      "[codecarbon WARNING @ 11:28:55] No CPU tracking mode found. Falling back on CPU constant mode.\n",
      "[codecarbon INFO @ 11:28:58] CPU Model on constant consumption mode: Intel(R) Core(TM) i5-9400F CPU @ 2.90GHz\n",
      "[codecarbon INFO @ 11:28:58] >>> Tracker's metadata:\n",
      "[codecarbon INFO @ 11:28:58]   Platform system: Linux-5.15.0-46-generic-x86_64-with-glibc2.35\n",
      "[codecarbon INFO @ 11:28:58]   Python version: 3.10.4\n",
      "[codecarbon INFO @ 11:28:58]   Available RAM : 1.930 GB\n",
      "[codecarbon INFO @ 11:28:58]   CPU count: 1\n",
      "[codecarbon INFO @ 11:28:58]   CPU model: Intel(R) Core(TM) i5-9400F CPU @ 2.90GHz\n",
      "[codecarbon INFO @ 11:28:58]   GPU count: None\n",
      "[codecarbon INFO @ 11:28:58]   GPU model: None\n",
      "[codecarbon INFO @ 11:29:01] Energy consumed for RAM : 0.000000 kWh. RAM Power : 0.7236471176147461 W\n",
      "[codecarbon INFO @ 11:29:01] Energy consumed for all CPUs : 0.000000 kWh. All CPUs Power : 32.5 W\n",
      "[codecarbon INFO @ 11:29:01] 0.000000 kWh of electricity used since the begining.\n"
     ]
    },
    {
     "name": "stdout",
     "output_type": "stream",
     "text": [
      "Emissions: 4.0131552772442095e-08 kg\n"
     ]
    }
   ],
   "source": [
    "# Logistic Regression\n",
    "training.train_LR_codecarbon(df,0.25)"
   ],
   "metadata": {
    "collapsed": false,
    "pycharm": {
     "name": "#%%\n"
    }
   }
  },
  {
   "cell_type": "code",
   "execution_count": 27,
   "outputs": [
    {
     "name": "stderr",
     "output_type": "stream",
     "text": [
      "[codecarbon INFO @ 11:29:01] [setup] RAM Tracking...\n",
      "[codecarbon INFO @ 11:29:01] [setup] GPU Tracking...\n",
      "[codecarbon INFO @ 11:29:01] No GPU found.\n",
      "[codecarbon INFO @ 11:29:01] [setup] CPU Tracking...\n",
      "[codecarbon WARNING @ 11:29:01] No CPU tracking mode found. Falling back on CPU constant mode.\n",
      "[codecarbon INFO @ 11:29:03] CPU Model on constant consumption mode: Intel(R) Core(TM) i5-9400F CPU @ 2.90GHz\n",
      "[codecarbon INFO @ 11:29:03] >>> Tracker's metadata:\n",
      "[codecarbon INFO @ 11:29:03]   Platform system: Linux-5.15.0-46-generic-x86_64-with-glibc2.35\n",
      "[codecarbon INFO @ 11:29:03]   Python version: 3.10.4\n",
      "[codecarbon INFO @ 11:29:03]   Available RAM : 1.930 GB\n",
      "[codecarbon INFO @ 11:29:03]   CPU count: 1\n",
      "[codecarbon INFO @ 11:29:03]   CPU model: Intel(R) Core(TM) i5-9400F CPU @ 2.90GHz\n",
      "[codecarbon INFO @ 11:29:03]   GPU count: None\n",
      "[codecarbon INFO @ 11:29:03]   GPU model: None\n",
      "[codecarbon INFO @ 11:29:06] Energy consumed for RAM : 0.000000 kWh. RAM Power : 0.7236471176147461 W\n",
      "[codecarbon INFO @ 11:29:06] Energy consumed for all CPUs : 0.000002 kWh. All CPUs Power : 32.5 W\n",
      "[codecarbon INFO @ 11:29:06] 0.000002 kWh of electricity used since the begining.\n"
     ]
    },
    {
     "name": "stdout",
     "output_type": "stream",
     "text": [
      "Emissions: 4.646352020179892e-07 kg\n"
     ]
    }
   ],
   "source": [
    "# Random Forest\n",
    "training.train_RF_codecarbon(df,0.25)"
   ],
   "metadata": {
    "collapsed": false,
    "pycharm": {
     "name": "#%%\n"
    }
   }
  },
  {
   "cell_type": "code",
   "execution_count": 28,
   "outputs": [
    {
     "name": "stderr",
     "output_type": "stream",
     "text": [
      "[codecarbon INFO @ 11:29:06] [setup] RAM Tracking...\n",
      "[codecarbon INFO @ 11:29:06] [setup] GPU Tracking...\n",
      "[codecarbon INFO @ 11:29:06] No GPU found.\n",
      "[codecarbon INFO @ 11:29:06] [setup] CPU Tracking...\n",
      "[codecarbon WARNING @ 11:29:06] No CPU tracking mode found. Falling back on CPU constant mode.\n",
      "[codecarbon INFO @ 11:29:08] CPU Model on constant consumption mode: Intel(R) Core(TM) i5-9400F CPU @ 2.90GHz\n",
      "[codecarbon INFO @ 11:29:08] >>> Tracker's metadata:\n",
      "[codecarbon INFO @ 11:29:08]   Platform system: Linux-5.15.0-46-generic-x86_64-with-glibc2.35\n",
      "[codecarbon INFO @ 11:29:08]   Python version: 3.10.4\n",
      "[codecarbon INFO @ 11:29:08]   Available RAM : 1.930 GB\n",
      "[codecarbon INFO @ 11:29:08]   CPU count: 1\n",
      "[codecarbon INFO @ 11:29:08]   CPU model: Intel(R) Core(TM) i5-9400F CPU @ 2.90GHz\n",
      "[codecarbon INFO @ 11:29:08]   GPU count: None\n",
      "[codecarbon INFO @ 11:29:08]   GPU model: None\n",
      "/home/misanchz/miniconda3/envs/TFG-Project/lib/python3.10/site-packages/sklearn/svm/_base.py:1225: ConvergenceWarning: Liblinear failed to converge, increase the number of iterations.\n",
      "  warnings.warn(\n",
      "[codecarbon INFO @ 11:29:11] Energy consumed for RAM : 0.000000 kWh. RAM Power : 0.7236471176147461 W\n",
      "[codecarbon INFO @ 11:29:11] Energy consumed for all CPUs : 0.000000 kWh. All CPUs Power : 32.5 W\n",
      "[codecarbon INFO @ 11:29:11] 0.000000 kWh of electricity used since the begining.\n"
     ]
    },
    {
     "name": "stdout",
     "output_type": "stream",
     "text": [
      "Emissions: 5.688292724352348e-08 kg\n"
     ]
    }
   ],
   "source": [
    "# Linear SVC (Support Vector Machines)\n",
    "training.train_SVC_codecarbon(df,0.25)"
   ],
   "metadata": {
    "collapsed": false,
    "pycharm": {
     "name": "#%%\n"
    }
   }
  },
  {
   "cell_type": "code",
   "execution_count": 29,
   "outputs": [
    {
     "data": {
      "text/plain": "             timestamp project_name                                run_id  \\\n0  2022-08-28T11:22:25   codecarbon  6c51acf7-babd-40dd-9c55-f5783ba513d5   \n1  2022-08-28T11:22:30   codecarbon  454248c0-e227-44c6-b057-06ca16acc51b   \n2  2022-08-28T11:22:35   codecarbon  a055224c-422b-40b8-aef6-ec355f8a68f5   \n3  2022-08-28T11:24:52   codecarbon  ba7db359-927f-4460-9921-356fbf8e0b95   \n4  2022-08-28T11:24:57   codecarbon  45a3c187-388b-457d-8c5e-5bd455eb2323   \n5  2022-08-28T11:25:02   codecarbon  35b951c8-c210-4a62-8f84-1bb53d3415f1   \n6  2022-08-28T11:29:01   codecarbon  cebf61fe-9831-4862-bd45-471a4979cb63   \n7  2022-08-28T11:29:06   codecarbon  68c4a4d1-b954-4b48-b944-99f3d3ccddad   \n8  2022-08-28T11:29:11   codecarbon  c3dffb6f-68bf-4d05-89b9-1a931afa1ef8   \n\n   duration     emissions  emissions_rate  cpu_power  gpu_power  ram_power  \\\n0  0.050660  8.637366e-08        0.001705       32.5        0.0   0.723647   \n1  0.290324  4.998027e-07        0.001722       32.5        0.0   0.723647   \n2  0.017249  2.831957e-08        0.001642       32.5        0.0   0.723647   \n3  0.037277  6.284057e-08        0.001686       32.5        0.0   0.723647   \n4  0.229514  3.947145e-07        0.001720       32.5        0.0   0.723647   \n5  0.023467  3.367600e-08        0.001435       32.5        0.0   0.723647   \n6  0.024377  4.013155e-08        0.001646       32.5        0.0   0.723647   \n7  0.266339  4.646352e-07        0.001745       32.5        0.0   0.723647   \n8  0.033513  5.688293e-08        0.001697       32.5        0.0   0.723647   \n\n     cpu_energy  ...  python_version  cpu_count  \\\n0  4.459752e-07  ...          3.10.4          1   \n1  2.574127e-06  ...          3.10.4          1   \n2  1.460138e-07  ...          3.10.4          1   \n3  3.245998e-07  ...          3.10.4          1   \n4  2.032870e-06  ...          3.10.4          1   \n5  1.741068e-07  ...          3.10.4          1   \n6  2.084568e-07  ...          3.10.4          1   \n7  2.393552e-06  ...          3.10.4          1   \n8  2.930350e-07  ...          3.10.4          1   \n\n                                  cpu_model gpu_count gpu_model longitude  \\\n0  Intel(R) Core(TM) i5-9400F CPU @ 2.90GHz       NaN       NaN   -3.8661   \n1  Intel(R) Core(TM) i5-9400F CPU @ 2.90GHz       NaN       NaN   -3.8661   \n2  Intel(R) Core(TM) i5-9400F CPU @ 2.90GHz       NaN       NaN   -3.8661   \n3  Intel(R) Core(TM) i5-9400F CPU @ 2.90GHz       NaN       NaN   -3.8661   \n4  Intel(R) Core(TM) i5-9400F CPU @ 2.90GHz       NaN       NaN   -3.8661   \n5  Intel(R) Core(TM) i5-9400F CPU @ 2.90GHz       NaN       NaN   -3.8661   \n6  Intel(R) Core(TM) i5-9400F CPU @ 2.90GHz       NaN       NaN   -3.8661   \n7  Intel(R) Core(TM) i5-9400F CPU @ 2.90GHz       NaN       NaN   -3.8661   \n8  Intel(R) Core(TM) i5-9400F CPU @ 2.90GHz       NaN       NaN   -3.8661   \n\n   latitude  ram_total_size tracking_mode on_cloud  \n0   40.3192        1.929726       machine        N  \n1   40.3192        1.929726       machine        N  \n2   40.3192        1.929726       machine        N  \n3   40.3192        1.929726       machine        N  \n4   40.3192        1.929726       machine        N  \n5   40.3192        1.929726       machine        N  \n6   40.3192        1.929726       machine        N  \n7   40.3192        1.929726       machine        N  \n8   40.3192        1.929726       machine        N  \n\n[9 rows x 29 columns]",
      "text/html": "<div>\n<style scoped>\n    .dataframe tbody tr th:only-of-type {\n        vertical-align: middle;\n    }\n\n    .dataframe tbody tr th {\n        vertical-align: top;\n    }\n\n    .dataframe thead th {\n        text-align: right;\n    }\n</style>\n<table border=\"1\" class=\"dataframe\">\n  <thead>\n    <tr style=\"text-align: right;\">\n      <th></th>\n      <th>timestamp</th>\n      <th>project_name</th>\n      <th>run_id</th>\n      <th>duration</th>\n      <th>emissions</th>\n      <th>emissions_rate</th>\n      <th>cpu_power</th>\n      <th>gpu_power</th>\n      <th>ram_power</th>\n      <th>cpu_energy</th>\n      <th>...</th>\n      <th>python_version</th>\n      <th>cpu_count</th>\n      <th>cpu_model</th>\n      <th>gpu_count</th>\n      <th>gpu_model</th>\n      <th>longitude</th>\n      <th>latitude</th>\n      <th>ram_total_size</th>\n      <th>tracking_mode</th>\n      <th>on_cloud</th>\n    </tr>\n  </thead>\n  <tbody>\n    <tr>\n      <th>0</th>\n      <td>2022-08-28T11:22:25</td>\n      <td>codecarbon</td>\n      <td>6c51acf7-babd-40dd-9c55-f5783ba513d5</td>\n      <td>0.050660</td>\n      <td>8.637366e-08</td>\n      <td>0.001705</td>\n      <td>32.5</td>\n      <td>0.0</td>\n      <td>0.723647</td>\n      <td>4.459752e-07</td>\n      <td>...</td>\n      <td>3.10.4</td>\n      <td>1</td>\n      <td>Intel(R) Core(TM) i5-9400F CPU @ 2.90GHz</td>\n      <td>NaN</td>\n      <td>NaN</td>\n      <td>-3.8661</td>\n      <td>40.3192</td>\n      <td>1.929726</td>\n      <td>machine</td>\n      <td>N</td>\n    </tr>\n    <tr>\n      <th>1</th>\n      <td>2022-08-28T11:22:30</td>\n      <td>codecarbon</td>\n      <td>454248c0-e227-44c6-b057-06ca16acc51b</td>\n      <td>0.290324</td>\n      <td>4.998027e-07</td>\n      <td>0.001722</td>\n      <td>32.5</td>\n      <td>0.0</td>\n      <td>0.723647</td>\n      <td>2.574127e-06</td>\n      <td>...</td>\n      <td>3.10.4</td>\n      <td>1</td>\n      <td>Intel(R) Core(TM) i5-9400F CPU @ 2.90GHz</td>\n      <td>NaN</td>\n      <td>NaN</td>\n      <td>-3.8661</td>\n      <td>40.3192</td>\n      <td>1.929726</td>\n      <td>machine</td>\n      <td>N</td>\n    </tr>\n    <tr>\n      <th>2</th>\n      <td>2022-08-28T11:22:35</td>\n      <td>codecarbon</td>\n      <td>a055224c-422b-40b8-aef6-ec355f8a68f5</td>\n      <td>0.017249</td>\n      <td>2.831957e-08</td>\n      <td>0.001642</td>\n      <td>32.5</td>\n      <td>0.0</td>\n      <td>0.723647</td>\n      <td>1.460138e-07</td>\n      <td>...</td>\n      <td>3.10.4</td>\n      <td>1</td>\n      <td>Intel(R) Core(TM) i5-9400F CPU @ 2.90GHz</td>\n      <td>NaN</td>\n      <td>NaN</td>\n      <td>-3.8661</td>\n      <td>40.3192</td>\n      <td>1.929726</td>\n      <td>machine</td>\n      <td>N</td>\n    </tr>\n    <tr>\n      <th>3</th>\n      <td>2022-08-28T11:24:52</td>\n      <td>codecarbon</td>\n      <td>ba7db359-927f-4460-9921-356fbf8e0b95</td>\n      <td>0.037277</td>\n      <td>6.284057e-08</td>\n      <td>0.001686</td>\n      <td>32.5</td>\n      <td>0.0</td>\n      <td>0.723647</td>\n      <td>3.245998e-07</td>\n      <td>...</td>\n      <td>3.10.4</td>\n      <td>1</td>\n      <td>Intel(R) Core(TM) i5-9400F CPU @ 2.90GHz</td>\n      <td>NaN</td>\n      <td>NaN</td>\n      <td>-3.8661</td>\n      <td>40.3192</td>\n      <td>1.929726</td>\n      <td>machine</td>\n      <td>N</td>\n    </tr>\n    <tr>\n      <th>4</th>\n      <td>2022-08-28T11:24:57</td>\n      <td>codecarbon</td>\n      <td>45a3c187-388b-457d-8c5e-5bd455eb2323</td>\n      <td>0.229514</td>\n      <td>3.947145e-07</td>\n      <td>0.001720</td>\n      <td>32.5</td>\n      <td>0.0</td>\n      <td>0.723647</td>\n      <td>2.032870e-06</td>\n      <td>...</td>\n      <td>3.10.4</td>\n      <td>1</td>\n      <td>Intel(R) Core(TM) i5-9400F CPU @ 2.90GHz</td>\n      <td>NaN</td>\n      <td>NaN</td>\n      <td>-3.8661</td>\n      <td>40.3192</td>\n      <td>1.929726</td>\n      <td>machine</td>\n      <td>N</td>\n    </tr>\n    <tr>\n      <th>5</th>\n      <td>2022-08-28T11:25:02</td>\n      <td>codecarbon</td>\n      <td>35b951c8-c210-4a62-8f84-1bb53d3415f1</td>\n      <td>0.023467</td>\n      <td>3.367600e-08</td>\n      <td>0.001435</td>\n      <td>32.5</td>\n      <td>0.0</td>\n      <td>0.723647</td>\n      <td>1.741068e-07</td>\n      <td>...</td>\n      <td>3.10.4</td>\n      <td>1</td>\n      <td>Intel(R) Core(TM) i5-9400F CPU @ 2.90GHz</td>\n      <td>NaN</td>\n      <td>NaN</td>\n      <td>-3.8661</td>\n      <td>40.3192</td>\n      <td>1.929726</td>\n      <td>machine</td>\n      <td>N</td>\n    </tr>\n    <tr>\n      <th>6</th>\n      <td>2022-08-28T11:29:01</td>\n      <td>codecarbon</td>\n      <td>cebf61fe-9831-4862-bd45-471a4979cb63</td>\n      <td>0.024377</td>\n      <td>4.013155e-08</td>\n      <td>0.001646</td>\n      <td>32.5</td>\n      <td>0.0</td>\n      <td>0.723647</td>\n      <td>2.084568e-07</td>\n      <td>...</td>\n      <td>3.10.4</td>\n      <td>1</td>\n      <td>Intel(R) Core(TM) i5-9400F CPU @ 2.90GHz</td>\n      <td>NaN</td>\n      <td>NaN</td>\n      <td>-3.8661</td>\n      <td>40.3192</td>\n      <td>1.929726</td>\n      <td>machine</td>\n      <td>N</td>\n    </tr>\n    <tr>\n      <th>7</th>\n      <td>2022-08-28T11:29:06</td>\n      <td>codecarbon</td>\n      <td>68c4a4d1-b954-4b48-b944-99f3d3ccddad</td>\n      <td>0.266339</td>\n      <td>4.646352e-07</td>\n      <td>0.001745</td>\n      <td>32.5</td>\n      <td>0.0</td>\n      <td>0.723647</td>\n      <td>2.393552e-06</td>\n      <td>...</td>\n      <td>3.10.4</td>\n      <td>1</td>\n      <td>Intel(R) Core(TM) i5-9400F CPU @ 2.90GHz</td>\n      <td>NaN</td>\n      <td>NaN</td>\n      <td>-3.8661</td>\n      <td>40.3192</td>\n      <td>1.929726</td>\n      <td>machine</td>\n      <td>N</td>\n    </tr>\n    <tr>\n      <th>8</th>\n      <td>2022-08-28T11:29:11</td>\n      <td>codecarbon</td>\n      <td>c3dffb6f-68bf-4d05-89b9-1a931afa1ef8</td>\n      <td>0.033513</td>\n      <td>5.688293e-08</td>\n      <td>0.001697</td>\n      <td>32.5</td>\n      <td>0.0</td>\n      <td>0.723647</td>\n      <td>2.930350e-07</td>\n      <td>...</td>\n      <td>3.10.4</td>\n      <td>1</td>\n      <td>Intel(R) Core(TM) i5-9400F CPU @ 2.90GHz</td>\n      <td>NaN</td>\n      <td>NaN</td>\n      <td>-3.8661</td>\n      <td>40.3192</td>\n      <td>1.929726</td>\n      <td>machine</td>\n      <td>N</td>\n    </tr>\n  </tbody>\n</table>\n<p>9 rows × 29 columns</p>\n</div>"
     },
     "execution_count": 29,
     "metadata": {},
     "output_type": "execute_result"
    }
   ],
   "source": [
    "# Show results\n",
    "codecarbon_emissions = pd.read_csv(\"emissions.csv\",sep=\",\")\n",
    "codecarbon_emissions"
   ],
   "metadata": {
    "collapsed": false,
    "pycharm": {
     "name": "#%%\n"
    }
   }
  },
  {
   "cell_type": "markdown",
   "source": [
    "### Eco2ai:"
   ],
   "metadata": {
    "collapsed": false,
    "pycharm": {
     "name": "#%% md\n"
    }
   }
  },
  {
   "cell_type": "code",
   "execution_count": 30,
   "outputs": [
    {
     "name": "stderr",
     "output_type": "stream",
     "text": [
      "/home/misanchz/miniconda3/envs/TFG-Project/lib/python3.10/site-packages/eco2ai/emission_track.py:211: UserWarning: \n",
      "    If you use a VPN, you may have problems with identifying your country by IP.\n",
      "    It is recommended to disable VPN or\n",
      "    manually install the ISO-Alpha-2 code of your country during initialization of the Tracker() class.\n",
      "    You can find the ISO-Alpha-2 code of your country here: https://www.iban.com/country-codes\n",
      "    \n",
      "  warnings.warn(\n",
      "/home/misanchz/miniconda3/envs/TFG-Project/lib/python3.10/site-packages/eco2ai/tools/tools_gpu.py:35: NoGPUWarning: \n",
      "\n",
      "There is no any available GPU devices or your gpu is not supported by Nvidia library!\n",
      "The thacker will consider CPU usage only\n",
      "\n",
      "  warnings.warn(message=\"\\n\\nThere is no any available GPU devices or your gpu is not supported by Nvidia library!\\nThe thacker will consider CPU usage only\\n\",\n"
     ]
    }
   ],
   "source": [
    "# Logistic Regression\n",
    "training.train_LR_eco2ai(df,0.25)"
   ],
   "metadata": {
    "collapsed": false,
    "pycharm": {
     "name": "#%%\n"
    }
   }
  },
  {
   "cell_type": "code",
   "execution_count": 31,
   "outputs": [
    {
     "name": "stderr",
     "output_type": "stream",
     "text": [
      "/home/misanchz/miniconda3/envs/TFG-Project/lib/python3.10/site-packages/eco2ai/emission_track.py:211: UserWarning: \n",
      "    If you use a VPN, you may have problems with identifying your country by IP.\n",
      "    It is recommended to disable VPN or\n",
      "    manually install the ISO-Alpha-2 code of your country during initialization of the Tracker() class.\n",
      "    You can find the ISO-Alpha-2 code of your country here: https://www.iban.com/country-codes\n",
      "    \n",
      "  warnings.warn(\n",
      "/home/misanchz/miniconda3/envs/TFG-Project/lib/python3.10/site-packages/eco2ai/tools/tools_gpu.py:35: NoGPUWarning: \n",
      "\n",
      "There is no any available GPU devices or your gpu is not supported by Nvidia library!\n",
      "The thacker will consider CPU usage only\n",
      "\n",
      "  warnings.warn(message=\"\\n\\nThere is no any available GPU devices or your gpu is not supported by Nvidia library!\\nThe thacker will consider CPU usage only\\n\",\n"
     ]
    }
   ],
   "source": [
    "# Random Forest\n",
    "training.train_RF_eco2ai(df,0.25)"
   ],
   "metadata": {
    "collapsed": false,
    "pycharm": {
     "name": "#%%\n"
    }
   }
  },
  {
   "cell_type": "code",
   "execution_count": 32,
   "outputs": [
    {
     "name": "stderr",
     "output_type": "stream",
     "text": [
      "/home/misanchz/miniconda3/envs/TFG-Project/lib/python3.10/site-packages/eco2ai/emission_track.py:211: UserWarning: \n",
      "    If you use a VPN, you may have problems with identifying your country by IP.\n",
      "    It is recommended to disable VPN or\n",
      "    manually install the ISO-Alpha-2 code of your country during initialization of the Tracker() class.\n",
      "    You can find the ISO-Alpha-2 code of your country here: https://www.iban.com/country-codes\n",
      "    \n",
      "  warnings.warn(\n",
      "/home/misanchz/miniconda3/envs/TFG-Project/lib/python3.10/site-packages/eco2ai/tools/tools_gpu.py:35: NoGPUWarning: \n",
      "\n",
      "There is no any available GPU devices or your gpu is not supported by Nvidia library!\n",
      "The thacker will consider CPU usage only\n",
      "\n",
      "  warnings.warn(message=\"\\n\\nThere is no any available GPU devices or your gpu is not supported by Nvidia library!\\nThe thacker will consider CPU usage only\\n\",\n",
      "/home/misanchz/miniconda3/envs/TFG-Project/lib/python3.10/site-packages/sklearn/svm/_base.py:1225: ConvergenceWarning: Liblinear failed to converge, increase the number of iterations.\n",
      "  warnings.warn(\n"
     ]
    }
   ],
   "source": [
    "# Linear SVC (Support Vector Machines)\n",
    "training.train_SVC_eco2ai(df,0.25)"
   ],
   "metadata": {
    "collapsed": false,
    "pycharm": {
     "name": "#%%\n"
    }
   }
  },
  {
   "cell_type": "code",
   "execution_count": 33,
   "outputs": [
    {
     "data": {
      "text/plain": "  project_name experiment_description(model type etc.)           start_time  \\\n0  TFG_Project       training LogisticRegression model  2022-08-28 11:29:13   \n1  TFG_Project             training RandomForest model  2022-08-28 11:29:15   \n2  TFG_Project       training LogisticRegression model  2022-08-28 11:29:17   \n\n   duration(s)  power_consumption(kWTh)  CO2_emissions(kg)  \\\n0     0.392860             4.948666e-09       9.873331e-10   \n1     0.457908             5.902811e-09       1.177699e-09   \n2     0.198576             2.420500e-09       4.829261e-10   \n\n                                            CPU_name      GPU_name     OS  \\\n0  Intel(R) Core(TM) i5-9400F CPU @ 2.90GHz/1 dev...   0 device(s)  Linux   \n1  Intel(R) Core(TM) i5-9400F CPU @ 2.90GHz/1 dev...   0 device(s)  Linux   \n2  Intel(R) Core(TM) i5-9400F CPU @ 2.90GHz/1 dev...   0 device(s)  Linux   \n\n  region/country  \n0      ES/Aragon  \n1      ES/Aragon  \n2      ES/Aragon  ",
      "text/html": "<div>\n<style scoped>\n    .dataframe tbody tr th:only-of-type {\n        vertical-align: middle;\n    }\n\n    .dataframe tbody tr th {\n        vertical-align: top;\n    }\n\n    .dataframe thead th {\n        text-align: right;\n    }\n</style>\n<table border=\"1\" class=\"dataframe\">\n  <thead>\n    <tr style=\"text-align: right;\">\n      <th></th>\n      <th>project_name</th>\n      <th>experiment_description(model type etc.)</th>\n      <th>start_time</th>\n      <th>duration(s)</th>\n      <th>power_consumption(kWTh)</th>\n      <th>CO2_emissions(kg)</th>\n      <th>CPU_name</th>\n      <th>GPU_name</th>\n      <th>OS</th>\n      <th>region/country</th>\n    </tr>\n  </thead>\n  <tbody>\n    <tr>\n      <th>0</th>\n      <td>TFG_Project</td>\n      <td>training LogisticRegression model</td>\n      <td>2022-08-28 11:29:13</td>\n      <td>0.392860</td>\n      <td>4.948666e-09</td>\n      <td>9.873331e-10</td>\n      <td>Intel(R) Core(TM) i5-9400F CPU @ 2.90GHz/1 dev...</td>\n      <td>0 device(s)</td>\n      <td>Linux</td>\n      <td>ES/Aragon</td>\n    </tr>\n    <tr>\n      <th>1</th>\n      <td>TFG_Project</td>\n      <td>training RandomForest model</td>\n      <td>2022-08-28 11:29:15</td>\n      <td>0.457908</td>\n      <td>5.902811e-09</td>\n      <td>1.177699e-09</td>\n      <td>Intel(R) Core(TM) i5-9400F CPU @ 2.90GHz/1 dev...</td>\n      <td>0 device(s)</td>\n      <td>Linux</td>\n      <td>ES/Aragon</td>\n    </tr>\n    <tr>\n      <th>2</th>\n      <td>TFG_Project</td>\n      <td>training LogisticRegression model</td>\n      <td>2022-08-28 11:29:17</td>\n      <td>0.198576</td>\n      <td>2.420500e-09</td>\n      <td>4.829261e-10</td>\n      <td>Intel(R) Core(TM) i5-9400F CPU @ 2.90GHz/1 dev...</td>\n      <td>0 device(s)</td>\n      <td>Linux</td>\n      <td>ES/Aragon</td>\n    </tr>\n  </tbody>\n</table>\n</div>"
     },
     "execution_count": 33,
     "metadata": {},
     "output_type": "execute_result"
    }
   ],
   "source": [
    "# Show results\n",
    "eco2ai_emissions = pd.read_csv(\"eco2ai_emissions.csv\",sep=\",\")\n",
    "eco2ai_emissions"
   ],
   "metadata": {
    "collapsed": false,
    "pycharm": {
     "name": "#%%\n"
    }
   }
  }
 ],
 "metadata": {
  "kernelspec": {
   "display_name": "Python 3",
   "language": "python",
   "name": "python3"
  },
  "language_info": {
   "codemirror_mode": {
    "name": "ipython",
    "version": 2
   },
   "file_extension": ".py",
   "mimetype": "text/x-python",
   "name": "python",
   "nbconvert_exporter": "python",
   "pygments_lexer": "ipython2",
   "version": "2.7.6"
  }
 },
 "nbformat": 4,
 "nbformat_minor": 0
}