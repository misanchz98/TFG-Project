{
 "cells": [
  {
   "cell_type": "markdown",
   "source": [
    "# 1. Import packages"
   ],
   "metadata": {
    "collapsed": false
   }
  },
  {
   "cell_type": "code",
   "execution_count": null,
   "outputs": [],
   "source": [],
   "metadata": {
    "collapsed": false,
    "ExecuteTime": {
     "end_time": "2023-05-07T16:01:39.670346821Z",
     "start_time": "2023-05-07T16:01:39.647736689Z"
    }
   }
  },
  {
   "cell_type": "code",
   "execution_count": 1,
   "outputs": [
    {
     "name": "stdout",
     "output_type": "stream",
     "text": [
      "Invoking __init__.py for modules\n"
     ]
    }
   ],
   "source": [
    "import sys\n",
    "sys.path.append('..')\n",
    "from modules import tuning, preprocess, tracking, benchmarking, evaluating\n",
    "import pandas as pd"
   ],
   "metadata": {
    "collapsed": false,
    "ExecuteTime": {
     "end_time": "2023-05-07T16:01:41.596519528Z",
     "start_time": "2023-05-07T16:01:39.647879951Z"
    }
   }
  },
  {
   "cell_type": "markdown",
   "source": [
    "# 2. Load dataset"
   ],
   "metadata": {
    "collapsed": false
   }
  },
  {
   "cell_type": "code",
   "execution_count": 2,
   "outputs": [],
   "source": [
    "df = preprocess.load_csv_data('../dataset/Occupancy_Estimation.csv')"
   ],
   "metadata": {
    "collapsed": false,
    "ExecuteTime": {
     "end_time": "2023-05-07T16:01:41.686680310Z",
     "start_time": "2023-05-07T16:01:41.593588908Z"
    }
   }
  },
  {
   "cell_type": "markdown",
   "source": [
    "# 3. Data preprocessing\n",
    "- Step 1: Transform features\n",
    "  - Binary results for Room_Occupancy_Count\n",
    "  - Drop Date and Time features\n",
    "- Step 2: Clean data\n",
    "  - Drop duplicated rows"
   ],
   "metadata": {
    "collapsed": false
   }
  },
  {
   "cell_type": "code",
   "execution_count": 3,
   "outputs": [
    {
     "data": {
      "text/plain": "   S1_Temp  S2_Temp  S3_Temp  S4_Temp  S1_Light  S2_Light  S3_Light  S4_Light  \\\n0    24.94    24.75    24.56    25.38       121        34        53        40   \n1    24.94    24.75    24.56    25.44       121        33        53        40   \n2    25.00    24.75    24.50    25.44       121        34        53        40   \n3    25.00    24.75    24.56    25.44       121        34        53        40   \n4    25.00    24.75    24.56    25.44       121        34        54        40   \n\n   S1_Sound  S2_Sound  S3_Sound  S4_Sound  S5_CO2  S5_CO2_Slope  S6_PIR  \\\n0      0.08      0.19      0.06      0.06     390      0.769231       0   \n1      0.93      0.05      0.06      0.06     390      0.646154       0   \n2      0.43      0.11      0.08      0.06     390      0.519231       0   \n3      0.41      0.10      0.10      0.09     390      0.388462       0   \n4      0.18      0.06      0.06      0.06     390      0.253846       0   \n\n   S7_PIR  Room_Occupancy_Count  \n0       0                     1  \n1       0                     1  \n2       0                     1  \n3       0                     1  \n4       0                     1  ",
      "text/html": "<div>\n<style scoped>\n    .dataframe tbody tr th:only-of-type {\n        vertical-align: middle;\n    }\n\n    .dataframe tbody tr th {\n        vertical-align: top;\n    }\n\n    .dataframe thead th {\n        text-align: right;\n    }\n</style>\n<table border=\"1\" class=\"dataframe\">\n  <thead>\n    <tr style=\"text-align: right;\">\n      <th></th>\n      <th>S1_Temp</th>\n      <th>S2_Temp</th>\n      <th>S3_Temp</th>\n      <th>S4_Temp</th>\n      <th>S1_Light</th>\n      <th>S2_Light</th>\n      <th>S3_Light</th>\n      <th>S4_Light</th>\n      <th>S1_Sound</th>\n      <th>S2_Sound</th>\n      <th>S3_Sound</th>\n      <th>S4_Sound</th>\n      <th>S5_CO2</th>\n      <th>S5_CO2_Slope</th>\n      <th>S6_PIR</th>\n      <th>S7_PIR</th>\n      <th>Room_Occupancy_Count</th>\n    </tr>\n  </thead>\n  <tbody>\n    <tr>\n      <th>0</th>\n      <td>24.94</td>\n      <td>24.75</td>\n      <td>24.56</td>\n      <td>25.38</td>\n      <td>121</td>\n      <td>34</td>\n      <td>53</td>\n      <td>40</td>\n      <td>0.08</td>\n      <td>0.19</td>\n      <td>0.06</td>\n      <td>0.06</td>\n      <td>390</td>\n      <td>0.769231</td>\n      <td>0</td>\n      <td>0</td>\n      <td>1</td>\n    </tr>\n    <tr>\n      <th>1</th>\n      <td>24.94</td>\n      <td>24.75</td>\n      <td>24.56</td>\n      <td>25.44</td>\n      <td>121</td>\n      <td>33</td>\n      <td>53</td>\n      <td>40</td>\n      <td>0.93</td>\n      <td>0.05</td>\n      <td>0.06</td>\n      <td>0.06</td>\n      <td>390</td>\n      <td>0.646154</td>\n      <td>0</td>\n      <td>0</td>\n      <td>1</td>\n    </tr>\n    <tr>\n      <th>2</th>\n      <td>25.00</td>\n      <td>24.75</td>\n      <td>24.50</td>\n      <td>25.44</td>\n      <td>121</td>\n      <td>34</td>\n      <td>53</td>\n      <td>40</td>\n      <td>0.43</td>\n      <td>0.11</td>\n      <td>0.08</td>\n      <td>0.06</td>\n      <td>390</td>\n      <td>0.519231</td>\n      <td>0</td>\n      <td>0</td>\n      <td>1</td>\n    </tr>\n    <tr>\n      <th>3</th>\n      <td>25.00</td>\n      <td>24.75</td>\n      <td>24.56</td>\n      <td>25.44</td>\n      <td>121</td>\n      <td>34</td>\n      <td>53</td>\n      <td>40</td>\n      <td>0.41</td>\n      <td>0.10</td>\n      <td>0.10</td>\n      <td>0.09</td>\n      <td>390</td>\n      <td>0.388462</td>\n      <td>0</td>\n      <td>0</td>\n      <td>1</td>\n    </tr>\n    <tr>\n      <th>4</th>\n      <td>25.00</td>\n      <td>24.75</td>\n      <td>24.56</td>\n      <td>25.44</td>\n      <td>121</td>\n      <td>34</td>\n      <td>54</td>\n      <td>40</td>\n      <td>0.18</td>\n      <td>0.06</td>\n      <td>0.06</td>\n      <td>0.06</td>\n      <td>390</td>\n      <td>0.253846</td>\n      <td>0</td>\n      <td>0</td>\n      <td>1</td>\n    </tr>\n  </tbody>\n</table>\n</div>"
     },
     "execution_count": 3,
     "metadata": {},
     "output_type": "execute_result"
    }
   ],
   "source": [
    "# Step 1: Recode Room_Occupancy_Count column\n",
    "preprocess.recode_dataset_output(df)\n",
    "\n",
    "# Step 2: Filter Date and Time columns\n",
    "preprocess.remove_time_columns(df)\n",
    "\n",
    "df.head()"
   ],
   "metadata": {
    "collapsed": false,
    "ExecuteTime": {
     "end_time": "2023-05-07T16:01:41.726151577Z",
     "start_time": "2023-05-07T16:01:41.648158747Z"
    }
   }
  },
  {
   "cell_type": "markdown",
   "source": [
    "# 4. Benchmarking"
   ],
   "metadata": {
    "collapsed": false
   }
  },
  {
   "cell_type": "code",
   "execution_count": 4,
   "outputs": [],
   "source": [
    "# Split dataset into features and output\n",
    "X = preprocess.get_features(df)\n",
    "y = preprocess.get_output(df)\n",
    "\n",
    "# Split dataset into training and test\n",
    "X_train, X_test, y_train, y_test = preprocess.split_dataset(X, y)"
   ],
   "metadata": {
    "collapsed": false,
    "ExecuteTime": {
     "end_time": "2023-05-07T16:01:41.800638239Z",
     "start_time": "2023-05-07T16:01:41.723918260Z"
    }
   }
  },
  {
   "cell_type": "markdown",
   "source": [
    "## Create benchmarking Dataframe:\n",
    "- Create benchmarking's df structure.\n",
    "- Track models training with CodeCarbon and Eco2AI.\n",
    "- Store in benchmarking's df tracking results.\n",
    "- Store in benchmarking's df evaluation metrics."
   ],
   "metadata": {
    "collapsed": false
   }
  },
  {
   "cell_type": "code",
   "execution_count": 5,
   "outputs": [
    {
     "name": "stderr",
     "output_type": "stream",
     "text": [
      "[codecarbon INFO @ 18:01:41] [setup] RAM Tracking...\n",
      "[codecarbon INFO @ 18:01:41] [setup] GPU Tracking...\n",
      "[codecarbon INFO @ 18:01:41] No GPU found.\n",
      "[codecarbon INFO @ 18:01:41] [setup] CPU Tracking...\n",
      "[codecarbon WARNING @ 18:01:41] No CPU tracking mode found. Falling back on CPU constant mode.\n",
      "[codecarbon INFO @ 18:01:43] CPU Model on constant consumption mode: Intel(R) Core(TM) i5-9400F CPU @ 2.90GHz\n",
      "[codecarbon INFO @ 18:01:43] >>> Tracker's metadata:\n",
      "[codecarbon INFO @ 18:01:43]   Platform system: Linux-5.19.0-41-generic-x86_64-with-glibc2.35\n",
      "[codecarbon INFO @ 18:01:43]   Python version: 3.10.8\n",
      "[codecarbon INFO @ 18:01:43]   Available RAM : 4.946 GB\n",
      "[codecarbon INFO @ 18:01:43]   CPU count: 4\n",
      "[codecarbon INFO @ 18:01:43]   CPU model: Intel(R) Core(TM) i5-9400F CPU @ 2.90GHz\n",
      "[codecarbon INFO @ 18:01:43]   GPU count: None\n",
      "[codecarbon INFO @ 18:01:43]   GPU model: None\n"
     ]
    },
    {
     "name": "stdout",
     "output_type": "stream",
     "text": [
      "Fitting 5 folds for each of 28 candidates, totalling 140 fits\n"
     ]
    },
    {
     "name": "stderr",
     "output_type": "stream",
     "text": [
      "[codecarbon INFO @ 18:01:55] Energy consumed for RAM : 0.000005 kWh. RAM Power : 1.8548641204833987 W\n",
      "[codecarbon INFO @ 18:01:55] Energy consumed for all CPUs : 0.000082 kWh. All CPUs Power : 32.5 W\n",
      "[codecarbon INFO @ 18:01:55] 0.000086 kWh of electricity used since the begining.\n",
      "[codecarbon INFO @ 18:01:56] [setup] RAM Tracking...\n",
      "[codecarbon INFO @ 18:01:56] [setup] GPU Tracking...\n",
      "[codecarbon INFO @ 18:01:56] No GPU found.\n",
      "[codecarbon INFO @ 18:01:56] [setup] CPU Tracking...\n",
      "[codecarbon WARNING @ 18:01:56] No CPU tracking mode found. Falling back on CPU constant mode.\n"
     ]
    },
    {
     "name": "stdout",
     "output_type": "stream",
     "text": [
      "Best estimator LR:  Pipeline(steps=[('scaler', RobustScaler()),\n",
      "                ('estimator',\n",
      "                 LogisticRegression(C=100, max_iter=500, penalty='l1',\n",
      "                                    solver='liblinear'))])\n",
      "Precision:  1.0\n",
      "Recall:  0.9982993197278912\n",
      "F1:  0.9991489361702128\n"
     ]
    },
    {
     "name": "stderr",
     "output_type": "stream",
     "text": [
      "[codecarbon INFO @ 18:01:57] CPU Model on constant consumption mode: Intel(R) Core(TM) i5-9400F CPU @ 2.90GHz\n",
      "[codecarbon INFO @ 18:01:57] >>> Tracker's metadata:\n",
      "[codecarbon INFO @ 18:01:57]   Platform system: Linux-5.19.0-41-generic-x86_64-with-glibc2.35\n",
      "[codecarbon INFO @ 18:01:57]   Python version: 3.10.8\n",
      "[codecarbon INFO @ 18:01:57]   Available RAM : 4.946 GB\n",
      "[codecarbon INFO @ 18:01:57]   CPU count: 4\n",
      "[codecarbon INFO @ 18:01:57]   CPU model: Intel(R) Core(TM) i5-9400F CPU @ 2.90GHz\n",
      "[codecarbon INFO @ 18:01:57]   GPU count: None\n",
      "[codecarbon INFO @ 18:01:57]   GPU model: None\n"
     ]
    },
    {
     "name": "stdout",
     "output_type": "stream",
     "text": [
      "Fitting 5 folds for each of 10 candidates, totalling 50 fits\n"
     ]
    },
    {
     "name": "stderr",
     "output_type": "stream",
     "text": [
      "[codecarbon INFO @ 18:02:15] Energy consumed for RAM : 0.000008 kWh. RAM Power : 1.8548641204833987 W\n",
      "[codecarbon INFO @ 18:02:15] Energy consumed for all CPUs : 0.000135 kWh. All CPUs Power : 32.5 W\n",
      "[codecarbon INFO @ 18:02:15] 0.000143 kWh of electricity used since the begining.\n",
      "[codecarbon INFO @ 18:02:30] Energy consumed for RAM : 0.000015 kWh. RAM Power : 1.8548641204833987 W\n",
      "[codecarbon INFO @ 18:02:30] Energy consumed for all CPUs : 0.000271 kWh. All CPUs Power : 32.5 W\n",
      "[codecarbon INFO @ 18:02:30] 0.000286 kWh of electricity used since the begining.\n",
      "[codecarbon INFO @ 18:02:45] Energy consumed for RAM : 0.000023 kWh. RAM Power : 1.8548641204833987 W\n",
      "[codecarbon INFO @ 18:02:45] Energy consumed for all CPUs : 0.000406 kWh. All CPUs Power : 32.5 W\n",
      "[codecarbon INFO @ 18:02:45] 0.000429 kWh of electricity used since the begining.\n",
      "[codecarbon INFO @ 18:03:00] Energy consumed for RAM : 0.000031 kWh. RAM Power : 1.8548641204833987 W\n",
      "[codecarbon INFO @ 18:03:00] Energy consumed for all CPUs : 0.000536 kWh. All CPUs Power : 32.5 W\n",
      "[codecarbon INFO @ 18:03:00] 0.000567 kWh of electricity used since the begining.\n",
      "[codecarbon INFO @ 18:03:00] [setup] RAM Tracking...\n",
      "[codecarbon INFO @ 18:03:00] [setup] GPU Tracking...\n",
      "[codecarbon INFO @ 18:03:00] No GPU found.\n",
      "[codecarbon INFO @ 18:03:00] [setup] CPU Tracking...\n",
      "[codecarbon WARNING @ 18:03:00] No CPU tracking mode found. Falling back on CPU constant mode.\n"
     ]
    },
    {
     "name": "stdout",
     "output_type": "stream",
     "text": [
      "Best estimator RF:  RandomForestClassifier(bootstrap=False, max_depth=80, max_features=3,\n",
      "                       min_samples_leaf=3, min_samples_split=12,\n",
      "                       n_estimators=300)\n",
      "Precision:  1.0\n",
      "Recall:  0.9982993197278912\n",
      "F1:  0.9991489361702128\n"
     ]
    },
    {
     "name": "stderr",
     "output_type": "stream",
     "text": [
      "[codecarbon INFO @ 18:03:02] CPU Model on constant consumption mode: Intel(R) Core(TM) i5-9400F CPU @ 2.90GHz\n",
      "[codecarbon INFO @ 18:03:02] >>> Tracker's metadata:\n",
      "[codecarbon INFO @ 18:03:02]   Platform system: Linux-5.19.0-41-generic-x86_64-with-glibc2.35\n",
      "[codecarbon INFO @ 18:03:02]   Python version: 3.10.8\n",
      "[codecarbon INFO @ 18:03:02]   Available RAM : 4.946 GB\n",
      "[codecarbon INFO @ 18:03:02]   CPU count: 4\n",
      "[codecarbon INFO @ 18:03:02]   CPU model: Intel(R) Core(TM) i5-9400F CPU @ 2.90GHz\n",
      "[codecarbon INFO @ 18:03:02]   GPU count: None\n",
      "[codecarbon INFO @ 18:03:02]   GPU model: None\n"
     ]
    },
    {
     "name": "stdout",
     "output_type": "stream",
     "text": [
      "Fitting 5 folds for each of 25 candidates, totalling 125 fits\n"
     ]
    },
    {
     "name": "stderr",
     "output_type": "stream",
     "text": [
      "[codecarbon INFO @ 18:03:20] Energy consumed for RAM : 0.000008 kWh. RAM Power : 1.8548641204833987 W\n",
      "[codecarbon INFO @ 18:03:20] Energy consumed for all CPUs : 0.000135 kWh. All CPUs Power : 32.5 W\n",
      "[codecarbon INFO @ 18:03:20] 0.000143 kWh of electricity used since the begining.\n",
      "[codecarbon INFO @ 18:03:35] Energy consumed for RAM : 0.000015 kWh. RAM Power : 1.8548641204833987 W\n",
      "[codecarbon INFO @ 18:03:35] Energy consumed for all CPUs : 0.000271 kWh. All CPUs Power : 32.5 W\n",
      "[codecarbon INFO @ 18:03:35] 0.000286 kWh of electricity used since the begining.\n",
      "[codecarbon INFO @ 18:03:50] Energy consumed for RAM : 0.000023 kWh. RAM Power : 1.8548641204833987 W\n",
      "[codecarbon INFO @ 18:03:50] Energy consumed for all CPUs : 0.000406 kWh. All CPUs Power : 32.5 W\n",
      "[codecarbon INFO @ 18:03:50] 0.000429 kWh of electricity used since the begining.\n",
      "[codecarbon INFO @ 18:04:05] Energy consumed for RAM : 0.000031 kWh. RAM Power : 1.8548641204833987 W\n",
      "[codecarbon INFO @ 18:04:05] Energy consumed for all CPUs : 0.000542 kWh. All CPUs Power : 32.5 W\n",
      "[codecarbon INFO @ 18:04:05] 0.000573 kWh of electricity used since the begining.\n",
      "[codecarbon INFO @ 18:04:06] Energy consumed for RAM : 0.000032 kWh. RAM Power : 1.8548641204833987 W\n",
      "[codecarbon INFO @ 18:04:06] Energy consumed for all CPUs : 0.000555 kWh. All CPUs Power : 32.5 W\n",
      "[codecarbon INFO @ 18:04:06] 0.000587 kWh of electricity used since the begining.\n",
      "[codecarbon INFO @ 18:04:07] [setup] RAM Tracking...\n",
      "[codecarbon INFO @ 18:04:07] [setup] GPU Tracking...\n",
      "[codecarbon INFO @ 18:04:07] No GPU found.\n",
      "[codecarbon INFO @ 18:04:07] [setup] CPU Tracking...\n",
      "[codecarbon WARNING @ 18:04:07] No CPU tracking mode found. Falling back on CPU constant mode.\n"
     ]
    },
    {
     "name": "stdout",
     "output_type": "stream",
     "text": [
      "Best estimator SVM:  SVC(C=1, gamma=0.001)\n",
      "Precision:  1.0\n",
      "Recall:  0.9982993197278912\n",
      "F1:  0.9991489361702128\n"
     ]
    },
    {
     "name": "stderr",
     "output_type": "stream",
     "text": [
      "[codecarbon INFO @ 18:04:08] CPU Model on constant consumption mode: Intel(R) Core(TM) i5-9400F CPU @ 2.90GHz\n",
      "[codecarbon INFO @ 18:04:08] >>> Tracker's metadata:\n",
      "[codecarbon INFO @ 18:04:08]   Platform system: Linux-5.19.0-41-generic-x86_64-with-glibc2.35\n",
      "[codecarbon INFO @ 18:04:08]   Python version: 3.10.8\n",
      "[codecarbon INFO @ 18:04:08]   Available RAM : 4.946 GB\n",
      "[codecarbon INFO @ 18:04:08]   CPU count: 4\n",
      "[codecarbon INFO @ 18:04:08]   CPU model: Intel(R) Core(TM) i5-9400F CPU @ 2.90GHz\n",
      "[codecarbon INFO @ 18:04:08]   GPU count: None\n",
      "[codecarbon INFO @ 18:04:08]   GPU model: None\n"
     ]
    },
    {
     "name": "stdout",
     "output_type": "stream",
     "text": [
      "Fitting 5 folds for each of 10 candidates, totalling 50 fits\n"
     ]
    },
    {
     "name": "stderr",
     "output_type": "stream",
     "text": [
      "[codecarbon INFO @ 18:04:27] Energy consumed for RAM : 0.000008 kWh. RAM Power : 1.8548641204833987 W\n",
      "[codecarbon INFO @ 18:04:27] Energy consumed for all CPUs : 0.000139 kWh. All CPUs Power : 32.5 W\n",
      "[codecarbon INFO @ 18:04:27] 0.000147 kWh of electricity used since the begining.\n",
      "[codecarbon INFO @ 18:04:42] Energy consumed for RAM : 0.000016 kWh. RAM Power : 1.8548641204833987 W\n",
      "[codecarbon INFO @ 18:04:42] Energy consumed for all CPUs : 0.000276 kWh. All CPUs Power : 32.5 W\n",
      "[codecarbon INFO @ 18:04:42] 0.000292 kWh of electricity used since the begining.\n",
      "[codecarbon INFO @ 18:04:57] Energy consumed for RAM : 0.000023 kWh. RAM Power : 1.8548641204833987 W\n",
      "[codecarbon INFO @ 18:04:57] Energy consumed for all CPUs : 0.000411 kWh. All CPUs Power : 32.5 W\n",
      "[codecarbon INFO @ 18:04:57] 0.000435 kWh of electricity used since the begining.\n",
      "[codecarbon INFO @ 18:05:12] Energy consumed for RAM : 0.000031 kWh. RAM Power : 1.8548641204833987 W\n",
      "[codecarbon INFO @ 18:05:12] Energy consumed for all CPUs : 0.000547 kWh. All CPUs Power : 32.5 W\n",
      "[codecarbon INFO @ 18:05:12] 0.000578 kWh of electricity used since the begining.\n",
      "[codecarbon INFO @ 18:05:27] Energy consumed for RAM : 0.000039 kWh. RAM Power : 1.8548641204833987 W\n",
      "[codecarbon INFO @ 18:05:27] Energy consumed for all CPUs : 0.000682 kWh. All CPUs Power : 32.5 W\n",
      "[codecarbon INFO @ 18:05:27] 0.000721 kWh of electricity used since the begining.\n",
      "[codecarbon INFO @ 18:05:42] Energy consumed for RAM : 0.000047 kWh. RAM Power : 1.8548641204833987 W\n",
      "[codecarbon INFO @ 18:05:42] Energy consumed for all CPUs : 0.000818 kWh. All CPUs Power : 32.5 W\n",
      "[codecarbon INFO @ 18:05:42] 0.000864 kWh of electricity used since the begining.\n",
      "[codecarbon INFO @ 18:05:58] Energy consumed for RAM : 0.000055 kWh. RAM Power : 1.8548641204833987 W\n",
      "[codecarbon INFO @ 18:05:58] Energy consumed for all CPUs : 0.000962 kWh. All CPUs Power : 32.5 W\n",
      "[codecarbon INFO @ 18:05:58] 0.001017 kWh of electricity used since the begining.\n",
      "[codecarbon INFO @ 18:06:13] Energy consumed for RAM : 0.000063 kWh. RAM Power : 1.8548641204833987 W\n",
      "[codecarbon INFO @ 18:06:13] Energy consumed for all CPUs : 0.001097 kWh. All CPUs Power : 32.5 W\n",
      "[codecarbon INFO @ 18:06:13] 0.001160 kWh of electricity used since the begining.\n",
      "[codecarbon INFO @ 18:06:28] Energy consumed for RAM : 0.000070 kWh. RAM Power : 1.8548641204833987 W\n",
      "[codecarbon INFO @ 18:06:28] Energy consumed for all CPUs : 0.001232 kWh. All CPUs Power : 32.5 W\n",
      "[codecarbon INFO @ 18:06:28] 0.001303 kWh of electricity used since the begining.\n",
      "[codecarbon INFO @ 18:06:43] Energy consumed for RAM : 0.000078 kWh. RAM Power : 1.8548641204833987 W\n",
      "[codecarbon INFO @ 18:06:43] Energy consumed for all CPUs : 0.001370 kWh. All CPUs Power : 32.5 W\n",
      "[codecarbon INFO @ 18:06:43] 0.001448 kWh of electricity used since the begining.\n",
      "[codecarbon INFO @ 18:06:59] Energy consumed for RAM : 0.000086 kWh. RAM Power : 1.8548641204833987 W\n",
      "[codecarbon INFO @ 18:06:59] Energy consumed for all CPUs : 0.001512 kWh. All CPUs Power : 32.5 W\n",
      "[codecarbon INFO @ 18:06:59] 0.001598 kWh of electricity used since the begining.\n",
      "[codecarbon INFO @ 18:07:14] Energy consumed for RAM : 0.000094 kWh. RAM Power : 1.8548641204833987 W\n",
      "[codecarbon INFO @ 18:07:14] Energy consumed for all CPUs : 0.001648 kWh. All CPUs Power : 32.5 W\n",
      "[codecarbon INFO @ 18:07:14] 0.001742 kWh of electricity used since the begining.\n",
      "[codecarbon INFO @ 18:07:29] Energy consumed for RAM : 0.000102 kWh. RAM Power : 1.8548641204833987 W\n",
      "[codecarbon INFO @ 18:07:29] Energy consumed for all CPUs : 0.001783 kWh. All CPUs Power : 32.5 W\n",
      "[codecarbon INFO @ 18:07:29] 0.001885 kWh of electricity used since the begining.\n",
      "[codecarbon INFO @ 18:07:33] Energy consumed for RAM : 0.000104 kWh. RAM Power : 1.8548641204833987 W\n",
      "[codecarbon INFO @ 18:07:33] Energy consumed for all CPUs : 0.001820 kWh. All CPUs Power : 32.5 W\n",
      "[codecarbon INFO @ 18:07:33] 0.001923 kWh of electricity used since the begining.\n"
     ]
    },
    {
     "name": "stdout",
     "output_type": "stream",
     "text": [
      "Best estimator MLP:  Pipeline(steps=[('scaler', StandardScaler()),\n",
      "                ('estimator',\n",
      "                 MLPClassifier(activation='tanh', alpha=0.05,\n",
      "                               hidden_layer_sizes=(100, 150, 100),\n",
      "                               learning_rate='invscaling', max_iter=500,\n",
      "                               solver='lbfgs'))])\n",
      "Precision:  0.9966044142614601\n",
      "Recall:  0.9982993197278912\n",
      "F1:  0.9974511469838572\n"
     ]
    }
   ],
   "source": [
    "df_benchmarking = benchmarking.create_benchmarking(X_train, y_train, X_test, y_test)"
   ],
   "metadata": {
    "collapsed": false,
    "ExecuteTime": {
     "end_time": "2023-05-07T16:07:34.274456317Z",
     "start_time": "2023-05-07T16:01:41.771121348Z"
    }
   }
  },
  {
   "cell_type": "code",
   "execution_count": 6,
   "outputs": [
    {
     "data": {
      "text/plain": "                Algoritmos  CodeCarbon (kWh)  Eco2AI (kWh)  Precision  \\\n0      Logistic Regression          0.000086      0.000044   1.000000   \n1            Random Forest          0.000567      0.000219   1.000000   \n2  Support Vector Machines          0.000587      0.000281   1.000000   \n3    Multilayer Perceptron          0.001923      0.003288   0.996604   \n\n     Recall   F Score  \n0  0.998299  0.999149  \n1  0.998299  0.999149  \n2  0.998299  0.999149  \n3  0.998299  0.997451  ",
      "text/html": "<div>\n<style scoped>\n    .dataframe tbody tr th:only-of-type {\n        vertical-align: middle;\n    }\n\n    .dataframe tbody tr th {\n        vertical-align: top;\n    }\n\n    .dataframe thead th {\n        text-align: right;\n    }\n</style>\n<table border=\"1\" class=\"dataframe\">\n  <thead>\n    <tr style=\"text-align: right;\">\n      <th></th>\n      <th>Algoritmos</th>\n      <th>CodeCarbon (kWh)</th>\n      <th>Eco2AI (kWh)</th>\n      <th>Precision</th>\n      <th>Recall</th>\n      <th>F Score</th>\n    </tr>\n  </thead>\n  <tbody>\n    <tr>\n      <th>0</th>\n      <td>Logistic Regression</td>\n      <td>0.000086</td>\n      <td>0.000044</td>\n      <td>1.000000</td>\n      <td>0.998299</td>\n      <td>0.999149</td>\n    </tr>\n    <tr>\n      <th>1</th>\n      <td>Random Forest</td>\n      <td>0.000567</td>\n      <td>0.000219</td>\n      <td>1.000000</td>\n      <td>0.998299</td>\n      <td>0.999149</td>\n    </tr>\n    <tr>\n      <th>2</th>\n      <td>Support Vector Machines</td>\n      <td>0.000587</td>\n      <td>0.000281</td>\n      <td>1.000000</td>\n      <td>0.998299</td>\n      <td>0.999149</td>\n    </tr>\n    <tr>\n      <th>3</th>\n      <td>Multilayer Perceptron</td>\n      <td>0.001923</td>\n      <td>0.003288</td>\n      <td>0.996604</td>\n      <td>0.998299</td>\n      <td>0.997451</td>\n    </tr>\n  </tbody>\n</table>\n</div>"
     },
     "execution_count": 6,
     "metadata": {},
     "output_type": "execute_result"
    }
   ],
   "source": [
    "df_benchmarking"
   ],
   "metadata": {
    "collapsed": false,
    "ExecuteTime": {
     "end_time": "2023-05-07T16:07:34.289341652Z",
     "start_time": "2023-05-07T16:07:34.275626178Z"
    }
   }
  },
  {
   "cell_type": "markdown",
   "source": [
    "## Save benchmarking's DataFrame in csv file"
   ],
   "metadata": {
    "collapsed": false
   }
  },
  {
   "cell_type": "code",
   "execution_count": 7,
   "outputs": [],
   "source": [
    "preprocess.save_in_csv_file(df_benchmarking, 'benchmarking.csv')"
   ],
   "metadata": {
    "collapsed": false,
    "ExecuteTime": {
     "end_time": "2023-05-07T16:07:34.371965057Z",
     "start_time": "2023-05-07T16:07:34.290331035Z"
    }
   }
  }
 ],
 "metadata": {
  "kernelspec": {
   "display_name": "Python 3",
   "language": "python",
   "name": "python3"
  },
  "language_info": {
   "codemirror_mode": {
    "name": "ipython",
    "version": 2
   },
   "file_extension": ".py",
   "mimetype": "text/x-python",
   "name": "python",
   "nbconvert_exporter": "python",
   "pygments_lexer": "ipython2",
   "version": "2.7.6"
  }
 },
 "nbformat": 4,
 "nbformat_minor": 0
}
