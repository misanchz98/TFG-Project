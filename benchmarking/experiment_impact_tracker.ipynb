{
 "cells": [
  {
   "cell_type": "markdown",
   "source": [
    "# 1. Importación de paquetes"
   ],
   "metadata": {
    "collapsed": false,
    "pycharm": {
     "name": "#%% md\n"
    }
   }
  },
  {
   "cell_type": "code",
   "execution_count": 41,
   "outputs": [],
   "source": [
    "#Import packages\n",
    "from modules import preprocess\n",
    "from modules import training\n",
    "import pandas as pd"
   ],
   "metadata": {
    "collapsed": false,
    "pycharm": {
     "name": "#%%\n"
    }
   }
  },
  {
   "cell_type": "markdown",
   "source": [
    "# 2. Preprocesamiento del *dataset*: [Room Occupancy Estimation Data Set](https://www.kaggle.com/ananthr1/room-occupancy-estimation-data-set)"
   ],
   "metadata": {
    "collapsed": false,
    "pycharm": {
     "name": "#%% md\n"
    }
   }
  },
  {
   "cell_type": "markdown",
   "source": [
    "## Paso 1: Lectura del *dataset* y obtención de datos"
   ],
   "metadata": {
    "collapsed": false,
    "pycharm": {
     "name": "#%% md\n"
    }
   }
  },
  {
   "cell_type": "code",
   "execution_count": 42,
   "outputs": [
    {
     "data": {
      "text/plain": "(10129, 19)"
     },
     "execution_count": 42,
     "metadata": {},
     "output_type": "execute_result"
    }
   ],
   "source": [
    "df = preprocess.load_csv_data('Occupancy_Estimation.csv')\n",
    "df.shape"
   ],
   "metadata": {
    "collapsed": false,
    "pycharm": {
     "name": "#%%\n"
    }
   }
  },
  {
   "cell_type": "code",
   "execution_count": 43,
   "outputs": [
    {
     "data": {
      "text/plain": "         Date      Time  S1_Temp  S2_Temp  S3_Temp  S4_Temp  S1_Light  \\\n0  2017/12/22  10:49:41    24.94    24.75    24.56    25.38       121   \n1  2017/12/22  10:50:12    24.94    24.75    24.56    25.44       121   \n2  2017/12/22  10:50:42    25.00    24.75    24.50    25.44       121   \n3  2017/12/22  10:51:13    25.00    24.75    24.56    25.44       121   \n4  2017/12/22  10:51:44    25.00    24.75    24.56    25.44       121   \n\n   S2_Light  S3_Light  S4_Light  S1_Sound  S2_Sound  S3_Sound  S4_Sound  \\\n0        34        53        40      0.08      0.19      0.06      0.06   \n1        33        53        40      0.93      0.05      0.06      0.06   \n2        34        53        40      0.43      0.11      0.08      0.06   \n3        34        53        40      0.41      0.10      0.10      0.09   \n4        34        54        40      0.18      0.06      0.06      0.06   \n\n   S5_CO2  S5_CO2_Slope  S6_PIR  S7_PIR  Room_Occupancy_Count  \n0     390      0.769231       0       0                     1  \n1     390      0.646154       0       0                     1  \n2     390      0.519231       0       0                     1  \n3     390      0.388462       0       0                     1  \n4     390      0.253846       0       0                     1  ",
      "text/html": "<div>\n<style scoped>\n    .dataframe tbody tr th:only-of-type {\n        vertical-align: middle;\n    }\n\n    .dataframe tbody tr th {\n        vertical-align: top;\n    }\n\n    .dataframe thead th {\n        text-align: right;\n    }\n</style>\n<table border=\"1\" class=\"dataframe\">\n  <thead>\n    <tr style=\"text-align: right;\">\n      <th></th>\n      <th>Date</th>\n      <th>Time</th>\n      <th>S1_Temp</th>\n      <th>S2_Temp</th>\n      <th>S3_Temp</th>\n      <th>S4_Temp</th>\n      <th>S1_Light</th>\n      <th>S2_Light</th>\n      <th>S3_Light</th>\n      <th>S4_Light</th>\n      <th>S1_Sound</th>\n      <th>S2_Sound</th>\n      <th>S3_Sound</th>\n      <th>S4_Sound</th>\n      <th>S5_CO2</th>\n      <th>S5_CO2_Slope</th>\n      <th>S6_PIR</th>\n      <th>S7_PIR</th>\n      <th>Room_Occupancy_Count</th>\n    </tr>\n  </thead>\n  <tbody>\n    <tr>\n      <th>0</th>\n      <td>2017/12/22</td>\n      <td>10:49:41</td>\n      <td>24.94</td>\n      <td>24.75</td>\n      <td>24.56</td>\n      <td>25.38</td>\n      <td>121</td>\n      <td>34</td>\n      <td>53</td>\n      <td>40</td>\n      <td>0.08</td>\n      <td>0.19</td>\n      <td>0.06</td>\n      <td>0.06</td>\n      <td>390</td>\n      <td>0.769231</td>\n      <td>0</td>\n      <td>0</td>\n      <td>1</td>\n    </tr>\n    <tr>\n      <th>1</th>\n      <td>2017/12/22</td>\n      <td>10:50:12</td>\n      <td>24.94</td>\n      <td>24.75</td>\n      <td>24.56</td>\n      <td>25.44</td>\n      <td>121</td>\n      <td>33</td>\n      <td>53</td>\n      <td>40</td>\n      <td>0.93</td>\n      <td>0.05</td>\n      <td>0.06</td>\n      <td>0.06</td>\n      <td>390</td>\n      <td>0.646154</td>\n      <td>0</td>\n      <td>0</td>\n      <td>1</td>\n    </tr>\n    <tr>\n      <th>2</th>\n      <td>2017/12/22</td>\n      <td>10:50:42</td>\n      <td>25.00</td>\n      <td>24.75</td>\n      <td>24.50</td>\n      <td>25.44</td>\n      <td>121</td>\n      <td>34</td>\n      <td>53</td>\n      <td>40</td>\n      <td>0.43</td>\n      <td>0.11</td>\n      <td>0.08</td>\n      <td>0.06</td>\n      <td>390</td>\n      <td>0.519231</td>\n      <td>0</td>\n      <td>0</td>\n      <td>1</td>\n    </tr>\n    <tr>\n      <th>3</th>\n      <td>2017/12/22</td>\n      <td>10:51:13</td>\n      <td>25.00</td>\n      <td>24.75</td>\n      <td>24.56</td>\n      <td>25.44</td>\n      <td>121</td>\n      <td>34</td>\n      <td>53</td>\n      <td>40</td>\n      <td>0.41</td>\n      <td>0.10</td>\n      <td>0.10</td>\n      <td>0.09</td>\n      <td>390</td>\n      <td>0.388462</td>\n      <td>0</td>\n      <td>0</td>\n      <td>1</td>\n    </tr>\n    <tr>\n      <th>4</th>\n      <td>2017/12/22</td>\n      <td>10:51:44</td>\n      <td>25.00</td>\n      <td>24.75</td>\n      <td>24.56</td>\n      <td>25.44</td>\n      <td>121</td>\n      <td>34</td>\n      <td>54</td>\n      <td>40</td>\n      <td>0.18</td>\n      <td>0.06</td>\n      <td>0.06</td>\n      <td>0.06</td>\n      <td>390</td>\n      <td>0.253846</td>\n      <td>0</td>\n      <td>0</td>\n      <td>1</td>\n    </tr>\n  </tbody>\n</table>\n</div>"
     },
     "execution_count": 43,
     "metadata": {},
     "output_type": "execute_result"
    }
   ],
   "source": [
    "df.head()"
   ],
   "metadata": {
    "collapsed": false,
    "pycharm": {
     "name": "#%%\n"
    }
   }
  },
  {
   "cell_type": "markdown",
   "source": [
    "## Paso 2: Recodificación de la columna *RoomOccupancyCount*\n",
    "\n",
    "En este caso, la columna que contiene la variable de salida (*RoomOccupancyCount*) cuenta el número de personas en la sala. Para simplificar, nuestro objetivo va a ser detectar si la sala está vacía o, en cambio, hay alguien (no el número exacto de personas).\n",
    "\n",
    "Por lo tanto, se **recodificará cualquier valor mayor que 0 en esa columna como 1**, de tal forma que la variable de salida sea binaria:\n",
    "- 0 -> ausencia.\n",
    "- 1 -> presencia."
   ],
   "metadata": {
    "collapsed": false,
    "pycharm": {
     "name": "#%% md\n"
    }
   }
  },
  {
   "cell_type": "code",
   "execution_count": 44,
   "outputs": [
    {
     "data": {
      "text/plain": "0        1\n1        1\n2        1\n3        1\n4        1\n        ..\n10124    0\n10125    0\n10126    0\n10127    0\n10128    0\nName: Room_Occupancy_Count, Length: 10129, dtype: int64"
     },
     "execution_count": 44,
     "metadata": {},
     "output_type": "execute_result"
    }
   ],
   "source": [
    "# Show \"Room_Occupancy_Count\" before processing\n",
    "df[\"Room_Occupancy_Count\"]"
   ],
   "metadata": {
    "collapsed": false,
    "pycharm": {
     "name": "#%%\n"
    }
   }
  },
  {
   "cell_type": "code",
   "execution_count": 45,
   "outputs": [
    {
     "data": {
      "text/plain": "0        1\n1        1\n2        1\n3        1\n4        1\n        ..\n10124    0\n10125    0\n10126    0\n10127    0\n10128    0\nName: Room_Occupancy_Count, Length: 10129, dtype: int64"
     },
     "execution_count": 45,
     "metadata": {},
     "output_type": "execute_result"
    }
   ],
   "source": [
    "#Process \"Room_Occupancy_Count\"\n",
    "preprocess.recode_dataset_output(df)\n",
    "\n",
    "# Show \"Room_Occupancy_Count\" after processing\n",
    "df[\"Room_Occupancy_Count\"]"
   ],
   "metadata": {
    "collapsed": false,
    "pycharm": {
     "name": "#%%\n"
    }
   }
  },
  {
   "cell_type": "markdown",
   "source": [
    "## Paso 3: Eliminación de las columnas temporales *Date* y *Time*\n",
    "\n",
    "Respecto a los datos ofrecidos por las columas *Date* y *Time*, vamos a filtrarlos y dejarlos fuera del proceso. Ya que, aunque los incluyeramos (por ejemplo, juntando ambas partes en una sola columna y convirtiéndolo a formato 'epoch', como long int), los valores de muestras sucesivas de esa columna estarían totalmente correlados entre sí y, como consecuencia, fastidiaríamos a la mayoría de algoritmos que vamos a emplear posteriormente.\n",
    "\n",
    "Se debe tener en cuenta que no nos estamos olvidando de la información temporal para considerar como si cada valor muestreado (fila de la tabla) fuese independiente de las demás filas. Sabemos que eso no es así, pero estamos considerando que esa información temporal no nos ofrece valor añadido para predecir si la habitación está ocupada o vacía. En caso contrario, se tendrían que usar modelos bastante más complicados para considerar esa relación temporal que indica que, en realidad, las muestras de dos filas adyacentes son consecutivas en el tiempo."
   ],
   "metadata": {
    "collapsed": false,
    "pycharm": {
     "name": "#%% md\n"
    }
   }
  },
  {
   "cell_type": "code",
   "execution_count": 46,
   "outputs": [
    {
     "data": {
      "text/plain": "   S1_Temp  S2_Temp  S3_Temp  S4_Temp  S1_Light  S2_Light  S3_Light  S4_Light  \\\n0    24.94    24.75    24.56    25.38       121        34        53        40   \n1    24.94    24.75    24.56    25.44       121        33        53        40   \n2    25.00    24.75    24.50    25.44       121        34        53        40   \n3    25.00    24.75    24.56    25.44       121        34        53        40   \n4    25.00    24.75    24.56    25.44       121        34        54        40   \n\n   S1_Sound  S2_Sound  S3_Sound  S4_Sound  S5_CO2  S5_CO2_Slope  S6_PIR  \\\n0      0.08      0.19      0.06      0.06     390      0.769231       0   \n1      0.93      0.05      0.06      0.06     390      0.646154       0   \n2      0.43      0.11      0.08      0.06     390      0.519231       0   \n3      0.41      0.10      0.10      0.09     390      0.388462       0   \n4      0.18      0.06      0.06      0.06     390      0.253846       0   \n\n   S7_PIR  Room_Occupancy_Count  \n0       0                     1  \n1       0                     1  \n2       0                     1  \n3       0                     1  \n4       0                     1  ",
      "text/html": "<div>\n<style scoped>\n    .dataframe tbody tr th:only-of-type {\n        vertical-align: middle;\n    }\n\n    .dataframe tbody tr th {\n        vertical-align: top;\n    }\n\n    .dataframe thead th {\n        text-align: right;\n    }\n</style>\n<table border=\"1\" class=\"dataframe\">\n  <thead>\n    <tr style=\"text-align: right;\">\n      <th></th>\n      <th>S1_Temp</th>\n      <th>S2_Temp</th>\n      <th>S3_Temp</th>\n      <th>S4_Temp</th>\n      <th>S1_Light</th>\n      <th>S2_Light</th>\n      <th>S3_Light</th>\n      <th>S4_Light</th>\n      <th>S1_Sound</th>\n      <th>S2_Sound</th>\n      <th>S3_Sound</th>\n      <th>S4_Sound</th>\n      <th>S5_CO2</th>\n      <th>S5_CO2_Slope</th>\n      <th>S6_PIR</th>\n      <th>S7_PIR</th>\n      <th>Room_Occupancy_Count</th>\n    </tr>\n  </thead>\n  <tbody>\n    <tr>\n      <th>0</th>\n      <td>24.94</td>\n      <td>24.75</td>\n      <td>24.56</td>\n      <td>25.38</td>\n      <td>121</td>\n      <td>34</td>\n      <td>53</td>\n      <td>40</td>\n      <td>0.08</td>\n      <td>0.19</td>\n      <td>0.06</td>\n      <td>0.06</td>\n      <td>390</td>\n      <td>0.769231</td>\n      <td>0</td>\n      <td>0</td>\n      <td>1</td>\n    </tr>\n    <tr>\n      <th>1</th>\n      <td>24.94</td>\n      <td>24.75</td>\n      <td>24.56</td>\n      <td>25.44</td>\n      <td>121</td>\n      <td>33</td>\n      <td>53</td>\n      <td>40</td>\n      <td>0.93</td>\n      <td>0.05</td>\n      <td>0.06</td>\n      <td>0.06</td>\n      <td>390</td>\n      <td>0.646154</td>\n      <td>0</td>\n      <td>0</td>\n      <td>1</td>\n    </tr>\n    <tr>\n      <th>2</th>\n      <td>25.00</td>\n      <td>24.75</td>\n      <td>24.50</td>\n      <td>25.44</td>\n      <td>121</td>\n      <td>34</td>\n      <td>53</td>\n      <td>40</td>\n      <td>0.43</td>\n      <td>0.11</td>\n      <td>0.08</td>\n      <td>0.06</td>\n      <td>390</td>\n      <td>0.519231</td>\n      <td>0</td>\n      <td>0</td>\n      <td>1</td>\n    </tr>\n    <tr>\n      <th>3</th>\n      <td>25.00</td>\n      <td>24.75</td>\n      <td>24.56</td>\n      <td>25.44</td>\n      <td>121</td>\n      <td>34</td>\n      <td>53</td>\n      <td>40</td>\n      <td>0.41</td>\n      <td>0.10</td>\n      <td>0.10</td>\n      <td>0.09</td>\n      <td>390</td>\n      <td>0.388462</td>\n      <td>0</td>\n      <td>0</td>\n      <td>1</td>\n    </tr>\n    <tr>\n      <th>4</th>\n      <td>25.00</td>\n      <td>24.75</td>\n      <td>24.56</td>\n      <td>25.44</td>\n      <td>121</td>\n      <td>34</td>\n      <td>54</td>\n      <td>40</td>\n      <td>0.18</td>\n      <td>0.06</td>\n      <td>0.06</td>\n      <td>0.06</td>\n      <td>390</td>\n      <td>0.253846</td>\n      <td>0</td>\n      <td>0</td>\n      <td>1</td>\n    </tr>\n  </tbody>\n</table>\n</div>"
     },
     "execution_count": 46,
     "metadata": {},
     "output_type": "execute_result"
    }
   ],
   "source": [
    "# Filter Date and Time columns\n",
    "preprocess.remove_time_columns(df)\n",
    "\n",
    "# Show the result\n",
    "df.head()"
   ],
   "metadata": {
    "collapsed": false,
    "pycharm": {
     "name": "#%%\n"
    }
   }
  },
  {
   "cell_type": "markdown",
   "source": [
    "# 2. Entrenamiento y seguimiento de la huella de carbono"
   ],
   "metadata": {
    "collapsed": false,
    "pycharm": {
     "name": "#%% md\n"
    }
   }
  },
  {
   "cell_type": "markdown",
   "source": [
    "### Experiment-impact-tracker"
   ],
   "metadata": {
    "collapsed": false,
    "pycharm": {
     "name": "#%% md\n"
    }
   }
  },
  {
   "cell_type": "code",
   "execution_count": 47,
   "outputs": [
    {
     "name": "stderr",
     "output_type": "stream",
     "text": [
      "experiment_impact_tracker.compute_tracker.ImpactTracker - WARNING - Gathering system info for reproducibility...\n",
      "experiment_impact_tracker.compute_tracker.ImpactTracker - WARNING - Gathering system info for reproducibility...\n",
      "experiment_impact_tracker.compute_tracker.ImpactTracker - WARNING - Gathering system info for reproducibility...\n",
      "experiment_impact_tracker.compute_tracker.ImpactTracker - WARNING - Gathering system info for reproducibility...\n",
      "experiment_impact_tracker.compute_tracker.ImpactTracker - WARNING - Gathering system info for reproducibility...\n",
      "experiment_impact_tracker.compute_tracker.ImpactTracker - WARNING - Gathering system info for reproducibility...\n",
      "experiment_impact_tracker.compute_tracker.ImpactTracker - WARNING - Done initial setup and information gathering...\n",
      "experiment_impact_tracker.compute_tracker.ImpactTracker - WARNING - Done initial setup and information gathering...\n",
      "experiment_impact_tracker.compute_tracker.ImpactTracker - WARNING - Done initial setup and information gathering...\n",
      "experiment_impact_tracker.compute_tracker.ImpactTracker - WARNING - Done initial setup and information gathering...\n",
      "experiment_impact_tracker.compute_tracker.ImpactTracker - WARNING - Done initial setup and information gathering...\n",
      "experiment_impact_tracker.compute_tracker.ImpactTracker - WARNING - Done initial setup and information gathering...\n",
      "experiment_impact_tracker.compute_tracker.ImpactTracker - WARNING - Starting process to monitor power\n",
      "experiment_impact_tracker.compute_tracker.ImpactTracker - WARNING - Starting process to monitor power\n",
      "experiment_impact_tracker.compute_tracker.ImpactTracker - WARNING - Starting process to monitor power\n",
      "experiment_impact_tracker.compute_tracker.ImpactTracker - WARNING - Starting process to monitor power\n",
      "experiment_impact_tracker.compute_tracker.ImpactTracker - WARNING - Starting process to monitor power\n",
      "experiment_impact_tracker.compute_tracker.ImpactTracker - WARNING - Starting process to monitor power\n",
      "experiment_impact_tracker.compute_tracker.ImpactTracker - WARNING - Datapoint timestamp took 0.003937959671020508 seconds\n",
      "experiment_impact_tracker.compute_tracker.ImpactTracker - WARNING - Datapoint timestamp took 0.003937959671020508 seconds\n",
      "experiment_impact_tracker.compute_tracker.ImpactTracker - WARNING - Datapoint timestamp took 0.003937959671020508 seconds\n",
      "experiment_impact_tracker.compute_tracker.ImpactTracker - WARNING - Datapoint timestamp took 0.003937959671020508 seconds\n",
      "experiment_impact_tracker.compute_tracker.ImpactTracker - WARNING - Datapoint timestamp took 0.003937959671020508 seconds\n",
      "experiment_impact_tracker.compute_tracker.ImpactTracker - WARNING - Datapoint timestamp took 0.003937959671020508 seconds\n",
      "experiment_impact_tracker.compute_tracker.ImpactTracker - WARNING - Datapoint cpu_count_adjusted_average_load took 0.015154838562011719 seconds\n",
      "experiment_impact_tracker.compute_tracker.ImpactTracker - WARNING - Datapoint cpu_count_adjusted_average_load took 0.015154838562011719 seconds\n",
      "experiment_impact_tracker.compute_tracker.ImpactTracker - WARNING - Datapoint cpu_count_adjusted_average_load took 0.015154838562011719 seconds\n",
      "experiment_impact_tracker.compute_tracker.ImpactTracker - WARNING - Datapoint cpu_count_adjusted_average_load took 0.015154838562011719 seconds\n",
      "experiment_impact_tracker.compute_tracker.ImpactTracker - WARNING - Datapoint cpu_count_adjusted_average_load took 0.015154838562011719 seconds\n",
      "experiment_impact_tracker.compute_tracker.ImpactTracker - WARNING - Datapoint cpu_count_adjusted_average_load took 0.015154838562011719 seconds\n",
      "experiment_impact_tracker.compute_tracker.ImpactTracker - WARNING - Datapoint cpu_freq took 0.07688522338867188 seconds\n",
      "experiment_impact_tracker.compute_tracker.ImpactTracker - WARNING - Datapoint cpu_freq took 0.07688522338867188 seconds\n",
      "experiment_impact_tracker.compute_tracker.ImpactTracker - WARNING - Datapoint cpu_freq took 0.07688522338867188 seconds\n",
      "experiment_impact_tracker.compute_tracker.ImpactTracker - WARNING - Datapoint cpu_freq took 0.07688522338867188 seconds\n",
      "experiment_impact_tracker.compute_tracker.ImpactTracker - WARNING - Datapoint cpu_freq took 0.07688522338867188 seconds\n",
      "experiment_impact_tracker.compute_tracker.ImpactTracker - WARNING - Datapoint cpu_freq took 0.07688522338867188 seconds\n"
     ]
    }
   ],
   "source": [
    "# Logistic Regression\n",
    "training.train_LR_eit(df,0.25)"
   ],
   "metadata": {
    "collapsed": false,
    "pycharm": {
     "name": "#%%\n"
    }
   }
  },
  {
   "cell_type": "code",
   "execution_count": 49,
   "outputs": [
    {
     "data": {
      "text/plain": "{'python_package_info': [certifi 2022.6.15 (/home/misanchz/miniconda3/envs/TFG-Project/lib/python3.10/site-packages),\n  pytz 2022.2.1 (/home/misanchz/miniconda3/envs/TFG-Project/lib/python3.10/site-packages),\n  tzdata 2022.2 (/home/misanchz/miniconda3/envs/TFG-Project/lib/python3.10/site-packages),\n  setuptools 63.4.1 (/home/misanchz/miniconda3/envs/TFG-Project/lib/python3.10/site-packages),\n  cryptography 37.0.1 (/home/misanchz/miniconda3/envs/TFG-Project/lib/python3.10/site-packages),\n  pyzmq 23.2.1 (/home/misanchz/miniconda3/envs/TFG-Project/lib/python3.10/site-packages),\n  pip 22.1.2 (/home/misanchz/miniconda3/envs/TFG-Project/lib/python3.10/site-packages),\n  attrs 22.1.0 (/home/misanchz/miniconda3/envs/TFG-Project/lib/python3.10/site-packages),\n  pyOpenSSL 22.0.0 (/home/misanchz/miniconda3/envs/TFG-Project/lib/python3.10/site-packages),\n  argon2-cffi 21.3.0 (/home/misanchz/miniconda3/envs/TFG-Project/lib/python3.10/site-packages),\n  packaging 21.3 (/home/misanchz/miniconda3/envs/TFG-Project/lib/python3.10/site-packages),\n  argon2-cffi-bindings 21.2.0 (/home/misanchz/miniconda3/envs/TFG-Project/lib/python3.10/site-packages),\n  pynvml 11.4.1 (/home/misanchz/miniconda3/envs/TFG-Project/lib/python3.10/site-packages),\n  Pillow 9.2.0 (/home/misanchz/miniconda3/envs/TFG-Project/lib/python3.10/site-packages),\n  ipython 8.4.0 (/home/misanchz/miniconda3/envs/TFG-Project/lib/python3.10/site-packages),\n  click 8.1.3 (/home/misanchz/miniconda3/envs/TFG-Project/lib/python3.10/site-packages),\n  py-cpuinfo 8.0.0 (/home/misanchz/miniconda3/envs/TFG-Project/lib/python3.10/site-packages),\n  ipywidgets 7.6.5 (/home/misanchz/miniconda3/envs/TFG-Project/lib/python3.10/site-packages),\n  jupyter-client 7.3.5 (/home/misanchz/miniconda3/envs/TFG-Project/lib/python3.10/site-packages),\n  nbconvert 7.0.0 (/home/misanchz/miniconda3/envs/TFG-Project/lib/python3.10/site-packages),\n  ipykernel 6.15.1 (/home/misanchz/miniconda3/envs/TFG-Project/lib/python3.10/site-packages),\n  sip 6.6.2 (/home/misanchz/miniconda3/envs/TFG-Project/lib/python3.10/site-packages),\n  notebook 6.4.12 (/home/misanchz/miniconda3/envs/TFG-Project/lib/python3.10/site-packages),\n  jupyter-console 6.4.3 (/home/misanchz/miniconda3/envs/TFG-Project/lib/python3.10/site-packages),\n  tornado 6.2 (/home/misanchz/miniconda3/envs/TFG-Project/lib/python3.10/site-packages),\n  psutil 5.9.1 (/home/misanchz/miniconda3/envs/TFG-Project/lib/python3.10/site-packages),\n  deepdiff 5.8.1 (/home/misanchz/miniconda3/envs/TFG-Project/lib/python3.10/site-packages),\n  nbformat 5.4.0 (/home/misanchz/miniconda3/envs/TFG-Project/lib/python3.10/site-packages),\n  ujson 5.4.0 (/home/misanchz/miniconda3/envs/TFG-Project/lib/python3.10/site-packages),\n  qtconsole 5.3.1 (/home/misanchz/miniconda3/envs/TFG-Project/lib/python3.10/site-packages),\n  traitlets 5.3.0 (/home/misanchz/miniconda3/envs/TFG-Project/lib/python3.10/site-packages),\n  decorator 5.1.1 (/home/misanchz/miniconda3/envs/TFG-Project/lib/python3.10/site-packages),\n  bleach 5.0.1 (/home/misanchz/miniconda3/envs/TFG-Project/lib/python3.10/site-packages),\n  fonttools 4.37.1 (/home/misanchz/miniconda3/envs/TFG-Project/lib/python3.10/site-packages),\n  jsonschema 4.14.0 (/home/misanchz/miniconda3/envs/TFG-Project/lib/python3.10/site-packages),\n  jupyter-core 4.11.1 (/home/misanchz/miniconda3/envs/TFG-Project/lib/python3.10/site-packages),\n  beautifulsoup4 4.11.1 (/home/misanchz/miniconda3/envs/TFG-Project/lib/python3.10/site-packages),\n  lxml 4.9.1 (/home/misanchz/miniconda3/envs/TFG-Project/lib/python3.10/site-packages),\n  pexpect 4.8.0 (/home/misanchz/miniconda3/envs/TFG-Project/lib/python3.10/site-packages),\n  typing-extensions 4.3.0 (/home/misanchz/miniconda3/envs/TFG-Project/lib/python3.10/site-packages),\n  tzlocal 4.2 (/home/misanchz/miniconda3/envs/TFG-Project/lib/python3.10/site-packages),\n  ordered-set 4.1.0 (/home/misanchz/miniconda3/envs/TFG-Project/lib/python3.10/site-packages),\n  ply 3.11 (/home/misanchz/miniconda3/envs/TFG-Project/lib/python3.10/site-packages),\n  APScheduler 3.9.1 (/home/misanchz/miniconda3/envs/TFG-Project/lib/python3.10/site-packages),\n  matplotlib 3.5.3 (/home/misanchz/miniconda3/envs/TFG-Project/lib/python3.10/site-packages),\n  widgetsnbextension 3.5.2 (/home/misanchz/miniconda3/envs/TFG-Project/lib/python3.10/site-packages),\n  anyio 3.5.0 (/home/misanchz/miniconda3/envs/TFG-Project/lib/python3.10/site-packages),\n  jupyterlab 3.4.4 (/home/misanchz/miniconda3/envs/TFG-Project/lib/python3.10/site-packages),\n  idna 3.3 (/home/misanchz/miniconda3/envs/TFG-Project/lib/python3.10/site-packages),\n  Jinja2 3.1.2 (/home/misanchz/miniconda3/envs/TFG-Project/lib/python3.10/site-packages),\n  threadpoolctl 3.1.0 (/home/misanchz/miniconda3/envs/TFG-Project/lib/python3.10/site-packages),\n  prompt-toolkit 3.0.30 (/home/misanchz/miniconda3/envs/TFG-Project/lib/python3.10/site-packages),\n  pyparsing 3.0.9 (/home/misanchz/miniconda3/envs/TFG-Project/lib/python3.10/site-packages),\n  requests 2.28.1 (/home/misanchz/miniconda3/envs/TFG-Project/lib/python3.10/site-packages),\n  pycparser 2.21 (/home/misanchz/miniconda3/envs/TFG-Project/lib/python3.10/site-packages),\n  fastjsonschema 2.16.2 (/home/misanchz/miniconda3/envs/TFG-Project/lib/python3.10/site-packages),\n  Pygments 2.13.0 (/home/misanchz/miniconda3/envs/TFG-Project/lib/python3.10/site-packages),\n  jupyterlab-server 2.12.0 (/home/misanchz/miniconda3/envs/TFG-Project/lib/python3.10/site-packages),\n  Babel 2.9.1 (/home/misanchz/miniconda3/envs/TFG-Project/lib/python3.10/site-packages),\n  python-dateutil 2.8.2 (/home/misanchz/miniconda3/envs/TFG-Project/lib/python3.10/site-packages),\n  soupsieve 2.3.2.post1 (/home/misanchz/miniconda3/envs/TFG-Project/lib/python3.10/site-packages),\n  geopy 2.2.0 (/home/misanchz/miniconda3/envs/TFG-Project/lib/python3.10/site-packages),\n  codecarbon 2.1.3 (/home/misanchz/miniconda3/envs/TFG-Project/lib/python3.10/site-packages),\n  MarkupSafe 2.1.1 (/home/misanchz/miniconda3/envs/TFG-Project/lib/python3.10/site-packages),\n  charset-normalizer 2.1.1 (/home/misanchz/miniconda3/envs/TFG-Project/lib/python3.10/site-packages),\n  asttokens 2.0.8 (/home/misanchz/miniconda3/envs/TFG-Project/lib/python3.10/site-packages),\n  mistune 2.0.4 (/home/misanchz/miniconda3/envs/TFG-Project/lib/python3.10/site-packages),\n  QtPy 2.0.1 (/home/misanchz/miniconda3/envs/TFG-Project/lib/python3.10/site-packages),\n  geographiclib 1.52 (/home/misanchz/miniconda3/envs/TFG-Project/lib/python3.10/site-packages),\n  geocoder 1.38.1 (/home/misanchz/miniconda3/envs/TFG-Project/lib/python3.10/site-packages),\n  urllib3 1.26.12 (/home/misanchz/miniconda3/envs/TFG-Project/lib/python3.10/site-packages),\n  numpy 1.23.2 (/home/misanchz/miniconda3/envs/TFG-Project/lib/python3.10/site-packages),\n  jupyter-server 1.18.1 (/home/misanchz/miniconda3/envs/TFG-Project/lib/python3.10/site-packages),\n  six 1.16.0 (/home/misanchz/miniconda3/envs/TFG-Project/lib/python3.10/site-packages),\n  cffi 1.15.1 (/home/misanchz/miniconda3/envs/TFG-Project/lib/python3.10/site-packages),\n  scipy 1.9.1 (/home/misanchz/miniconda3/envs/TFG-Project/lib/python3.10/site-packages),\n  Shapely 1.8.4 (/home/misanchz/miniconda3/envs/TFG-Project/lib/python3.10/site-packages),\n  Send2Trash 1.8.0 (/home/misanchz/miniconda3/envs/TFG-Project/lib/python3.10/site-packages),\n  PySocks 1.7.1 (/home/misanchz/miniconda3/envs/TFG-Project/lib/python3.10/site-packages),\n  debugpy 1.6.3 (/home/misanchz/miniconda3/envs/TFG-Project/lib/python3.10/site-packages),\n  nest-asyncio 1.5.5 (/home/misanchz/miniconda3/envs/TFG-Project/lib/python3.10/site-packages),\n  pandocfilters 1.5.0 (/home/misanchz/miniconda3/envs/TFG-Project/lib/python3.10/site-packages),\n  kiwisolver 1.4.4 (/home/misanchz/miniconda3/envs/TFG-Project/lib/python3.10/site-packages),\n  pandas 1.4.3 (/home/misanchz/miniconda3/envs/TFG-Project/lib/python3.10/site-packages),\n  PyLaTeX 1.4.1 (/home/misanchz/miniconda3/envs/TFG-Project/lib/python3.10/site-packages),\n  GPUtil 1.4.0 (/home/misanchz/miniconda3/envs/TFG-Project/lib/python3.10/site-packages),\n  arrow 1.2.2 (/home/misanchz/miniconda3/envs/TFG-Project/lib/python3.10/site-packages),\n  sniffio 1.2.0 (/home/misanchz/miniconda3/envs/TFG-Project/lib/python3.10/site-packages),\n  carbontracker 1.1.6 (/home/misanchz/miniconda3/envs/TFG-Project/lib/python3.10/site-packages),\n  scikit-learn 1.1.2 (/home/misanchz/miniconda3/envs/TFG-Project/lib/python3.10/site-packages),\n  tinycss2 1.1.1 (/home/misanchz/miniconda3/envs/TFG-Project/lib/python3.10/site-packages),\n  joblib 1.1.0 (/home/misanchz/miniconda3/envs/TFG-Project/lib/python3.10/site-packages),\n  jupyter 1.0.0 (/home/misanchz/miniconda3/envs/TFG-Project/lib/python3.10/site-packages),\n  jupyterlab-widgets 1.0.0 (/home/misanchz/miniconda3/envs/TFG-Project/lib/python3.10/site-packages),\n  websocket-client 0.58.0 (/home/misanchz/miniconda3/envs/TFG-Project/lib/python3.10/site-packages),\n  wheel 0.37.1 (/home/misanchz/miniconda3/envs/TFG-Project/lib/python3.10/site-packages),\n  future 0.18.2 (/home/misanchz/miniconda3/envs/TFG-Project/lib/python3.10/site-packages),\n  jedi 0.18.1 (/home/misanchz/miniconda3/envs/TFG-Project/lib/python3.10/site-packages),\n  pyrsistent 0.18.1 (/home/misanchz/miniconda3/envs/TFG-Project/lib/python3.10/site-packages),\n  fuzzywuzzy 0.18.0 (/home/misanchz/miniconda3/envs/TFG-Project/lib/python3.10/site-packages),\n  terminado 0.15.0 (/home/misanchz/miniconda3/envs/TFG-Project/lib/python3.10/site-packages),\n  prometheus-client 0.14.1 (/home/misanchz/miniconda3/envs/TFG-Project/lib/python3.10/site-packages),\n  seaborn 0.11.2 (/home/misanchz/miniconda3/envs/TFG-Project/lib/python3.10/site-packages),\n  cycler 0.11.0 (/home/misanchz/miniconda3/envs/TFG-Project/lib/python3.10/site-packages),\n  toml 0.10.2 (/home/misanchz/miniconda3/envs/TFG-Project/lib/python3.10/site-packages),\n  executing 0.10.0 (/home/misanchz/miniconda3/envs/TFG-Project/lib/python3.10/site-packages),\n  json5 0.9.6 (/home/misanchz/miniconda3/envs/TFG-Project/lib/python3.10/site-packages),\n  parso 0.8.3 (/home/misanchz/miniconda3/envs/TFG-Project/lib/python3.10/site-packages),\n  pickleshare 0.7.5 (/home/misanchz/miniconda3/envs/TFG-Project/lib/python3.10/site-packages),\n  defusedxml 0.7.1 (/home/misanchz/miniconda3/envs/TFG-Project/lib/python3.10/site-packages),\n  brotlipy 0.7.0 (/home/misanchz/miniconda3/envs/TFG-Project/lib/python3.10/site-packages),\n  ptyprocess 0.7.0 (/home/misanchz/miniconda3/envs/TFG-Project/lib/python3.10/site-packages),\n  nbclient 0.6.7 (/home/misanchz/miniconda3/envs/TFG-Project/lib/python3.10/site-packages),\n  testpath 0.6.0 (/home/misanchz/miniconda3/envs/TFG-Project/lib/python3.10/site-packages),\n  webencodings 0.5.1 (/home/misanchz/miniconda3/envs/TFG-Project/lib/python3.10/site-packages),\n  stack-data 0.5.0 (/home/misanchz/miniconda3/envs/TFG-Project/lib/python3.10/site-packages),\n  entrypoints 0.4 (/home/misanchz/miniconda3/envs/TFG-Project/lib/python3.10/site-packages),\n  nbclassic 0.3.5 (/home/misanchz/miniconda3/envs/TFG-Project/lib/python3.10/site-packages),\n  eco2ai 0.2.7 (/home/misanchz/miniconda3/envs/TFG-Project/lib/python3.10/site-packages),\n  wcwidth 0.2.5 (/home/misanchz/miniconda3/envs/TFG-Project/lib/python3.10/site-packages),\n  pure-eval 0.2.2 (/home/misanchz/miniconda3/envs/TFG-Project/lib/python3.10/site-packages),\n  jupyterlab-pygments 0.2.2 (/home/misanchz/miniconda3/envs/TFG-Project/lib/python3.10/site-packages),\n  backcall 0.2.0 (/home/misanchz/miniconda3/envs/TFG-Project/lib/python3.10/site-packages),\n  ipython-genutils 0.2.0 (/home/misanchz/miniconda3/envs/TFG-Project/lib/python3.10/site-packages),\n  experiment-impact-tracker 0.1.8 (/home/misanchz/miniconda3/envs/TFG-Project/lib/python3.10/site-packages),\n  matplotlib-inline 0.1.6 (/home/misanchz/miniconda3/envs/TFG-Project/lib/python3.10/site-packages),\n  ratelim 0.1.6 (/home/misanchz/miniconda3/envs/TFG-Project/lib/python3.10/site-packages),\n  progiter 0.1.4 (/home/misanchz/miniconda3/envs/TFG-Project/lib/python3.10/site-packages),\n  pytz-deprecation-shim 0.1.0.post0 (/home/misanchz/miniconda3/envs/TFG-Project/lib/python3.10/site-packages),\n  cumulator 0.1.0 (/home/misanchz/miniconda3/envs/TFG-Project/lib/python3.10/site-packages),\n  bootstrapped 0.0.2 (/home/misanchz/miniconda3/envs/TFG-Project/lib/python3.10/site-packages),\n  bs4 0.0.1 (/home/misanchz/miniconda3/envs/TFG-Project/lib/python3.10/site-packages),\n  PyQt5-sip 12.11.0 (/home/misanchz/miniconda3/envs/TFG-Project/lib/python3.10/site-packages/PyQt5_sip-12.11.0-py3.10-linux-x86_64.egg)],\n 'cpu_info': {'python_version': '3.10.4.final.0 (64 bit)',\n  'cpuinfo_version': [8, 0, 0],\n  'cpuinfo_version_string': '8.0.0',\n  'arch': 'X86_64',\n  'bits': 64,\n  'count': 1,\n  'arch_string_raw': 'x86_64',\n  'vendor_id_raw': 'GenuineIntel',\n  'brand_raw': 'Intel(R) Core(TM) i5-9400F CPU @ 2.90GHz',\n  'hz_advertised_friendly': '2.9000 GHz',\n  'hz_actual_friendly': '2.9040 GHz',\n  'hz_advertised': [2900000000, 0],\n  'hz_actual': [2904008000, 0],\n  'stepping': 10,\n  'model': 158,\n  'family': 6,\n  'flags': ['apic',\n   'arch_capabilities',\n   'clflush',\n   'cmov',\n   'constant_tsc',\n   'cpuid',\n   'cx16',\n   'cx8',\n   'de',\n   'flush_l1d',\n   'fpu',\n   'fsgsbase',\n   'fxsr',\n   'ht',\n   'hypervisor',\n   'invpcid',\n   'invpcid_single',\n   'lahf_lm',\n   'lm',\n   'mca',\n   'mce',\n   'md_clear',\n   'mmx',\n   'msr',\n   'mtrr',\n   'nonstop_tsc',\n   'nopl',\n   'nx',\n   'pae',\n   'pat',\n   'pcid',\n   'pge',\n   'pni',\n   'pse',\n   'pse36',\n   'pti',\n   'rdtscp',\n   'rep_good',\n   'sep',\n   'sse',\n   'sse2',\n   'sse4_1',\n   'sse4_2',\n   'ssse3',\n   'syscall',\n   'tsc',\n   'tsc_known_freq',\n   'vme',\n   'xtopology'],\n  'l3_cache_size': 9437184,\n  'l2_cache_size': '256 KiB (1 instance)',\n  'l1_data_cache_size': '32 KiB (1 instance)',\n  'l1_instruction_cache_size': '32 KiB (1 instance)',\n  'l2_cache_line_size': 256,\n  'l2_cache_associativity': 6,\n  'usable_cpus': 1},\n 'experiment_start': datetime.datetime(2022, 8, 28, 18, 59, 47, 466685),\n 'experiment_impact_tracker_version': '0.1.8',\n 'region': {'type': 'Feature',\n  'geometry': <shapely.geometry.multipolygon.MultiPolygon at 0x7f1395f2b370>,\n  'properties': {'zoneName': 'ES'},\n  'id': 'ES'},\n 'region_carbon_intensity_estimate': {'_source': 'https://github.com/tmrowco/electricitymap-contrib/blob/master/config/co2eq_parameters.json (ElectricityMap Average, 2019)',\n  'carbonIntensity': 234.32194336764283,\n  'fossilFuelRatio': 0.3479820504744457,\n  'renewableRatio': 0.4056082284207545}}"
     },
     "execution_count": 49,
     "metadata": {},
     "output_type": "execute_result"
    }
   ],
   "source": [
    "from experiment_impact_tracker.compute_tracker import gather_initial_info, read_latest_stats\n",
    "\n",
    "read_latest_stats('eit_emissions')\n",
    "df_info = gather_initial_info('eit_emissions')\n",
    "df_info"
   ],
   "metadata": {
    "collapsed": false,
    "pycharm": {
     "name": "#%%\n"
    }
   }
  }
 ],
 "metadata": {
  "kernelspec": {
   "display_name": "Python 3",
   "language": "python",
   "name": "python3"
  },
  "language_info": {
   "codemirror_mode": {
    "name": "ipython",
    "version": 2
   },
   "file_extension": ".py",
   "mimetype": "text/x-python",
   "name": "python",
   "nbconvert_exporter": "python",
   "pygments_lexer": "ipython2",
   "version": "2.7.6"
  }
 },
 "nbformat": 4,
 "nbformat_minor": 0
}