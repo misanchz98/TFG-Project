{
 "cells": [
  {
   "cell_type": "markdown",
   "source": [
    "# 1. Importación de paquetes"
   ],
   "metadata": {
    "collapsed": false,
    "pycharm": {
     "name": "#%% md\n"
    }
   }
  },
  {
   "cell_type": "code",
   "execution_count": 53,
   "outputs": [],
   "source": [
    "#Import packages\n",
    "from modules import preprocess\n",
    "from modules import training"
   ],
   "metadata": {
    "collapsed": false,
    "pycharm": {
     "name": "#%%\n"
    }
   }
  },
  {
   "cell_type": "markdown",
   "source": [
    "# 2. Preprocesamiento del *dataset*: [Room Occupancy Estimation Data Set](https://www.kaggle.com/ananthr1/room-occupancy-estimation-data-set)"
   ],
   "metadata": {
    "collapsed": false,
    "pycharm": {
     "name": "#%% md\n"
    }
   }
  },
  {
   "cell_type": "markdown",
   "source": [
    "## Paso 1: Lectura del *dataset* y obtención de datos"
   ],
   "metadata": {
    "collapsed": false,
    "pycharm": {
     "name": "#%% md\n"
    }
   }
  },
  {
   "cell_type": "code",
   "execution_count": 54,
   "outputs": [
    {
     "data": {
      "text/plain": "(10129, 19)"
     },
     "execution_count": 54,
     "metadata": {},
     "output_type": "execute_result"
    }
   ],
   "source": [
    "df = preprocess.load_csv_data('Occupancy_Estimation.csv')\n",
    "df.shape"
   ],
   "metadata": {
    "collapsed": false,
    "pycharm": {
     "name": "#%%\n"
    }
   }
  },
  {
   "cell_type": "code",
   "execution_count": 55,
   "outputs": [
    {
     "data": {
      "text/plain": "         Date      Time  S1_Temp  S2_Temp  S3_Temp  S4_Temp  S1_Light  \\\n0  2017/12/22  10:49:41    24.94    24.75    24.56    25.38       121   \n1  2017/12/22  10:50:12    24.94    24.75    24.56    25.44       121   \n2  2017/12/22  10:50:42    25.00    24.75    24.50    25.44       121   \n3  2017/12/22  10:51:13    25.00    24.75    24.56    25.44       121   \n4  2017/12/22  10:51:44    25.00    24.75    24.56    25.44       121   \n\n   S2_Light  S3_Light  S4_Light  S1_Sound  S2_Sound  S3_Sound  S4_Sound  \\\n0        34        53        40      0.08      0.19      0.06      0.06   \n1        33        53        40      0.93      0.05      0.06      0.06   \n2        34        53        40      0.43      0.11      0.08      0.06   \n3        34        53        40      0.41      0.10      0.10      0.09   \n4        34        54        40      0.18      0.06      0.06      0.06   \n\n   S5_CO2  S5_CO2_Slope  S6_PIR  S7_PIR  Room_Occupancy_Count  \n0     390      0.769231       0       0                     1  \n1     390      0.646154       0       0                     1  \n2     390      0.519231       0       0                     1  \n3     390      0.388462       0       0                     1  \n4     390      0.253846       0       0                     1  ",
      "text/html": "<div>\n<style scoped>\n    .dataframe tbody tr th:only-of-type {\n        vertical-align: middle;\n    }\n\n    .dataframe tbody tr th {\n        vertical-align: top;\n    }\n\n    .dataframe thead th {\n        text-align: right;\n    }\n</style>\n<table border=\"1\" class=\"dataframe\">\n  <thead>\n    <tr style=\"text-align: right;\">\n      <th></th>\n      <th>Date</th>\n      <th>Time</th>\n      <th>S1_Temp</th>\n      <th>S2_Temp</th>\n      <th>S3_Temp</th>\n      <th>S4_Temp</th>\n      <th>S1_Light</th>\n      <th>S2_Light</th>\n      <th>S3_Light</th>\n      <th>S4_Light</th>\n      <th>S1_Sound</th>\n      <th>S2_Sound</th>\n      <th>S3_Sound</th>\n      <th>S4_Sound</th>\n      <th>S5_CO2</th>\n      <th>S5_CO2_Slope</th>\n      <th>S6_PIR</th>\n      <th>S7_PIR</th>\n      <th>Room_Occupancy_Count</th>\n    </tr>\n  </thead>\n  <tbody>\n    <tr>\n      <th>0</th>\n      <td>2017/12/22</td>\n      <td>10:49:41</td>\n      <td>24.94</td>\n      <td>24.75</td>\n      <td>24.56</td>\n      <td>25.38</td>\n      <td>121</td>\n      <td>34</td>\n      <td>53</td>\n      <td>40</td>\n      <td>0.08</td>\n      <td>0.19</td>\n      <td>0.06</td>\n      <td>0.06</td>\n      <td>390</td>\n      <td>0.769231</td>\n      <td>0</td>\n      <td>0</td>\n      <td>1</td>\n    </tr>\n    <tr>\n      <th>1</th>\n      <td>2017/12/22</td>\n      <td>10:50:12</td>\n      <td>24.94</td>\n      <td>24.75</td>\n      <td>24.56</td>\n      <td>25.44</td>\n      <td>121</td>\n      <td>33</td>\n      <td>53</td>\n      <td>40</td>\n      <td>0.93</td>\n      <td>0.05</td>\n      <td>0.06</td>\n      <td>0.06</td>\n      <td>390</td>\n      <td>0.646154</td>\n      <td>0</td>\n      <td>0</td>\n      <td>1</td>\n    </tr>\n    <tr>\n      <th>2</th>\n      <td>2017/12/22</td>\n      <td>10:50:42</td>\n      <td>25.00</td>\n      <td>24.75</td>\n      <td>24.50</td>\n      <td>25.44</td>\n      <td>121</td>\n      <td>34</td>\n      <td>53</td>\n      <td>40</td>\n      <td>0.43</td>\n      <td>0.11</td>\n      <td>0.08</td>\n      <td>0.06</td>\n      <td>390</td>\n      <td>0.519231</td>\n      <td>0</td>\n      <td>0</td>\n      <td>1</td>\n    </tr>\n    <tr>\n      <th>3</th>\n      <td>2017/12/22</td>\n      <td>10:51:13</td>\n      <td>25.00</td>\n      <td>24.75</td>\n      <td>24.56</td>\n      <td>25.44</td>\n      <td>121</td>\n      <td>34</td>\n      <td>53</td>\n      <td>40</td>\n      <td>0.41</td>\n      <td>0.10</td>\n      <td>0.10</td>\n      <td>0.09</td>\n      <td>390</td>\n      <td>0.388462</td>\n      <td>0</td>\n      <td>0</td>\n      <td>1</td>\n    </tr>\n    <tr>\n      <th>4</th>\n      <td>2017/12/22</td>\n      <td>10:51:44</td>\n      <td>25.00</td>\n      <td>24.75</td>\n      <td>24.56</td>\n      <td>25.44</td>\n      <td>121</td>\n      <td>34</td>\n      <td>54</td>\n      <td>40</td>\n      <td>0.18</td>\n      <td>0.06</td>\n      <td>0.06</td>\n      <td>0.06</td>\n      <td>390</td>\n      <td>0.253846</td>\n      <td>0</td>\n      <td>0</td>\n      <td>1</td>\n    </tr>\n  </tbody>\n</table>\n</div>"
     },
     "execution_count": 55,
     "metadata": {},
     "output_type": "execute_result"
    }
   ],
   "source": [
    "df.head()"
   ],
   "metadata": {
    "collapsed": false,
    "pycharm": {
     "name": "#%%\n"
    }
   }
  },
  {
   "cell_type": "markdown",
   "source": [
    "## Paso 2: Recodificación de la columna *RoomOccupancyCount*\n",
    "\n",
    "En este caso, la columna que contiene la variable de salida (*RoomOccupancyCount*) cuenta el número de personas en la sala. Para simplificar, nuestro objetivo va a ser detectar si la sala está vacía o, en cambio, hay alguien (no el número exacto de personas).\n",
    "\n",
    "Por lo tanto, se **recodificará cualquier valor mayor que 0 en esa columna como 1**, de tal forma que la variable de salida sea binaria:\n",
    "- 0 -> ausencia.\n",
    "- 1 -> presencia."
   ],
   "metadata": {
    "collapsed": false,
    "pycharm": {
     "name": "#%% md\n"
    }
   }
  },
  {
   "cell_type": "code",
   "execution_count": 56,
   "outputs": [
    {
     "data": {
      "text/plain": "0        1\n1        1\n2        1\n3        1\n4        1\n        ..\n10124    0\n10125    0\n10126    0\n10127    0\n10128    0\nName: Room_Occupancy_Count, Length: 10129, dtype: int64"
     },
     "execution_count": 56,
     "metadata": {},
     "output_type": "execute_result"
    }
   ],
   "source": [
    "# Show \"Room_Occupancy_Count\" before processing\n",
    "df[\"Room_Occupancy_Count\"]"
   ],
   "metadata": {
    "collapsed": false,
    "pycharm": {
     "name": "#%%\n"
    }
   }
  },
  {
   "cell_type": "code",
   "execution_count": 57,
   "outputs": [
    {
     "data": {
      "text/plain": "0        1\n1        1\n2        1\n3        1\n4        1\n        ..\n10124    0\n10125    0\n10126    0\n10127    0\n10128    0\nName: Room_Occupancy_Count, Length: 10129, dtype: int32"
     },
     "execution_count": 57,
     "metadata": {},
     "output_type": "execute_result"
    }
   ],
   "source": [
    "#Process \"Room_Occupancy_Count\"\n",
    "preprocess.recode_dataset_output(df)\n",
    "\n",
    "# Show \"Room_Occupancy_Count\" after processing\n",
    "df[\"Room_Occupancy_Count\"]"
   ],
   "metadata": {
    "collapsed": false,
    "pycharm": {
     "name": "#%%\n"
    }
   }
  },
  {
   "cell_type": "markdown",
   "source": [
    "## Paso 3: Eliminación de las columnas temporales *Date* y *Time*\n",
    "\n",
    "Respecto a los datos ofrecidos por las columas *Date* y *Time*, vamos a filtrarlos y dejarlos fuera del proceso. Ya que, aunque los incluyeramos (por ejemplo, juntando ambas partes en una sola columna y convirtiéndolo a formato 'epoch', como long int), los valores de muestras sucesivas de esa columna estarían totalmente correlados entre sí y, como consecuencia, fastidiaríamos a la mayoría de algoritmos que vamos a emplear posteriormente.\n",
    "\n",
    "Se debe tener en cuenta que no nos estamos olvidando de la información temporal para considerar como si cada valor muestreado (fila de la tabla) fuese independiente de las demás filas. Sabemos que eso no es así, pero estamos considerando que esa información temporal no nos ofrece valor añadido para predecir si la habitación está ocupada o vacía. En caso contrario, se tendrían que usar modelos bastante más complicados para considerar esa relación temporal que indica que, en realidad, las muestras de dos filas adyacentes son consecutivas en el tiempo."
   ],
   "metadata": {
    "collapsed": false,
    "pycharm": {
     "name": "#%% md\n"
    }
   }
  },
  {
   "cell_type": "code",
   "execution_count": 58,
   "outputs": [
    {
     "data": {
      "text/plain": "   S1_Temp  S2_Temp  S3_Temp  S4_Temp  S1_Light  S2_Light  S3_Light  S4_Light  \\\n0    24.94    24.75    24.56    25.38       121        34        53        40   \n1    24.94    24.75    24.56    25.44       121        33        53        40   \n2    25.00    24.75    24.50    25.44       121        34        53        40   \n3    25.00    24.75    24.56    25.44       121        34        53        40   \n4    25.00    24.75    24.56    25.44       121        34        54        40   \n\n   S1_Sound  S2_Sound  S3_Sound  S4_Sound  S5_CO2  S5_CO2_Slope  S6_PIR  \\\n0      0.08      0.19      0.06      0.06     390      0.769231       0   \n1      0.93      0.05      0.06      0.06     390      0.646154       0   \n2      0.43      0.11      0.08      0.06     390      0.519231       0   \n3      0.41      0.10      0.10      0.09     390      0.388462       0   \n4      0.18      0.06      0.06      0.06     390      0.253846       0   \n\n   S7_PIR  Room_Occupancy_Count  \n0       0                     1  \n1       0                     1  \n2       0                     1  \n3       0                     1  \n4       0                     1  ",
      "text/html": "<div>\n<style scoped>\n    .dataframe tbody tr th:only-of-type {\n        vertical-align: middle;\n    }\n\n    .dataframe tbody tr th {\n        vertical-align: top;\n    }\n\n    .dataframe thead th {\n        text-align: right;\n    }\n</style>\n<table border=\"1\" class=\"dataframe\">\n  <thead>\n    <tr style=\"text-align: right;\">\n      <th></th>\n      <th>S1_Temp</th>\n      <th>S2_Temp</th>\n      <th>S3_Temp</th>\n      <th>S4_Temp</th>\n      <th>S1_Light</th>\n      <th>S2_Light</th>\n      <th>S3_Light</th>\n      <th>S4_Light</th>\n      <th>S1_Sound</th>\n      <th>S2_Sound</th>\n      <th>S3_Sound</th>\n      <th>S4_Sound</th>\n      <th>S5_CO2</th>\n      <th>S5_CO2_Slope</th>\n      <th>S6_PIR</th>\n      <th>S7_PIR</th>\n      <th>Room_Occupancy_Count</th>\n    </tr>\n  </thead>\n  <tbody>\n    <tr>\n      <th>0</th>\n      <td>24.94</td>\n      <td>24.75</td>\n      <td>24.56</td>\n      <td>25.38</td>\n      <td>121</td>\n      <td>34</td>\n      <td>53</td>\n      <td>40</td>\n      <td>0.08</td>\n      <td>0.19</td>\n      <td>0.06</td>\n      <td>0.06</td>\n      <td>390</td>\n      <td>0.769231</td>\n      <td>0</td>\n      <td>0</td>\n      <td>1</td>\n    </tr>\n    <tr>\n      <th>1</th>\n      <td>24.94</td>\n      <td>24.75</td>\n      <td>24.56</td>\n      <td>25.44</td>\n      <td>121</td>\n      <td>33</td>\n      <td>53</td>\n      <td>40</td>\n      <td>0.93</td>\n      <td>0.05</td>\n      <td>0.06</td>\n      <td>0.06</td>\n      <td>390</td>\n      <td>0.646154</td>\n      <td>0</td>\n      <td>0</td>\n      <td>1</td>\n    </tr>\n    <tr>\n      <th>2</th>\n      <td>25.00</td>\n      <td>24.75</td>\n      <td>24.50</td>\n      <td>25.44</td>\n      <td>121</td>\n      <td>34</td>\n      <td>53</td>\n      <td>40</td>\n      <td>0.43</td>\n      <td>0.11</td>\n      <td>0.08</td>\n      <td>0.06</td>\n      <td>390</td>\n      <td>0.519231</td>\n      <td>0</td>\n      <td>0</td>\n      <td>1</td>\n    </tr>\n    <tr>\n      <th>3</th>\n      <td>25.00</td>\n      <td>24.75</td>\n      <td>24.56</td>\n      <td>25.44</td>\n      <td>121</td>\n      <td>34</td>\n      <td>53</td>\n      <td>40</td>\n      <td>0.41</td>\n      <td>0.10</td>\n      <td>0.10</td>\n      <td>0.09</td>\n      <td>390</td>\n      <td>0.388462</td>\n      <td>0</td>\n      <td>0</td>\n      <td>1</td>\n    </tr>\n    <tr>\n      <th>4</th>\n      <td>25.00</td>\n      <td>24.75</td>\n      <td>24.56</td>\n      <td>25.44</td>\n      <td>121</td>\n      <td>34</td>\n      <td>54</td>\n      <td>40</td>\n      <td>0.18</td>\n      <td>0.06</td>\n      <td>0.06</td>\n      <td>0.06</td>\n      <td>390</td>\n      <td>0.253846</td>\n      <td>0</td>\n      <td>0</td>\n      <td>1</td>\n    </tr>\n  </tbody>\n</table>\n</div>"
     },
     "execution_count": 58,
     "metadata": {},
     "output_type": "execute_result"
    }
   ],
   "source": [
    "# Filter Date and Time columns\n",
    "preprocess.remove_time_columns(df)\n",
    "\n",
    "# Show the result\n",
    "df.head()"
   ],
   "metadata": {
    "collapsed": false,
    "pycharm": {
     "name": "#%%\n"
    }
   }
  },
  {
   "cell_type": "markdown",
   "source": [
    "## Paso 4: División del *dataset* en *train* y *test*"
   ],
   "metadata": {
    "collapsed": false,
    "pycharm": {
     "name": "#%% md\n"
    }
   }
  },
  {
   "cell_type": "code",
   "execution_count": 59,
   "outputs": [
    {
     "data": {
      "text/plain": "((7596, 17), (2533, 17))"
     },
     "execution_count": 59,
     "metadata": {},
     "output_type": "execute_result"
    }
   ],
   "source": [
    "# Split dataset into train and test\n",
    "train_df, test_df = preprocess.split_dataset(df)\n",
    "train_df.shape, test_df.shape"
   ],
   "metadata": {
    "collapsed": false,
    "pycharm": {
     "name": "#%%\n"
    }
   }
  },
  {
   "cell_type": "code",
   "execution_count": 60,
   "outputs": [
    {
     "data": {
      "text/plain": "      S1_Temp  S2_Temp  S3_Temp  S4_Temp  S1_Light  S2_Light  S3_Light  \\\n7326    25.31    25.31    24.88    25.75         0         0         0   \n2407    25.06    25.06    24.44    25.38         5         5        26   \n5220    25.13    25.13    24.56    25.44         6         6        32   \n4822    25.25    25.25    24.63    25.56         0         0         0   \n1121    25.75    25.81    25.38    25.94         0         0         0   \n\n      S4_Light  S1_Sound  S2_Sound  S3_Sound  S4_Sound  S5_CO2  S5_CO2_Slope  \\\n7326         0      0.07      0.05      0.06      0.09     355      0.000000   \n2407        18      0.08      0.05      0.06      0.06     360      0.111538   \n5220        21      0.07      0.05      0.06      0.06     360      0.000000   \n4822         0      0.07      0.05      0.07      0.06     360      0.000000   \n1121         0      0.07      0.05      0.06      0.06     715     -2.200000   \n\n      S6_PIR  S7_PIR  Room_Occupancy_Count  \n7326       0       0                     0  \n2407       0       0                     0  \n5220       0       0                     0  \n4822       0       0                     0  \n1121       0       0                     0  ",
      "text/html": "<div>\n<style scoped>\n    .dataframe tbody tr th:only-of-type {\n        vertical-align: middle;\n    }\n\n    .dataframe tbody tr th {\n        vertical-align: top;\n    }\n\n    .dataframe thead th {\n        text-align: right;\n    }\n</style>\n<table border=\"1\" class=\"dataframe\">\n  <thead>\n    <tr style=\"text-align: right;\">\n      <th></th>\n      <th>S1_Temp</th>\n      <th>S2_Temp</th>\n      <th>S3_Temp</th>\n      <th>S4_Temp</th>\n      <th>S1_Light</th>\n      <th>S2_Light</th>\n      <th>S3_Light</th>\n      <th>S4_Light</th>\n      <th>S1_Sound</th>\n      <th>S2_Sound</th>\n      <th>S3_Sound</th>\n      <th>S4_Sound</th>\n      <th>S5_CO2</th>\n      <th>S5_CO2_Slope</th>\n      <th>S6_PIR</th>\n      <th>S7_PIR</th>\n      <th>Room_Occupancy_Count</th>\n    </tr>\n  </thead>\n  <tbody>\n    <tr>\n      <th>7326</th>\n      <td>25.31</td>\n      <td>25.31</td>\n      <td>24.88</td>\n      <td>25.75</td>\n      <td>0</td>\n      <td>0</td>\n      <td>0</td>\n      <td>0</td>\n      <td>0.07</td>\n      <td>0.05</td>\n      <td>0.06</td>\n      <td>0.09</td>\n      <td>355</td>\n      <td>0.000000</td>\n      <td>0</td>\n      <td>0</td>\n      <td>0</td>\n    </tr>\n    <tr>\n      <th>2407</th>\n      <td>25.06</td>\n      <td>25.06</td>\n      <td>24.44</td>\n      <td>25.38</td>\n      <td>5</td>\n      <td>5</td>\n      <td>26</td>\n      <td>18</td>\n      <td>0.08</td>\n      <td>0.05</td>\n      <td>0.06</td>\n      <td>0.06</td>\n      <td>360</td>\n      <td>0.111538</td>\n      <td>0</td>\n      <td>0</td>\n      <td>0</td>\n    </tr>\n    <tr>\n      <th>5220</th>\n      <td>25.13</td>\n      <td>25.13</td>\n      <td>24.56</td>\n      <td>25.44</td>\n      <td>6</td>\n      <td>6</td>\n      <td>32</td>\n      <td>21</td>\n      <td>0.07</td>\n      <td>0.05</td>\n      <td>0.06</td>\n      <td>0.06</td>\n      <td>360</td>\n      <td>0.000000</td>\n      <td>0</td>\n      <td>0</td>\n      <td>0</td>\n    </tr>\n    <tr>\n      <th>4822</th>\n      <td>25.25</td>\n      <td>25.25</td>\n      <td>24.63</td>\n      <td>25.56</td>\n      <td>0</td>\n      <td>0</td>\n      <td>0</td>\n      <td>0</td>\n      <td>0.07</td>\n      <td>0.05</td>\n      <td>0.07</td>\n      <td>0.06</td>\n      <td>360</td>\n      <td>0.000000</td>\n      <td>0</td>\n      <td>0</td>\n      <td>0</td>\n    </tr>\n    <tr>\n      <th>1121</th>\n      <td>25.75</td>\n      <td>25.81</td>\n      <td>25.38</td>\n      <td>25.94</td>\n      <td>0</td>\n      <td>0</td>\n      <td>0</td>\n      <td>0</td>\n      <td>0.07</td>\n      <td>0.05</td>\n      <td>0.06</td>\n      <td>0.06</td>\n      <td>715</td>\n      <td>-2.200000</td>\n      <td>0</td>\n      <td>0</td>\n      <td>0</td>\n    </tr>\n  </tbody>\n</table>\n</div>"
     },
     "execution_count": 60,
     "metadata": {},
     "output_type": "execute_result"
    }
   ],
   "source": [
    "train_df.head()"
   ],
   "metadata": {
    "collapsed": false,
    "pycharm": {
     "name": "#%%\n"
    }
   }
  },
  {
   "cell_type": "code",
   "execution_count": 61,
   "outputs": [
    {
     "data": {
      "text/plain": "      S1_Temp  S2_Temp  S3_Temp  S4_Temp  S1_Light  S2_Light  S3_Light  \\\n8972    25.31    25.31    24.94    25.44         0         0         0   \n4373    25.44    25.44    24.88    25.75         0         0         0   \n2094    25.13    25.19    24.56    25.44         0         0         0   \n1478    25.38    25.44    25.00    25.75         0         0         0   \n6551    25.44    25.44    25.13    26.00         0         0         0   \n\n      S4_Light  S1_Sound  S2_Sound  S3_Sound  S4_Sound  S5_CO2  S5_CO2_Slope  \\\n8972         0      0.07      0.05      0.05      0.09     345     -0.103846   \n4373         0      0.07      0.05      0.06      0.06     365     -0.119231   \n2094         0      0.08      0.05      0.07      0.06     360      0.000000   \n1478         0      0.07      0.05      0.07      0.05     380      0.000000   \n6551         0      0.08      0.05      0.06      0.10     350     -0.038462   \n\n      S6_PIR  S7_PIR  Room_Occupancy_Count  \n8972       0       0                     0  \n4373       0       0                     0  \n2094       0       0                     0  \n1478       0       0                     0  \n6551       0       0                     0  ",
      "text/html": "<div>\n<style scoped>\n    .dataframe tbody tr th:only-of-type {\n        vertical-align: middle;\n    }\n\n    .dataframe tbody tr th {\n        vertical-align: top;\n    }\n\n    .dataframe thead th {\n        text-align: right;\n    }\n</style>\n<table border=\"1\" class=\"dataframe\">\n  <thead>\n    <tr style=\"text-align: right;\">\n      <th></th>\n      <th>S1_Temp</th>\n      <th>S2_Temp</th>\n      <th>S3_Temp</th>\n      <th>S4_Temp</th>\n      <th>S1_Light</th>\n      <th>S2_Light</th>\n      <th>S3_Light</th>\n      <th>S4_Light</th>\n      <th>S1_Sound</th>\n      <th>S2_Sound</th>\n      <th>S3_Sound</th>\n      <th>S4_Sound</th>\n      <th>S5_CO2</th>\n      <th>S5_CO2_Slope</th>\n      <th>S6_PIR</th>\n      <th>S7_PIR</th>\n      <th>Room_Occupancy_Count</th>\n    </tr>\n  </thead>\n  <tbody>\n    <tr>\n      <th>8972</th>\n      <td>25.31</td>\n      <td>25.31</td>\n      <td>24.94</td>\n      <td>25.44</td>\n      <td>0</td>\n      <td>0</td>\n      <td>0</td>\n      <td>0</td>\n      <td>0.07</td>\n      <td>0.05</td>\n      <td>0.05</td>\n      <td>0.09</td>\n      <td>345</td>\n      <td>-0.103846</td>\n      <td>0</td>\n      <td>0</td>\n      <td>0</td>\n    </tr>\n    <tr>\n      <th>4373</th>\n      <td>25.44</td>\n      <td>25.44</td>\n      <td>24.88</td>\n      <td>25.75</td>\n      <td>0</td>\n      <td>0</td>\n      <td>0</td>\n      <td>0</td>\n      <td>0.07</td>\n      <td>0.05</td>\n      <td>0.06</td>\n      <td>0.06</td>\n      <td>365</td>\n      <td>-0.119231</td>\n      <td>0</td>\n      <td>0</td>\n      <td>0</td>\n    </tr>\n    <tr>\n      <th>2094</th>\n      <td>25.13</td>\n      <td>25.19</td>\n      <td>24.56</td>\n      <td>25.44</td>\n      <td>0</td>\n      <td>0</td>\n      <td>0</td>\n      <td>0</td>\n      <td>0.08</td>\n      <td>0.05</td>\n      <td>0.07</td>\n      <td>0.06</td>\n      <td>360</td>\n      <td>0.000000</td>\n      <td>0</td>\n      <td>0</td>\n      <td>0</td>\n    </tr>\n    <tr>\n      <th>1478</th>\n      <td>25.38</td>\n      <td>25.44</td>\n      <td>25.00</td>\n      <td>25.75</td>\n      <td>0</td>\n      <td>0</td>\n      <td>0</td>\n      <td>0</td>\n      <td>0.07</td>\n      <td>0.05</td>\n      <td>0.07</td>\n      <td>0.05</td>\n      <td>380</td>\n      <td>0.000000</td>\n      <td>0</td>\n      <td>0</td>\n      <td>0</td>\n    </tr>\n    <tr>\n      <th>6551</th>\n      <td>25.44</td>\n      <td>25.44</td>\n      <td>25.13</td>\n      <td>26.00</td>\n      <td>0</td>\n      <td>0</td>\n      <td>0</td>\n      <td>0</td>\n      <td>0.08</td>\n      <td>0.05</td>\n      <td>0.06</td>\n      <td>0.10</td>\n      <td>350</td>\n      <td>-0.038462</td>\n      <td>0</td>\n      <td>0</td>\n      <td>0</td>\n    </tr>\n  </tbody>\n</table>\n</div>"
     },
     "execution_count": 61,
     "metadata": {},
     "output_type": "execute_result"
    }
   ],
   "source": [
    "test_df.head()"
   ],
   "metadata": {
    "collapsed": false,
    "pycharm": {
     "name": "#%%\n"
    }
   }
  },
  {
   "cell_type": "markdown",
   "source": [
    "## Paso 5: División del *dataset* de entrenamiento en *features* y *output*"
   ],
   "metadata": {
    "collapsed": false,
    "pycharm": {
     "name": "#%% md\n"
    }
   }
  },
  {
   "cell_type": "code",
   "execution_count": 62,
   "outputs": [],
   "source": [
    "# Get features columns\n",
    "X = preprocess.get_features(train_df)\n",
    "\n",
    "# Get output column\n",
    "y = preprocess.get_output(train_df)"
   ],
   "metadata": {
    "collapsed": false,
    "pycharm": {
     "name": "#%%\n"
    }
   }
  },
  {
   "cell_type": "code",
   "execution_count": 63,
   "outputs": [
    {
     "data": {
      "text/plain": "      S1_Temp  S2_Temp  S3_Temp  S4_Temp  S1_Light  S2_Light  S3_Light  \\\n7326    25.31    25.31    24.88    25.75         0         0         0   \n2407    25.06    25.06    24.44    25.38         5         5        26   \n5220    25.13    25.13    24.56    25.44         6         6        32   \n4822    25.25    25.25    24.63    25.56         0         0         0   \n1121    25.75    25.81    25.38    25.94         0         0         0   \n\n      S4_Light  S1_Sound  S2_Sound  S3_Sound  S4_Sound  S5_CO2  S5_CO2_Slope  \\\n7326         0      0.07      0.05      0.06      0.09     355      0.000000   \n2407        18      0.08      0.05      0.06      0.06     360      0.111538   \n5220        21      0.07      0.05      0.06      0.06     360      0.000000   \n4822         0      0.07      0.05      0.07      0.06     360      0.000000   \n1121         0      0.07      0.05      0.06      0.06     715     -2.200000   \n\n      S6_PIR  S7_PIR  \n7326       0       0  \n2407       0       0  \n5220       0       0  \n4822       0       0  \n1121       0       0  ",
      "text/html": "<div>\n<style scoped>\n    .dataframe tbody tr th:only-of-type {\n        vertical-align: middle;\n    }\n\n    .dataframe tbody tr th {\n        vertical-align: top;\n    }\n\n    .dataframe thead th {\n        text-align: right;\n    }\n</style>\n<table border=\"1\" class=\"dataframe\">\n  <thead>\n    <tr style=\"text-align: right;\">\n      <th></th>\n      <th>S1_Temp</th>\n      <th>S2_Temp</th>\n      <th>S3_Temp</th>\n      <th>S4_Temp</th>\n      <th>S1_Light</th>\n      <th>S2_Light</th>\n      <th>S3_Light</th>\n      <th>S4_Light</th>\n      <th>S1_Sound</th>\n      <th>S2_Sound</th>\n      <th>S3_Sound</th>\n      <th>S4_Sound</th>\n      <th>S5_CO2</th>\n      <th>S5_CO2_Slope</th>\n      <th>S6_PIR</th>\n      <th>S7_PIR</th>\n    </tr>\n  </thead>\n  <tbody>\n    <tr>\n      <th>7326</th>\n      <td>25.31</td>\n      <td>25.31</td>\n      <td>24.88</td>\n      <td>25.75</td>\n      <td>0</td>\n      <td>0</td>\n      <td>0</td>\n      <td>0</td>\n      <td>0.07</td>\n      <td>0.05</td>\n      <td>0.06</td>\n      <td>0.09</td>\n      <td>355</td>\n      <td>0.000000</td>\n      <td>0</td>\n      <td>0</td>\n    </tr>\n    <tr>\n      <th>2407</th>\n      <td>25.06</td>\n      <td>25.06</td>\n      <td>24.44</td>\n      <td>25.38</td>\n      <td>5</td>\n      <td>5</td>\n      <td>26</td>\n      <td>18</td>\n      <td>0.08</td>\n      <td>0.05</td>\n      <td>0.06</td>\n      <td>0.06</td>\n      <td>360</td>\n      <td>0.111538</td>\n      <td>0</td>\n      <td>0</td>\n    </tr>\n    <tr>\n      <th>5220</th>\n      <td>25.13</td>\n      <td>25.13</td>\n      <td>24.56</td>\n      <td>25.44</td>\n      <td>6</td>\n      <td>6</td>\n      <td>32</td>\n      <td>21</td>\n      <td>0.07</td>\n      <td>0.05</td>\n      <td>0.06</td>\n      <td>0.06</td>\n      <td>360</td>\n      <td>0.000000</td>\n      <td>0</td>\n      <td>0</td>\n    </tr>\n    <tr>\n      <th>4822</th>\n      <td>25.25</td>\n      <td>25.25</td>\n      <td>24.63</td>\n      <td>25.56</td>\n      <td>0</td>\n      <td>0</td>\n      <td>0</td>\n      <td>0</td>\n      <td>0.07</td>\n      <td>0.05</td>\n      <td>0.07</td>\n      <td>0.06</td>\n      <td>360</td>\n      <td>0.000000</td>\n      <td>0</td>\n      <td>0</td>\n    </tr>\n    <tr>\n      <th>1121</th>\n      <td>25.75</td>\n      <td>25.81</td>\n      <td>25.38</td>\n      <td>25.94</td>\n      <td>0</td>\n      <td>0</td>\n      <td>0</td>\n      <td>0</td>\n      <td>0.07</td>\n      <td>0.05</td>\n      <td>0.06</td>\n      <td>0.06</td>\n      <td>715</td>\n      <td>-2.200000</td>\n      <td>0</td>\n      <td>0</td>\n    </tr>\n  </tbody>\n</table>\n</div>"
     },
     "execution_count": 63,
     "metadata": {},
     "output_type": "execute_result"
    }
   ],
   "source": [
    "X.head()"
   ],
   "metadata": {
    "collapsed": false,
    "pycharm": {
     "name": "#%%\n"
    }
   }
  },
  {
   "cell_type": "code",
   "execution_count": 64,
   "outputs": [
    {
     "data": {
      "text/plain": "7326    0\n2407    0\n5220    0\n4822    0\n1121    0\nName: Room_Occupancy_Count, dtype: int32"
     },
     "execution_count": 64,
     "metadata": {},
     "output_type": "execute_result"
    }
   ],
   "source": [
    "y.head()"
   ],
   "metadata": {
    "collapsed": false,
    "pycharm": {
     "name": "#%%\n"
    }
   }
  },
  {
   "cell_type": "markdown",
   "source": [
    "# 2. Entrenamiento y seguimiento de la huella de carbono con **CodeCarbon**"
   ],
   "metadata": {
    "collapsed": false,
    "pycharm": {
     "name": "#%% md\n"
    }
   }
  },
  {
   "cell_type": "code",
   "execution_count": 65,
   "outputs": [
    {
     "name": "stderr",
     "output_type": "stream",
     "text": [
      "[codecarbon INFO @ 10:51:59] [setup] RAM Tracking...\n",
      "[codecarbon INFO @ 10:51:59] [setup] GPU Tracking...\n",
      "[codecarbon INFO @ 10:51:59] Tracking Nvidia GPU via pynvml\n",
      "[codecarbon INFO @ 10:51:59] [setup] CPU Tracking...\n",
      "[codecarbon WARNING @ 10:51:59] No CPU tracking mode found. Falling back on CPU constant mode.\n",
      "[codecarbon INFO @ 10:52:01] CPU Model on constant consumption mode: Intel(R) Core(TM) i5-9400F CPU @ 2.90GHz\n",
      "[codecarbon INFO @ 10:52:01] >>> Tracker's metadata:\n",
      "[codecarbon INFO @ 10:52:01]   Platform system: Windows-10-10.0.19044-SP0\n",
      "[codecarbon INFO @ 10:52:01]   Python version: 3.10.4\n",
      "[codecarbon INFO @ 10:52:01]   Available RAM : 7.935 GB\n",
      "[codecarbon INFO @ 10:52:01]   CPU count: 6\n",
      "[codecarbon INFO @ 10:52:01]   CPU model: Intel(R) Core(TM) i5-9400F CPU @ 2.90GHz\n",
      "[codecarbon INFO @ 10:52:01]   GPU count: 1\n",
      "[codecarbon INFO @ 10:52:01]   GPU model: 1 x NVIDIA GeForce GT 710\n",
      "[codecarbon INFO @ 10:52:01] Energy consumed for RAM : 0.000000 kWh. RAM Power : 2.97562837600708 W\n",
      "[codecarbon INFO @ 10:52:01] Energy consumed for all GPUs : 0.000000 kWh. All GPUs Power : 0.0 W\n",
      "[codecarbon INFO @ 10:52:01] Energy consumed for all CPUs : 0.000001 kWh. All CPUs Power : 32.5 W\n",
      "[codecarbon INFO @ 10:52:01] 0.000001 kWh of electricity used since the begining.\n",
      "[codecarbon INFO @ 10:52:01] [setup] RAM Tracking...\n",
      "[codecarbon INFO @ 10:52:01] [setup] GPU Tracking...\n",
      "[codecarbon INFO @ 10:52:01] Tracking Nvidia GPU via pynvml\n",
      "[codecarbon INFO @ 10:52:01] [setup] CPU Tracking...\n",
      "[codecarbon WARNING @ 10:52:01] No CPU tracking mode found. Falling back on CPU constant mode.\n"
     ]
    },
    {
     "name": "stdout",
     "output_type": "stream",
     "text": [
      "Emissions: 1.3262018201937075e-07 kg\n"
     ]
    },
    {
     "name": "stderr",
     "output_type": "stream",
     "text": [
      "[codecarbon INFO @ 10:52:03] CPU Model on constant consumption mode: Intel(R) Core(TM) i5-9400F CPU @ 2.90GHz\n",
      "[codecarbon INFO @ 10:52:03] >>> Tracker's metadata:\n",
      "[codecarbon INFO @ 10:52:03]   Platform system: Windows-10-10.0.19044-SP0\n",
      "[codecarbon INFO @ 10:52:03]   Python version: 3.10.4\n",
      "[codecarbon INFO @ 10:52:03]   Available RAM : 7.935 GB\n",
      "[codecarbon INFO @ 10:52:03]   CPU count: 6\n",
      "[codecarbon INFO @ 10:52:03]   CPU model: Intel(R) Core(TM) i5-9400F CPU @ 2.90GHz\n",
      "[codecarbon INFO @ 10:52:03]   GPU count: 1\n",
      "[codecarbon INFO @ 10:52:03]   GPU model: 1 x NVIDIA GeForce GT 710\n",
      "[codecarbon INFO @ 10:52:03] Energy consumed for RAM : 0.000000 kWh. RAM Power : 2.97562837600708 W\n",
      "[codecarbon INFO @ 10:52:03] Energy consumed for all GPUs : 0.000000 kWh. All GPUs Power : 0.0 W\n",
      "[codecarbon INFO @ 10:52:03] Energy consumed for all CPUs : 0.000002 kWh. All CPUs Power : 32.5 W\n",
      "[codecarbon INFO @ 10:52:03] 0.000002 kWh of electricity used since the begining.\n",
      "[codecarbon INFO @ 10:52:03] [setup] RAM Tracking...\n",
      "[codecarbon INFO @ 10:52:03] [setup] GPU Tracking...\n",
      "[codecarbon INFO @ 10:52:03] Tracking Nvidia GPU via pynvml\n",
      "[codecarbon INFO @ 10:52:03] [setup] CPU Tracking...\n",
      "[codecarbon WARNING @ 10:52:03] No CPU tracking mode found. Falling back on CPU constant mode.\n"
     ]
    },
    {
     "name": "stdout",
     "output_type": "stream",
     "text": [
      "Emissions: 3.860406235818125e-07 kg\n"
     ]
    },
    {
     "name": "stderr",
     "output_type": "stream",
     "text": [
      "[codecarbon INFO @ 10:52:05] CPU Model on constant consumption mode: Intel(R) Core(TM) i5-9400F CPU @ 2.90GHz\n",
      "[codecarbon INFO @ 10:52:05] >>> Tracker's metadata:\n",
      "[codecarbon INFO @ 10:52:05]   Platform system: Windows-10-10.0.19044-SP0\n",
      "[codecarbon INFO @ 10:52:05]   Python version: 3.10.4\n",
      "[codecarbon INFO @ 10:52:05]   Available RAM : 7.935 GB\n",
      "[codecarbon INFO @ 10:52:05]   CPU count: 6\n",
      "[codecarbon INFO @ 10:52:05]   CPU model: Intel(R) Core(TM) i5-9400F CPU @ 2.90GHz\n",
      "[codecarbon INFO @ 10:52:05]   GPU count: 1\n",
      "[codecarbon INFO @ 10:52:05]   GPU model: 1 x NVIDIA GeForce GT 710\n",
      "C:\\Users\\INTEL I5\\miniconda3\\envs\\TFG_Project\\lib\\site-packages\\sklearn\\svm\\_base.py:1225: ConvergenceWarning: Liblinear failed to converge, increase the number of iterations.\n",
      "  warnings.warn(\n",
      "[codecarbon INFO @ 10:52:06] Energy consumed for RAM : 0.000000 kWh. RAM Power : 2.97562837600708 W\n",
      "[codecarbon INFO @ 10:52:06] Energy consumed for all GPUs : 0.000000 kWh. All GPUs Power : 0.0 W\n",
      "[codecarbon INFO @ 10:52:06] Energy consumed for all CPUs : 0.000000 kWh. All CPUs Power : 32.5 W\n",
      "[codecarbon INFO @ 10:52:06] 0.000000 kWh of electricity used since the begining.\n"
     ]
    },
    {
     "name": "stdout",
     "output_type": "stream",
     "text": [
      "Emissions: 7.298640391748753e-08 kg\n"
     ]
    }
   ],
   "source": [
    "training.train_LR_codecarbon(X,y)\n",
    "training.train_RF_codecarbon(X,y)\n",
    "training.train_SVC_codecarbon(X,y)"
   ],
   "metadata": {
    "collapsed": false,
    "pycharm": {
     "name": "#%%\n"
    }
   }
  }
 ],
 "metadata": {
  "kernelspec": {
   "display_name": "Python 3",
   "language": "python",
   "name": "python3"
  },
  "language_info": {
   "codemirror_mode": {
    "name": "ipython",
    "version": 2
   },
   "file_extension": ".py",
   "mimetype": "text/x-python",
   "name": "python",
   "nbconvert_exporter": "python",
   "pygments_lexer": "ipython2",
   "version": "2.7.6"
  }
 },
 "nbformat": 4,
 "nbformat_minor": 0
}