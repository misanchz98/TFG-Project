{
 "cells": [
  {
   "cell_type": "markdown",
   "source": [
    "# 1. Importación de paquetes"
   ],
   "metadata": {
    "collapsed": false,
    "pycharm": {
     "name": "#%% md\n"
    }
   }
  },
  {
   "cell_type": "code",
   "execution_count": 1,
   "outputs": [],
   "source": [
    "#Import packages\n",
    "from modules import preprocess\n",
    "from modules import training\n",
    "import pandas as pd"
   ],
   "metadata": {
    "collapsed": false,
    "pycharm": {
     "name": "#%%\n"
    }
   }
  },
  {
   "cell_type": "markdown",
   "source": [
    "# 2. Preprocesamiento del *dataset*: [Room Occupancy Estimation Data Set](https://www.kaggle.com/ananthr1/room-occupancy-estimation-data-set)"
   ],
   "metadata": {
    "collapsed": false,
    "pycharm": {
     "name": "#%% md\n"
    }
   }
  },
  {
   "cell_type": "markdown",
   "source": [
    "## Paso 1: Lectura del *dataset* y obtención de datos"
   ],
   "metadata": {
    "collapsed": false,
    "pycharm": {
     "name": "#%% md\n"
    }
   }
  },
  {
   "cell_type": "code",
   "execution_count": 2,
   "outputs": [
    {
     "data": {
      "text/plain": "(10129, 19)"
     },
     "execution_count": 2,
     "metadata": {},
     "output_type": "execute_result"
    }
   ],
   "source": [
    "df = preprocess.load_csv_data('Occupancy_Estimation.csv')\n",
    "df.shape"
   ],
   "metadata": {
    "collapsed": false,
    "pycharm": {
     "name": "#%%\n"
    }
   }
  },
  {
   "cell_type": "code",
   "execution_count": 3,
   "outputs": [
    {
     "data": {
      "text/plain": "         Date      Time  S1_Temp  S2_Temp  S3_Temp  S4_Temp  S1_Light  \\\n0  2017/12/22  10:49:41    24.94    24.75    24.56    25.38       121   \n1  2017/12/22  10:50:12    24.94    24.75    24.56    25.44       121   \n2  2017/12/22  10:50:42    25.00    24.75    24.50    25.44       121   \n3  2017/12/22  10:51:13    25.00    24.75    24.56    25.44       121   \n4  2017/12/22  10:51:44    25.00    24.75    24.56    25.44       121   \n\n   S2_Light  S3_Light  S4_Light  S1_Sound  S2_Sound  S3_Sound  S4_Sound  \\\n0        34        53        40      0.08      0.19      0.06      0.06   \n1        33        53        40      0.93      0.05      0.06      0.06   \n2        34        53        40      0.43      0.11      0.08      0.06   \n3        34        53        40      0.41      0.10      0.10      0.09   \n4        34        54        40      0.18      0.06      0.06      0.06   \n\n   S5_CO2  S5_CO2_Slope  S6_PIR  S7_PIR  Room_Occupancy_Count  \n0     390      0.769231       0       0                     1  \n1     390      0.646154       0       0                     1  \n2     390      0.519231       0       0                     1  \n3     390      0.388462       0       0                     1  \n4     390      0.253846       0       0                     1  ",
      "text/html": "<div>\n<style scoped>\n    .dataframe tbody tr th:only-of-type {\n        vertical-align: middle;\n    }\n\n    .dataframe tbody tr th {\n        vertical-align: top;\n    }\n\n    .dataframe thead th {\n        text-align: right;\n    }\n</style>\n<table border=\"1\" class=\"dataframe\">\n  <thead>\n    <tr style=\"text-align: right;\">\n      <th></th>\n      <th>Date</th>\n      <th>Time</th>\n      <th>S1_Temp</th>\n      <th>S2_Temp</th>\n      <th>S3_Temp</th>\n      <th>S4_Temp</th>\n      <th>S1_Light</th>\n      <th>S2_Light</th>\n      <th>S3_Light</th>\n      <th>S4_Light</th>\n      <th>S1_Sound</th>\n      <th>S2_Sound</th>\n      <th>S3_Sound</th>\n      <th>S4_Sound</th>\n      <th>S5_CO2</th>\n      <th>S5_CO2_Slope</th>\n      <th>S6_PIR</th>\n      <th>S7_PIR</th>\n      <th>Room_Occupancy_Count</th>\n    </tr>\n  </thead>\n  <tbody>\n    <tr>\n      <th>0</th>\n      <td>2017/12/22</td>\n      <td>10:49:41</td>\n      <td>24.94</td>\n      <td>24.75</td>\n      <td>24.56</td>\n      <td>25.38</td>\n      <td>121</td>\n      <td>34</td>\n      <td>53</td>\n      <td>40</td>\n      <td>0.08</td>\n      <td>0.19</td>\n      <td>0.06</td>\n      <td>0.06</td>\n      <td>390</td>\n      <td>0.769231</td>\n      <td>0</td>\n      <td>0</td>\n      <td>1</td>\n    </tr>\n    <tr>\n      <th>1</th>\n      <td>2017/12/22</td>\n      <td>10:50:12</td>\n      <td>24.94</td>\n      <td>24.75</td>\n      <td>24.56</td>\n      <td>25.44</td>\n      <td>121</td>\n      <td>33</td>\n      <td>53</td>\n      <td>40</td>\n      <td>0.93</td>\n      <td>0.05</td>\n      <td>0.06</td>\n      <td>0.06</td>\n      <td>390</td>\n      <td>0.646154</td>\n      <td>0</td>\n      <td>0</td>\n      <td>1</td>\n    </tr>\n    <tr>\n      <th>2</th>\n      <td>2017/12/22</td>\n      <td>10:50:42</td>\n      <td>25.00</td>\n      <td>24.75</td>\n      <td>24.50</td>\n      <td>25.44</td>\n      <td>121</td>\n      <td>34</td>\n      <td>53</td>\n      <td>40</td>\n      <td>0.43</td>\n      <td>0.11</td>\n      <td>0.08</td>\n      <td>0.06</td>\n      <td>390</td>\n      <td>0.519231</td>\n      <td>0</td>\n      <td>0</td>\n      <td>1</td>\n    </tr>\n    <tr>\n      <th>3</th>\n      <td>2017/12/22</td>\n      <td>10:51:13</td>\n      <td>25.00</td>\n      <td>24.75</td>\n      <td>24.56</td>\n      <td>25.44</td>\n      <td>121</td>\n      <td>34</td>\n      <td>53</td>\n      <td>40</td>\n      <td>0.41</td>\n      <td>0.10</td>\n      <td>0.10</td>\n      <td>0.09</td>\n      <td>390</td>\n      <td>0.388462</td>\n      <td>0</td>\n      <td>0</td>\n      <td>1</td>\n    </tr>\n    <tr>\n      <th>4</th>\n      <td>2017/12/22</td>\n      <td>10:51:44</td>\n      <td>25.00</td>\n      <td>24.75</td>\n      <td>24.56</td>\n      <td>25.44</td>\n      <td>121</td>\n      <td>34</td>\n      <td>54</td>\n      <td>40</td>\n      <td>0.18</td>\n      <td>0.06</td>\n      <td>0.06</td>\n      <td>0.06</td>\n      <td>390</td>\n      <td>0.253846</td>\n      <td>0</td>\n      <td>0</td>\n      <td>1</td>\n    </tr>\n  </tbody>\n</table>\n</div>"
     },
     "execution_count": 3,
     "metadata": {},
     "output_type": "execute_result"
    }
   ],
   "source": [
    "df.head()"
   ],
   "metadata": {
    "collapsed": false,
    "pycharm": {
     "name": "#%%\n"
    }
   }
  },
  {
   "cell_type": "markdown",
   "source": [
    "## Paso 2: Recodificación de la columna *RoomOccupancyCount*\n",
    "\n",
    "En este caso, la columna que contiene la variable de salida (*RoomOccupancyCount*) cuenta el número de personas en la sala. Para simplificar, nuestro objetivo va a ser detectar si la sala está vacía o, en cambio, hay alguien (no el número exacto de personas).\n",
    "\n",
    "Por lo tanto, se **recodificará cualquier valor mayor que 0 en esa columna como 1**, de tal forma que la variable de salida sea binaria:\n",
    "- 0 -> ausencia.\n",
    "- 1 -> presencia."
   ],
   "metadata": {
    "collapsed": false,
    "pycharm": {
     "name": "#%% md\n"
    }
   }
  },
  {
   "cell_type": "code",
   "execution_count": 4,
   "outputs": [
    {
     "data": {
      "text/plain": "0        1\n1        1\n2        1\n3        1\n4        1\n        ..\n10124    0\n10125    0\n10126    0\n10127    0\n10128    0\nName: Room_Occupancy_Count, Length: 10129, dtype: int64"
     },
     "execution_count": 4,
     "metadata": {},
     "output_type": "execute_result"
    }
   ],
   "source": [
    "# Show \"Room_Occupancy_Count\" before processing\n",
    "df[\"Room_Occupancy_Count\"]"
   ],
   "metadata": {
    "collapsed": false,
    "pycharm": {
     "name": "#%%\n"
    }
   }
  },
  {
   "cell_type": "code",
   "execution_count": 5,
   "outputs": [
    {
     "data": {
      "text/plain": "0        1\n1        1\n2        1\n3        1\n4        1\n        ..\n10124    0\n10125    0\n10126    0\n10127    0\n10128    0\nName: Room_Occupancy_Count, Length: 10129, dtype: int64"
     },
     "execution_count": 5,
     "metadata": {},
     "output_type": "execute_result"
    }
   ],
   "source": [
    "#Process \"Room_Occupancy_Count\"\n",
    "preprocess.recode_dataset_output(df)\n",
    "\n",
    "# Show \"Room_Occupancy_Count\" after processing\n",
    "df[\"Room_Occupancy_Count\"]"
   ],
   "metadata": {
    "collapsed": false,
    "pycharm": {
     "name": "#%%\n"
    }
   }
  },
  {
   "cell_type": "markdown",
   "source": [
    "## Paso 3: Eliminación de las columnas temporales *Date* y *Time*\n",
    "\n",
    "Respecto a los datos ofrecidos por las columas *Date* y *Time*, vamos a filtrarlos y dejarlos fuera del proceso. Ya que, aunque los incluyeramos (por ejemplo, juntando ambas partes en una sola columna y convirtiéndolo a formato 'epoch', como long int), los valores de muestras sucesivas de esa columna estarían totalmente correlados entre sí y, como consecuencia, fastidiaríamos a la mayoría de algoritmos que vamos a emplear posteriormente.\n",
    "\n",
    "Se debe tener en cuenta que no nos estamos olvidando de la información temporal para considerar como si cada valor muestreado (fila de la tabla) fuese independiente de las demás filas. Sabemos que eso no es así, pero estamos considerando que esa información temporal no nos ofrece valor añadido para predecir si la habitación está ocupada o vacía. En caso contrario, se tendrían que usar modelos bastante más complicados para considerar esa relación temporal que indica que, en realidad, las muestras de dos filas adyacentes son consecutivas en el tiempo."
   ],
   "metadata": {
    "collapsed": false,
    "pycharm": {
     "name": "#%% md\n"
    }
   }
  },
  {
   "cell_type": "code",
   "execution_count": 6,
   "outputs": [
    {
     "data": {
      "text/plain": "   S1_Temp  S2_Temp  S3_Temp  S4_Temp  S1_Light  S2_Light  S3_Light  S4_Light  \\\n0    24.94    24.75    24.56    25.38       121        34        53        40   \n1    24.94    24.75    24.56    25.44       121        33        53        40   \n2    25.00    24.75    24.50    25.44       121        34        53        40   \n3    25.00    24.75    24.56    25.44       121        34        53        40   \n4    25.00    24.75    24.56    25.44       121        34        54        40   \n\n   S1_Sound  S2_Sound  S3_Sound  S4_Sound  S5_CO2  S5_CO2_Slope  S6_PIR  \\\n0      0.08      0.19      0.06      0.06     390      0.769231       0   \n1      0.93      0.05      0.06      0.06     390      0.646154       0   \n2      0.43      0.11      0.08      0.06     390      0.519231       0   \n3      0.41      0.10      0.10      0.09     390      0.388462       0   \n4      0.18      0.06      0.06      0.06     390      0.253846       0   \n\n   S7_PIR  Room_Occupancy_Count  \n0       0                     1  \n1       0                     1  \n2       0                     1  \n3       0                     1  \n4       0                     1  ",
      "text/html": "<div>\n<style scoped>\n    .dataframe tbody tr th:only-of-type {\n        vertical-align: middle;\n    }\n\n    .dataframe tbody tr th {\n        vertical-align: top;\n    }\n\n    .dataframe thead th {\n        text-align: right;\n    }\n</style>\n<table border=\"1\" class=\"dataframe\">\n  <thead>\n    <tr style=\"text-align: right;\">\n      <th></th>\n      <th>S1_Temp</th>\n      <th>S2_Temp</th>\n      <th>S3_Temp</th>\n      <th>S4_Temp</th>\n      <th>S1_Light</th>\n      <th>S2_Light</th>\n      <th>S3_Light</th>\n      <th>S4_Light</th>\n      <th>S1_Sound</th>\n      <th>S2_Sound</th>\n      <th>S3_Sound</th>\n      <th>S4_Sound</th>\n      <th>S5_CO2</th>\n      <th>S5_CO2_Slope</th>\n      <th>S6_PIR</th>\n      <th>S7_PIR</th>\n      <th>Room_Occupancy_Count</th>\n    </tr>\n  </thead>\n  <tbody>\n    <tr>\n      <th>0</th>\n      <td>24.94</td>\n      <td>24.75</td>\n      <td>24.56</td>\n      <td>25.38</td>\n      <td>121</td>\n      <td>34</td>\n      <td>53</td>\n      <td>40</td>\n      <td>0.08</td>\n      <td>0.19</td>\n      <td>0.06</td>\n      <td>0.06</td>\n      <td>390</td>\n      <td>0.769231</td>\n      <td>0</td>\n      <td>0</td>\n      <td>1</td>\n    </tr>\n    <tr>\n      <th>1</th>\n      <td>24.94</td>\n      <td>24.75</td>\n      <td>24.56</td>\n      <td>25.44</td>\n      <td>121</td>\n      <td>33</td>\n      <td>53</td>\n      <td>40</td>\n      <td>0.93</td>\n      <td>0.05</td>\n      <td>0.06</td>\n      <td>0.06</td>\n      <td>390</td>\n      <td>0.646154</td>\n      <td>0</td>\n      <td>0</td>\n      <td>1</td>\n    </tr>\n    <tr>\n      <th>2</th>\n      <td>25.00</td>\n      <td>24.75</td>\n      <td>24.50</td>\n      <td>25.44</td>\n      <td>121</td>\n      <td>34</td>\n      <td>53</td>\n      <td>40</td>\n      <td>0.43</td>\n      <td>0.11</td>\n      <td>0.08</td>\n      <td>0.06</td>\n      <td>390</td>\n      <td>0.519231</td>\n      <td>0</td>\n      <td>0</td>\n      <td>1</td>\n    </tr>\n    <tr>\n      <th>3</th>\n      <td>25.00</td>\n      <td>24.75</td>\n      <td>24.56</td>\n      <td>25.44</td>\n      <td>121</td>\n      <td>34</td>\n      <td>53</td>\n      <td>40</td>\n      <td>0.41</td>\n      <td>0.10</td>\n      <td>0.10</td>\n      <td>0.09</td>\n      <td>390</td>\n      <td>0.388462</td>\n      <td>0</td>\n      <td>0</td>\n      <td>1</td>\n    </tr>\n    <tr>\n      <th>4</th>\n      <td>25.00</td>\n      <td>24.75</td>\n      <td>24.56</td>\n      <td>25.44</td>\n      <td>121</td>\n      <td>34</td>\n      <td>54</td>\n      <td>40</td>\n      <td>0.18</td>\n      <td>0.06</td>\n      <td>0.06</td>\n      <td>0.06</td>\n      <td>390</td>\n      <td>0.253846</td>\n      <td>0</td>\n      <td>0</td>\n      <td>1</td>\n    </tr>\n  </tbody>\n</table>\n</div>"
     },
     "execution_count": 6,
     "metadata": {},
     "output_type": "execute_result"
    }
   ],
   "source": [
    "# Filter Date and Time columns\n",
    "preprocess.remove_time_columns(df)\n",
    "\n",
    "# Show the result\n",
    "df.head()"
   ],
   "metadata": {
    "collapsed": false,
    "pycharm": {
     "name": "#%%\n"
    }
   }
  },
  {
   "cell_type": "markdown",
   "source": [
    "# 2. Entrenamiento y seguimiento de la huella de carbono"
   ],
   "metadata": {
    "collapsed": false,
    "pycharm": {
     "name": "#%% md\n"
    }
   }
  },
  {
   "cell_type": "markdown",
   "source": [
    "### Codecarbon:"
   ],
   "metadata": {
    "collapsed": false,
    "pycharm": {
     "name": "#%% md\n"
    }
   }
  },
  {
   "cell_type": "code",
   "execution_count": 7,
   "outputs": [
    {
     "name": "stderr",
     "output_type": "stream",
     "text": [
      "[codecarbon INFO @ 12:52:35] [setup] RAM Tracking...\n",
      "[codecarbon INFO @ 12:52:35] [setup] GPU Tracking...\n",
      "[codecarbon INFO @ 12:52:35] No GPU found.\n",
      "[codecarbon INFO @ 12:52:35] [setup] CPU Tracking...\n",
      "[codecarbon WARNING @ 12:52:35] No CPU tracking mode found. Falling back on CPU constant mode.\n",
      "[codecarbon INFO @ 12:52:37] CPU Model on constant consumption mode: Intel(R) Core(TM) i5-9400F CPU @ 2.90GHz\n",
      "[codecarbon INFO @ 12:52:37] >>> Tracker's metadata:\n",
      "[codecarbon INFO @ 12:52:37]   Platform system: Linux-5.15.0-46-generic-x86_64-with-glibc2.35\n",
      "[codecarbon INFO @ 12:52:37]   Python version: 3.10.4\n",
      "[codecarbon INFO @ 12:52:37]   Available RAM : 1.930 GB\n",
      "[codecarbon INFO @ 12:52:37]   CPU count: 1\n",
      "[codecarbon INFO @ 12:52:37]   CPU model: Intel(R) Core(TM) i5-9400F CPU @ 2.90GHz\n",
      "[codecarbon INFO @ 12:52:37]   GPU count: None\n",
      "[codecarbon INFO @ 12:52:37]   GPU model: None\n",
      "[codecarbon INFO @ 12:52:40] Energy consumed for RAM : 0.000000 kWh. RAM Power : 0.7236471176147461 W\n",
      "[codecarbon INFO @ 12:52:40] Energy consumed for all CPUs : 0.000001 kWh. All CPUs Power : 32.5 W\n",
      "[codecarbon INFO @ 12:52:40] 0.000001 kWh of electricity used since the begining.\n"
     ]
    },
    {
     "name": "stdout",
     "output_type": "stream",
     "text": [
      "Emissions: 9.873122329590716e-08 kg\n"
     ]
    }
   ],
   "source": [
    "# Logistic Regression\n",
    "training.train_LR_codecarbon(df,0.25)"
   ],
   "metadata": {
    "collapsed": false,
    "pycharm": {
     "name": "#%%\n"
    }
   }
  },
  {
   "cell_type": "code",
   "execution_count": 8,
   "outputs": [
    {
     "name": "stderr",
     "output_type": "stream",
     "text": [
      "[codecarbon INFO @ 12:52:40] [setup] RAM Tracking...\n",
      "[codecarbon INFO @ 12:52:40] [setup] GPU Tracking...\n",
      "[codecarbon INFO @ 12:52:40] No GPU found.\n",
      "[codecarbon INFO @ 12:52:40] [setup] CPU Tracking...\n",
      "[codecarbon WARNING @ 12:52:40] No CPU tracking mode found. Falling back on CPU constant mode.\n",
      "[codecarbon INFO @ 12:52:42] CPU Model on constant consumption mode: Intel(R) Core(TM) i5-9400F CPU @ 2.90GHz\n",
      "[codecarbon INFO @ 12:52:42] >>> Tracker's metadata:\n",
      "[codecarbon INFO @ 12:52:42]   Platform system: Linux-5.15.0-46-generic-x86_64-with-glibc2.35\n",
      "[codecarbon INFO @ 12:52:42]   Python version: 3.10.4\n",
      "[codecarbon INFO @ 12:52:42]   Available RAM : 1.930 GB\n",
      "[codecarbon INFO @ 12:52:42]   CPU count: 1\n",
      "[codecarbon INFO @ 12:52:42]   CPU model: Intel(R) Core(TM) i5-9400F CPU @ 2.90GHz\n",
      "[codecarbon INFO @ 12:52:42]   GPU count: None\n",
      "[codecarbon INFO @ 12:52:42]   GPU model: None\n",
      "[codecarbon INFO @ 12:52:46] Energy consumed for RAM : 0.000000 kWh. RAM Power : 0.7236471176147461 W\n",
      "[codecarbon INFO @ 12:52:46] Energy consumed for all CPUs : 0.000002 kWh. All CPUs Power : 32.5 W\n",
      "[codecarbon INFO @ 12:52:46] 0.000002 kWh of electricity used since the begining.\n"
     ]
    },
    {
     "name": "stdout",
     "output_type": "stream",
     "text": [
      "Emissions: 3.8584215653195057e-07 kg\n"
     ]
    }
   ],
   "source": [
    "# Random Forest\n",
    "training.train_RF_codecarbon(df,0.25)"
   ],
   "metadata": {
    "collapsed": false,
    "pycharm": {
     "name": "#%%\n"
    }
   }
  },
  {
   "cell_type": "code",
   "execution_count": 9,
   "outputs": [
    {
     "name": "stderr",
     "output_type": "stream",
     "text": [
      "[codecarbon INFO @ 12:52:46] [setup] RAM Tracking...\n",
      "[codecarbon INFO @ 12:52:46] [setup] GPU Tracking...\n",
      "[codecarbon INFO @ 12:52:46] No GPU found.\n",
      "[codecarbon INFO @ 12:52:46] [setup] CPU Tracking...\n",
      "[codecarbon WARNING @ 12:52:46] No CPU tracking mode found. Falling back on CPU constant mode.\n",
      "[codecarbon INFO @ 12:52:48] CPU Model on constant consumption mode: Intel(R) Core(TM) i5-9400F CPU @ 2.90GHz\n",
      "[codecarbon INFO @ 12:52:48] >>> Tracker's metadata:\n",
      "[codecarbon INFO @ 12:52:48]   Platform system: Linux-5.15.0-46-generic-x86_64-with-glibc2.35\n",
      "[codecarbon INFO @ 12:52:48]   Python version: 3.10.4\n",
      "[codecarbon INFO @ 12:52:48]   Available RAM : 1.930 GB\n",
      "[codecarbon INFO @ 12:52:48]   CPU count: 1\n",
      "[codecarbon INFO @ 12:52:48]   CPU model: Intel(R) Core(TM) i5-9400F CPU @ 2.90GHz\n",
      "[codecarbon INFO @ 12:52:48]   GPU count: None\n",
      "[codecarbon INFO @ 12:52:48]   GPU model: None\n",
      "/home/misanchz/miniconda3/envs/TFG-Project/lib/python3.10/site-packages/sklearn/svm/_base.py:1225: ConvergenceWarning: Liblinear failed to converge, increase the number of iterations.\n",
      "  warnings.warn(\n",
      "[codecarbon INFO @ 12:52:51] Energy consumed for RAM : 0.000000 kWh. RAM Power : 0.7236471176147461 W\n",
      "[codecarbon INFO @ 12:52:51] Energy consumed for all CPUs : 0.000000 kWh. All CPUs Power : 32.5 W\n",
      "[codecarbon INFO @ 12:52:51] 0.000000 kWh of electricity used since the begining.\n"
     ]
    },
    {
     "name": "stdout",
     "output_type": "stream",
     "text": [
      "Emissions: 4.695316415061749e-08 kg\n"
     ]
    }
   ],
   "source": [
    "# Linear SVC (Support Vector Machines)\n",
    "training.train_SVC_codecarbon(df,0.25)"
   ],
   "metadata": {
    "collapsed": false,
    "pycharm": {
     "name": "#%%\n"
    }
   }
  },
  {
   "cell_type": "code",
   "execution_count": 10,
   "outputs": [
    {
     "data": {
      "text/plain": "             timestamp project_name                                run_id  \\\n0  2022-08-28T12:46:55   codecarbon  5bcb766f-26f8-4e66-9bbe-30d506b10593   \n1  2022-08-28T12:47:01   codecarbon  4a30ef3a-e353-49c1-8a17-2e4c27ae0e34   \n2  2022-08-28T12:47:06   codecarbon  a492f0aa-784c-451e-b820-12d69877f294   \n3  2022-08-28T12:52:40   codecarbon  55d8b40c-2b6c-4126-bedb-f8e7fc434501   \n4  2022-08-28T12:52:46   codecarbon  1cad0bcb-a3dc-41d9-bdca-42fa5b2c69fc   \n5  2022-08-28T12:52:51   codecarbon  4dd44a57-6500-4e25-ba9d-9b0fd9c91274   \n\n   duration     emissions  emissions_rate  cpu_power  gpu_power  ram_power  \\\n0  0.053176  9.129748e-08        0.001717       32.5        0.0   0.723647   \n1  0.245464  4.279516e-07        0.001743       32.5        0.0   0.723647   \n2  0.030776  5.196335e-08        0.001688       32.5        0.0   0.723647   \n3  0.057762  9.873122e-08        0.001709       32.5        0.0   0.723647   \n4  0.222724  3.858422e-07        0.001732       32.5        0.0   0.723647   \n5  0.032248  4.695316e-08        0.001456       32.5        0.0   0.723647   \n\n     cpu_energy  ...  python_version  cpu_count  \\\n0  4.703768e-07  ...          3.10.4          1   \n1  2.204788e-06  ...          3.10.4          1   \n2  2.678219e-07  ...          3.10.4          1   \n3  5.094599e-07  ...          3.10.4          1   \n4  1.986934e-06  ...          3.10.4          1   \n5  2.421180e-07  ...          3.10.4          1   \n\n                                  cpu_model gpu_count gpu_model longitude  \\\n0  Intel(R) Core(TM) i5-9400F CPU @ 2.90GHz       NaN       NaN   -3.8661   \n1  Intel(R) Core(TM) i5-9400F CPU @ 2.90GHz       NaN       NaN   -3.8661   \n2  Intel(R) Core(TM) i5-9400F CPU @ 2.90GHz       NaN       NaN   -3.8661   \n3  Intel(R) Core(TM) i5-9400F CPU @ 2.90GHz       NaN       NaN   -3.8661   \n4  Intel(R) Core(TM) i5-9400F CPU @ 2.90GHz       NaN       NaN   -3.8661   \n5  Intel(R) Core(TM) i5-9400F CPU @ 2.90GHz       NaN       NaN   -3.8661   \n\n   latitude  ram_total_size tracking_mode on_cloud  \n0   40.3192        1.929726       machine        N  \n1   40.3192        1.929726       machine        N  \n2   40.3192        1.929726       machine        N  \n3   40.3192        1.929726       machine        N  \n4   40.3192        1.929726       machine        N  \n5   40.3192        1.929726       machine        N  \n\n[6 rows x 29 columns]",
      "text/html": "<div>\n<style scoped>\n    .dataframe tbody tr th:only-of-type {\n        vertical-align: middle;\n    }\n\n    .dataframe tbody tr th {\n        vertical-align: top;\n    }\n\n    .dataframe thead th {\n        text-align: right;\n    }\n</style>\n<table border=\"1\" class=\"dataframe\">\n  <thead>\n    <tr style=\"text-align: right;\">\n      <th></th>\n      <th>timestamp</th>\n      <th>project_name</th>\n      <th>run_id</th>\n      <th>duration</th>\n      <th>emissions</th>\n      <th>emissions_rate</th>\n      <th>cpu_power</th>\n      <th>gpu_power</th>\n      <th>ram_power</th>\n      <th>cpu_energy</th>\n      <th>...</th>\n      <th>python_version</th>\n      <th>cpu_count</th>\n      <th>cpu_model</th>\n      <th>gpu_count</th>\n      <th>gpu_model</th>\n      <th>longitude</th>\n      <th>latitude</th>\n      <th>ram_total_size</th>\n      <th>tracking_mode</th>\n      <th>on_cloud</th>\n    </tr>\n  </thead>\n  <tbody>\n    <tr>\n      <th>0</th>\n      <td>2022-08-28T12:46:55</td>\n      <td>codecarbon</td>\n      <td>5bcb766f-26f8-4e66-9bbe-30d506b10593</td>\n      <td>0.053176</td>\n      <td>9.129748e-08</td>\n      <td>0.001717</td>\n      <td>32.5</td>\n      <td>0.0</td>\n      <td>0.723647</td>\n      <td>4.703768e-07</td>\n      <td>...</td>\n      <td>3.10.4</td>\n      <td>1</td>\n      <td>Intel(R) Core(TM) i5-9400F CPU @ 2.90GHz</td>\n      <td>NaN</td>\n      <td>NaN</td>\n      <td>-3.8661</td>\n      <td>40.3192</td>\n      <td>1.929726</td>\n      <td>machine</td>\n      <td>N</td>\n    </tr>\n    <tr>\n      <th>1</th>\n      <td>2022-08-28T12:47:01</td>\n      <td>codecarbon</td>\n      <td>4a30ef3a-e353-49c1-8a17-2e4c27ae0e34</td>\n      <td>0.245464</td>\n      <td>4.279516e-07</td>\n      <td>0.001743</td>\n      <td>32.5</td>\n      <td>0.0</td>\n      <td>0.723647</td>\n      <td>2.204788e-06</td>\n      <td>...</td>\n      <td>3.10.4</td>\n      <td>1</td>\n      <td>Intel(R) Core(TM) i5-9400F CPU @ 2.90GHz</td>\n      <td>NaN</td>\n      <td>NaN</td>\n      <td>-3.8661</td>\n      <td>40.3192</td>\n      <td>1.929726</td>\n      <td>machine</td>\n      <td>N</td>\n    </tr>\n    <tr>\n      <th>2</th>\n      <td>2022-08-28T12:47:06</td>\n      <td>codecarbon</td>\n      <td>a492f0aa-784c-451e-b820-12d69877f294</td>\n      <td>0.030776</td>\n      <td>5.196335e-08</td>\n      <td>0.001688</td>\n      <td>32.5</td>\n      <td>0.0</td>\n      <td>0.723647</td>\n      <td>2.678219e-07</td>\n      <td>...</td>\n      <td>3.10.4</td>\n      <td>1</td>\n      <td>Intel(R) Core(TM) i5-9400F CPU @ 2.90GHz</td>\n      <td>NaN</td>\n      <td>NaN</td>\n      <td>-3.8661</td>\n      <td>40.3192</td>\n      <td>1.929726</td>\n      <td>machine</td>\n      <td>N</td>\n    </tr>\n    <tr>\n      <th>3</th>\n      <td>2022-08-28T12:52:40</td>\n      <td>codecarbon</td>\n      <td>55d8b40c-2b6c-4126-bedb-f8e7fc434501</td>\n      <td>0.057762</td>\n      <td>9.873122e-08</td>\n      <td>0.001709</td>\n      <td>32.5</td>\n      <td>0.0</td>\n      <td>0.723647</td>\n      <td>5.094599e-07</td>\n      <td>...</td>\n      <td>3.10.4</td>\n      <td>1</td>\n      <td>Intel(R) Core(TM) i5-9400F CPU @ 2.90GHz</td>\n      <td>NaN</td>\n      <td>NaN</td>\n      <td>-3.8661</td>\n      <td>40.3192</td>\n      <td>1.929726</td>\n      <td>machine</td>\n      <td>N</td>\n    </tr>\n    <tr>\n      <th>4</th>\n      <td>2022-08-28T12:52:46</td>\n      <td>codecarbon</td>\n      <td>1cad0bcb-a3dc-41d9-bdca-42fa5b2c69fc</td>\n      <td>0.222724</td>\n      <td>3.858422e-07</td>\n      <td>0.001732</td>\n      <td>32.5</td>\n      <td>0.0</td>\n      <td>0.723647</td>\n      <td>1.986934e-06</td>\n      <td>...</td>\n      <td>3.10.4</td>\n      <td>1</td>\n      <td>Intel(R) Core(TM) i5-9400F CPU @ 2.90GHz</td>\n      <td>NaN</td>\n      <td>NaN</td>\n      <td>-3.8661</td>\n      <td>40.3192</td>\n      <td>1.929726</td>\n      <td>machine</td>\n      <td>N</td>\n    </tr>\n    <tr>\n      <th>5</th>\n      <td>2022-08-28T12:52:51</td>\n      <td>codecarbon</td>\n      <td>4dd44a57-6500-4e25-ba9d-9b0fd9c91274</td>\n      <td>0.032248</td>\n      <td>4.695316e-08</td>\n      <td>0.001456</td>\n      <td>32.5</td>\n      <td>0.0</td>\n      <td>0.723647</td>\n      <td>2.421180e-07</td>\n      <td>...</td>\n      <td>3.10.4</td>\n      <td>1</td>\n      <td>Intel(R) Core(TM) i5-9400F CPU @ 2.90GHz</td>\n      <td>NaN</td>\n      <td>NaN</td>\n      <td>-3.8661</td>\n      <td>40.3192</td>\n      <td>1.929726</td>\n      <td>machine</td>\n      <td>N</td>\n    </tr>\n  </tbody>\n</table>\n<p>6 rows × 29 columns</p>\n</div>"
     },
     "execution_count": 10,
     "metadata": {},
     "output_type": "execute_result"
    }
   ],
   "source": [
    "# Show results\n",
    "codecarbon_emissions = pd.read_csv(\"emissions.csv\",sep=\",\")\n",
    "codecarbon_emissions"
   ],
   "metadata": {
    "collapsed": false,
    "pycharm": {
     "name": "#%%\n"
    }
   }
  }
 ],
 "metadata": {
  "kernelspec": {
   "display_name": "Python 3",
   "language": "python",
   "name": "python3"
  },
  "language_info": {
   "codemirror_mode": {
    "name": "ipython",
    "version": 2
   },
   "file_extension": ".py",
   "mimetype": "text/x-python",
   "name": "python",
   "nbconvert_exporter": "python",
   "pygments_lexer": "ipython2",
   "version": "2.7.6"
  }
 },
 "nbformat": 4,
 "nbformat_minor": 0
}