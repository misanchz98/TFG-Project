{
 "cells": [
  {
   "cell_type": "markdown",
   "source": [
    "# 1. Importación de paquetes"
   ],
   "metadata": {
    "collapsed": false,
    "pycharm": {
     "name": "#%% md\n"
    }
   }
  },
  {
   "cell_type": "code",
   "execution_count": 1,
   "outputs": [],
   "source": [
    "#Import packages\n",
    "from modules import preprocess\n",
    "from modules import training"
   ],
   "metadata": {
    "collapsed": false,
    "pycharm": {
     "name": "#%%\n"
    }
   }
  },
  {
   "cell_type": "markdown",
   "source": [
    "# 2. Preprocesamiento del *dataset*: [Room Occupancy Estimation Data Set](https://www.kaggle.com/ananthr1/room-occupancy-estimation-data-set)"
   ],
   "metadata": {
    "collapsed": false,
    "pycharm": {
     "name": "#%% md\n"
    }
   }
  },
  {
   "cell_type": "markdown",
   "source": [
    "## Paso 1: Lectura del *dataset* y obtención de datos"
   ],
   "metadata": {
    "collapsed": false,
    "pycharm": {
     "name": "#%% md\n"
    }
   }
  },
  {
   "cell_type": "code",
   "execution_count": 2,
   "outputs": [
    {
     "data": {
      "text/plain": "(10129, 19)"
     },
     "execution_count": 2,
     "metadata": {},
     "output_type": "execute_result"
    }
   ],
   "source": [
    "df = preprocess.load_csv_data('Occupancy_Estimation.csv')\n",
    "df.shape"
   ],
   "metadata": {
    "collapsed": false,
    "pycharm": {
     "name": "#%%\n"
    }
   }
  },
  {
   "cell_type": "code",
   "execution_count": 3,
   "outputs": [
    {
     "data": {
      "text/plain": "         Date      Time  S1_Temp  S2_Temp  S3_Temp  S4_Temp  S1_Light  \\\n0  2017/12/22  10:49:41    24.94    24.75    24.56    25.38       121   \n1  2017/12/22  10:50:12    24.94    24.75    24.56    25.44       121   \n2  2017/12/22  10:50:42    25.00    24.75    24.50    25.44       121   \n3  2017/12/22  10:51:13    25.00    24.75    24.56    25.44       121   \n4  2017/12/22  10:51:44    25.00    24.75    24.56    25.44       121   \n\n   S2_Light  S3_Light  S4_Light  S1_Sound  S2_Sound  S3_Sound  S4_Sound  \\\n0        34        53        40      0.08      0.19      0.06      0.06   \n1        33        53        40      0.93      0.05      0.06      0.06   \n2        34        53        40      0.43      0.11      0.08      0.06   \n3        34        53        40      0.41      0.10      0.10      0.09   \n4        34        54        40      0.18      0.06      0.06      0.06   \n\n   S5_CO2  S5_CO2_Slope  S6_PIR  S7_PIR  Room_Occupancy_Count  \n0     390      0.769231       0       0                     1  \n1     390      0.646154       0       0                     1  \n2     390      0.519231       0       0                     1  \n3     390      0.388462       0       0                     1  \n4     390      0.253846       0       0                     1  ",
      "text/html": "<div>\n<style scoped>\n    .dataframe tbody tr th:only-of-type {\n        vertical-align: middle;\n    }\n\n    .dataframe tbody tr th {\n        vertical-align: top;\n    }\n\n    .dataframe thead th {\n        text-align: right;\n    }\n</style>\n<table border=\"1\" class=\"dataframe\">\n  <thead>\n    <tr style=\"text-align: right;\">\n      <th></th>\n      <th>Date</th>\n      <th>Time</th>\n      <th>S1_Temp</th>\n      <th>S2_Temp</th>\n      <th>S3_Temp</th>\n      <th>S4_Temp</th>\n      <th>S1_Light</th>\n      <th>S2_Light</th>\n      <th>S3_Light</th>\n      <th>S4_Light</th>\n      <th>S1_Sound</th>\n      <th>S2_Sound</th>\n      <th>S3_Sound</th>\n      <th>S4_Sound</th>\n      <th>S5_CO2</th>\n      <th>S5_CO2_Slope</th>\n      <th>S6_PIR</th>\n      <th>S7_PIR</th>\n      <th>Room_Occupancy_Count</th>\n    </tr>\n  </thead>\n  <tbody>\n    <tr>\n      <th>0</th>\n      <td>2017/12/22</td>\n      <td>10:49:41</td>\n      <td>24.94</td>\n      <td>24.75</td>\n      <td>24.56</td>\n      <td>25.38</td>\n      <td>121</td>\n      <td>34</td>\n      <td>53</td>\n      <td>40</td>\n      <td>0.08</td>\n      <td>0.19</td>\n      <td>0.06</td>\n      <td>0.06</td>\n      <td>390</td>\n      <td>0.769231</td>\n      <td>0</td>\n      <td>0</td>\n      <td>1</td>\n    </tr>\n    <tr>\n      <th>1</th>\n      <td>2017/12/22</td>\n      <td>10:50:12</td>\n      <td>24.94</td>\n      <td>24.75</td>\n      <td>24.56</td>\n      <td>25.44</td>\n      <td>121</td>\n      <td>33</td>\n      <td>53</td>\n      <td>40</td>\n      <td>0.93</td>\n      <td>0.05</td>\n      <td>0.06</td>\n      <td>0.06</td>\n      <td>390</td>\n      <td>0.646154</td>\n      <td>0</td>\n      <td>0</td>\n      <td>1</td>\n    </tr>\n    <tr>\n      <th>2</th>\n      <td>2017/12/22</td>\n      <td>10:50:42</td>\n      <td>25.00</td>\n      <td>24.75</td>\n      <td>24.50</td>\n      <td>25.44</td>\n      <td>121</td>\n      <td>34</td>\n      <td>53</td>\n      <td>40</td>\n      <td>0.43</td>\n      <td>0.11</td>\n      <td>0.08</td>\n      <td>0.06</td>\n      <td>390</td>\n      <td>0.519231</td>\n      <td>0</td>\n      <td>0</td>\n      <td>1</td>\n    </tr>\n    <tr>\n      <th>3</th>\n      <td>2017/12/22</td>\n      <td>10:51:13</td>\n      <td>25.00</td>\n      <td>24.75</td>\n      <td>24.56</td>\n      <td>25.44</td>\n      <td>121</td>\n      <td>34</td>\n      <td>53</td>\n      <td>40</td>\n      <td>0.41</td>\n      <td>0.10</td>\n      <td>0.10</td>\n      <td>0.09</td>\n      <td>390</td>\n      <td>0.388462</td>\n      <td>0</td>\n      <td>0</td>\n      <td>1</td>\n    </tr>\n    <tr>\n      <th>4</th>\n      <td>2017/12/22</td>\n      <td>10:51:44</td>\n      <td>25.00</td>\n      <td>24.75</td>\n      <td>24.56</td>\n      <td>25.44</td>\n      <td>121</td>\n      <td>34</td>\n      <td>54</td>\n      <td>40</td>\n      <td>0.18</td>\n      <td>0.06</td>\n      <td>0.06</td>\n      <td>0.06</td>\n      <td>390</td>\n      <td>0.253846</td>\n      <td>0</td>\n      <td>0</td>\n      <td>1</td>\n    </tr>\n  </tbody>\n</table>\n</div>"
     },
     "execution_count": 3,
     "metadata": {},
     "output_type": "execute_result"
    }
   ],
   "source": [
    "df.head()"
   ],
   "metadata": {
    "collapsed": false,
    "pycharm": {
     "name": "#%%\n"
    }
   }
  },
  {
   "cell_type": "markdown",
   "source": [
    "## Paso 2: Recodificación de la columna *RoomOccupancyCount*\n",
    "\n",
    "En este caso, la columna que contiene la variable de salida (*RoomOccupancyCount*) cuenta el número de personas en la sala. Para simplificar, nuestro objetivo va a ser detectar si la sala está vacía o, en cambio, hay alguien (no el número exacto de personas).\n",
    "\n",
    "Por lo tanto, se **recodificará cualquier valor mayor que 0 en esa columna como 1**, de tal forma que la variable de salida sea binaria:\n",
    "- 0 -> ausencia.\n",
    "- 1 -> presencia."
   ],
   "metadata": {
    "collapsed": false,
    "pycharm": {
     "name": "#%% md\n"
    }
   }
  },
  {
   "cell_type": "code",
   "execution_count": 4,
   "outputs": [
    {
     "data": {
      "text/plain": "0        1\n1        1\n2        1\n3        1\n4        1\n        ..\n10124    0\n10125    0\n10126    0\n10127    0\n10128    0\nName: Room_Occupancy_Count, Length: 10129, dtype: int64"
     },
     "execution_count": 4,
     "metadata": {},
     "output_type": "execute_result"
    }
   ],
   "source": [
    "# Show \"Room_Occupancy_Count\" before processing\n",
    "df[\"Room_Occupancy_Count\"]"
   ],
   "metadata": {
    "collapsed": false,
    "pycharm": {
     "name": "#%%\n"
    }
   }
  },
  {
   "cell_type": "code",
   "execution_count": 5,
   "outputs": [
    {
     "data": {
      "text/plain": "0        1\n1        1\n2        1\n3        1\n4        1\n        ..\n10124    0\n10125    0\n10126    0\n10127    0\n10128    0\nName: Room_Occupancy_Count, Length: 10129, dtype: int32"
     },
     "execution_count": 5,
     "metadata": {},
     "output_type": "execute_result"
    }
   ],
   "source": [
    "#Process \"Room_Occupancy_Count\"\n",
    "preprocess.recode_dataset_output(df)\n",
    "\n",
    "# Show \"Room_Occupancy_Count\" after processing\n",
    "df[\"Room_Occupancy_Count\"]"
   ],
   "metadata": {
    "collapsed": false,
    "pycharm": {
     "name": "#%%\n"
    }
   }
  },
  {
   "cell_type": "markdown",
   "source": [
    "## Paso 3: Eliminación de las columnas temporales *Date* y *Time*\n",
    "\n",
    "Respecto a los datos ofrecidos por las columas *Date* y *Time*, vamos a filtrarlos y dejarlos fuera del proceso. Ya que, aunque los incluyeramos (por ejemplo, juntando ambas partes en una sola columna y convirtiéndolo a formato 'epoch', como long int), los valores de muestras sucesivas de esa columna estarían totalmente correlados entre sí y, como consecuencia, fastidiaríamos a la mayoría de algoritmos que vamos a emplear posteriormente.\n",
    "\n",
    "Se debe tener en cuenta que no nos estamos olvidando de la información temporal para considerar como si cada valor muestreado (fila de la tabla) fuese independiente de las demás filas. Sabemos que eso no es así, pero estamos considerando que esa información temporal no nos ofrece valor añadido para predecir si la habitación está ocupada o vacía. En caso contrario, se tendrían que usar modelos bastante más complicados para considerar esa relación temporal que indica que, en realidad, las muestras de dos filas adyacentes son consecutivas en el tiempo."
   ],
   "metadata": {
    "collapsed": false,
    "pycharm": {
     "name": "#%% md\n"
    }
   }
  },
  {
   "cell_type": "code",
   "execution_count": 6,
   "outputs": [
    {
     "data": {
      "text/plain": "   S1_Temp  S2_Temp  S3_Temp  S4_Temp  S1_Light  S2_Light  S3_Light  S4_Light  \\\n0    24.94    24.75    24.56    25.38       121        34        53        40   \n1    24.94    24.75    24.56    25.44       121        33        53        40   \n2    25.00    24.75    24.50    25.44       121        34        53        40   \n3    25.00    24.75    24.56    25.44       121        34        53        40   \n4    25.00    24.75    24.56    25.44       121        34        54        40   \n\n   S1_Sound  S2_Sound  S3_Sound  S4_Sound  S5_CO2  S5_CO2_Slope  S6_PIR  \\\n0      0.08      0.19      0.06      0.06     390      0.769231       0   \n1      0.93      0.05      0.06      0.06     390      0.646154       0   \n2      0.43      0.11      0.08      0.06     390      0.519231       0   \n3      0.41      0.10      0.10      0.09     390      0.388462       0   \n4      0.18      0.06      0.06      0.06     390      0.253846       0   \n\n   S7_PIR  Room_Occupancy_Count  \n0       0                     1  \n1       0                     1  \n2       0                     1  \n3       0                     1  \n4       0                     1  ",
      "text/html": "<div>\n<style scoped>\n    .dataframe tbody tr th:only-of-type {\n        vertical-align: middle;\n    }\n\n    .dataframe tbody tr th {\n        vertical-align: top;\n    }\n\n    .dataframe thead th {\n        text-align: right;\n    }\n</style>\n<table border=\"1\" class=\"dataframe\">\n  <thead>\n    <tr style=\"text-align: right;\">\n      <th></th>\n      <th>S1_Temp</th>\n      <th>S2_Temp</th>\n      <th>S3_Temp</th>\n      <th>S4_Temp</th>\n      <th>S1_Light</th>\n      <th>S2_Light</th>\n      <th>S3_Light</th>\n      <th>S4_Light</th>\n      <th>S1_Sound</th>\n      <th>S2_Sound</th>\n      <th>S3_Sound</th>\n      <th>S4_Sound</th>\n      <th>S5_CO2</th>\n      <th>S5_CO2_Slope</th>\n      <th>S6_PIR</th>\n      <th>S7_PIR</th>\n      <th>Room_Occupancy_Count</th>\n    </tr>\n  </thead>\n  <tbody>\n    <tr>\n      <th>0</th>\n      <td>24.94</td>\n      <td>24.75</td>\n      <td>24.56</td>\n      <td>25.38</td>\n      <td>121</td>\n      <td>34</td>\n      <td>53</td>\n      <td>40</td>\n      <td>0.08</td>\n      <td>0.19</td>\n      <td>0.06</td>\n      <td>0.06</td>\n      <td>390</td>\n      <td>0.769231</td>\n      <td>0</td>\n      <td>0</td>\n      <td>1</td>\n    </tr>\n    <tr>\n      <th>1</th>\n      <td>24.94</td>\n      <td>24.75</td>\n      <td>24.56</td>\n      <td>25.44</td>\n      <td>121</td>\n      <td>33</td>\n      <td>53</td>\n      <td>40</td>\n      <td>0.93</td>\n      <td>0.05</td>\n      <td>0.06</td>\n      <td>0.06</td>\n      <td>390</td>\n      <td>0.646154</td>\n      <td>0</td>\n      <td>0</td>\n      <td>1</td>\n    </tr>\n    <tr>\n      <th>2</th>\n      <td>25.00</td>\n      <td>24.75</td>\n      <td>24.50</td>\n      <td>25.44</td>\n      <td>121</td>\n      <td>34</td>\n      <td>53</td>\n      <td>40</td>\n      <td>0.43</td>\n      <td>0.11</td>\n      <td>0.08</td>\n      <td>0.06</td>\n      <td>390</td>\n      <td>0.519231</td>\n      <td>0</td>\n      <td>0</td>\n      <td>1</td>\n    </tr>\n    <tr>\n      <th>3</th>\n      <td>25.00</td>\n      <td>24.75</td>\n      <td>24.56</td>\n      <td>25.44</td>\n      <td>121</td>\n      <td>34</td>\n      <td>53</td>\n      <td>40</td>\n      <td>0.41</td>\n      <td>0.10</td>\n      <td>0.10</td>\n      <td>0.09</td>\n      <td>390</td>\n      <td>0.388462</td>\n      <td>0</td>\n      <td>0</td>\n      <td>1</td>\n    </tr>\n    <tr>\n      <th>4</th>\n      <td>25.00</td>\n      <td>24.75</td>\n      <td>24.56</td>\n      <td>25.44</td>\n      <td>121</td>\n      <td>34</td>\n      <td>54</td>\n      <td>40</td>\n      <td>0.18</td>\n      <td>0.06</td>\n      <td>0.06</td>\n      <td>0.06</td>\n      <td>390</td>\n      <td>0.253846</td>\n      <td>0</td>\n      <td>0</td>\n      <td>1</td>\n    </tr>\n  </tbody>\n</table>\n</div>"
     },
     "execution_count": 6,
     "metadata": {},
     "output_type": "execute_result"
    }
   ],
   "source": [
    "# Filter Date and Time columns\n",
    "preprocess.remove_time_columns(df)\n",
    "\n",
    "# Show the result\n",
    "df.head()"
   ],
   "metadata": {
    "collapsed": false,
    "pycharm": {
     "name": "#%%\n"
    }
   }
  },
  {
   "cell_type": "markdown",
   "source": [
    "## Paso 4: División del *dataset* en *train* y *test*"
   ],
   "metadata": {
    "collapsed": false,
    "pycharm": {
     "name": "#%% md\n"
    }
   }
  },
  {
   "cell_type": "code",
   "execution_count": 7,
   "outputs": [
    {
     "data": {
      "text/plain": "((7596, 17), (2533, 17))"
     },
     "execution_count": 7,
     "metadata": {},
     "output_type": "execute_result"
    }
   ],
   "source": [
    "# Split dataset into train and test\n",
    "train_df, test_df = preprocess.split_dataset(df)\n",
    "train_df.shape, test_df.shape"
   ],
   "metadata": {
    "collapsed": false,
    "pycharm": {
     "name": "#%%\n"
    }
   }
  },
  {
   "cell_type": "code",
   "execution_count": 8,
   "outputs": [
    {
     "data": {
      "text/plain": "      S1_Temp  S2_Temp  S3_Temp  S4_Temp  S1_Light  S2_Light  S3_Light  \\\n4231    25.38    25.44    24.94    25.56         0         0         0   \n8286    25.94    26.13    25.81    25.94       148       234       177   \n1651    25.31    25.31    24.88    25.75         0         0         0   \n1960    25.19    25.19    24.69    25.56         0         0         0   \n3565    26.25    26.19    25.88    26.38       148       234       185   \n\n      S4_Light  S1_Sound  S2_Sound  S3_Sound  S4_Sound  S5_CO2  S5_CO2_Slope  \\\n4231         0      0.07      0.04      0.06      0.06     370     -0.253846   \n8286        24      0.11      0.13      0.08      0.10     800      1.515385   \n1651         0      0.06      0.05      0.06      0.06     370      0.000000   \n1960         0      0.08      0.05      0.06      0.06     360      0.000000   \n3565        10      0.07      0.23      0.15      0.07     925      3.700000   \n\n      S6_PIR  S7_PIR  Room_Occupancy_Count  \n4231       0       0                     0  \n8286       0       0                     1  \n1651       0       0                     0  \n1960       0       0                     0  \n3565       0       1                     1  ",
      "text/html": "<div>\n<style scoped>\n    .dataframe tbody tr th:only-of-type {\n        vertical-align: middle;\n    }\n\n    .dataframe tbody tr th {\n        vertical-align: top;\n    }\n\n    .dataframe thead th {\n        text-align: right;\n    }\n</style>\n<table border=\"1\" class=\"dataframe\">\n  <thead>\n    <tr style=\"text-align: right;\">\n      <th></th>\n      <th>S1_Temp</th>\n      <th>S2_Temp</th>\n      <th>S3_Temp</th>\n      <th>S4_Temp</th>\n      <th>S1_Light</th>\n      <th>S2_Light</th>\n      <th>S3_Light</th>\n      <th>S4_Light</th>\n      <th>S1_Sound</th>\n      <th>S2_Sound</th>\n      <th>S3_Sound</th>\n      <th>S4_Sound</th>\n      <th>S5_CO2</th>\n      <th>S5_CO2_Slope</th>\n      <th>S6_PIR</th>\n      <th>S7_PIR</th>\n      <th>Room_Occupancy_Count</th>\n    </tr>\n  </thead>\n  <tbody>\n    <tr>\n      <th>4231</th>\n      <td>25.38</td>\n      <td>25.44</td>\n      <td>24.94</td>\n      <td>25.56</td>\n      <td>0</td>\n      <td>0</td>\n      <td>0</td>\n      <td>0</td>\n      <td>0.07</td>\n      <td>0.04</td>\n      <td>0.06</td>\n      <td>0.06</td>\n      <td>370</td>\n      <td>-0.253846</td>\n      <td>0</td>\n      <td>0</td>\n      <td>0</td>\n    </tr>\n    <tr>\n      <th>8286</th>\n      <td>25.94</td>\n      <td>26.13</td>\n      <td>25.81</td>\n      <td>25.94</td>\n      <td>148</td>\n      <td>234</td>\n      <td>177</td>\n      <td>24</td>\n      <td>0.11</td>\n      <td>0.13</td>\n      <td>0.08</td>\n      <td>0.10</td>\n      <td>800</td>\n      <td>1.515385</td>\n      <td>0</td>\n      <td>0</td>\n      <td>1</td>\n    </tr>\n    <tr>\n      <th>1651</th>\n      <td>25.31</td>\n      <td>25.31</td>\n      <td>24.88</td>\n      <td>25.75</td>\n      <td>0</td>\n      <td>0</td>\n      <td>0</td>\n      <td>0</td>\n      <td>0.06</td>\n      <td>0.05</td>\n      <td>0.06</td>\n      <td>0.06</td>\n      <td>370</td>\n      <td>0.000000</td>\n      <td>0</td>\n      <td>0</td>\n      <td>0</td>\n    </tr>\n    <tr>\n      <th>1960</th>\n      <td>25.19</td>\n      <td>25.19</td>\n      <td>24.69</td>\n      <td>25.56</td>\n      <td>0</td>\n      <td>0</td>\n      <td>0</td>\n      <td>0</td>\n      <td>0.08</td>\n      <td>0.05</td>\n      <td>0.06</td>\n      <td>0.06</td>\n      <td>360</td>\n      <td>0.000000</td>\n      <td>0</td>\n      <td>0</td>\n      <td>0</td>\n    </tr>\n    <tr>\n      <th>3565</th>\n      <td>26.25</td>\n      <td>26.19</td>\n      <td>25.88</td>\n      <td>26.38</td>\n      <td>148</td>\n      <td>234</td>\n      <td>185</td>\n      <td>10</td>\n      <td>0.07</td>\n      <td>0.23</td>\n      <td>0.15</td>\n      <td>0.07</td>\n      <td>925</td>\n      <td>3.700000</td>\n      <td>0</td>\n      <td>1</td>\n      <td>1</td>\n    </tr>\n  </tbody>\n</table>\n</div>"
     },
     "execution_count": 8,
     "metadata": {},
     "output_type": "execute_result"
    }
   ],
   "source": [
    "train_df.head()"
   ],
   "metadata": {
    "collapsed": false,
    "pycharm": {
     "name": "#%%\n"
    }
   }
  },
  {
   "cell_type": "code",
   "execution_count": 9,
   "outputs": [
    {
     "data": {
      "text/plain": "      S1_Temp  S2_Temp  S3_Temp  S4_Temp  S1_Light  S2_Light  S3_Light  \\\n7049    25.38    25.38    25.00    25.88         0         0         0   \n1617    25.31    25.31    24.88    25.75         0         0         0   \n8625    25.50    25.50    25.19    25.63         0         0         0   \n4923    25.19    25.19    24.56    25.50         0         0         0   \n8997    25.25    25.31    24.94    25.38         0         0         0   \n\n      S4_Light  S1_Sound  S2_Sound  S3_Sound  S4_Sound  S5_CO2  S5_CO2_Slope  \\\n7049         0      0.07      0.06      0.06      0.10     355      0.000000   \n1617         0      0.06      0.05      0.06      0.06     370      0.000000   \n8625         0      0.07      0.05      0.06      0.09     415     -1.465385   \n4923         0      0.06      0.05      0.06      0.06     360     -0.019231   \n8997         0      0.07      0.05      0.05      0.09     345      0.000000   \n\n      S6_PIR  S7_PIR  Room_Occupancy_Count  \n7049       0       0                     0  \n1617       0       0                     0  \n8625       0       0                     0  \n4923       0       0                     0  \n8997       0       0                     0  ",
      "text/html": "<div>\n<style scoped>\n    .dataframe tbody tr th:only-of-type {\n        vertical-align: middle;\n    }\n\n    .dataframe tbody tr th {\n        vertical-align: top;\n    }\n\n    .dataframe thead th {\n        text-align: right;\n    }\n</style>\n<table border=\"1\" class=\"dataframe\">\n  <thead>\n    <tr style=\"text-align: right;\">\n      <th></th>\n      <th>S1_Temp</th>\n      <th>S2_Temp</th>\n      <th>S3_Temp</th>\n      <th>S4_Temp</th>\n      <th>S1_Light</th>\n      <th>S2_Light</th>\n      <th>S3_Light</th>\n      <th>S4_Light</th>\n      <th>S1_Sound</th>\n      <th>S2_Sound</th>\n      <th>S3_Sound</th>\n      <th>S4_Sound</th>\n      <th>S5_CO2</th>\n      <th>S5_CO2_Slope</th>\n      <th>S6_PIR</th>\n      <th>S7_PIR</th>\n      <th>Room_Occupancy_Count</th>\n    </tr>\n  </thead>\n  <tbody>\n    <tr>\n      <th>7049</th>\n      <td>25.38</td>\n      <td>25.38</td>\n      <td>25.00</td>\n      <td>25.88</td>\n      <td>0</td>\n      <td>0</td>\n      <td>0</td>\n      <td>0</td>\n      <td>0.07</td>\n      <td>0.06</td>\n      <td>0.06</td>\n      <td>0.10</td>\n      <td>355</td>\n      <td>0.000000</td>\n      <td>0</td>\n      <td>0</td>\n      <td>0</td>\n    </tr>\n    <tr>\n      <th>1617</th>\n      <td>25.31</td>\n      <td>25.31</td>\n      <td>24.88</td>\n      <td>25.75</td>\n      <td>0</td>\n      <td>0</td>\n      <td>0</td>\n      <td>0</td>\n      <td>0.06</td>\n      <td>0.05</td>\n      <td>0.06</td>\n      <td>0.06</td>\n      <td>370</td>\n      <td>0.000000</td>\n      <td>0</td>\n      <td>0</td>\n      <td>0</td>\n    </tr>\n    <tr>\n      <th>8625</th>\n      <td>25.50</td>\n      <td>25.50</td>\n      <td>25.19</td>\n      <td>25.63</td>\n      <td>0</td>\n      <td>0</td>\n      <td>0</td>\n      <td>0</td>\n      <td>0.07</td>\n      <td>0.05</td>\n      <td>0.06</td>\n      <td>0.09</td>\n      <td>415</td>\n      <td>-1.465385</td>\n      <td>0</td>\n      <td>0</td>\n      <td>0</td>\n    </tr>\n    <tr>\n      <th>4923</th>\n      <td>25.19</td>\n      <td>25.19</td>\n      <td>24.56</td>\n      <td>25.50</td>\n      <td>0</td>\n      <td>0</td>\n      <td>0</td>\n      <td>0</td>\n      <td>0.06</td>\n      <td>0.05</td>\n      <td>0.06</td>\n      <td>0.06</td>\n      <td>360</td>\n      <td>-0.019231</td>\n      <td>0</td>\n      <td>0</td>\n      <td>0</td>\n    </tr>\n    <tr>\n      <th>8997</th>\n      <td>25.25</td>\n      <td>25.31</td>\n      <td>24.94</td>\n      <td>25.38</td>\n      <td>0</td>\n      <td>0</td>\n      <td>0</td>\n      <td>0</td>\n      <td>0.07</td>\n      <td>0.05</td>\n      <td>0.05</td>\n      <td>0.09</td>\n      <td>345</td>\n      <td>0.000000</td>\n      <td>0</td>\n      <td>0</td>\n      <td>0</td>\n    </tr>\n  </tbody>\n</table>\n</div>"
     },
     "execution_count": 9,
     "metadata": {},
     "output_type": "execute_result"
    }
   ],
   "source": [
    "test_df.head()"
   ],
   "metadata": {
    "collapsed": false,
    "pycharm": {
     "name": "#%%\n"
    }
   }
  },
  {
   "cell_type": "markdown",
   "source": [
    "## Paso 5: División del *dataset* de entrenamiento en *features* y *output*"
   ],
   "metadata": {
    "collapsed": false,
    "pycharm": {
     "name": "#%% md\n"
    }
   }
  },
  {
   "cell_type": "code",
   "execution_count": 10,
   "outputs": [],
   "source": [
    "# Get features columns\n",
    "X = preprocess.get_features(train_df)\n",
    "\n",
    "# Get output column\n",
    "y = preprocess.get_output(train_df)"
   ],
   "metadata": {
    "collapsed": false,
    "pycharm": {
     "name": "#%%\n"
    }
   }
  },
  {
   "cell_type": "code",
   "execution_count": 11,
   "outputs": [
    {
     "data": {
      "text/plain": "      S1_Temp  S2_Temp  S3_Temp  S4_Temp  S1_Light  S2_Light  S3_Light  \\\n4231    25.38    25.44    24.94    25.56         0         0         0   \n8286    25.94    26.13    25.81    25.94       148       234       177   \n1651    25.31    25.31    24.88    25.75         0         0         0   \n1960    25.19    25.19    24.69    25.56         0         0         0   \n3565    26.25    26.19    25.88    26.38       148       234       185   \n\n      S4_Light  S1_Sound  S2_Sound  S3_Sound  S4_Sound  S5_CO2  S5_CO2_Slope  \\\n4231         0      0.07      0.04      0.06      0.06     370     -0.253846   \n8286        24      0.11      0.13      0.08      0.10     800      1.515385   \n1651         0      0.06      0.05      0.06      0.06     370      0.000000   \n1960         0      0.08      0.05      0.06      0.06     360      0.000000   \n3565        10      0.07      0.23      0.15      0.07     925      3.700000   \n\n      S6_PIR  S7_PIR  \n4231       0       0  \n8286       0       0  \n1651       0       0  \n1960       0       0  \n3565       0       1  ",
      "text/html": "<div>\n<style scoped>\n    .dataframe tbody tr th:only-of-type {\n        vertical-align: middle;\n    }\n\n    .dataframe tbody tr th {\n        vertical-align: top;\n    }\n\n    .dataframe thead th {\n        text-align: right;\n    }\n</style>\n<table border=\"1\" class=\"dataframe\">\n  <thead>\n    <tr style=\"text-align: right;\">\n      <th></th>\n      <th>S1_Temp</th>\n      <th>S2_Temp</th>\n      <th>S3_Temp</th>\n      <th>S4_Temp</th>\n      <th>S1_Light</th>\n      <th>S2_Light</th>\n      <th>S3_Light</th>\n      <th>S4_Light</th>\n      <th>S1_Sound</th>\n      <th>S2_Sound</th>\n      <th>S3_Sound</th>\n      <th>S4_Sound</th>\n      <th>S5_CO2</th>\n      <th>S5_CO2_Slope</th>\n      <th>S6_PIR</th>\n      <th>S7_PIR</th>\n    </tr>\n  </thead>\n  <tbody>\n    <tr>\n      <th>4231</th>\n      <td>25.38</td>\n      <td>25.44</td>\n      <td>24.94</td>\n      <td>25.56</td>\n      <td>0</td>\n      <td>0</td>\n      <td>0</td>\n      <td>0</td>\n      <td>0.07</td>\n      <td>0.04</td>\n      <td>0.06</td>\n      <td>0.06</td>\n      <td>370</td>\n      <td>-0.253846</td>\n      <td>0</td>\n      <td>0</td>\n    </tr>\n    <tr>\n      <th>8286</th>\n      <td>25.94</td>\n      <td>26.13</td>\n      <td>25.81</td>\n      <td>25.94</td>\n      <td>148</td>\n      <td>234</td>\n      <td>177</td>\n      <td>24</td>\n      <td>0.11</td>\n      <td>0.13</td>\n      <td>0.08</td>\n      <td>0.10</td>\n      <td>800</td>\n      <td>1.515385</td>\n      <td>0</td>\n      <td>0</td>\n    </tr>\n    <tr>\n      <th>1651</th>\n      <td>25.31</td>\n      <td>25.31</td>\n      <td>24.88</td>\n      <td>25.75</td>\n      <td>0</td>\n      <td>0</td>\n      <td>0</td>\n      <td>0</td>\n      <td>0.06</td>\n      <td>0.05</td>\n      <td>0.06</td>\n      <td>0.06</td>\n      <td>370</td>\n      <td>0.000000</td>\n      <td>0</td>\n      <td>0</td>\n    </tr>\n    <tr>\n      <th>1960</th>\n      <td>25.19</td>\n      <td>25.19</td>\n      <td>24.69</td>\n      <td>25.56</td>\n      <td>0</td>\n      <td>0</td>\n      <td>0</td>\n      <td>0</td>\n      <td>0.08</td>\n      <td>0.05</td>\n      <td>0.06</td>\n      <td>0.06</td>\n      <td>360</td>\n      <td>0.000000</td>\n      <td>0</td>\n      <td>0</td>\n    </tr>\n    <tr>\n      <th>3565</th>\n      <td>26.25</td>\n      <td>26.19</td>\n      <td>25.88</td>\n      <td>26.38</td>\n      <td>148</td>\n      <td>234</td>\n      <td>185</td>\n      <td>10</td>\n      <td>0.07</td>\n      <td>0.23</td>\n      <td>0.15</td>\n      <td>0.07</td>\n      <td>925</td>\n      <td>3.700000</td>\n      <td>0</td>\n      <td>1</td>\n    </tr>\n  </tbody>\n</table>\n</div>"
     },
     "execution_count": 11,
     "metadata": {},
     "output_type": "execute_result"
    }
   ],
   "source": [
    "X.head()"
   ],
   "metadata": {
    "collapsed": false,
    "pycharm": {
     "name": "#%%\n"
    }
   }
  },
  {
   "cell_type": "code",
   "execution_count": 12,
   "outputs": [
    {
     "data": {
      "text/plain": "4231    0\n8286    1\n1651    0\n1960    0\n3565    1\nName: Room_Occupancy_Count, dtype: int32"
     },
     "execution_count": 12,
     "metadata": {},
     "output_type": "execute_result"
    }
   ],
   "source": [
    "y.head()"
   ],
   "metadata": {
    "collapsed": false,
    "pycharm": {
     "name": "#%%\n"
    }
   }
  },
  {
   "cell_type": "markdown",
   "source": [
    "# 2. Entrenamiento y seguimiento de la huella de carbono con **CodeCarbon**"
   ],
   "metadata": {
    "collapsed": false,
    "pycharm": {
     "name": "#%% md\n"
    }
   }
  },
  {
   "cell_type": "code",
   "execution_count": 13,
   "outputs": [
    {
     "name": "stderr",
     "output_type": "stream",
     "text": [
      "[codecarbon INFO @ 17:20:16] [setup] RAM Tracking...\n",
      "[codecarbon INFO @ 17:20:16] [setup] GPU Tracking...\n",
      "[codecarbon INFO @ 17:20:16] Tracking Nvidia GPU via pynvml\n",
      "[codecarbon INFO @ 17:20:16] [setup] CPU Tracking...\n",
      "[codecarbon WARNING @ 17:20:16] No CPU tracking mode found. Falling back on CPU constant mode.\n",
      "[codecarbon INFO @ 17:20:18] CPU Model on constant consumption mode: Intel(R) Core(TM) i5-9400F CPU @ 2.90GHz\n",
      "[codecarbon INFO @ 17:20:18] >>> Tracker's metadata:\n",
      "[codecarbon INFO @ 17:20:18]   Platform system: Windows-10-10.0.19044-SP0\n",
      "[codecarbon INFO @ 17:20:18]   Python version: 3.10.4\n",
      "[codecarbon INFO @ 17:20:18]   Available RAM : 7.935 GB\n",
      "[codecarbon INFO @ 17:20:18]   CPU count: 6\n",
      "[codecarbon INFO @ 17:20:18]   CPU model: Intel(R) Core(TM) i5-9400F CPU @ 2.90GHz\n",
      "[codecarbon INFO @ 17:20:18]   GPU count: 1\n",
      "[codecarbon INFO @ 17:20:18]   GPU model: 1 x NVIDIA GeForce GT 710\n",
      "[codecarbon INFO @ 17:20:18] Energy consumed for RAM : 0.000000 kWh. RAM Power : 2.97562837600708 W\n",
      "[codecarbon INFO @ 17:20:18] Energy consumed for all GPUs : 0.000000 kWh. All GPUs Power : 0.0 W\n",
      "[codecarbon INFO @ 17:20:18] Energy consumed for all CPUs : 0.000001 kWh. All CPUs Power : 32.5 W\n",
      "[codecarbon INFO @ 17:20:18] 0.000001 kWh of electricity used since the begining.\n",
      "[codecarbon INFO @ 17:20:18] [setup] RAM Tracking...\n",
      "[codecarbon INFO @ 17:20:18] [setup] GPU Tracking...\n",
      "[codecarbon INFO @ 17:20:18] Tracking Nvidia GPU via pynvml\n",
      "[codecarbon INFO @ 17:20:18] [setup] CPU Tracking...\n",
      "[codecarbon WARNING @ 17:20:18] No CPU tracking mode found. Falling back on CPU constant mode.\n"
     ]
    },
    {
     "name": "stdout",
     "output_type": "stream",
     "text": [
      "Emissions: 1.1702253391987465e-07 kg\n"
     ]
    },
    {
     "name": "stderr",
     "output_type": "stream",
     "text": [
      "[codecarbon INFO @ 17:20:20] CPU Model on constant consumption mode: Intel(R) Core(TM) i5-9400F CPU @ 2.90GHz\n",
      "[codecarbon INFO @ 17:20:20] >>> Tracker's metadata:\n",
      "[codecarbon INFO @ 17:20:20]   Platform system: Windows-10-10.0.19044-SP0\n",
      "[codecarbon INFO @ 17:20:20]   Python version: 3.10.4\n",
      "[codecarbon INFO @ 17:20:20]   Available RAM : 7.935 GB\n",
      "[codecarbon INFO @ 17:20:20]   CPU count: 6\n",
      "[codecarbon INFO @ 17:20:20]   CPU model: Intel(R) Core(TM) i5-9400F CPU @ 2.90GHz\n",
      "[codecarbon INFO @ 17:20:20]   GPU count: 1\n",
      "[codecarbon INFO @ 17:20:20]   GPU model: 1 x NVIDIA GeForce GT 710\n",
      "[codecarbon INFO @ 17:20:20] Energy consumed for RAM : 0.000000 kWh. RAM Power : 2.97562837600708 W\n",
      "[codecarbon INFO @ 17:20:20] Energy consumed for all GPUs : 0.000000 kWh. All GPUs Power : 0.0 W\n",
      "[codecarbon INFO @ 17:20:20] Energy consumed for all CPUs : 0.000002 kWh. All CPUs Power : 32.5 W\n",
      "[codecarbon INFO @ 17:20:20] 0.000002 kWh of electricity used since the begining.\n",
      "[codecarbon INFO @ 17:20:20] [setup] RAM Tracking...\n",
      "[codecarbon INFO @ 17:20:20] [setup] GPU Tracking...\n",
      "[codecarbon INFO @ 17:20:20] Tracking Nvidia GPU via pynvml\n",
      "[codecarbon INFO @ 17:20:20] [setup] CPU Tracking...\n",
      "[codecarbon WARNING @ 17:20:20] No CPU tracking mode found. Falling back on CPU constant mode.\n"
     ]
    },
    {
     "name": "stdout",
     "output_type": "stream",
     "text": [
      "Emissions: 3.5087832942067923e-07 kg\n"
     ]
    },
    {
     "name": "stderr",
     "output_type": "stream",
     "text": [
      "[codecarbon INFO @ 17:20:22] CPU Model on constant consumption mode: Intel(R) Core(TM) i5-9400F CPU @ 2.90GHz\n",
      "[codecarbon INFO @ 17:20:22] >>> Tracker's metadata:\n",
      "[codecarbon INFO @ 17:20:22]   Platform system: Windows-10-10.0.19044-SP0\n",
      "[codecarbon INFO @ 17:20:22]   Python version: 3.10.4\n",
      "[codecarbon INFO @ 17:20:22]   Available RAM : 7.935 GB\n",
      "[codecarbon INFO @ 17:20:22]   CPU count: 6\n",
      "[codecarbon INFO @ 17:20:22]   CPU model: Intel(R) Core(TM) i5-9400F CPU @ 2.90GHz\n",
      "[codecarbon INFO @ 17:20:22]   GPU count: 1\n",
      "[codecarbon INFO @ 17:20:22]   GPU model: 1 x NVIDIA GeForce GT 710\n",
      "C:\\Users\\INTEL I5\\miniconda3\\envs\\TFG_Project\\lib\\site-packages\\sklearn\\svm\\_base.py:1225: ConvergenceWarning: Liblinear failed to converge, increase the number of iterations.\n",
      "  warnings.warn(\n",
      "[codecarbon INFO @ 17:20:23] Energy consumed for RAM : 0.000000 kWh. RAM Power : 2.97562837600708 W\n",
      "[codecarbon INFO @ 17:20:23] Energy consumed for all GPUs : 0.000000 kWh. All GPUs Power : 0.0 W\n",
      "[codecarbon INFO @ 17:20:23] Energy consumed for all CPUs : 0.000000 kWh. All CPUs Power : 32.5 W\n",
      "[codecarbon INFO @ 17:20:23] 0.000000 kWh of electricity used since the begining.\n"
     ]
    },
    {
     "name": "stdout",
     "output_type": "stream",
     "text": [
      "Emissions: 8.521739336298613e-08 kg\n"
     ]
    }
   ],
   "source": [
    "training.train_LR_codecarbon(X,y)\n",
    "training.train_RF_codecarbon(X,y)\n",
    "training.train_SVC_codecarbon(X,y)"
   ],
   "metadata": {
    "collapsed": false,
    "pycharm": {
     "name": "#%%\n"
    }
   }
  }
 ],
 "metadata": {
  "kernelspec": {
   "display_name": "Python 3",
   "language": "python",
   "name": "python3"
  },
  "language_info": {
   "codemirror_mode": {
    "name": "ipython",
    "version": 2
   },
   "file_extension": ".py",
   "mimetype": "text/x-python",
   "name": "python",
   "nbconvert_exporter": "python",
   "pygments_lexer": "ipython2",
   "version": "2.7.6"
  }
 },
 "nbformat": 4,
 "nbformat_minor": 0
}