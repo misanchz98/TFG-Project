{
 "cells": [
  {
   "cell_type": "markdown",
   "source": [
    "# 1. Importación de paquetes"
   ],
   "metadata": {
    "collapsed": false,
    "pycharm": {
     "name": "#%% md\n"
    }
   }
  },
  {
   "cell_type": "code",
   "execution_count": 136,
   "outputs": [],
   "source": [
    "#Import packages\n",
    "from modules import preprocess\n",
    "from modules import training"
   ],
   "metadata": {
    "collapsed": false,
    "pycharm": {
     "name": "#%%\n"
    }
   }
  },
  {
   "cell_type": "markdown",
   "source": [
    "# 2. Preprocesamiento del *dataset*: [Room Occupancy Estimation Data Set](https://www.kaggle.com/ananthr1/room-occupancy-estimation-data-set)"
   ],
   "metadata": {
    "collapsed": false,
    "pycharm": {
     "name": "#%% md\n"
    }
   }
  },
  {
   "cell_type": "markdown",
   "source": [
    "## Paso 1: Lectura del *dataset* y obtención de datos"
   ],
   "metadata": {
    "collapsed": false,
    "pycharm": {
     "name": "#%% md\n"
    }
   }
  },
  {
   "cell_type": "code",
   "execution_count": 137,
   "outputs": [
    {
     "data": {
      "text/plain": "(10129, 19)"
     },
     "execution_count": 137,
     "metadata": {},
     "output_type": "execute_result"
    }
   ],
   "source": [
    "df = preprocess.load_csv_data('Occupancy_Estimation.csv')\n",
    "df.shape"
   ],
   "metadata": {
    "collapsed": false,
    "pycharm": {
     "name": "#%%\n"
    }
   }
  },
  {
   "cell_type": "code",
   "execution_count": 138,
   "outputs": [
    {
     "data": {
      "text/plain": "         Date      Time  S1_Temp  S2_Temp  S3_Temp  S4_Temp  S1_Light  \\\n0  2017/12/22  10:49:41    24.94    24.75    24.56    25.38       121   \n1  2017/12/22  10:50:12    24.94    24.75    24.56    25.44       121   \n2  2017/12/22  10:50:42    25.00    24.75    24.50    25.44       121   \n3  2017/12/22  10:51:13    25.00    24.75    24.56    25.44       121   \n4  2017/12/22  10:51:44    25.00    24.75    24.56    25.44       121   \n\n   S2_Light  S3_Light  S4_Light  S1_Sound  S2_Sound  S3_Sound  S4_Sound  \\\n0        34        53        40      0.08      0.19      0.06      0.06   \n1        33        53        40      0.93      0.05      0.06      0.06   \n2        34        53        40      0.43      0.11      0.08      0.06   \n3        34        53        40      0.41      0.10      0.10      0.09   \n4        34        54        40      0.18      0.06      0.06      0.06   \n\n   S5_CO2  S5_CO2_Slope  S6_PIR  S7_PIR  Room_Occupancy_Count  \n0     390      0.769231       0       0                     1  \n1     390      0.646154       0       0                     1  \n2     390      0.519231       0       0                     1  \n3     390      0.388462       0       0                     1  \n4     390      0.253846       0       0                     1  ",
      "text/html": "<div>\n<style scoped>\n    .dataframe tbody tr th:only-of-type {\n        vertical-align: middle;\n    }\n\n    .dataframe tbody tr th {\n        vertical-align: top;\n    }\n\n    .dataframe thead th {\n        text-align: right;\n    }\n</style>\n<table border=\"1\" class=\"dataframe\">\n  <thead>\n    <tr style=\"text-align: right;\">\n      <th></th>\n      <th>Date</th>\n      <th>Time</th>\n      <th>S1_Temp</th>\n      <th>S2_Temp</th>\n      <th>S3_Temp</th>\n      <th>S4_Temp</th>\n      <th>S1_Light</th>\n      <th>S2_Light</th>\n      <th>S3_Light</th>\n      <th>S4_Light</th>\n      <th>S1_Sound</th>\n      <th>S2_Sound</th>\n      <th>S3_Sound</th>\n      <th>S4_Sound</th>\n      <th>S5_CO2</th>\n      <th>S5_CO2_Slope</th>\n      <th>S6_PIR</th>\n      <th>S7_PIR</th>\n      <th>Room_Occupancy_Count</th>\n    </tr>\n  </thead>\n  <tbody>\n    <tr>\n      <th>0</th>\n      <td>2017/12/22</td>\n      <td>10:49:41</td>\n      <td>24.94</td>\n      <td>24.75</td>\n      <td>24.56</td>\n      <td>25.38</td>\n      <td>121</td>\n      <td>34</td>\n      <td>53</td>\n      <td>40</td>\n      <td>0.08</td>\n      <td>0.19</td>\n      <td>0.06</td>\n      <td>0.06</td>\n      <td>390</td>\n      <td>0.769231</td>\n      <td>0</td>\n      <td>0</td>\n      <td>1</td>\n    </tr>\n    <tr>\n      <th>1</th>\n      <td>2017/12/22</td>\n      <td>10:50:12</td>\n      <td>24.94</td>\n      <td>24.75</td>\n      <td>24.56</td>\n      <td>25.44</td>\n      <td>121</td>\n      <td>33</td>\n      <td>53</td>\n      <td>40</td>\n      <td>0.93</td>\n      <td>0.05</td>\n      <td>0.06</td>\n      <td>0.06</td>\n      <td>390</td>\n      <td>0.646154</td>\n      <td>0</td>\n      <td>0</td>\n      <td>1</td>\n    </tr>\n    <tr>\n      <th>2</th>\n      <td>2017/12/22</td>\n      <td>10:50:42</td>\n      <td>25.00</td>\n      <td>24.75</td>\n      <td>24.50</td>\n      <td>25.44</td>\n      <td>121</td>\n      <td>34</td>\n      <td>53</td>\n      <td>40</td>\n      <td>0.43</td>\n      <td>0.11</td>\n      <td>0.08</td>\n      <td>0.06</td>\n      <td>390</td>\n      <td>0.519231</td>\n      <td>0</td>\n      <td>0</td>\n      <td>1</td>\n    </tr>\n    <tr>\n      <th>3</th>\n      <td>2017/12/22</td>\n      <td>10:51:13</td>\n      <td>25.00</td>\n      <td>24.75</td>\n      <td>24.56</td>\n      <td>25.44</td>\n      <td>121</td>\n      <td>34</td>\n      <td>53</td>\n      <td>40</td>\n      <td>0.41</td>\n      <td>0.10</td>\n      <td>0.10</td>\n      <td>0.09</td>\n      <td>390</td>\n      <td>0.388462</td>\n      <td>0</td>\n      <td>0</td>\n      <td>1</td>\n    </tr>\n    <tr>\n      <th>4</th>\n      <td>2017/12/22</td>\n      <td>10:51:44</td>\n      <td>25.00</td>\n      <td>24.75</td>\n      <td>24.56</td>\n      <td>25.44</td>\n      <td>121</td>\n      <td>34</td>\n      <td>54</td>\n      <td>40</td>\n      <td>0.18</td>\n      <td>0.06</td>\n      <td>0.06</td>\n      <td>0.06</td>\n      <td>390</td>\n      <td>0.253846</td>\n      <td>0</td>\n      <td>0</td>\n      <td>1</td>\n    </tr>\n  </tbody>\n</table>\n</div>"
     },
     "execution_count": 138,
     "metadata": {},
     "output_type": "execute_result"
    }
   ],
   "source": [
    "df.head()"
   ],
   "metadata": {
    "collapsed": false,
    "pycharm": {
     "name": "#%%\n"
    }
   }
  },
  {
   "cell_type": "markdown",
   "source": [
    "## Paso 2: Recodificación de la columna *RoomOccupancyCount*\n",
    "\n",
    "En este caso, la columna que contiene la variable de salida (*RoomOccupancyCount*) cuenta el número de personas en la sala. Para simplificar, nuestro objetivo va a ser detectar si la sala está vacía o, en cambio, hay alguien (no el número exacto de personas).\n",
    "\n",
    "Por lo tanto, se **recodificará cualquier valor mayor que 0 en esa columna como 1**, de tal forma que la variable de salida sea binaria:\n",
    "- 0 -> ausencia.\n",
    "- 1 -> presencia."
   ],
   "metadata": {
    "collapsed": false,
    "pycharm": {
     "name": "#%% md\n"
    }
   }
  },
  {
   "cell_type": "code",
   "execution_count": 139,
   "outputs": [
    {
     "data": {
      "text/plain": "0        1\n1        1\n2        1\n3        1\n4        1\n        ..\n10124    0\n10125    0\n10126    0\n10127    0\n10128    0\nName: Room_Occupancy_Count, Length: 10129, dtype: int64"
     },
     "execution_count": 139,
     "metadata": {},
     "output_type": "execute_result"
    }
   ],
   "source": [
    "# Show \"Room_Occupancy_Count\" before processing\n",
    "df[\"Room_Occupancy_Count\"]"
   ],
   "metadata": {
    "collapsed": false,
    "pycharm": {
     "name": "#%%\n"
    }
   }
  },
  {
   "cell_type": "code",
   "execution_count": 140,
   "outputs": [
    {
     "data": {
      "text/plain": "0        1\n1        1\n2        1\n3        1\n4        1\n        ..\n10124    0\n10125    0\n10126    0\n10127    0\n10128    0\nName: Room_Occupancy_Count, Length: 10129, dtype: int32"
     },
     "execution_count": 140,
     "metadata": {},
     "output_type": "execute_result"
    }
   ],
   "source": [
    "#Process \"Room_Occupancy_Count\"\n",
    "preprocess.recode_dataset_output(df)\n",
    "\n",
    "# Show \"Room_Occupancy_Count\" after processing\n",
    "df[\"Room_Occupancy_Count\"]"
   ],
   "metadata": {
    "collapsed": false,
    "pycharm": {
     "name": "#%%\n"
    }
   }
  },
  {
   "cell_type": "markdown",
   "source": [
    "## Paso 3: Eliminación de las columnas temporales *Date* y *Time*\n",
    "\n",
    "Respecto a los datos ofrecidos por las columas *Date* y *Time*, vamos a filtrarlos y dejarlos fuera del proceso. Ya que, aunque los incluyeramos (por ejemplo, juntando ambas partes en una sola columna y convirtiéndolo a formato 'epoch', como long int), los valores de muestras sucesivas de esa columna estarían totalmente correlados entre sí y, como consecuencia, fastidiaríamos a la mayoría de algoritmos que vamos a emplear posteriormente.\n",
    "\n",
    "Se debe tener en cuenta que no nos estamos olvidando de la información temporal para considerar como si cada valor muestreado (fila de la tabla) fuese independiente de las demás filas. Sabemos que eso no es así, pero estamos considerando que esa información temporal no nos ofrece valor añadido para predecir si la habitación está ocupada o vacía. En caso contrario, se tendrían que usar modelos bastante más complicados para considerar esa relación temporal que indica que, en realidad, las muestras de dos filas adyacentes son consecutivas en el tiempo."
   ],
   "metadata": {
    "collapsed": false,
    "pycharm": {
     "name": "#%% md\n"
    }
   }
  },
  {
   "cell_type": "code",
   "execution_count": 141,
   "outputs": [
    {
     "data": {
      "text/plain": "   S1_Temp  S2_Temp  S3_Temp  S4_Temp  S1_Light  S2_Light  S3_Light  S4_Light  \\\n0    24.94    24.75    24.56    25.38       121        34        53        40   \n1    24.94    24.75    24.56    25.44       121        33        53        40   \n2    25.00    24.75    24.50    25.44       121        34        53        40   \n3    25.00    24.75    24.56    25.44       121        34        53        40   \n4    25.00    24.75    24.56    25.44       121        34        54        40   \n\n   S1_Sound  S2_Sound  S3_Sound  S4_Sound  S5_CO2  S5_CO2_Slope  S6_PIR  \\\n0      0.08      0.19      0.06      0.06     390      0.769231       0   \n1      0.93      0.05      0.06      0.06     390      0.646154       0   \n2      0.43      0.11      0.08      0.06     390      0.519231       0   \n3      0.41      0.10      0.10      0.09     390      0.388462       0   \n4      0.18      0.06      0.06      0.06     390      0.253846       0   \n\n   S7_PIR  Room_Occupancy_Count  \n0       0                     1  \n1       0                     1  \n2       0                     1  \n3       0                     1  \n4       0                     1  ",
      "text/html": "<div>\n<style scoped>\n    .dataframe tbody tr th:only-of-type {\n        vertical-align: middle;\n    }\n\n    .dataframe tbody tr th {\n        vertical-align: top;\n    }\n\n    .dataframe thead th {\n        text-align: right;\n    }\n</style>\n<table border=\"1\" class=\"dataframe\">\n  <thead>\n    <tr style=\"text-align: right;\">\n      <th></th>\n      <th>S1_Temp</th>\n      <th>S2_Temp</th>\n      <th>S3_Temp</th>\n      <th>S4_Temp</th>\n      <th>S1_Light</th>\n      <th>S2_Light</th>\n      <th>S3_Light</th>\n      <th>S4_Light</th>\n      <th>S1_Sound</th>\n      <th>S2_Sound</th>\n      <th>S3_Sound</th>\n      <th>S4_Sound</th>\n      <th>S5_CO2</th>\n      <th>S5_CO2_Slope</th>\n      <th>S6_PIR</th>\n      <th>S7_PIR</th>\n      <th>Room_Occupancy_Count</th>\n    </tr>\n  </thead>\n  <tbody>\n    <tr>\n      <th>0</th>\n      <td>24.94</td>\n      <td>24.75</td>\n      <td>24.56</td>\n      <td>25.38</td>\n      <td>121</td>\n      <td>34</td>\n      <td>53</td>\n      <td>40</td>\n      <td>0.08</td>\n      <td>0.19</td>\n      <td>0.06</td>\n      <td>0.06</td>\n      <td>390</td>\n      <td>0.769231</td>\n      <td>0</td>\n      <td>0</td>\n      <td>1</td>\n    </tr>\n    <tr>\n      <th>1</th>\n      <td>24.94</td>\n      <td>24.75</td>\n      <td>24.56</td>\n      <td>25.44</td>\n      <td>121</td>\n      <td>33</td>\n      <td>53</td>\n      <td>40</td>\n      <td>0.93</td>\n      <td>0.05</td>\n      <td>0.06</td>\n      <td>0.06</td>\n      <td>390</td>\n      <td>0.646154</td>\n      <td>0</td>\n      <td>0</td>\n      <td>1</td>\n    </tr>\n    <tr>\n      <th>2</th>\n      <td>25.00</td>\n      <td>24.75</td>\n      <td>24.50</td>\n      <td>25.44</td>\n      <td>121</td>\n      <td>34</td>\n      <td>53</td>\n      <td>40</td>\n      <td>0.43</td>\n      <td>0.11</td>\n      <td>0.08</td>\n      <td>0.06</td>\n      <td>390</td>\n      <td>0.519231</td>\n      <td>0</td>\n      <td>0</td>\n      <td>1</td>\n    </tr>\n    <tr>\n      <th>3</th>\n      <td>25.00</td>\n      <td>24.75</td>\n      <td>24.56</td>\n      <td>25.44</td>\n      <td>121</td>\n      <td>34</td>\n      <td>53</td>\n      <td>40</td>\n      <td>0.41</td>\n      <td>0.10</td>\n      <td>0.10</td>\n      <td>0.09</td>\n      <td>390</td>\n      <td>0.388462</td>\n      <td>0</td>\n      <td>0</td>\n      <td>1</td>\n    </tr>\n    <tr>\n      <th>4</th>\n      <td>25.00</td>\n      <td>24.75</td>\n      <td>24.56</td>\n      <td>25.44</td>\n      <td>121</td>\n      <td>34</td>\n      <td>54</td>\n      <td>40</td>\n      <td>0.18</td>\n      <td>0.06</td>\n      <td>0.06</td>\n      <td>0.06</td>\n      <td>390</td>\n      <td>0.253846</td>\n      <td>0</td>\n      <td>0</td>\n      <td>1</td>\n    </tr>\n  </tbody>\n</table>\n</div>"
     },
     "execution_count": 141,
     "metadata": {},
     "output_type": "execute_result"
    }
   ],
   "source": [
    "# Filter Date and Time columns\n",
    "preprocess.remove_time_columns(df)\n",
    "\n",
    "# Show the result\n",
    "df.head()"
   ],
   "metadata": {
    "collapsed": false,
    "pycharm": {
     "name": "#%%\n"
    }
   }
  },
  {
   "cell_type": "markdown",
   "source": [
    "## Paso 4: División del *dataset* en *train* y *test*"
   ],
   "metadata": {
    "collapsed": false,
    "pycharm": {
     "name": "#%% md\n"
    }
   }
  },
  {
   "cell_type": "code",
   "execution_count": 142,
   "outputs": [
    {
     "data": {
      "text/plain": "((7596, 17), (2533, 17))"
     },
     "execution_count": 142,
     "metadata": {},
     "output_type": "execute_result"
    }
   ],
   "source": [
    "# Split dataset into train and test\n",
    "train_df, test_df = preprocess.split_dataset(df)\n",
    "train_df.shape, test_df.shape"
   ],
   "metadata": {
    "collapsed": false,
    "pycharm": {
     "name": "#%%\n"
    }
   }
  },
  {
   "cell_type": "code",
   "execution_count": 143,
   "outputs": [
    {
     "data": {
      "text/plain": "      S1_Temp  S2_Temp  S3_Temp  S4_Temp  S1_Light  S2_Light  S3_Light  \\\n4647    25.25    25.31    24.75    25.63         0         0         0   \n804     26.25    26.31    26.00    26.31       149       234       178   \n4287    25.38    25.44    24.94    25.75         0         0         0   \n5616    25.19    25.19    24.94    25.88        15        17        67   \n2469    25.06    25.00    24.50    25.38         6         6        31   \n\n      S4_Light  S1_Sound  S2_Sound  S3_Sound  S4_Sound  S5_CO2  S5_CO2_Slope  \\\n4647         0      0.06      0.05      0.06      0.06     360      0.000000   \n804         10      0.50      0.35      2.04      0.47    1015      2.538462   \n4287         0      0.07      0.05      0.06      0.06     370      0.000000   \n5616        47      0.08      0.05      0.06      0.08     355      0.000000   \n2469        21      0.07      0.05      0.06      0.05     360      0.000000   \n\n      S6_PIR  S7_PIR  Room_Occupancy_Count  \n4647       0       0                     0  \n804        1       1                     1  \n4287       0       0                     0  \n5616       0       0                     0  \n2469       0       0                     0  ",
      "text/html": "<div>\n<style scoped>\n    .dataframe tbody tr th:only-of-type {\n        vertical-align: middle;\n    }\n\n    .dataframe tbody tr th {\n        vertical-align: top;\n    }\n\n    .dataframe thead th {\n        text-align: right;\n    }\n</style>\n<table border=\"1\" class=\"dataframe\">\n  <thead>\n    <tr style=\"text-align: right;\">\n      <th></th>\n      <th>S1_Temp</th>\n      <th>S2_Temp</th>\n      <th>S3_Temp</th>\n      <th>S4_Temp</th>\n      <th>S1_Light</th>\n      <th>S2_Light</th>\n      <th>S3_Light</th>\n      <th>S4_Light</th>\n      <th>S1_Sound</th>\n      <th>S2_Sound</th>\n      <th>S3_Sound</th>\n      <th>S4_Sound</th>\n      <th>S5_CO2</th>\n      <th>S5_CO2_Slope</th>\n      <th>S6_PIR</th>\n      <th>S7_PIR</th>\n      <th>Room_Occupancy_Count</th>\n    </tr>\n  </thead>\n  <tbody>\n    <tr>\n      <th>4647</th>\n      <td>25.25</td>\n      <td>25.31</td>\n      <td>24.75</td>\n      <td>25.63</td>\n      <td>0</td>\n      <td>0</td>\n      <td>0</td>\n      <td>0</td>\n      <td>0.06</td>\n      <td>0.05</td>\n      <td>0.06</td>\n      <td>0.06</td>\n      <td>360</td>\n      <td>0.000000</td>\n      <td>0</td>\n      <td>0</td>\n      <td>0</td>\n    </tr>\n    <tr>\n      <th>804</th>\n      <td>26.25</td>\n      <td>26.31</td>\n      <td>26.00</td>\n      <td>26.31</td>\n      <td>149</td>\n      <td>234</td>\n      <td>178</td>\n      <td>10</td>\n      <td>0.50</td>\n      <td>0.35</td>\n      <td>2.04</td>\n      <td>0.47</td>\n      <td>1015</td>\n      <td>2.538462</td>\n      <td>1</td>\n      <td>1</td>\n      <td>1</td>\n    </tr>\n    <tr>\n      <th>4287</th>\n      <td>25.38</td>\n      <td>25.44</td>\n      <td>24.94</td>\n      <td>25.75</td>\n      <td>0</td>\n      <td>0</td>\n      <td>0</td>\n      <td>0</td>\n      <td>0.07</td>\n      <td>0.05</td>\n      <td>0.06</td>\n      <td>0.06</td>\n      <td>370</td>\n      <td>0.000000</td>\n      <td>0</td>\n      <td>0</td>\n      <td>0</td>\n    </tr>\n    <tr>\n      <th>5616</th>\n      <td>25.19</td>\n      <td>25.19</td>\n      <td>24.94</td>\n      <td>25.88</td>\n      <td>15</td>\n      <td>17</td>\n      <td>67</td>\n      <td>47</td>\n      <td>0.08</td>\n      <td>0.05</td>\n      <td>0.06</td>\n      <td>0.08</td>\n      <td>355</td>\n      <td>0.000000</td>\n      <td>0</td>\n      <td>0</td>\n      <td>0</td>\n    </tr>\n    <tr>\n      <th>2469</th>\n      <td>25.06</td>\n      <td>25.00</td>\n      <td>24.50</td>\n      <td>25.38</td>\n      <td>6</td>\n      <td>6</td>\n      <td>31</td>\n      <td>21</td>\n      <td>0.07</td>\n      <td>0.05</td>\n      <td>0.06</td>\n      <td>0.05</td>\n      <td>360</td>\n      <td>0.000000</td>\n      <td>0</td>\n      <td>0</td>\n      <td>0</td>\n    </tr>\n  </tbody>\n</table>\n</div>"
     },
     "execution_count": 143,
     "metadata": {},
     "output_type": "execute_result"
    }
   ],
   "source": [
    "train_df.head()"
   ],
   "metadata": {
    "collapsed": false,
    "pycharm": {
     "name": "#%%\n"
    }
   }
  },
  {
   "cell_type": "code",
   "execution_count": 144,
   "outputs": [
    {
     "data": {
      "text/plain": "       S1_Temp  S2_Temp  S3_Temp  S4_Temp  S1_Light  S2_Light  S3_Light  \\\n10055    25.13    25.06    24.63    25.13         6         6        30   \n5531     25.19    25.19    24.88    25.81        12        14        55   \n9401     25.19    25.19    24.75    25.25         0         0         0   \n9468     25.19    25.19    24.69    25.31         0         0         0   \n3522     26.19    26.13    25.81    26.38       150       237       186   \n\n       S4_Light  S1_Sound  S2_Sound  S3_Sound  S4_Sound  S5_CO2  S5_CO2_Slope  \\\n10055        20      0.08      0.04      0.05      0.09     345      0.000000   \n5531         39      0.09      0.10      0.08      0.10     355      0.000000   \n9401          0      0.07      0.05      0.07      0.08     345      0.000000   \n9468          0      0.07      0.05      0.06      0.08     345      0.000000   \n3522         11      0.55      0.10      0.08      0.07     795      1.169231   \n\n       S6_PIR  S7_PIR  Room_Occupancy_Count  \n10055       0       0                     0  \n5531        0       0                     0  \n9401        0       0                     0  \n9468        0       0                     0  \n3522        1       0                     1  ",
      "text/html": "<div>\n<style scoped>\n    .dataframe tbody tr th:only-of-type {\n        vertical-align: middle;\n    }\n\n    .dataframe tbody tr th {\n        vertical-align: top;\n    }\n\n    .dataframe thead th {\n        text-align: right;\n    }\n</style>\n<table border=\"1\" class=\"dataframe\">\n  <thead>\n    <tr style=\"text-align: right;\">\n      <th></th>\n      <th>S1_Temp</th>\n      <th>S2_Temp</th>\n      <th>S3_Temp</th>\n      <th>S4_Temp</th>\n      <th>S1_Light</th>\n      <th>S2_Light</th>\n      <th>S3_Light</th>\n      <th>S4_Light</th>\n      <th>S1_Sound</th>\n      <th>S2_Sound</th>\n      <th>S3_Sound</th>\n      <th>S4_Sound</th>\n      <th>S5_CO2</th>\n      <th>S5_CO2_Slope</th>\n      <th>S6_PIR</th>\n      <th>S7_PIR</th>\n      <th>Room_Occupancy_Count</th>\n    </tr>\n  </thead>\n  <tbody>\n    <tr>\n      <th>10055</th>\n      <td>25.13</td>\n      <td>25.06</td>\n      <td>24.63</td>\n      <td>25.13</td>\n      <td>6</td>\n      <td>6</td>\n      <td>30</td>\n      <td>20</td>\n      <td>0.08</td>\n      <td>0.04</td>\n      <td>0.05</td>\n      <td>0.09</td>\n      <td>345</td>\n      <td>0.000000</td>\n      <td>0</td>\n      <td>0</td>\n      <td>0</td>\n    </tr>\n    <tr>\n      <th>5531</th>\n      <td>25.19</td>\n      <td>25.19</td>\n      <td>24.88</td>\n      <td>25.81</td>\n      <td>12</td>\n      <td>14</td>\n      <td>55</td>\n      <td>39</td>\n      <td>0.09</td>\n      <td>0.10</td>\n      <td>0.08</td>\n      <td>0.10</td>\n      <td>355</td>\n      <td>0.000000</td>\n      <td>0</td>\n      <td>0</td>\n      <td>0</td>\n    </tr>\n    <tr>\n      <th>9401</th>\n      <td>25.19</td>\n      <td>25.19</td>\n      <td>24.75</td>\n      <td>25.25</td>\n      <td>0</td>\n      <td>0</td>\n      <td>0</td>\n      <td>0</td>\n      <td>0.07</td>\n      <td>0.05</td>\n      <td>0.07</td>\n      <td>0.08</td>\n      <td>345</td>\n      <td>0.000000</td>\n      <td>0</td>\n      <td>0</td>\n      <td>0</td>\n    </tr>\n    <tr>\n      <th>9468</th>\n      <td>25.19</td>\n      <td>25.19</td>\n      <td>24.69</td>\n      <td>25.31</td>\n      <td>0</td>\n      <td>0</td>\n      <td>0</td>\n      <td>0</td>\n      <td>0.07</td>\n      <td>0.05</td>\n      <td>0.06</td>\n      <td>0.08</td>\n      <td>345</td>\n      <td>0.000000</td>\n      <td>0</td>\n      <td>0</td>\n      <td>0</td>\n    </tr>\n    <tr>\n      <th>3522</th>\n      <td>26.19</td>\n      <td>26.13</td>\n      <td>25.81</td>\n      <td>26.38</td>\n      <td>150</td>\n      <td>237</td>\n      <td>186</td>\n      <td>11</td>\n      <td>0.55</td>\n      <td>0.10</td>\n      <td>0.08</td>\n      <td>0.07</td>\n      <td>795</td>\n      <td>1.169231</td>\n      <td>1</td>\n      <td>0</td>\n      <td>1</td>\n    </tr>\n  </tbody>\n</table>\n</div>"
     },
     "execution_count": 144,
     "metadata": {},
     "output_type": "execute_result"
    }
   ],
   "source": [
    "test_df.head()"
   ],
   "metadata": {
    "collapsed": false,
    "pycharm": {
     "name": "#%%\n"
    }
   }
  },
  {
   "cell_type": "markdown",
   "source": [
    "## Paso 5: División del *dataset* de entrenamiento en *features* y *output*"
   ],
   "metadata": {
    "collapsed": false,
    "pycharm": {
     "name": "#%% md\n"
    }
   }
  },
  {
   "cell_type": "code",
   "execution_count": 145,
   "outputs": [],
   "source": [
    "# Get features columns\n",
    "X = preprocess.get_features(train_df)\n",
    "\n",
    "# Get output column\n",
    "y = preprocess.get_output(train_df)"
   ],
   "metadata": {
    "collapsed": false,
    "pycharm": {
     "name": "#%%\n"
    }
   }
  },
  {
   "cell_type": "code",
   "execution_count": 146,
   "outputs": [
    {
     "data": {
      "text/plain": "      S1_Temp  S2_Temp  S3_Temp  S4_Temp  S1_Light  S2_Light  S3_Light  \\\n4647    25.25    25.31    24.75    25.63         0         0         0   \n804     26.25    26.31    26.00    26.31       149       234       178   \n4287    25.38    25.44    24.94    25.75         0         0         0   \n5616    25.19    25.19    24.94    25.88        15        17        67   \n2469    25.06    25.00    24.50    25.38         6         6        31   \n\n      S4_Light  S1_Sound  S2_Sound  S3_Sound  S4_Sound  S5_CO2  S5_CO2_Slope  \\\n4647         0      0.06      0.05      0.06      0.06     360      0.000000   \n804         10      0.50      0.35      2.04      0.47    1015      2.538462   \n4287         0      0.07      0.05      0.06      0.06     370      0.000000   \n5616        47      0.08      0.05      0.06      0.08     355      0.000000   \n2469        21      0.07      0.05      0.06      0.05     360      0.000000   \n\n      S6_PIR  S7_PIR  \n4647       0       0  \n804        1       1  \n4287       0       0  \n5616       0       0  \n2469       0       0  ",
      "text/html": "<div>\n<style scoped>\n    .dataframe tbody tr th:only-of-type {\n        vertical-align: middle;\n    }\n\n    .dataframe tbody tr th {\n        vertical-align: top;\n    }\n\n    .dataframe thead th {\n        text-align: right;\n    }\n</style>\n<table border=\"1\" class=\"dataframe\">\n  <thead>\n    <tr style=\"text-align: right;\">\n      <th></th>\n      <th>S1_Temp</th>\n      <th>S2_Temp</th>\n      <th>S3_Temp</th>\n      <th>S4_Temp</th>\n      <th>S1_Light</th>\n      <th>S2_Light</th>\n      <th>S3_Light</th>\n      <th>S4_Light</th>\n      <th>S1_Sound</th>\n      <th>S2_Sound</th>\n      <th>S3_Sound</th>\n      <th>S4_Sound</th>\n      <th>S5_CO2</th>\n      <th>S5_CO2_Slope</th>\n      <th>S6_PIR</th>\n      <th>S7_PIR</th>\n    </tr>\n  </thead>\n  <tbody>\n    <tr>\n      <th>4647</th>\n      <td>25.25</td>\n      <td>25.31</td>\n      <td>24.75</td>\n      <td>25.63</td>\n      <td>0</td>\n      <td>0</td>\n      <td>0</td>\n      <td>0</td>\n      <td>0.06</td>\n      <td>0.05</td>\n      <td>0.06</td>\n      <td>0.06</td>\n      <td>360</td>\n      <td>0.000000</td>\n      <td>0</td>\n      <td>0</td>\n    </tr>\n    <tr>\n      <th>804</th>\n      <td>26.25</td>\n      <td>26.31</td>\n      <td>26.00</td>\n      <td>26.31</td>\n      <td>149</td>\n      <td>234</td>\n      <td>178</td>\n      <td>10</td>\n      <td>0.50</td>\n      <td>0.35</td>\n      <td>2.04</td>\n      <td>0.47</td>\n      <td>1015</td>\n      <td>2.538462</td>\n      <td>1</td>\n      <td>1</td>\n    </tr>\n    <tr>\n      <th>4287</th>\n      <td>25.38</td>\n      <td>25.44</td>\n      <td>24.94</td>\n      <td>25.75</td>\n      <td>0</td>\n      <td>0</td>\n      <td>0</td>\n      <td>0</td>\n      <td>0.07</td>\n      <td>0.05</td>\n      <td>0.06</td>\n      <td>0.06</td>\n      <td>370</td>\n      <td>0.000000</td>\n      <td>0</td>\n      <td>0</td>\n    </tr>\n    <tr>\n      <th>5616</th>\n      <td>25.19</td>\n      <td>25.19</td>\n      <td>24.94</td>\n      <td>25.88</td>\n      <td>15</td>\n      <td>17</td>\n      <td>67</td>\n      <td>47</td>\n      <td>0.08</td>\n      <td>0.05</td>\n      <td>0.06</td>\n      <td>0.08</td>\n      <td>355</td>\n      <td>0.000000</td>\n      <td>0</td>\n      <td>0</td>\n    </tr>\n    <tr>\n      <th>2469</th>\n      <td>25.06</td>\n      <td>25.00</td>\n      <td>24.50</td>\n      <td>25.38</td>\n      <td>6</td>\n      <td>6</td>\n      <td>31</td>\n      <td>21</td>\n      <td>0.07</td>\n      <td>0.05</td>\n      <td>0.06</td>\n      <td>0.05</td>\n      <td>360</td>\n      <td>0.000000</td>\n      <td>0</td>\n      <td>0</td>\n    </tr>\n  </tbody>\n</table>\n</div>"
     },
     "execution_count": 146,
     "metadata": {},
     "output_type": "execute_result"
    }
   ],
   "source": [
    "X.head()"
   ],
   "metadata": {
    "collapsed": false,
    "pycharm": {
     "name": "#%%\n"
    }
   }
  },
  {
   "cell_type": "code",
   "execution_count": 147,
   "outputs": [
    {
     "data": {
      "text/plain": "4647    0\n804     1\n4287    0\n5616    0\n2469    0\nName: Room_Occupancy_Count, dtype: int32"
     },
     "execution_count": 147,
     "metadata": {},
     "output_type": "execute_result"
    }
   ],
   "source": [
    "y.head()"
   ],
   "metadata": {
    "collapsed": false,
    "pycharm": {
     "name": "#%%\n"
    }
   }
  },
  {
   "cell_type": "markdown",
   "source": [
    "# 2. Entrenamiento y seguimiento de la huella de carbono con **CodeCarbon**"
   ],
   "metadata": {
    "collapsed": false,
    "pycharm": {
     "name": "#%% md\n"
    }
   }
  },
  {
   "cell_type": "code",
   "execution_count": 148,
   "outputs": [
    {
     "name": "stderr",
     "output_type": "stream",
     "text": [
      "[codecarbon INFO @ 11:31:57] [setup] RAM Tracking...\n",
      "[codecarbon INFO @ 11:31:57] [setup] GPU Tracking...\n",
      "[codecarbon INFO @ 11:31:57] Tracking Nvidia GPU via pynvml\n",
      "[codecarbon INFO @ 11:31:57] [setup] CPU Tracking...\n",
      "[codecarbon WARNING @ 11:31:57] No CPU tracking mode found. Falling back on CPU constant mode.\n",
      "[codecarbon INFO @ 11:31:59] CPU Model on constant consumption mode: Intel(R) Core(TM) i5-9400F CPU @ 2.90GHz\n",
      "[codecarbon INFO @ 11:31:59] >>> Tracker's metadata:\n",
      "[codecarbon INFO @ 11:31:59]   Platform system: Windows-10-10.0.19044-SP0\n",
      "[codecarbon INFO @ 11:31:59]   Python version: 3.10.4\n",
      "[codecarbon INFO @ 11:31:59]   Available RAM : 7.935 GB\n",
      "[codecarbon INFO @ 11:31:59]   CPU count: 6\n",
      "[codecarbon INFO @ 11:31:59]   CPU model: Intel(R) Core(TM) i5-9400F CPU @ 2.90GHz\n",
      "[codecarbon INFO @ 11:31:59]   GPU count: 1\n",
      "[codecarbon INFO @ 11:31:59]   GPU model: 1 x NVIDIA GeForce GT 710\n",
      "[codecarbon INFO @ 11:31:59] Energy consumed for RAM : 0.000000 kWh. RAM Power : 2.97562837600708 W\n",
      "[codecarbon INFO @ 11:31:59] Energy consumed for all GPUs : 0.000000 kWh. All GPUs Power : 0.0 W\n",
      "[codecarbon INFO @ 11:31:59] Energy consumed for all CPUs : 0.000001 kWh. All CPUs Power : 32.5 W\n",
      "[codecarbon INFO @ 11:31:59] 0.000001 kWh of electricity used since the begining.\n"
     ]
    },
    {
     "name": "stdout",
     "output_type": "stream",
     "text": [
      "Emissions: 1.190639492866931e-07 kg\n"
     ]
    }
   ],
   "source": [
    "# Logistic Regression\n",
    "training.train_LR_codecarbon(X,y)"
   ],
   "metadata": {
    "collapsed": false,
    "pycharm": {
     "name": "#%%\n"
    }
   }
  },
  {
   "cell_type": "code",
   "execution_count": 149,
   "outputs": [
    {
     "name": "stderr",
     "output_type": "stream",
     "text": [
      "[codecarbon INFO @ 11:31:59] [setup] RAM Tracking...\n",
      "[codecarbon INFO @ 11:31:59] [setup] GPU Tracking...\n",
      "[codecarbon INFO @ 11:31:59] Tracking Nvidia GPU via pynvml\n",
      "[codecarbon INFO @ 11:31:59] [setup] CPU Tracking...\n",
      "[codecarbon WARNING @ 11:31:59] No CPU tracking mode found. Falling back on CPU constant mode.\n",
      "[codecarbon INFO @ 11:32:01] CPU Model on constant consumption mode: Intel(R) Core(TM) i5-9400F CPU @ 2.90GHz\n",
      "[codecarbon INFO @ 11:32:01] >>> Tracker's metadata:\n",
      "[codecarbon INFO @ 11:32:01]   Platform system: Windows-10-10.0.19044-SP0\n",
      "[codecarbon INFO @ 11:32:01]   Python version: 3.10.4\n",
      "[codecarbon INFO @ 11:32:01]   Available RAM : 7.935 GB\n",
      "[codecarbon INFO @ 11:32:01]   CPU count: 6\n",
      "[codecarbon INFO @ 11:32:01]   CPU model: Intel(R) Core(TM) i5-9400F CPU @ 2.90GHz\n",
      "[codecarbon INFO @ 11:32:01]   GPU count: 1\n",
      "[codecarbon INFO @ 11:32:01]   GPU model: 1 x NVIDIA GeForce GT 710\n",
      "[codecarbon INFO @ 11:32:02] Energy consumed for RAM : 0.000000 kWh. RAM Power : 2.97562837600708 W\n",
      "[codecarbon INFO @ 11:32:02] Energy consumed for all GPUs : 0.000000 kWh. All GPUs Power : 0.0 W\n",
      "[codecarbon INFO @ 11:32:02] Energy consumed for all CPUs : 0.000002 kWh. All CPUs Power : 32.5 W\n",
      "[codecarbon INFO @ 11:32:02] 0.000002 kWh of electricity used since the begining.\n"
     ]
    },
    {
     "name": "stdout",
     "output_type": "stream",
     "text": [
      "Emissions: 4.2526682692106333e-07 kg\n"
     ]
    }
   ],
   "source": [
    "# Random Forest\n",
    "training.train_RF_codecarbon(X,y)"
   ],
   "metadata": {
    "collapsed": false,
    "pycharm": {
     "name": "#%%\n"
    }
   }
  },
  {
   "cell_type": "code",
   "execution_count": 150,
   "outputs": [
    {
     "name": "stderr",
     "output_type": "stream",
     "text": [
      "[codecarbon INFO @ 11:32:02] [setup] RAM Tracking...\n",
      "[codecarbon INFO @ 11:32:02] [setup] GPU Tracking...\n",
      "[codecarbon INFO @ 11:32:02] Tracking Nvidia GPU via pynvml\n",
      "[codecarbon INFO @ 11:32:02] [setup] CPU Tracking...\n",
      "[codecarbon WARNING @ 11:32:02] No CPU tracking mode found. Falling back on CPU constant mode.\n",
      "[codecarbon INFO @ 11:32:04] CPU Model on constant consumption mode: Intel(R) Core(TM) i5-9400F CPU @ 2.90GHz\n",
      "[codecarbon INFO @ 11:32:04] >>> Tracker's metadata:\n",
      "[codecarbon INFO @ 11:32:04]   Platform system: Windows-10-10.0.19044-SP0\n",
      "[codecarbon INFO @ 11:32:04]   Python version: 3.10.4\n",
      "[codecarbon INFO @ 11:32:04]   Available RAM : 7.935 GB\n",
      "[codecarbon INFO @ 11:32:04]   CPU count: 6\n",
      "[codecarbon INFO @ 11:32:04]   CPU model: Intel(R) Core(TM) i5-9400F CPU @ 2.90GHz\n",
      "[codecarbon INFO @ 11:32:04]   GPU count: 1\n",
      "[codecarbon INFO @ 11:32:04]   GPU model: 1 x NVIDIA GeForce GT 710\n",
      "C:\\Users\\INTEL I5\\miniconda3\\envs\\TFG_Project\\lib\\site-packages\\sklearn\\svm\\_base.py:1225: ConvergenceWarning: Liblinear failed to converge, increase the number of iterations.\n",
      "  warnings.warn(\n",
      "[codecarbon INFO @ 11:32:04] Energy consumed for RAM : 0.000000 kWh. RAM Power : 2.97562837600708 W\n",
      "[codecarbon INFO @ 11:32:04] Energy consumed for all GPUs : 0.000000 kWh. All GPUs Power : 0.0 W\n",
      "[codecarbon INFO @ 11:32:04] Energy consumed for all CPUs : 0.000000 kWh. All CPUs Power : 32.5 W\n",
      "[codecarbon INFO @ 11:32:04] 0.000000 kWh of electricity used since the begining.\n"
     ]
    },
    {
     "name": "stdout",
     "output_type": "stream",
     "text": [
      "Emissions: 5.616847085585006e-08 kg\n"
     ]
    }
   ],
   "source": [
    "# Linear SVC (Support Vector Machines)\n",
    "training.train_SVC_codecarbon(X,y)"
   ],
   "metadata": {
    "collapsed": false,
    "pycharm": {
     "name": "#%%\n"
    }
   }
  },
  {
   "cell_type": "code",
   "execution_count": 151,
   "outputs": [
    {
     "name": "stdout",
     "output_type": "stream",
     "text": [
      "Requirement already satisfied: experiment-impact-tracker in c:\\users\\intel i5\\miniconda3\\envs\\tfg_project\\lib\\site-packages (0.1.8)\n",
      "Requirement already satisfied: shapely in c:\\users\\intel i5\\miniconda3\\envs\\tfg_project\\lib\\site-packages (from experiment-impact-tracker) (1.8.2)\n",
      "Requirement already satisfied: bs4 in c:\\users\\intel i5\\miniconda3\\envs\\tfg_project\\lib\\site-packages (from experiment-impact-tracker) (0.0.1)\n",
      "Requirement already satisfied: arrow in c:\\users\\intel i5\\miniconda3\\envs\\tfg_project\\lib\\site-packages (from experiment-impact-tracker) (1.2.2)\n",
      "Requirement already satisfied: requests in c:\\users\\intel i5\\miniconda3\\envs\\tfg_project\\lib\\site-packages (from experiment-impact-tracker) (2.28.1)\n",
      "Requirement already satisfied: geocoder in c:\\users\\intel i5\\miniconda3\\envs\\tfg_project\\lib\\site-packages (from experiment-impact-tracker) (1.38.1)\n",
      "Requirement already satisfied: pandas>0.25.0 in c:\\users\\intel i5\\miniconda3\\envs\\tfg_project\\lib\\site-packages (from experiment-impact-tracker) (1.4.3)\n",
      "Requirement already satisfied: geopy in c:\\users\\intel i5\\miniconda3\\envs\\tfg_project\\lib\\site-packages (from experiment-impact-tracker) (2.2.0)\n",
      "Requirement already satisfied: joblib in c:\\users\\intel i5\\miniconda3\\envs\\tfg_project\\lib\\site-packages (from experiment-impact-tracker) (1.1.0)\n",
      "Requirement already satisfied: deepdiff in c:\\users\\intel i5\\miniconda3\\envs\\tfg_project\\lib\\site-packages (from experiment-impact-tracker) (5.8.1)\n",
      "Requirement already satisfied: psutil in c:\\users\\intel i5\\miniconda3\\envs\\tfg_project\\lib\\site-packages (from experiment-impact-tracker) (5.9.1)\n",
      "Requirement already satisfied: py-cpuinfo in c:\\users\\intel i5\\miniconda3\\envs\\tfg_project\\lib\\site-packages (from experiment-impact-tracker) (8.0.0)\n",
      "Requirement already satisfied: jinja2 in c:\\users\\intel i5\\miniconda3\\envs\\tfg_project\\lib\\site-packages (from experiment-impact-tracker) (3.0.3)\n",
      "Requirement already satisfied: numpy in c:\\users\\intel i5\\miniconda3\\envs\\tfg_project\\lib\\site-packages (from experiment-impact-tracker) (1.23.1)\n",
      "Requirement already satisfied: matplotlib in c:\\users\\intel i5\\miniconda3\\envs\\tfg_project\\lib\\site-packages (from experiment-impact-tracker) (3.5.2)\n",
      "Requirement already satisfied: progiter in c:\\users\\intel i5\\miniconda3\\envs\\tfg_project\\lib\\site-packages (from experiment-impact-tracker) (0.1.4)\n",
      "Requirement already satisfied: seaborn in c:\\users\\intel i5\\miniconda3\\envs\\tfg_project\\lib\\site-packages (from experiment-impact-tracker) (0.11.2)\n",
      "Requirement already satisfied: bootstrapped in c:\\users\\intel i5\\miniconda3\\envs\\tfg_project\\lib\\site-packages (from experiment-impact-tracker) (0.0.2)\n",
      "Requirement already satisfied: scipy in c:\\users\\intel i5\\miniconda3\\envs\\tfg_project\\lib\\site-packages (from experiment-impact-tracker) (1.8.1)\n",
      "Requirement already satisfied: ujson in c:\\users\\intel i5\\miniconda3\\envs\\tfg_project\\lib\\site-packages (from experiment-impact-tracker) (5.4.0)\n",
      "Requirement already satisfied: pylatex in c:\\users\\intel i5\\miniconda3\\envs\\tfg_project\\lib\\site-packages (from experiment-impact-tracker) (1.4.1)\n",
      "Requirement already satisfied: python-dateutil>=2.8.1 in c:\\users\\intel i5\\miniconda3\\envs\\tfg_project\\lib\\site-packages (from pandas>0.25.0->experiment-impact-tracker) (2.8.2)\n",
      "Requirement already satisfied: pytz>=2020.1 in c:\\users\\intel i5\\miniconda3\\envs\\tfg_project\\lib\\site-packages (from pandas>0.25.0->experiment-impact-tracker) (2022.1)\n",
      "Requirement already satisfied: fonttools>=4.22.0 in c:\\users\\intel i5\\miniconda3\\envs\\tfg_project\\lib\\site-packages (from matplotlib->experiment-impact-tracker) (4.34.4)\n",
      "Requirement already satisfied: pillow>=6.2.0 in c:\\users\\intel i5\\miniconda3\\envs\\tfg_project\\lib\\site-packages (from matplotlib->experiment-impact-tracker) (9.2.0)\n",
      "Requirement already satisfied: packaging>=20.0 in c:\\users\\intel i5\\miniconda3\\envs\\tfg_project\\lib\\site-packages (from matplotlib->experiment-impact-tracker) (21.3)\n",
      "Requirement already satisfied: pyparsing>=2.2.1 in c:\\users\\intel i5\\miniconda3\\envs\\tfg_project\\lib\\site-packages (from matplotlib->experiment-impact-tracker) (3.0.4)\n",
      "Requirement already satisfied: kiwisolver>=1.0.1 in c:\\users\\intel i5\\miniconda3\\envs\\tfg_project\\lib\\site-packages (from matplotlib->experiment-impact-tracker) (1.4.4)\n",
      "Requirement already satisfied: cycler>=0.10 in c:\\users\\intel i5\\miniconda3\\envs\\tfg_project\\lib\\site-packages (from matplotlib->experiment-impact-tracker) (0.11.0)\n",
      "Requirement already satisfied: beautifulsoup4 in c:\\users\\intel i5\\miniconda3\\envs\\tfg_project\\lib\\site-packages (from bs4->experiment-impact-tracker) (4.11.1)\n",
      "Requirement already satisfied: ordered-set<4.2.0,>=4.1.0 in c:\\users\\intel i5\\miniconda3\\envs\\tfg_project\\lib\\site-packages (from deepdiff->experiment-impact-tracker) (4.1.0)\n",
      "Requirement already satisfied: ratelim in c:\\users\\intel i5\\miniconda3\\envs\\tfg_project\\lib\\site-packages (from geocoder->experiment-impact-tracker) (0.1.6)\n",
      "Requirement already satisfied: future in c:\\users\\intel i5\\miniconda3\\envs\\tfg_project\\lib\\site-packages (from geocoder->experiment-impact-tracker) (0.18.2)\n",
      "Requirement already satisfied: click in c:\\users\\intel i5\\miniconda3\\envs\\tfg_project\\lib\\site-packages (from geocoder->experiment-impact-tracker) (8.1.3)\n",
      "Requirement already satisfied: six in c:\\users\\intel i5\\miniconda3\\envs\\tfg_project\\lib\\site-packages (from geocoder->experiment-impact-tracker) (1.16.0)\n",
      "Requirement already satisfied: geographiclib<2,>=1.49 in c:\\users\\intel i5\\miniconda3\\envs\\tfg_project\\lib\\site-packages (from geopy->experiment-impact-tracker) (1.52)\n",
      "Requirement already satisfied: MarkupSafe>=2.0 in c:\\users\\intel i5\\miniconda3\\envs\\tfg_project\\lib\\site-packages (from jinja2->experiment-impact-tracker) (2.1.1)\n",
      "Requirement already satisfied: certifi>=2017.4.17 in c:\\users\\intel i5\\miniconda3\\envs\\tfg_project\\lib\\site-packages (from requests->experiment-impact-tracker) (2022.6.15)\n",
      "Requirement already satisfied: urllib3<1.27,>=1.21.1 in c:\\users\\intel i5\\miniconda3\\envs\\tfg_project\\lib\\site-packages (from requests->experiment-impact-tracker) (1.26.10)\n",
      "Requirement already satisfied: idna<4,>=2.5 in c:\\users\\intel i5\\miniconda3\\envs\\tfg_project\\lib\\site-packages (from requests->experiment-impact-tracker) (3.3)\n",
      "Requirement already satisfied: charset-normalizer<3,>=2 in c:\\users\\intel i5\\miniconda3\\envs\\tfg_project\\lib\\site-packages (from requests->experiment-impact-tracker) (2.1.0)\n",
      "Requirement already satisfied: soupsieve>1.2 in c:\\users\\intel i5\\miniconda3\\envs\\tfg_project\\lib\\site-packages (from beautifulsoup4->bs4->experiment-impact-tracker) (2.3.1)\n",
      "Requirement already satisfied: colorama in c:\\users\\intel i5\\miniconda3\\envs\\tfg_project\\lib\\site-packages (from click->geocoder->experiment-impact-tracker) (0.4.5)\n",
      "Requirement already satisfied: decorator in c:\\users\\intel i5\\miniconda3\\envs\\tfg_project\\lib\\site-packages (from ratelim->geocoder->experiment-impact-tracker) (5.1.1)\n"
     ]
    }
   ],
   "source": [
    "!pip install experiment-impact-tracker"
   ],
   "metadata": {
    "collapsed": false,
    "pycharm": {
     "name": "#%%\n"
    }
   }
  },
  {
   "cell_type": "code",
   "execution_count": 152,
   "outputs": [
    {
     "name": "stdout",
     "output_type": "stream",
     "text": [
      "loading region bounding boxes for computing carbon emissions region, this may take a moment...\n",
      " 454/454... rate=522.09 Hz, eta=0:00:00, total=0:00:000\n",
      "Done!\n"
     ]
    },
    {
     "ename": "UnicodeDecodeError",
     "evalue": "'charmap' codec can't decode byte 0x8d in position 14279: character maps to <undefined>",
     "output_type": "error",
     "traceback": [
      "\u001B[1;31m---------------------------------------------------------------------------\u001B[0m",
      "\u001B[1;31mUnicodeDecodeError\u001B[0m                        Traceback (most recent call last)",
      "Input \u001B[1;32mIn [152]\u001B[0m, in \u001B[0;36m<cell line: 2>\u001B[1;34m()\u001B[0m\n\u001B[0;32m      1\u001B[0m \u001B[38;5;28;01mimport\u001B[39;00m \u001B[38;5;21;01mtempfile\u001B[39;00m\n\u001B[1;32m----> 2\u001B[0m \u001B[38;5;28;01mfrom\u001B[39;00m \u001B[38;5;21;01mexperiment_impact_tracker\u001B[39;00m\u001B[38;5;21;01m.\u001B[39;00m\u001B[38;5;21;01mcompute_tracker\u001B[39;00m \u001B[38;5;28;01mimport\u001B[39;00m ImpactTracker\n\u001B[0;32m      3\u001B[0m \u001B[38;5;28;01mfrom\u001B[39;00m \u001B[38;5;21;01msklearn\u001B[39;00m\u001B[38;5;21;01m.\u001B[39;00m\u001B[38;5;21;01mlinear_model\u001B[39;00m \u001B[38;5;28;01mimport\u001B[39;00m LogisticRegression\n\u001B[0;32m      4\u001B[0m \u001B[38;5;28;01mfrom\u001B[39;00m \u001B[38;5;21;01msklearn\u001B[39;00m\u001B[38;5;21;01m.\u001B[39;00m\u001B[38;5;21;01mpreprocessing\u001B[39;00m \u001B[38;5;28;01mimport\u001B[39;00m StandardScaler\n",
      "File \u001B[1;32m~\\miniconda3\\envs\\TFG_Project\\lib\\site-packages\\experiment_impact_tracker\\compute_tracker.py:25\u001B[0m, in \u001B[0;36m<module>\u001B[1;34m\u001B[0m\n\u001B[0;32m     23\u001B[0m \u001B[38;5;28;01mfrom\u001B[39;00m \u001B[38;5;21;01mexperiment_impact_tracker\u001B[39;00m\u001B[38;5;21;01m.\u001B[39;00m\u001B[38;5;21;01mdata_utils\u001B[39;00m \u001B[38;5;28;01mimport\u001B[39;00m \u001B[38;5;241m*\u001B[39m\n\u001B[0;32m     24\u001B[0m \u001B[38;5;28;01mfrom\u001B[39;00m \u001B[38;5;21;01mexperiment_impact_tracker\u001B[39;00m\u001B[38;5;21;01m.\u001B[39;00m\u001B[38;5;21;01mcpu\u001B[39;00m\u001B[38;5;21;01m.\u001B[39;00m\u001B[38;5;21;01mcommon\u001B[39;00m \u001B[38;5;28;01mimport\u001B[39;00m get_my_cpu_info\n\u001B[1;32m---> 25\u001B[0m \u001B[38;5;28;01mfrom\u001B[39;00m \u001B[38;5;21;01mexperiment_impact_tracker\u001B[39;00m\u001B[38;5;21;01m.\u001B[39;00m\u001B[38;5;21;01mcpu\u001B[39;00m\u001B[38;5;21;01m.\u001B[39;00m\u001B[38;5;21;01mintel\u001B[39;00m \u001B[38;5;28;01mimport\u001B[39;00m get_rapl_power\n\u001B[0;32m     26\u001B[0m \u001B[38;5;28;01mfrom\u001B[39;00m \u001B[38;5;21;01mexperiment_impact_tracker\u001B[39;00m\u001B[38;5;21;01m.\u001B[39;00m\u001B[38;5;21;01mdata_info_and_router\u001B[39;00m \u001B[38;5;28;01mimport\u001B[39;00m DATA_HEADERS, INITIAL_INFO\n\u001B[0;32m     27\u001B[0m \u001B[38;5;28;01mfrom\u001B[39;00m \u001B[38;5;21;01mexperiment_impact_tracker\u001B[39;00m\u001B[38;5;21;01m.\u001B[39;00m\u001B[38;5;21;01mgpu\u001B[39;00m\u001B[38;5;21;01m.\u001B[39;00m\u001B[38;5;21;01mnvidia\u001B[39;00m \u001B[38;5;28;01mimport\u001B[39;00m (get_gpu_info,\n\u001B[0;32m     28\u001B[0m                                                   get_nvidia_gpu_power)\n",
      "File \u001B[1;32m~\\miniconda3\\envs\\TFG_Project\\lib\\site-packages\\experiment_impact_tracker\\cpu\\intel.py:13\u001B[0m, in \u001B[0;36m<module>\u001B[1;34m\u001B[0m\n\u001B[0;32m     11\u001B[0m \u001B[38;5;28;01mimport\u001B[39;00m \u001B[38;5;21;01mpsutil\u001B[39;00m\n\u001B[0;32m     12\u001B[0m \u001B[38;5;28;01mfrom\u001B[39;00m \u001B[38;5;21;01mexperiment_impact_tracker\u001B[39;00m\u001B[38;5;21;01m.\u001B[39;00m\u001B[38;5;21;01mcpu\u001B[39;00m\u001B[38;5;21;01m.\u001B[39;00m\u001B[38;5;21;01mcommon\u001B[39;00m \u001B[38;5;28;01mimport\u001B[39;00m get_my_cpu_info\n\u001B[1;32m---> 13\u001B[0m \u001B[38;5;28;01mfrom\u001B[39;00m \u001B[38;5;21;01mexperiment_impact_tracker\u001B[39;00m\u001B[38;5;21;01m.\u001B[39;00m\u001B[38;5;21;01mutils\u001B[39;00m \u001B[38;5;28;01mimport\u001B[39;00m \u001B[38;5;241m*\u001B[39m\n\u001B[0;32m     15\u001B[0m \u001B[38;5;28;01mfrom\u001B[39;00m \u001B[38;5;21;01m.\u001B[39;00m \u001B[38;5;28;01mimport\u001B[39;00m rapl\n\u001B[0;32m     18\u001B[0m \u001B[38;5;28;01mdef\u001B[39;00m \u001B[38;5;21mget_and_cache_cpu_max_tdp_from_intel\u001B[39m():\n",
      "File \u001B[1;32m~\\miniconda3\\envs\\TFG_Project\\lib\\site-packages\\experiment_impact_tracker\\utils.py:15\u001B[0m, in \u001B[0;36m<module>\u001B[1;34m\u001B[0m\n\u001B[0;32m     12\u001B[0m \u001B[38;5;28;01mimport\u001B[39;00m \u001B[38;5;21;01mpandas\u001B[39;00m \u001B[38;5;28;01mas\u001B[39;00m \u001B[38;5;21;01mpd\u001B[39;00m\n\u001B[0;32m     14\u001B[0m \u001B[38;5;28;01mimport\u001B[39;00m \u001B[38;5;21;01mpsutil\u001B[39;00m\n\u001B[1;32m---> 15\u001B[0m \u001B[38;5;28;01mfrom\u001B[39;00m \u001B[38;5;21;01mexperiment_impact_tracker\u001B[39;00m\u001B[38;5;21;01m.\u001B[39;00m\u001B[38;5;21;01memissions\u001B[39;00m\u001B[38;5;21;01m.\u001B[39;00m\u001B[38;5;21;01mconstants\u001B[39;00m \u001B[38;5;28;01mimport\u001B[39;00m PUE\n\u001B[0;32m     16\u001B[0m \u001B[38;5;28;01mfrom\u001B[39;00m \u001B[38;5;21;01mexperiment_impact_tracker\u001B[39;00m\u001B[38;5;21;01m.\u001B[39;00m\u001B[38;5;21;01mdata_utils\u001B[39;00m \u001B[38;5;28;01mimport\u001B[39;00m load_data_into_frame\n\u001B[0;32m     17\u001B[0m \u001B[38;5;28;01mfrom\u001B[39;00m \u001B[38;5;21;01mexperiment_impact_tracker\u001B[39;00m\u001B[38;5;21;01m.\u001B[39;00m\u001B[38;5;21;01mdata_utils\u001B[39;00m \u001B[38;5;28;01mimport\u001B[39;00m \u001B[38;5;241m*\u001B[39m\n",
      "File \u001B[1;32m~\\miniconda3\\envs\\TFG_Project\\lib\\site-packages\\experiment_impact_tracker\\emissions\\constants.py:77\u001B[0m, in \u001B[0;36m<module>\u001B[1;34m\u001B[0m\n\u001B[0;32m     75\u001B[0m REGIONS_WITH_BOUNDING_BOXES \u001B[38;5;241m=\u001B[39m load_regions_with_bounding_boxes()\n\u001B[0;32m     76\u001B[0m ZONE_INFO \u001B[38;5;241m=\u001B[39m _load_zone_info()[\u001B[38;5;124m\"\u001B[39m\u001B[38;5;124mfallbackZoneMixes\u001B[39m\u001B[38;5;124m\"\u001B[39m]\n\u001B[1;32m---> 77\u001B[0m ZONE_NAMES \u001B[38;5;241m=\u001B[39m \u001B[43m_load_zone_names\u001B[49m\u001B[43m(\u001B[49m\u001B[43m)\u001B[49m\n",
      "File \u001B[1;32m~\\miniconda3\\envs\\TFG_Project\\lib\\site-packages\\experiment_impact_tracker\\emissions\\constants.py:50\u001B[0m, in \u001B[0;36m_load_zone_names\u001B[1;34m()\u001B[0m\n\u001B[0;32m     48\u001B[0m dir_path \u001B[38;5;241m=\u001B[39m os\u001B[38;5;241m.\u001B[39mpath\u001B[38;5;241m.\u001B[39mdirname(os\u001B[38;5;241m.\u001B[39mpath\u001B[38;5;241m.\u001B[39mrealpath(\u001B[38;5;18m__file__\u001B[39m))\n\u001B[0;32m     49\u001B[0m \u001B[38;5;28;01mwith\u001B[39;00m \u001B[38;5;28mopen\u001B[39m(os\u001B[38;5;241m.\u001B[39mpath\u001B[38;5;241m.\u001B[39mjoin(dir_path, \u001B[38;5;124m'\u001B[39m\u001B[38;5;124mdata/zone_names.json\u001B[39m\u001B[38;5;124m'\u001B[39m), \u001B[38;5;124m'\u001B[39m\u001B[38;5;124mrt\u001B[39m\u001B[38;5;124m'\u001B[39m) \u001B[38;5;28;01mas\u001B[39;00m f:\n\u001B[1;32m---> 50\u001B[0m     x \u001B[38;5;241m=\u001B[39m \u001B[43mjson\u001B[49m\u001B[38;5;241;43m.\u001B[39;49m\u001B[43mload\u001B[49m\u001B[43m(\u001B[49m\u001B[43mf\u001B[49m\u001B[43m)\u001B[49m\n\u001B[0;32m     51\u001B[0m \u001B[38;5;28;01mreturn\u001B[39;00m x\n",
      "File \u001B[1;32m~\\miniconda3\\envs\\TFG_Project\\lib\\encodings\\cp1252.py:23\u001B[0m, in \u001B[0;36mIncrementalDecoder.decode\u001B[1;34m(self, input, final)\u001B[0m\n\u001B[0;32m     22\u001B[0m \u001B[38;5;28;01mdef\u001B[39;00m \u001B[38;5;21mdecode\u001B[39m(\u001B[38;5;28mself\u001B[39m, \u001B[38;5;28minput\u001B[39m, final\u001B[38;5;241m=\u001B[39m\u001B[38;5;28;01mFalse\u001B[39;00m):\n\u001B[1;32m---> 23\u001B[0m     \u001B[38;5;28;01mreturn\u001B[39;00m \u001B[43mcodecs\u001B[49m\u001B[38;5;241;43m.\u001B[39;49m\u001B[43mcharmap_decode\u001B[49m\u001B[43m(\u001B[49m\u001B[38;5;28;43minput\u001B[39;49m\u001B[43m,\u001B[49m\u001B[38;5;28;43mself\u001B[39;49m\u001B[38;5;241;43m.\u001B[39;49m\u001B[43merrors\u001B[49m\u001B[43m,\u001B[49m\u001B[43mdecoding_table\u001B[49m\u001B[43m)\u001B[49m[\u001B[38;5;241m0\u001B[39m]\n",
      "\u001B[1;31mUnicodeDecodeError\u001B[0m: 'charmap' codec can't decode byte 0x8d in position 14279: character maps to <undefined>"
     ]
    }
   ],
   "source": [
    "import tempfile\n",
    "from experiment_impact_tracker.compute_tracker import ImpactTracker\n",
    "from sklearn.linear_model import LogisticRegression\n",
    "from sklearn.preprocessing import StandardScaler\n",
    "from sklearn.ensemble import RandomForestClassifier\n",
    "from sklearn.pipeline import Pipeline\n",
    "from sklearn.svm import LinearSVC\n",
    "from codecarbon import EmissionsTracker\n",
    "from cumulator import base\n",
    "\n",
    "tmp_dir = tempfile.mkdtemp()\n",
    "# Init tracker with log path\n",
    "tracker = ImpactTracker(tmp_dir)\n",
    "# Start tracker in a separate process\n",
    "tracker.launch_impact_monitor()\n",
    "lg_pipeline = Pipeline([(\"scaler\", StandardScaler()), (\"logistic_regression\", LogisticRegression())])\n",
    "lg_pipeline.fit(X, y)"
   ],
   "metadata": {
    "collapsed": false,
    "pycharm": {
     "name": "#%%\n"
    }
   }
  }
 ],
 "metadata": {
  "kernelspec": {
   "display_name": "Python 3",
   "language": "python",
   "name": "python3"
  },
  "language_info": {
   "codemirror_mode": {
    "name": "ipython",
    "version": 2
   },
   "file_extension": ".py",
   "mimetype": "text/x-python",
   "name": "python",
   "nbconvert_exporter": "python",
   "pygments_lexer": "ipython2",
   "version": "2.7.6"
  }
 },
 "nbformat": 4,
 "nbformat_minor": 0
}