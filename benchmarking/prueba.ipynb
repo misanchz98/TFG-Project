{
 "cells": [
  {
   "cell_type": "markdown",
   "source": [
    "# 1. Instalación de dependencias e importación de paquetes"
   ],
   "metadata": {
    "collapsed": false,
    "pycharm": {
     "name": "#%% md\n"
    }
   }
  },
  {
   "cell_type": "code",
   "execution_count": 7,
   "outputs": [
    {
     "name": "stdout",
     "output_type": "stream",
     "text": [
      "Requirement already satisfied: pandas in c:\\users\\intel i5\\miniconda3\\envs\\tfg_project\\lib\\site-packages (1.4.3)\n",
      "Requirement already satisfied: pytz>=2020.1 in c:\\users\\intel i5\\miniconda3\\envs\\tfg_project\\lib\\site-packages (from pandas) (2022.1)\n",
      "Requirement already satisfied: numpy>=1.21.0 in c:\\users\\intel i5\\miniconda3\\envs\\tfg_project\\lib\\site-packages (from pandas) (1.23.1)\n",
      "Requirement already satisfied: python-dateutil>=2.8.1 in c:\\users\\intel i5\\miniconda3\\envs\\tfg_project\\lib\\site-packages (from pandas) (2.8.2)\n",
      "Requirement already satisfied: six>=1.5 in c:\\users\\intel i5\\miniconda3\\envs\\tfg_project\\lib\\site-packages (from python-dateutil>=2.8.1->pandas) (1.16.0)\n",
      "Requirement already satisfied: numpy in c:\\users\\intel i5\\miniconda3\\envs\\tfg_project\\lib\\site-packages (1.23.1)\n",
      "Requirement already satisfied: scikit-learn in c:\\users\\intel i5\\miniconda3\\envs\\tfg_project\\lib\\site-packages (1.1.1)\n",
      "Requirement already satisfied: threadpoolctl>=2.0.0 in c:\\users\\intel i5\\miniconda3\\envs\\tfg_project\\lib\\site-packages (from scikit-learn) (3.1.0)\n",
      "Requirement already satisfied: joblib>=1.0.0 in c:\\users\\intel i5\\miniconda3\\envs\\tfg_project\\lib\\site-packages (from scikit-learn) (1.1.0)\n",
      "Requirement already satisfied: numpy>=1.17.3 in c:\\users\\intel i5\\miniconda3\\envs\\tfg_project\\lib\\site-packages (from scikit-learn) (1.23.1)\n",
      "Requirement already satisfied: scipy>=1.3.2 in c:\\users\\intel i5\\miniconda3\\envs\\tfg_project\\lib\\site-packages (from scikit-learn) (1.8.1)\n",
      "Requirement already satisfied: codecarbon in c:\\users\\intel i5\\miniconda3\\envs\\tfg_project\\lib\\site-packages (2.1.3)\n",
      "Requirement already satisfied: pynvml in c:\\users\\intel i5\\miniconda3\\envs\\tfg_project\\lib\\site-packages (from codecarbon) (11.4.1)\n",
      "Requirement already satisfied: pandas in c:\\users\\intel i5\\miniconda3\\envs\\tfg_project\\lib\\site-packages (from codecarbon) (1.4.3)\n",
      "Requirement already satisfied: arrow in c:\\users\\intel i5\\miniconda3\\envs\\tfg_project\\lib\\site-packages (from codecarbon) (1.2.2)\n",
      "Requirement already satisfied: click in c:\\users\\intel i5\\miniconda3\\envs\\tfg_project\\lib\\site-packages (from codecarbon) (8.1.3)\n",
      "Requirement already satisfied: py-cpuinfo in c:\\users\\intel i5\\miniconda3\\envs\\tfg_project\\lib\\site-packages (from codecarbon) (8.0.0)\n",
      "Requirement already satisfied: psutil in c:\\users\\intel i5\\miniconda3\\envs\\tfg_project\\lib\\site-packages (from codecarbon) (5.9.1)\n",
      "Requirement already satisfied: fuzzywuzzy in c:\\users\\intel i5\\miniconda3\\envs\\tfg_project\\lib\\site-packages (from codecarbon) (0.18.0)\n",
      "Requirement already satisfied: requests in c:\\users\\intel i5\\miniconda3\\envs\\tfg_project\\lib\\site-packages (from codecarbon) (2.28.1)\n",
      "Requirement already satisfied: python-dateutil>=2.7.0 in c:\\users\\intel i5\\miniconda3\\envs\\tfg_project\\lib\\site-packages (from arrow->codecarbon) (2.8.2)\n",
      "Requirement already satisfied: colorama in c:\\users\\intel i5\\miniconda3\\envs\\tfg_project\\lib\\site-packages (from click->codecarbon) (0.4.5)\n",
      "Requirement already satisfied: pytz>=2020.1 in c:\\users\\intel i5\\miniconda3\\envs\\tfg_project\\lib\\site-packages (from pandas->codecarbon) (2022.1)\n",
      "Requirement already satisfied: numpy>=1.21.0 in c:\\users\\intel i5\\miniconda3\\envs\\tfg_project\\lib\\site-packages (from pandas->codecarbon) (1.23.1)\n",
      "Requirement already satisfied: urllib3<1.27,>=1.21.1 in c:\\users\\intel i5\\miniconda3\\envs\\tfg_project\\lib\\site-packages (from requests->codecarbon) (1.26.10)\n",
      "Requirement already satisfied: idna<4,>=2.5 in c:\\users\\intel i5\\miniconda3\\envs\\tfg_project\\lib\\site-packages (from requests->codecarbon) (3.3)\n",
      "Requirement already satisfied: certifi>=2017.4.17 in c:\\users\\intel i5\\miniconda3\\envs\\tfg_project\\lib\\site-packages (from requests->codecarbon) (2022.6.15)\n",
      "Requirement already satisfied: charset-normalizer<3,>=2 in c:\\users\\intel i5\\miniconda3\\envs\\tfg_project\\lib\\site-packages (from requests->codecarbon) (2.1.0)\n",
      "Requirement already satisfied: six>=1.5 in c:\\users\\intel i5\\miniconda3\\envs\\tfg_project\\lib\\site-packages (from python-dateutil>=2.7.0->arrow->codecarbon) (1.16.0)\n",
      "Requirement already satisfied: geopy in c:\\users\\intel i5\\miniconda3\\envs\\tfg_project\\lib\\site-packages (2.2.0)\n",
      "Requirement already satisfied: geographiclib<2,>=1.49 in c:\\users\\intel i5\\miniconda3\\envs\\tfg_project\\lib\\site-packages (from geopy) (1.52)\n",
      "Requirement already satisfied: cumulator in c:\\users\\intel i5\\miniconda3\\envs\\tfg_project\\lib\\site-packages (0.1.0)\n",
      "Requirement already satisfied: GPUtil in c:\\users\\intel i5\\miniconda3\\envs\\tfg_project\\lib\\site-packages (1.4.0)\n",
      "Requirement already satisfied: py-cpuinfo in c:\\users\\intel i5\\miniconda3\\envs\\tfg_project\\lib\\site-packages (8.0.0)\n",
      "Requirement already satisfied: geocoder in c:\\users\\intel i5\\miniconda3\\envs\\tfg_project\\lib\\site-packages (1.38.1)\n",
      "Requirement already satisfied: six in c:\\users\\intel i5\\miniconda3\\envs\\tfg_project\\lib\\site-packages (from geocoder) (1.16.0)\n",
      "Requirement already satisfied: requests in c:\\users\\intel i5\\miniconda3\\envs\\tfg_project\\lib\\site-packages (from geocoder) (2.28.1)\n",
      "Requirement already satisfied: future in c:\\users\\intel i5\\miniconda3\\envs\\tfg_project\\lib\\site-packages (from geocoder) (0.18.2)\n",
      "Requirement already satisfied: click in c:\\users\\intel i5\\miniconda3\\envs\\tfg_project\\lib\\site-packages (from geocoder) (8.1.3)\n",
      "Requirement already satisfied: ratelim in c:\\users\\intel i5\\miniconda3\\envs\\tfg_project\\lib\\site-packages (from geocoder) (0.1.6)\n",
      "Requirement already satisfied: colorama in c:\\users\\intel i5\\miniconda3\\envs\\tfg_project\\lib\\site-packages (from click->geocoder) (0.4.5)\n",
      "Requirement already satisfied: decorator in c:\\users\\intel i5\\miniconda3\\envs\\tfg_project\\lib\\site-packages (from ratelim->geocoder) (5.1.1)\n",
      "Requirement already satisfied: idna<4,>=2.5 in c:\\users\\intel i5\\miniconda3\\envs\\tfg_project\\lib\\site-packages (from requests->geocoder) (3.3)\n",
      "Requirement already satisfied: certifi>=2017.4.17 in c:\\users\\intel i5\\miniconda3\\envs\\tfg_project\\lib\\site-packages (from requests->geocoder) (2022.6.15)\n",
      "Requirement already satisfied: urllib3<1.27,>=1.21.1 in c:\\users\\intel i5\\miniconda3\\envs\\tfg_project\\lib\\site-packages (from requests->geocoder) (1.26.10)\n",
      "Requirement already satisfied: charset-normalizer<3,>=2 in c:\\users\\intel i5\\miniconda3\\envs\\tfg_project\\lib\\site-packages (from requests->geocoder) (2.1.0)\n",
      "Requirement already satisfied: matplotlib in c:\\users\\intel i5\\miniconda3\\envs\\tfg_project\\lib\\site-packages (3.5.2)\n",
      "Requirement already satisfied: kiwisolver>=1.0.1 in c:\\users\\intel i5\\miniconda3\\envs\\tfg_project\\lib\\site-packages (from matplotlib) (1.4.4)\n",
      "Requirement already satisfied: pillow>=6.2.0 in c:\\users\\intel i5\\miniconda3\\envs\\tfg_project\\lib\\site-packages (from matplotlib) (9.2.0)\n",
      "Requirement already satisfied: python-dateutil>=2.7 in c:\\users\\intel i5\\miniconda3\\envs\\tfg_project\\lib\\site-packages (from matplotlib) (2.8.2)\n",
      "Requirement already satisfied: pyparsing>=2.2.1 in c:\\users\\intel i5\\miniconda3\\envs\\tfg_project\\lib\\site-packages (from matplotlib) (3.0.4)\n",
      "Requirement already satisfied: fonttools>=4.22.0 in c:\\users\\intel i5\\miniconda3\\envs\\tfg_project\\lib\\site-packages (from matplotlib) (4.34.4)\n",
      "Requirement already satisfied: cycler>=0.10 in c:\\users\\intel i5\\miniconda3\\envs\\tfg_project\\lib\\site-packages (from matplotlib) (0.11.0)\n",
      "Requirement already satisfied: packaging>=20.0 in c:\\users\\intel i5\\miniconda3\\envs\\tfg_project\\lib\\site-packages (from matplotlib) (21.3)\n",
      "Requirement already satisfied: numpy>=1.17 in c:\\users\\intel i5\\miniconda3\\envs\\tfg_project\\lib\\site-packages (from matplotlib) (1.23.1)\n",
      "Requirement already satisfied: six>=1.5 in c:\\users\\intel i5\\miniconda3\\envs\\tfg_project\\lib\\site-packages (from python-dateutil>=2.7->matplotlib) (1.16.0)\n",
      "Requirement already satisfied: carbontracker in c:\\users\\intel i5\\miniconda3\\envs\\tfg_project\\lib\\site-packages (1.1.6)\n",
      "Requirement already satisfied: numpy in c:\\users\\intel i5\\miniconda3\\envs\\tfg_project\\lib\\site-packages (from carbontracker) (1.23.1)\n",
      "Requirement already satisfied: psutil in c:\\users\\intel i5\\miniconda3\\envs\\tfg_project\\lib\\site-packages (from carbontracker) (5.9.1)\n",
      "Requirement already satisfied: requests in c:\\users\\intel i5\\miniconda3\\envs\\tfg_project\\lib\\site-packages (from carbontracker) (2.28.1)\n",
      "Requirement already satisfied: pynvml in c:\\users\\intel i5\\miniconda3\\envs\\tfg_project\\lib\\site-packages (from carbontracker) (11.4.1)\n",
      "Requirement already satisfied: pandas in c:\\users\\intel i5\\miniconda3\\envs\\tfg_project\\lib\\site-packages (from carbontracker) (1.4.3)\n",
      "Requirement already satisfied: geocoder in c:\\users\\intel i5\\miniconda3\\envs\\tfg_project\\lib\\site-packages (from carbontracker) (1.38.1)\n",
      "Requirement already satisfied: click in c:\\users\\intel i5\\miniconda3\\envs\\tfg_project\\lib\\site-packages (from geocoder->carbontracker) (8.1.3)\n",
      "Requirement already satisfied: six in c:\\users\\intel i5\\miniconda3\\envs\\tfg_project\\lib\\site-packages (from geocoder->carbontracker) (1.16.0)\n",
      "Requirement already satisfied: future in c:\\users\\intel i5\\miniconda3\\envs\\tfg_project\\lib\\site-packages (from geocoder->carbontracker) (0.18.2)\n",
      "Requirement already satisfied: ratelim in c:\\users\\intel i5\\miniconda3\\envs\\tfg_project\\lib\\site-packages (from geocoder->carbontracker) (0.1.6)\n",
      "Requirement already satisfied: python-dateutil>=2.8.1 in c:\\users\\intel i5\\miniconda3\\envs\\tfg_project\\lib\\site-packages (from pandas->carbontracker) (2.8.2)\n",
      "Requirement already satisfied: pytz>=2020.1 in c:\\users\\intel i5\\miniconda3\\envs\\tfg_project\\lib\\site-packages (from pandas->carbontracker) (2022.1)\n",
      "Requirement already satisfied: certifi>=2017.4.17 in c:\\users\\intel i5\\miniconda3\\envs\\tfg_project\\lib\\site-packages (from requests->carbontracker) (2022.6.15)\n",
      "Requirement already satisfied: urllib3<1.27,>=1.21.1 in c:\\users\\intel i5\\miniconda3\\envs\\tfg_project\\lib\\site-packages (from requests->carbontracker) (1.26.10)\n",
      "Requirement already satisfied: idna<4,>=2.5 in c:\\users\\intel i5\\miniconda3\\envs\\tfg_project\\lib\\site-packages (from requests->carbontracker) (3.3)\n",
      "Requirement already satisfied: charset-normalizer<3,>=2 in c:\\users\\intel i5\\miniconda3\\envs\\tfg_project\\lib\\site-packages (from requests->carbontracker) (2.1.0)\n",
      "Requirement already satisfied: colorama in c:\\users\\intel i5\\miniconda3\\envs\\tfg_project\\lib\\site-packages (from click->geocoder->carbontracker) (0.4.5)\n",
      "Requirement already satisfied: decorator in c:\\users\\intel i5\\miniconda3\\envs\\tfg_project\\lib\\site-packages (from ratelim->geocoder->carbontracker) (5.1.1)\n"
     ]
    }
   ],
   "source": [
    "# Install dependencies\n",
    "!pip install pandas\n",
    "!pip install numpy\n",
    "!pip install -U scikit-learn\n",
    "!pip install codecarbon\n",
    "!pip install geopy\n",
    "!pip install cumulator\n",
    "!pip install GPUtil\n",
    "!pip install py-cpuinfo\n",
    "!pip install geocoder\n",
    "!pip install matplotlib\n",
    "!pip install carbontracker"
   ],
   "metadata": {
    "collapsed": false,
    "pycharm": {
     "name": "#%%\n"
    }
   }
  },
  {
   "cell_type": "code",
   "execution_count": 8,
   "outputs": [],
   "source": [
    "# Import packages\n",
    "import pandas as pd\n",
    "import numpy as np\n",
    "from sklearn.model_selection import train_test_split\n",
    "from sklearn.linear_model import LogisticRegression\n",
    "from sklearn.preprocessing import StandardScaler\n",
    "from sklearn.ensemble import RandomForestClassifier\n",
    "from sklearn.pipeline import Pipeline\n",
    "from sklearn.svm import LinearSVC\n",
    "from codecarbon import EmissionsTracker\n",
    "from cumulator import base"
   ],
   "metadata": {
    "collapsed": false,
    "pycharm": {
     "name": "#%%\n"
    }
   }
  },
  {
   "cell_type": "markdown",
   "source": [
    "# 2. Preprocesamiento del *dataset*: [Room Occupancy Estimation Data Set](https://www.kaggle.com/ananthr1/room-occupancy-estimation-data-set)"
   ],
   "metadata": {
    "collapsed": false,
    "pycharm": {
     "name": "#%% md\n"
    }
   }
  },
  {
   "cell_type": "code",
   "execution_count": 9,
   "outputs": [
    {
     "data": {
      "text/plain": "(10129, 19)"
     },
     "execution_count": 9,
     "metadata": {},
     "output_type": "execute_result"
    }
   ],
   "source": [
    "# Load data as dataframe\n",
    "df = pd.read_csv('Occupancy_Estimation.csv')\n",
    "df.shape"
   ],
   "metadata": {
    "collapsed": false,
    "pycharm": {
     "name": "#%%\n"
    }
   }
  },
  {
   "cell_type": "code",
   "execution_count": 10,
   "outputs": [
    {
     "data": {
      "text/plain": "         Date      Time  S1_Temp  S2_Temp  S3_Temp  S4_Temp  S1_Light  \\\n0  2017/12/22  10:49:41    24.94    24.75    24.56    25.38       121   \n1  2017/12/22  10:50:12    24.94    24.75    24.56    25.44       121   \n2  2017/12/22  10:50:42    25.00    24.75    24.50    25.44       121   \n3  2017/12/22  10:51:13    25.00    24.75    24.56    25.44       121   \n4  2017/12/22  10:51:44    25.00    24.75    24.56    25.44       121   \n\n   S2_Light  S3_Light  S4_Light  S1_Sound  S2_Sound  S3_Sound  S4_Sound  \\\n0        34        53        40      0.08      0.19      0.06      0.06   \n1        33        53        40      0.93      0.05      0.06      0.06   \n2        34        53        40      0.43      0.11      0.08      0.06   \n3        34        53        40      0.41      0.10      0.10      0.09   \n4        34        54        40      0.18      0.06      0.06      0.06   \n\n   S5_CO2  S5_CO2_Slope  S6_PIR  S7_PIR  Room_Occupancy_Count  \n0     390      0.769231       0       0                     1  \n1     390      0.646154       0       0                     1  \n2     390      0.519231       0       0                     1  \n3     390      0.388462       0       0                     1  \n4     390      0.253846       0       0                     1  ",
      "text/html": "<div>\n<style scoped>\n    .dataframe tbody tr th:only-of-type {\n        vertical-align: middle;\n    }\n\n    .dataframe tbody tr th {\n        vertical-align: top;\n    }\n\n    .dataframe thead th {\n        text-align: right;\n    }\n</style>\n<table border=\"1\" class=\"dataframe\">\n  <thead>\n    <tr style=\"text-align: right;\">\n      <th></th>\n      <th>Date</th>\n      <th>Time</th>\n      <th>S1_Temp</th>\n      <th>S2_Temp</th>\n      <th>S3_Temp</th>\n      <th>S4_Temp</th>\n      <th>S1_Light</th>\n      <th>S2_Light</th>\n      <th>S3_Light</th>\n      <th>S4_Light</th>\n      <th>S1_Sound</th>\n      <th>S2_Sound</th>\n      <th>S3_Sound</th>\n      <th>S4_Sound</th>\n      <th>S5_CO2</th>\n      <th>S5_CO2_Slope</th>\n      <th>S6_PIR</th>\n      <th>S7_PIR</th>\n      <th>Room_Occupancy_Count</th>\n    </tr>\n  </thead>\n  <tbody>\n    <tr>\n      <th>0</th>\n      <td>2017/12/22</td>\n      <td>10:49:41</td>\n      <td>24.94</td>\n      <td>24.75</td>\n      <td>24.56</td>\n      <td>25.38</td>\n      <td>121</td>\n      <td>34</td>\n      <td>53</td>\n      <td>40</td>\n      <td>0.08</td>\n      <td>0.19</td>\n      <td>0.06</td>\n      <td>0.06</td>\n      <td>390</td>\n      <td>0.769231</td>\n      <td>0</td>\n      <td>0</td>\n      <td>1</td>\n    </tr>\n    <tr>\n      <th>1</th>\n      <td>2017/12/22</td>\n      <td>10:50:12</td>\n      <td>24.94</td>\n      <td>24.75</td>\n      <td>24.56</td>\n      <td>25.44</td>\n      <td>121</td>\n      <td>33</td>\n      <td>53</td>\n      <td>40</td>\n      <td>0.93</td>\n      <td>0.05</td>\n      <td>0.06</td>\n      <td>0.06</td>\n      <td>390</td>\n      <td>0.646154</td>\n      <td>0</td>\n      <td>0</td>\n      <td>1</td>\n    </tr>\n    <tr>\n      <th>2</th>\n      <td>2017/12/22</td>\n      <td>10:50:42</td>\n      <td>25.00</td>\n      <td>24.75</td>\n      <td>24.50</td>\n      <td>25.44</td>\n      <td>121</td>\n      <td>34</td>\n      <td>53</td>\n      <td>40</td>\n      <td>0.43</td>\n      <td>0.11</td>\n      <td>0.08</td>\n      <td>0.06</td>\n      <td>390</td>\n      <td>0.519231</td>\n      <td>0</td>\n      <td>0</td>\n      <td>1</td>\n    </tr>\n    <tr>\n      <th>3</th>\n      <td>2017/12/22</td>\n      <td>10:51:13</td>\n      <td>25.00</td>\n      <td>24.75</td>\n      <td>24.56</td>\n      <td>25.44</td>\n      <td>121</td>\n      <td>34</td>\n      <td>53</td>\n      <td>40</td>\n      <td>0.41</td>\n      <td>0.10</td>\n      <td>0.10</td>\n      <td>0.09</td>\n      <td>390</td>\n      <td>0.388462</td>\n      <td>0</td>\n      <td>0</td>\n      <td>1</td>\n    </tr>\n    <tr>\n      <th>4</th>\n      <td>2017/12/22</td>\n      <td>10:51:44</td>\n      <td>25.00</td>\n      <td>24.75</td>\n      <td>24.56</td>\n      <td>25.44</td>\n      <td>121</td>\n      <td>34</td>\n      <td>54</td>\n      <td>40</td>\n      <td>0.18</td>\n      <td>0.06</td>\n      <td>0.06</td>\n      <td>0.06</td>\n      <td>390</td>\n      <td>0.253846</td>\n      <td>0</td>\n      <td>0</td>\n      <td>1</td>\n    </tr>\n  </tbody>\n</table>\n</div>"
     },
     "execution_count": 10,
     "metadata": {},
     "output_type": "execute_result"
    }
   ],
   "source": [
    "df.head()"
   ],
   "metadata": {
    "collapsed": false,
    "pycharm": {
     "name": "#%%\n"
    }
   }
  },
  {
   "cell_type": "markdown",
   "source": [
    "## Paso 1: Recodificación de la columna *RoomOccupancyCount*\n",
    "\n",
    "En este caso, la columna que contiene la variable de salida (*RoomOccupancyCount*) cuenta el número de personas en la sala. Para simplificar, nuestro objetivo va a ser detectar si la sala está vacía o, en cambio, hay alguien (no el número exacto de personas).\n",
    "\n",
    "Por lo tanto, se **recodificará cualquier valor mayor que 0 en esa columna como 1**, de tal forma que la variable de salida sea binaria:\n",
    "- 0 -> ausencia.\n",
    "- 1 -> presencia."
   ],
   "metadata": {
    "collapsed": false,
    "pycharm": {
     "name": "#%% md\n"
    }
   }
  },
  {
   "cell_type": "code",
   "execution_count": 11,
   "outputs": [
    {
     "data": {
      "text/plain": "0        1\n1        1\n2        1\n3        1\n4        1\n        ..\n10124    0\n10125    0\n10126    0\n10127    0\n10128    0\nName: Room_Occupancy_Count, Length: 10129, dtype: int64"
     },
     "execution_count": 11,
     "metadata": {},
     "output_type": "execute_result"
    }
   ],
   "source": [
    "# Show \"Room_Occupancy_Count\" before processing\n",
    "df[\"Room_Occupancy_Count\"]"
   ],
   "metadata": {
    "collapsed": false,
    "pycharm": {
     "name": "#%%\n"
    }
   }
  },
  {
   "cell_type": "code",
   "execution_count": 12,
   "outputs": [
    {
     "data": {
      "text/plain": "0        1\n1        1\n2        1\n3        1\n4        1\n        ..\n10124    0\n10125    0\n10126    0\n10127    0\n10128    0\nName: Room_Occupancy_Count, Length: 10129, dtype: int32"
     },
     "execution_count": 12,
     "metadata": {},
     "output_type": "execute_result"
    }
   ],
   "source": [
    "#Process \"Room_Occupancy_Count\"\n",
    "df[\"Room_Occupancy_Count\"] = np.where(df[\"Room_Occupancy_Count\"] > 0, 1, 0)\n",
    "\n",
    "# Show \"Room_Occupancy_Count\" after processing\n",
    "df[\"Room_Occupancy_Count\"]"
   ],
   "metadata": {
    "collapsed": false,
    "pycharm": {
     "name": "#%%\n"
    }
   }
  },
  {
   "cell_type": "markdown",
   "source": [
    "## Paso 2: Eliminación de las columnas temporales *Date* y *Time*\n",
    "\n",
    "Respecto a los datos ofrecidos por las columas *Date* y *Time*, vamos a filtrarlos y dejarlos fuera del proceso. Ya que, aunque los incluyeramos (por ejemplo, juntando ambas partes en una sola columna y convirtiéndolo a formato 'epoch', como long int), los valores de muestras sucesivas de esa columna estarían totalmente correlados entre sí y, como consecuencia, fastidiaríamos a la mayoría de algoritmos que vamos a emplear posteriormente.\n",
    "\n",
    "Se debe tener en cuenta que no nos estamos olvidando de la información temporal para considerar como si cada valor muestreado (fila de la tabla) fuese independiente de las demás filas. Sabemos que eso no es así, pero estamos considerando que esa información temporal no nos ofrece valor añadido para predecir si la habitación está ocupada o vacía. En caso contrario, se tendrían que usar modelos bastante más complicados para considerar esa relación temporal que indica que, en realidad, las muestras de dos filas adyacentes son consecutivas en el tiempo.\n"
   ],
   "metadata": {
    "collapsed": false,
    "pycharm": {
     "name": "#%% md\n"
    }
   }
  },
  {
   "cell_type": "code",
   "execution_count": 13,
   "outputs": [
    {
     "data": {
      "text/plain": "   S1_Temp  S2_Temp  S3_Temp  S4_Temp  S1_Light  S2_Light  S3_Light  S4_Light  \\\n0    24.94    24.75    24.56    25.38       121        34        53        40   \n1    24.94    24.75    24.56    25.44       121        33        53        40   \n2    25.00    24.75    24.50    25.44       121        34        53        40   \n3    25.00    24.75    24.56    25.44       121        34        53        40   \n4    25.00    24.75    24.56    25.44       121        34        54        40   \n\n   S1_Sound  S2_Sound  S3_Sound  S4_Sound  S5_CO2  S5_CO2_Slope  S6_PIR  \\\n0      0.08      0.19      0.06      0.06     390      0.769231       0   \n1      0.93      0.05      0.06      0.06     390      0.646154       0   \n2      0.43      0.11      0.08      0.06     390      0.519231       0   \n3      0.41      0.10      0.10      0.09     390      0.388462       0   \n4      0.18      0.06      0.06      0.06     390      0.253846       0   \n\n   S7_PIR  Room_Occupancy_Count  \n0       0                     1  \n1       0                     1  \n2       0                     1  \n3       0                     1  \n4       0                     1  ",
      "text/html": "<div>\n<style scoped>\n    .dataframe tbody tr th:only-of-type {\n        vertical-align: middle;\n    }\n\n    .dataframe tbody tr th {\n        vertical-align: top;\n    }\n\n    .dataframe thead th {\n        text-align: right;\n    }\n</style>\n<table border=\"1\" class=\"dataframe\">\n  <thead>\n    <tr style=\"text-align: right;\">\n      <th></th>\n      <th>S1_Temp</th>\n      <th>S2_Temp</th>\n      <th>S3_Temp</th>\n      <th>S4_Temp</th>\n      <th>S1_Light</th>\n      <th>S2_Light</th>\n      <th>S3_Light</th>\n      <th>S4_Light</th>\n      <th>S1_Sound</th>\n      <th>S2_Sound</th>\n      <th>S3_Sound</th>\n      <th>S4_Sound</th>\n      <th>S5_CO2</th>\n      <th>S5_CO2_Slope</th>\n      <th>S6_PIR</th>\n      <th>S7_PIR</th>\n      <th>Room_Occupancy_Count</th>\n    </tr>\n  </thead>\n  <tbody>\n    <tr>\n      <th>0</th>\n      <td>24.94</td>\n      <td>24.75</td>\n      <td>24.56</td>\n      <td>25.38</td>\n      <td>121</td>\n      <td>34</td>\n      <td>53</td>\n      <td>40</td>\n      <td>0.08</td>\n      <td>0.19</td>\n      <td>0.06</td>\n      <td>0.06</td>\n      <td>390</td>\n      <td>0.769231</td>\n      <td>0</td>\n      <td>0</td>\n      <td>1</td>\n    </tr>\n    <tr>\n      <th>1</th>\n      <td>24.94</td>\n      <td>24.75</td>\n      <td>24.56</td>\n      <td>25.44</td>\n      <td>121</td>\n      <td>33</td>\n      <td>53</td>\n      <td>40</td>\n      <td>0.93</td>\n      <td>0.05</td>\n      <td>0.06</td>\n      <td>0.06</td>\n      <td>390</td>\n      <td>0.646154</td>\n      <td>0</td>\n      <td>0</td>\n      <td>1</td>\n    </tr>\n    <tr>\n      <th>2</th>\n      <td>25.00</td>\n      <td>24.75</td>\n      <td>24.50</td>\n      <td>25.44</td>\n      <td>121</td>\n      <td>34</td>\n      <td>53</td>\n      <td>40</td>\n      <td>0.43</td>\n      <td>0.11</td>\n      <td>0.08</td>\n      <td>0.06</td>\n      <td>390</td>\n      <td>0.519231</td>\n      <td>0</td>\n      <td>0</td>\n      <td>1</td>\n    </tr>\n    <tr>\n      <th>3</th>\n      <td>25.00</td>\n      <td>24.75</td>\n      <td>24.56</td>\n      <td>25.44</td>\n      <td>121</td>\n      <td>34</td>\n      <td>53</td>\n      <td>40</td>\n      <td>0.41</td>\n      <td>0.10</td>\n      <td>0.10</td>\n      <td>0.09</td>\n      <td>390</td>\n      <td>0.388462</td>\n      <td>0</td>\n      <td>0</td>\n      <td>1</td>\n    </tr>\n    <tr>\n      <th>4</th>\n      <td>25.00</td>\n      <td>24.75</td>\n      <td>24.56</td>\n      <td>25.44</td>\n      <td>121</td>\n      <td>34</td>\n      <td>54</td>\n      <td>40</td>\n      <td>0.18</td>\n      <td>0.06</td>\n      <td>0.06</td>\n      <td>0.06</td>\n      <td>390</td>\n      <td>0.253846</td>\n      <td>0</td>\n      <td>0</td>\n      <td>1</td>\n    </tr>\n  </tbody>\n</table>\n</div>"
     },
     "execution_count": 13,
     "metadata": {},
     "output_type": "execute_result"
    }
   ],
   "source": [
    "# Filter Date and Time columns\n",
    "df.drop(['Time'], axis=1, inplace=True)\n",
    "df.drop(['Date'], axis=1, inplace=True)\n",
    "\n",
    "# Show the result\n",
    "df.head()"
   ],
   "metadata": {
    "collapsed": false,
    "pycharm": {
     "name": "#%%\n"
    }
   }
  },
  {
   "cell_type": "markdown",
   "source": [
    "## Paso 3: División del *dataset* en *train* y *test*"
   ],
   "metadata": {
    "collapsed": false,
    "pycharm": {
     "name": "#%% md\n"
    }
   }
  },
  {
   "cell_type": "code",
   "execution_count": 14,
   "outputs": [
    {
     "data": {
      "text/plain": "((7596, 17), (2533, 17))"
     },
     "execution_count": 14,
     "metadata": {},
     "output_type": "execute_result"
    }
   ],
   "source": [
    "# Split dataset into train and test\n",
    "train_df, test_df = train_test_split(df) #75% training, 25% test\n",
    "train_df.shape, test_df.shape"
   ],
   "metadata": {
    "collapsed": false,
    "pycharm": {
     "name": "#%%\n"
    }
   }
  },
  {
   "cell_type": "code",
   "execution_count": 15,
   "outputs": [
    {
     "data": {
      "text/plain": "      S1_Temp  S2_Temp  S3_Temp  S4_Temp  S1_Light  S2_Light  S3_Light  \\\n5735    25.31    25.31    25.13    25.88        17        20        75   \n8847    25.38    25.38    25.00    25.50         0         0         0   \n350     26.19    26.88    26.06    26.44        20        24       101   \n2363    25.00    25.00    24.44    25.31         3         3        17   \n7759    25.19    25.19    24.63    25.44         0         0         0   \n\n      S4_Light  S1_Sound  S2_Sound  S3_Sound  S4_Sound  S5_CO2  S5_CO2_Slope  \\\n5735        54      0.08      0.05      0.06      0.10     355      0.000000   \n8847         0      0.07      0.05      0.05      0.08     360      0.000000   \n350         62      0.07      0.05      0.06      0.06     970     -0.300000   \n2363        12      0.08      0.05      0.08      0.06     355      0.003846   \n7759         0      0.08      0.05      0.06      0.10     355      0.000000   \n\n      S6_PIR  S7_PIR  Room_Occupancy_Count  \n5735       0       0                     0  \n8847       0       0                     0  \n350        0       0                     0  \n2363       0       0                     0  \n7759       0       0                     0  ",
      "text/html": "<div>\n<style scoped>\n    .dataframe tbody tr th:only-of-type {\n        vertical-align: middle;\n    }\n\n    .dataframe tbody tr th {\n        vertical-align: top;\n    }\n\n    .dataframe thead th {\n        text-align: right;\n    }\n</style>\n<table border=\"1\" class=\"dataframe\">\n  <thead>\n    <tr style=\"text-align: right;\">\n      <th></th>\n      <th>S1_Temp</th>\n      <th>S2_Temp</th>\n      <th>S3_Temp</th>\n      <th>S4_Temp</th>\n      <th>S1_Light</th>\n      <th>S2_Light</th>\n      <th>S3_Light</th>\n      <th>S4_Light</th>\n      <th>S1_Sound</th>\n      <th>S2_Sound</th>\n      <th>S3_Sound</th>\n      <th>S4_Sound</th>\n      <th>S5_CO2</th>\n      <th>S5_CO2_Slope</th>\n      <th>S6_PIR</th>\n      <th>S7_PIR</th>\n      <th>Room_Occupancy_Count</th>\n    </tr>\n  </thead>\n  <tbody>\n    <tr>\n      <th>5735</th>\n      <td>25.31</td>\n      <td>25.31</td>\n      <td>25.13</td>\n      <td>25.88</td>\n      <td>17</td>\n      <td>20</td>\n      <td>75</td>\n      <td>54</td>\n      <td>0.08</td>\n      <td>0.05</td>\n      <td>0.06</td>\n      <td>0.10</td>\n      <td>355</td>\n      <td>0.000000</td>\n      <td>0</td>\n      <td>0</td>\n      <td>0</td>\n    </tr>\n    <tr>\n      <th>8847</th>\n      <td>25.38</td>\n      <td>25.38</td>\n      <td>25.00</td>\n      <td>25.50</td>\n      <td>0</td>\n      <td>0</td>\n      <td>0</td>\n      <td>0</td>\n      <td>0.07</td>\n      <td>0.05</td>\n      <td>0.05</td>\n      <td>0.08</td>\n      <td>360</td>\n      <td>0.000000</td>\n      <td>0</td>\n      <td>0</td>\n      <td>0</td>\n    </tr>\n    <tr>\n      <th>350</th>\n      <td>26.19</td>\n      <td>26.88</td>\n      <td>26.06</td>\n      <td>26.44</td>\n      <td>20</td>\n      <td>24</td>\n      <td>101</td>\n      <td>62</td>\n      <td>0.07</td>\n      <td>0.05</td>\n      <td>0.06</td>\n      <td>0.06</td>\n      <td>970</td>\n      <td>-0.300000</td>\n      <td>0</td>\n      <td>0</td>\n      <td>0</td>\n    </tr>\n    <tr>\n      <th>2363</th>\n      <td>25.00</td>\n      <td>25.00</td>\n      <td>24.44</td>\n      <td>25.31</td>\n      <td>3</td>\n      <td>3</td>\n      <td>17</td>\n      <td>12</td>\n      <td>0.08</td>\n      <td>0.05</td>\n      <td>0.08</td>\n      <td>0.06</td>\n      <td>355</td>\n      <td>0.003846</td>\n      <td>0</td>\n      <td>0</td>\n      <td>0</td>\n    </tr>\n    <tr>\n      <th>7759</th>\n      <td>25.19</td>\n      <td>25.19</td>\n      <td>24.63</td>\n      <td>25.44</td>\n      <td>0</td>\n      <td>0</td>\n      <td>0</td>\n      <td>0</td>\n      <td>0.08</td>\n      <td>0.05</td>\n      <td>0.06</td>\n      <td>0.10</td>\n      <td>355</td>\n      <td>0.000000</td>\n      <td>0</td>\n      <td>0</td>\n      <td>0</td>\n    </tr>\n  </tbody>\n</table>\n</div>"
     },
     "execution_count": 15,
     "metadata": {},
     "output_type": "execute_result"
    }
   ],
   "source": [
    "train_df.head()"
   ],
   "metadata": {
    "collapsed": false,
    "pycharm": {
     "name": "#%%\n"
    }
   }
  },
  {
   "cell_type": "code",
   "execution_count": 16,
   "outputs": [
    {
     "data": {
      "text/plain": "      S1_Temp  S2_Temp  S3_Temp  S4_Temp  S1_Light  S2_Light  S3_Light  \\\n977     26.19    26.63    25.94    26.25         0         0         0   \n9447    25.19    25.19    24.69    25.25         0         0         0   \n1767    25.31    25.31    24.81    25.69         0         0         0   \n353     26.19    26.81    26.06    26.44        19        23        99   \n6325    25.44    25.44    25.25    26.00         0         0         0   \n\n      S4_Light  S1_Sound  S2_Sound  S3_Sound  S4_Sound  S5_CO2  S5_CO2_Slope  \\\n977          0      0.07      0.05      0.06      0.06    1155     -4.965385   \n9447         0      0.07      0.05      0.06      0.09     345      0.000000   \n1767         0      0.06      0.05      0.06      0.06     365      0.000000   \n353         60      0.08      0.05      0.06      0.06     970     -0.100000   \n6325         0      0.08      0.05      0.06      0.10     350      0.000000   \n\n      S6_PIR  S7_PIR  Room_Occupancy_Count  \n977        0       0                     0  \n9447       0       0                     0  \n1767       0       0                     0  \n353        0       0                     0  \n6325       0       0                     0  ",
      "text/html": "<div>\n<style scoped>\n    .dataframe tbody tr th:only-of-type {\n        vertical-align: middle;\n    }\n\n    .dataframe tbody tr th {\n        vertical-align: top;\n    }\n\n    .dataframe thead th {\n        text-align: right;\n    }\n</style>\n<table border=\"1\" class=\"dataframe\">\n  <thead>\n    <tr style=\"text-align: right;\">\n      <th></th>\n      <th>S1_Temp</th>\n      <th>S2_Temp</th>\n      <th>S3_Temp</th>\n      <th>S4_Temp</th>\n      <th>S1_Light</th>\n      <th>S2_Light</th>\n      <th>S3_Light</th>\n      <th>S4_Light</th>\n      <th>S1_Sound</th>\n      <th>S2_Sound</th>\n      <th>S3_Sound</th>\n      <th>S4_Sound</th>\n      <th>S5_CO2</th>\n      <th>S5_CO2_Slope</th>\n      <th>S6_PIR</th>\n      <th>S7_PIR</th>\n      <th>Room_Occupancy_Count</th>\n    </tr>\n  </thead>\n  <tbody>\n    <tr>\n      <th>977</th>\n      <td>26.19</td>\n      <td>26.63</td>\n      <td>25.94</td>\n      <td>26.25</td>\n      <td>0</td>\n      <td>0</td>\n      <td>0</td>\n      <td>0</td>\n      <td>0.07</td>\n      <td>0.05</td>\n      <td>0.06</td>\n      <td>0.06</td>\n      <td>1155</td>\n      <td>-4.965385</td>\n      <td>0</td>\n      <td>0</td>\n      <td>0</td>\n    </tr>\n    <tr>\n      <th>9447</th>\n      <td>25.19</td>\n      <td>25.19</td>\n      <td>24.69</td>\n      <td>25.25</td>\n      <td>0</td>\n      <td>0</td>\n      <td>0</td>\n      <td>0</td>\n      <td>0.07</td>\n      <td>0.05</td>\n      <td>0.06</td>\n      <td>0.09</td>\n      <td>345</td>\n      <td>0.000000</td>\n      <td>0</td>\n      <td>0</td>\n      <td>0</td>\n    </tr>\n    <tr>\n      <th>1767</th>\n      <td>25.31</td>\n      <td>25.31</td>\n      <td>24.81</td>\n      <td>25.69</td>\n      <td>0</td>\n      <td>0</td>\n      <td>0</td>\n      <td>0</td>\n      <td>0.06</td>\n      <td>0.05</td>\n      <td>0.06</td>\n      <td>0.06</td>\n      <td>365</td>\n      <td>0.000000</td>\n      <td>0</td>\n      <td>0</td>\n      <td>0</td>\n    </tr>\n    <tr>\n      <th>353</th>\n      <td>26.19</td>\n      <td>26.81</td>\n      <td>26.06</td>\n      <td>26.44</td>\n      <td>19</td>\n      <td>23</td>\n      <td>99</td>\n      <td>60</td>\n      <td>0.08</td>\n      <td>0.05</td>\n      <td>0.06</td>\n      <td>0.06</td>\n      <td>970</td>\n      <td>-0.100000</td>\n      <td>0</td>\n      <td>0</td>\n      <td>0</td>\n    </tr>\n    <tr>\n      <th>6325</th>\n      <td>25.44</td>\n      <td>25.44</td>\n      <td>25.25</td>\n      <td>26.00</td>\n      <td>0</td>\n      <td>0</td>\n      <td>0</td>\n      <td>0</td>\n      <td>0.08</td>\n      <td>0.05</td>\n      <td>0.06</td>\n      <td>0.10</td>\n      <td>350</td>\n      <td>0.000000</td>\n      <td>0</td>\n      <td>0</td>\n      <td>0</td>\n    </tr>\n  </tbody>\n</table>\n</div>"
     },
     "execution_count": 16,
     "metadata": {},
     "output_type": "execute_result"
    }
   ],
   "source": [
    "test_df.head()"
   ],
   "metadata": {
    "collapsed": false,
    "pycharm": {
     "name": "#%%\n"
    }
   }
  },
  {
   "cell_type": "markdown",
   "source": [
    "## Paso 4: División del *dataset* de entrenamiento en *features* y *output*"
   ],
   "metadata": {
    "collapsed": false,
    "pycharm": {
     "name": "#%% md\n"
    }
   }
  },
  {
   "cell_type": "code",
   "execution_count": 17,
   "outputs": [],
   "source": [
    "# Get output column\n",
    "train_output = train_df['Room_Occupancy_Count']\n",
    "# Get features columns\n",
    "train_features = train_df.copy()\n",
    "train_features.drop(['Room_Occupancy_Count'], axis=1, inplace=True)"
   ],
   "metadata": {
    "collapsed": false,
    "pycharm": {
     "name": "#%%\n"
    }
   }
  },
  {
   "cell_type": "code",
   "execution_count": 18,
   "outputs": [
    {
     "data": {
      "text/plain": "      S1_Temp  S2_Temp  S3_Temp  S4_Temp  S1_Light  S2_Light  S3_Light  \\\n5735    25.31    25.31    25.13    25.88        17        20        75   \n8847    25.38    25.38    25.00    25.50         0         0         0   \n350     26.19    26.88    26.06    26.44        20        24       101   \n2363    25.00    25.00    24.44    25.31         3         3        17   \n7759    25.19    25.19    24.63    25.44         0         0         0   \n\n      S4_Light  S1_Sound  S2_Sound  S3_Sound  S4_Sound  S5_CO2  S5_CO2_Slope  \\\n5735        54      0.08      0.05      0.06      0.10     355      0.000000   \n8847         0      0.07      0.05      0.05      0.08     360      0.000000   \n350         62      0.07      0.05      0.06      0.06     970     -0.300000   \n2363        12      0.08      0.05      0.08      0.06     355      0.003846   \n7759         0      0.08      0.05      0.06      0.10     355      0.000000   \n\n      S6_PIR  S7_PIR  \n5735       0       0  \n8847       0       0  \n350        0       0  \n2363       0       0  \n7759       0       0  ",
      "text/html": "<div>\n<style scoped>\n    .dataframe tbody tr th:only-of-type {\n        vertical-align: middle;\n    }\n\n    .dataframe tbody tr th {\n        vertical-align: top;\n    }\n\n    .dataframe thead th {\n        text-align: right;\n    }\n</style>\n<table border=\"1\" class=\"dataframe\">\n  <thead>\n    <tr style=\"text-align: right;\">\n      <th></th>\n      <th>S1_Temp</th>\n      <th>S2_Temp</th>\n      <th>S3_Temp</th>\n      <th>S4_Temp</th>\n      <th>S1_Light</th>\n      <th>S2_Light</th>\n      <th>S3_Light</th>\n      <th>S4_Light</th>\n      <th>S1_Sound</th>\n      <th>S2_Sound</th>\n      <th>S3_Sound</th>\n      <th>S4_Sound</th>\n      <th>S5_CO2</th>\n      <th>S5_CO2_Slope</th>\n      <th>S6_PIR</th>\n      <th>S7_PIR</th>\n    </tr>\n  </thead>\n  <tbody>\n    <tr>\n      <th>5735</th>\n      <td>25.31</td>\n      <td>25.31</td>\n      <td>25.13</td>\n      <td>25.88</td>\n      <td>17</td>\n      <td>20</td>\n      <td>75</td>\n      <td>54</td>\n      <td>0.08</td>\n      <td>0.05</td>\n      <td>0.06</td>\n      <td>0.10</td>\n      <td>355</td>\n      <td>0.000000</td>\n      <td>0</td>\n      <td>0</td>\n    </tr>\n    <tr>\n      <th>8847</th>\n      <td>25.38</td>\n      <td>25.38</td>\n      <td>25.00</td>\n      <td>25.50</td>\n      <td>0</td>\n      <td>0</td>\n      <td>0</td>\n      <td>0</td>\n      <td>0.07</td>\n      <td>0.05</td>\n      <td>0.05</td>\n      <td>0.08</td>\n      <td>360</td>\n      <td>0.000000</td>\n      <td>0</td>\n      <td>0</td>\n    </tr>\n    <tr>\n      <th>350</th>\n      <td>26.19</td>\n      <td>26.88</td>\n      <td>26.06</td>\n      <td>26.44</td>\n      <td>20</td>\n      <td>24</td>\n      <td>101</td>\n      <td>62</td>\n      <td>0.07</td>\n      <td>0.05</td>\n      <td>0.06</td>\n      <td>0.06</td>\n      <td>970</td>\n      <td>-0.300000</td>\n      <td>0</td>\n      <td>0</td>\n    </tr>\n    <tr>\n      <th>2363</th>\n      <td>25.00</td>\n      <td>25.00</td>\n      <td>24.44</td>\n      <td>25.31</td>\n      <td>3</td>\n      <td>3</td>\n      <td>17</td>\n      <td>12</td>\n      <td>0.08</td>\n      <td>0.05</td>\n      <td>0.08</td>\n      <td>0.06</td>\n      <td>355</td>\n      <td>0.003846</td>\n      <td>0</td>\n      <td>0</td>\n    </tr>\n    <tr>\n      <th>7759</th>\n      <td>25.19</td>\n      <td>25.19</td>\n      <td>24.63</td>\n      <td>25.44</td>\n      <td>0</td>\n      <td>0</td>\n      <td>0</td>\n      <td>0</td>\n      <td>0.08</td>\n      <td>0.05</td>\n      <td>0.06</td>\n      <td>0.10</td>\n      <td>355</td>\n      <td>0.000000</td>\n      <td>0</td>\n      <td>0</td>\n    </tr>\n  </tbody>\n</table>\n</div>"
     },
     "execution_count": 18,
     "metadata": {},
     "output_type": "execute_result"
    }
   ],
   "source": [
    "train_features.head()"
   ],
   "metadata": {
    "collapsed": false,
    "pycharm": {
     "name": "#%%\n"
    }
   }
  },
  {
   "cell_type": "code",
   "execution_count": 19,
   "outputs": [
    {
     "data": {
      "text/plain": "5735    0\n8847    0\n350     0\n2363    0\n7759    0\nName: Room_Occupancy_Count, dtype: int32"
     },
     "execution_count": 19,
     "metadata": {},
     "output_type": "execute_result"
    }
   ],
   "source": [
    "train_output.head()"
   ],
   "metadata": {
    "collapsed": false,
    "pycharm": {
     "name": "#%%\n"
    }
   }
  },
  {
   "cell_type": "markdown",
   "source": [
    "# 3. Seguimiento de la huella de carbono"
   ],
   "metadata": {
    "collapsed": false,
    "pycharm": {
     "name": "#%% md\n"
    }
   }
  },
  {
   "cell_type": "markdown",
   "source": [
    "## 1. *Logistic Regression*:\n"
   ],
   "metadata": {
    "collapsed": false,
    "pycharm": {
     "name": "#%% md\n"
    }
   }
  },
  {
   "cell_type": "markdown",
   "source": [
    "### CodeCarbon:"
   ],
   "metadata": {
    "collapsed": false,
    "pycharm": {
     "name": "#%% md\n"
    }
   }
  },
  {
   "cell_type": "code",
   "execution_count": 20,
   "outputs": [],
   "source": [
    "# Tracking training with codecarbon tool\n",
    "#tracker = EmissionsTracker()\n",
    "lg_pipeline = Pipeline([(\"scaler\", StandardScaler()), (\"logistic_regression\", LogisticRegression()),])\n",
    "\n",
    "#tracker.start()\n",
    "#lg_pipeline.fit(train_features, train_output)\n",
    "#emissions: float = tracker.stop()\n",
    "#print(f\"Emissions: {emissions} kg\")"
   ],
   "metadata": {
    "collapsed": false,
    "pycharm": {
     "name": "#%%\n"
    }
   }
  },
  {
   "cell_type": "markdown",
   "source": [
    "### Cumulator"
   ],
   "metadata": {
    "collapsed": false,
    "pycharm": {
     "name": "#%% md\n"
    }
   }
  },
  {
   "cell_type": "code",
   "execution_count": 21,
   "outputs": [],
   "source": [
    "#cumulator = base.Cumulator()\n",
    "#cumulator.run(lg_pipeline.fit, X=train_features, y=train_output)\n",
    "#print(cumulator.total_carbon_footprint())\n",
    "#cumulator.display_carbon_footprint()"
   ],
   "metadata": {
    "collapsed": false,
    "pycharm": {
     "name": "#%%\n"
    }
   }
  },
  {
   "cell_type": "markdown",
   "source": [
    "### CarbonTracker"
   ],
   "metadata": {
    "collapsed": false,
    "pycharm": {
     "name": "#%% md\n"
    }
   }
  },
  {
   "cell_type": "code",
   "execution_count": null,
   "outputs": [
    {
     "name": "stdout",
     "output_type": "stream",
     "text": [
      "CarbonTracker: CRITICAL - Traceback (most recent call last):\n",
      "  File \"C:\\Users\\INTEL I5\\miniconda3\\envs\\TFG_Project\\lib\\site-packages\\carbontracker\\tracker.py\", line 124, in run\n",
      "    self.begin()\n",
      "  File \"C:\\Users\\INTEL I5\\miniconda3\\envs\\TFG_Project\\lib\\site-packages\\carbontracker\\tracker.py\", line 138, in begin\n",
      "    self._components_remove_unavailable()\n",
      "  File \"C:\\Users\\INTEL I5\\miniconda3\\envs\\TFG_Project\\lib\\site-packages\\carbontracker\\tracker.py\", line 200, in _components_remove_unavailable\n",
      "    raise exceptions.NoComponentsAvailableError()\n",
      "carbontracker.exceptions.NoComponentsAvailableError: No components were available. CarbonTracker supports Intel CPUs with the RAPL interface and NVIDIA GPUs.\n",
      "\n",
      "CarbonTracker: CRITICAL - Traceback (most recent call last):\n",
      "  File \"C:\\Users\\INTEL I5\\miniconda3\\envs\\TFG_Project\\lib\\site-packages\\carbontracker\\tracker.py\", line 124, in run\n",
      "    self.begin()\n",
      "  File \"C:\\Users\\INTEL I5\\miniconda3\\envs\\TFG_Project\\lib\\site-packages\\carbontracker\\tracker.py\", line 138, in begin\n",
      "    self._components_remove_unavailable()\n",
      "  File \"C:\\Users\\INTEL I5\\miniconda3\\envs\\TFG_Project\\lib\\site-packages\\carbontracker\\tracker.py\", line 200, in _components_remove_unavailable\n",
      "    raise exceptions.NoComponentsAvailableError()\n",
      "carbontracker.exceptions.NoComponentsAvailableError: No components were available. CarbonTracker supports Intel CPUs with the RAPL interface and NVIDIA GPUs.\n",
      "\n",
      "CarbonTracker: Traceback (most recent call last):\n",
      "  File \"C:\\Users\\INTEL I5\\miniconda3\\envs\\TFG_Project\\lib\\site-packages\\carbontracker\\tracker.py\", line 124, in run\n",
      "    self.begin()\n",
      "  File \"C:\\Users\\INTEL I5\\miniconda3\\envs\\TFG_Project\\lib\\site-packages\\carbontracker\\tracker.py\", line 138, in begin\n",
      "    self._components_remove_unavailable()\n",
      "  File \"C:\\Users\\INTEL I5\\miniconda3\\envs\\TFG_Project\\lib\\site-packages\\carbontracker\\tracker.py\", line 200, in _components_remove_unavailable\n",
      "    raise exceptions.NoComponentsAvailableError()\n",
      "carbontracker.exceptions.NoComponentsAvailableError: No components were available. CarbonTracker supports Intel CPUs with the RAPL interface and NVIDIA GPUs.\n",
      "\n",
      "CarbonTracker: Traceback (most recent call last):\n",
      "  File \"C:\\Users\\INTEL I5\\miniconda3\\envs\\TFG_Project\\lib\\site-packages\\carbontracker\\tracker.py\", line 124, in run\n",
      "    self.begin()\n",
      "  File \"C:\\Users\\INTEL I5\\miniconda3\\envs\\TFG_Project\\lib\\site-packages\\carbontracker\\tracker.py\", line 138, in begin\n",
      "    self._components_remove_unavailable()\n",
      "  File \"C:\\Users\\INTEL I5\\miniconda3\\envs\\TFG_Project\\lib\\site-packages\\carbontracker\\tracker.py\", line 200, in _components_remove_unavailable\n",
      "    raise exceptions.NoComponentsAvailableError()\n",
      "carbontracker.exceptions.NoComponentsAvailableError: No components were available. CarbonTracker supports Intel CPUs with the RAPL interface and NVIDIA GPUs.\n",
      "\n"
     ]
    }
   ],
   "source": [
    "from carbontracker.tracker import CarbonTracker\n",
    "max_epochs=1\n",
    "tracker = CarbonTracker(epochs=max_epochs,components=\"cpu\")\n",
    "\n",
    "# Training loop.\n",
    "for epoch in range(max_epochs):\n",
    "    tracker.epoch_start()\n",
    "\n",
    "    # Your model training.\n",
    "    lg_pipeline.fit(train_features, train_output)\n",
    "\n",
    "    tracker.epoch_end()\n",
    "\n",
    "# Optional: Add a stop in case of early termination before all monitor_epochs has\n",
    "# been monitored to ensure that actual consumption is reported.\n",
    "tracker.stop()"
   ],
   "metadata": {
    "collapsed": false,
    "pycharm": {
     "name": "#%%\n",
     "is_executing": true
    }
   }
  },
  {
   "cell_type": "markdown",
   "source": [
    "## 2. *Random Forest*"
   ],
   "metadata": {
    "collapsed": false,
    "pycharm": {
     "name": "#%% md\n"
    }
   }
  },
  {
   "cell_type": "markdown",
   "source": [
    "### CodeCarbon:"
   ],
   "metadata": {
    "collapsed": false,
    "pycharm": {
     "name": "#%% md\n"
    }
   }
  },
  {
   "cell_type": "code",
   "execution_count": 23,
   "outputs": [
    {
     "name": "stderr",
     "output_type": "stream",
     "text": [
      "[codecarbon INFO @ 18:06:24] [setup] RAM Tracking...\n",
      "[codecarbon INFO @ 18:06:24] [setup] GPU Tracking...\n",
      "[codecarbon INFO @ 18:06:24] Tracking Nvidia GPU via pynvml\n",
      "[codecarbon INFO @ 18:06:24] [setup] CPU Tracking...\n",
      "[codecarbon WARNING @ 18:06:24] No CPU tracking mode found. Falling back on CPU constant mode.\n",
      "[codecarbon INFO @ 18:06:27] CPU Model on constant consumption mode: Intel(R) Core(TM) i5-9400F CPU @ 2.90GHz\n",
      "[codecarbon INFO @ 18:06:27] >>> Tracker's metadata:\n",
      "[codecarbon INFO @ 18:06:27]   Platform system: Windows-10-10.0.19044-SP0\n",
      "[codecarbon INFO @ 18:06:27]   Python version: 3.10.4\n",
      "[codecarbon INFO @ 18:06:27]   Available RAM : 7.935 GB\n",
      "[codecarbon INFO @ 18:06:27]   CPU count: 6\n",
      "[codecarbon INFO @ 18:06:27]   CPU model: Intel(R) Core(TM) i5-9400F CPU @ 2.90GHz\n",
      "[codecarbon INFO @ 18:06:27]   GPU count: 1\n",
      "[codecarbon INFO @ 18:06:27]   GPU model: 1 x NVIDIA GeForce GT 710\n",
      "[codecarbon INFO @ 18:06:27] Energy consumed for RAM : 0.000000 kWh. RAM Power : 2.97562837600708 W\n",
      "[codecarbon INFO @ 18:06:27] Energy consumed for all GPUs : 0.000000 kWh. All GPUs Power : 0.0 W\n",
      "[codecarbon INFO @ 18:06:27] Energy consumed for all CPUs : 0.000002 kWh. All CPUs Power : 32.5 W\n",
      "[codecarbon INFO @ 18:06:27] 0.000002 kWh of electricity used since the begining.\n"
     ]
    },
    {
     "name": "stdout",
     "output_type": "stream",
     "text": [
      "Emissions: 4.094688318526983e-07 kg\n"
     ]
    }
   ],
   "source": [
    "# Tracking training with codecarbon tool\n",
    "rnd_clf = RandomForestClassifier(n_estimators=100, max_leaf_nodes=16, n_jobs=-1)\n",
    "tracker = EmissionsTracker()\n",
    "\n",
    "tracker.start()\n",
    "rnd_clf.fit(train_features, train_output)\n",
    "emissions: float = tracker.stop()\n",
    "print(f\"Emissions: {emissions} kg\")"
   ],
   "metadata": {
    "collapsed": false,
    "pycharm": {
     "name": "#%%\n"
    }
   }
  },
  {
   "cell_type": "markdown",
   "source": [
    "## 3. *Support Vector Machine* (SVM)"
   ],
   "metadata": {
    "collapsed": false,
    "pycharm": {
     "name": "#%% md\n"
    }
   }
  },
  {
   "cell_type": "markdown",
   "source": [
    "### CodeCarbon"
   ],
   "metadata": {
    "collapsed": false,
    "pycharm": {
     "name": "#%% md\n"
    }
   }
  },
  {
   "cell_type": "code",
   "execution_count": 24,
   "outputs": [
    {
     "name": "stderr",
     "output_type": "stream",
     "text": [
      "[codecarbon INFO @ 18:06:27] [setup] RAM Tracking...\n",
      "[codecarbon INFO @ 18:06:27] [setup] GPU Tracking...\n",
      "[codecarbon INFO @ 18:06:27] Tracking Nvidia GPU via pynvml\n",
      "[codecarbon INFO @ 18:06:27] [setup] CPU Tracking...\n",
      "[codecarbon WARNING @ 18:06:27] No CPU tracking mode found. Falling back on CPU constant mode.\n",
      "[codecarbon INFO @ 18:06:29] CPU Model on constant consumption mode: Intel(R) Core(TM) i5-9400F CPU @ 2.90GHz\n",
      "[codecarbon INFO @ 18:06:29] >>> Tracker's metadata:\n",
      "[codecarbon INFO @ 18:06:29]   Platform system: Windows-10-10.0.19044-SP0\n",
      "[codecarbon INFO @ 18:06:29]   Python version: 3.10.4\n",
      "[codecarbon INFO @ 18:06:29]   Available RAM : 7.935 GB\n",
      "[codecarbon INFO @ 18:06:29]   CPU count: 6\n",
      "[codecarbon INFO @ 18:06:29]   CPU model: Intel(R) Core(TM) i5-9400F CPU @ 2.90GHz\n",
      "[codecarbon INFO @ 18:06:29]   GPU count: 1\n",
      "[codecarbon INFO @ 18:06:29]   GPU model: 1 x NVIDIA GeForce GT 710\n",
      "C:\\Users\\INTEL I5\\miniconda3\\envs\\TFG_Project\\lib\\site-packages\\sklearn\\svm\\_base.py:1225: ConvergenceWarning: Liblinear failed to converge, increase the number of iterations.\n",
      "  warnings.warn(\n",
      "[codecarbon INFO @ 18:06:29] Energy consumed for RAM : 0.000000 kWh. RAM Power : 2.97562837600708 W\n",
      "[codecarbon INFO @ 18:06:29] Energy consumed for all GPUs : 0.000000 kWh. All GPUs Power : 0.0 W\n",
      "[codecarbon INFO @ 18:06:29] Energy consumed for all CPUs : 0.000001 kWh. All CPUs Power : 32.5 W\n",
      "[codecarbon INFO @ 18:06:29] 0.000001 kWh of electricity used since the begining.\n"
     ]
    },
    {
     "name": "stdout",
     "output_type": "stream",
     "text": [
      "Emissions: 2.0361904608943212e-07 kg\n"
     ]
    }
   ],
   "source": [
    "# Tracking training with codecarbon tool\n",
    "svm_pipeline = Pipeline([(\"scaler\", StandardScaler()),(\"linear_svc\", LinearSVC(C=1, loss=\"hinge\")),])\n",
    "tracker = EmissionsTracker()\n",
    "\n",
    "tracker.start()\n",
    "svm_pipeline.fit(train_features, train_output)\n",
    "emissions: float = tracker.stop()\n",
    "print(f\"Emissions: {emissions} kg\")"
   ],
   "metadata": {
    "collapsed": false,
    "pycharm": {
     "name": "#%%\n"
    }
   }
  },
  {
   "cell_type": "markdown",
   "source": [],
   "metadata": {
    "collapsed": false,
    "pycharm": {
     "name": "#%% md\n"
    }
   }
  }
 ],
 "metadata": {
  "kernelspec": {
   "display_name": "Python 3",
   "language": "python",
   "name": "python3"
  },
  "language_info": {
   "codemirror_mode": {
    "name": "ipython",
    "version": 2
   },
   "file_extension": ".py",
   "mimetype": "text/x-python",
   "name": "python",
   "nbconvert_exporter": "python",
   "pygments_lexer": "ipython2",
   "version": "2.7.6"
  }
 },
 "nbformat": 4,
 "nbformat_minor": 0
}