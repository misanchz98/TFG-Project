{
 "cells": [
  {
   "cell_type": "markdown",
   "source": [
    "# 1. Importación de paquetes"
   ],
   "metadata": {
    "collapsed": false,
    "pycharm": {
     "name": "#%% md\n"
    }
   }
  },
  {
   "cell_type": "code",
   "execution_count": 59,
   "outputs": [],
   "source": [
    "#Import packages\n",
    "from modules import preprocess\n",
    "from modules import training"
   ],
   "metadata": {
    "collapsed": false,
    "pycharm": {
     "name": "#%%\n"
    }
   }
  },
  {
   "cell_type": "markdown",
   "source": [
    "# 2. Preprocesamiento del *dataset*: [Room Occupancy Estimation Data Set](https://www.kaggle.com/ananthr1/room-occupancy-estimation-data-set)"
   ],
   "metadata": {
    "collapsed": false,
    "pycharm": {
     "name": "#%% md\n"
    }
   }
  },
  {
   "cell_type": "markdown",
   "source": [
    "## Paso 1: Lectura del *dataset* y obtención de datos"
   ],
   "metadata": {
    "collapsed": false,
    "pycharm": {
     "name": "#%% md\n"
    }
   }
  },
  {
   "cell_type": "code",
   "execution_count": 60,
   "outputs": [
    {
     "data": {
      "text/plain": "(10129, 19)"
     },
     "execution_count": 60,
     "metadata": {},
     "output_type": "execute_result"
    }
   ],
   "source": [
    "df = preprocess.load_csv_data('Occupancy_Estimation.csv')\n",
    "df.shape"
   ],
   "metadata": {
    "collapsed": false,
    "pycharm": {
     "name": "#%%\n"
    }
   }
  },
  {
   "cell_type": "code",
   "execution_count": 61,
   "outputs": [
    {
     "data": {
      "text/plain": "         Date      Time  S1_Temp  S2_Temp  S3_Temp  S4_Temp  S1_Light  \\\n0  2017/12/22  10:49:41    24.94    24.75    24.56    25.38       121   \n1  2017/12/22  10:50:12    24.94    24.75    24.56    25.44       121   \n2  2017/12/22  10:50:42    25.00    24.75    24.50    25.44       121   \n3  2017/12/22  10:51:13    25.00    24.75    24.56    25.44       121   \n4  2017/12/22  10:51:44    25.00    24.75    24.56    25.44       121   \n\n   S2_Light  S3_Light  S4_Light  S1_Sound  S2_Sound  S3_Sound  S4_Sound  \\\n0        34        53        40      0.08      0.19      0.06      0.06   \n1        33        53        40      0.93      0.05      0.06      0.06   \n2        34        53        40      0.43      0.11      0.08      0.06   \n3        34        53        40      0.41      0.10      0.10      0.09   \n4        34        54        40      0.18      0.06      0.06      0.06   \n\n   S5_CO2  S5_CO2_Slope  S6_PIR  S7_PIR  Room_Occupancy_Count  \n0     390      0.769231       0       0                     1  \n1     390      0.646154       0       0                     1  \n2     390      0.519231       0       0                     1  \n3     390      0.388462       0       0                     1  \n4     390      0.253846       0       0                     1  ",
      "text/html": "<div>\n<style scoped>\n    .dataframe tbody tr th:only-of-type {\n        vertical-align: middle;\n    }\n\n    .dataframe tbody tr th {\n        vertical-align: top;\n    }\n\n    .dataframe thead th {\n        text-align: right;\n    }\n</style>\n<table border=\"1\" class=\"dataframe\">\n  <thead>\n    <tr style=\"text-align: right;\">\n      <th></th>\n      <th>Date</th>\n      <th>Time</th>\n      <th>S1_Temp</th>\n      <th>S2_Temp</th>\n      <th>S3_Temp</th>\n      <th>S4_Temp</th>\n      <th>S1_Light</th>\n      <th>S2_Light</th>\n      <th>S3_Light</th>\n      <th>S4_Light</th>\n      <th>S1_Sound</th>\n      <th>S2_Sound</th>\n      <th>S3_Sound</th>\n      <th>S4_Sound</th>\n      <th>S5_CO2</th>\n      <th>S5_CO2_Slope</th>\n      <th>S6_PIR</th>\n      <th>S7_PIR</th>\n      <th>Room_Occupancy_Count</th>\n    </tr>\n  </thead>\n  <tbody>\n    <tr>\n      <th>0</th>\n      <td>2017/12/22</td>\n      <td>10:49:41</td>\n      <td>24.94</td>\n      <td>24.75</td>\n      <td>24.56</td>\n      <td>25.38</td>\n      <td>121</td>\n      <td>34</td>\n      <td>53</td>\n      <td>40</td>\n      <td>0.08</td>\n      <td>0.19</td>\n      <td>0.06</td>\n      <td>0.06</td>\n      <td>390</td>\n      <td>0.769231</td>\n      <td>0</td>\n      <td>0</td>\n      <td>1</td>\n    </tr>\n    <tr>\n      <th>1</th>\n      <td>2017/12/22</td>\n      <td>10:50:12</td>\n      <td>24.94</td>\n      <td>24.75</td>\n      <td>24.56</td>\n      <td>25.44</td>\n      <td>121</td>\n      <td>33</td>\n      <td>53</td>\n      <td>40</td>\n      <td>0.93</td>\n      <td>0.05</td>\n      <td>0.06</td>\n      <td>0.06</td>\n      <td>390</td>\n      <td>0.646154</td>\n      <td>0</td>\n      <td>0</td>\n      <td>1</td>\n    </tr>\n    <tr>\n      <th>2</th>\n      <td>2017/12/22</td>\n      <td>10:50:42</td>\n      <td>25.00</td>\n      <td>24.75</td>\n      <td>24.50</td>\n      <td>25.44</td>\n      <td>121</td>\n      <td>34</td>\n      <td>53</td>\n      <td>40</td>\n      <td>0.43</td>\n      <td>0.11</td>\n      <td>0.08</td>\n      <td>0.06</td>\n      <td>390</td>\n      <td>0.519231</td>\n      <td>0</td>\n      <td>0</td>\n      <td>1</td>\n    </tr>\n    <tr>\n      <th>3</th>\n      <td>2017/12/22</td>\n      <td>10:51:13</td>\n      <td>25.00</td>\n      <td>24.75</td>\n      <td>24.56</td>\n      <td>25.44</td>\n      <td>121</td>\n      <td>34</td>\n      <td>53</td>\n      <td>40</td>\n      <td>0.41</td>\n      <td>0.10</td>\n      <td>0.10</td>\n      <td>0.09</td>\n      <td>390</td>\n      <td>0.388462</td>\n      <td>0</td>\n      <td>0</td>\n      <td>1</td>\n    </tr>\n    <tr>\n      <th>4</th>\n      <td>2017/12/22</td>\n      <td>10:51:44</td>\n      <td>25.00</td>\n      <td>24.75</td>\n      <td>24.56</td>\n      <td>25.44</td>\n      <td>121</td>\n      <td>34</td>\n      <td>54</td>\n      <td>40</td>\n      <td>0.18</td>\n      <td>0.06</td>\n      <td>0.06</td>\n      <td>0.06</td>\n      <td>390</td>\n      <td>0.253846</td>\n      <td>0</td>\n      <td>0</td>\n      <td>1</td>\n    </tr>\n  </tbody>\n</table>\n</div>"
     },
     "execution_count": 61,
     "metadata": {},
     "output_type": "execute_result"
    }
   ],
   "source": [
    "df.head()"
   ],
   "metadata": {
    "collapsed": false,
    "pycharm": {
     "name": "#%%\n"
    }
   }
  },
  {
   "cell_type": "markdown",
   "source": [
    "## Paso 2: Recodificación de la columna *RoomOccupancyCount*\n",
    "\n",
    "En este caso, la columna que contiene la variable de salida (*RoomOccupancyCount*) cuenta el número de personas en la sala. Para simplificar, nuestro objetivo va a ser detectar si la sala está vacía o, en cambio, hay alguien (no el número exacto de personas).\n",
    "\n",
    "Por lo tanto, se **recodificará cualquier valor mayor que 0 en esa columna como 1**, de tal forma que la variable de salida sea binaria:\n",
    "- 0 -> ausencia.\n",
    "- 1 -> presencia."
   ],
   "metadata": {
    "collapsed": false,
    "pycharm": {
     "name": "#%% md\n"
    }
   }
  },
  {
   "cell_type": "code",
   "execution_count": 62,
   "outputs": [
    {
     "data": {
      "text/plain": "0        1\n1        1\n2        1\n3        1\n4        1\n        ..\n10124    0\n10125    0\n10126    0\n10127    0\n10128    0\nName: Room_Occupancy_Count, Length: 10129, dtype: int64"
     },
     "execution_count": 62,
     "metadata": {},
     "output_type": "execute_result"
    }
   ],
   "source": [
    "# Show \"Room_Occupancy_Count\" before processing\n",
    "df[\"Room_Occupancy_Count\"]"
   ],
   "metadata": {
    "collapsed": false,
    "pycharm": {
     "name": "#%%\n"
    }
   }
  },
  {
   "cell_type": "code",
   "execution_count": 63,
   "outputs": [
    {
     "data": {
      "text/plain": "0        1\n1        1\n2        1\n3        1\n4        1\n        ..\n10124    0\n10125    0\n10126    0\n10127    0\n10128    0\nName: Room_Occupancy_Count, Length: 10129, dtype: int32"
     },
     "execution_count": 63,
     "metadata": {},
     "output_type": "execute_result"
    }
   ],
   "source": [
    "#Process \"Room_Occupancy_Count\"\n",
    "preprocess.recode_dataset_output(df)\n",
    "\n",
    "# Show \"Room_Occupancy_Count\" after processing\n",
    "df[\"Room_Occupancy_Count\"]"
   ],
   "metadata": {
    "collapsed": false,
    "pycharm": {
     "name": "#%%\n"
    }
   }
  },
  {
   "cell_type": "markdown",
   "source": [
    "## Paso 3: Eliminación de las columnas temporales *Date* y *Time*\n",
    "\n",
    "Respecto a los datos ofrecidos por las columas *Date* y *Time*, vamos a filtrarlos y dejarlos fuera del proceso. Ya que, aunque los incluyeramos (por ejemplo, juntando ambas partes en una sola columna y convirtiéndolo a formato 'epoch', como long int), los valores de muestras sucesivas de esa columna estarían totalmente correlados entre sí y, como consecuencia, fastidiaríamos a la mayoría de algoritmos que vamos a emplear posteriormente.\n",
    "\n",
    "Se debe tener en cuenta que no nos estamos olvidando de la información temporal para considerar como si cada valor muestreado (fila de la tabla) fuese independiente de las demás filas. Sabemos que eso no es así, pero estamos considerando que esa información temporal no nos ofrece valor añadido para predecir si la habitación está ocupada o vacía. En caso contrario, se tendrían que usar modelos bastante más complicados para considerar esa relación temporal que indica que, en realidad, las muestras de dos filas adyacentes son consecutivas en el tiempo."
   ],
   "metadata": {
    "collapsed": false,
    "pycharm": {
     "name": "#%% md\n"
    }
   }
  },
  {
   "cell_type": "code",
   "execution_count": 64,
   "outputs": [
    {
     "data": {
      "text/plain": "   S1_Temp  S2_Temp  S3_Temp  S4_Temp  S1_Light  S2_Light  S3_Light  S4_Light  \\\n0    24.94    24.75    24.56    25.38       121        34        53        40   \n1    24.94    24.75    24.56    25.44       121        33        53        40   \n2    25.00    24.75    24.50    25.44       121        34        53        40   \n3    25.00    24.75    24.56    25.44       121        34        53        40   \n4    25.00    24.75    24.56    25.44       121        34        54        40   \n\n   S1_Sound  S2_Sound  S3_Sound  S4_Sound  S5_CO2  S5_CO2_Slope  S6_PIR  \\\n0      0.08      0.19      0.06      0.06     390      0.769231       0   \n1      0.93      0.05      0.06      0.06     390      0.646154       0   \n2      0.43      0.11      0.08      0.06     390      0.519231       0   \n3      0.41      0.10      0.10      0.09     390      0.388462       0   \n4      0.18      0.06      0.06      0.06     390      0.253846       0   \n\n   S7_PIR  Room_Occupancy_Count  \n0       0                     1  \n1       0                     1  \n2       0                     1  \n3       0                     1  \n4       0                     1  ",
      "text/html": "<div>\n<style scoped>\n    .dataframe tbody tr th:only-of-type {\n        vertical-align: middle;\n    }\n\n    .dataframe tbody tr th {\n        vertical-align: top;\n    }\n\n    .dataframe thead th {\n        text-align: right;\n    }\n</style>\n<table border=\"1\" class=\"dataframe\">\n  <thead>\n    <tr style=\"text-align: right;\">\n      <th></th>\n      <th>S1_Temp</th>\n      <th>S2_Temp</th>\n      <th>S3_Temp</th>\n      <th>S4_Temp</th>\n      <th>S1_Light</th>\n      <th>S2_Light</th>\n      <th>S3_Light</th>\n      <th>S4_Light</th>\n      <th>S1_Sound</th>\n      <th>S2_Sound</th>\n      <th>S3_Sound</th>\n      <th>S4_Sound</th>\n      <th>S5_CO2</th>\n      <th>S5_CO2_Slope</th>\n      <th>S6_PIR</th>\n      <th>S7_PIR</th>\n      <th>Room_Occupancy_Count</th>\n    </tr>\n  </thead>\n  <tbody>\n    <tr>\n      <th>0</th>\n      <td>24.94</td>\n      <td>24.75</td>\n      <td>24.56</td>\n      <td>25.38</td>\n      <td>121</td>\n      <td>34</td>\n      <td>53</td>\n      <td>40</td>\n      <td>0.08</td>\n      <td>0.19</td>\n      <td>0.06</td>\n      <td>0.06</td>\n      <td>390</td>\n      <td>0.769231</td>\n      <td>0</td>\n      <td>0</td>\n      <td>1</td>\n    </tr>\n    <tr>\n      <th>1</th>\n      <td>24.94</td>\n      <td>24.75</td>\n      <td>24.56</td>\n      <td>25.44</td>\n      <td>121</td>\n      <td>33</td>\n      <td>53</td>\n      <td>40</td>\n      <td>0.93</td>\n      <td>0.05</td>\n      <td>0.06</td>\n      <td>0.06</td>\n      <td>390</td>\n      <td>0.646154</td>\n      <td>0</td>\n      <td>0</td>\n      <td>1</td>\n    </tr>\n    <tr>\n      <th>2</th>\n      <td>25.00</td>\n      <td>24.75</td>\n      <td>24.50</td>\n      <td>25.44</td>\n      <td>121</td>\n      <td>34</td>\n      <td>53</td>\n      <td>40</td>\n      <td>0.43</td>\n      <td>0.11</td>\n      <td>0.08</td>\n      <td>0.06</td>\n      <td>390</td>\n      <td>0.519231</td>\n      <td>0</td>\n      <td>0</td>\n      <td>1</td>\n    </tr>\n    <tr>\n      <th>3</th>\n      <td>25.00</td>\n      <td>24.75</td>\n      <td>24.56</td>\n      <td>25.44</td>\n      <td>121</td>\n      <td>34</td>\n      <td>53</td>\n      <td>40</td>\n      <td>0.41</td>\n      <td>0.10</td>\n      <td>0.10</td>\n      <td>0.09</td>\n      <td>390</td>\n      <td>0.388462</td>\n      <td>0</td>\n      <td>0</td>\n      <td>1</td>\n    </tr>\n    <tr>\n      <th>4</th>\n      <td>25.00</td>\n      <td>24.75</td>\n      <td>24.56</td>\n      <td>25.44</td>\n      <td>121</td>\n      <td>34</td>\n      <td>54</td>\n      <td>40</td>\n      <td>0.18</td>\n      <td>0.06</td>\n      <td>0.06</td>\n      <td>0.06</td>\n      <td>390</td>\n      <td>0.253846</td>\n      <td>0</td>\n      <td>0</td>\n      <td>1</td>\n    </tr>\n  </tbody>\n</table>\n</div>"
     },
     "execution_count": 64,
     "metadata": {},
     "output_type": "execute_result"
    }
   ],
   "source": [
    "# Filter Date and Time columns\n",
    "preprocess.remove_time_columns(df)\n",
    "\n",
    "# Show the result\n",
    "df.head()"
   ],
   "metadata": {
    "collapsed": false,
    "pycharm": {
     "name": "#%%\n"
    }
   }
  },
  {
   "cell_type": "markdown",
   "source": [
    "## Paso 4: División del *dataset* en *train* y *test*"
   ],
   "metadata": {
    "collapsed": false,
    "pycharm": {
     "name": "#%% md\n"
    }
   }
  },
  {
   "cell_type": "code",
   "execution_count": 65,
   "outputs": [
    {
     "data": {
      "text/plain": "((7596, 17), (2533, 17))"
     },
     "execution_count": 65,
     "metadata": {},
     "output_type": "execute_result"
    }
   ],
   "source": [
    "# Split dataset into train and test\n",
    "train_df, test_df = preprocess.split_dataset(df)\n",
    "train_df.shape, test_df.shape"
   ],
   "metadata": {
    "collapsed": false,
    "pycharm": {
     "name": "#%%\n"
    }
   }
  },
  {
   "cell_type": "code",
   "execution_count": 66,
   "outputs": [
    {
     "data": {
      "text/plain": "      S1_Temp  S2_Temp  S3_Temp  S4_Temp  S1_Light  S2_Light  S3_Light  \\\n894     26.31    27.94    26.06    26.44       150       239       182   \n1165    25.69    25.69    25.31    25.88         0         0         0   \n249     26.00    27.88    25.81    26.19       164       253       270   \n9011    25.31    25.31    24.94    25.38         0         0         0   \n1659    25.38    25.31    24.88    25.75         0         0         0   \n\n      S4_Light  S1_Sound  S2_Sound  S3_Sound  S4_Sound  S5_CO2  S5_CO2_Slope  \\\n894         11      1.65      0.34      0.10      0.09    1210      0.426923   \n1165         0      0.07      0.05      0.06      0.06     620     -2.200000   \n249         70      0.15      0.14      0.07      0.07     860      0.880769   \n9011         0      0.06      0.05      0.05      0.09     345      0.000000   \n1659         0      0.07      0.05      0.06      0.06     370      0.000000   \n\n      S6_PIR  S7_PIR  Room_Occupancy_Count  \n894        1       0                     1  \n1165       0       0                     0  \n249        0       1                     1  \n9011       0       0                     0  \n1659       0       0                     0  ",
      "text/html": "<div>\n<style scoped>\n    .dataframe tbody tr th:only-of-type {\n        vertical-align: middle;\n    }\n\n    .dataframe tbody tr th {\n        vertical-align: top;\n    }\n\n    .dataframe thead th {\n        text-align: right;\n    }\n</style>\n<table border=\"1\" class=\"dataframe\">\n  <thead>\n    <tr style=\"text-align: right;\">\n      <th></th>\n      <th>S1_Temp</th>\n      <th>S2_Temp</th>\n      <th>S3_Temp</th>\n      <th>S4_Temp</th>\n      <th>S1_Light</th>\n      <th>S2_Light</th>\n      <th>S3_Light</th>\n      <th>S4_Light</th>\n      <th>S1_Sound</th>\n      <th>S2_Sound</th>\n      <th>S3_Sound</th>\n      <th>S4_Sound</th>\n      <th>S5_CO2</th>\n      <th>S5_CO2_Slope</th>\n      <th>S6_PIR</th>\n      <th>S7_PIR</th>\n      <th>Room_Occupancy_Count</th>\n    </tr>\n  </thead>\n  <tbody>\n    <tr>\n      <th>894</th>\n      <td>26.31</td>\n      <td>27.94</td>\n      <td>26.06</td>\n      <td>26.44</td>\n      <td>150</td>\n      <td>239</td>\n      <td>182</td>\n      <td>11</td>\n      <td>1.65</td>\n      <td>0.34</td>\n      <td>0.10</td>\n      <td>0.09</td>\n      <td>1210</td>\n      <td>0.426923</td>\n      <td>1</td>\n      <td>0</td>\n      <td>1</td>\n    </tr>\n    <tr>\n      <th>1165</th>\n      <td>25.69</td>\n      <td>25.69</td>\n      <td>25.31</td>\n      <td>25.88</td>\n      <td>0</td>\n      <td>0</td>\n      <td>0</td>\n      <td>0</td>\n      <td>0.07</td>\n      <td>0.05</td>\n      <td>0.06</td>\n      <td>0.06</td>\n      <td>620</td>\n      <td>-2.200000</td>\n      <td>0</td>\n      <td>0</td>\n      <td>0</td>\n    </tr>\n    <tr>\n      <th>249</th>\n      <td>26.00</td>\n      <td>27.88</td>\n      <td>25.81</td>\n      <td>26.19</td>\n      <td>164</td>\n      <td>253</td>\n      <td>270</td>\n      <td>70</td>\n      <td>0.15</td>\n      <td>0.14</td>\n      <td>0.07</td>\n      <td>0.07</td>\n      <td>860</td>\n      <td>0.880769</td>\n      <td>0</td>\n      <td>1</td>\n      <td>1</td>\n    </tr>\n    <tr>\n      <th>9011</th>\n      <td>25.31</td>\n      <td>25.31</td>\n      <td>24.94</td>\n      <td>25.38</td>\n      <td>0</td>\n      <td>0</td>\n      <td>0</td>\n      <td>0</td>\n      <td>0.06</td>\n      <td>0.05</td>\n      <td>0.05</td>\n      <td>0.09</td>\n      <td>345</td>\n      <td>0.000000</td>\n      <td>0</td>\n      <td>0</td>\n      <td>0</td>\n    </tr>\n    <tr>\n      <th>1659</th>\n      <td>25.38</td>\n      <td>25.31</td>\n      <td>24.88</td>\n      <td>25.75</td>\n      <td>0</td>\n      <td>0</td>\n      <td>0</td>\n      <td>0</td>\n      <td>0.07</td>\n      <td>0.05</td>\n      <td>0.06</td>\n      <td>0.06</td>\n      <td>370</td>\n      <td>0.000000</td>\n      <td>0</td>\n      <td>0</td>\n      <td>0</td>\n    </tr>\n  </tbody>\n</table>\n</div>"
     },
     "execution_count": 66,
     "metadata": {},
     "output_type": "execute_result"
    }
   ],
   "source": [
    "train_df.head()"
   ],
   "metadata": {
    "collapsed": false,
    "pycharm": {
     "name": "#%%\n"
    }
   }
  },
  {
   "cell_type": "code",
   "execution_count": 67,
   "outputs": [
    {
     "data": {
      "text/plain": "      S1_Temp  S2_Temp  S3_Temp  S4_Temp  S1_Light  S2_Light  S3_Light  \\\n8773    25.38    25.44    25.06    25.56         0         0         0   \n9828    25.13    25.13    24.56    25.19         0         0         0   \n4211    25.44    25.44    25.00    25.56         0         0         0   \n783     26.31    26.38    26.00    26.38       149       236       180   \n5142    25.06    25.13    24.50    25.38         3         3        18   \n\n      S4_Light  S1_Sound  S2_Sound  S3_Sound  S4_Sound  S5_CO2  S5_CO2_Slope  \\\n8773         0      0.07      0.05      0.05      0.09     370     -0.042308   \n9828         0      0.07      0.05      0.06      0.07     345      0.000000   \n4211         0      0.07      0.05      0.06      0.06     375      0.000000   \n783         10      0.44      0.31      1.34      0.27     965      3.876923   \n5142        13      0.07      0.05      0.05      0.05     360      0.065385   \n\n      S6_PIR  S7_PIR  Room_Occupancy_Count  \n8773       0       0                     0  \n9828       0       0                     0  \n4211       0       0                     0  \n783        0       0                     1  \n5142       0       0                     0  ",
      "text/html": "<div>\n<style scoped>\n    .dataframe tbody tr th:only-of-type {\n        vertical-align: middle;\n    }\n\n    .dataframe tbody tr th {\n        vertical-align: top;\n    }\n\n    .dataframe thead th {\n        text-align: right;\n    }\n</style>\n<table border=\"1\" class=\"dataframe\">\n  <thead>\n    <tr style=\"text-align: right;\">\n      <th></th>\n      <th>S1_Temp</th>\n      <th>S2_Temp</th>\n      <th>S3_Temp</th>\n      <th>S4_Temp</th>\n      <th>S1_Light</th>\n      <th>S2_Light</th>\n      <th>S3_Light</th>\n      <th>S4_Light</th>\n      <th>S1_Sound</th>\n      <th>S2_Sound</th>\n      <th>S3_Sound</th>\n      <th>S4_Sound</th>\n      <th>S5_CO2</th>\n      <th>S5_CO2_Slope</th>\n      <th>S6_PIR</th>\n      <th>S7_PIR</th>\n      <th>Room_Occupancy_Count</th>\n    </tr>\n  </thead>\n  <tbody>\n    <tr>\n      <th>8773</th>\n      <td>25.38</td>\n      <td>25.44</td>\n      <td>25.06</td>\n      <td>25.56</td>\n      <td>0</td>\n      <td>0</td>\n      <td>0</td>\n      <td>0</td>\n      <td>0.07</td>\n      <td>0.05</td>\n      <td>0.05</td>\n      <td>0.09</td>\n      <td>370</td>\n      <td>-0.042308</td>\n      <td>0</td>\n      <td>0</td>\n      <td>0</td>\n    </tr>\n    <tr>\n      <th>9828</th>\n      <td>25.13</td>\n      <td>25.13</td>\n      <td>24.56</td>\n      <td>25.19</td>\n      <td>0</td>\n      <td>0</td>\n      <td>0</td>\n      <td>0</td>\n      <td>0.07</td>\n      <td>0.05</td>\n      <td>0.06</td>\n      <td>0.07</td>\n      <td>345</td>\n      <td>0.000000</td>\n      <td>0</td>\n      <td>0</td>\n      <td>0</td>\n    </tr>\n    <tr>\n      <th>4211</th>\n      <td>25.44</td>\n      <td>25.44</td>\n      <td>25.00</td>\n      <td>25.56</td>\n      <td>0</td>\n      <td>0</td>\n      <td>0</td>\n      <td>0</td>\n      <td>0.07</td>\n      <td>0.05</td>\n      <td>0.06</td>\n      <td>0.06</td>\n      <td>375</td>\n      <td>0.000000</td>\n      <td>0</td>\n      <td>0</td>\n      <td>0</td>\n    </tr>\n    <tr>\n      <th>783</th>\n      <td>26.31</td>\n      <td>26.38</td>\n      <td>26.00</td>\n      <td>26.38</td>\n      <td>149</td>\n      <td>236</td>\n      <td>180</td>\n      <td>10</td>\n      <td>0.44</td>\n      <td>0.31</td>\n      <td>1.34</td>\n      <td>0.27</td>\n      <td>965</td>\n      <td>3.876923</td>\n      <td>0</td>\n      <td>0</td>\n      <td>1</td>\n    </tr>\n    <tr>\n      <th>5142</th>\n      <td>25.06</td>\n      <td>25.13</td>\n      <td>24.50</td>\n      <td>25.38</td>\n      <td>3</td>\n      <td>3</td>\n      <td>18</td>\n      <td>13</td>\n      <td>0.07</td>\n      <td>0.05</td>\n      <td>0.05</td>\n      <td>0.05</td>\n      <td>360</td>\n      <td>0.065385</td>\n      <td>0</td>\n      <td>0</td>\n      <td>0</td>\n    </tr>\n  </tbody>\n</table>\n</div>"
     },
     "execution_count": 67,
     "metadata": {},
     "output_type": "execute_result"
    }
   ],
   "source": [
    "test_df.head()"
   ],
   "metadata": {
    "collapsed": false,
    "pycharm": {
     "name": "#%%\n"
    }
   }
  },
  {
   "cell_type": "markdown",
   "source": [
    "## Paso 5: División del *dataset* de entrenamiento en *features* y *output*"
   ],
   "metadata": {
    "collapsed": false,
    "pycharm": {
     "name": "#%% md\n"
    }
   }
  },
  {
   "cell_type": "code",
   "execution_count": 68,
   "outputs": [],
   "source": [
    "# Get features columns\n",
    "X = preprocess.get_features(train_df)\n",
    "\n",
    "# Get output column\n",
    "y = preprocess.get_output(train_df)"
   ],
   "metadata": {
    "collapsed": false,
    "pycharm": {
     "name": "#%%\n"
    }
   }
  },
  {
   "cell_type": "code",
   "execution_count": 69,
   "outputs": [
    {
     "data": {
      "text/plain": "      S1_Temp  S2_Temp  S3_Temp  S4_Temp  S1_Light  S2_Light  S3_Light  \\\n894     26.31    27.94    26.06    26.44       150       239       182   \n1165    25.69    25.69    25.31    25.88         0         0         0   \n249     26.00    27.88    25.81    26.19       164       253       270   \n9011    25.31    25.31    24.94    25.38         0         0         0   \n1659    25.38    25.31    24.88    25.75         0         0         0   \n\n      S4_Light  S1_Sound  S2_Sound  S3_Sound  S4_Sound  S5_CO2  S5_CO2_Slope  \\\n894         11      1.65      0.34      0.10      0.09    1210      0.426923   \n1165         0      0.07      0.05      0.06      0.06     620     -2.200000   \n249         70      0.15      0.14      0.07      0.07     860      0.880769   \n9011         0      0.06      0.05      0.05      0.09     345      0.000000   \n1659         0      0.07      0.05      0.06      0.06     370      0.000000   \n\n      S6_PIR  S7_PIR  \n894        1       0  \n1165       0       0  \n249        0       1  \n9011       0       0  \n1659       0       0  ",
      "text/html": "<div>\n<style scoped>\n    .dataframe tbody tr th:only-of-type {\n        vertical-align: middle;\n    }\n\n    .dataframe tbody tr th {\n        vertical-align: top;\n    }\n\n    .dataframe thead th {\n        text-align: right;\n    }\n</style>\n<table border=\"1\" class=\"dataframe\">\n  <thead>\n    <tr style=\"text-align: right;\">\n      <th></th>\n      <th>S1_Temp</th>\n      <th>S2_Temp</th>\n      <th>S3_Temp</th>\n      <th>S4_Temp</th>\n      <th>S1_Light</th>\n      <th>S2_Light</th>\n      <th>S3_Light</th>\n      <th>S4_Light</th>\n      <th>S1_Sound</th>\n      <th>S2_Sound</th>\n      <th>S3_Sound</th>\n      <th>S4_Sound</th>\n      <th>S5_CO2</th>\n      <th>S5_CO2_Slope</th>\n      <th>S6_PIR</th>\n      <th>S7_PIR</th>\n    </tr>\n  </thead>\n  <tbody>\n    <tr>\n      <th>894</th>\n      <td>26.31</td>\n      <td>27.94</td>\n      <td>26.06</td>\n      <td>26.44</td>\n      <td>150</td>\n      <td>239</td>\n      <td>182</td>\n      <td>11</td>\n      <td>1.65</td>\n      <td>0.34</td>\n      <td>0.10</td>\n      <td>0.09</td>\n      <td>1210</td>\n      <td>0.426923</td>\n      <td>1</td>\n      <td>0</td>\n    </tr>\n    <tr>\n      <th>1165</th>\n      <td>25.69</td>\n      <td>25.69</td>\n      <td>25.31</td>\n      <td>25.88</td>\n      <td>0</td>\n      <td>0</td>\n      <td>0</td>\n      <td>0</td>\n      <td>0.07</td>\n      <td>0.05</td>\n      <td>0.06</td>\n      <td>0.06</td>\n      <td>620</td>\n      <td>-2.200000</td>\n      <td>0</td>\n      <td>0</td>\n    </tr>\n    <tr>\n      <th>249</th>\n      <td>26.00</td>\n      <td>27.88</td>\n      <td>25.81</td>\n      <td>26.19</td>\n      <td>164</td>\n      <td>253</td>\n      <td>270</td>\n      <td>70</td>\n      <td>0.15</td>\n      <td>0.14</td>\n      <td>0.07</td>\n      <td>0.07</td>\n      <td>860</td>\n      <td>0.880769</td>\n      <td>0</td>\n      <td>1</td>\n    </tr>\n    <tr>\n      <th>9011</th>\n      <td>25.31</td>\n      <td>25.31</td>\n      <td>24.94</td>\n      <td>25.38</td>\n      <td>0</td>\n      <td>0</td>\n      <td>0</td>\n      <td>0</td>\n      <td>0.06</td>\n      <td>0.05</td>\n      <td>0.05</td>\n      <td>0.09</td>\n      <td>345</td>\n      <td>0.000000</td>\n      <td>0</td>\n      <td>0</td>\n    </tr>\n    <tr>\n      <th>1659</th>\n      <td>25.38</td>\n      <td>25.31</td>\n      <td>24.88</td>\n      <td>25.75</td>\n      <td>0</td>\n      <td>0</td>\n      <td>0</td>\n      <td>0</td>\n      <td>0.07</td>\n      <td>0.05</td>\n      <td>0.06</td>\n      <td>0.06</td>\n      <td>370</td>\n      <td>0.000000</td>\n      <td>0</td>\n      <td>0</td>\n    </tr>\n  </tbody>\n</table>\n</div>"
     },
     "execution_count": 69,
     "metadata": {},
     "output_type": "execute_result"
    }
   ],
   "source": [
    "X.head()"
   ],
   "metadata": {
    "collapsed": false,
    "pycharm": {
     "name": "#%%\n"
    }
   }
  },
  {
   "cell_type": "code",
   "execution_count": 70,
   "outputs": [
    {
     "data": {
      "text/plain": "894     1\n1165    0\n249     1\n9011    0\n1659    0\nName: Room_Occupancy_Count, dtype: int32"
     },
     "execution_count": 70,
     "metadata": {},
     "output_type": "execute_result"
    }
   ],
   "source": [
    "y.head()"
   ],
   "metadata": {
    "collapsed": false,
    "pycharm": {
     "name": "#%%\n"
    }
   }
  },
  {
   "cell_type": "markdown",
   "source": [
    "# 2. Entrenamiento y seguimiento de la huella de carbono con **CodeCarbon**"
   ],
   "metadata": {
    "collapsed": false,
    "pycharm": {
     "name": "#%% md\n"
    }
   }
  },
  {
   "cell_type": "code",
   "execution_count": 74,
   "outputs": [
    {
     "name": "stdout",
     "output_type": "stream",
     "text": [
      "Requirement already satisfied: eco2ai in c:\\users\\intel i5\\miniconda3\\envs\\tfg_project\\lib\\site-packages (0.2.7)\n",
      "Requirement already satisfied: tzlocal in c:\\users\\intel i5\\miniconda3\\envs\\tfg_project\\lib\\site-packages (from eco2ai) (4.2)\n",
      "Requirement already satisfied: requests in c:\\users\\intel i5\\miniconda3\\envs\\tfg_project\\lib\\site-packages (from eco2ai) (2.28.1)\n",
      "Requirement already satisfied: tornado in c:\\users\\intel i5\\miniconda3\\envs\\tfg_project\\lib\\site-packages (from eco2ai) (6.1)\n",
      "Requirement already satisfied: psutil<6.0.0,>=5.9.1 in c:\\users\\intel i5\\miniconda3\\envs\\tfg_project\\lib\\site-packages (from eco2ai) (5.9.1)\n",
      "Requirement already satisfied: pandas<=1.4.3,>=1.4.0 in c:\\users\\intel i5\\miniconda3\\envs\\tfg_project\\lib\\site-packages (from eco2ai) (1.4.3)\n",
      "Requirement already satisfied: APScheduler in c:\\users\\intel i5\\miniconda3\\envs\\tfg_project\\lib\\site-packages (from eco2ai) (3.9.1)\n",
      "Requirement already satisfied: pynvml in c:\\users\\intel i5\\miniconda3\\envs\\tfg_project\\lib\\site-packages (from eco2ai) (11.4.1)\n",
      "Requirement already satisfied: py-cpuinfo in c:\\users\\intel i5\\miniconda3\\envs\\tfg_project\\lib\\site-packages (from eco2ai) (8.0.0)\n",
      "Requirement already satisfied: python-dateutil>=2.8.1 in c:\\users\\intel i5\\miniconda3\\envs\\tfg_project\\lib\\site-packages (from pandas<=1.4.3,>=1.4.0->eco2ai) (2.8.2)\n",
      "Requirement already satisfied: pytz>=2020.1 in c:\\users\\intel i5\\miniconda3\\envs\\tfg_project\\lib\\site-packages (from pandas<=1.4.3,>=1.4.0->eco2ai) (2022.1)\n",
      "Requirement already satisfied: numpy>=1.21.0 in c:\\users\\intel i5\\miniconda3\\envs\\tfg_project\\lib\\site-packages (from pandas<=1.4.3,>=1.4.0->eco2ai) (1.23.1)\n",
      "Requirement already satisfied: six>=1.4.0 in c:\\users\\intel i5\\miniconda3\\envs\\tfg_project\\lib\\site-packages (from APScheduler->eco2ai) (1.16.0)\n",
      "Requirement already satisfied: setuptools>=0.7 in c:\\users\\intel i5\\miniconda3\\envs\\tfg_project\\lib\\site-packages (from APScheduler->eco2ai) (61.2.0)\n",
      "Requirement already satisfied: tzdata in c:\\users\\intel i5\\miniconda3\\envs\\tfg_project\\lib\\site-packages (from tzlocal->eco2ai) (2022.2)\n",
      "Requirement already satisfied: pytz-deprecation-shim in c:\\users\\intel i5\\miniconda3\\envs\\tfg_project\\lib\\site-packages (from tzlocal->eco2ai) (0.1.0.post0)\n",
      "Requirement already satisfied: charset-normalizer<3,>=2 in c:\\users\\intel i5\\miniconda3\\envs\\tfg_project\\lib\\site-packages (from requests->eco2ai) (2.1.0)\n",
      "Requirement already satisfied: certifi>=2017.4.17 in c:\\users\\intel i5\\miniconda3\\envs\\tfg_project\\lib\\site-packages (from requests->eco2ai) (2022.6.15)\n",
      "Requirement already satisfied: urllib3<1.27,>=1.21.1 in c:\\users\\intel i5\\miniconda3\\envs\\tfg_project\\lib\\site-packages (from requests->eco2ai) (1.26.10)\n",
      "Requirement already satisfied: idna<4,>=2.5 in c:\\users\\intel i5\\miniconda3\\envs\\tfg_project\\lib\\site-packages (from requests->eco2ai) (3.3)\n",
      "Requirement already satisfied: setuptools in c:\\users\\intel i5\\miniconda3\\envs\\tfg_project\\lib\\site-packages (61.2.0)\n",
      "Collecting setuptools\n",
      "  Downloading setuptools-64.0.3-py3-none-any.whl (1.2 MB)\n",
      "     ---------------------------------------- 1.2/1.2 MB 5.3 MB/s eta 0:00:00\n",
      "Installing collected packages: setuptools\n",
      "  Attempting uninstall: setuptools\n",
      "    Found existing installation: setuptools 61.2.0\n",
      "    Uninstalling setuptools-61.2.0:\n",
      "      Successfully uninstalled setuptools-61.2.0\n",
      "Successfully installed setuptools-64.0.3\n",
      "Collecting Apscheduler\n",
      "  Using cached APScheduler-3.9.1-py2.py3-none-any.whl (59 kB)\n",
      "Collecting setuptools>=0.7\n",
      "  Using cached setuptools-64.0.3-py3-none-any.whl (1.2 MB)\n",
      "Collecting pytz\n",
      "  Downloading pytz-2022.2.1-py2.py3-none-any.whl (500 kB)\n",
      "     -------------------------------------- 500.6/500.6 kB 5.2 MB/s eta 0:00:00\n",
      "Collecting six>=1.4.0\n",
      "  Downloading six-1.16.0-py2.py3-none-any.whl (11 kB)\n",
      "Collecting tzlocal!=3.*,>=2.0\n",
      "  Using cached tzlocal-4.2-py3-none-any.whl (19 kB)\n",
      "Collecting pytz-deprecation-shim\n",
      "  Using cached pytz_deprecation_shim-0.1.0.post0-py2.py3-none-any.whl (15 kB)\n",
      "Collecting tzdata\n",
      "  Using cached tzdata-2022.2-py2.py3-none-any.whl (336 kB)\n",
      "Installing collected packages: pytz, tzdata, six, setuptools, pytz-deprecation-shim, tzlocal, Apscheduler\n",
      "Successfully installed Apscheduler-3.9.1 pytz-2022.2.1 pytz-deprecation-shim-0.1.0.post0 setuptools-64.0.3 six-1.16.0 tzdata-2022.2 tzlocal-4.2\n"
     ]
    }
   ],
   "source": [
    "!pip install eco2ai\n",
    "!pip install --upgrade setuptools\n",
    "!pip install --ignore-installed Apscheduler"
   ],
   "metadata": {
    "collapsed": false,
    "pycharm": {
     "name": "#%%\n"
    }
   }
  },
  {
   "cell_type": "code",
   "execution_count": 75,
   "outputs": [
    {
     "name": "stderr",
     "output_type": "stream",
     "text": [
      "C:\\Users\\INTEL I5\\miniconda3\\envs\\TFG_Project\\lib\\site-packages\\eco2ai\\emission_track.py:211: UserWarning: \n",
      "    If you use a VPN, you may have problems with identifying your country by IP.\n",
      "    It is recommended to disable VPN or\n",
      "    manually install the ISO-Alpha-2 code of your country during initialization of the Tracker() class.\n",
      "    You can find the ISO-Alpha-2 code of your country here: https://www.iban.com/country-codes\n",
      "    \n",
      "  warnings.warn(\n",
      "C:\\Users\\INTEL I5\\miniconda3\\envs\\TFG_Project\\lib\\site-packages\\eco2ai\\tools\\tools_cpu.py:240: NoNeededLibrary: \n",
      "It's impossible to deretmine cpu number correctly\n",
      "For now, number of cpu devices is set to 1\n",
      "\n",
      "\n",
      "  warnings.warn(message=\"\\nIt's impossible to deretmine cpu number correctly\\nFor now, number of cpu devices is set to 1\\n\\n\",\n",
      "C:\\Users\\INTEL I5\\miniconda3\\envs\\TFG_Project\\lib\\site-packages\\eco2ai\\tools\\tools_gpu.py:35: NoGPUWarning: \n",
      "\n",
      "There is no any available GPU devices or your gpu is not supported by Nvidia library!\n",
      "The thacker will consider CPU usage only\n",
      "\n",
      "  warnings.warn(message=\"\\n\\nThere is no any available GPU devices or your gpu is not supported by Nvidia library!\\nThe thacker will consider CPU usage only\\n\",\n"
     ]
    },
    {
     "ename": "LookupError",
     "evalue": "No trigger by the name \"interval\" was found",
     "output_type": "error",
     "traceback": [
      "\u001B[1;31m---------------------------------------------------------------------------\u001B[0m",
      "\u001B[1;31mKeyError\u001B[0m                                  Traceback (most recent call last)",
      "File \u001B[1;32m~\\miniconda3\\envs\\TFG_Project\\lib\\site-packages\\apscheduler\\schedulers\\base.py:900\u001B[0m, in \u001B[0;36mBaseScheduler._create_plugin_instance\u001B[1;34m(self, type_, alias, constructor_kwargs)\u001B[0m\n\u001B[0;32m    899\u001B[0m \u001B[38;5;28;01mtry\u001B[39;00m:\n\u001B[1;32m--> 900\u001B[0m     plugin_cls \u001B[38;5;241m=\u001B[39m \u001B[43mclass_container\u001B[49m\u001B[43m[\u001B[49m\u001B[43malias\u001B[49m\u001B[43m]\u001B[49m\n\u001B[0;32m    901\u001B[0m \u001B[38;5;28;01mexcept\u001B[39;00m \u001B[38;5;167;01mKeyError\u001B[39;00m:\n",
      "\u001B[1;31mKeyError\u001B[0m: 'interval'",
      "\nDuring handling of the above exception, another exception occurred:\n",
      "\u001B[1;31mLookupError\u001B[0m                               Traceback (most recent call last)",
      "Input \u001B[1;32mIn [75]\u001B[0m, in \u001B[0;36m<cell line: 8>\u001B[1;34m()\u001B[0m\n\u001B[0;32m      4\u001B[0m \u001B[38;5;28;01mfrom\u001B[39;00m \u001B[38;5;21;01msklearn\u001B[39;00m\u001B[38;5;21;01m.\u001B[39;00m\u001B[38;5;21;01mpipeline\u001B[39;00m \u001B[38;5;28;01mimport\u001B[39;00m Pipeline\n\u001B[0;32m      6\u001B[0m tracker \u001B[38;5;241m=\u001B[39m eco2ai\u001B[38;5;241m.\u001B[39mTracker(project_name\u001B[38;5;241m=\u001B[39m\u001B[38;5;124m\"\u001B[39m\u001B[38;5;124mTFG-Project\u001B[39m\u001B[38;5;124m\"\u001B[39m, experiment_description\u001B[38;5;241m=\u001B[39m\u001B[38;5;124m\"\u001B[39m\u001B[38;5;124mtraining the Logistic Regression model\u001B[39m\u001B[38;5;124m\"\u001B[39m)\n\u001B[1;32m----> 8\u001B[0m \u001B[43mtracker\u001B[49m\u001B[38;5;241;43m.\u001B[39;49m\u001B[43mstart\u001B[49m\u001B[43m(\u001B[49m\u001B[43m)\u001B[49m\n\u001B[0;32m     10\u001B[0m lg_pipeline \u001B[38;5;241m=\u001B[39m Pipeline([(\u001B[38;5;124m\"\u001B[39m\u001B[38;5;124mscaler\u001B[39m\u001B[38;5;124m\"\u001B[39m, StandardScaler()), (\u001B[38;5;124m\"\u001B[39m\u001B[38;5;124mlogistic_regression\u001B[39m\u001B[38;5;124m\"\u001B[39m, LogisticRegression())])\n\u001B[0;32m     11\u001B[0m lg_pipeline\u001B[38;5;241m.\u001B[39mfit(X, y, epochs\u001B[38;5;241m=\u001B[39m\u001B[38;5;241m1\u001B[39m)\n",
      "File \u001B[1;32m~\\miniconda3\\envs\\TFG_Project\\lib\\site-packages\\eco2ai\\emission_track.py:480\u001B[0m, in \u001B[0;36mTracker.start\u001B[1;34m(self)\u001B[0m\n\u001B[0;32m    478\u001B[0m \u001B[38;5;28mself\u001B[39m\u001B[38;5;241m.\u001B[39m_mode \u001B[38;5;241m=\u001B[39m \u001B[38;5;124m\"\u001B[39m\u001B[38;5;124mfirst_time\u001B[39m\u001B[38;5;124m\"\u001B[39m\n\u001B[0;32m    479\u001B[0m \u001B[38;5;28mself\u001B[39m\u001B[38;5;241m.\u001B[39m_start_time \u001B[38;5;241m=\u001B[39m time\u001B[38;5;241m.\u001B[39mtime()\n\u001B[1;32m--> 480\u001B[0m \u001B[38;5;28;43mself\u001B[39;49m\u001B[38;5;241;43m.\u001B[39;49m\u001B[43m_scheduler\u001B[49m\u001B[38;5;241;43m.\u001B[39;49m\u001B[43madd_job\u001B[49m\u001B[43m(\u001B[49m\u001B[38;5;28;43mself\u001B[39;49m\u001B[38;5;241;43m.\u001B[39;49m\u001B[43m_func_for_sched\u001B[49m\u001B[43m,\u001B[49m\u001B[43m \u001B[49m\u001B[38;5;124;43m\"\u001B[39;49m\u001B[38;5;124;43minterval\u001B[39;49m\u001B[38;5;124;43m\"\u001B[39;49m\u001B[43m,\u001B[49m\u001B[43m \u001B[49m\u001B[43mseconds\u001B[49m\u001B[38;5;241;43m=\u001B[39;49m\u001B[38;5;28;43mself\u001B[39;49m\u001B[38;5;241;43m.\u001B[39;49m\u001B[43m_measure_period\u001B[49m\u001B[43m,\u001B[49m\u001B[43m \u001B[49m\u001B[38;5;28;43mid\u001B[39;49m\u001B[38;5;241;43m=\u001B[39;49m\u001B[38;5;124;43m\"\u001B[39;49m\u001B[38;5;124;43mjob\u001B[39;49m\u001B[38;5;124;43m\"\u001B[39;49m\u001B[43m)\u001B[49m\n\u001B[0;32m    481\u001B[0m \u001B[38;5;28mself\u001B[39m\u001B[38;5;241m.\u001B[39m_scheduler\u001B[38;5;241m.\u001B[39mstart()\n",
      "File \u001B[1;32m~\\miniconda3\\envs\\TFG_Project\\lib\\site-packages\\apscheduler\\schedulers\\base.py:424\u001B[0m, in \u001B[0;36mBaseScheduler.add_job\u001B[1;34m(self, func, trigger, args, kwargs, id, name, misfire_grace_time, coalesce, max_instances, next_run_time, jobstore, executor, replace_existing, **trigger_args)\u001B[0m\n\u001B[0;32m    374\u001B[0m \u001B[38;5;28;01mdef\u001B[39;00m \u001B[38;5;21madd_job\u001B[39m(\u001B[38;5;28mself\u001B[39m, func, trigger\u001B[38;5;241m=\u001B[39m\u001B[38;5;28;01mNone\u001B[39;00m, args\u001B[38;5;241m=\u001B[39m\u001B[38;5;28;01mNone\u001B[39;00m, kwargs\u001B[38;5;241m=\u001B[39m\u001B[38;5;28;01mNone\u001B[39;00m, \u001B[38;5;28mid\u001B[39m\u001B[38;5;241m=\u001B[39m\u001B[38;5;28;01mNone\u001B[39;00m, name\u001B[38;5;241m=\u001B[39m\u001B[38;5;28;01mNone\u001B[39;00m,\n\u001B[0;32m    375\u001B[0m             misfire_grace_time\u001B[38;5;241m=\u001B[39mundefined, coalesce\u001B[38;5;241m=\u001B[39mundefined, max_instances\u001B[38;5;241m=\u001B[39mundefined,\n\u001B[0;32m    376\u001B[0m             next_run_time\u001B[38;5;241m=\u001B[39mundefined, jobstore\u001B[38;5;241m=\u001B[39m\u001B[38;5;124m'\u001B[39m\u001B[38;5;124mdefault\u001B[39m\u001B[38;5;124m'\u001B[39m, executor\u001B[38;5;241m=\u001B[39m\u001B[38;5;124m'\u001B[39m\u001B[38;5;124mdefault\u001B[39m\u001B[38;5;124m'\u001B[39m,\n\u001B[0;32m    377\u001B[0m             replace_existing\u001B[38;5;241m=\u001B[39m\u001B[38;5;28;01mFalse\u001B[39;00m, \u001B[38;5;241m*\u001B[39m\u001B[38;5;241m*\u001B[39mtrigger_args):\n\u001B[0;32m    378\u001B[0m     \u001B[38;5;124;03m\"\"\"\u001B[39;00m\n\u001B[0;32m    379\u001B[0m \u001B[38;5;124;03m    add_job(func, trigger=None, args=None, kwargs=None, id=None, \\\u001B[39;00m\n\u001B[0;32m    380\u001B[0m \u001B[38;5;124;03m        name=None, misfire_grace_time=undefined, coalesce=undefined, \\\u001B[39;00m\n\u001B[1;32m   (...)\u001B[0m\n\u001B[0;32m    421\u001B[0m \n\u001B[0;32m    422\u001B[0m \u001B[38;5;124;03m    \"\"\"\u001B[39;00m\n\u001B[0;32m    423\u001B[0m     job_kwargs \u001B[38;5;241m=\u001B[39m {\n\u001B[1;32m--> 424\u001B[0m         \u001B[38;5;124m'\u001B[39m\u001B[38;5;124mtrigger\u001B[39m\u001B[38;5;124m'\u001B[39m: \u001B[38;5;28;43mself\u001B[39;49m\u001B[38;5;241;43m.\u001B[39;49m\u001B[43m_create_trigger\u001B[49m\u001B[43m(\u001B[49m\u001B[43mtrigger\u001B[49m\u001B[43m,\u001B[49m\u001B[43m \u001B[49m\u001B[43mtrigger_args\u001B[49m\u001B[43m)\u001B[49m,\n\u001B[0;32m    425\u001B[0m         \u001B[38;5;124m'\u001B[39m\u001B[38;5;124mexecutor\u001B[39m\u001B[38;5;124m'\u001B[39m: executor,\n\u001B[0;32m    426\u001B[0m         \u001B[38;5;124m'\u001B[39m\u001B[38;5;124mfunc\u001B[39m\u001B[38;5;124m'\u001B[39m: func,\n\u001B[0;32m    427\u001B[0m         \u001B[38;5;124m'\u001B[39m\u001B[38;5;124margs\u001B[39m\u001B[38;5;124m'\u001B[39m: \u001B[38;5;28mtuple\u001B[39m(args) \u001B[38;5;28;01mif\u001B[39;00m args \u001B[38;5;129;01mis\u001B[39;00m \u001B[38;5;129;01mnot\u001B[39;00m \u001B[38;5;28;01mNone\u001B[39;00m \u001B[38;5;28;01melse\u001B[39;00m (),\n\u001B[0;32m    428\u001B[0m         \u001B[38;5;124m'\u001B[39m\u001B[38;5;124mkwargs\u001B[39m\u001B[38;5;124m'\u001B[39m: \u001B[38;5;28mdict\u001B[39m(kwargs) \u001B[38;5;28;01mif\u001B[39;00m kwargs \u001B[38;5;129;01mis\u001B[39;00m \u001B[38;5;129;01mnot\u001B[39;00m \u001B[38;5;28;01mNone\u001B[39;00m \u001B[38;5;28;01melse\u001B[39;00m {},\n\u001B[0;32m    429\u001B[0m         \u001B[38;5;124m'\u001B[39m\u001B[38;5;124mid\u001B[39m\u001B[38;5;124m'\u001B[39m: \u001B[38;5;28mid\u001B[39m,\n\u001B[0;32m    430\u001B[0m         \u001B[38;5;124m'\u001B[39m\u001B[38;5;124mname\u001B[39m\u001B[38;5;124m'\u001B[39m: name,\n\u001B[0;32m    431\u001B[0m         \u001B[38;5;124m'\u001B[39m\u001B[38;5;124mmisfire_grace_time\u001B[39m\u001B[38;5;124m'\u001B[39m: misfire_grace_time,\n\u001B[0;32m    432\u001B[0m         \u001B[38;5;124m'\u001B[39m\u001B[38;5;124mcoalesce\u001B[39m\u001B[38;5;124m'\u001B[39m: coalesce,\n\u001B[0;32m    433\u001B[0m         \u001B[38;5;124m'\u001B[39m\u001B[38;5;124mmax_instances\u001B[39m\u001B[38;5;124m'\u001B[39m: max_instances,\n\u001B[0;32m    434\u001B[0m         \u001B[38;5;124m'\u001B[39m\u001B[38;5;124mnext_run_time\u001B[39m\u001B[38;5;124m'\u001B[39m: next_run_time\n\u001B[0;32m    435\u001B[0m     }\n\u001B[0;32m    436\u001B[0m     job_kwargs \u001B[38;5;241m=\u001B[39m \u001B[38;5;28mdict\u001B[39m((key, value) \u001B[38;5;28;01mfor\u001B[39;00m key, value \u001B[38;5;129;01min\u001B[39;00m six\u001B[38;5;241m.\u001B[39miteritems(job_kwargs) \u001B[38;5;28;01mif\u001B[39;00m\n\u001B[0;32m    437\u001B[0m                       value \u001B[38;5;129;01mis\u001B[39;00m \u001B[38;5;129;01mnot\u001B[39;00m undefined)\n\u001B[0;32m    438\u001B[0m     job \u001B[38;5;241m=\u001B[39m Job(\u001B[38;5;28mself\u001B[39m, \u001B[38;5;241m*\u001B[39m\u001B[38;5;241m*\u001B[39mjob_kwargs)\n",
      "File \u001B[1;32m~\\miniconda3\\envs\\TFG_Project\\lib\\site-packages\\apscheduler\\schedulers\\base.py:925\u001B[0m, in \u001B[0;36mBaseScheduler._create_trigger\u001B[1;34m(self, trigger, trigger_args)\u001B[0m\n\u001B[0;32m    922\u001B[0m trigger_args\u001B[38;5;241m.\u001B[39msetdefault(\u001B[38;5;124m'\u001B[39m\u001B[38;5;124mtimezone\u001B[39m\u001B[38;5;124m'\u001B[39m, \u001B[38;5;28mself\u001B[39m\u001B[38;5;241m.\u001B[39mtimezone)\n\u001B[0;32m    924\u001B[0m \u001B[38;5;66;03m# Instantiate the trigger class\u001B[39;00m\n\u001B[1;32m--> 925\u001B[0m \u001B[38;5;28;01mreturn\u001B[39;00m \u001B[38;5;28;43mself\u001B[39;49m\u001B[38;5;241;43m.\u001B[39;49m\u001B[43m_create_plugin_instance\u001B[49m\u001B[43m(\u001B[49m\u001B[38;5;124;43m'\u001B[39;49m\u001B[38;5;124;43mtrigger\u001B[39;49m\u001B[38;5;124;43m'\u001B[39;49m\u001B[43m,\u001B[49m\u001B[43m \u001B[49m\u001B[43mtrigger\u001B[49m\u001B[43m,\u001B[49m\u001B[43m \u001B[49m\u001B[43mtrigger_args\u001B[49m\u001B[43m)\u001B[49m\n",
      "File \u001B[1;32m~\\miniconda3\\envs\\TFG_Project\\lib\\site-packages\\apscheduler\\schedulers\\base.py:908\u001B[0m, in \u001B[0;36mBaseScheduler._create_plugin_instance\u001B[1;34m(self, type_, alias, constructor_kwargs)\u001B[0m\n\u001B[0;32m    905\u001B[0m             \u001B[38;5;28;01mraise\u001B[39;00m \u001B[38;5;167;01mTypeError\u001B[39;00m(\u001B[38;5;124m'\u001B[39m\u001B[38;5;124mThe \u001B[39m\u001B[38;5;132;01m{0}\u001B[39;00m\u001B[38;5;124m entry point does not point to a \u001B[39m\u001B[38;5;132;01m{0}\u001B[39;00m\u001B[38;5;124m class\u001B[39m\u001B[38;5;124m'\u001B[39m\u001B[38;5;241m.\u001B[39m\n\u001B[0;32m    906\u001B[0m                             \u001B[38;5;28mformat\u001B[39m(type_))\n\u001B[0;32m    907\u001B[0m     \u001B[38;5;28;01melse\u001B[39;00m:\n\u001B[1;32m--> 908\u001B[0m         \u001B[38;5;28;01mraise\u001B[39;00m \u001B[38;5;167;01mLookupError\u001B[39;00m(\u001B[38;5;124m'\u001B[39m\u001B[38;5;124mNo \u001B[39m\u001B[38;5;132;01m{0}\u001B[39;00m\u001B[38;5;124m by the name \u001B[39m\u001B[38;5;124m\"\u001B[39m\u001B[38;5;132;01m{1}\u001B[39;00m\u001B[38;5;124m\"\u001B[39m\u001B[38;5;124m was found\u001B[39m\u001B[38;5;124m'\u001B[39m\u001B[38;5;241m.\u001B[39mformat(type_, alias))\n\u001B[0;32m    910\u001B[0m \u001B[38;5;28;01mreturn\u001B[39;00m plugin_cls(\u001B[38;5;241m*\u001B[39m\u001B[38;5;241m*\u001B[39mconstructor_kwargs)\n",
      "\u001B[1;31mLookupError\u001B[0m: No trigger by the name \"interval\" was found"
     ]
    }
   ],
   "source": [
    "import eco2ai\n",
    "from sklearn.linear_model import LogisticRegression\n",
    "from sklearn.preprocessing import StandardScaler\n",
    "from sklearn.pipeline import Pipeline\n",
    "\n",
    "tracker = eco2ai.Tracker(project_name=\"TFG-Project\", experiment_description=\"training the Logistic Regression model\")\n",
    "\n",
    "tracker.start()\n",
    "\n",
    "lg_pipeline = Pipeline([(\"scaler\", StandardScaler()), (\"logistic_regression\", LogisticRegression())])\n",
    "lg_pipeline.fit(X, y, epochs=1)\n",
    "\n",
    "tracker.stop()"
   ],
   "metadata": {
    "collapsed": false,
    "pycharm": {
     "name": "#%%\n"
    }
   }
  },
  {
   "cell_type": "code",
   "execution_count": null,
   "outputs": [],
   "source": [
    "# Logistic Regression\n",
    "#training.train_LR_codecarbon(X,y)"
   ],
   "metadata": {
    "collapsed": false,
    "pycharm": {
     "name": "#%%\n"
    }
   }
  },
  {
   "cell_type": "code",
   "execution_count": null,
   "outputs": [],
   "source": [
    "# Random Forest\n",
    "#training.train_RF_codecarbon(X,y)"
   ],
   "metadata": {
    "collapsed": false,
    "pycharm": {
     "name": "#%%\n"
    }
   }
  },
  {
   "cell_type": "code",
   "execution_count": null,
   "outputs": [],
   "source": [
    "# Linear SVC (Support Vector Machines)\n",
    "#training.train_SVC_codecarbon(X,y)"
   ],
   "metadata": {
    "collapsed": false,
    "pycharm": {
     "name": "#%%\n"
    }
   }
  }
 ],
 "metadata": {
  "kernelspec": {
   "display_name": "Python 3",
   "language": "python",
   "name": "python3"
  },
  "language_info": {
   "codemirror_mode": {
    "name": "ipython",
    "version": 2
   },
   "file_extension": ".py",
   "mimetype": "text/x-python",
   "name": "python",
   "nbconvert_exporter": "python",
   "pygments_lexer": "ipython2",
   "version": "2.7.6"
  }
 },
 "nbformat": 4,
 "nbformat_minor": 0
}